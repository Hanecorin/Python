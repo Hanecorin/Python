{
 "cells": [
  {
   "cell_type": "markdown",
   "metadata": {
    "heading_collapsed": true
   },
   "source": [
    "# filter()\n",
    "- `DataFrameGroupBy.filter(func, dropna=True, *args, **kwargs)`\n",
    "- 특정 집계 조건을 만족하는 Group의 행들만 조회한다.\n",
    "    1. DataFrameGroupBy의 group로 DataFrame을 함수에 전달한다.\n",
    "    2. 함수는 받은 DataFrame을 이용해 집계한 값의 조건을 비교해서 반환한다.(반환타입: Bool) \n",
    "    3. 반환값이 True인 Group들의 모든 행들로 구성된 DataFrame을 반환한다.\n",
    "- 매개변수\n",
    "    - func: filtering 조건을 구현한 함수\n",
    "        - 첫번째 매개변수로 Group으로 묶인 DataFrame을 받는다.\n",
    "    - dropna=True\n",
    "        - 필터를 통과하지 못한 group의 DataFrame의 값들을 drop시킨다. False로 설정하면 NA 처리해서 반환한다.\n",
    "    - \\*args, \\*\\*kwargs: filter 함수의 매개변수에 전달할 전달인자값."
   ]
  },
  {
   "cell_type": "code",
   "execution_count": null,
   "metadata": {
    "ExecuteTime": {
     "end_time": "2020-08-10T09:13:05.826634Z",
     "start_time": "2020-08-10T09:13:05.453597Z"
    }
   },
   "outputs": [],
   "source": [
    "import numpy as np\n",
    "import pandas as pd"
   ]
  },
  {
   "cell_type": "code",
   "execution_count": null,
   "metadata": {
    "ExecuteTime": {
     "end_time": "2020-08-10T09:13:05.951269Z",
     "start_time": "2020-08-10T09:13:05.909379Z"
    },
    "hidden": true
   },
   "outputs": [],
   "source": [
    "# cnt1 - 사과: 10대, 귤: 20대, 배: 단단위, 딸기 30이상\n",
    "data = dict(fruits=['사과', '사과','사과', '사과','사과','귤','귤','귤','귤','귤','배','배','배','배','배','딸기','딸기','딸기','딸기','딸기']\n",
    "            ,cnt1=[10, 12, 13, 11, 12, 21, 22, 27, 24, 26, 7, 7, 8, 3, 2, 30, 35, 37, 41, 28]\n",
    "            ,cnt2=[100,  103, 107, 107,  101,  51,  57, 58,  57, 51,  9, 9,  5,  7,  7,  208, 217, 213, 206, 204]\n",
    "           )\n",
    "df = pd.DataFrame(data)\n",
    "df"
   ]
  },
  {
   "cell_type": "markdown",
   "metadata": {
    "heading_collapsed": true,
    "hidden": true
   },
   "source": [
    "#### 과일중 cnt1의 평균이 20 이상인 과일들만 보기\n",
    "- 집계결과가 아니라 조건을 만족하는 행들을 다 출력"
   ]
  },
  {
   "cell_type": "code",
   "execution_count": null,
   "metadata": {},
   "outputs": [],
   "source": []
  },
  {
   "cell_type": "code",
   "execution_count": null,
   "metadata": {},
   "outputs": [],
   "source": []
  },
  {
   "cell_type": "code",
   "execution_count": null,
   "metadata": {},
   "outputs": [],
   "source": []
  },
  {
   "cell_type": "markdown",
   "metadata": {
    "heading_collapsed": true,
    "hidden": true
   },
   "source": [
    "#### 매개변수 있는 filter함수"
   ]
  },
  {
   "cell_type": "code",
   "execution_count": null,
   "metadata": {},
   "outputs": [],
   "source": []
  },
  {
   "cell_type": "code",
   "execution_count": null,
   "metadata": {},
   "outputs": [],
   "source": []
  },
  {
   "cell_type": "code",
   "execution_count": null,
   "metadata": {
    "hidden": true
   },
   "outputs": [],
   "source": []
  },
  {
   "cell_type": "code",
   "execution_count": null,
   "metadata": {},
   "outputs": [],
   "source": []
  },
  {
   "cell_type": "markdown",
   "metadata": {
    "heading_collapsed": true
   },
   "source": [
    "# transform\n",
    "함수에 의해 처리된 값(반환값)으로 원래 값들을 변경(tranform) 해서 반환    \n",
    "DataFrame에 Group 단위 통계량을 추가할 때 유용하다.\n",
    "- `DataFrameGroupBy.transform(func, *args)`, `SeriesGroupBy..transform(func, *args)`\n",
    "    - func: 매개변수로 그룹별로 Series를 받아 Series의 값들을 변환하여 (Series로)반환하는 함수객체\n",
    "        - DataFrameGroupBy은 모든 컬럼의 값들을 group 별 Series로 전달한다.\n",
    "    - *args: 함수에 전달할 추가 인자값이 있으면 매개변수 순서에 맞게 값을 전달한다. (위치기반 argument)\n",
    "- transform() 함수를 groupby() 와 사용하면 컬럼의 각 원소들을 자신이 속한 그룹의 통계량으로 변환된 데이터셋을 생성할 수 있다.\n",
    "- 컬럼의 값과 통계값을 비교해서 보거나 결측치 처리등에 사용할 수있다."
   ]
  },
  {
   "cell_type": "code",
   "execution_count": null,
   "metadata": {},
   "outputs": [],
   "source": []
  },
  {
   "cell_type": "markdown",
   "metadata": {
    "heading_collapsed": true,
    "hidden": true
   },
   "source": [
    "## 원본에 통계치 붙여서 비교하기"
   ]
  },
  {
   "cell_type": "code",
   "execution_count": null,
   "metadata": {},
   "outputs": [],
   "source": []
  },
  {
   "cell_type": "code",
   "execution_count": null,
   "metadata": {},
   "outputs": [],
   "source": []
  },
  {
   "cell_type": "markdown",
   "metadata": {
    "heading_collapsed": true,
    "hidden": true
   },
   "source": [
    "## 결측치 처리\n",
    "- transform이용해서 여기선 결측치를 같은 과일그룹의 평균값으로 변환\n",
    "    - 전체 평균보다 좀더 정확할 수 있다."
   ]
  },
  {
   "cell_type": "code",
   "execution_count": null,
   "metadata": {},
   "outputs": [],
   "source": []
  },
  {
   "cell_type": "code",
   "execution_count": null,
   "metadata": {},
   "outputs": [],
   "source": []
  },
  {
   "cell_type": "code",
   "execution_count": null,
   "metadata": {},
   "outputs": [],
   "source": []
  },
  {
   "cell_type": "code",
   "execution_count": null,
   "metadata": {},
   "outputs": [],
   "source": []
  },
  {
   "cell_type": "code",
   "execution_count": null,
   "metadata": {},
   "outputs": [],
   "source": []
  },
  {
   "cell_type": "markdown",
   "metadata": {},
   "source": [
    "# TODO \n",
    "- data/diamonds.csv 조회"
   ]
  },
  {
   "cell_type": "code",
   "execution_count": null,
   "metadata": {},
   "outputs": [],
   "source": [
    "# cut 별 평균 가격이 4000 이상인 diamond 데이터들 조회 "
   ]
  },
  {
   "cell_type": "code",
   "execution_count": null,
   "metadata": {},
   "outputs": [],
   "source": [
    "# color 별 carat의 최대값과 최소값의 차이가 2이상 3미만인 모든 diamond 데이터들 조회"
   ]
  },
  {
   "cell_type": "code",
   "execution_count": 1,
   "metadata": {
    "ExecuteTime": {
     "end_time": "2020-08-10T09:15:16.487211Z",
     "start_time": "2020-08-10T09:15:16.469260Z"
    }
   },
   "outputs": [],
   "source": [
    "# clarity 별 평균 가격 컬럼을 DataFrame에 추가."
   ]
  },
  {
   "cell_type": "markdown",
   "metadata": {},
   "source": [
    "# pivot_table()\n",
    "엑셀의 pivot table 기능을 제공하는 메소드.    \n",
    "분류별 집계(Group으로 묶어 집계)를 처리하는 함수로 group으로 묶고자 하는 컬럼을 행과 열로 위치시키고 집계값을 값으로 보여준다.    \n",
    "역할은 groupby() 를 이용한 집계와 같다.\n",
    "\n",
    "> pivot() 함수와 역할이 다르다.   \n",
    "> pivot() 은 index와 column의 형태를 바꾸는 reshape 함수.\n",
    "\n",
    "- `DataFrame.pivot_table(values=None, index=None, columns=None, aggfunc='mean', fill_value=None, margins=False, dropna=True, margins_name='All')`\n",
    "- **매개변수**\n",
    "    - index\n",
    "        - 문자열 또는 리스트. index로 올 컬럼들 => groupby였으면 묶었을 컬럼\n",
    "    - columns\n",
    "        - 문자열 또는 리스트. column으로 올 컬럼들 => groupby였으면 묶었을 컬럼 (index/columns가 묶여서 groupby에 묶을 컬럼들이 된다.)\n",
    "    - values\n",
    "        - 문자열 또는 리스트. 집계할 대상 컬럼들\n",
    "    - aggfunc\n",
    "        - 집계함수 지정. 함수, 함수이름문자열, 함수리스트(함수이름 문자열/함수객체), dict: 집계할 함수\n",
    "        - 기본(생략시): 평균을 구한다. (mean이 기본값)\n",
    "    - fill_value, dropna\n",
    "        - fill_value: 집계시 NA가 나올경우 채울 값\n",
    "        - dropna: boolean. 컬럼의 전체값이 NA인 경우 그 컬럼 제거(기본: True)\n",
    "    - margins/margins_name\n",
    "        - margin: boolean(기본: False). 총집계결과를 만들지 여부.\n",
    "        - margin_name: margin의 이름 문자열로 지정 (생략시 All)"
   ]
  },
  {
   "cell_type": "code",
   "execution_count": null,
   "metadata": {},
   "outputs": [],
   "source": []
  },
  {
   "cell_type": "markdown",
   "metadata": {},
   "source": [
    "## 1개의 컬럼을 grouping 해서 집계\n",
    "- 항공사별 비행시간의 평균 \n",
    "- 사용컬럼\n",
    "    - grouping할 컬럼\n",
    "        - AIRLINE: 항공사\n",
    "    - 집계대상컬럼\n",
    "        - AIR_TIME\n",
    "- 집계: mean"
   ]
  },
  {
   "cell_type": "code",
   "execution_count": null,
   "metadata": {},
   "outputs": [],
   "source": []
  },
  {
   "cell_type": "code",
   "execution_count": null,
   "metadata": {},
   "outputs": [],
   "source": []
  },
  {
   "cell_type": "code",
   "execution_count": null,
   "metadata": {},
   "outputs": [],
   "source": []
  },
  {
   "cell_type": "code",
   "execution_count": null,
   "metadata": {},
   "outputs": [],
   "source": []
  },
  {
   "cell_type": "markdown",
   "metadata": {},
   "source": [
    "## 두개의 컬럼을 grouping 해서 집계\n",
    "- 항공사/출발공항코드 별 취소 총수 (1이 취소이므로 합계를 구한다.)\n",
    "- 사용컬럼\n",
    "    - grouping할 컬럼\n",
    "        - AIRLINE: 항공사\n",
    "        - ORG_AIR: 출발 공항코드\n",
    "    - 집계대상컬럼\n",
    "        - CANCELLED: 취소여부 - 1:취소, 0: 취소안됨\n",
    "- 집계: sum"
   ]
  },
  {
   "cell_type": "code",
   "execution_count": null,
   "metadata": {},
   "outputs": [],
   "source": []
  },
  {
   "cell_type": "code",
   "execution_count": null,
   "metadata": {},
   "outputs": [],
   "source": []
  },
  {
   "cell_type": "code",
   "execution_count": null,
   "metadata": {},
   "outputs": [],
   "source": []
  },
  {
   "cell_type": "markdown",
   "metadata": {},
   "source": [
    "## 3개 이상의 컬럼을 grouping해서 집계\n",
    "- 항공사/월/출발공항코드 별 취소 총수 \n",
    "- grouping할 컬럼\n",
    "    - AIRLINE:항공사\n",
    "    - MONTH:월\n",
    "    - ORG_AIR: 출발지 공항\n",
    "- 집계 대상컬럼\n",
    "    - CANCELLED: 취소여부\n",
    "- 집계 : sum    "
   ]
  },
  {
   "cell_type": "code",
   "execution_count": null,
   "metadata": {},
   "outputs": [],
   "source": []
  },
  {
   "cell_type": "code",
   "execution_count": null,
   "metadata": {},
   "outputs": [],
   "source": []
  },
  {
   "cell_type": "markdown",
   "metadata": {},
   "source": [
    "## 3개 이상의 컬럼을 grouping해서 집계 2\n",
    "- 항공사/월/출발공항코드 별 최대/최소 연착시간\n",
    "- grouping할 컬럼\n",
    "    - AIRLINE:항공사\n",
    "    - MONTH:월\n",
    "    - ORG_AIR: 출발지 공항\n",
    "- 집계 대상컬럼\n",
    "    - ARR_DELAY: 연착시간\n",
    "- 집계 : min, max    "
   ]
  },
  {
   "cell_type": "code",
   "execution_count": null,
   "metadata": {},
   "outputs": [],
   "source": []
  },
  {
   "cell_type": "code",
   "execution_count": null,
   "metadata": {},
   "outputs": [],
   "source": []
  },
  {
   "cell_type": "code",
   "execution_count": null,
   "metadata": {},
   "outputs": [],
   "source": []
  },
  {
   "cell_type": "markdown",
   "metadata": {
    "heading_collapsed": true
   },
   "source": [
    "# apply() - Series, DataFrame의 데이터 일괄 처리\n",
    "\n",
    "데이터프레임의 행들과 열들 또는 Series의 원소들에 공통된 처리를 할 때 apply 함수를 이용하면 반복문을 사용하지 않고 일괄 처리가 가능하다.\n",
    "\n",
    "- DataFrame.apply(함수, axis=0, args=())\n",
    "    - 인수로 행이나 열을 받는 함수를 apply 메서드의 인수로 넣으면 데이터프레임의 행이나 열들을 하나씩 함수에 전달한다.\n",
    "    - 매개변수\n",
    "        - 함수: DataFrame의 행들 또는 열들을 전달할 함수\n",
    "        - axis: **0-행을 전달, 1-열을 전달 (기본값 0)** G: 0이 행이다...\n",
    "        - args: 행/열 이외에 전달할 매개변수를 위치기반(순서대로) 튜플로 전달\n",
    "- Series.apply(함수, args=())\n",
    "    - 인수로 Series의 원소들을 받는 함수를 apply 메소드의 인수로 넣으면  Series의 원소들을 하나씩 함수로 전달한다.\n",
    "    - 매개변수\n",
    "        - 함수: Series의 원소들을 전달할 함수\n",
    "        - args: 원소 이외에 전달할 매개변수를 위치기반(순서대로) 튜플로 전달"
   ]
  },
  {
   "cell_type": "code",
   "execution_count": null,
   "metadata": {},
   "outputs": [],
   "source": []
  },
  {
   "cell_type": "code",
   "execution_count": null,
   "metadata": {},
   "outputs": [],
   "source": []
  },
  {
   "cell_type": "code",
   "execution_count": null,
   "metadata": {},
   "outputs": [],
   "source": []
  },
  {
   "cell_type": "code",
   "execution_count": null,
   "metadata": {},
   "outputs": [],
   "source": []
  },
  {
   "cell_type": "code",
   "execution_count": null,
   "metadata": {},
   "outputs": [],
   "source": []
  },
  {
   "cell_type": "markdown",
   "metadata": {},
   "source": [
    "# cut()/qcut() - 연속형(실수)을 범주형으로 변환\n",
    "- cut() : 지정한 값을 기준으로 구간을 나눠 그룹으로 묶는다.\n",
    "    - `pd.cut(x, bins,right=True, labels=None)`\n",
    "    - 매개변수\n",
    "        - x: 범주형으로 바꿀 대상. 1차원 배열형태(Series, 리스트, ndarray)의 자료구조\n",
    "        - bins: 범주로 나눌때의 기준값(구간경계)들을 리스트로 묶어서 전달한다.\n",
    "        - right: 구간경계의 오른쪽(True-기본)을 포함할지 왼쪽(False)을 포함할지\n",
    "        - labels: 각 구간(범주)의 label을 리스트로 전달\n",
    "            - 생략하면 범위를 범주명으로 사용한다. (ex: (10, 20], ()-포함안함, []-포함)\n",
    "- qcut() :  대상배열의 최대값 ~ 최소값을 지정한 개수의 동등한 size(**원소의개수**)가 되도록 나눈다.\n",
    "    - `pd.qcut(x, q, labels)`\n",
    "    - 매개변수\n",
    "        - x: 나눌 대상. 1차원 배열형태의 자료구조\n",
    "        - q: 나눌 개수\n",
    "        - labels: 각 구간(범주)의 label을 리스트로 전달"
   ]
  },
  {
   "cell_type": "code",
   "execution_count": null,
   "metadata": {},
   "outputs": [],
   "source": []
  },
  {
   "cell_type": "code",
   "execution_count": null,
   "metadata": {},
   "outputs": [],
   "source": []
  },
  {
   "cell_type": "code",
   "execution_count": null,
   "metadata": {},
   "outputs": [],
   "source": []
  },
  {
   "cell_type": "code",
   "execution_count": null,
   "metadata": {},
   "outputs": [],
   "source": []
  },
  {
   "cell_type": "markdown",
   "metadata": {},
   "source": [
    "# TODO"
   ]
  },
  {
   "cell_type": "code",
   "execution_count": null,
   "metadata": {},
   "outputs": [],
   "source": [
    "# TODO 1: data/diamonds.csv 를 읽어 DataFrame으로 만든다."
   ]
  },
  {
   "cell_type": "code",
   "execution_count": null,
   "metadata": {},
   "outputs": [],
   "source": [
    "# TODO 2: price 컬럼을 '고가', '중가', '저가' 세개의 범주값을 가지는 \"price_cate\" 컬럼을 생성한다."
   ]
  },
  {
   "cell_type": "code",
   "execution_count": null,
   "metadata": {},
   "outputs": [],
   "source": [
    "# TODO 3 가격대(price_cate) 별 carat의 평균을 조회"
   ]
  },
  {
   "cell_type": "code",
   "execution_count": null,
   "metadata": {},
   "outputs": [],
   "source": [
    "# TODO 4 가격대(price_cate)와 cut별 평균 가격(price)를 피봇테이블로 조회"
   ]
  },
  {
   "cell_type": "code",
   "execution_count": null,
   "metadata": {},
   "outputs": [],
   "source": [
    "# TODO 5 cut, color, price_cate 별 carat의 평균을 피봇테이블로 조회"
   ]
  },
  {
   "cell_type": "code",
   "execution_count": null,
   "metadata": {},
   "outputs": [],
   "source": []
  },
  {
   "cell_type": "code",
   "execution_count": null,
   "metadata": {},
   "outputs": [],
   "source": []
  },
  {
   "cell_type": "code",
   "execution_count": null,
   "metadata": {},
   "outputs": [],
   "source": []
  },
  {
   "cell_type": "code",
   "execution_count": null,
   "metadata": {},
   "outputs": [],
   "source": []
  }
 ],
 "metadata": {
  "kernelspec": {
   "display_name": "Python 3 (ipykernel)",
   "language": "python",
   "name": "python3"
  },
  "language_info": {
   "codemirror_mode": {
    "name": "ipython",
    "version": 3
   },
   "file_extension": ".py",
   "mimetype": "text/x-python",
   "name": "python",
   "nbconvert_exporter": "python",
   "pygments_lexer": "ipython3",
   "version": "3.9.12"
  },
  "toc": {
   "base_numbering": 1,
   "nav_menu": {},
   "number_sections": true,
   "sideBar": true,
   "skip_h1_title": false,
   "title_cell": "Table of Contents",
   "title_sidebar": "Contents",
   "toc_cell": false,
   "toc_position": {},
   "toc_section_display": true,
   "toc_window_display": false
  },
  "varInspector": {
   "cols": {
    "lenName": 16,
    "lenType": 16,
    "lenVar": 40
   },
   "kernels_config": {
    "python": {
     "delete_cmd_postfix": "",
     "delete_cmd_prefix": "del ",
     "library": "var_list.py",
     "varRefreshCmd": "print(var_dic_list())"
    },
    "r": {
     "delete_cmd_postfix": ") ",
     "delete_cmd_prefix": "rm(",
     "library": "var_list.r",
     "varRefreshCmd": "cat(var_dic_list()) "
    }
   },
   "types_to_exclude": [
    "module",
    "function",
    "builtin_function_or_method",
    "instance",
    "_Feature"
   ],
   "window_display": false
  }
 },
 "nbformat": 4,
 "nbformat_minor": 2
}
