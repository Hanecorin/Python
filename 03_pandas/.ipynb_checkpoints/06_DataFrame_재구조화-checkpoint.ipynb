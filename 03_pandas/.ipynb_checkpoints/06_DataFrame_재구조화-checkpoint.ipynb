{
 "cells": [
  {
   "cell_type": "markdown",
   "metadata": {},
   "source": [
    "# 정돈된 데이터 (Tidy data) 개요\n",
    "대부분 실행환경에서의 많은 데이터 셋은 세부적 분석을 작업을 하기 전에 상당한 양의 데이터 재구성을 할 필요가 있다. 경우에 따라서는 전체 프로젝트 자체가 오로지 다른 사람들이 가공하기 쉬운 형태로 데이터를 재구성하는 일일 때도 있다.\n",
    "\n",
    "데이터 재구성의 목적은 **정돈된 데이터-tidy data-**를 만드는 것이다.     \n",
    "tidy data란 용어는 해들리 위컴이 분석이 용이한 형태로 구성되 있는 데이터셋을 설명하기 위해 만든 용어이다. [논문 링크](http://vita.had.co.nz/papers/tidy-data.pdf)\n",
    "\n",
    "## 정돈된 데이터란?\n",
    "- 각 변수(데이터의 속성)는 열을 형성한다.\n",
    "- 각 관측값(하나의 데이터)은 행을 형성한다.\n",
    "- 각 관측 단위별(데이터 Entity)로 별도의 테이블(표)을 구성한다. => 단일 관측\n",
    "\n",
    "### 변수, 관측값, 관측단위\n",
    "- 변수: Feature, 컬럼\n",
    "- 변수 이름: 성별, 인종, 연봉, 직위 같은 레이블\n",
    "- 변수 값  \n",
    "    - 관측 때마다 달라지는 값\n",
    "    - 성: 남성/여성\n",
    "    - 인종: 황인/흑인/백인\n",
    "    - 연봉: 삼천만원, 4천만원...\n",
    "- 단일 관측\n",
    "    - 하나의 Entity, 하나의 데이터를 말한다. => 이것을 **단일 관측 단위**라고 한다.\n",
    "        - DataFrame(Pandas), Table(데이터베이스), 표(엑셀)로 표현된다.\n",
    "    - 단일 관측 대상은 여러개의 속성들로 구성되며 그 속성을 변수,Feature, 컬럼이라고 한다.\n",
    "        - 단일 관측은 하나의 데이터 대한 모든 변숫값의 모음\n",
    "        - 관측(관찰) 대상의 단위 => 하나의 데이터 => 변수들로 구성됨\n",
    "    - ex) 종업원, 손님, 제품 ..\n",
    "        - **종업원정보(근무시간같은)와 고객정보(구매 액수)를 같은 테이블에 병합하는 것은 단일 관측이라 할수 없다.** -> **정돈된 데이터의 원칙에 위배된다.**\n",
    "    \n",
    "\n",
    "### 정돈되지 않은 데이터의 가장 흔한 형태\n",
    "1. 열 이름이 변수 이름이 아니라 값인 경우\n",
    "1. 열 이름에 복수 개의 변수가 저장된 경우\n",
    "1. 변수가 행과 열에 모두 저장된 경우\n",
    "1. 같은 테이블에 복수 형식의 관측단위가 저장된 경우\n",
    "    - 하나의 테이블에 여러 데이터(관측단위)가 병합된 것\n",
    "1. 단일 관측 단위가 복수 테이블에 저장된 경우\n",
    "    - 하나의 데이터의 변수들이 여러 테이블에 나눠 저장된 경우\n",
    "    \n",
    "## 데이터를 정돈한다의 의미\n",
    "단순히 데이터셋의 값을 바꾸거나 결측치를 채운다는 것만을 말하지 않는다. 데이터를 정돈하는 것은 데이터의 형태나 구조를 정돈 원칙에 맞게 변형시키는 것이다. -> **데이터가 올바른 형태로 주어진다면 분석이 쉬워진다.**\n",
    "\n",
    "## [Pandas의 정돈을 위한 메소드](https://pandas.pydata.org/pandas-docs/stable/user_guide/reshaping.html)\n",
    "- stack()\n",
    "- melt()\n",
    "- unstack()\n",
    "- pivot()\n",
    "- pivot_table()\n",
    "- 텍스트 분해를 위한 str accessor\n",
    "- 정돈된 데이터를 다듬는 메소드\n",
    "    - rename()\n",
    "    - rename_axis()\n",
    "    - reset_index()\n",
    "    - set_index() "
   ]
  },
  {
   "cell_type": "markdown",
   "metadata": {},
   "source": [
    "# [stack()](https://pandas.pydata.org/pandas-docs/stable/reference/api/pandas.DataFrame.stack.html)\n",
    "- 컬럼명을 index(행명)으로 전환\n",
    "    - 기존 index가 있으면 하위 레벨로 들어간다. (기존 것이 상위 레벨)\n",
    "- 컬럼명을 컬럼의 값으로 전치시킬때도 사용할 수 있다.\n",
    "- 매개변수\n",
    "    - dropna=False : stacking 시 생성되는 NA(결측치)는 제거되지 않게 한다. (default: True => 제거)\n"
   ]
  },
  {
   "cell_type": "code",
   "execution_count": null,
   "metadata": {},
   "outputs": [],
   "source": []
  },
  {
   "cell_type": "code",
   "execution_count": null,
   "metadata": {},
   "outputs": [],
   "source": []
  },
  {
   "cell_type": "code",
   "execution_count": null,
   "metadata": {},
   "outputs": [],
   "source": []
  },
  {
   "cell_type": "code",
   "execution_count": null,
   "metadata": {},
   "outputs": [],
   "source": []
  },
  {
   "cell_type": "markdown",
   "metadata": {},
   "source": [
    "# unstack()\n",
    "- stack() 반대로 index를 컬럼으로 변환한다.\n",
    "- 매개변수 \n",
    "    - level: multi-index일 경우 컬럼으로 만들 레벨을 지정한다. 기본값은 -1 로 가장 안쪽의 index를 이동시킨다."
   ]
  },
  {
   "cell_type": "code",
   "execution_count": null,
   "metadata": {},
   "outputs": [],
   "source": []
  },
  {
   "cell_type": "code",
   "execution_count": null,
   "metadata": {},
   "outputs": [],
   "source": []
  },
  {
   "cell_type": "code",
   "execution_count": null,
   "metadata": {},
   "outputs": [],
   "source": []
  },
  {
   "cell_type": "code",
   "execution_count": null,
   "metadata": {},
   "outputs": [],
   "source": []
  },
  {
   "cell_type": "markdown",
   "metadata": {},
   "source": [
    "# [melt()](https://pandas.pydata.org/pandas-docs/stable/reference/api/pandas.DataFrame.melt.html) - 컬럼명을 컬럼의 값으로 변환한다.\n",
    "\n",
    "- stack()과 같이 컬럼 명을 단일 컬럼의 값으로 변환한다.\n",
    "- 변환할 컬럼들을 지정할 수 있어 stack()보다 더 유연하다.\n",
    "\n",
    "\n",
    "## 매개변수\n",
    "- id_vars: 값으로 변환하지 않고 그대로 유지하고자 하는 컬럼명(열이름)들의 리스트\n",
    "    - *식별변수*라고도 한다.\n",
    "    - 지정한 변수(컬럼)은 같은 열에 남게 되지만, value_vars에 전달된 각 열에 대해 반복적으로 나타난다.\n",
    "- value_vars: 단일 컬럼의 값으로 변경하고자 하는 컬럼명 리스트\n",
    "    - value_vars에 지정한 컬럼이 value가 되고 그 컬럼의 값들은 다른 컬럼으로 생성된다.\n",
    "    - id_vars와 value_vars에 **지정 안된** 컬럼은 제거된다.\n",
    "        - 제거 되지 않고 **단독 컬럼으로 유지되길 바라는 컬럼은 id_vars**로 지정한다.\n",
    "- var_name: value_vars로 단일열이 된 열의 이름 지정(지정 안하면 컬럼명은 **variable**)\n",
    "- value_name: value_vars에 지정된 열들의 값들이 변환된 컬럼의 이름 지정(지정안하면 컬럼명은 **value**)\n",
    "\n",
    "\n",
    ">\n",
    "> - melt 한 경우 **index명은 무시된다.** => RangeIndex로 대체된다.\n",
    ">    - index를 유지하려면 **reset_index**를 이용해 value로 뺀 뒤 해야 한다.\n",
    "> - stack은 열이름을 index명으로 정돈(변경) 한다.\n",
    "        "
   ]
  },
  {
   "cell_type": "code",
   "execution_count": null,
   "metadata": {},
   "outputs": [],
   "source": []
  },
  {
   "cell_type": "code",
   "execution_count": null,
   "metadata": {},
   "outputs": [],
   "source": []
  },
  {
   "cell_type": "code",
   "execution_count": null,
   "metadata": {},
   "outputs": [],
   "source": []
  },
  {
   "cell_type": "code",
   "execution_count": null,
   "metadata": {},
   "outputs": [],
   "source": []
  },
  {
   "cell_type": "markdown",
   "metadata": {},
   "source": [
    "# pivot - index, column, value가 될 컬럼들을 지정해 재구조화\n",
    "- 데이터프레임 재구조화가 목적\n",
    "- 데이터 프레임에서 두개이상의 범주형 변수를 그룹으로 묶어 특정 값을 보려고 할때 사용할 수 있다.\n",
    "    - pivot_table은 그룹으로 묶은 뒤 특정 변수의 통계량을 본다면 pivot은 그 값을 그대로 본다.\n",
    "- melt()된 것을 원상복구 시킬때도 사용할 수 있다.\n",
    "\n",
    "## pivot 매개변수\n",
    "- index: 문자열. 행이름으로 사용할 컬럼 -> 열이 index로 이동하는 형태가 된다.\n",
    "- columns: 문자열. 컬럼명으로 사용할 컬럼\n",
    "- values : Value에 올 컬럼명"
   ]
  },
  {
   "cell_type": "code",
   "execution_count": null,
   "metadata": {},
   "outputs": [],
   "source": []
  },
  {
   "cell_type": "code",
   "execution_count": null,
   "metadata": {},
   "outputs": [],
   "source": []
  },
  {
   "cell_type": "code",
   "execution_count": null,
   "metadata": {},
   "outputs": [],
   "source": []
  }
 ],
 "metadata": {
  "kernelspec": {
   "display_name": "Python 3 (ipykernel)",
   "language": "python",
   "name": "python3"
  },
  "language_info": {
   "codemirror_mode": {
    "name": "ipython",
    "version": 3
   },
   "file_extension": ".py",
   "mimetype": "text/x-python",
   "name": "python",
   "nbconvert_exporter": "python",
   "pygments_lexer": "ipython3",
   "version": "3.9.12"
  },
  "toc": {
   "base_numbering": 1,
   "nav_menu": {},
   "number_sections": true,
   "sideBar": true,
   "skip_h1_title": false,
   "title_cell": "Table of Contents",
   "title_sidebar": "Contents",
   "toc_cell": false,
   "toc_position": {},
   "toc_section_display": true,
   "toc_window_display": false
  },
  "varInspector": {
   "cols": {
    "lenName": 16,
    "lenType": 16,
    "lenVar": 40
   },
   "kernels_config": {
    "python": {
     "delete_cmd_postfix": "",
     "delete_cmd_prefix": "del ",
     "library": "var_list.py",
     "varRefreshCmd": "print(var_dic_list())"
    },
    "r": {
     "delete_cmd_postfix": ") ",
     "delete_cmd_prefix": "rm(",
     "library": "var_list.r",
     "varRefreshCmd": "cat(var_dic_list()) "
    }
   },
   "types_to_exclude": [
    "module",
    "function",
    "builtin_function_or_method",
    "instance",
    "_Feature"
   ],
   "window_display": false
  }
 },
 "nbformat": 4,
 "nbformat_minor": 2
}
