{
 "cells": [
  {
   "cell_type": "markdown",
   "id": "1f958288",
   "metadata": {},
   "source": [
    "# Iterator\n",
    "\n",
    "- Iterable\n",
    "    - 여러개의 데이터를 하나씩 또는 한 단위씩 제공하는 객체.\n",
    "    - 값 하나 하나를 직접 제공하지 않고 Iterator를 이용해 제공한다.\n",
    "    - \\_\\_iter\\_\\_() 특수메소드를 반드시 정의해야 하며 Iterator객체를 반환하도록 구현한다.\n",
    "- Iterator\n",
    "    - 자신을 생성한 Iterable의 값들을 하나씩 또는 한 단위씩 제공하는 객체\n",
    "    - \\_\\_next\\_\\_() 특수메소드를 반드시 정의해야 하며 자신을 생성한 Iterable의 원소를 제공하는 구현을 한다."
   ]
  },
  {
   "cell_type": "code",
   "execution_count": 12,
   "id": "a886f00c",
   "metadata": {},
   "outputs": [],
   "source": [
    "class MyIterable:\n",
    "    \"\"\"\n",
    "    \n",
    "    Instance 변수(Attribute)에 제공할 값을 저장.\n",
    "    Iterator를 제공하는 메소드(__init__()) 를 제공\n",
    "    \"\"\"\n",
    "    def __init__(self, *args):\n",
    "        self.values = args\n",
    "        \n",
    "    def __str__(self):\n",
    "        return str(self.values)\n",
    "    \n",
    "    def __iter__(self):\n",
    "        \"\"\"\n",
    "        Iterator(MyIterator)객체를 반환\n",
    "        \"\"\"\n",
    "        return MyIterator(self)"
   ]
  },
  {
   "cell_type": "code",
   "execution_count": 13,
   "id": "fbefec71",
   "metadata": {},
   "outputs": [],
   "source": [
    "class MyIterator:\n",
    "    \"\"\"\n",
    "    MyIterable 의 원소들을 제공하는 Iterator\n",
    "    \"\"\"\n",
    "    \n",
    "    def __init__(self, iterable):\n",
    "        self.iterable = iterable\n",
    "        self.index = 0\n",
    "        \n",
    "        \n",
    "        \n",
    "    def __next__(self):\n",
    "        \"\"\"\n",
    "        Iterable의 원소를 제공하는 메소드.\n",
    "        \"\"\"\n",
    "        #self.iterable: MyIterable 객체. .values : MyIterable의 attribute => 제공할 값들을 가진 튜플\u001e",
    "\n",
    "        if len(self.iterable.values) <= self.index:\n",
    "            #self.index = 0\n",
    "            raise StopIteration()\n",
    "        \n",
    "        ret_value = self.iterable.values[self.index]\n",
    "        self.index += 1\n",
    "        return ret_value"
   ]
  },
  {
   "cell_type": "code",
   "execution_count": 14,
   "id": "a1c968ab",
   "metadata": {},
   "outputs": [
    {
     "name": "stdout",
     "output_type": "stream",
     "text": [
      "<class '__main__.MyIterator'>\n"
     ]
    }
   ],
   "source": [
    "#1. MyIterable로 부터 Iterator를 조회한다. -> iter(iterable) => __iter__() 호출\n",
    "m_iter = MyIterable(1,2,3,4,5,6,7)\n",
    "m_iterator = iter(m_iter) #m_iter.__iter__()\n",
    "print(type(m_iterator))"
   ]
  },
  {
   "cell_type": "code",
   "execution_count": 15,
   "id": "71a9416c",
   "metadata": {},
   "outputs": [
    {
     "name": "stdout",
     "output_type": "stream",
     "text": [
      "1\n",
      "2\n",
      "3\n",
      "4\n",
      "5\n",
      "6\n",
      "7\n"
     ]
    }
   ],
   "source": [
    "#2. 원소를 조회 next(iterator)  ->  iterator.__next__()\n",
    "print(next(m_iterator))\n",
    "print(next(m_iterator))\n",
    "print(next(m_iterator))\n",
    "print(next(m_iterator))\n",
    "print(next(m_iterator))\n",
    "print(next(m_iterator))\n",
    "print(next(m_iterator))"
   ]
  },
  {
   "cell_type": "code",
   "execution_count": 16,
   "id": "75291cf5",
   "metadata": {},
   "outputs": [
    {
     "ename": "StopIteration",
     "evalue": "",
     "output_type": "error",
     "traceback": [
      "\u001b[0;31m---------------------------------------------------------------------------\u001b[0m",
      "\u001b[0;31mStopIteration\u001b[0m                             Traceback (most recent call last)",
      "Input \u001b[0;32mIn [16]\u001b[0m, in \u001b[0;36m<cell line: 1>\u001b[0;34m()\u001b[0m\n\u001b[0;32m----> 1\u001b[0m \u001b[38;5;28mprint\u001b[39m(\u001b[38;5;28;43mnext\u001b[39;49m\u001b[43m(\u001b[49m\u001b[43mm_iterator\u001b[49m\u001b[43m)\u001b[49m)\n",
      "Input \u001b[0;32mIn [13]\u001b[0m, in \u001b[0;36mMyIterator.__next__\u001b[0;34m(self)\u001b[0m\n\u001b[1;32m     13\u001b[0m \"\"\"\n\u001b[1;32m     14\u001b[0m Iterable의 원소를 제공하는 메소드.\n\u001b[1;32m     15\u001b[0m \"\"\"\n\u001b[1;32m     16\u001b[0m #self.iterable: MyIterable 객체. .values : MyIterable의 attribute => 제공할 값들을 가진 튜플\n\u001b[1;32m     18\u001b[0m if len(self.iterable.values) <= self.index:\n\u001b[0;32m---> 19\u001b[0m     #self.index = 0\n\u001b[1;32m     20\u001b[0m     raise StopIteration()\n\u001b[1;32m     22\u001b[0m ret_value = self.iterable.values[self.index]\n",
      "\u001b[0;31mStopIteration\u001b[0m: "
     ]
    }
   ],
   "source": [
    "print(next(m_iterator))"
   ]
  },
  {
   "cell_type": "code",
   "execution_count": 17,
   "id": "4cde9086",
   "metadata": {},
   "outputs": [
    {
     "name": "stdout",
     "output_type": "stream",
     "text": [
      "1\n",
      "2\n",
      "3\n",
      "4\n",
      "5\n"
     ]
    }
   ],
   "source": [
    "for v in MyIterable(1,2,3,4,5):\n",
    "    print(v)"
   ]
  },
  {
   "cell_type": "code",
   "execution_count": 21,
   "id": "8436bc9b",
   "metadata": {},
   "outputs": [],
   "source": [
    "def for_simul(iterable):\n",
    "    iterator = iter(iterable)\n",
    "    while True:\n",
    "        try:\n",
    "            v = next(iterator)\n",
    "            print(v)\n",
    "        except:\n",
    "            break"
   ]
  },
  {
   "cell_type": "code",
   "execution_count": 22,
   "id": "7e1058cd",
   "metadata": {},
   "outputs": [
    {
     "name": "stdout",
     "output_type": "stream",
     "text": [
      "1\n",
      "2\n",
      "3\n",
      "4\n",
      "5\n"
     ]
    }
   ],
   "source": [
    "for_simul(MyIterable(1,2,3,4,5))"
   ]
  },
  {
   "cell_type": "code",
   "execution_count": 38,
   "id": "14de245d",
   "metadata": {},
   "outputs": [
    {
     "name": "stdout",
     "output_type": "stream",
     "text": [
      "<class 'list_iterator'>\n"
     ]
    }
   ],
   "source": [
    "l = [1,2,3,4,5,6,7]\n",
    "l_iter = iter(l)\n",
    "print(type(l_iter))"
   ]
  },
  {
   "cell_type": "code",
   "execution_count": 39,
   "id": "980cbbb5",
   "metadata": {},
   "outputs": [
    {
     "name": "stdout",
     "output_type": "stream",
     "text": [
      "1\n"
     ]
    }
   ],
   "source": [
    "print(next(l_iter))"
   ]
  },
  {
   "cell_type": "code",
   "execution_count": 40,
   "id": "888f73d4",
   "metadata": {},
   "outputs": [
    {
     "name": "stdout",
     "output_type": "stream",
     "text": [
      "\n"
     ]
    }
   ],
   "source": [
    "a = 'abc'\n",
    "a_iter = iter(a)\n",
    "print()"
   ]
  },
  {
   "cell_type": "markdown",
   "id": "0a3ae848",
   "metadata": {},
   "source": [
    "## Generator"
   ]
  },
  {
   "cell_type": "code",
   "execution_count": 41,
   "id": "e935931a",
   "metadata": {},
   "outputs": [],
   "source": [
    "# yield - 일시정지 - generator 하나의 값을 반환하는 구문에서 사용.\n",
    "def test_f():\n",
    "    v =10\n",
    "    return v\n",
    "    v += 10\n",
    "    return v"
   ]
  },
  {
   "cell_type": "code",
   "execution_count": 42,
   "id": "d5e0c06a",
   "metadata": {},
   "outputs": [
    {
     "data": {
      "text/plain": [
       "10"
      ]
     },
     "execution_count": 42,
     "metadata": {},
     "output_type": "execute_result"
    }
   ],
   "source": [
    "#함수호출\n",
    "test_f()"
   ]
  },
  {
   "cell_type": "code",
   "execution_count": 43,
   "id": "cb7c1294",
   "metadata": {},
   "outputs": [
    {
     "data": {
      "text/plain": [
       "10"
      ]
     },
     "execution_count": 43,
     "metadata": {},
     "output_type": "execute_result"
    }
   ],
   "source": [
    "test_f()"
   ]
  },
  {
   "cell_type": "code",
   "execution_count": 54,
   "id": "6c13e25c",
   "metadata": {},
   "outputs": [],
   "source": [
    "def test_g():\n",
    "    v = 10\n",
    "    yield v\n",
    "    \n",
    "    v += 10\n",
    "    yield v\n",
    "    \n",
    "    v += 20\n",
    "    \n",
    "    yield v\n",
    "    \n",
    "    v += 30\n",
    "    \n",
    "    yield v"
   ]
  },
  {
   "cell_type": "code",
   "execution_count": 59,
   "id": "19aba2a4",
   "metadata": {},
   "outputs": [
    {
     "data": {
      "text/plain": [
       "<generator object test_g at 0x7fbeb89b6f90>"
      ]
     },
     "execution_count": 59,
     "metadata": {},
     "output_type": "execute_result"
    }
   ],
   "source": [
    "#함수구현에 yield 구문이 들어가면 함수가 아니라 Generator가 된다.\n",
    "# Generator 사용\n",
    "#1. 생성\n",
    "\n",
    "g = test_g()\n",
    "\n",
    "g\n"
   ]
  },
  {
   "cell_type": "code",
   "execution_count": 60,
   "id": "19310ee8",
   "metadata": {},
   "outputs": [
    {
     "name": "stdout",
     "output_type": "stream",
     "text": [
      "10\n"
     ]
    }
   ],
   "source": [
    "#2. 값 조회 - next()\n",
    "v1 = next(g) # yield를 만날때 까지 실행후 일시정지 상태. yield의 반환값을 가지고 돌아온다.\n",
    "print(v1)"
   ]
  },
  {
   "cell_type": "code",
   "execution_count": 61,
   "id": "99c951d5",
   "metadata": {},
   "outputs": [
    {
     "name": "stdout",
     "output_type": "stream",
     "text": [
      "10\n",
      "20\n",
      "40\n",
      "70\n"
     ]
    }
   ],
   "source": [
    "for v in test_g():\n",
    "    print(v)"
   ]
  },
  {
   "cell_type": "code",
   "execution_count": 87,
   "id": "2de0dcfe",
   "metadata": {},
   "outputs": [],
   "source": [
    "#range() 를 generator로 구현\n",
    "def my_range(start, end=None, step=1):\n",
    "    if end == None:\n",
    "        end = start\n",
    "        start = 0\n",
    "    while True:\n",
    "        if start >= end:\n",
    "            break\n",
    "        \n",
    "        yield start\n",
    "        start += step\n"
   ]
  },
  {
   "cell_type": "code",
   "execution_count": 88,
   "id": "6fcae732",
   "metadata": {},
   "outputs": [
    {
     "data": {
      "text/plain": [
       "[1, 2, 3, 4, 5, 6, 7, 8, 9]"
      ]
     },
     "execution_count": 88,
     "metadata": {},
     "output_type": "execute_result"
    }
   ],
   "source": [
    "r = my_range(1,10)\n",
    "list(r)\n",
    "\n"
   ]
  },
  {
   "cell_type": "code",
   "execution_count": 77,
   "id": "5056bf26",
   "metadata": {},
   "outputs": [
    {
     "name": "stdout",
     "output_type": "stream",
     "text": [
      "1\n",
      "4\n",
      "7\n"
     ]
    }
   ],
   "source": [
    "r2 = my_range(1,10,3)\n",
    "print(next(r2))\n",
    "print(next(r2))\n",
    "print(next(r2))\n"
   ]
  },
  {
   "cell_type": "code",
   "execution_count": 78,
   "id": "316619be",
   "metadata": {},
   "outputs": [
    {
     "ename": "StopIteration",
     "evalue": "",
     "output_type": "error",
     "traceback": [
      "\u001b[0;31m---------------------------------------------------------------------------\u001b[0m",
      "\u001b[0;31mStopIteration\u001b[0m                             Traceback (most recent call last)",
      "Input \u001b[0;32mIn [78]\u001b[0m, in \u001b[0;36m<cell line: 1>\u001b[0;34m()\u001b[0m\n\u001b[0;32m----> 1\u001b[0m \u001b[38;5;28mprint\u001b[39m(\u001b[38;5;28;43mnext\u001b[39;49m\u001b[43m(\u001b[49m\u001b[43mr2\u001b[49m\u001b[43m)\u001b[49m)\n",
      "\u001b[0;31mStopIteration\u001b[0m: "
     ]
    }
   ],
   "source": [
    "print(next(r2))"
   ]
  },
  {
   "cell_type": "code",
   "execution_count": 97,
   "id": "40cb47b9",
   "metadata": {},
   "outputs": [],
   "source": [
    "def list_simul(gen):\n",
    "    l = []\n",
    "    for v in gen:\n",
    "        l.append(v)\n",
    "        \n",
    "    return l"
   ]
  },
  {
   "cell_type": "code",
   "execution_count": 98,
   "id": "feb8568c",
   "metadata": {},
   "outputs": [
    {
     "data": {
      "text/plain": [
       "[1, 2, 3, 4, 5, 6, 7, 8, 9]"
      ]
     },
     "execution_count": 98,
     "metadata": {},
     "output_type": "execute_result"
    }
   ],
   "source": [
    "list_simul(my_range(1,10))"
   ]
  },
  {
   "cell_type": "code",
   "execution_count": 101,
   "id": "a7573419",
   "metadata": {},
   "outputs": [],
   "source": [
    "def list_simul2(gen):\n",
    "    l = []\n",
    "    while True:\n",
    "        try:\n",
    "            v = next(gen)\n",
    "            l.append(v)\n",
    "        except StopIteration:\n",
    "            break\n",
    "        \n",
    "    return l"
   ]
  },
  {
   "cell_type": "code",
   "execution_count": 103,
   "id": "e14b691a",
   "metadata": {},
   "outputs": [
    {
     "data": {
      "text/plain": [
       "[100,\n",
       " 105,\n",
       " 110,\n",
       " 115,\n",
       " 120,\n",
       " 125,\n",
       " 130,\n",
       " 135,\n",
       " 140,\n",
       " 145,\n",
       " 150,\n",
       " 155,\n",
       " 160,\n",
       " 165,\n",
       " 170,\n",
       " 175,\n",
       " 180,\n",
       " 185,\n",
       " 190,\n",
       " 195]"
      ]
     },
     "execution_count": 103,
     "metadata": {},
     "output_type": "execute_result"
    }
   ],
   "source": [
    "list_simul2(my_range(100,200,5))"
   ]
  },
  {
   "cell_type": "code",
   "execution_count": 106,
   "id": "07bbca1b",
   "metadata": {},
   "outputs": [],
   "source": [
    "def percent_decorator(func):\n",
    "    \n",
    "    def wrapper(name,age):\n",
    "        print('%'*20)\n",
    "        \n",
    "        func(name,age)\n",
    "        print('%'*20)\n",
    "        \n",
    "    return wrapper"
   ]
  },
  {
   "cell_type": "code",
   "execution_count": 107,
   "id": "bd5e1539",
   "metadata": {},
   "outputs": [],
   "source": [
    "@percent_decorator\n",
    "def kor_greeting(name,age):\n",
    "    greeting = f'{age}세 {name}님 안녕하세요'\n",
    "    print(greeting)"
   ]
  },
  {
   "cell_type": "code",
   "execution_count": 108,
   "id": "a2f003a0",
   "metadata": {},
   "outputs": [
    {
     "name": "stdout",
     "output_type": "stream",
     "text": [
      "%%%%%%%%%%%%%%%%%%%%\n",
      "28세 한예찬님 안녕하세요\n",
      "%%%%%%%%%%%%%%%%%%%%\n"
     ]
    }
   ],
   "source": [
    "kor_greeting('한예찬',28)"
   ]
  },
  {
   "cell_type": "code",
   "execution_count": 109,
   "id": "5c4c2998",
   "metadata": {},
   "outputs": [],
   "source": [
    "import time\n",
    "\n",
    "def timechecker(func):\n",
    "    \n",
    "    def wrapper(txt):\n",
    "        s_time = time.time()\n",
    "        func(txt)\n",
    "        e_time = time.time()\n",
    "        print(f'걸린시간: {e_time - s_time}초')\n",
    "        \n",
    "    return wrapper"
   ]
  },
  {
   "cell_type": "code",
   "execution_count": 110,
   "id": "3bb9e3c5",
   "metadata": {},
   "outputs": [],
   "source": [
    "@timechecker\n",
    "def test_function(txt):\n",
    "    time.sleep(3)\n",
    "    print(txt)"
   ]
  },
  {
   "cell_type": "code",
   "execution_count": 111,
   "id": "f368df18",
   "metadata": {},
   "outputs": [
    {
     "name": "stdout",
     "output_type": "stream",
     "text": [
      "abcdefg\n",
      "걸린시간: 3.0048558712005615초\n"
     ]
    }
   ],
   "source": [
    "test_function('abcdefg')"
   ]
  },
  {
   "cell_type": "code",
   "execution_count": null,
   "id": "05e80c33",
   "metadata": {},
   "outputs": [],
   "source": []
  }
 ],
 "metadata": {
  "kernelspec": {
   "display_name": "Python 3 (ipykernel)",
   "language": "python",
   "name": "python3"
  },
  "language_info": {
   "codemirror_mode": {
    "name": "ipython",
    "version": 3
   },
   "file_extension": ".py",
   "mimetype": "text/x-python",
   "name": "python",
   "nbconvert_exporter": "python",
   "pygments_lexer": "ipython3",
   "version": "3.9.7"
  }
 },
 "nbformat": 4,
 "nbformat_minor": 5
}
