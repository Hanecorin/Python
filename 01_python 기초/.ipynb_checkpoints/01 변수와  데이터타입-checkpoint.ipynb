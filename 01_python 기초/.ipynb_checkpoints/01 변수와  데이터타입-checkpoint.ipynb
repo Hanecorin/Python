{
 "cells": [
  {
   "cell_type": "code",
   "execution_count": 3,
   "id": "6d6f5e6e",
   "metadata": {},
   "outputs": [
    {
     "data": {
      "text/plain": [
       "6"
      ]
     },
     "execution_count": 3,
     "metadata": {},
     "output_type": "execute_result"
    }
   ],
   "source": [
    "# 단축기\n",
    "# shift + enter : 실행 후 다음 cell로 이동한다.\n",
    "# control + enter : 실행 후 실행한 cell에 머무른다.\n",
    "1+5"
   ]
  },
  {
   "cell_type": "code",
   "execution_count": 4,
   "id": "c53385ed",
   "metadata": {},
   "outputs": [
    {
     "name": "stdout",
     "output_type": "stream",
     "text": [
      "홍길동\n"
     ]
    }
   ],
   "source": [
    "# 변수이름=값\n",
    "\n",
    "name = \"홍길동\" #\"홍길동\" 이라는 값을 name이라는 변수에 대입. 이름이 name인 공간이 메모리에 없으면 새로 만들고 대입. 있으면 있는공간에 대입한다.\n",
    "print(name) #print(값) ()안의 값을 출력하는 함수"
   ]
  },
  {
   "cell_type": "code",
   "execution_count": 5,
   "id": "9388d2ef",
   "metadata": {},
   "outputs": [
    {
     "name": "stdout",
     "output_type": "stream",
     "text": [
      "25\n"
     ]
    }
   ],
   "source": [
    "age = 25\n",
    "print(age) # age 변수의 값을 출력"
   ]
  },
  {
   "cell_type": "code",
   "execution_count": 6,
   "id": "14a5f2e1",
   "metadata": {},
   "outputs": [],
   "source": [
    "age = 50 #age 변수의 값을 50으로 대체(재할당)"
   ]
  },
  {
   "cell_type": "code",
   "execution_count": 7,
   "id": "2e8064ab",
   "metadata": {},
   "outputs": [
    {
     "name": "stdout",
     "output_type": "stream",
     "text": [
      "50\n"
     ]
    }
   ],
   "source": [
    "print(age)"
   ]
  },
  {
   "cell_type": "code",
   "execution_count": 8,
   "id": "d9d982bd",
   "metadata": {},
   "outputs": [],
   "source": [
    "name = '이순신'"
   ]
  },
  {
   "cell_type": "code",
   "execution_count": 9,
   "id": "4f3cef14",
   "metadata": {},
   "outputs": [
    {
     "name": "stdout",
     "output_type": "stream",
     "text": [
      "이순신\n"
     ]
    }
   ],
   "source": [
    "print(name)"
   ]
  },
  {
   "cell_type": "code",
   "execution_count": 10,
   "id": "3a115a43",
   "metadata": {},
   "outputs": [],
   "source": [
    "age = age+20 #1. age 변수가 가진 값과 20을 더하는 처리\n",
    "             #2. 1에서 처리한 값을 age변수에 대입"
   ]
  },
  {
   "cell_type": "code",
   "execution_count": 11,
   "id": "8821fac3",
   "metadata": {},
   "outputs": [
    {
     "name": "stdout",
     "output_type": "stream",
     "text": [
      "70\n"
     ]
    }
   ],
   "source": [
    "print(age)"
   ]
  },
  {
   "cell_type": "code",
   "execution_count": 12,
   "id": "eea6387a",
   "metadata": {},
   "outputs": [],
   "source": [
    "age2 = age - 40"
   ]
  },
  {
   "cell_type": "code",
   "execution_count": 15,
   "id": "2943d9d5",
   "metadata": {},
   "outputs": [
    {
     "name": "stdout",
     "output_type": "stream",
     "text": [
      "30\n"
     ]
    }
   ],
   "source": [
    "print(age2)"
   ]
  },
  {
   "cell_type": "markdown",
   "id": "2c6b95a3",
   "metadata": {},
   "source": []
  },
  {
   "cell_type": "code",
   "execution_count": 16,
   "id": "ef1a59b5",
   "metadata": {},
   "outputs": [
    {
     "ename": "NameError",
     "evalue": "name 'address' is not defined",
     "output_type": "error",
     "traceback": [
      "\u001b[0;31m---------------------------------------------------------------------------\u001b[0m",
      "\u001b[0;31mNameError\u001b[0m                                 Traceback (most recent call last)",
      "Input \u001b[0;32mIn [16]\u001b[0m, in \u001b[0;36m<cell line: 1>\u001b[0;34m()\u001b[0m\n\u001b[0;32m----> 1\u001b[0m \u001b[38;5;28mprint\u001b[39m(\u001b[43maddress\u001b[49m)\n",
      "\u001b[0;31mNameError\u001b[0m: name 'address' is not defined"
     ]
    }
   ],
   "source": [
    "print(address) #이름이 address인 변수의 값을 출력 => 없는 변수를 사용 할 경우 에러 발생 -NameError"
   ]
  },
  {
   "cell_type": "code",
   "execution_count": 17,
   "id": "be3e8cca",
   "metadata": {},
   "outputs": [],
   "source": [
    "age = 30"
   ]
  },
  {
   "cell_type": "code",
   "execution_count": 18,
   "id": "e682fabb",
   "metadata": {},
   "outputs": [],
   "source": [
    "Age = 50"
   ]
  },
  {
   "cell_type": "code",
   "execution_count": 19,
   "id": "13c9c403",
   "metadata": {},
   "outputs": [
    {
     "name": "stdout",
     "output_type": "stream",
     "text": [
      "30 50\n"
     ]
    }
   ],
   "source": [
    "print(age, Age) #두개값을 한번에 출력"
   ]
  },
  {
   "cell_type": "code",
   "execution_count": 20,
   "id": "508f8267",
   "metadata": {},
   "outputs": [
    {
     "name": "stdout",
     "output_type": "stream",
     "text": [
      "서울시 서초구 서초동\n"
     ]
    }
   ],
   "source": [
    "주소 = '서울시 서초구 서초동' # 변수명으로 한글 가능\n",
    "print(주소)"
   ]
  },
  {
   "cell_type": "code",
   "execution_count": 21,
   "id": "c08622cd",
   "metadata": {},
   "outputs": [],
   "source": [
    " 우리집_주소 = '서울시 강남구' #특수문자는 _ 사용가능. _는 단어 구분자로 사용.(snake 표기법)"
   ]
  },
  {
   "cell_type": "code",
   "execution_count": 22,
   "id": "bc316625",
   "metadata": {},
   "outputs": [
    {
     "name": "stdout",
     "output_type": "stream",
     "text": [
      "서울시 강남구\n"
     ]
    }
   ],
   "source": [
    "print(우리집_주소)"
   ]
  },
  {
   "cell_type": "code",
   "execution_count": 23,
   "id": "eb8035e0",
   "metadata": {},
   "outputs": [],
   "source": [
    "my_email_address = 'abc@abc.com'"
   ]
  },
  {
   "cell_type": "code",
   "execution_count": 24,
   "id": "c3360996",
   "metadata": {},
   "outputs": [],
   "source": [
    "# myEmailAddress = 'a@a.com' # camel 표기법"
   ]
  },
  {
   "cell_type": "code",
   "execution_count": 25,
   "id": "6aae045a",
   "metadata": {},
   "outputs": [
    {
     "ename": "SyntaxError",
     "evalue": "invalid syntax (2786213939.py, line 1)",
     "output_type": "error",
     "traceback": [
      "\u001b[0;36m  Input \u001b[0;32mIn [25]\u001b[0;36m\u001b[0m\n\u001b[0;31m    5age = 30 #숫자를 첫번째 글자로 할 수 없다. (변수명)\u001b[0m\n\u001b[0m     ^\u001b[0m\n\u001b[0;31mSyntaxError\u001b[0m\u001b[0;31m:\u001b[0m invalid syntax\n"
     ]
    }
   ],
   "source": [
    "5age = 30 #숫자를 첫번째 글자로 할 수 없다. (변수명)"
   ]
  },
  {
   "cell_type": "code",
   "execution_count": null,
   "id": "5dbfc6b6",
   "metadata": {},
   "outputs": [],
   "source": [
    "# 여러개 변수에 같은 값을 대입\n",
    "a = 10\n",
    "b = 10\n",
    "c = 10"
   ]
  },
  {
   "cell_type": "code",
   "execution_count": 26,
   "id": "09f33001",
   "metadata": {},
   "outputs": [],
   "source": [
    "a = b = c = 10"
   ]
  },
  {
   "cell_type": "code",
   "execution_count": 27,
   "id": "d570fd29",
   "metadata": {},
   "outputs": [
    {
     "name": "stdout",
     "output_type": "stream",
     "text": [
      "10 10 10\n"
     ]
    }
   ],
   "source": [
    "print(a,b,c)"
   ]
  },
  {
   "cell_type": "code",
   "execution_count": 28,
   "id": "569c3bf7",
   "metadata": {},
   "outputs": [
    {
     "name": "stdout",
     "output_type": "stream",
     "text": [
      "0 0 0 0 0\n"
     ]
    }
   ],
   "source": [
    "age1= age2 =age3 =age4= age5 = 0\n",
    "print(age1,age2,age3,age4,age5)"
   ]
  },
  {
   "cell_type": "code",
   "execution_count": 29,
   "id": "b69ad8a2",
   "metadata": {},
   "outputs": [],
   "source": [
    "#여러개의 값을 여러개 변수에 한번에 대입\n",
    "a=10\n",
    "b=20\n",
    "c=30"
   ]
  },
  {
   "cell_type": "code",
   "execution_count": 30,
   "id": "d4ca0a64",
   "metadata": {},
   "outputs": [
    {
     "name": "stdout",
     "output_type": "stream",
     "text": [
      "10 20 30\n"
     ]
    }
   ],
   "source": [
    "a, b, c = 10, 20, 30 # 변수의 개수와 값의 개수가 같아야 한다.\n",
    "print(a,b,c)"
   ]
  },
  {
   "cell_type": "code",
   "execution_count": 36,
   "id": "f491faca",
   "metadata": {},
   "outputs": [
    {
     "name": "stdout",
     "output_type": "stream",
     "text": [
      "50 60 70 80\n"
     ]
    }
   ],
   "source": [
    "age1, age2, age3, age4 = 50, 60, 70, 80\n",
    "print(age1, age2, age3, age4)"
   ]
  },
  {
   "cell_type": "code",
   "execution_count": 37,
   "id": "a382e22d",
   "metadata": {},
   "outputs": [],
   "source": [
    "#변수를 메모리에서 삭제\n",
    "del age1"
   ]
  },
  {
   "cell_type": "code",
   "execution_count": 38,
   "id": "20a8e8fb",
   "metadata": {},
   "outputs": [
    {
     "ename": "NameError",
     "evalue": "name 'age1' is not defined",
     "output_type": "error",
     "traceback": [
      "\u001b[0;31m---------------------------------------------------------------------------\u001b[0m",
      "\u001b[0;31mNameError\u001b[0m                                 Traceback (most recent call last)",
      "Input \u001b[0;32mIn [38]\u001b[0m, in \u001b[0;36m<cell line: 1>\u001b[0;34m()\u001b[0m\n\u001b[0;32m----> 1\u001b[0m \u001b[38;5;28mprint\u001b[39m(\u001b[43mage1\u001b[49m)\n",
      "\u001b[0;31mNameError\u001b[0m: name 'age1' is not defined"
     ]
    }
   ],
   "source": [
    "print(age1)"
   ]
  },
  {
   "cell_type": "code",
   "execution_count": 40,
   "id": "037b9808",
   "metadata": {},
   "outputs": [
    {
     "name": "stdout",
     "output_type": "stream",
     "text": [
      "30\n",
      "스무살\n",
      "25.7\n"
     ]
    }
   ],
   "source": [
    "# 동적타입언어 => 하나의 변수에 다양한 타입의 값들을 대입할 수 있다.\n",
    "age = 30 #정수대입\n",
    "print(age)\n",
    "age = '스무살' #문자열 대입\n",
    "print(age)\n",
    "age = 25.7\n",
    "print(age) # 실수"
   ]
  },
  {
   "cell_type": "code",
   "execution_count": null,
   "id": "e6c68095",
   "metadata": {},
   "outputs": [],
   "source": [
    "# 정적타입언어 => 변수에 타입을 고정해서 같은 타입의 값들만 저장.\n",
    "int age = 20\n",
    "age =40\n",
    "age =50\n",
    "\n",
    "age = '스무살' #에러"
   ]
  },
  {
   "cell_type": "code",
   "execution_count": 41,
   "id": "b2756046",
   "metadata": {},
   "outputs": [
    {
     "data": {
      "text/plain": [
       "float"
      ]
     },
     "execution_count": 41,
     "metadata": {},
     "output_type": "execute_result"
    }
   ],
   "source": [
    "#값, 변수의 타입을 확인하는 함수 - type(값)\n",
    "type(age)"
   ]
  },
  {
   "cell_type": "code",
   "execution_count": 1,
   "id": "d53a3a02",
   "metadata": {},
   "outputs": [],
   "source": [
    "#데이터 타입\n",
    "#숫자형"
   ]
  },
  {
   "cell_type": "code",
   "execution_count": 2,
   "id": "8d9caf21",
   "metadata": {},
   "outputs": [
    {
     "name": "stdout",
     "output_type": "stream",
     "text": [
      "0.5 356.7\n"
     ]
    }
   ],
   "source": [
    "f1 = 0.5\n",
    "f2 = 356.7\n",
    "print(f1,f2)"
   ]
  },
  {
   "cell_type": "code",
   "execution_count": 3,
   "id": "3f7ebe9d",
   "metadata": {},
   "outputs": [
    {
     "name": "stdout",
     "output_type": "stream",
     "text": [
      "0.5\n"
     ]
    }
   ],
   "source": [
    "f3 = .5 #정수부가 0일 경우 0은 생략가능\n",
    "print(f3)"
   ]
  },
  {
   "cell_type": "code",
   "execution_count": 4,
   "id": "fa8210ab",
   "metadata": {},
   "outputs": [
    {
     "name": "stdout",
     "output_type": "stream",
     "text": [
      "30000000000.0\n"
     ]
    }
   ],
   "source": [
    "# 지수표기법 \n",
    "f4 = 3e10 #3 x 10**10\n",
    "print(f4)"
   ]
  },
  {
   "cell_type": "code",
   "execution_count": 5,
   "id": "8fe6cec7",
   "metadata": {},
   "outputs": [
    {
     "name": "stdout",
     "output_type": "stream",
     "text": [
      "324600000.0 <class 'float'>\n"
     ]
    }
   ],
   "source": [
    "f5 = 3246e5\n",
    "print(f5,type(f5))"
   ]
  },
  {
   "cell_type": "code",
   "execution_count": 6,
   "id": "3f0b732c",
   "metadata": {},
   "outputs": [
    {
     "name": "stdout",
     "output_type": "stream",
     "text": [
      "0.003\n"
     ]
    }
   ],
   "source": [
    "f6 = 3e-3 # 3 X 10**-3\n",
    "print(f6)"
   ]
  },
  {
   "cell_type": "code",
   "execution_count": 7,
   "id": "79a84a0e",
   "metadata": {},
   "outputs": [
    {
     "data": {
      "text/plain": [
       "(int, float)"
      ]
     },
     "execution_count": 7,
     "metadata": {},
     "output_type": "execute_result"
    }
   ],
   "source": [
    "type(10), type(3.2) # int:정수타입, floot : 실수타입"
   ]
  },
  {
   "cell_type": "code",
   "execution_count": 11,
   "id": "99e0cac3",
   "metadata": {},
   "outputs": [
    {
     "name": "stdout",
     "output_type": "stream",
     "text": [
      "32\n",
      "3.3333333333333335\n",
      "3\n",
      "1\n"
     ]
    }
   ],
   "source": [
    "print(2**5) #제곱연산자\n",
    "print(10/3) #나누기\n",
    "print(10 // 3) #몫\n",
    "print(10 % 3) #나머지"
   ]
  },
  {
   "cell_type": "code",
   "execution_count": 13,
   "id": "b9e6e7eb",
   "metadata": {},
   "outputs": [
    {
     "name": "stdout",
     "output_type": "stream",
     "text": [
      "1\n"
     ]
    }
   ],
   "source": [
    "num = 1001\n",
    "#num이 5의 배수?\n",
    "print(num % 5) #결과가 0 이면 5의 배수"
   ]
  },
  {
   "cell_type": "code",
   "execution_count": 14,
   "id": "36b9919e",
   "metadata": {},
   "outputs": [
    {
     "name": "stdout",
     "output_type": "stream",
     "text": [
      "True False\n"
     ]
    }
   ],
   "source": [
    "#논리형\n",
    "b1 = True\n",
    "b2 = False\n",
    "print(b1,b2)"
   ]
  },
  {
   "cell_type": "code",
   "execution_count": 17,
   "id": "2e5169d2",
   "metadata": {},
   "outputs": [
    {
     "name": "stdout",
     "output_type": "stream",
     "text": [
      "False True True\n",
      "False False True True\n",
      "False\n"
     ]
    }
   ],
   "source": [
    "# control + /\n",
    "# bool(값) 다른 타입의 값을 논리형을 변환\n",
    "# 빈문자열, 0 , None => False\n",
    "print(bool(''), bool('abc'),bool(' '))\n",
    "print(bool(0),bool(0.0),bool(50),bool(-50))\n",
    "print(bool(None))"
   ]
  },
  {
   "cell_type": "code",
   "execution_count": 20,
   "id": "d597e528",
   "metadata": {},
   "outputs": [
    {
     "name": "stdout",
     "output_type": "stream",
     "text": [
      "False\n",
      "True\n",
      "True\n",
      "False\n"
     ]
    }
   ],
   "source": [
    "#비교연산자\n",
    "print(5 == 10)\n",
    "print(10 == 10)\n",
    "print(5 != 10)\n",
    "print(10 != 10)"
   ]
  },
  {
   "cell_type": "code",
   "execution_count": 22,
   "id": "1f001f16",
   "metadata": {},
   "outputs": [
    {
     "name": "stdout",
     "output_type": "stream",
     "text": [
      "True\n",
      "False\n"
     ]
    }
   ],
   "source": [
    "print('abc' == 'abc')\n",
    "print('abc' == 'ab')"
   ]
  },
  {
   "cell_type": "code",
   "execution_count": 24,
   "id": "8541d962",
   "metadata": {},
   "outputs": [
    {
     "name": "stdout",
     "output_type": "stream",
     "text": [
      "True\n",
      "False\n",
      "True\n"
     ]
    }
   ],
   "source": [
    "print(10>5)\n",
    "print(10<5)\n",
    "print(10>=10)"
   ]
  },
  {
   "cell_type": "code",
   "execution_count": 28,
   "id": "78fa19c7",
   "metadata": {},
   "outputs": [
    {
     "name": "stdout",
     "output_type": "stream",
     "text": [
      "False\n",
      "97 98\n"
     ]
    }
   ],
   "source": [
    "print('a' > 'b')\n",
    "print(ord('a'),ord('b')) #문자를 숫자로 변경"
   ]
  },
  {
   "cell_type": "code",
   "execution_count": 29,
   "id": "711c98ff",
   "metadata": {},
   "outputs": [
    {
     "name": "stdout",
     "output_type": "stream",
     "text": [
      "35 48 65 97 44032\n"
     ]
    }
   ],
   "source": [
    "#특수문자      숫자      영문자      한글\n",
    "print(ord('#'), ord('0'), ord('A'), ord('a'), ord('가'))"
   ]
  },
  {
   "cell_type": "code",
   "execution_count": 30,
   "id": "e155246e",
   "metadata": {},
   "outputs": [
    {
     "name": "stdout",
     "output_type": "stream",
     "text": [
      "False\n"
     ]
    }
   ],
   "source": [
    "print('abcdf' > 'abcef')"
   ]
  },
  {
   "cell_type": "code",
   "execution_count": 39,
   "id": "29bd805a",
   "metadata": {},
   "outputs": [
    {
     "name": "stdout",
     "output_type": "stream",
     "text": [
      "False\n",
      "True\n"
     ]
    }
   ],
   "source": [
    "num = 30\n",
    "# num이 5~20 사이의 숫자인가?\n",
    "result = (num > 5) & (num <20)\n",
    "print(result)\n",
    "print(not result)"
   ]
  },
  {
   "cell_type": "code",
   "execution_count": 38,
   "id": "e5b3a42b",
   "metadata": {},
   "outputs": [
    {
     "name": "stdout",
     "output_type": "stream",
     "text": [
      "True\n",
      "False\n"
     ]
    }
   ],
   "source": [
    "num = 30\n",
    "# num이 5~20 사이 밖의 숫자인가?\n",
    "result = (num < 5) | (num > 20)\n",
    "print(result)\n",
    "print(not result)"
   ]
  },
  {
   "cell_type": "code",
   "execution_count": 42,
   "id": "bc13930f",
   "metadata": {},
   "outputs": [
    {
     "name": "stdout",
     "output_type": "stream",
     "text": [
      "음수\n"
     ]
    }
   ],
   "source": [
    "# 조건연산자\n",
    "num = -10\n",
    "var = '양수'   if num >= 0  else '음수'\n",
    "\n",
    "print(var)"
   ]
  },
  {
   "cell_type": "code",
   "execution_count": 43,
   "id": "85368270",
   "metadata": {},
   "outputs": [],
   "source": [
    "#문자열"
   ]
  },
  {
   "cell_type": "code",
   "execution_count": 46,
   "id": "0d58b2e8",
   "metadata": {},
   "outputs": [
    {
     "name": "stdout",
     "output_type": "stream",
     "text": [
      "abc\bd\n",
      "abc\n",
      "def\n",
      "ghi\n",
      "abc\n",
      "def\n",
      "ghi\n",
      "abc\tdef\n"
     ]
    }
   ],
   "source": [
    "# escape 문자\n",
    "print('abc\\bd')\n",
    "print('abc\\ndef\\nghi')\n",
    "print('''abc\n",
    "def\n",
    "ghi''')\n",
    "print('abc\\tdef')"
   ]
  },
  {
   "cell_type": "code",
   "execution_count": 47,
   "id": "034025c7",
   "metadata": {},
   "outputs": [
    {
     "name": "stdout",
     "output_type": "stream",
     "text": [
      "a\\b\\c\n"
     ]
    }
   ],
   "source": [
    "print('a\\\\b\\\\c')"
   ]
  },
  {
   "cell_type": "code",
   "execution_count": 48,
   "id": "92630bf0",
   "metadata": {},
   "outputs": [
    {
     "name": "stdout",
     "output_type": "stream",
     "text": [
      "a\\b\\c\n"
     ]
    }
   ],
   "source": [
    "print(r'a\\b\\c')\n",
    "#escape문자의 \\를 무시:r-string"
   ]
  },
  {
   "cell_type": "code",
   "execution_count": 49,
   "id": "4d57c9db",
   "metadata": {},
   "outputs": [
    {
     "name": "stdout",
     "output_type": "stream",
     "text": [
      "I'm a boy\n",
      "I'm a boy\n"
     ]
    }
   ],
   "source": [
    "print('I\\'m a boy')\n",
    "print(\"I'm a boy\")"
   ]
  },
  {
   "cell_type": "code",
   "execution_count": 51,
   "id": "fd65478f",
   "metadata": {},
   "outputs": [
    {
     "name": "stdout",
     "output_type": "stream",
     "text": [
      "abc\"def\n",
      "abc\"def\n"
     ]
    }
   ],
   "source": [
    "print('abc\"def')\n",
    "print(\"abc\\\"def\")\n"
   ]
  },
  {
   "cell_type": "code",
   "execution_count": 53,
   "id": "09bcaa0a",
   "metadata": {},
   "outputs": [
    {
     "name": "stdout",
     "output_type": "stream",
     "text": [
      "ab\n",
      "이름:홍길동\n"
     ]
    }
   ],
   "source": [
    "#문자열 연산자\n",
    "print('a'+'b') #합친다.\n",
    "name = '홍길동'\n",
    "print(\"이름:\"+name)"
   ]
  },
  {
   "cell_type": "code",
   "execution_count": 55,
   "id": "469455af",
   "metadata": {},
   "outputs": [
    {
     "name": "stdout",
     "output_type": "stream",
     "text": [
      "나이:20\n",
      "키:178.8\n"
     ]
    }
   ],
   "source": [
    "age =20\n",
    "tall = 178.8\n",
    "print(\"나이:\"+str(age))\n",
    "print(\"키:\"+str(tall))"
   ]
  },
  {
   "cell_type": "code",
   "execution_count": 56,
   "id": "10b14608",
   "metadata": {},
   "outputs": [
    {
     "name": "stdout",
     "output_type": "stream",
     "text": [
      "abcdabcdabcdabcdabcd\n"
     ]
    }
   ],
   "source": [
    "print('abcd'*5)"
   ]
  },
  {
   "cell_type": "code",
   "execution_count": 58,
   "id": "87102192",
   "metadata": {},
   "outputs": [
    {
     "name": "stdout",
     "output_type": "stream",
     "text": [
      "홍길동 3\n",
      "17\n"
     ]
    }
   ],
   "source": [
    "print(name, len(name))\n",
    "print(len('akasdlkfajsafsdlk'))"
   ]
  },
  {
   "cell_type": "code",
   "execution_count": 62,
   "id": "286a66b4",
   "metadata": {},
   "outputs": [
    {
     "name": "stdout",
     "output_type": "stream",
     "text": [
      "True False\n"
     ]
    }
   ],
   "source": [
    "addr = '서울시 서초구 서초동'\n",
    "r = '서초구' in addr #addr 문자열 안에 '서초구'문자열이 있냐\n",
    "r2 = '종로구' in addr\n",
    "print(r,r2)"
   ]
  },
  {
   "cell_type": "code",
   "execution_count": 63,
   "id": "d7a6b251",
   "metadata": {},
   "outputs": [
    {
     "name": "stdout",
     "output_type": "stream",
     "text": [
      "False True\n"
     ]
    }
   ],
   "source": [
    "r = '서초구' not in addr #addr 문자열 안에 '서초구'문자열이 없냐\n",
    "r2 = '종로구' not in addr\n",
    "print(r,r2)"
   ]
  },
  {
   "cell_type": "code",
   "execution_count": 64,
   "id": "bc024cd0",
   "metadata": {},
   "outputs": [
    {
     "name": "stdout",
     "output_type": "stream",
     "text": [
      "2\n",
      "4\n",
      "6\n"
     ]
    }
   ],
   "source": [
    "print(1+1)\n",
    "print(2+2)\n",
    "print(3+3)\n"
   ]
  },
  {
   "cell_type": "code",
   "execution_count": 65,
   "id": "01aba453",
   "metadata": {},
   "outputs": [
    {
     "data": {
      "text/plain": [
       "'a'"
      ]
     },
     "execution_count": 65,
     "metadata": {},
     "output_type": "execute_result"
    }
   ],
   "source": [
    "\"a\""
   ]
  },
  {
   "cell_type": "code",
   "execution_count": 66,
   "id": "470a9e3c",
   "metadata": {},
   "outputs": [
    {
     "name": "stdout",
     "output_type": "stream",
     "text": [
      "a\n"
     ]
    }
   ],
   "source": [
    "print(\"a\")"
   ]
  },
  {
   "cell_type": "code",
   "execution_count": 67,
   "id": "7351154e",
   "metadata": {},
   "outputs": [
    {
     "name": "stdout",
     "output_type": "stream",
     "text": [
      "a 20 30 3.2323\n",
      "a|20|30|3.2323\n"
     ]
    }
   ],
   "source": [
    "print(\"a\", 20, \"30\", 3.2323) #출력하려는 값들이 여러개일 경우 , 를 구분자로해서 나열\n",
    "print(\"a\", 20, \"30\", 3.2323, sep='|')"
   ]
  },
  {
   "cell_type": "code",
   "execution_count": 69,
   "id": "9b8e50a1",
   "metadata": {},
   "outputs": [
    {
     "name": "stdout",
     "output_type": "stream",
     "text": [
      "abc\n",
      "def\n"
     ]
    }
   ],
   "source": [
    "#print() 출력할 값 뒤에 엔터를 기본적으로 붙인뒤 출력한다. 그래서 다음출력은 다음줄에 나타남\n",
    "print('abc')\n",
    "print('def')"
   ]
  },
  {
   "cell_type": "code",
   "execution_count": 70,
   "id": "98479a26",
   "metadata": {},
   "outputs": [
    {
     "name": "stdout",
     "output_type": "stream",
     "text": [
      "abcdef\n"
     ]
    }
   ],
   "source": [
    "print('abc', end= '') #end는 출력할 값뒤에 붙일 값을 변경한다.\n",
    "print('def')"
   ]
  },
  {
   "cell_type": "code",
   "execution_count": 71,
   "id": "438e5bd1",
   "metadata": {},
   "outputs": [],
   "source": [
    "#인덱싱"
   ]
  },
  {
   "cell_type": "code",
   "execution_count": 80,
   "id": "83bdf188",
   "metadata": {},
   "outputs": [
    {
     "name": "stdout",
     "output_type": "stream",
     "text": [
      "안녕하세요. 반갑습니다.\n"
     ]
    }
   ],
   "source": [
    "s=\"안녕하세요. 반갑습니다.\"\n",
    "print(s)"
   ]
  },
  {
   "cell_type": "code",
   "execution_count": 81,
   "id": "b14ac95b",
   "metadata": {},
   "outputs": [
    {
     "name": "stdout",
     "output_type": "stream",
     "text": [
      "2번 index 글자(3번째): 하\n",
      "5번 index 글자(6번째): .\n",
      "뒤에서 2번째 글자: 다\n",
      "반 반\n"
     ]
    }
   ],
   "source": [
    "print(\"2번 index 글자(3번째):\",s[2])\n",
    "print(\"5번 index 글자(6번째):\",s[5])\n",
    "print('뒤에서 2번째 글자:',s[-2])\n",
    "print(s[7],s[-6])"
   ]
  },
  {
   "cell_type": "code",
   "execution_count": 83,
   "id": "ad5c17e7",
   "metadata": {},
   "outputs": [
    {
     "name": "stdout",
     "output_type": "stream",
     "text": [
      "14\n"
     ]
    }
   ],
   "source": [
    "s = \"abcdefghijklmn\"\n",
    "print(len(s)) #14글자 - index: 0 ~ 13"
   ]
  },
  {
   "cell_type": "code",
   "execution_count": 85,
   "id": "53fba5d4",
   "metadata": {},
   "outputs": [
    {
     "data": {
      "text/plain": [
       "'cegi'"
      ]
     },
     "execution_count": 85,
     "metadata": {},
     "output_type": "execute_result"
    }
   ],
   "source": [
    "s[2:10:2] #범위 : 2~ 10-1(9) / 간격 : 2 => 2,4,6,8"
   ]
  },
  {
   "cell_type": "code",
   "execution_count": 88,
   "id": "8ecd2c3b",
   "metadata": {},
   "outputs": [
    {
     "data": {
      "text/plain": [
       "'cdefghij'"
      ]
     },
     "execution_count": 88,
     "metadata": {},
     "output_type": "execute_result"
    }
   ],
   "source": [
    "s[2:10] # 간격생략 - 기본값:1, :도 생략가능"
   ]
  },
  {
   "cell_type": "code",
   "execution_count": 90,
   "id": "2692467c",
   "metadata": {},
   "outputs": [
    {
     "data": {
      "text/plain": [
       "'abcdefghij'"
      ]
     },
     "execution_count": 90,
     "metadata": {},
     "output_type": "execute_result"
    }
   ],
   "source": [
    "s[:10] #시작 생략 - 기본값:0 : 0~9"
   ]
  },
  {
   "cell_type": "code",
   "execution_count": 91,
   "id": "0abfcbde",
   "metadata": {},
   "outputs": [
    {
     "data": {
      "text/plain": [
       "'klmn'"
      ]
     },
     "execution_count": 91,
     "metadata": {},
     "output_type": "execute_result"
    }
   ],
   "source": [
    "s[10:] #종료 생략 - 마지막 index까지 다 조회"
   ]
  },
  {
   "cell_type": "code",
   "execution_count": 93,
   "id": "c89d1705",
   "metadata": {},
   "outputs": [
    {
     "data": {
      "text/plain": [
       "'adgjm'"
      ]
     },
     "execution_count": 93,
     "metadata": {},
     "output_type": "execute_result"
    }
   ],
   "source": [
    "s[::3] #전체에서 3칸씩 건너서 가져옴"
   ]
  },
  {
   "cell_type": "code",
   "execution_count": 95,
   "id": "3f6a43f9",
   "metadata": {},
   "outputs": [
    {
     "data": {
      "text/plain": [
       "'fedc'"
      ]
     },
     "execution_count": 95,
     "metadata": {},
     "output_type": "execute_result"
    }
   ],
   "source": [
    "s[5:1:-1] #시작:5 ~ 종료:2"
   ]
  },
  {
   "cell_type": "code",
   "execution_count": 96,
   "id": "1e4811c3",
   "metadata": {},
   "outputs": [
    {
     "data": {
      "text/plain": [
       "'nmlkjihgfedcba'"
      ]
     },
     "execution_count": 96,
     "metadata": {},
     "output_type": "execute_result"
    }
   ],
   "source": [
    "s[::-1]"
   ]
  },
  {
   "cell_type": "code",
   "execution_count": 97,
   "id": "40d10385",
   "metadata": {},
   "outputs": [
    {
     "data": {
      "text/plain": [
       "'mlkjihgfe'"
      ]
     },
     "execution_count": 97,
     "metadata": {},
     "output_type": "execute_result"
    }
   ],
   "source": [
    "s[-2:3:-1]"
   ]
  },
  {
   "cell_type": "code",
   "execution_count": 98,
   "id": "dae1645c",
   "metadata": {},
   "outputs": [],
   "source": [
    "#formatting 문자열"
   ]
  },
  {
   "cell_type": "code",
   "execution_count": 100,
   "id": "e27647a4",
   "metadata": {},
   "outputs": [],
   "source": [
    "name1, age1, address1 = '홍길동', 10, '서울'\n",
    "name2, age2, address2 = '이순신', 20, '인천'\n",
    "name3, age3, address3 = '강감찬', 30, '부산'"
   ]
  },
  {
   "cell_type": "code",
   "execution_count": 102,
   "id": "3ea1fe07",
   "metadata": {},
   "outputs": [
    {
     "name": "stdout",
     "output_type": "stream",
     "text": [
      "홍길동10서울\n"
     ]
    }
   ],
   "source": [
    "info1 = name1+str(age1)+address1\n",
    "print(info1)"
   ]
  },
  {
   "cell_type": "code",
   "execution_count": 105,
   "id": "9be7cd01",
   "metadata": {},
   "outputs": [
    {
     "name": "stdout",
     "output_type": "stream",
     "text": [
      "이름:이순신\n",
      "나이:20세\n",
      "주소:인천\n"
     ]
    }
   ],
   "source": [
    "info2 = '이름:'+name2+'\\n나이:'+str(age2)+'세\\n주소:'+address2\n",
    "print(info2)"
   ]
  },
  {
   "cell_type": "code",
   "execution_count": 110,
   "id": "ee16e0d7",
   "metadata": {},
   "outputs": [],
   "source": [
    "info_layout = \"이름: {}\\n나이: {}세 \\n주소: {}\"\n",
    "info1 = info_layout.format(name1, age1, address1)"
   ]
  },
  {
   "cell_type": "code",
   "execution_count": 113,
   "id": "274a63c1",
   "metadata": {},
   "outputs": [
    {
     "name": "stdout",
     "output_type": "stream",
     "text": [
      "이름: 홍길동\n",
      "나이:10세 \n",
      "주소: 서울\n"
     ]
    }
   ],
   "source": [
    "print(info1)"
   ]
  },
  {
   "cell_type": "code",
   "execution_count": 114,
   "id": "cf161880",
   "metadata": {},
   "outputs": [
    {
     "name": "stdout",
     "output_type": "stream",
     "text": [
      "이름: 홍길동\n",
      "나이: 20세\n",
      "주소: 부산\n"
     ]
    }
   ],
   "source": [
    "print(\"이름: {}\\n나이: {}세\\n주소: {}\".format(name1,age2,address3))"
   ]
  },
  {
   "cell_type": "code",
   "execution_count": 115,
   "id": "aa6a7ecc",
   "metadata": {},
   "outputs": [
    {
     "name": "stdout",
     "output_type": "stream",
     "text": [
      "이름: 홍길동\n",
      "나이: 10세\n",
      "주소: 서울, 이름: 10\n"
     ]
    }
   ],
   "source": [
    "# {0}:첫번째 값, {1}: 두번째 값\n",
    "# 동일한 값을 여러군데에서 사용 할 경우.\n",
    "print(\"이름: {0}\\n나이: {1}세\\n주소: {2}, 이름: {1}\".format(name1, age1, address1))"
   ]
  },
  {
   "cell_type": "code",
   "execution_count": 116,
   "id": "8568fe5d",
   "metadata": {},
   "outputs": [
    {
     "name": "stdout",
     "output_type": "stream",
     "text": [
      "이름: 홍길동\n",
      "나이: 10세\n",
      "주소: 서울\n"
     ]
    }
   ],
   "source": [
    "#{name}: 괄호의 이름지정, 값 전달시 괄호이름=값\n",
    "print(\"이름: {name}\\n나이: {age}세\\n주소: {addr}\".format(name=name1, age=age1, addr=address1))"
   ]
  },
  {
   "cell_type": "code",
   "execution_count": 120,
   "id": "78b225ef",
   "metadata": {},
   "outputs": [
    {
     "name": "stdout",
     "output_type": "stream",
     "text": [
      "이름: 홍길동, 나이: 23, 몸무게: 72.70\n"
     ]
    }
   ],
   "source": [
    "#형식문자를 이용한 문자열 formatting\n",
    "# %s-string %d-int, %f-floot\n",
    "name,age,weight = '홍길동', 23, 72.7\n",
    "info = \"이름: %s, 나이: %d, 몸무게: %.2f\" % (name,age,weight)\n",
    "print(info)"
   ]
  },
  {
   "cell_type": "code",
   "execution_count": 121,
   "id": "9b708ead",
   "metadata": {},
   "outputs": [
    {
     "name": "stdout",
     "output_type": "stream",
     "text": [
      "이름: 홍길동, 나이:23, 몸무게:72.7\n"
     ]
    }
   ],
   "source": [
    "# f-string\n",
    "name,age,weight = '홍길동', 23, 72.7\n",
    "print(f\"이름: {name}, 나이:{age}, 몸무게:{weight}\")"
   ]
  },
  {
   "cell_type": "code",
   "execution_count": 130,
   "id": "8be60e88",
   "metadata": {},
   "outputs": [
    {
     "name": "stdout",
     "output_type": "stream",
     "text": [
      "이름: 홍길동  , 나이:23, 몸무게:81.16\n"
     ]
    }
   ],
   "source": [
    "weight = 81.156\n",
    "print(f\"이름: {name:<5}, 나이:{age}, 몸무게:{weight:.2f}\")"
   ]
  },
  {
   "cell_type": "code",
   "execution_count": 132,
   "id": "737aa682",
   "metadata": {},
   "outputs": [
    {
     "data": {
      "text/plain": [
       "'이름:홍길'"
      ]
     },
     "execution_count": 132,
     "metadata": {},
     "output_type": "execute_result"
    }
   ],
   "source": [
    "# 타입 : f-실수, d-정수, s-문자열\n",
    "f\"이름:{name:.2s}\""
   ]
  },
  {
   "cell_type": "code",
   "execution_count": 135,
   "id": "454a66fd",
   "metadata": {},
   "outputs": [
    {
     "data": {
      "text/plain": [
       "['사과', '귤', '배', '수박', '복숭아']"
      ]
     },
     "execution_count": 135,
     "metadata": {},
     "output_type": "execute_result"
    }
   ],
   "source": [
    "#문자열 관련 함수/메소드\n",
    "s=\"사과|귤|배|수박|복숭아\"\n",
    "s.split('|')"
   ]
  },
  {
   "cell_type": "code",
   "execution_count": 139,
   "id": "e8006cad",
   "metadata": {},
   "outputs": [
    {
     "data": {
      "text/plain": [
       "'abc'"
      ]
     },
     "execution_count": 139,
     "metadata": {},
     "output_type": "execute_result"
    }
   ],
   "source": [
    "s2 = \"       abc      \"\n",
    "s2.lstrip()\n",
    "s2.rstrip()\n",
    "s2.strip()"
   ]
  },
  {
   "cell_type": "code",
   "execution_count": 140,
   "id": "e89b3563",
   "metadata": {},
   "outputs": [
    {
     "data": {
      "text/plain": [
       "'가c가c가c'"
      ]
     },
     "execution_count": 140,
     "metadata": {},
     "output_type": "execute_result"
    }
   ],
   "source": [
    "s3 = \"abcabcabc\"\n",
    "s3.replace('ab','가') #ab를 가 로 변경"
   ]
  },
  {
   "cell_type": "code",
   "execution_count": 150,
   "id": "f89ffaf5",
   "metadata": {},
   "outputs": [
    {
     "data": {
      "text/plain": [
       "3"
      ]
     },
     "execution_count": 150,
     "metadata": {},
     "output_type": "execute_result"
    }
   ],
   "source": [
    "len(s3) #s3의 글자 수\n",
    "s3.count('a')\n",
    "s3.count('bc')\n"
   ]
  },
  {
   "cell_type": "code",
   "execution_count": 151,
   "id": "748cda30",
   "metadata": {},
   "outputs": [
    {
     "data": {
      "text/plain": [
       "'abcabcabc'"
      ]
     },
     "execution_count": 151,
     "metadata": {},
     "output_type": "execute_result"
    }
   ],
   "source": [
    "s3"
   ]
  },
  {
   "cell_type": "code",
   "execution_count": 157,
   "id": "c47ae911",
   "metadata": {
    "scrolled": true
   },
   "outputs": [
    {
     "ename": "ValueError",
     "evalue": "substring not found",
     "output_type": "error",
     "traceback": [
      "\u001b[0;31m---------------------------------------------------------------------------\u001b[0m",
      "\u001b[0;31mValueError\u001b[0m                                Traceback (most recent call last)",
      "Input \u001b[0;32mIn [157]\u001b[0m, in \u001b[0;36m<cell line: 2>\u001b[0;34m()\u001b[0m\n\u001b[1;32m      1\u001b[0m s3\u001b[38;5;241m.\u001b[39mindex(\u001b[38;5;124m'\u001b[39m\u001b[38;5;124ma\u001b[39m\u001b[38;5;124m'\u001b[39m) \u001b[38;5;66;03m#a의 index\u001b[39;00m\n\u001b[0;32m----> 2\u001b[0m \u001b[43ms3\u001b[49m\u001b[38;5;241;43m.\u001b[39;49m\u001b[43mindex\u001b[49m\u001b[43m(\u001b[49m\u001b[38;5;124;43m'\u001b[39;49m\u001b[38;5;124;43m가\u001b[39;49m\u001b[38;5;124;43m'\u001b[39;49m\u001b[43m)\u001b[49m\n",
      "\u001b[0;31mValueError\u001b[0m: substring not found"
     ]
    }
   ],
   "source": [
    "s3.index('a') #a의 index\n",
    "s3.index('가') #없는 문자는 에러"
   ]
  },
  {
   "cell_type": "code",
   "execution_count": 156,
   "id": "257a11a5",
   "metadata": {},
   "outputs": [
    {
     "data": {
      "text/plain": [
       "-1"
      ]
     },
     "execution_count": 156,
     "metadata": {},
     "output_type": "execute_result"
    }
   ],
   "source": [
    "s3.find('a')\n",
    "s3.find('가') #없는문자열을 찾을 경우 -1을 반환"
   ]
  },
  {
   "cell_type": "code",
   "execution_count": 158,
   "id": "2835c472",
   "metadata": {},
   "outputs": [
    {
     "data": {
      "text/plain": [
       "'가 없다'"
      ]
     },
     "execution_count": 158,
     "metadata": {},
     "output_type": "execute_result"
    }
   ],
   "source": [
    "\"가 없다\"if s3.find('가') == -1 else \"가 있다\""
   ]
  },
  {
   "cell_type": "code",
   "execution_count": 160,
   "id": "b69a0f36",
   "metadata": {},
   "outputs": [],
   "source": [
    "s4 = 'abcd'"
   ]
  },
  {
   "cell_type": "code",
   "execution_count": 161,
   "id": "a47f05fa",
   "metadata": {},
   "outputs": [
    {
     "data": {
      "text/plain": [
       "'ABCD'"
      ]
     },
     "execution_count": 161,
     "metadata": {},
     "output_type": "execute_result"
    }
   ],
   "source": [
    "s4.upper()"
   ]
  },
  {
   "cell_type": "code",
   "execution_count": 162,
   "id": "5be20824",
   "metadata": {},
   "outputs": [
    {
     "data": {
      "text/plain": [
       "'abcd'"
      ]
     },
     "execution_count": 162,
     "metadata": {},
     "output_type": "execute_result"
    }
   ],
   "source": [
    "s4.lower()"
   ]
  },
  {
   "cell_type": "code",
   "execution_count": 165,
   "id": "285acde6",
   "metadata": {},
   "outputs": [
    {
     "data": {
      "text/plain": [
       "False"
      ]
     },
     "execution_count": 165,
     "metadata": {},
     "output_type": "execute_result"
    }
   ],
   "source": [
    "addr = '서울시 서대문구'\n",
    "addr.startswith('서울')\n",
    "addr.startswith('광주')"
   ]
  },
  {
   "cell_type": "code",
   "execution_count": 168,
   "id": "3201d19c",
   "metadata": {},
   "outputs": [
    {
     "data": {
      "text/plain": [
       "False"
      ]
     },
     "execution_count": 168,
     "metadata": {},
     "output_type": "execute_result"
    }
   ],
   "source": [
    "url = 'www.naver.com'\n",
    "url.endswith('.com')\n",
    "url.endswith('.net')"
   ]
  },
  {
   "cell_type": "code",
   "execution_count": 175,
   "id": "6a922f06",
   "metadata": {},
   "outputs": [
    {
     "name": "stdout",
     "output_type": "stream",
     "text": [
      "num1:20\n"
     ]
    }
   ],
   "source": [
    "#타입변환\n",
    "\n",
    "num1 = input(\"num1:\") #사용자로부터 값을 입력받을 때 사용, 입력받은 값을 str로 반환"
   ]
  },
  {
   "cell_type": "code",
   "execution_count": 176,
   "id": "e762585e",
   "metadata": {},
   "outputs": [
    {
     "name": "stdout",
     "output_type": "stream",
     "text": [
      "num2:50\n"
     ]
    }
   ],
   "source": [
    "num2 = input(\"num2:\")"
   ]
  },
  {
   "cell_type": "code",
   "execution_count": 178,
   "id": "618d9f40",
   "metadata": {},
   "outputs": [
    {
     "data": {
      "text/plain": [
       "70"
      ]
     },
     "execution_count": 178,
     "metadata": {},
     "output_type": "execute_result"
    }
   ],
   "source": [
    "# 덧셈을 하려면 문자열을 정수/실수 변환\n",
    "int(num1)+int(num2)"
   ]
  },
  {
   "cell_type": "code",
   "execution_count": 180,
   "id": "58bb2997",
   "metadata": {},
   "outputs": [
    {
     "data": {
      "text/plain": [
       "70.0"
      ]
     },
     "execution_count": 180,
     "metadata": {},
     "output_type": "execute_result"
    }
   ],
   "source": [
    "float(num1) + float(num2) # '50' => 50.0"
   ]
  },
  {
   "cell_type": "code",
   "execution_count": 181,
   "id": "7fce4054",
   "metadata": {},
   "outputs": [
    {
     "name": "stdout",
     "output_type": "stream",
     "text": [
      "abc\n"
     ]
    }
   ],
   "source": [
    "s = input()"
   ]
  },
  {
   "cell_type": "code",
   "execution_count": 183,
   "id": "bd8d004f",
   "metadata": {},
   "outputs": [
    {
     "ename": "ValueError",
     "evalue": "invalid literal for int() with base 10: 'abc'",
     "output_type": "error",
     "traceback": [
      "\u001b[0;31m---------------------------------------------------------------------------\u001b[0m",
      "\u001b[0;31mValueError\u001b[0m                                Traceback (most recent call last)",
      "Input \u001b[0;32mIn [183]\u001b[0m, in \u001b[0;36m<cell line: 1>\u001b[0;34m()\u001b[0m\n\u001b[0;32m----> 1\u001b[0m \u001b[38;5;28;43mint\u001b[39;49m\u001b[43m(\u001b[49m\u001b[43ms\u001b[49m\u001b[43m)\u001b[49m\n",
      "\u001b[0;31mValueError\u001b[0m: invalid literal for int() with base 10: 'abc'"
     ]
    }
   ],
   "source": [
    "int(s) #abc를 정수로 변환\n",
    "#float(), int()는 변환가능한 형태의 문자열만 변환"
   ]
  },
  {
   "cell_type": "code",
   "execution_count": 184,
   "id": "12ca9151",
   "metadata": {},
   "outputs": [
    {
     "data": {
      "text/plain": [
       "0"
      ]
     },
     "execution_count": 184,
     "metadata": {},
     "output_type": "execute_result"
    }
   ],
   "source": [
    "int(True) # True = 1\n",
    "int(False)# False = 0"
   ]
  },
  {
   "cell_type": "code",
   "execution_count": 185,
   "id": "8580ac96",
   "metadata": {},
   "outputs": [
    {
     "data": {
      "text/plain": [
       "'901211'"
      ]
     },
     "execution_count": 185,
     "metadata": {},
     "output_type": "execute_result"
    }
   ],
   "source": [
    "#1. 주민번호 \"901211-1027213\"의 앞 6자리만 조회해서 출력하시오.\n",
    "num = \"901211-1027213\"\n",
    "\n",
    "num[:6]"
   ]
  },
  {
   "cell_type": "code",
   "execution_count": 188,
   "id": "5df5a93b",
   "metadata": {},
   "outputs": [
    {
     "name": "stdout",
     "output_type": "stream",
     "text": [
      "안녕하세요 안녕하세요 안녕하세요 안녕하세요 안녕하세요 안녕하세요 안녕하세요 안녕하세요 안녕하세요 안녕하세요 \n"
     ]
    }
   ],
   "source": [
    "#2. \"안녕하세요\" 를 10번 출력하시오.\n",
    "word = '안녕하세요 '\n",
    "\n",
    "print(word*10)"
   ]
  },
  {
   "cell_type": "code",
   "execution_count": 190,
   "id": "fdafb724",
   "metadata": {},
   "outputs": [
    {
     "data": {
      "text/plain": [
       "24"
      ]
     },
     "execution_count": 190,
     "metadata": {},
     "output_type": "execute_result"
    }
   ],
   "source": [
    "#3. 다음 문자열의 글자수를 출력하시오.\n",
    "word = \"akdlclkdkdlelql39du7마구0ㅌ\" \n",
    "len(word)\n"
   ]
  },
  {
   "cell_type": "code",
   "execution_count": 201,
   "id": "840e1029",
   "metadata": {},
   "outputs": [
    {
     "name": "stdout",
     "output_type": "stream",
     "text": [
      "제품명: TV, 가격: 300000,제조사: LG\n",
      "제품명 : TV, 가격 : 300000, 제조사 : LG\n",
      "제품명: TV, 가격: 300000, 제조사: LG\n",
      "제품명: TV, 가격: 300000, 제조사: LG\n"
     ]
    }
   ],
   "source": [
    "#4.\n",
    "name=\"TV\"\n",
    "price=300000\n",
    "maker = \"LG\"\n",
    "# 위 변수의 값을 다음과 같은 형태로 출력하시오.\n",
    "#\"제품명 : TV, 가격 : 300000, 제조사 : LG\"\n",
    "print('제품명: '+name+', 가격: '+str(price)+\",제조사: \"+maker)\n",
    "print(f\"제품명 : {name}, 가격 : {price}, 제조사 : {maker}\")\n",
    "print('제품명: {}, 가격: {}, 제조사: {}'.format(name,price,maker))\n",
    "print('제품명: %s, 가격: %d, 제조사: %s'%(name,price,maker))"
   ]
  },
  {
   "cell_type": "code",
   "execution_count": 205,
   "id": "4fdcb826",
   "metadata": {},
   "outputs": [
    {
     "name": "stdout",
     "output_type": "stream",
     "text": [
      "False\n"
     ]
    },
    {
     "data": {
      "text/plain": [
       "'없음'"
      ]
     },
     "execution_count": 205,
     "metadata": {},
     "output_type": "execute_result"
    }
   ],
   "source": [
    "#5\n",
    "fruits = \"사과 복숭아 귤 배\"\n",
    "# 위 fruits에 \"수박\"이 있는지 확인하는 코드를 작성하시오.\n",
    "print('수박' in fruits)\n",
    "'있음' if '수박' in fruits else '없음' #없으면 -1 반환"
   ]
  },
  {
   "cell_type": "code",
   "execution_count": 197,
   "id": "bf31a8b9",
   "metadata": {},
   "outputs": [
    {
     "data": {
      "text/plain": [
       "9"
      ]
     },
     "execution_count": 197,
     "metadata": {},
     "output_type": "execute_result"
    }
   ],
   "source": [
    "#6 \n",
    "str_value=\"aldkjaldjfalfjlksajfladlkaalalkdjfa\"\n",
    "# str_value 문자열안에 a가 몇개 있는지 출력하시오.\n",
    "str_value.count('a')"
   ]
  },
  {
   "cell_type": "code",
   "execution_count": null,
   "id": "465eb5bf",
   "metadata": {},
   "outputs": [],
   "source": []
  },
  {
   "cell_type": "code",
   "execution_count": null,
   "id": "04bfa148",
   "metadata": {},
   "outputs": [],
   "source": []
  },
  {
   "cell_type": "code",
   "execution_count": null,
   "id": "bdab4ce8",
   "metadata": {},
   "outputs": [],
   "source": []
  },
  {
   "cell_type": "code",
   "execution_count": null,
   "id": "0192fc2b",
   "metadata": {},
   "outputs": [],
   "source": []
  },
  {
   "cell_type": "code",
   "execution_count": null,
   "id": "92571cb9",
   "metadata": {},
   "outputs": [],
   "source": []
  },
  {
   "cell_type": "code",
   "execution_count": null,
   "id": "5b123db7",
   "metadata": {},
   "outputs": [],
   "source": []
  }
 ],
 "metadata": {
  "kernelspec": {
   "display_name": "Python 3 (ipykernel)",
   "language": "python",
   "name": "python3"
  },
  "language_info": {
   "codemirror_mode": {
    "name": "ipython",
    "version": 3
   },
   "file_extension": ".py",
   "mimetype": "text/x-python",
   "name": "python",
   "nbconvert_exporter": "python",
   "pygments_lexer": "ipython3",
   "version": "3.9.7"
  }
 },
 "nbformat": 4,
 "nbformat_minor": 5
}
