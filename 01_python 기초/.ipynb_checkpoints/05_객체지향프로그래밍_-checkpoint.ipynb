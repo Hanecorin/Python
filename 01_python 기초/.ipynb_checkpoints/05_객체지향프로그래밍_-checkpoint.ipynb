{
 "cells": [
  {
   "cell_type": "markdown",
   "id": "1966835b",
   "metadata": {},
   "source": [
    "# 클래스와 객체\n",
    "- 클래스(class)\n",
    "    - 사용자 정의 데이터타입. \n",
    "    - 특정 데이이터 맞게 정의한 dictionary개념(값을 key-value 쌍으로 관리)\n",
    "- 객체 (instance)\n",
    "    - 클래스로 부터 생성된 값\n",
    "- Attribute, Instance 변수\n",
    "    - 객체를 구성하는 값으로 객체의 속성, 상태를 표현한다.\n",
    "    - 보통  initializer를 이용해 초기화 한다. \n",
    "- Instance method(메소드)\n",
    "    - 객체가 제공하는 기능으로 사용자 정의 데이터타입(class)의 연산자이다. \n",
    "    - 클래스 구현부에 정의한다."
   ]
  },
  {
   "cell_type": "code",
   "execution_count": null,
   "id": "91318d44",
   "metadata": {},
   "outputs": [],
   "source": [
    "# member_name: snake 표기법\n",
    "# MemberName: 파스칼 표기법\n",
    "# memberName: camel 표기법"
   ]
  },
  {
   "cell_type": "code",
   "execution_count": 1,
   "id": "0bc34e9f",
   "metadata": {},
   "outputs": [],
   "source": [
    "# Person 이란 이름의 클래스(사용자정의 데이터타입) 정의\n",
    "# class 이름: 이름규칙 - 변수규칙과 동일\n",
    "#             관례 - 파스칼표기법. 단어의 첫글자는 대문자로 하고 나머진 소문자.\n",
    "class Person:  #클래스 선언부\n",
    "    pass  #block 내용이 없다.   # 클래스 구현(block) "
   ]
  },
  {
   "cell_type": "code",
   "execution_count": 4,
   "id": "214ffd90",
   "metadata": {},
   "outputs": [
    {
     "name": "stdout",
     "output_type": "stream",
     "text": [
      "<class '__main__.Person'>\n"
     ]
    }
   ],
   "source": [
    "# 객체(instance) 생성 -> 값을 생성\n",
    "# 클래스이름()\n",
    "p = Person()\n",
    "print(type(p))"
   ]
  },
  {
   "cell_type": "code",
   "execution_count": 8,
   "id": "fbe57f56",
   "metadata": {},
   "outputs": [],
   "source": [
    "# Person 객체에 속성을 추가/조회\n",
    "# 객체의 속성/메소드에 접근(호출) - `.` 표기법을 사용\n",
    "# p에 대입된 객체에 name 속성에 \"홍길동\" 을 대입\n",
    "# 초기화 - 처음 값을 대입\n",
    "p.name = \"홍길동\"  #p의(.) 이름 은(=) \"홍길동\"   # 객체.변수 -  표기법: 속성명을 변수로 처리.\n",
    "p.age = 30\n",
    "p.address = '서울'"
   ]
  },
  {
   "cell_type": "code",
   "execution_count": 9,
   "id": "1e9e245e",
   "metadata": {},
   "outputs": [
    {
     "name": "stdout",
     "output_type": "stream",
     "text": [
      "이름:  홍길동\n",
      "나이:  30\n",
      "주소:  서울\n"
     ]
    }
   ],
   "source": [
    "print(\"이름: \", p.name)\n",
    "print('나이: ', p.age)\n",
    "print('주소: ', p.address)"
   ]
  },
  {
   "cell_type": "code",
   "execution_count": 10,
   "id": "306bc88d",
   "metadata": {},
   "outputs": [
    {
     "name": "stdout",
     "output_type": "stream",
     "text": [
      "새나이: 11\n"
     ]
    }
   ],
   "source": [
    "p.age = 11\n",
    "print('새나이:', p.age)"
   ]
  },
  {
   "cell_type": "markdown",
   "id": "8fee2a11",
   "metadata": {},
   "source": [
    "## 클래스에 메소드 정의\n",
    "- 클래스에 객체의 [속성과관련된] 연산자(함수)를 추가하는 개념\n",
    "```python\n",
    "# 메소드 구문\n",
    "# 1개 이상의 매개변수를 정의. 첫번째 매개변수 이름은 관례적으로 self로 준다.  self 는 개체(instance)를 받는다.\n",
    "def 메소드이름(self, v1, v2,...): \n",
    "    구현\n",
    "```"
   ]
  },
  {
   "cell_type": "code",
   "execution_count": 33,
   "id": "d382dec8",
   "metadata": {},
   "outputs": [],
   "source": [
    "# class를 구현 ==> instance를 처리하는 메소드들을 정의\n",
    "#             ==> attribute: 메소드의 self를 이용해서 정의.\n",
    "class Person2:\n",
    "    \n",
    "    # 사람의 속성값들을 모두 출력하는 메소드\n",
    "    def print_info(self):\n",
    "        info = f\"이름: {self.name}, 나이: {self.age}, 주소: {self.address}\"  \n",
    "                                                        #self.name -> 이 클래스로부터 생성된 객체(self)의(.) 속성 name\n",
    "        print(info)\n",
    "        \n",
    "    # 나이에 특정 값을 더하는 메소드\n",
    "    def add_age(self, value): #value는 age에 더해줄 값 => 호출하는 곳에서 받을 값을 저장할 매개변수는 두번째 변수부터 선언.\n",
    "        self.age = self.age + value\n",
    "#         self.age += value"
   ]
  },
  {
   "cell_type": "code",
   "execution_count": 25,
   "id": "c192b94b",
   "metadata": {},
   "outputs": [],
   "source": [
    "def print_person2_info(p):\n",
    "    print(f\"{p.name}, {p.age}, {p.address}\")"
   ]
  },
  {
   "cell_type": "code",
   "execution_count": 27,
   "id": "dc7f7cbf",
   "metadata": {},
   "outputs": [
    {
     "name": "stdout",
     "output_type": "stream",
     "text": [
      "홍길동, 25, 인천\n"
     ]
    }
   ],
   "source": [
    "print_person2_info(p2)"
   ]
  },
  {
   "cell_type": "code",
   "execution_count": 29,
   "id": "11eeff16",
   "metadata": {},
   "outputs": [],
   "source": [
    "p2 = Person2()\n",
    "p2.name = \"홍길동\"\n",
    "p2.age = 25\n",
    "p2.address=\"인천\""
   ]
  },
  {
   "cell_type": "code",
   "execution_count": 30,
   "id": "b3c700b8",
   "metadata": {
    "scrolled": true
   },
   "outputs": [
    {
     "name": "stdout",
     "output_type": "stream",
     "text": [
      "이름: 홍길동, 나이: 25, 주소: 인천\n"
     ]
    }
   ],
   "source": [
    "p2.print_info()"
   ]
  },
  {
   "cell_type": "code",
   "execution_count": 31,
   "id": "db41a2cb",
   "metadata": {},
   "outputs": [
    {
     "name": "stdout",
     "output_type": "stream",
     "text": [
      "이름: 홍길동, 나이: 25, 주소: 수원\n"
     ]
    }
   ],
   "source": [
    "p2.address=\"수원\"\n",
    "p2.print_info()"
   ]
  },
  {
   "cell_type": "code",
   "execution_count": 32,
   "id": "41d3091d",
   "metadata": {},
   "outputs": [
    {
     "name": "stdout",
     "output_type": "stream",
     "text": [
      "이름: 홍길동, 나이: 28, 주소: 수원\n"
     ]
    }
   ],
   "source": [
    "p2.add_age(3, 4, 5)\n",
    "p2.print_info()"
   ]
  },
  {
   "cell_type": "code",
   "execution_count": 34,
   "id": "d9eee9f1",
   "metadata": {},
   "outputs": [],
   "source": [
    "# int 타입: 1   int 값: 1, 2, 3, -1, -2, 30000,    1, 1, 1,    \n",
    "# 클래스: 타입 1,   객체-값: 무한대\n",
    "\n",
    "# Person2 클래스에서 객체(instance) 3개  생성\n",
    "p1 = Person2()\n",
    "p2 = Person2()\n",
    "p3 = Person2()"
   ]
  },
  {
   "cell_type": "code",
   "execution_count": 35,
   "id": "81a42c2c",
   "metadata": {},
   "outputs": [],
   "source": [
    "p1.name = '이름1'\n",
    "p1.age = 10\n",
    "p1.address = '주소1'"
   ]
  },
  {
   "cell_type": "code",
   "execution_count": 36,
   "id": "98b270e8",
   "metadata": {},
   "outputs": [],
   "source": [
    "p2.name = '이름2'\n",
    "p2.age = 20\n",
    "p2.address = '주소2'"
   ]
  },
  {
   "cell_type": "code",
   "execution_count": 37,
   "id": "350d7b49",
   "metadata": {},
   "outputs": [],
   "source": [
    "p3.name = '이름3'\n",
    "p3.age = 30\n",
    "p3.address = '주소3'\n",
    "p3.email = 'abc@a.com'"
   ]
  },
  {
   "cell_type": "code",
   "execution_count": 38,
   "id": "6b5d1a88",
   "metadata": {},
   "outputs": [
    {
     "name": "stdout",
     "output_type": "stream",
     "text": [
      "이름: 이름1, 나이: 50, 주소: 주소1\n"
     ]
    }
   ],
   "source": [
    "p1.add_age(40)\n",
    "p1.print_info()"
   ]
  },
  {
   "cell_type": "code",
   "execution_count": 39,
   "id": "058a2c3d",
   "metadata": {},
   "outputs": [
    {
     "name": "stdout",
     "output_type": "stream",
     "text": [
      "이름: 이름2, 나이: 20, 주소: 주소2\n"
     ]
    }
   ],
   "source": [
    "p2.print_info()"
   ]
  },
  {
   "cell_type": "code",
   "execution_count": 41,
   "id": "be287a32",
   "metadata": {},
   "outputs": [],
   "source": [
    "# p2: Person2에서 생성된 객체 -> Person2에 정의된 메소드만 호출 가능.\n",
    "# p2.pop('name') #dictionary 메소드"
   ]
  },
  {
   "cell_type": "code",
   "execution_count": 48,
   "id": "b49ae63d",
   "metadata": {
    "collapsed": true
   },
   "outputs": [
    {
     "ename": "AttributeError",
     "evalue": "'Person2' object has no attribute 'name'",
     "output_type": "error",
     "traceback": [
      "\u001b[1;31m---------------------------------------------------------------------------\u001b[0m",
      "\u001b[1;31mAttributeError\u001b[0m                            Traceback (most recent call last)",
      "\u001b[1;32m~\\AppData\\Local\\Temp/ipykernel_7160/3458579075.py\u001b[0m in \u001b[0;36m<module>\u001b[1;34m\u001b[0m\n\u001b[0;32m      2\u001b[0m \u001b[0mp4\u001b[0m\u001b[1;33m.\u001b[0m\u001b[0mage\u001b[0m \u001b[1;33m=\u001b[0m \u001b[1;36m10\u001b[0m\u001b[1;33m\u001b[0m\u001b[1;33m\u001b[0m\u001b[0m\n\u001b[0;32m      3\u001b[0m \u001b[0mp4\u001b[0m\u001b[1;33m.\u001b[0m\u001b[0madd_age\u001b[0m\u001b[1;33m(\u001b[0m\u001b[1;36m2\u001b[0m\u001b[1;33m)\u001b[0m\u001b[1;33m\u001b[0m\u001b[1;33m\u001b[0m\u001b[0m\n\u001b[1;32m----> 4\u001b[1;33m \u001b[0mp4\u001b[0m\u001b[1;33m.\u001b[0m\u001b[0mprint_info\u001b[0m\u001b[1;33m(\u001b[0m\u001b[1;33m)\u001b[0m\u001b[1;33m\u001b[0m\u001b[1;33m\u001b[0m\u001b[0m\n\u001b[0m\u001b[0;32m      5\u001b[0m \u001b[1;31m# AttributeError: 객체에 없는 속성/메소드를 호출(조회)할때 발생하는 에러\u001b[0m\u001b[1;33m\u001b[0m\u001b[1;33m\u001b[0m\u001b[0m\n",
      "\u001b[1;32m~\\AppData\\Local\\Temp/ipykernel_7160/2373837859.py\u001b[0m in \u001b[0;36mprint_info\u001b[1;34m(self)\u001b[0m\n\u001b[0;32m      5\u001b[0m     \u001b[1;31m# 사람의 속성값들을 모두 출력하는 메소드\u001b[0m\u001b[1;33m\u001b[0m\u001b[1;33m\u001b[0m\u001b[0m\n\u001b[0;32m      6\u001b[0m     \u001b[1;32mdef\u001b[0m \u001b[0mprint_info\u001b[0m\u001b[1;33m(\u001b[0m\u001b[0mself\u001b[0m\u001b[1;33m)\u001b[0m\u001b[1;33m:\u001b[0m\u001b[1;33m\u001b[0m\u001b[1;33m\u001b[0m\u001b[0m\n\u001b[1;32m----> 7\u001b[1;33m         \u001b[0minfo\u001b[0m \u001b[1;33m=\u001b[0m \u001b[1;34mf\"이름: {self.name}, 나이: {self.age}, 주소: {self.address}\"\u001b[0m\u001b[1;33m\u001b[0m\u001b[1;33m\u001b[0m\u001b[0m\n\u001b[0m\u001b[0;32m      8\u001b[0m                                                         \u001b[1;31m#self.name -> 이 클래스로부터 생성된 객체(self)의(.) 속성 name\u001b[0m\u001b[1;33m\u001b[0m\u001b[1;33m\u001b[0m\u001b[0m\n\u001b[0;32m      9\u001b[0m         \u001b[0mprint\u001b[0m\u001b[1;33m(\u001b[0m\u001b[0minfo\u001b[0m\u001b[1;33m)\u001b[0m\u001b[1;33m\u001b[0m\u001b[1;33m\u001b[0m\u001b[0m\n",
      "\u001b[1;31mAttributeError\u001b[0m: 'Person2' object has no attribute 'name'"
     ]
    }
   ],
   "source": [
    "p4 = Person2()\n",
    "\n",
    "p4.add_age(2)# 호출전에 age를 할당한 후에 호출\n",
    "p4.print_info() #호출전에 name, age, address 속성값을 할당 후에 호출\n",
    "# AttributeError: 객체에 없는 속성/메소드를 호출(조회)할때 발생하는 에러"
   ]
  },
  {
   "cell_type": "markdown",
   "id": "17221943",
   "metadata": {},
   "source": [
    "## Initializer 메소드 (Constructor-생성자)\n",
    "- 객체 생성하는 시점에 속성값들을 초기화 하도록 강제하는 메소드\n",
    "    - **객체(instance)를 구성하는 Attribute들을 정의, 초기화 하는 역할** \n",
    "        - 객체를 생성하는 곳으로 부터 argument로 반드시 받아야 하는 것은 기본값 없는 매개변수로 선언한다.\n",
    "        - 객체를 생성하는 곳에서 값을 줄수도 안줄 수도 있는 경우 기본값 있는 매개변수로 선언한다.\n",
    "    - 객체 생성후 메소드들이 호출 되기 전에 반드시 생성되야 하는 attribute들을 객체에 설정하는 역할을 한다. => 문법\n",
    "    - Default 속성들 설정해주는 메소드.\n",
    "- 객체 생성시 호출되는 메소드\n",
    "    - self로 생성되는 객체를 받는다."
   ]
  },
  {
   "cell_type": "code",
   "execution_count": 66,
   "id": "c6be5da4",
   "metadata": {},
   "outputs": [],
   "source": [
    "class Test:\n",
    "    \n",
    "#     initializer: 이름 - __init__(self, [변수들....])\n",
    "    def __init__(self, var5=None):\n",
    "        print('Test의 __init__() 실행')\n",
    "        self.var1 = \"변수1\"\n",
    "        self.var2 = \"변수2\"\n",
    "        self.var3 = True\n",
    "        self.var4 = 10000\n",
    "        self.var5 = var5  #매개변수(지역변수)var5로 받은 값을 Attribute var5에 대입."
   ]
  },
  {
   "cell_type": "code",
   "execution_count": 67,
   "id": "b20c3a03",
   "metadata": {},
   "outputs": [
    {
     "name": "stdout",
     "output_type": "stream",
     "text": [
      "Test의 __init__() 실행\n"
     ]
    }
   ],
   "source": [
    "t = Test()  #객체생성: 클래스이름() => 클래스의 initializer를 호출"
   ]
  },
  {
   "cell_type": "code",
   "execution_count": 68,
   "id": "50c6ff51",
   "metadata": {},
   "outputs": [
    {
     "name": "stdout",
     "output_type": "stream",
     "text": [
      "변수1 변수2 True 10000 None\n"
     ]
    }
   ],
   "source": [
    "print(t.var1, t.var2, t.var3, t.var4, t.var5)"
   ]
  },
  {
   "cell_type": "code",
   "execution_count": 62,
   "id": "a381e08b",
   "metadata": {},
   "outputs": [
    {
     "name": "stdout",
     "output_type": "stream",
     "text": [
      "Test의 __init__() 실행\n"
     ]
    }
   ],
   "source": [
    "t1 = Test(200)"
   ]
  },
  {
   "cell_type": "code",
   "execution_count": 63,
   "id": "7bb8e0a7",
   "metadata": {},
   "outputs": [
    {
     "name": "stdout",
     "output_type": "stream",
     "text": [
      "변수1 변수2 True 10000 200\n"
     ]
    }
   ],
   "source": [
    "print(t1.var1, t1.var2, t1.var3, t1.var4, t1.var5)"
   ]
  },
  {
   "cell_type": "code",
   "execution_count": 70,
   "id": "5d41c6b3",
   "metadata": {},
   "outputs": [],
   "source": [
    "class Person3:\n",
    "    \n",
    "    #name, age, address  속성을 초기화하는 initializer \n",
    "    def __init__(self, name, age, address=None):# , email=None, telnum=None):\n",
    "        self.name = name  #Attribute = Parameter\n",
    "        self.age = age\n",
    "        self.address = address\n",
    "#         self.point = 10000  # 모든 객체에 같은 값을 넣는 Attribute.\n",
    "    \n",
    "    # 사람의 속성값들을 모두 출력하는 메소드\n",
    "    def print_info(self):\n",
    "        info = f\"이름: {self.name}, 나이: {self.age}, 주소: {self.address}\"  \n",
    "        print(info)\n",
    "        \n",
    "    # 나이에 특정 값을 더하는 메소드\n",
    "    def add_age(self, value): \n",
    "        self.age = self.age + value"
   ]
  },
  {
   "cell_type": "code",
   "execution_count": 74,
   "id": "de9a837b",
   "metadata": {},
   "outputs": [
    {
     "name": "stdout",
     "output_type": "stream",
     "text": [
      "이름: 홍길동, 나이: 20, 주소: None\n",
      "이름: 홍길동, 나이: 25, 주소: None\n"
     ]
    }
   ],
   "source": [
    "p = Person3(\"홍길동\", 20)\n",
    "p.print_info()\n",
    "p.add_age(5)\n",
    "p.print_info()"
   ]
  },
  {
   "cell_type": "code",
   "execution_count": 76,
   "id": "7587fc32",
   "metadata": {},
   "outputs": [
    {
     "name": "stdout",
     "output_type": "stream",
     "text": [
      "이름: 이순신, 나이: 30, 주소: 서울\n"
     ]
    }
   ],
   "source": [
    "p2 = Person3('이순신', 30, '서울')\n",
    "p2.print_info()"
   ]
  },
  {
   "cell_type": "code",
   "execution_count": 77,
   "id": "9b7bec23",
   "metadata": {},
   "outputs": [
    {
     "name": "stdout",
     "output_type": "stream",
     "text": [
      "이름: 유관순, 나이: 30, 주소: 인천\n"
     ]
    }
   ],
   "source": [
    "p3 = Person3(name='유관순', age=30, address='인천') \n",
    "p3.print_info()"
   ]
  },
  {
   "cell_type": "code",
   "execution_count": null,
   "id": "c42f6b81",
   "metadata": {},
   "outputs": [],
   "source": [
    "p3.email = \"abc@a.com\"\n",
    "p3.tel = '010-111-2222'"
   ]
  },
  {
   "cell_type": "code",
   "execution_count": 78,
   "id": "e3195f60",
   "metadata": {},
   "outputs": [
    {
     "data": {
      "text/plain": [
       "type"
      ]
     },
     "execution_count": 78,
     "metadata": {},
     "output_type": "execute_result"
    }
   ],
   "source": [
    "type(Person3) #type(Class이름) => type"
   ]
  },
  {
   "cell_type": "code",
   "execution_count": 80,
   "id": "7b4b0f5b",
   "metadata": {},
   "outputs": [
    {
     "data": {
      "text/plain": [
       "{'name': '유관순', 'age': 30, 'address': '인천'}"
      ]
     },
     "execution_count": 80,
     "metadata": {},
     "output_type": "execute_result"
    }
   ],
   "source": [
    "p3.__dict__"
   ]
  },
  {
   "cell_type": "markdown",
   "id": "bcf96a77",
   "metadata": {},
   "source": [
    "## 정보 은닉 (Information Hiding)\n",
    "- Attribute에 아무값이나 대입하지 못하게 하고 어떤 규칙을 설정하고 싶을 때 적용.\n",
    "1. Attribute에 접근하는 것을 막는다.\n",
    "    - Attribute이름 앞에 __ (double underscore) 를 붙인다. **뒤에는 붙이면 절대안됨**\n",
    "        - 내부적으로 변수의 이름을 `_클래스이름__속성명` 으로 변환해서 객체에 저장. (메소드에서 self.\\_\\_변수 로 설정한 경우)\n",
    "2. Attribute의 값을 변경하는 메소드(여기에 변경규칙을 넣는다.) - setter        \n",
    "   Attribute의 값을 반환하는 메소드 - getter    \n",
    "   를 제공한다."
   ]
  },
  {
   "cell_type": "code",
   "execution_count": 111,
   "id": "a510046c",
   "metadata": {},
   "outputs": [],
   "source": [
    "class Person4:\n",
    "    \n",
    "    def __init__(self, age):\n",
    "        if age >= 0:\n",
    "            self.__age = age\n",
    "        else:\n",
    "            self.__age = None\n",
    "    # age 속성값을 변경하는 메소드 - setter\n",
    "    def set_age(self, age):\n",
    "        if age >= 0:\n",
    "            self.__age = age  #같은 클래스에서는 __변수 를 호출 할 수있다.\n",
    "\n",
    "    # age 속성값을 반환하는 메소드 - getter\n",
    "    def get_age(self):\n",
    "        return self.__age\n"
   ]
  },
  {
   "cell_type": "code",
   "execution_count": 112,
   "id": "f6b42fee",
   "metadata": {},
   "outputs": [],
   "source": [
    "p = Person4(20)"
   ]
  },
  {
   "cell_type": "code",
   "execution_count": 113,
   "id": "9445cee0",
   "metadata": {},
   "outputs": [
    {
     "data": {
      "text/plain": [
       "{'_Person4__age': 20}"
      ]
     },
     "execution_count": 113,
     "metadata": {},
     "output_type": "execute_result"
    }
   ],
   "source": [
    "p.__dict__"
   ]
  },
  {
   "cell_type": "code",
   "execution_count": 115,
   "id": "23ce356e",
   "metadata": {},
   "outputs": [
    {
     "data": {
      "text/plain": [
       "{'_Person4__age': 30}"
      ]
     },
     "execution_count": 115,
     "metadata": {},
     "output_type": "execute_result"
    }
   ],
   "source": [
    "# 변경\n",
    "p.set_age(30)\n",
    "p.__dict__"
   ]
  },
  {
   "cell_type": "code",
   "execution_count": 117,
   "id": "8472bc9b",
   "metadata": {},
   "outputs": [
    {
     "data": {
      "text/plain": [
       "{'_Person4__age': 30}"
      ]
     },
     "execution_count": 117,
     "metadata": {},
     "output_type": "execute_result"
    }
   ],
   "source": [
    "p.set_age(-50)\n",
    "p.__dict__"
   ]
  },
  {
   "cell_type": "code",
   "execution_count": 118,
   "id": "6113f9e7",
   "metadata": {},
   "outputs": [
    {
     "name": "stdout",
     "output_type": "stream",
     "text": [
      "30\n"
     ]
    }
   ],
   "source": [
    "print(p.get_age())"
   ]
  },
  {
   "cell_type": "markdown",
   "id": "9c6956f0",
   "metadata": {},
   "source": [
    "#### setter, getter 메소드를 변수처럼 호출할 수 있도록 처리.\n",
    "1. property() 함수를 이용\n",
    "2. property  decorator를 이용"
   ]
  },
  {
   "cell_type": "code",
   "execution_count": 158,
   "id": "6bb05b0a",
   "metadata": {},
   "outputs": [],
   "source": [
    "# property() 함수를 이용\n",
    "class Person5:\n",
    "    \n",
    "    def __init__(self, name, age):\n",
    "        if name: #한글자 이상이면 넣어라.\n",
    "            self.__name = name\n",
    "        if age >= 0: # 양수이면 넣어라.\n",
    "            self.__age = age\n",
    "            \n",
    "    # name 의 setter/getter\n",
    "    def set_name(self, name):\n",
    "        if name: #한글자 이상이면 넣어라.\n",
    "            self.__name = name\n",
    "\n",
    "    def get_name(self):\n",
    "        return self.__name\n",
    "    \n",
    "    # age의 setter/getter \n",
    "    def set_age(self, age):\n",
    "        if age>=0:\n",
    "            self.__age = age\n",
    "            \n",
    "    def get_age(self):\n",
    "        return self.__age\n",
    "    \n",
    "#     변수명 = property(getter, setter)  객체.변수명 으로 값을 조회할 경우 getter메소드 호출, 값을 대입하면 setter메소드를 호출\n",
    "    name = property(get_name, set_name)\n",
    "    age = property(get_age, set_age)"
   ]
  },
  {
   "cell_type": "code",
   "execution_count": 159,
   "id": "b6faf7bf",
   "metadata": {},
   "outputs": [
    {
     "data": {
      "text/plain": [
       "{'_Person5__name': '홍길동', '_Person5__age': 30}"
      ]
     },
     "execution_count": 159,
     "metadata": {},
     "output_type": "execute_result"
    }
   ],
   "source": [
    "p = Person5('홍길동', 30)\n",
    "p.__dict__"
   ]
  },
  {
   "cell_type": "code",
   "execution_count": 160,
   "id": "521f2adc",
   "metadata": {},
   "outputs": [
    {
     "data": {
      "text/plain": [
       "{'_Person5__name': '홍길동', '_Person5__age': 30}"
      ]
     },
     "execution_count": 160,
     "metadata": {},
     "output_type": "execute_result"
    }
   ],
   "source": [
    "# name 속성에 값을 대입 => set_name\n",
    "# p.name = '유관순'\n",
    "p.name = None\n",
    "p.__dict__"
   ]
  },
  {
   "cell_type": "code",
   "execution_count": 124,
   "id": "f3189b67",
   "metadata": {},
   "outputs": [
    {
     "data": {
      "text/plain": [
       "{'_Person5__name': '유관순', '_Person5__age': 50}"
      ]
     },
     "execution_count": 124,
     "metadata": {},
     "output_type": "execute_result"
    }
   ],
   "source": [
    "# p.age = 50 #==set_age\n",
    "p.age = -40\n",
    "p.__dict__"
   ]
  },
  {
   "cell_type": "code",
   "execution_count": 126,
   "id": "6b7a940a",
   "metadata": {},
   "outputs": [
    {
     "name": "stdout",
     "output_type": "stream",
     "text": [
      "50 유관순\n"
     ]
    }
   ],
   "source": [
    "print(p.age, p.name)  #name, age 속성을 조회 -> getter 이 호출된다."
   ]
  },
  {
   "cell_type": "code",
   "execution_count": 154,
   "id": "fbcbe147",
   "metadata": {},
   "outputs": [],
   "source": [
    "# decorator를 이용해서 setter/getter를 변수처럼 사용하기\n",
    "# 1. getter/setter 메소드의 이름을 사용할 변수명을 준다.\n",
    "# 2. getter 메소드에 @property 데코레이터를 붙인다.\n",
    "#    setter 메소드에 @getter메소드명.setter 데코레이터를 붙인다.\n",
    "class Person6:\n",
    "    def __init__(self, name, age):\n",
    "        if name: #한글자 이상이면 넣어라.\n",
    "            self.__name = name\n",
    "        if age >= 0: # 양수이면 넣어라.\n",
    "            self.__age = age\n",
    "    \n",
    "    @property\n",
    "    def name(self): #getter\n",
    "        return self.__name\n",
    "    \n",
    "    @name.setter  #name에 대한 setter\n",
    "    def name(self, name): #setter\n",
    "#         print('name setter')\n",
    "        if name:\n",
    "            self.__name = name\n",
    "\n",
    "    @property  #age의 getter\n",
    "    def age(self):\n",
    "        return self.__age\n",
    "    \n",
    "    @age.setter #age의 setter\n",
    "    def age(self, age):\n",
    "        if age>=0:\n",
    "            self.__age = age"
   ]
  },
  {
   "cell_type": "code",
   "execution_count": 152,
   "id": "a4042a43",
   "metadata": {},
   "outputs": [
    {
     "data": {
      "text/plain": [
       "{'_Person6__name': '이순신', '_Person6__age': 10}"
      ]
     },
     "execution_count": 152,
     "metadata": {},
     "output_type": "execute_result"
    }
   ],
   "source": [
    "p = Person6('이순신', 10)\n",
    "p.__dict__"
   ]
  },
  {
   "cell_type": "code",
   "execution_count": 140,
   "id": "42f88b41",
   "metadata": {},
   "outputs": [
    {
     "data": {
      "text/plain": [
       "{'_Person6__name': '홍길동', '_Person6__age': 10}"
      ]
     },
     "execution_count": 140,
     "metadata": {},
     "output_type": "execute_result"
    }
   ],
   "source": [
    "# p.name = '홍길동'  #name setter호출\n",
    "# p.name = ''\n",
    "p.name = None\n",
    "p.__dict__"
   ]
  },
  {
   "cell_type": "code",
   "execution_count": 143,
   "id": "e1caef6b",
   "metadata": {},
   "outputs": [
    {
     "data": {
      "text/plain": [
       "{'_Person6__name': '홍길동', '_Person6__age': 100}"
      ]
     },
     "execution_count": 143,
     "metadata": {},
     "output_type": "execute_result"
    }
   ],
   "source": [
    "# p.age = 100\n",
    "p.age = -20\n",
    "p.__dict__"
   ]
  },
  {
   "cell_type": "code",
   "execution_count": 144,
   "id": "313655e0",
   "metadata": {},
   "outputs": [
    {
     "name": "stdout",
     "output_type": "stream",
     "text": [
      "홍길동 100\n"
     ]
    }
   ],
   "source": [
    "print(p.name, p.age)"
   ]
  },
  {
   "cell_type": "code",
   "execution_count": null,
   "id": "ca0dfbe5",
   "metadata": {},
   "outputs": [],
   "source": []
  },
  {
   "cell_type": "code",
   "execution_count": 163,
   "id": "5a3fc161",
   "metadata": {},
   "outputs": [
    {
     "name": "stdout",
     "output_type": "stream",
     "text": [
      "<class 'list'> <class '__main__.Person5'> <class 'int'> <class 'str'> <class 'bool'>\n"
     ]
    }
   ],
   "source": [
    "l = [10, 5, 7, 2]\n",
    "i = 10\n",
    "s = 'abc'\n",
    "print(type(l), type(p), type(i), type(s), type(False))"
   ]
  },
  {
   "cell_type": "code",
   "execution_count": null,
   "id": "f40869e5",
   "metadata": {},
   "outputs": [],
   "source": [
    "l = [10, 5, 7, 2]\n",
    "# 정렬\n",
    "# sorted(리스트), 리스트.sort()"
   ]
  },
  {
   "cell_type": "code",
   "execution_count": 164,
   "id": "f0970cb8",
   "metadata": {},
   "outputs": [
    {
     "data": {
      "text/plain": [
       "[2, 5, 7, 10]"
      ]
     },
     "execution_count": 164,
     "metadata": {},
     "output_type": "execute_result"
    }
   ],
   "source": [
    "sorted(l) #리스트, 튜플, 셋, 딕셔너리, 문자열 => iterable들을 정렬. 정렬된 리스트를 새로 만들어서 반환"
   ]
  },
  {
   "cell_type": "code",
   "execution_count": 169,
   "id": "3ea9fec4",
   "metadata": {},
   "outputs": [
    {
     "data": {
      "text/plain": [
       "[1, 2, 5, 10]"
      ]
     },
     "execution_count": 169,
     "metadata": {},
     "output_type": "execute_result"
    }
   ],
   "source": [
    "sorted({10,10,1,2, 5, 10})"
   ]
  },
  {
   "cell_type": "code",
   "execution_count": 170,
   "id": "34e0f448",
   "metadata": {},
   "outputs": [
    {
     "data": {
      "text/plain": [
       "[1, 1, 2, 4, 7, 10]"
      ]
     },
     "execution_count": 170,
     "metadata": {},
     "output_type": "execute_result"
    }
   ],
   "source": [
    "sorted((10, 2, 1, 7, 4, 1))"
   ]
  },
  {
   "cell_type": "code",
   "execution_count": 171,
   "id": "b9bb0268",
   "metadata": {},
   "outputs": [
    {
     "data": {
      "text/plain": [
       "['a', 'b', 'r', 'z']"
      ]
     },
     "execution_count": 171,
     "metadata": {},
     "output_type": "execute_result"
    }
   ],
   "source": [
    "sorted(dict(z=1, a=10, r=10, b=20)) #딕셔너리는 키값들만 정렬해서 리스트로 반환"
   ]
  },
  {
   "cell_type": "code",
   "execution_count": 172,
   "id": "c884d869",
   "metadata": {
    "collapsed": true
   },
   "outputs": [
    {
     "data": {
      "text/plain": [
       "[';',\n",
       " ';',\n",
       " ';',\n",
       " 'a',\n",
       " 'a',\n",
       " 'a',\n",
       " 'a',\n",
       " 'd',\n",
       " 'd',\n",
       " 'd',\n",
       " 'd',\n",
       " 'd',\n",
       " 'f',\n",
       " 'f',\n",
       " 'f',\n",
       " 'j',\n",
       " 'j',\n",
       " 'j',\n",
       " 'j',\n",
       " 'k',\n",
       " 'k',\n",
       " 'k',\n",
       " 'k',\n",
       " 'k',\n",
       " 'l',\n",
       " 'l',\n",
       " 'l',\n",
       " 'l',\n",
       " 's',\n",
       " 's',\n",
       " 's',\n",
       " 's']"
      ]
     },
     "execution_count": 172,
     "metadata": {},
     "output_type": "execute_result"
    }
   ],
   "source": [
    "sorted('alkdjfa;lksdfjk;lasdj;kladsksfdj')"
   ]
  },
  {
   "cell_type": "code",
   "execution_count": 166,
   "id": "fbf082a8",
   "metadata": {},
   "outputs": [],
   "source": [
    "l.sort()"
   ]
  },
  {
   "cell_type": "code",
   "execution_count": 167,
   "id": "88703218",
   "metadata": {},
   "outputs": [
    {
     "data": {
      "text/plain": [
       "[2, 5, 7, 10]"
      ]
     },
     "execution_count": 167,
     "metadata": {},
     "output_type": "execute_result"
    }
   ],
   "source": [
    "l"
   ]
  },
  {
   "cell_type": "code",
   "execution_count": 173,
   "id": "ba483a68",
   "metadata": {},
   "outputs": [
    {
     "data": {
      "text/plain": [
       "[2, 5, 7, 10]"
      ]
     },
     "execution_count": 173,
     "metadata": {},
     "output_type": "execute_result"
    }
   ],
   "source": [
    "l.append()"
   ]
  },
  {
   "cell_type": "markdown",
   "id": "6fd69918",
   "metadata": {},
   "source": [
    "## 상속(Inheritance)"
   ]
  },
  {
   "cell_type": "code",
   "execution_count": 1,
   "id": "17602e35",
   "metadata": {},
   "outputs": [],
   "source": [
    "class Person:\n",
    "    \n",
    "    def eat(self):\n",
    "        print('점심을 먹는다.')\n",
    "        \n"
   ]
  },
  {
   "cell_type": "code",
   "execution_count": null,
   "id": "82264576",
   "metadata": {},
   "outputs": [],
   "source": [
    "class Student:\n",
    "    def eat(self):\n",
    "        print('점심을 먹는다.')\n",
    "        \n",
    "    def study(self):\n",
    "        print('공부를 한다.')\n",
    "        "
   ]
  },
  {
   "cell_type": "code",
   "execution_count": 3,
   "id": "60bbc872",
   "metadata": {},
   "outputs": [
    {
     "name": "stdout",
     "output_type": "stream",
     "text": [
      "점심을 먹는다.\n"
     ]
    }
   ],
   "source": [
    "p = Person()\n",
    "p.eat()"
   ]
  },
  {
   "cell_type": "code",
   "execution_count": 4,
   "id": "3261f97e",
   "metadata": {},
   "outputs": [
    {
     "ename": "NameError",
     "evalue": "name 'Student' is not defined",
     "output_type": "error",
     "traceback": [
      "\u001b[0;31m---------------------------------------------------------------------------\u001b[0m",
      "\u001b[0;31mNameError\u001b[0m                                 Traceback (most recent call last)",
      "Input \u001b[0;32mIn [4]\u001b[0m, in \u001b[0;36m<cell line: 1>\u001b[0;34m()\u001b[0m\n\u001b[0;32m----> 1\u001b[0m s \u001b[38;5;241m=\u001b[39m \u001b[43mStudent\u001b[49m()\n\u001b[1;32m      2\u001b[0m s\u001b[38;5;241m.\u001b[39meat()\n\u001b[1;32m      3\u001b[0m s\u001b[38;5;241m.\u001b[39mstudy()\n",
      "\u001b[0;31mNameError\u001b[0m: name 'Student' is not defined"
     ]
    }
   ],
   "source": [
    "s = Student()\n",
    "s.eat()\n",
    "s.study()"
   ]
  },
  {
   "cell_type": "code",
   "execution_count": null,
   "id": "31460672",
   "metadata": {},
   "outputs": [],
   "source": []
  },
  {
   "cell_type": "code",
   "execution_count": null,
   "id": "18c2c99b",
   "metadata": {},
   "outputs": [],
   "source": []
  },
  {
   "cell_type": "code",
   "execution_count": null,
   "id": "571e7048",
   "metadata": {},
   "outputs": [],
   "source": []
  },
  {
   "cell_type": "code",
   "execution_count": null,
   "id": "1cb51d63",
   "metadata": {},
   "outputs": [],
   "source": []
  }
 ],
 "metadata": {
  "kernelspec": {
   "display_name": "Python 3 (ipykernel)",
   "language": "python",
   "name": "python3"
  },
  "language_info": {
   "codemirror_mode": {
    "name": "ipython",
    "version": 3
   },
   "file_extension": ".py",
   "mimetype": "text/x-python",
   "name": "python",
   "nbconvert_exporter": "python",
   "pygments_lexer": "ipython3",
   "version": "3.9.7"
  }
 },
 "nbformat": 4,
 "nbformat_minor": 5
}
