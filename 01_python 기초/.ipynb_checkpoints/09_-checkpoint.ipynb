{
 "cells": [
  {
   "cell_type": "markdown",
   "id": "59212624",
   "metadata": {},
   "source": [
    "# 제어문\n",
    "\n",
    "code의 흐름을 제어하는 구문"
   ]
  },
  {
   "cell_type": "markdown",
   "id": "d92efaed",
   "metadata": {},
   "source": [
    "## 조건문 (분기문)"
   ]
  },
  {
   "cell_type": "code",
   "execution_count": null,
   "id": "fcc857a7",
   "metadata": {},
   "outputs": [],
   "source": [
    "\n",
    "num = int(input(\"정수:\"))\n",
    "# 입력값이 0이면 \"영입니다.\" 라고 출력한다.\n",
    "# 단순if문 -> 특정 구문들을 실행할지 말지\n",
    "if num == 0:\n",
    "    print(\"영입니다\")\n",
    "    print(\"zero\")\n",
    "print(\"종료\")"
   ]
  },
  {
   "cell_type": "code",
   "execution_count": null,
   "id": "2f3de846",
   "metadata": {},
   "outputs": [],
   "source": [
    "# 입력받은 값이 0 이면 \"0입니다.\" 출력하고 0이 아니면 '0이 아닙니다.' 출력한다.\n",
    "\n",
    "num = int(input(\"정수:\"))\n",
    "\n",
    "if num == 0 :\n",
    "    print(\"0입니다.\")\n",
    "else:\n",
    "    print(\"0이 아닙니다.\")\n",
    "    "
   ]
  }
 ],
 "metadata": {
  "kernelspec": {
   "display_name": "Python 3 (ipykernel)",
   "language": "python",
   "name": "python3"
  },
  "language_info": {
   "codemirror_mode": {
    "name": "ipython",
    "version": 3
   },
   "file_extension": ".py",
   "mimetype": "text/x-python",
   "name": "python",
   "nbconvert_exporter": "python",
   "pygments_lexer": "ipython3",
   "version": "3.9.7"
  }
 },
 "nbformat": 4,
 "nbformat_minor": 5
}
