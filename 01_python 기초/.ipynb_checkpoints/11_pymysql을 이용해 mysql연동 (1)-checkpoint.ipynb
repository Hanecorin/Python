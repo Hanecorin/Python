{
 "cells": [
  {
   "cell_type": "markdown",
   "id": "a2f58681",
   "metadata": {},
   "source": [
    "# pymysql\n",
    "- 파이썬에서 MySQL, MariaDB DBMS와 연동하는 다양한 함수를 제공하는 모듈\n",
    "- Python [DB API 2.0](http://www.python.org/dev/peps/pep-0249) 표준을 따른다.\n",
    "- https://github.com/PyMySQL/PyMySQL/\n",
    "- https://pymysql.readthedocs.io/en/latest/"
   ]
  },
  {
   "cell_type": "markdown",
   "id": "43cccb80",
   "metadata": {},
   "source": [
    "# 설치\n",
    "- 조건\n",
    "    - python version 3.6 이상\n",
    "    - mysql version 5.6 이상\n",
    "- 설치\n",
    "    - `pip install PyMySQL`\n",
    "    - `conda install -y -c conda-forge pymysql`"
   ]
  },
  {
   "cell_type": "code",
   "execution_count": 3,
   "id": "a77c22a2",
   "metadata": {
    "collapsed": true
   },
   "outputs": [
    {
     "name": "stdout",
     "output_type": "stream",
     "text": [
      " C 드라이브의 볼륨에는 이름이 없습니다.\n",
      " 볼륨 일련 번호: EA08-420F\n",
      "\n",
      " C:\\class\\01_python 기초 디렉터리\n",
      "\n",
      "2022-06-02  오후 02:41    <DIR>          .\n",
      "2022-06-02  오후 02:41    <DIR>          ..\n",
      "2022-06-02  오후 02:41    <DIR>          .ipynb_checkpoints\n",
      "2022-05-10  오후 05:57            61,210 01 변수와 데이터타입_.ipynb\n",
      "2022-05-11  오후 04:56            54,653 02_자료구조_.ipynb\n",
      "2022-05-13  오전 09:40            46,219 03_제어문_.ipynb\n",
      "2022-05-16  오전 09:49            34,127 04_함수_.ipynb\n",
      "2022-05-17  오후 03:16            57,782 05_객체지향프로그래밍_.ipynb\n",
      "2022-05-18  오전 09:10            11,423 06_모듈_패키지_import.ipynb\n",
      "2022-05-19  오전 10:10            36,543 07_예외처리_.ipynb\n",
      "2022-05-20  오전 09:30            31,482 08_입출력_.ipynb\n",
      "2022-05-20  오후 05:43            47,682 09_Iterator와 Decorator_.ipynb\n",
      "2022-05-23  오후 05:58            41,772 10_파이썬 정규표현식_.ipynb\n",
      "2022-06-02  오후 02:41             9,343 11_pymysql을 이용해 mysql연동.ipynb\n",
      "2022-05-10  오후 12:18                14 a.py\n",
      "2022-05-10  오후 12:18                14 a.txt\n",
      "2022-05-19  오후 04:11                30 aaaaaa.txt\n",
      "2022-05-19  오후 04:20                 6 aaabbbccc.txt\n",
      "2022-05-19  오전 09:46               276 abc.txt\n",
      "2022-05-19  오후 04:07                 0 adasdf\n",
      "2022-05-20  오전 09:23                58 b.txt\n",
      "2022-05-19  오후 12:18                38 c.txt\n",
      "2022-05-19  오후 02:17           231,678 img.jpg\n",
      "2022-05-19  오후 02:22           231,678 img2.jpg\n",
      "2022-05-19  오후 02:27           231,678 img3.jpg\n",
      "2022-05-19  오후 03:04                65 list.pkl\n",
      "2022-05-19  오후 02:49               144 member.csv\n",
      "2022-05-19  오후 05:20               148 member_2.csv\n",
      "2022-05-19  오후 05:26               148 member_3.csv\n",
      "2022-05-19  오후 04:18    <DIR>          my_package\n",
      "2022-05-17  오후 03:18               149 test.py\n",
      "2022-05-19  오후 04:10                33 test.txt\n",
      "2022-05-24  오전 11:44    <DIR>          text_data\n",
      "2020-11-18  오전 10:49               365 TODO_IO.txt\n",
      "2022-05-17  오후 05:51               706 utils.py\n",
      "2022-05-17  오후 06:02             1,785 utils_mypackage.zip\n",
      "2022-05-17  오후 05:40    <DIR>          __pycache__\n",
      "              31개 파일           1,131,249 바이트\n",
      "               6개 디렉터리  192,306,241,536 바이트 남음\n"
     ]
    }
   ],
   "source": [
    "!dir"
   ]
  },
  {
   "cell_type": "code",
   "execution_count": 1,
   "id": "16ddb3ec",
   "metadata": {
    "collapsed": true
   },
   "outputs": [
    {
     "name": "stdout",
     "output_type": "stream",
     "text": [
      "Collecting pymysql\n",
      "  Downloading PyMySQL-1.0.2-py3-none-any.whl (43 kB)\n",
      "Installing collected packages: pymysql\n",
      "Successfully installed pymysql-1.0.2\n"
     ]
    }
   ],
   "source": [
    "!pip install pymysql"
   ]
  },
  {
   "cell_type": "markdown",
   "id": "7572463d",
   "metadata": {},
   "source": [
    "# 기본 작성 절차\n",
    "\n",
    "1. Database 연결\n",
    "    ```python\n",
    "       connection =  pymysql.connect(host=\"DBMS 서버 ip\", \n",
    "                                     port=\"port번호\", \n",
    "                                     user=\"계정명\", \n",
    "                                     password=\"비밀번호\", \n",
    "                                     db=\"연결할데이터베이스이름\", \n",
    "                                     charset='utf8')\n",
    "    ```\n",
    "    - port 번호 기본값: 3306\n",
    "2. Connection을 이용해 Cursor 생성\n",
    "    - Cursor: 연결된 Database에 sql문을 전송하고 select결과 조회 기능을 제공하는 객체\n",
    "    ```python\n",
    "        cursor = connection.cursor()\n",
    "    ```\n",
    "3. Cusror를 이용해 SQL문 전송\n",
    "    ```python\n",
    "        cursor.execute(\"sql문\")\n",
    "    ```\n",
    "4. 연결 닫기\n",
    "    - cursor, connection 연결을 닫는다.\n",
    "    - with문을 이용할 수 있다. \n",
    "    ```python\n",
    "    cursor.close()\n",
    "    connection.close()\n",
    "    ```"
   ]
  },
  {
   "cell_type": "markdown",
   "id": "3262b127",
   "metadata": {},
   "source": [
    "# 예제\n",
    "\n",
    "## 테이블 생성 \n",
    "- 참고) pymyql 을 이용해서는 DML(insert, update, delete, update)문을 실행한다. (DDL은 거의 실행하지 않는다.)"
   ]
  },
  {
   "cell_type": "code",
   "execution_count": 51,
   "id": "d1cb0903",
   "metadata": {},
   "outputs": [
    {
     "name": "stdout",
     "output_type": "stream",
     "text": [
      "<class 'pymysql.connections.Connection'>\n"
     ]
    }
   ],
   "source": [
    "# import\n",
    "import pymysql\n",
    "\n",
    "# DB 연결 - connect() => 연결 실패시 Exception 발생\n",
    "connection = pymysql.connect(host='127.0.0.1', \n",
    "                             port=3306,\n",
    "                             user='scott',\n",
    "                             password='tiger',\n",
    "                             db='testdb')\n",
    "print(type(connection))"
   ]
  },
  {
   "cell_type": "code",
   "execution_count": 52,
   "id": "93db6603",
   "metadata": {},
   "outputs": [
    {
     "name": "stdout",
     "output_type": "stream",
     "text": [
      "<class 'pymysql.cursors.Cursor'>\n"
     ]
    }
   ],
   "source": [
    "# Cursor를 Connection으로 부터 얻어온다. - Cursor: sql문 실행을 관리하는 객체.\n",
    "cursor = connection.cursor()\n",
    "print(type(cursor))"
   ]
  },
  {
   "cell_type": "code",
   "execution_count": 54,
   "id": "a8a1f263",
   "metadata": {},
   "outputs": [
    {
     "data": {
      "text/plain": [
       "0"
      ]
     },
     "execution_count": 54,
     "metadata": {},
     "output_type": "execute_result"
    }
   ],
   "source": [
    "# sql 문 실행 => 쿼리문 실행 실패시(sql문을 잘못 짠 경우, 제약조건 문제) -> Exception 발생\n",
    "# sql 문은 string을 정의. execute() 메소드를 이용해서 DB에 전송.\n",
    "sql = \"\"\"\n",
    "create table test_user (\n",
    "  id  int  auto_increment  primary key, \n",
    "  name  varchar(30) not null,\n",
    "  email varchar(100) not null unique,\n",
    "  tall  decimal(5,2),\n",
    "  birthday date\n",
    ")\n",
    "\"\"\"\n",
    "cursor.execute('drop table if exists test_user')\n",
    "cursor.execute(sql)  # 실행"
   ]
  },
  {
   "cell_type": "code",
   "execution_count": 55,
   "id": "120d298a",
   "metadata": {},
   "outputs": [],
   "source": [
    "# 연결닫기 - cursor, connection close\n",
    "cursor.close()\n",
    "connection.close()"
   ]
  },
  {
   "cell_type": "markdown",
   "id": "59b4e786",
   "metadata": {},
   "source": [
    "## DML\n",
    "### insert"
   ]
  },
  {
   "cell_type": "code",
   "execution_count": 60,
   "id": "ff081497",
   "metadata": {},
   "outputs": [
    {
     "name": "stdout",
     "output_type": "stream",
     "text": [
      "1 행이 insert 되었습니다.\n"
     ]
    }
   ],
   "source": [
    "import pymysql # auto commit=False\n",
    "\n",
    "sql = \"insert into test_user (name, email, tall, birthday) values ('홍길동', 'hong@a.com', 182.23, '2000-02-03')\"\n",
    "try:\n",
    "    # 연결\n",
    "    connection = pymysql.connect(host='127.0.0.1', port=3306, user='scott', password='tiger', db='testdb', charset='utf8')\n",
    "    # cursor 생성\n",
    "    cursor = connection.cursor()\n",
    "    # insert문 실행\n",
    "    cnt = cursor.execute(sql)\n",
    "    connection.commit() # insert/delete/update 문 실행 후 commit 처리를 해야 한다.\n",
    "    print(f\"{cnt} 행이 insert 되었습니다.\")\n",
    "    \n",
    "except Exception as e:\n",
    "    if connection:\n",
    "        connection.rollback()\n",
    "    print(e)\n",
    "finally:\n",
    "#     연결 닫기\n",
    "    if cursor: # if cursor!=None:\n",
    "        cursor.close()\n",
    "    if connection: # != None:\n",
    "        connection.close()\n",
    "    "
   ]
  },
  {
   "cell_type": "code",
   "execution_count": 61,
   "id": "61deab37",
   "metadata": {},
   "outputs": [
    {
     "name": "stdout",
     "output_type": "stream",
     "text": [
      "1 행이 insert됨\n"
     ]
    }
   ],
   "source": [
    "# with 문\n",
    "# with 연결함수 as 변수\n",
    "sql = \"insert into test_user (name, email, tall, birthday) values ('홍길동2', 'hong2@a.com', 172.23, '2005-02-03')\"\n",
    "with pymysql.connect(host='127.0.0.1', port=3306, user='scott', password='tiger', db='testdb', charset='utf8') as connection:\n",
    "    with connection.cursor() as cursor:\n",
    "        cnt = cursor.execute(sql)\n",
    "        print(f'{cnt} 행이 insert됨')\n",
    "        connection.commit()"
   ]
  },
  {
   "cell_type": "code",
   "execution_count": 62,
   "id": "c78ebebd",
   "metadata": {},
   "outputs": [],
   "source": [
    "def insert_user(name, email, tall, birthday):\n",
    "    sql = f\"insert into test_user (name, email, tall, birthday) values ('{name}', '{email}', {tall}, '{birthday}')\"\n",
    "    with pymysql.connect(host='127.0.0.1', port=3306, user='scott', password='tiger', db='testdb', charset='utf8') as connection:\n",
    "        with connection.cursor() as cursor:\n",
    "            cnt = cursor.execute(sql)\n",
    "            print(f'{cnt} 행이 insert됨')\n",
    "            connection.commit()\n",
    "    "
   ]
  },
  {
   "cell_type": "code",
   "execution_count": 63,
   "id": "cec0376a",
   "metadata": {},
   "outputs": [
    {
     "name": "stdout",
     "output_type": "stream",
     "text": [
      "1 행이 insert됨\n"
     ]
    }
   ],
   "source": [
    "insert_user('이순신', 'lee@a.com', 190.20, '1995-10-22')"
   ]
  },
  {
   "cell_type": "markdown",
   "id": "c1d9de83",
   "metadata": {
    "ExecuteTime": {
     "end_time": "2022-04-19T06:23:30.323879Z",
     "start_time": "2022-04-19T06:23:30.304888Z"
    }
   },
   "source": [
    "### Parameterized Query\n",
    "- Parameterized Query\n",
    "    - SQL 문에서 컬럼 값이 들어가는 자리에 값대신 `%s` placeholder를 사용한뒤 execute()에서 placeholder에 넣을 값을 tuple로 제공한다.\n",
    "    - query문을 쉽게 작성할 수 있는 장점이 있다.        "
   ]
  },
  {
   "cell_type": "code",
   "execution_count": 27,
   "id": "735a61ba",
   "metadata": {},
   "outputs": [
    {
     "data": {
      "text/plain": [
       "datetime.date(1999, 3, 2)"
      ]
     },
     "execution_count": 27,
     "metadata": {},
     "output_type": "execute_result"
    }
   ],
   "source": [
    "date(1999, 3, 2)# --- sql date"
   ]
  },
  {
   "cell_type": "code",
   "execution_count": 28,
   "id": "5c060325",
   "metadata": {},
   "outputs": [
    {
     "name": "stdout",
     "output_type": "stream",
     "text": [
      "1 행이 insert됨\n",
      "1 행이 insert됨\n"
     ]
    }
   ],
   "source": [
    "# datetime 모듈: 날짜-date, 시간-time, 날짜시간 - datetime 등 날짜와 시간을 다루는 모듈. -> DB의 날짜/시간 타입과 연동.\n",
    "from datetime import date\n",
    "sql = 'insert into test_user (name, email, tall, birthday) values (%s, %s, %s, %s)'\n",
    "with pymysql.connect(host='127.0.0.1', port=3306, user='scott', password='tiger', db='testdb', charset='utf8') as connection:\n",
    "    with connection.cursor() as cursor:\n",
    "        cnt = cursor.execute(sql, ('유관순', 'yoo2@a.com', 175.3, '2000-01-02'))\n",
    "        cnt2 = cursor.execute(sql, ('강감찬', 'kang@a.com', 170.3, date(1995,2,3)))\n",
    "        print(f'{cnt} 행이 insert됨')\n",
    "        print(f'{cnt2} 행이 insert됨')\n",
    "        connection.commit()"
   ]
  },
  {
   "cell_type": "markdown",
   "id": "37335b7b",
   "metadata": {},
   "source": [
    "### Parameterized Query를 이용해 여러개 행 insert\n",
    "\n",
    "#### for문 사용"
   ]
  },
  {
   "cell_type": "code",
   "execution_count": 29,
   "id": "0fc2331b",
   "metadata": {},
   "outputs": [],
   "source": [
    "names = ['이름1', '이름2', '이름3']\n",
    "emails = ['e1@a.com', 'e2@a.com', 'e3@a.com']\n",
    "talls = [192.4, 185.2, 178,6]\n",
    "birthdays = ['2000-10-10', date.today(), '1999-05-07']"
   ]
  },
  {
   "cell_type": "code",
   "execution_count": 31,
   "id": "cd598d70",
   "metadata": {},
   "outputs": [],
   "source": [
    "sql = 'insert into test_user (name, email, tall, birthday) values (%s, %s, %s, %s)'\n",
    "with pymysql.connect(host='127.0.0.1', port=3306, user='scott', password='tiger', db='testdb', charset='utf8') as connection:\n",
    "    with connection.cursor() as cursor:\n",
    "        for data in zip(names, emails, talls, birthdays):\n",
    "            cursor.execute(sql, data)\n",
    "        \n",
    "        connection.commit()"
   ]
  },
  {
   "cell_type": "markdown",
   "id": "7322f3bb",
   "metadata": {},
   "source": [
    "#### executemany() 사용\n",
    "- insert할 값들을 가진 리스트를 넣어 한번에 여러 행을 insert한다."
   ]
  },
  {
   "cell_type": "code",
   "execution_count": 36,
   "id": "772d6ceb",
   "metadata": {},
   "outputs": [],
   "source": [
    "datas = [\n",
    "    ['name1', 'a1@a.com', 172.3, '2000-02-22'],\n",
    "    ['name2', 'a2@a.com', 182.44, '2001-03-20'],\n",
    "    ['name3', 'a3@a.com', 162.44, '2005-03-10'],\n",
    "]\n",
    "sql = 'insert into test_user (name, email, tall, birthday) values (%s, %s, %s, %s)'\n",
    "with pymysql.connect(host='127.0.0.1', port=3306, user='scott', password='tiger', db='testdb', charset='utf8') as connection:\n",
    "    with connection.cursor() as cursor:\n",
    "        cursor.executemany(sql, datas)\n",
    "        connection.commit()"
   ]
  },
  {
   "cell_type": "code",
   "execution_count": null,
   "id": "f72beeb1",
   "metadata": {},
   "outputs": [],
   "source": []
  },
  {
   "cell_type": "markdown",
   "id": "d78f4253",
   "metadata": {},
   "source": [
    "### update/delete\n",
    "- 코딩 절차는 insert 와 동일"
   ]
  },
  {
   "cell_type": "code",
   "execution_count": 37,
   "id": "5f056266",
   "metadata": {},
   "outputs": [
    {
     "name": "stdout",
     "output_type": "stream",
     "text": [
      "12행이 update 됨\n"
     ]
    }
   ],
   "source": [
    "update_sql = \"update test_user set tall = tall + 10, birthday = '2000-01-01'\"\n",
    "with pymysql.connect(host='127.0.0.1', port=3306, user='scott', password='tiger', db='testdb', charset='utf8') as connection:\n",
    "    with connection.cursor() as cursor:\n",
    "        cnt = cursor.execute(update_sql)\n",
    "        connection.commit()\n",
    "        print(f'{cnt}행이 update 됨')\n",
    "        "
   ]
  },
  {
   "cell_type": "code",
   "execution_count": 40,
   "id": "55cc6af5",
   "metadata": {},
   "outputs": [],
   "source": [
    "def update_user_by_id(id, name, email, tall, birthday):\n",
    "    update_sql = 'update test_user set name=%s, email=%s, tall=%s, birthday=%s where id=%s'\n",
    "    with pymysql.connect(host='127.0.0.1', port=3306, user='scott', password='tiger', db='testdb', charset='utf8') as connection:\n",
    "        with connection.cursor() as cursor:\n",
    "            cnt = cursor.execute(update_sql, (name, email, tall, birthday, id))\n",
    "            connection.commit()\n",
    "            return cnt\n"
   ]
  },
  {
   "cell_type": "code",
   "execution_count": 41,
   "id": "ea34cdb7",
   "metadata": {},
   "outputs": [
    {
     "data": {
      "text/plain": [
       "1"
      ]
     },
     "execution_count": 41,
     "metadata": {},
     "output_type": "execute_result"
    }
   ],
   "source": [
    "update_user_by_id(2, '홍길동', 'honggildong@abc.com', 192.23, '1990-10-10')"
   ]
  },
  {
   "cell_type": "code",
   "execution_count": 43,
   "id": "37511eb7",
   "metadata": {},
   "outputs": [
    {
     "name": "stdout",
     "output_type": "stream",
     "text": [
      "0\n"
     ]
    }
   ],
   "source": [
    "# delete\n",
    "delete_sql = \"delete from test_user where id = %s\"\n",
    "with pymysql.connect(host='127.0.0.1', port=3306, user='scott', password='tiger', db='testdb', charset='utf8') as connection:\n",
    "    with connection.cursor() as cursor:\n",
    "        cnt = cursor.execute(delete_sql, (2,))\n",
    "        print(cnt)\n",
    "        connection.commit()"
   ]
  },
  {
   "cell_type": "code",
   "execution_count": 46,
   "id": "a3bcdceb",
   "metadata": {},
   "outputs": [],
   "source": [
    "def delete_user_by_id(id):\n",
    "    delete_sql = \"delete from test_user where id = %s\"\n",
    "    with pymysql.connect(host='127.0.0.1', port=3306, user='scott', password='tiger', db='testdb', charset='utf8') as connection:\n",
    "        with connection.cursor() as cursor:\n",
    "            cnt = cursor.execute(delete_sql, (id,))\n",
    "            connection.commit()\n",
    "            return cnt"
   ]
  },
  {
   "cell_type": "code",
   "execution_count": 47,
   "id": "77b75bad",
   "metadata": {},
   "outputs": [
    {
     "data": {
      "text/plain": [
       "0"
      ]
     },
     "execution_count": 47,
     "metadata": {},
     "output_type": "execute_result"
    }
   ],
   "source": [
    "delete_user_by_id(2)"
   ]
  },
  {
   "cell_type": "code",
   "execution_count": 48,
   "id": "fa14cbff",
   "metadata": {},
   "outputs": [
    {
     "data": {
      "text/plain": [
       "1"
      ]
     },
     "execution_count": 48,
     "metadata": {},
     "output_type": "execute_result"
    }
   ],
   "source": [
    "delete_user_by_id(4)"
   ]
  },
  {
   "cell_type": "code",
   "execution_count": 50,
   "id": "9ba53e1e",
   "metadata": {},
   "outputs": [
    {
     "name": "stdout",
     "output_type": "stream",
     "text": [
      "(20,) <class 'tuple'>\n"
     ]
    }
   ],
   "source": [
    "id = 20\n",
    "a = (id, )\n",
    "print(a, type(a))"
   ]
  },
  {
   "cell_type": "code",
   "execution_count": null,
   "id": "aaab75e3",
   "metadata": {},
   "outputs": [],
   "source": []
  },
  {
   "cell_type": "markdown",
   "id": "096891b8",
   "metadata": {},
   "source": [
    "## select (DQL-Data Query Language)\n",
    "- 조회결과 조회\n",
    "    - cursor.execute(\"select문\") 실행 후 cursor의 결과 조회 메소드(fetch메소드)를 이용해 결과를 받는다.\n",
    "- fetch메소드\n",
    "    - **fetchall()**\n",
    "        - 조회한 모든 행을을 반환\n",
    "    - **fetchmany(size=개수)**\n",
    "        - 지정한 size개수 만큼 반환\n",
    "    - **fetchone()**\n",
    "        - 조회결과 중 첫번째 행만 반환\n",
    "        - 주로 pk 동등 조건으로 조회한 경우 사용"
   ]
  },
  {
   "cell_type": "markdown",
   "id": "524f4cb8",
   "metadata": {},
   "source": [
    "### fetchall()"
   ]
  },
  {
   "cell_type": "code",
   "execution_count": 7,
   "id": "93a06bf2",
   "metadata": {},
   "outputs": [
    {
     "name": "stdout",
     "output_type": "stream",
     "text": [
      "<class 'pymysql.cursors.Cursor'>\n"
     ]
    }
   ],
   "source": [
    "import pymysql\n",
    "\n",
    "sql = 'select * from test_user'\n",
    "\n",
    "with pymysql.connect(host='127.0.0.1', port=3306, user='scott', password='tiger', db='testdb', charset='utf8') as connection:\n",
    "    with connection.cursor() as cursor:\n",
    "#       select문 실행\n",
    "        print(type(cursor))\n",
    "        cursor.execute(sql)\n",
    "#       select 결과 조회 (cursor.fetchXXX() 메소드 이용)\n",
    "        result = cursor.fetchall()"
   ]
  },
  {
   "cell_type": "code",
   "execution_count": 5,
   "id": "cebb65c0",
   "metadata": {},
   "outputs": [
    {
     "name": "stdout",
     "output_type": "stream",
     "text": [
      "<class 'tuple'> 6\n",
      "<class 'tuple'>\n"
     ]
    },
    {
     "data": {
      "text/plain": [
       "((1, '홍길동', 'hong@a.com', Decimal('182.23'), datetime.date(2000, 2, 3)),\n",
       " (2, '홍길동2', 'hong2@a.com', Decimal('172.23'), datetime.date(2005, 2, 3)),\n",
       " (3, '이순신', 'lee@a.com', Decimal('190.20'), datetime.date(1995, 10, 22)),\n",
       " (4, '홍길동', 'hong@a.com', Decimal('182.23'), datetime.date(2000, 2, 3)),\n",
       " (5, '홍길동2', 'hong2@a.com', Decimal('172.23'), datetime.date(2005, 2, 3)),\n",
       " (6, '이순신', 'lee@a.com', Decimal('190.20'), datetime.date(1995, 10, 22)))"
      ]
     },
     "execution_count": 5,
     "metadata": {},
     "output_type": "execute_result"
    }
   ],
   "source": [
    "print(type(result), len(result))\n",
    "print(type(result[0]))\n",
    "result"
   ]
  },
  {
   "cell_type": "code",
   "execution_count": 9,
   "id": "82a62b01",
   "metadata": {},
   "outputs": [
    {
     "name": "stdout",
     "output_type": "stream",
     "text": [
      "<class 'pymysql.cursors.DictCursor'>\n"
     ]
    }
   ],
   "source": [
    "sql = 'select * from test_user'\n",
    "with pymysql.connect(host='127.0.0.1', port=3306, user='scott', password='tiger', db='testdb', charset='utf8', \n",
    "                     cursorclass=pymysql.cursors.DictCursor) as connection:   # 조회결과를 dictionary로 반환하는 커서.\n",
    "    with connection.cursor() as cursor:\n",
    "        print(type(cursor))\n",
    "        cursor.execute(sql)\n",
    "        result = cursor.fetchall()"
   ]
  },
  {
   "cell_type": "code",
   "execution_count": 13,
   "id": "6e69f3b6",
   "metadata": {
    "scrolled": true
   },
   "outputs": [
    {
     "name": "stdout",
     "output_type": "stream",
     "text": [
      "<class 'list'> 6\n",
      "<class 'dict'>\n"
     ]
    },
    {
     "data": {
      "text/plain": [
       "[{'id': 1,\n",
       "  'name': '홍길동',\n",
       "  'email': 'hong@a.com',\n",
       "  'tall': Decimal('182.23'),\n",
       "  'birthday': datetime.date(2000, 2, 3)},\n",
       " {'id': 2,\n",
       "  'name': '홍길동2',\n",
       "  'email': 'hong2@a.com',\n",
       "  'tall': Decimal('172.23'),\n",
       "  'birthday': datetime.date(2005, 2, 3)},\n",
       " {'id': 3,\n",
       "  'name': '이순신',\n",
       "  'email': 'lee@a.com',\n",
       "  'tall': Decimal('190.20'),\n",
       "  'birthday': datetime.date(1995, 10, 22)},\n",
       " {'id': 4,\n",
       "  'name': '홍길동',\n",
       "  'email': 'hong@a.com',\n",
       "  'tall': Decimal('182.23'),\n",
       "  'birthday': datetime.date(2000, 2, 3)},\n",
       " {'id': 5,\n",
       "  'name': '홍길동2',\n",
       "  'email': 'hong2@a.com',\n",
       "  'tall': Decimal('172.23'),\n",
       "  'birthday': datetime.date(2005, 2, 3)},\n",
       " {'id': 6,\n",
       "  'name': '이순신',\n",
       "  'email': 'lee@a.com',\n",
       "  'tall': Decimal('190.20'),\n",
       "  'birthday': datetime.date(1995, 10, 22)}]"
      ]
     },
     "execution_count": 13,
     "metadata": {},
     "output_type": "execute_result"
    }
   ],
   "source": [
    "print(type(result), len(result))\n",
    "print(type(result[0])) #dict: key-컬럼명, value-컬럼값\n",
    "result"
   ]
  },
  {
   "cell_type": "code",
   "execution_count": 15,
   "id": "cc0b67b8",
   "metadata": {},
   "outputs": [
    {
     "data": {
      "text/plain": [
       "(1, 'hong@a.com')"
      ]
     },
     "execution_count": 15,
     "metadata": {},
     "output_type": "execute_result"
    }
   ],
   "source": [
    "result[0]['id'], result[0]['email']"
   ]
  },
  {
   "cell_type": "code",
   "execution_count": 20,
   "id": "ce8befe0",
   "metadata": {},
   "outputs": [
    {
     "name": "stdout",
     "output_type": "stream",
     "text": [
      "((1, '홍길동'), (2, '홍길동2'), (3, '이순신'), (4, '홍길동'), (5, '홍길동2'), (6, '이순신'))\n",
      "2번 행의 이름: 홍길동2\n"
     ]
    }
   ],
   "source": [
    "sql = 'select id, name from test_user'\n",
    "with pymysql.connect(host='127.0.0.1', port=3306, user='scott', password='tiger', db='testdb', charset='utf8', \n",
    "                     ) as connection:   # 조회결과를 dictionary로 반환하는 커서.\n",
    "    with connection.cursor() as cursor:\n",
    "        cursor.execute(sql)\n",
    "        result = cursor.fetchall()\n",
    "print(result)\n",
    "print(\"2번 행의 이름:\", result[1][1])"
   ]
  },
  {
   "cell_type": "markdown",
   "id": "b3a9867d",
   "metadata": {},
   "source": [
    "### fetchone()"
   ]
  },
  {
   "cell_type": "code",
   "execution_count": 30,
   "id": "97500b7b",
   "metadata": {},
   "outputs": [
    {
     "name": "stdout",
     "output_type": "stream",
     "text": [
      "None\n"
     ]
    }
   ],
   "source": [
    "sql = 'select * from test_user where id = %s'  #pk 로 조회. - 조회결과 0 또는 1 행\n",
    "with pymysql.connect(host='127.0.0.1', port=3306, user='scott', password='tiger', db='testdb', charset='utf8') as connection:\n",
    "    with connection.cursor() as cursor:\n",
    "        cursor.execute(sql, (10, ))  \n",
    "        result = cursor.fetchone()#조회결과가 없으면 None을 있으면 1개의 데이터를 반환 => where 에서 pk로 조회할 경우 사용.\n",
    "print(result)\n",
    "if result:\n",
    "    print(len(result))\n"
   ]
  },
  {
   "cell_type": "code",
   "execution_count": 31,
   "id": "b0eaf81d",
   "metadata": {},
   "outputs": [],
   "source": [
    "sql = 'select * from test_user' \n",
    "with pymysql.connect(host='127.0.0.1', port=3306, user='scott', password='tiger', db='testdb', charset='utf8') as connection:\n",
    "    with connection.cursor() as cursor:\n",
    "        cursor.execute(sql)    \n",
    "        result = cursor.fetchone()  # 여러행이 조회된 경우에서 한행만(첫번째행) 반환"
   ]
  },
  {
   "cell_type": "code",
   "execution_count": 32,
   "id": "8d2380cc",
   "metadata": {},
   "outputs": [
    {
     "data": {
      "text/plain": [
       "(1, '홍길동', 'hong@a.com', Decimal('182.23'), datetime.date(2000, 2, 3))"
      ]
     },
     "execution_count": 32,
     "metadata": {},
     "output_type": "execute_result"
    }
   ],
   "source": [
    "result"
   ]
  },
  {
   "cell_type": "markdown",
   "id": "cc8054bc",
   "metadata": {},
   "source": [
    "### fetchmany()"
   ]
  },
  {
   "cell_type": "code",
   "execution_count": 40,
   "id": "7d72f49c",
   "metadata": {},
   "outputs": [],
   "source": [
    "sql = \"select * from test_user\"\n",
    "with pymysql.connect(host='127.0.0.1', port=3306, user='scott', password='tiger', db='testdb', charset='utf8') as connection:\n",
    "    with connection.cursor() as cursor:\n",
    "        cursor.execute(sql)\n",
    "        result = cursor.fetchmany(size=3)"
   ]
  },
  {
   "cell_type": "code",
   "execution_count": 41,
   "id": "50fffed5",
   "metadata": {},
   "outputs": [
    {
     "name": "stdout",
     "output_type": "stream",
     "text": [
      "1\n"
     ]
    },
    {
     "data": {
      "text/plain": [
       "((1, '홍길동', 'hong@a.com', Decimal('182.23'), datetime.date(2000, 2, 3)),)"
      ]
     },
     "execution_count": 41,
     "metadata": {},
     "output_type": "execute_result"
    }
   ],
   "source": [
    "print(len(result))\n",
    "result"
   ]
  },
  {
   "cell_type": "markdown",
   "id": "fca900bd",
   "metadata": {},
   "source": [
    "### cursor 는 iterable 타입\n",
    "- for문에 select 실행한 cursor를 사용하면 조회결과를 한 행씩 조회할 수 있다."
   ]
  },
  {
   "cell_type": "code",
   "execution_count": 42,
   "id": "8332ff67",
   "metadata": {},
   "outputs": [
    {
     "name": "stdout",
     "output_type": "stream",
     "text": [
      "(1, '홍길동', 'hong@a.com', Decimal('182.23'), datetime.date(2000, 2, 3))\n",
      "(2, '홍길동2', 'hong2@a.com', Decimal('172.23'), datetime.date(2005, 2, 3))\n",
      "(3, '이순신', 'lee@a.com', Decimal('190.20'), datetime.date(1995, 10, 22))\n",
      "(4, '홍길동', 'hong@a.com', Decimal('182.23'), datetime.date(2000, 2, 3))\n",
      "(5, '홍길동2', 'hong2@a.com', Decimal('172.23'), datetime.date(2005, 2, 3))\n",
      "(6, '이순신', 'lee@a.com', Decimal('190.20'), datetime.date(1995, 10, 22))\n"
     ]
    }
   ],
   "source": [
    "sql = \"select * from test_user\"\n",
    "with pymysql.connect(host='127.0.0.1', port=3306, user='scott', password='tiger', db='testdb', charset='utf8') as connection:\n",
    "    with connection.cursor() as cursor:\n",
    "        cursor.execute(sql)\n",
    "        for data in cursor:  #한번 반복시 마다 조회결과를 한행씩 반환\n",
    "            print(data)"
   ]
  },
  {
   "cell_type": "code",
   "execution_count": null,
   "id": "d68a87c4",
   "metadata": {},
   "outputs": [],
   "source": []
  },
  {
   "cell_type": "markdown",
   "id": "ba07cd07",
   "metadata": {},
   "source": [
    "## TODO\n",
    "- DB: hr   (emp 테이블)"
   ]
  },
  {
   "cell_type": "code",
   "execution_count": 46,
   "id": "916fb7a7",
   "metadata": {},
   "outputs": [],
   "source": [
    "import pymysql"
   ]
  },
  {
   "cell_type": "code",
   "execution_count": 47,
   "id": "8a32deda",
   "metadata": {},
   "outputs": [],
   "source": [
    "# 1개의 행을 emp 테이블에 insert 하는 함수 - 호출해서 값 insert\n",
    "# Null을 허용하는 컬럼, default값이 있는 컬럼들은 기본값이 있는 매개변수로 선언한다. (null=>None)\n",
    "def insert_emp(emp_id, emp_name, job, hire_date, mgr_id=None, salary=None, comm_pct=None, dept_name=None):\n",
    "    sql = 'insert into emp values(%s, %s, %s, %s, %s, %s, %s, %s)'\n",
    "    with pymysql.connect(host='127.0.0.1', port=3306, user='scott', password='tiger', db='hr', charset='utf8') as connection:\n",
    "        with connection.cursor() as cursor:\n",
    "            cnt = cursor.execute(sql, (emp_id, emp_name, job, mgr_id, hire_date, salary, comm_pct, dept_name))\n",
    "            connection.commit()\n",
    "            return cnt"
   ]
  },
  {
   "cell_type": "code",
   "execution_count": 52,
   "id": "cea8b99c",
   "metadata": {},
   "outputs": [
    {
     "data": {
      "text/plain": [
       "1"
      ]
     },
     "execution_count": 52,
     "metadata": {},
     "output_type": "execute_result"
    }
   ],
   "source": [
    "insert_emp(401, '홍길동', '기획', '2020-10-10', 100, 3000, 0.2, '기획부')"
   ]
  },
  {
   "cell_type": "code",
   "execution_count": 53,
   "id": "d876d0cc",
   "metadata": {},
   "outputs": [
    {
     "data": {
      "text/plain": [
       "1"
      ]
     },
     "execution_count": 53,
     "metadata": {},
     "output_type": "execute_result"
    }
   ],
   "source": [
    "insert_emp(402, '박영수', '구매', '2000-01-03')"
   ]
  },
  {
   "cell_type": "code",
   "execution_count": 54,
   "id": "a564b011",
   "metadata": {},
   "outputs": [],
   "source": [
    "# emp 테이블의 데이터를 수정하는 함수 - emp_id(where)로 나머지 정보를 수정. \n",
    "# 호출: 안바뀌는 값, 바뀐값 모두 argument로 전달.\n",
    "def update_emp(emp_id, emp_name, job, hire_date, mgr_id, salary, comm_pct, dept_name):\n",
    "    sql = \"update emp set emp_name=%s, job=%s, hire_date=%s, mgr_id=%s, salary=%s, comm_pct=%s, dept_name=%s where emp_id=%s\"\n",
    "    with pymysql.connect(host='127.0.0.1', port=3306, user='scott', password='tiger', db='hr', charset='utf8') as connection:\n",
    "        with connection.cursor() as cursor:\n",
    "            cnt = cursor.execute(sql, (emp_name, job, hire_date, mgr_id,  salary, comm_pct, dept_name, emp_id))\n",
    "            connection.commit()\n",
    "            return cnt    "
   ]
  },
  {
   "cell_type": "code",
   "execution_count": 56,
   "id": "e92e9a13",
   "metadata": {},
   "outputs": [
    {
     "data": {
      "text/plain": [
       "1"
      ]
     },
     "execution_count": 56,
     "metadata": {},
     "output_type": "execute_result"
    }
   ],
   "source": [
    "# 206\tWilliam\tAC_ACCOUNT\t205\t2002-06-07\t8300.00\t\tAccounting\n",
    "update_emp(206, '윌리암', '회계', '2002-06-07', 205,  18300, None, 'Accounting')"
   ]
  },
  {
   "cell_type": "code",
   "execution_count": 57,
   "id": "bd05396d",
   "metadata": {},
   "outputs": [],
   "source": [
    "# emp_id를 매개변수로 받아서 그 emp_id의 직원을 삭제하는 함수\n",
    "def delete_emp_by_emp_id(emp_id):\n",
    "    sql = 'delete from emp where emp_id=%s'\n",
    "    with pymysql.connect(host='127.0.0.1', port=3306, user='scott', password='tiger', db='hr', charset='utf8') as connection:\n",
    "        with connection.cursor() as cursor:\n",
    "            cnt = cursor.execute(sql, (emp_id, ))\n",
    "            connection.commit()\n",
    "            return cnt      "
   ]
  },
  {
   "cell_type": "code",
   "execution_count": 58,
   "id": "81026550",
   "metadata": {},
   "outputs": [
    {
     "data": {
      "text/plain": [
       "1"
      ]
     },
     "execution_count": 58,
     "metadata": {},
     "output_type": "execute_result"
    }
   ],
   "source": [
    "delete_emp_by_emp_id(300)"
   ]
  },
  {
   "cell_type": "code",
   "execution_count": 59,
   "id": "c20bf3aa",
   "metadata": {},
   "outputs": [
    {
     "data": {
      "text/plain": [
       "1"
      ]
     },
     "execution_count": 59,
     "metadata": {},
     "output_type": "execute_result"
    }
   ],
   "source": [
    "delete_emp_by_emp_id(301)"
   ]
  },
  {
   "cell_type": "code",
   "execution_count": 60,
   "id": "919a37f2",
   "metadata": {},
   "outputs": [],
   "source": [
    "# job을 매개변수로 받아서 그 job의 직원들을 삭제하는 함수\n",
    "def delete_emp_by_emp_job(job):\n",
    "    sql = 'delete from emp where job=%s'\n",
    "    with pymysql.connect(host='127.0.0.1', port=3306, user='scott', password='tiger', db='hr', charset='utf8') as connection:\n",
    "        with connection.cursor() as cursor:\n",
    "            cnt = cursor.execute(sql, (job, ))\n",
    "            connection.commit()\n",
    "            return cnt    "
   ]
  },
  {
   "cell_type": "code",
   "execution_count": 62,
   "id": "667d4335",
   "metadata": {},
   "outputs": [
    {
     "data": {
      "text/plain": [
       "20"
      ]
     },
     "execution_count": 62,
     "metadata": {},
     "output_type": "execute_result"
    }
   ],
   "source": [
    "delete_emp_by_emp_job('SH_CLERK')"
   ]
  },
  {
   "cell_type": "code",
   "execution_count": 63,
   "id": "3bb7d441",
   "metadata": {},
   "outputs": [],
   "source": [
    "# 전체 직원을 조회한 결과를 반환하는 함수.\n",
    "def select_all_emp():\n",
    "    sql = 'select * from emp'\n",
    "    with pymysql.connect(host='127.0.0.1', port=3306, user='scott', password='tiger', db='hr', charset='utf8') as connection:\n",
    "        with connection.cursor() as cursor:\n",
    "            cursor.execute(sql)\n",
    "            result = cursor.fetchall()\n",
    "            return result"
   ]
  },
  {
   "cell_type": "code",
   "execution_count": 65,
   "id": "8b7c75cc",
   "metadata": {
    "collapsed": true
   },
   "outputs": [
    {
     "name": "stdout",
     "output_type": "stream",
     "text": [
      "91\n",
      "((100, 'Steven', 'AD_PRES', None, datetime.date(2003, 6, 17), Decimal('24000.00'), None, 'Executive'), (101, 'Neena', 'AD_VP', 100, datetime.date(2005, 9, 21), Decimal('17000.00'), None, 'Executive'), (102, 'Lex', 'AD_VP', 100, datetime.date(2001, 1, 13), Decimal('17000.00'), None, 'Executive'), (103, 'Alexander', 'IT_PROG', 102, datetime.date(2006, 1, 3), Decimal('9000.00'), None, 'IT'), (104, 'Bruce', 'IT_PROG', 103, datetime.date(2007, 5, 21), Decimal('6000.00'), None, 'IT'), (105, 'David', 'IT_PROG', 103, datetime.date(2005, 6, 25), Decimal('4800.00'), None, 'IT'), (106, 'Valli', 'IT_PROG', 103, datetime.date(2006, 2, 5), Decimal('4800.00'), None, 'IT'), (107, 'Diana', 'IT_PROG', 103, datetime.date(2007, 2, 7), Decimal('4200.00'), None, 'IT'), (108, 'Nancy', 'FI_MGR', 101, datetime.date(2002, 8, 17), Decimal('12008.00'), None, 'Finance'), (109, 'Daniel', 'FI_ACCOUNT', 108, datetime.date(2002, 8, 16), Decimal('9000.00'), None, 'Finance'), (110, 'John', 'FI_ACCOUNT', 108, datetime.date(2005, 9, 28), Decimal('8200.00'), None, 'Finance'), (111, 'Ismael', 'FI_ACCOUNT', 108, datetime.date(2005, 9, 30), Decimal('7700.00'), None, 'Finance'), (112, 'Jose Manuel', 'FI_ACCOUNT', 108, datetime.date(2006, 3, 7), Decimal('7800.00'), None, 'Finance'), (113, 'Luis', 'FI_ACCOUNT', 108, datetime.date(2007, 12, 7), Decimal('6900.00'), None, 'Finance'), (114, 'Den', 'PU_MAN', 100, datetime.date(2002, 12, 7), Decimal('11000.00'), None, 'Purchasing'), (115, 'Alexander', 'PU_MAN', 100, datetime.date(2003, 5, 18), Decimal('7100.00'), None, 'Purchasing'), (116, 'Shelli', 'PU_CLERK', 114, datetime.date(2005, 12, 24), Decimal('2900.00'), None, 'Purchasing'), (117, 'Sigal', 'PU_CLERK', 115, datetime.date(2005, 7, 24), Decimal('2800.00'), None, 'Purchasing'), (118, 'Guy', 'PU_CLERK', 115, datetime.date(2006, 11, 15), Decimal('2600.00'), None, 'Purchasing'), (119, 'Karen', 'PU_CLERK', 114, datetime.date(2007, 8, 10), Decimal('2500.00'), None, 'Purchasing'), (120, 'Matthew', 'ST_MAN', 100, datetime.date(2004, 7, 18), Decimal('8000.00'), None, 'Shipping'), (121, 'Adam', 'ST_MAN', 100, datetime.date(2005, 4, 10), Decimal('8200.00'), None, 'Shipping'), (122, 'Payam', 'ST_MAN', 100, datetime.date(2003, 5, 1), Decimal('7900.00'), None, 'Shipping'), (123, 'Shanta', 'ST_MAN', 100, datetime.date(2005, 10, 10), Decimal('6500.00'), None, 'Shipping'), (124, 'Kevin', 'ST_MAN', 100, datetime.date(2007, 11, 16), Decimal('5800.00'), None, 'Shipping'), (125, 'Julia', 'ST_CLERK', 120, datetime.date(2005, 7, 16), Decimal('3200.00'), None, 'Shipping'), (126, 'Irene', 'ST_CLERK', 120, datetime.date(2006, 9, 28), Decimal('2700.00'), None, 'Shipping'), (127, 'James', 'ST_CLERK', 120, datetime.date(2007, 1, 14), Decimal('2400.00'), None, 'Shipping'), (128, 'Steven', 'ST_CLERK', 120, datetime.date(2008, 3, 8), Decimal('2200.00'), None, 'Shipping'), (129, 'Laura', 'ST_CLERK', 121, datetime.date(2005, 8, 20), Decimal('3300.00'), None, 'Shipping'), (130, 'Mozhe', 'ST_CLERK', 121, datetime.date(2005, 10, 30), Decimal('2800.00'), None, 'Shipping'), (131, 'James', 'ST_CLERK', 121, datetime.date(2005, 2, 16), Decimal('2500.00'), None, 'Shipping'), (132, 'TJ', 'ST_CLERK', 121, datetime.date(2007, 4, 10), Decimal('2100.00'), None, 'Shipping'), (133, 'Jason', 'ST_CLERK', 122, datetime.date(2004, 6, 14), Decimal('3300.00'), None, 'Shipping'), (134, 'Michael', 'ST_CLERK', 122, datetime.date(2006, 8, 26), Decimal('2900.00'), None, 'Shipping'), (135, 'Ki', 'ST_CLERK', 122, datetime.date(2007, 12, 12), Decimal('2400.00'), None, 'Shipping'), (136, 'Hazel', 'ST_CLERK', 122, datetime.date(2008, 2, 6), Decimal('2200.00'), None, 'Shipping'), (137, 'Renske', 'ST_CLERK', 123, datetime.date(2003, 7, 14), Decimal('3600.00'), None, 'Shipping'), (138, 'Stephen', 'ST_CLERK', 123, datetime.date(2005, 10, 26), Decimal('3200.00'), None, 'Shipping'), (139, 'John', 'ST_CLERK', 123, datetime.date(2006, 2, 12), Decimal('2700.00'), None, 'Shipping'), (140, 'Joshua', 'ST_CLERK', 123, datetime.date(2006, 4, 6), Decimal('2500.00'), None, 'Shipping'), (141, 'Trenna', 'ST_CLERK', 124, datetime.date(2003, 10, 17), Decimal('3500.00'), None, 'Shipping'), (142, 'Curtis', 'ST_CLERK', 124, datetime.date(2005, 1, 29), Decimal('3100.00'), None, 'Shipping'), (143, 'Randall', 'ST_CLERK', 124, datetime.date(2006, 3, 15), Decimal('2600.00'), None, 'Shipping'), (144, 'Peter', 'ST_CLERK', 124, datetime.date(2006, 7, 9), Decimal('2500.00'), None, 'Shipping'), (145, 'John', 'SA_MAN', 100, datetime.date(2004, 10, 1), Decimal('14000.00'), Decimal('0.40'), 'Sales'), (146, 'Karen', 'SA_MAN', 100, datetime.date(2005, 1, 5), Decimal('13500.00'), Decimal('0.30'), 'Sales'), (147, 'Alberto', 'SA_MAN', 100, datetime.date(2005, 3, 10), Decimal('12000.00'), Decimal('0.30'), None), (148, 'Gerald', 'SA_MAN', 100, datetime.date(2007, 10, 15), Decimal('11000.00'), Decimal('0.30'), 'Sales'), (149, 'Eleni', 'SA_MAN', 100, datetime.date(2008, 1, 29), Decimal('10500.00'), Decimal('0.20'), 'Sales'), (150, 'Peter', 'SA_REP', 145, datetime.date(2005, 1, 30), Decimal('10000.00'), Decimal('0.30'), 'Sales'), (151, 'David', 'SA_REP', 145, datetime.date(2005, 3, 24), Decimal('9500.00'), Decimal('0.25'), 'Sales'), (152, 'Peter', 'SA_REP', 145, datetime.date(2005, 8, 20), Decimal('9000.00'), Decimal('0.25'), 'Sales'), (153, 'Christopher', 'SA_REP', 145, datetime.date(2006, 3, 30), Decimal('8000.00'), Decimal('0.20'), 'Sales'), (154, 'Nanette', 'SA_REP', 145, datetime.date(2006, 12, 9), Decimal('7500.00'), Decimal('0.20'), 'Sales'), (155, 'Oliver', 'SA_REP', 145, datetime.date(2007, 11, 23), Decimal('7000.00'), Decimal('0.15'), 'Sales'), (156, 'Janette', 'SA_REP', 146, datetime.date(2004, 1, 30), Decimal('10000.00'), Decimal('0.35'), 'Sales'), (157, 'Patrick', 'SA_REP', 146, datetime.date(2004, 3, 4), Decimal('9500.00'), Decimal('0.35'), 'Sales'), (158, 'Allan', 'SA_REP', 146, datetime.date(2004, 8, 1), Decimal('9000.00'), Decimal('0.35'), 'Sales'), (159, 'Lindsey', 'SA_REP', 146, datetime.date(2005, 3, 10), Decimal('8000.00'), Decimal('0.30'), 'Sales'), (160, 'Louise', 'SA_REP', 146, datetime.date(2005, 12, 15), Decimal('7500.00'), Decimal('0.30'), 'Sales'), (161, 'Sarath', 'SA_REP', 146, datetime.date(2006, 11, 3), Decimal('7000.00'), Decimal('0.25'), 'Sales'), (162, 'Clara', 'SA_REP', 147, datetime.date(2005, 11, 11), Decimal('10500.00'), Decimal('0.25'), 'Sales'), (163, 'Danielle', 'SA_REP', 147, datetime.date(2007, 3, 19), Decimal('9500.00'), Decimal('0.15'), 'Sales'), (164, 'Mattea', 'SA_REP', 147, datetime.date(2008, 1, 24), Decimal('7200.00'), Decimal('0.10'), 'Sales'), (165, 'David', 'SA_REP', 147, datetime.date(2008, 2, 23), Decimal('6800.00'), Decimal('0.10'), 'Sales'), (166, 'Sundar', 'SA_REP', 147, datetime.date(2008, 3, 24), Decimal('6400.00'), Decimal('0.10'), 'Sales'), (167, 'Amit', 'SA_REP', 147, datetime.date(2008, 4, 21), Decimal('6200.00'), Decimal('0.10'), 'Sales'), (168, 'Lisa', 'SA_REP', 148, datetime.date(2005, 3, 11), Decimal('11500.00'), Decimal('0.25'), 'Sales'), (169, 'Harrison', 'SA_REP', 148, datetime.date(2006, 3, 23), Decimal('10000.00'), Decimal('0.20'), 'Sales'), (170, 'Tayler', 'SA_REP', 148, datetime.date(2006, 1, 24), Decimal('9600.00'), Decimal('0.20'), 'Sales'), (171, 'William', 'SA_REP', 148, datetime.date(2007, 2, 23), Decimal('7400.00'), Decimal('0.15'), 'Sales'), (172, 'Elizabeth', 'SA_REP', 148, datetime.date(2007, 3, 24), Decimal('7300.00'), Decimal('0.15'), 'Sales'), (173, 'Sundita', 'SA_REP', 148, datetime.date(2008, 4, 21), Decimal('6100.00'), Decimal('0.10'), 'Sales'), (174, 'Ellen', 'SA_REP', 149, datetime.date(2004, 5, 11), Decimal('11000.00'), Decimal('0.30'), 'Sales'), (175, 'Alyssa', 'SA_REP', 149, datetime.date(2005, 3, 19), Decimal('8800.00'), Decimal('0.25'), 'Sales'), (176, 'Jonathon', 'SA_REP', 149, datetime.date(2006, 3, 24), Decimal('8600.00'), Decimal('0.20'), 'Sales'), (177, 'Jack', 'SA_REP', 149, datetime.date(2006, 4, 23), Decimal('8400.00'), Decimal('0.20'), 'Sales'), (178, 'Kimberely', 'SA_REP', 149, datetime.date(2007, 5, 24), Decimal('7000.00'), Decimal('0.15'), None), (179, 'Charles', 'SA_REP', 149, datetime.date(2008, 1, 4), Decimal('6200.00'), Decimal('0.10'), 'Sales'), (200, 'Jenni%fer', 'AD_ASST', 101, datetime.date(2003, 9, 17), Decimal('4400.00'), None, 'Administration'), (201, 'Michael', 'MK_MAN', 100, datetime.date(2004, 2, 17), Decimal('13000.00'), None, 'Marketing'), (202, 'Pat', 'MK_REP', 201, datetime.date(2005, 8, 17), Decimal('6000.00'), None, 'Marketing'), (203, 'Susan', 'HR_REP', 101, datetime.date(2002, 6, 7), Decimal('6500.00'), None, 'Human Resources'), (204, 'Hermann', 'PR_REP', 101, datetime.date(2002, 6, 7), Decimal('10000.00'), None, 'Public Relations'), (205, 'Shelley', 'AC_MGR', 101, datetime.date(2002, 6, 7), Decimal('12008.00'), None, 'Accounting'), (206, '윌리암', '회계', 205, datetime.date(2002, 6, 7), Decimal('18300.00'), None, 'Accounting'), (302, '강감찬', 'AC_ACCOUNT', 205, datetime.date(2020, 1, 3), Decimal('10000.00'), None, None), (303, '이순신', 'AC_ACCOUNT', 205, datetime.date(2020, 1, 3), Decimal('10000.00'), Decimal('0.10'), None), (401, '홍길동', '기획', 100, datetime.date(2020, 10, 10), Decimal('3000.00'), Decimal('0.20'), '기획부'), (402, '박영수', '구매', None, datetime.date(2000, 1, 3), None, None, None))\n"
     ]
    }
   ],
   "source": [
    "r = select_all_emp()\n",
    "print(len(r))\n",
    "print(r)"
   ]
  },
  {
   "cell_type": "code",
   "execution_count": 66,
   "id": "e82b3215",
   "metadata": {},
   "outputs": [],
   "source": [
    "# emp_id를 매개변수로 받아서 그 직원 정보를 조회한 결과를 반환하는 함수\n",
    "def select_emp_by_emp_id(emp_id):\n",
    "    sql = 'select * from emp where emp_id=%s'  #PK 조회\n",
    "    with pymysql.connect(host='127.0.0.1', port=3306, user='scott', password='tiger', db='hr', charset='utf8') as connection:\n",
    "        with connection.cursor() as cursor:\n",
    "            cursor.execute(sql, (emp_id, ))\n",
    "            return cursor.fetchone()"
   ]
  },
  {
   "cell_type": "code",
   "execution_count": 67,
   "id": "54d23b3f",
   "metadata": {},
   "outputs": [
    {
     "name": "stdout",
     "output_type": "stream",
     "text": [
      "(100, 'Steven', 'AD_PRES', None, datetime.date(2003, 6, 17), Decimal('24000.00'), None, 'Executive')\n"
     ]
    }
   ],
   "source": [
    "r = select_emp_by_emp_id(100)\n",
    "print(r)"
   ]
  },
  {
   "cell_type": "code",
   "execution_count": 68,
   "id": "d1d61711",
   "metadata": {},
   "outputs": [
    {
     "name": "stdout",
     "output_type": "stream",
     "text": [
      "None\n"
     ]
    }
   ],
   "source": [
    "r = select_emp_by_emp_id(800)\n",
    "print(r)"
   ]
  },
  {
   "cell_type": "code",
   "execution_count": 69,
   "id": "e5fa4930",
   "metadata": {},
   "outputs": [],
   "source": [
    "# dept_name을 매개변수로 받아서 그 부서의 직원들을 조회한 결과를 반환하는 함수\n",
    "def select_emp_by_dept_name(dept_name):\n",
    "    sql = 'select * from emp where dept_name=%s'\n",
    "    with pymysql.connect(host='127.0.0.1', port=3306, user='scott', password='tiger', db='hr', charset='utf8') as connection:\n",
    "        with connection.cursor() as cursor:\n",
    "            cursor.execute(sql, (dept_name, ))\n",
    "            return cursor.fetchall()"
   ]
  },
  {
   "cell_type": "code",
   "execution_count": 72,
   "id": "b927fb06",
   "metadata": {
    "collapsed": true
   },
   "outputs": [
    {
     "name": "stdout",
     "output_type": "stream",
     "text": [
      "33\n",
      "((145, 'John', 'SA_MAN', 100, datetime.date(2004, 10, 1), Decimal('14000.00'), Decimal('0.40'), 'Sales'), (146, 'Karen', 'SA_MAN', 100, datetime.date(2005, 1, 5), Decimal('13500.00'), Decimal('0.30'), 'Sales'), (148, 'Gerald', 'SA_MAN', 100, datetime.date(2007, 10, 15), Decimal('11000.00'), Decimal('0.30'), 'Sales'), (149, 'Eleni', 'SA_MAN', 100, datetime.date(2008, 1, 29), Decimal('10500.00'), Decimal('0.20'), 'Sales'), (150, 'Peter', 'SA_REP', 145, datetime.date(2005, 1, 30), Decimal('10000.00'), Decimal('0.30'), 'Sales'), (151, 'David', 'SA_REP', 145, datetime.date(2005, 3, 24), Decimal('9500.00'), Decimal('0.25'), 'Sales'), (152, 'Peter', 'SA_REP', 145, datetime.date(2005, 8, 20), Decimal('9000.00'), Decimal('0.25'), 'Sales'), (153, 'Christopher', 'SA_REP', 145, datetime.date(2006, 3, 30), Decimal('8000.00'), Decimal('0.20'), 'Sales'), (154, 'Nanette', 'SA_REP', 145, datetime.date(2006, 12, 9), Decimal('7500.00'), Decimal('0.20'), 'Sales'), (155, 'Oliver', 'SA_REP', 145, datetime.date(2007, 11, 23), Decimal('7000.00'), Decimal('0.15'), 'Sales'), (156, 'Janette', 'SA_REP', 146, datetime.date(2004, 1, 30), Decimal('10000.00'), Decimal('0.35'), 'Sales'), (157, 'Patrick', 'SA_REP', 146, datetime.date(2004, 3, 4), Decimal('9500.00'), Decimal('0.35'), 'Sales'), (158, 'Allan', 'SA_REP', 146, datetime.date(2004, 8, 1), Decimal('9000.00'), Decimal('0.35'), 'Sales'), (159, 'Lindsey', 'SA_REP', 146, datetime.date(2005, 3, 10), Decimal('8000.00'), Decimal('0.30'), 'Sales'), (160, 'Louise', 'SA_REP', 146, datetime.date(2005, 12, 15), Decimal('7500.00'), Decimal('0.30'), 'Sales'), (161, 'Sarath', 'SA_REP', 146, datetime.date(2006, 11, 3), Decimal('7000.00'), Decimal('0.25'), 'Sales'), (162, 'Clara', 'SA_REP', 147, datetime.date(2005, 11, 11), Decimal('10500.00'), Decimal('0.25'), 'Sales'), (163, 'Danielle', 'SA_REP', 147, datetime.date(2007, 3, 19), Decimal('9500.00'), Decimal('0.15'), 'Sales'), (164, 'Mattea', 'SA_REP', 147, datetime.date(2008, 1, 24), Decimal('7200.00'), Decimal('0.10'), 'Sales'), (165, 'David', 'SA_REP', 147, datetime.date(2008, 2, 23), Decimal('6800.00'), Decimal('0.10'), 'Sales'), (166, 'Sundar', 'SA_REP', 147, datetime.date(2008, 3, 24), Decimal('6400.00'), Decimal('0.10'), 'Sales'), (167, 'Amit', 'SA_REP', 147, datetime.date(2008, 4, 21), Decimal('6200.00'), Decimal('0.10'), 'Sales'), (168, 'Lisa', 'SA_REP', 148, datetime.date(2005, 3, 11), Decimal('11500.00'), Decimal('0.25'), 'Sales'), (169, 'Harrison', 'SA_REP', 148, datetime.date(2006, 3, 23), Decimal('10000.00'), Decimal('0.20'), 'Sales'), (170, 'Tayler', 'SA_REP', 148, datetime.date(2006, 1, 24), Decimal('9600.00'), Decimal('0.20'), 'Sales'), (171, 'William', 'SA_REP', 148, datetime.date(2007, 2, 23), Decimal('7400.00'), Decimal('0.15'), 'Sales'), (172, 'Elizabeth', 'SA_REP', 148, datetime.date(2007, 3, 24), Decimal('7300.00'), Decimal('0.15'), 'Sales'), (173, 'Sundita', 'SA_REP', 148, datetime.date(2008, 4, 21), Decimal('6100.00'), Decimal('0.10'), 'Sales'), (174, 'Ellen', 'SA_REP', 149, datetime.date(2004, 5, 11), Decimal('11000.00'), Decimal('0.30'), 'Sales'), (175, 'Alyssa', 'SA_REP', 149, datetime.date(2005, 3, 19), Decimal('8800.00'), Decimal('0.25'), 'Sales'), (176, 'Jonathon', 'SA_REP', 149, datetime.date(2006, 3, 24), Decimal('8600.00'), Decimal('0.20'), 'Sales'), (177, 'Jack', 'SA_REP', 149, datetime.date(2006, 4, 23), Decimal('8400.00'), Decimal('0.20'), 'Sales'), (179, 'Charles', 'SA_REP', 149, datetime.date(2008, 1, 4), Decimal('6200.00'), Decimal('0.10'), 'Sales'))\n"
     ]
    }
   ],
   "source": [
    "r = select_emp_by_dept_name('Sales')\n",
    "print(len(r))\n",
    "print(r)"
   ]
  },
  {
   "cell_type": "code",
   "execution_count": 73,
   "id": "803ff52b",
   "metadata": {},
   "outputs": [],
   "source": [
    "# salary 범위를 받아서 그 범위의 salary를 받는 직원들을 조회한 결과를 반환하는 함수\n",
    "def select_emp_range_salary(s_salary, e_salary):\n",
    "    sql = 'select * from emp where salary between %s and %s'\n",
    "    with pymysql.connect(host='127.0.0.1', port=3306, user='scott', password='tiger', db='hr', charset='utf8') as connection:\n",
    "        with connection.cursor() as cursor:\n",
    "            cursor.execute(sql, (s_salary, e_salary))\n",
    "            return cursor.fetchall()"
   ]
  },
  {
   "cell_type": "code",
   "execution_count": 75,
   "id": "9983d9b0",
   "metadata": {},
   "outputs": [
    {
     "name": "stdout",
     "output_type": "stream",
     "text": [
      "8\n",
      "((125, 'Julia', 'ST_CLERK', 120, datetime.date(2005, 7, 16), Decimal('3200.00'), None, 'Shipping'), (129, 'Laura', 'ST_CLERK', 121, datetime.date(2005, 8, 20), Decimal('3300.00'), None, 'Shipping'), (133, 'Jason', 'ST_CLERK', 122, datetime.date(2004, 6, 14), Decimal('3300.00'), None, 'Shipping'), (137, 'Renske', 'ST_CLERK', 123, datetime.date(2003, 7, 14), Decimal('3600.00'), None, 'Shipping'), (138, 'Stephen', 'ST_CLERK', 123, datetime.date(2005, 10, 26), Decimal('3200.00'), None, 'Shipping'), (141, 'Trenna', 'ST_CLERK', 124, datetime.date(2003, 10, 17), Decimal('3500.00'), None, 'Shipping'), (142, 'Curtis', 'ST_CLERK', 124, datetime.date(2005, 1, 29), Decimal('3100.00'), None, 'Shipping'), (401, '홍길동', '기획', 100, datetime.date(2020, 10, 10), Decimal('3000.00'), Decimal('0.20'), '기획부'))\n"
     ]
    }
   ],
   "source": [
    "r = select_emp_range_salary(3000, 4000)\n",
    "print(len(r))\n",
    "print(r)"
   ]
  },
  {
   "cell_type": "code",
   "execution_count": 76,
   "id": "5abaeab9",
   "metadata": {},
   "outputs": [
    {
     "name": "stdout",
     "output_type": "stream",
     "text": [
      "이름: Julia, 월급: 3200.00\n",
      "이름: Laura, 월급: 3300.00\n",
      "이름: Jason, 월급: 3300.00\n",
      "이름: Renske, 월급: 3600.00\n",
      "이름: Stephen, 월급: 3200.00\n",
      "이름: Trenna, 월급: 3500.00\n",
      "이름: Curtis, 월급: 3100.00\n",
      "이름: 홍길동, 월급: 3000.00\n"
     ]
    }
   ],
   "source": [
    "for data in r:\n",
    "    print(f'이름: {data[1]}, 월급: {data[5]}')"
   ]
  },
  {
   "cell_type": "code",
   "execution_count": 3,
   "id": "314ac70a",
   "metadata": {},
   "outputs": [],
   "source": [
    "# dept_name을 매개변수로 받아서 부서별 급여 통계정보(합계, 평균, 최대, 최소)를 반환하는 함수\n",
    "def select_emp_stat_by_dept_name():\n",
    "    sql = 'select dept_name, sum(salary) 합계, avg(salary) 평균, max(salary) 최대급여, min(salary) 최소급여 from emp group by dept_name'\n",
    "    with pymysql.connect(host='127.0.0.1', port=3306, user='hanec', password='1866', db='hr', charset='utf8', \n",
    "                         cursorclass=pymysql.cursors.DictCursor) as connection:\n",
    "        with connection.cursor() as cursor:\n",
    "            cursor.execute(sql)\n",
    "            return cursor.fetchall()"
   ]
  },
  {
   "cell_type": "code",
   "execution_count": 4,
   "id": "64874fe3",
   "metadata": {},
   "outputs": [
    {
     "ename": "NameError",
     "evalue": "name 'pymysql' is not defined",
     "output_type": "error",
     "traceback": [
      "\u001b[0;31m---------------------------------------------------------------------------\u001b[0m",
      "\u001b[0;31mNameError\u001b[0m                                 Traceback (most recent call last)",
      "Input \u001b[0;32mIn [4]\u001b[0m, in \u001b[0;36m<cell line: 1>\u001b[0;34m()\u001b[0m\n\u001b[0;32m----> 1\u001b[0m r \u001b[38;5;241m=\u001b[39m \u001b[43mselect_emp_stat_by_dept_name\u001b[49m\u001b[43m(\u001b[49m\u001b[43m)\u001b[49m\n\u001b[1;32m      2\u001b[0m \u001b[38;5;28mlen\u001b[39m(r)\n",
      "Input \u001b[0;32mIn [3]\u001b[0m, in \u001b[0;36mselect_emp_stat_by_dept_name\u001b[0;34m()\u001b[0m\n\u001b[1;32m      2\u001b[0m \u001b[38;5;28;01mdef\u001b[39;00m \u001b[38;5;21mselect_emp_stat_by_dept_name\u001b[39m():\n\u001b[1;32m      3\u001b[0m     sql \u001b[38;5;241m=\u001b[39m \u001b[38;5;124m'\u001b[39m\u001b[38;5;124mselect dept_name, sum(salary) 합계, avg(salary) 평균, max(salary) 최대급여, min(salary) 최소급여 from emp group by dept_name\u001b[39m\u001b[38;5;124m'\u001b[39m\n\u001b[0;32m----> 4\u001b[0m     \u001b[38;5;28;01mwith\u001b[39;00m \u001b[43mpymysql\u001b[49m\u001b[38;5;241m.\u001b[39mconnect(host\u001b[38;5;241m=\u001b[39m\u001b[38;5;124m'\u001b[39m\u001b[38;5;124m127.0.0.1\u001b[39m\u001b[38;5;124m'\u001b[39m, port\u001b[38;5;241m=\u001b[39m\u001b[38;5;241m3306\u001b[39m, user\u001b[38;5;241m=\u001b[39m\u001b[38;5;124m'\u001b[39m\u001b[38;5;124mhanec\u001b[39m\u001b[38;5;124m'\u001b[39m, password\u001b[38;5;241m=\u001b[39m\u001b[38;5;124m'\u001b[39m\u001b[38;5;124m1866\u001b[39m\u001b[38;5;124m'\u001b[39m, db\u001b[38;5;241m=\u001b[39m\u001b[38;5;124m'\u001b[39m\u001b[38;5;124mhr\u001b[39m\u001b[38;5;124m'\u001b[39m, charset\u001b[38;5;241m=\u001b[39m\u001b[38;5;124m'\u001b[39m\u001b[38;5;124mutf8\u001b[39m\u001b[38;5;124m'\u001b[39m, \n\u001b[1;32m      5\u001b[0m                          cursorclass\u001b[38;5;241m=\u001b[39mpymysql\u001b[38;5;241m.\u001b[39mcursors\u001b[38;5;241m.\u001b[39mDictCursor) \u001b[38;5;28;01mas\u001b[39;00m connection:\n\u001b[1;32m      6\u001b[0m         \u001b[38;5;28;01mwith\u001b[39;00m connection\u001b[38;5;241m.\u001b[39mcursor() \u001b[38;5;28;01mas\u001b[39;00m cursor:\n\u001b[1;32m      7\u001b[0m             cursor\u001b[38;5;241m.\u001b[39mexecute(sql)\n",
      "\u001b[0;31mNameError\u001b[0m: name 'pymysql' is not defined"
     ]
    }
   ],
   "source": [
    "r = select_emp_stat_by_dept_name()\n",
    "len(r)"
   ]
  },
  {
   "cell_type": "code",
   "execution_count": 82,
   "id": "25494d44",
   "metadata": {},
   "outputs": [
    {
     "data": {
      "text/plain": [
       "[{'dept_name': 'Executive',\n",
       "  '합계': Decimal('58000.00'),\n",
       "  '평균': Decimal('19333.333333'),\n",
       "  '최대급여': Decimal('24000.00'),\n",
       "  '최소급여': Decimal('17000.00')},\n",
       " {'dept_name': 'IT',\n",
       "  '합계': Decimal('28800.00'),\n",
       "  '평균': Decimal('5760.000000'),\n",
       "  '최대급여': Decimal('9000.00'),\n",
       "  '최소급여': Decimal('4200.00')},\n",
       " {'dept_name': 'Finance',\n",
       "  '합계': Decimal('51608.00'),\n",
       "  '평균': Decimal('8601.333333'),\n",
       "  '최대급여': Decimal('12008.00'),\n",
       "  '최소급여': Decimal('6900.00')},\n",
       " {'dept_name': 'Purchasing',\n",
       "  '합계': Decimal('28900.00'),\n",
       "  '평균': Decimal('4816.666667'),\n",
       "  '최대급여': Decimal('11000.00'),\n",
       "  '최소급여': Decimal('2500.00')},\n",
       " {'dept_name': 'Shipping',\n",
       "  '합계': Decimal('92100.00'),\n",
       "  '평균': Decimal('3684.000000'),\n",
       "  '최대급여': Decimal('8200.00'),\n",
       "  '최소급여': Decimal('2100.00')},\n",
       " {'dept_name': 'Sales',\n",
       "  '합계': Decimal('292500.00'),\n",
       "  '평균': Decimal('8863.636364'),\n",
       "  '최대급여': Decimal('14000.00'),\n",
       "  '최소급여': Decimal('6100.00')},\n",
       " {'dept_name': None,\n",
       "  '합계': Decimal('39000.00'),\n",
       "  '평균': Decimal('9750.000000'),\n",
       "  '최대급여': Decimal('12000.00'),\n",
       "  '최소급여': Decimal('7000.00')},\n",
       " {'dept_name': 'Administration',\n",
       "  '합계': Decimal('4400.00'),\n",
       "  '평균': Decimal('4400.000000'),\n",
       "  '최대급여': Decimal('4400.00'),\n",
       "  '최소급여': Decimal('4400.00')},\n",
       " {'dept_name': 'Marketing',\n",
       "  '합계': Decimal('19000.00'),\n",
       "  '평균': Decimal('9500.000000'),\n",
       "  '최대급여': Decimal('13000.00'),\n",
       "  '최소급여': Decimal('6000.00')},\n",
       " {'dept_name': 'Human Resources',\n",
       "  '합계': Decimal('6500.00'),\n",
       "  '평균': Decimal('6500.000000'),\n",
       "  '최대급여': Decimal('6500.00'),\n",
       "  '최소급여': Decimal('6500.00')},\n",
       " {'dept_name': 'Public Relations',\n",
       "  '합계': Decimal('10000.00'),\n",
       "  '평균': Decimal('10000.000000'),\n",
       "  '최대급여': Decimal('10000.00'),\n",
       "  '최소급여': Decimal('10000.00')},\n",
       " {'dept_name': 'Accounting',\n",
       "  '합계': Decimal('30308.00'),\n",
       "  '평균': Decimal('15154.000000'),\n",
       "  '최대급여': Decimal('18300.00'),\n",
       "  '최소급여': Decimal('12008.00')},\n",
       " {'dept_name': '기획부',\n",
       "  '합계': Decimal('3000.00'),\n",
       "  '평균': Decimal('3000.000000'),\n",
       "  '최대급여': Decimal('3000.00'),\n",
       "  '최소급여': Decimal('3000.00')}]"
      ]
     },
     "execution_count": 82,
     "metadata": {},
     "output_type": "execute_result"
    }
   ],
   "source": [
    "r"
   ]
  },
  {
   "cell_type": "code",
   "execution_count": null,
   "id": "ec28d21d",
   "metadata": {},
   "outputs": [],
   "source": []
  }
 ],
 "metadata": {
  "kernelspec": {
   "display_name": "Python 3 (ipykernel)",
   "language": "python",
   "name": "python3"
  },
  "language_info": {
   "codemirror_mode": {
    "name": "ipython",
    "version": 3
   },
   "file_extension": ".py",
   "mimetype": "text/x-python",
   "name": "python",
   "nbconvert_exporter": "python",
   "pygments_lexer": "ipython3",
   "version": "3.9.7"
  },
  "toc": {
   "base_numbering": 1,
   "nav_menu": {},
   "number_sections": false,
   "sideBar": true,
   "skip_h1_title": false,
   "title_cell": "Table of Contents",
   "title_sidebar": "Contents",
   "toc_cell": false,
   "toc_position": {},
   "toc_section_display": true,
   "toc_window_display": false
  },
  "varInspector": {
   "cols": {
    "lenName": 16,
    "lenType": 16,
    "lenVar": 40
   },
   "kernels_config": {
    "python": {
     "delete_cmd_postfix": "",
     "delete_cmd_prefix": "del ",
     "library": "var_list.py",
     "varRefreshCmd": "print(var_dic_list())"
    },
    "r": {
     "delete_cmd_postfix": ") ",
     "delete_cmd_prefix": "rm(",
     "library": "var_list.r",
     "varRefreshCmd": "cat(var_dic_list()) "
    }
   },
   "types_to_exclude": [
    "module",
    "function",
    "builtin_function_or_method",
    "instance",
    "_Feature"
   ],
   "window_display": false
  }
 },
 "nbformat": 4,
 "nbformat_minor": 5
}
