{
 "cells": [
  {
   "cell_type": "markdown",
   "id": "2c7b9265",
   "metadata": {},
   "source": [
    "# 제어문\n",
    "code의 흐름을 제어하는 구문"
   ]
  },
  {
   "cell_type": "markdown",
   "id": "22eb2386",
   "metadata": {},
   "source": [
    "## 조건문 (분기문)"
   ]
  },
  {
   "cell_type": "code",
   "execution_count": 12,
   "id": "cadc9dfd",
   "metadata": {},
   "outputs": [
    {
     "name": "stdout",
     "output_type": "stream",
     "text": [
      "정수:0\n",
      "영입니다.\n",
      "zero\n",
      "종료\n"
     ]
    }
   ],
   "source": [
    "num = int(input(\"정수:\"))\n",
    "# 입력값이 0이면 \"영입니다.\" 라고 출력한다.\n",
    "# 단순 if문 -> 특정 구문들을 실행할지 말지\n",
    "if num==0:\n",
    "    print('영입니다.')\n",
    "    print('zero')\n",
    "print('종료')"
   ]
  },
  {
   "cell_type": "code",
   "execution_count": 15,
   "id": "475ae68b",
   "metadata": {},
   "outputs": [
    {
     "name": "stdout",
     "output_type": "stream",
     "text": [
      "정수:0\n",
      "0입니다.\n",
      "종료합니다\n"
     ]
    }
   ],
   "source": [
    "# 입력받은 값이 0이면 \"0입니다.\" 출력하고 0이 아니면 '0이 아닙니다.' 출력한다.\n",
    "# if else 문: 조건이 True일 때 할일과 False 할일 두가지로 분기하는 경우.\n",
    "num = int(input('정수:'))\n",
    "if num==0:\n",
    "    print(\"0입니다.\")\n",
    "else:\n",
    "    print('0이 아닙니다.')\n",
    "    print(f\"입력한 숫자는 {num}입니다.\")\n",
    "        \n",
    "print('종료합니다')    "
   ]
  },
  {
   "cell_type": "code",
   "execution_count": 21,
   "id": "e34252c2",
   "metadata": {},
   "outputs": [
    {
     "name": "stdout",
     "output_type": "stream",
     "text": [
      "정수:-20\n",
      "음수입니다.\n",
      "종료합니다\n"
     ]
    }
   ],
   "source": [
    "# 입력받은 값이 0이면 '0입니다.'를 출력하고\n",
    "#             양수이면 '양수입니다.'를 출력\n",
    "#             음수이면 '음수입니다.'를 출력 한다. \n",
    "# if elif 문: 조건이 여러개일 경우 사용\n",
    "# elif: else if\n",
    "num = int(input('정수:'))\n",
    "if num == 0:\n",
    "    print('0입니다.')\n",
    "elif num > 0:\n",
    "    print('양수입니다.')\n",
    "    print(f'입력한 숫자는 {num}입니다.')\n",
    "# elif num < 0:\n",
    "else:  #위 조건이 모두 False이면(나머지 조건들) else문을 실행\n",
    "    print('음수입니다.')\n",
    "\n",
    "print('종료합니다')"
   ]
  },
  {
   "cell_type": "code",
   "execution_count": 28,
   "id": "02018f34",
   "metadata": {},
   "outputs": [],
   "source": [
    "# num이 0이상이면 \"양수입니다.\"를 출력하고 100 이상이면 \"100보다 큽니다.\"를 출력\n",
    "num = -19\n",
    "if num >= 0:\n",
    "    print('양수')\n",
    "    \n",
    "if num >= 100:\n",
    "    print('100이상')"
   ]
  },
  {
   "cell_type": "code",
   "execution_count": 27,
   "id": "5a49b152",
   "metadata": {},
   "outputs": [
    {
     "name": "stdout",
     "output_type": "stream",
     "text": [
      "양수\n"
     ]
    }
   ],
   "source": [
    "if num >= 0:\n",
    "    print('양수')\n",
    "    if num >= 100:\n",
    "        print('100이상')"
   ]
  },
  {
   "cell_type": "markdown",
   "id": "7cfd2264",
   "metadata": {},
   "source": [
    "## 반복문\n",
    "### while문\n",
    "- 조건이 True인 동안 구문을 반복"
   ]
  },
  {
   "cell_type": "code",
   "execution_count": 37,
   "id": "47dca319",
   "metadata": {},
   "outputs": [
    {
     "name": "stdout",
     "output_type": "stream",
     "text": [
      "반복횟수:3\n",
      "1. 안녕하세요\n",
      "==========\n",
      "2. 안녕하세요\n",
      "==========\n",
      "3. 안녕하세요\n",
      "==========\n"
     ]
    }
   ],
   "source": [
    "limit = int(input('반복횟수:')) #반복할 횟수\n",
    "count = 0 # 현재 몇번째 반복인지를 저장할 변수\n",
    "while count < limit:   #  현재 반복횟수가 limit보다 적을때 까지 반복\n",
    "    count = count + 1\n",
    "    print(f'{count}. 안녕하세요')\n",
    "    print('='*10)"
   ]
  },
  {
   "cell_type": "markdown",
   "id": "323cad85",
   "metadata": {},
   "source": [
    "### for in 문\n",
    "- iterable(자료구조들, 문자열 등)이 가지고 있는 값들을 순환조회할 때 사용"
   ]
  },
  {
   "cell_type": "code",
   "execution_count": 39,
   "id": "61147925",
   "metadata": {},
   "outputs": [
    {
     "data": {
      "text/plain": [
       "22"
      ]
     },
     "execution_count": 39,
     "metadata": {},
     "output_type": "execute_result"
    }
   ],
   "source": [
    "lst = [10, 5, 7, 9, 100, 50, 27, 123, 22, 90]\n",
    "n1 = lst[0]\n",
    "n2 = lst[1]\n",
    "n3 = lst[2]\n",
    "\n",
    "sum_result = n1 + n2 + n3\n",
    "sum_result"
   ]
  },
  {
   "cell_type": "code",
   "execution_count": 41,
   "id": "7b2a39bf",
   "metadata": {},
   "outputs": [
    {
     "data": {
      "text/plain": [
       "[10, 5, 7, 9, 100, 50, 27, 123, 22, 90]"
      ]
     },
     "execution_count": 41,
     "metadata": {},
     "output_type": "execute_result"
    }
   ],
   "source": [
    "lst"
   ]
  },
  {
   "cell_type": "code",
   "execution_count": 40,
   "id": "3f8bb20e",
   "metadata": {
    "collapsed": true
   },
   "outputs": [
    {
     "name": "stdout",
     "output_type": "stream",
     "text": [
      "10\n",
      "----------\n",
      "5\n",
      "----------\n",
      "7\n",
      "----------\n",
      "9\n",
      "----------\n",
      "100\n",
      "----------\n",
      "50\n",
      "----------\n",
      "27\n",
      "----------\n",
      "123\n",
      "----------\n",
      "22\n",
      "----------\n",
      "90\n",
      "----------\n"
     ]
    }
   ],
   "source": [
    "# for 변수 in Iteratble:\n",
    "#     반복구문\n",
    "for num in lst: \n",
    "    print(num)  #for in 문의 반복구문은 iterable의 원소 하나씩 처리하는 코드\n",
    "    print(\"-\"*10)"
   ]
  },
  {
   "cell_type": "code",
   "execution_count": 44,
   "id": "767bd3c9",
   "metadata": {},
   "outputs": [
    {
     "name": "stdout",
     "output_type": "stream",
     "text": [
      "10,20,30,40,종료\n"
     ]
    }
   ],
   "source": [
    "for v in (10,20,30,40):\n",
    "#     print(v)\n",
    "    print(v, end=\",\") #end=>v를 출력후 엔터대신에 출력할 값.\n",
    "print('종료')"
   ]
  },
  {
   "cell_type": "code",
   "execution_count": 47,
   "id": "71ebeed0",
   "metadata": {},
   "outputs": [
    {
     "name": "stdout",
     "output_type": "stream",
     "text": [
      "1\t2\t3\t4\t"
     ]
    }
   ],
   "source": [
    "for v in {1, 2, 2, 2, 3, 4, 1, 2, 3, 4}: # {1,2,3,4}\n",
    "    print(v, end='\\t')"
   ]
  },
  {
   "cell_type": "code",
   "execution_count": 48,
   "id": "40c7c707",
   "metadata": {},
   "outputs": [
    {
     "name": "stdout",
     "output_type": "stream",
     "text": [
      "name\n",
      "age\n",
      "address\n"
     ]
    }
   ],
   "source": [
    "for v in dict(name='홍길동', age=20, address='서울'): #dictionary -> key가 조회된다.\n",
    "    print(v)"
   ]
  },
  {
   "cell_type": "code",
   "execution_count": 49,
   "id": "d89f1991",
   "metadata": {},
   "outputs": [
    {
     "name": "stdout",
     "output_type": "stream",
     "text": [
      "안\n",
      "녕\n",
      "하\n",
      "세\n",
      "요\n",
      ".\n",
      "a\n",
      "b\n",
      "c\n",
      "d\n",
      "e\n",
      "~\n"
     ]
    }
   ],
   "source": [
    "for v in \"안녕하세요.abcde~\":\n",
    "    print(v)"
   ]
  },
  {
   "cell_type": "code",
   "execution_count": 50,
   "id": "e3bb821d",
   "metadata": {},
   "outputs": [
    {
     "data": {
      "text/plain": [
       "['a', 'b', 'c', 'd', 'e', 'f', 'g']"
      ]
     },
     "execution_count": 50,
     "metadata": {},
     "output_type": "execute_result"
    }
   ],
   "source": [
    "list(\"abcdefg\")"
   ]
  },
  {
   "cell_type": "code",
   "execution_count": 51,
   "id": "7bb5c838",
   "metadata": {},
   "outputs": [
    {
     "data": {
      "text/plain": [
       "('a', 'b', 'c', 'd', 'e', 'f', 'g')"
      ]
     },
     "execution_count": 51,
     "metadata": {},
     "output_type": "execute_result"
    }
   ],
   "source": [
    "tuple(\"abcdefg\")"
   ]
  },
  {
   "cell_type": "code",
   "execution_count": 53,
   "id": "95abb532",
   "metadata": {},
   "outputs": [
    {
     "data": {
      "text/plain": [
       "{'a', 'b', 'c', 'd', 'e', 'f', 'g', 's', 'z'}"
      ]
     },
     "execution_count": 53,
     "metadata": {},
     "output_type": "execute_result"
    }
   ],
   "source": [
    "set(\"abcdefgazaasdfasaa\")"
   ]
  },
  {
   "cell_type": "code",
   "execution_count": 54,
   "id": "dc735ff6",
   "metadata": {},
   "outputs": [
    {
     "data": {
      "text/plain": [
       "{'name': '홍길동', 'age': 20, 'address': '서울'}"
      ]
     },
     "execution_count": 54,
     "metadata": {},
     "output_type": "execute_result"
    }
   ],
   "source": [
    "d = dict(name='홍길동', age=20, address='서울')\n",
    "d"
   ]
  },
  {
   "cell_type": "code",
   "execution_count": 55,
   "id": "702cc19d",
   "metadata": {},
   "outputs": [
    {
     "name": "stdout",
     "output_type": "stream",
     "text": [
      "홍길동\n",
      "20\n",
      "서울\n"
     ]
    }
   ],
   "source": [
    "for key in d:\n",
    "    print(d[key])"
   ]
  },
  {
   "cell_type": "code",
   "execution_count": 57,
   "id": "dc8bf6c2",
   "metadata": {},
   "outputs": [
    {
     "name": "stdout",
     "output_type": "stream",
     "text": [
      "홍길동\n",
      "20\n",
      "서울\n"
     ]
    }
   ],
   "source": [
    "for v in d.values():\n",
    "    print(v)"
   ]
  },
  {
   "cell_type": "markdown",
   "id": "fe4b4ca5",
   "metadata": {},
   "source": [
    "## continue, break\n",
    "- continue: 다음 반복을 실행해라.\n",
    "- break: 반복을 멈춰라."
   ]
  },
  {
   "cell_type": "code",
   "execution_count": 65,
   "id": "1020545a",
   "metadata": {},
   "outputs": [
    {
     "name": "stdout",
     "output_type": "stream",
     "text": [
      "10\n",
      "100\n",
      "50\n",
      "22\n",
      "90\n"
     ]
    }
   ],
   "source": [
    "# lst값들 중에 2의 배수만 출력\n",
    "for v in lst:\n",
    "    if v % 2 == 0:\n",
    "        print(v)"
   ]
  },
  {
   "cell_type": "code",
   "execution_count": 68,
   "id": "d2a647c4",
   "metadata": {},
   "outputs": [
    {
     "data": {
      "text/plain": [
       "[10, 5, 7, 9, 100, 50, 27, 123, 22, 90]"
      ]
     },
     "execution_count": 68,
     "metadata": {},
     "output_type": "execute_result"
    }
   ],
   "source": [
    "lst"
   ]
  },
  {
   "cell_type": "code",
   "execution_count": 69,
   "id": "e32f10c5",
   "metadata": {},
   "outputs": [],
   "source": [
    "for v in lst:\n",
    "    if v % 2 != 0: #2의 배수가 아니면(조건)\n",
    "        continue  # 나머지 반복구문 실행하지 말고 다음 반복 실행해라.\n",
    "    print(v)"
   ]
  },
  {
   "cell_type": "code",
   "execution_count": 73,
   "id": "45991e89",
   "metadata": {
    "collapsed": true
   },
   "outputs": [
    {
     "name": "stdout",
     "output_type": "stream",
     "text": [
      "10\n",
      "5\n",
      "7\n",
      "9\n",
      "100\n",
      "end\n"
     ]
    }
   ],
   "source": [
    "for v in lst:\n",
    "    print(v)\n",
    "    if v >= 100: # break할 조건\n",
    "        break #더이상 반복하지 않고 반복문을 끝낸다.\n",
    "    \n",
    "print('end')"
   ]
  },
  {
   "cell_type": "code",
   "execution_count": 76,
   "id": "b0ce5e0b",
   "metadata": {
    "collapsed": true
   },
   "outputs": [
    {
     "name": "stdout",
     "output_type": "stream",
     "text": [
      "ㅁ나ㅣㄹ이ㅏㅁㄴㅇ라ㅣㅁㄴㅇ러\n",
      "입력한 문자열: ㅁ나ㅣㄹ이ㅏㅁㄴㅇ라ㅣㅁㄴㅇ러\n",
      "aaaaa\n",
      "입력한 문자열: aaaaa\n",
      "2309470qjdsfa;l\n",
      "입력한 문자열: 2309470qjdsfa;l\n",
      "0123jlksdfjlfds\n",
      "입력한 문자열: 0123jlksdfjlfds\n",
      "asdlkdjflkasdfj\n",
      "입력한 문자열: asdlkdjflkasdfj\n",
      "sadfkljadskladsf\n",
      "입력한 문자열: sadfkljadskladsf\n",
      "asdf\n",
      "입력한 문자열: asdf\n",
      "asdflkfdaskjldsfdsf\n",
      "입력한 문자열: asdflkfdaskjldsfdsf\n",
      "asdf\n",
      "입력한 문자열: asdf\n",
      "asdf sdafdsfa\n",
      "입력한 문자열: asdf sdafdsfa\n",
      "fdsfa\n",
      "입력한 문자열: fdsfa\n",
      "sdaf\n",
      "입력한 문자열: sdaf\n",
      "sdfa\n",
      "입력한 문자열: sdfa\n",
      "sfda\n",
      "입력한 문자열: sfda\n",
      "sdfa\n",
      "입력한 문자열: sdfa\n",
      "dsfaa\n",
      "입력한 문자열: dsfaa\n",
      "fsda\n",
      "입력한 문자열: fsda\n",
      "sdaf\n",
      "입력한 문자열: sdaf\n",
      "asdf\n",
      "입력한 문자열: asdf\n",
      "dsaf\n",
      "입력한 문자열: dsaf\n",
      "sdaf\n",
      "입력한 문자열: sdaf\n",
      "\n",
      "입력한 문자열: \n",
      "1111\n",
      "입력한 문자열: 1111\n",
      "\n",
      "입력한 문자열: \n",
      "q!\n",
      "입력한 문자열: q!\n"
     ]
    }
   ],
   "source": [
    "# 사용자로 부터 글을 입력받아서 출력. 'q!'를 입력받으면 종료\n",
    "while True:\n",
    "    s = input()\n",
    "    print('입력한 문자열:', s)\n",
    "    if s == 'q!':\n",
    "        break"
   ]
  },
  {
   "cell_type": "markdown",
   "id": "2e6c756f",
   "metadata": {},
   "source": [
    "## for in문 관련 함수\n",
    "- range()\n",
    "    - 특정값만큼 증감하는 연속된 숫자를 제공하는 iterable을 생성"
   ]
  },
  {
   "cell_type": "code",
   "execution_count": 77,
   "id": "a6f0bb0b",
   "metadata": {},
   "outputs": [
    {
     "data": {
      "text/plain": [
       "range(10, 100, 10)"
      ]
     },
     "execution_count": 77,
     "metadata": {},
     "output_type": "execute_result"
    }
   ],
   "source": [
    "# nums = [1, 2, 3, 4, 5, 6, 7, 8, ...,, 100]\n",
    "# range(시작숫자, 끝숫자, 증감치)\n",
    "range(10, 100, 10) # 10 ~ 100-1 까지 10씩 증가하는 연속된 값을 제공.\n",
    "                   # 생성된 값이 필요할 때 제공한다."
   ]
  },
  {
   "cell_type": "code",
   "execution_count": 78,
   "id": "3beb6f6d",
   "metadata": {
    "collapsed": true
   },
   "outputs": [
    {
     "name": "stdout",
     "output_type": "stream",
     "text": [
      "10\n",
      "20\n",
      "30\n",
      "40\n",
      "50\n",
      "60\n",
      "70\n",
      "80\n",
      "90\n"
     ]
    }
   ],
   "source": [
    "for i in range(10, 100, 10):\n",
    "    print(i)"
   ]
  },
  {
   "cell_type": "code",
   "execution_count": 80,
   "id": "f529d81f",
   "metadata": {},
   "outputs": [
    {
     "data": {
      "text/plain": [
       "[10, 20, 30, 40, 50, 60, 70, 80, 90]"
      ]
     },
     "execution_count": 80,
     "metadata": {},
     "output_type": "execute_result"
    }
   ],
   "source": [
    "l = list(range(10,100,10))\n",
    "l"
   ]
  },
  {
   "cell_type": "code",
   "execution_count": 82,
   "id": "b2514144",
   "metadata": {},
   "outputs": [
    {
     "data": {
      "text/plain": [
       "((10, 20, 30, 40, 50, 60, 70, 80, 90), {10, 20, 30, 40, 50, 60, 70, 80, 90})"
      ]
     },
     "execution_count": 82,
     "metadata": {},
     "output_type": "execute_result"
    }
   ],
   "source": [
    "tuple(range(10,100,10)), set(range(10,100,10))"
   ]
  },
  {
   "cell_type": "code",
   "execution_count": 84,
   "id": "c9e5c934",
   "metadata": {},
   "outputs": [
    {
     "data": {
      "text/plain": [
       "[100, 95, 90, 85, 80, 75, 70, 65, 60, 55, 50, 45, 40, 35, 30, 25, 20, 15]"
      ]
     },
     "execution_count": 84,
     "metadata": {},
     "output_type": "execute_result"
    }
   ],
   "source": [
    "# 시작값이 종료보다 크고 증감치가 음수이면 내림차순으로 제공\n",
    "list(range(100,10,-5))  #100 ~ 10-(-1) "
   ]
  },
  {
   "cell_type": "code",
   "execution_count": 85,
   "id": "c40960df",
   "metadata": {},
   "outputs": [
    {
     "data": {
      "text/plain": [
       "[1, 2, 3, 4, 5, 6, 7, 8, 9]"
      ]
     },
     "execution_count": 85,
     "metadata": {},
     "output_type": "execute_result"
    }
   ],
   "source": [
    "# 증감치를 생략 - 1\n",
    "list(range(1,10)) # 1 ~ 9 1씩증"
   ]
  },
  {
   "cell_type": "code",
   "execution_count": 86,
   "id": "6188af11",
   "metadata": {},
   "outputs": [
    {
     "data": {
      "text/plain": [
       "[0, 1, 2, 3, 4, 5, 6, 7, 8, 9]"
      ]
     },
     "execution_count": 86,
     "metadata": {},
     "output_type": "execute_result"
    }
   ],
   "source": [
    "# 시작값 생략 (증감치도 같이 생략해야함.) - 0부터 시작\n",
    "list(range(10)) # 0 ~ 9"
   ]
  },
  {
   "cell_type": "code",
   "execution_count": 87,
   "id": "e4b86353",
   "metadata": {
    "collapsed": true
   },
   "outputs": [
    {
     "data": {
      "text/plain": [
       "[0,\n",
       " 1,\n",
       " 2,\n",
       " 3,\n",
       " 4,\n",
       " 5,\n",
       " 6,\n",
       " 7,\n",
       " 8,\n",
       " 9,\n",
       " 10,\n",
       " 11,\n",
       " 12,\n",
       " 13,\n",
       " 14,\n",
       " 15,\n",
       " 16,\n",
       " 17,\n",
       " 18,\n",
       " 19,\n",
       " 20,\n",
       " 21,\n",
       " 22,\n",
       " 23,\n",
       " 24,\n",
       " 25,\n",
       " 26,\n",
       " 27,\n",
       " 28,\n",
       " 29,\n",
       " 30,\n",
       " 31,\n",
       " 32,\n",
       " 33,\n",
       " 34,\n",
       " 35]"
      ]
     },
     "execution_count": 87,
     "metadata": {},
     "output_type": "execute_result"
    }
   ],
   "source": [
    "# 종료값은 생략할 수 없다.\n",
    "list(range(36))"
   ]
  },
  {
   "cell_type": "markdown",
   "id": "eece69b6",
   "metadata": {},
   "source": [
    "# range() 전달하는 값이\n",
    "- 1개: 종료값\n",
    "- 2개: 시작값, 종료값\n",
    "- 3개: 시작값, 종료값, 증감치"
   ]
  },
  {
   "cell_type": "code",
   "execution_count": 92,
   "id": "edb78d40",
   "metadata": {},
   "outputs": [
    {
     "name": "stdout",
     "output_type": "stream",
     "text": [
      "ABC\n",
      "ABC\n",
      "ABC\n",
      "ABC\n",
      "ABC\n"
     ]
    }
   ],
   "source": [
    "# range(): 특정 구문을 N번 반복하려고 할때 for in문과 함께 사용할 수 있다.\n",
    "for _ in range(5):  # 변수를 _ 로 명명하면 이 변수는 사용하지 않겠다. \n",
    "                    # 자리만 채운다의 의미로 관례적으로 사용한다.\n",
    "    print(\"ABC\")"
   ]
  },
  {
   "cell_type": "markdown",
   "id": "c7553a72",
   "metadata": {},
   "source": [
    "- enumerate(자료구조)\n",
    "    - 튜플로 (몇번째반복인지,  값) 묶어서 반환"
   ]
  },
  {
   "cell_type": "code",
   "execution_count": 96,
   "id": "c27f11f2",
   "metadata": {},
   "outputs": [
    {
     "name": "stdout",
     "output_type": "stream",
     "text": [
      "(0, 10)\n",
      "(1, 5)\n",
      "(2, 7)\n",
      "(3, 8)\n",
      "(4, 10)\n",
      "(5, 2)\n"
     ]
    }
   ],
   "source": [
    "lst = [10, 5, 7, 8, 10, 2]\n",
    "for i in enumerate(lst):\n",
    "    print(i)"
   ]
  },
  {
   "cell_type": "code",
   "execution_count": 99,
   "id": "3e2dadd5",
   "metadata": {
    "scrolled": true
   },
   "outputs": [
    {
     "name": "stdout",
     "output_type": "stream",
     "text": [
      "(10, 10) 순번:10, 값: 10\n",
      "(11, 5) 순번:11, 값: 5\n",
      "(12, 7) 순번:12, 값: 7\n",
      "(13, 8) 순번:13, 값: 8\n",
      "(14, 10) 순번:14, 값: 10\n",
      "(15, 2) 순번:15, 값: 2\n"
     ]
    }
   ],
   "source": [
    "for i in enumerate(lst, start=10):\n",
    "    print(i, f\"순번:{i[0]}, 값: {i[1]}\")"
   ]
  },
  {
   "cell_type": "code",
   "execution_count": 100,
   "id": "1614d4da",
   "metadata": {
    "scrolled": true
   },
   "outputs": [
    {
     "name": "stdout",
     "output_type": "stream",
     "text": [
      "1. 10\n",
      "2. 5\n",
      "3. 7\n",
      "4. 8\n",
      "5. 10\n",
      "6. 2\n"
     ]
    }
   ],
   "source": [
    "#enumerate() 반환값을 tuple 대입을 이용해 받는다.\n",
    "for idx, value in enumerate(lst, start=1):\n",
    "    print(f\"{idx}. {value}\")"
   ]
  },
  {
   "cell_type": "markdown",
   "id": "1290d1c5",
   "metadata": {},
   "source": [
    "- zip(자료구조1, 자료구조2, ....): 같은 index의 값들을 묶어서 반환"
   ]
  },
  {
   "cell_type": "code",
   "execution_count": 102,
   "id": "3ecf7905",
   "metadata": {},
   "outputs": [],
   "source": [
    "# 같은 index의 값들이 같은 사람의 정보\n",
    "names = ['홍길동', '이순신', '강감찬']\n",
    "ages = [30, 40, 50]\n",
    "address = ['서울', '인천', '수원']"
   ]
  },
  {
   "cell_type": "code",
   "execution_count": 103,
   "id": "170f4c0a",
   "metadata": {},
   "outputs": [
    {
     "name": "stdout",
     "output_type": "stream",
     "text": [
      "홍길동 30 서울\n",
      "이순신 40 인천\n",
      "강감찬 50 수원\n"
     ]
    }
   ],
   "source": [
    "for i in range(3):\n",
    "    print(names[i], ages[i], address[i])"
   ]
  },
  {
   "cell_type": "code",
   "execution_count": 105,
   "id": "fc6431df",
   "metadata": {},
   "outputs": [
    {
     "name": "stdout",
     "output_type": "stream",
     "text": [
      "('홍길동', 30, '서울') 홍길동 30 서울\n",
      "('이순신', 40, '인천') 이순신 40 인천\n",
      "('강감찬', 50, '수원') 강감찬 50 수원\n"
     ]
    }
   ],
   "source": [
    "for v in  zip(names, ages, address):\n",
    "    print(v, v[0], v[1], v[2])\n",
    "    "
   ]
  },
  {
   "cell_type": "code",
   "execution_count": 106,
   "id": "9865cea8",
   "metadata": {},
   "outputs": [
    {
     "name": "stdout",
     "output_type": "stream",
     "text": [
      "홍길동 30 서울\n",
      "이순신 40 인천\n",
      "강감찬 50 수원\n"
     ]
    }
   ],
   "source": [
    "for name, age, addr in zip(names, ages, address): #튜플대입\n",
    "    print(name, age, addr)"
   ]
  },
  {
   "cell_type": "code",
   "execution_count": 107,
   "id": "3915aec5",
   "metadata": {},
   "outputs": [
    {
     "name": "stdout",
     "output_type": "stream",
     "text": [
      "홍길동 30 서울 h@a.com\n",
      "이순신 40 인천 l@a.com\n",
      "강감찬 50 수원 k@b.com\n"
     ]
    }
   ],
   "source": [
    "emails = ['h@a.com', 'l@a.com', 'k@b.com', 'abc@a.com']\n",
    "# 자료구조들의 원소 개수가 다를 경우에는 적은 것에 맞춘다.\n",
    "for name, age, addr, email in zip(names, ages, address, emails):\n",
    "    print(name, age, addr, email)"
   ]
  },
  {
   "cell_type": "markdown",
   "id": "91ec54fa",
   "metadata": {},
   "source": [
    "# 컴프리헨션 "
   ]
  },
  {
   "cell_type": "code",
   "execution_count": 115,
   "id": "1b108a36",
   "metadata": {},
   "outputs": [
    {
     "data": {
      "text/plain": [
       "[5, 10, 10, 10, 15, 20, 25]"
      ]
     },
     "execution_count": 115,
     "metadata": {},
     "output_type": "execute_result"
    }
   ],
   "source": [
    "l1 = [1, 2, 2, 2, 3, 4, 5]\n",
    "# l1의 원소들을 5배한 값들로 구성된 리스트를 생성\n",
    "new_list = []\n",
    "for i in l1:\n",
    "    new_list.append(i*5)\n",
    "    \n",
    "new_list"
   ]
  },
  {
   "cell_type": "code",
   "execution_count": 116,
   "id": "bc89abc4",
   "metadata": {},
   "outputs": [
    {
     "data": {
      "text/plain": [
       "[5, 10, 10, 10, 15, 20, 25]"
      ]
     },
     "execution_count": 116,
     "metadata": {},
     "output_type": "execute_result"
    }
   ],
   "source": [
    "new_list2 = [i*5 for i in l1]  #리스트 컴프리헨션\n",
    "new_list2"
   ]
  },
  {
   "cell_type": "code",
   "execution_count": 117,
   "id": "6b65930f",
   "metadata": {},
   "outputs": [
    {
     "data": {
      "text/plain": [
       "{5, 10, 15, 20, 25}"
      ]
     },
     "execution_count": 117,
     "metadata": {},
     "output_type": "execute_result"
    }
   ],
   "source": [
    "new_set = {i*5 for i in l1}  # set comprehension\n",
    "new_set"
   ]
  },
  {
   "cell_type": "code",
   "execution_count": 123,
   "id": "0e3e58a7",
   "metadata": {},
   "outputs": [
    {
     "data": {
      "text/plain": [
       "{100: 5, 101: 10, 102: 10, 103: 10, 104: 15, 105: 20, 106: 25}"
      ]
     },
     "execution_count": 123,
     "metadata": {},
     "output_type": "execute_result"
    }
   ],
   "source": [
    "# dictionary comprehension\n",
    "new_dict = {key:value*5 for key, value in enumerate(l1, start=100)}\n",
    "new_dict"
   ]
  },
  {
   "cell_type": "code",
   "execution_count": 139,
   "id": "d57c72dd",
   "metadata": {},
   "outputs": [
    {
     "data": {
      "text/plain": [
       "{'key1': 1, 'key2': 2, 'key3': 3, 'key4': 4, 'key5': 5}"
      ]
     },
     "execution_count": 139,
     "metadata": {},
     "output_type": "execute_result"
    }
   ],
   "source": [
    "new_dict = {'key'+str(value):value   for value in l1}\n",
    "new_dict"
   ]
  },
  {
   "cell_type": "code",
   "execution_count": 138,
   "id": "e432701a",
   "metadata": {},
   "outputs": [
    {
     "name": "stdout",
     "output_type": "stream",
     "text": [
      "1\n",
      "2\n",
      "2\n",
      "2\n",
      "3\n",
      "4\n",
      "5\n"
     ]
    }
   ],
   "source": [
    "for value in l1:\n",
    "    print(value)"
   ]
  },
  {
   "cell_type": "code",
   "execution_count": 144,
   "id": "a20fda58",
   "metadata": {},
   "outputs": [
    {
     "data": {
      "text/plain": [
       "(['A', 'B', 'C', 'ABC'], ['a', 'b', 'c', 'abc'])"
      ]
     },
     "execution_count": 144,
     "metadata": {},
     "output_type": "execute_result"
    }
   ],
   "source": [
    "s = ['a','b','c','abc']  #s의 값을 대문자로 변환한 값들을 원소로 가지는 리스트, Set\n",
    "\n",
    "s2 = []\n",
    "for v in s:\n",
    "    s2.append(v.upper())\n",
    "s2, s"
   ]
  },
  {
   "cell_type": "code",
   "execution_count": 145,
   "id": "be8e54cf",
   "metadata": {},
   "outputs": [
    {
     "data": {
      "text/plain": [
       "['A', 'B', 'C', 'ABC']"
      ]
     },
     "execution_count": 145,
     "metadata": {},
     "output_type": "execute_result"
    }
   ],
   "source": [
    "s3 = [v.upper() for v in s]\n",
    "s3"
   ]
  },
  {
   "cell_type": "code",
   "execution_count": 146,
   "id": "9450e32f",
   "metadata": {},
   "outputs": [
    {
     "data": {
      "text/plain": [
       "{'A', 'ABC', 'B', 'C'}"
      ]
     },
     "execution_count": 146,
     "metadata": {},
     "output_type": "execute_result"
    }
   ],
   "source": [
    "s4 = {v.upper() for v in s}\n",
    "s4"
   ]
  },
  {
   "cell_type": "code",
   "execution_count": 148,
   "id": "41a98121",
   "metadata": {},
   "outputs": [
    {
     "data": {
      "text/plain": [
       "{'a': 'A', 'b': 'B', 'c': 'C', 'abc': 'ABC'}"
      ]
     },
     "execution_count": 148,
     "metadata": {},
     "output_type": "execute_result"
    }
   ],
   "source": [
    "s5 = {v:v.upper() for v in s}\n",
    "s5"
   ]
  },
  {
   "cell_type": "code",
   "execution_count": 153,
   "id": "0ca0cf50",
   "metadata": {},
   "outputs": [
    {
     "data": {
      "text/plain": [
       "['A', 'B', 'C', 'R']"
      ]
     },
     "execution_count": 153,
     "metadata": {},
     "output_type": "execute_result"
    }
   ],
   "source": [
    "s = ['a','b','c','abc', 'def', 'ak', 'r'] \n",
    "# s의 원소중 글자수가 1글자인 원소만 소문자를 대문자로 바꾼 값들을 가지는 배열\n",
    "s2 = []\n",
    "for v in s:\n",
    "    if len(v)==1: # 글자수가 1이면\n",
    "        s2.append(v.upper())\n",
    "\n",
    "s2"
   ]
  },
  {
   "cell_type": "code",
   "execution_count": 160,
   "id": "45508cfa",
   "metadata": {},
   "outputs": [
    {
     "data": {
      "text/plain": [
       "['a', 'b', 'c', 'r']"
      ]
     },
     "execution_count": 160,
     "metadata": {},
     "output_type": "execute_result"
    }
   ],
   "source": [
    "s3=[v for v in s if len(v)==1] #filtering\n",
    "s3"
   ]
  },
  {
   "cell_type": "code",
   "execution_count": 159,
   "id": "4237ec2e",
   "metadata": {},
   "outputs": [
    {
     "data": {
      "text/plain": [
       "{'A', 'B', 'C', 'R'}"
      ]
     },
     "execution_count": 159,
     "metadata": {},
     "output_type": "execute_result"
    }
   ],
   "source": [
    "s4={v.upper() for v in s if len(v)==1} #filter + mapping\n",
    "s4"
   ]
  },
  {
   "cell_type": "code",
   "execution_count": 164,
   "id": "65f964dd",
   "metadata": {},
   "outputs": [
    {
     "data": {
      "text/plain": [
       "['a', 'b', 'c', 'r']"
      ]
     },
     "execution_count": 164,
     "metadata": {},
     "output_type": "execute_result"
    }
   ],
   "source": [
    "list(filter(lambda x: len(x)==1, s))"
   ]
  },
  {
   "cell_type": "code",
   "execution_count": 168,
   "id": "b1346c7b",
   "metadata": {},
   "outputs": [
    {
     "data": {
      "text/plain": [
       "['A', 'B', 'C', 'ABC', 'DEF', 'AK', 'R']"
      ]
     },
     "execution_count": 168,
     "metadata": {},
     "output_type": "execute_result"
    }
   ],
   "source": [
    "list(map(lambda x: x.upper(), s))\n",
    "    "
   ]
  },
  {
   "cell_type": "markdown",
   "id": "b4efbcb8",
   "metadata": {},
   "source": [
    "# TODO"
   ]
  },
  {
   "cell_type": "code",
   "execution_count": 176,
   "id": "dcbc34a8",
   "metadata": {},
   "outputs": [
    {
     "name": "stdout",
     "output_type": "stream",
     "text": [
      "1000는 잘못된 점수입니다.\n"
     ]
    }
   ],
   "source": [
    "#(1) 다음 점수 구간에 맞게 학점을 출력하세요.\n",
    "# 91 ~ 100 : A학점\n",
    "# 81 ~ 90 :  B학점\n",
    "# 71 ~ 80 :  C학점\n",
    "# 61 ~ 70 :  D학점\n",
    "# 60이하   :  F학점\n",
    "jumsu = 1000\n",
    "\n",
    "if jumsu > 90 and jumsu <= 100:\n",
    "    print('A학점')\n",
    "elif jumsu > 80 and jumsu <= 90:\n",
    "    print('B학점')\n",
    "elif jumsu > 70 and jumsu <= 80:\n",
    "    print('C학점')\n",
    "elif jumsu > 60 and jumsu <= 70:\n",
    "    print('D학점')\n",
    "elif jumsu <= 60:\n",
    "    print('F학점')\n",
    "else:\n",
    "    print(f\"{jumsu}는 잘못된 점수입니다.\")"
   ]
  },
  {
   "cell_type": "code",
   "execution_count": 179,
   "id": "77a017b7",
   "metadata": {},
   "outputs": [
    {
     "name": "stdout",
     "output_type": "stream",
     "text": [
      "ID:abcdef\n",
      "abcdef는 사용할 수 있습니다.\n"
     ]
    }
   ],
   "source": [
    "#(2) 사용자로 부터 ID를 입력 받은 뒤 입력받은 ID가 5글자 이상이면 \"사용할 수 있습니다.\"를 \n",
    "#     5글자 미만이면 \"사용할 수 없는 ID입니다.\"를 출력하세요.\n",
    "id = input('ID:')\n",
    "if len(id) >= 5:\n",
    "    print(f'{id}는 사용할 수 있습니다.')\n",
    "else:\n",
    "    print(f'{id}는 사용할 수 없는 ID입니다.')"
   ]
  },
  {
   "cell_type": "code",
   "execution_count": 185,
   "id": "21ef7c2e",
   "metadata": {},
   "outputs": [
    {
     "name": "stdout",
     "output_type": "stream",
     "text": [
      "도시명:광주\n",
      "광주는 광역시입니다.\n"
     ]
    }
   ],
   "source": [
    "#(3) 사용자로부터 우리나라 도시명을 입력 받은 뒤 입력받은 도시명이 서울이면 \"특별시\"를 \n",
    "# 인천,부산,광주,대구,대전,울산 이면 \"광역시\"를 나머지는 \"특별시나 광역시가 아닙니다.\"를 출력하세요.\n",
    "city = input('도시명:')\n",
    "label = None\n",
    "if city == '서울':\n",
    "    label = '특별시'\n",
    "# elif city=='인천' or city=='부산' or city=='대구':\n",
    "elif city in ['인천', '부산', '광주', '대구', '대전', '울산']:\n",
    "    label = '광역시'\n",
    "else:\n",
    "    label = \"일반도시\"\n",
    "\n",
    "print(f'{city}는 {label}입니다.')    "
   ]
  },
  {
   "cell_type": "code",
   "execution_count": 194,
   "id": "4c4c9fa5",
   "metadata": {},
   "outputs": [
    {
     "name": "stdout",
     "output_type": "stream",
     "text": [
      "60\n"
     ]
    }
   ],
   "source": [
    "i = 10\n",
    "# i = i + 50\n",
    "i += 50   # = 대입연산자.  \n",
    "#`변수 연산자= 값`  복합대입연산자: 특정변수를 연산한 값을 그 변수에 다시 대입할 경우 사용\n",
    "print(i)"
   ]
  },
  {
   "cell_type": "code",
   "execution_count": 198,
   "id": "a19e6952",
   "metadata": {},
   "outputs": [
    {
     "name": "stdout",
     "output_type": "stream",
     "text": [
      "합계: 0.0\n",
      "평균: 0.0\n"
     ]
    }
   ],
   "source": [
    "#(4) 아래 리스트의 평균을 구하시오. \n",
    "jumsu = [100, 90, 100, 80, 70, 100, 80, 90, 95, 85]\n",
    "jumsu_sum = 0 #점수의 합계를 저장할 변수\n",
    "for i in jumsu:\n",
    "#     jumsu_sum = jumsu_sum + i\n",
    "    jumsu_sum += i\n",
    "    \n",
    "jumsu_mean = jumsu_sum/len(jumsu)\n",
    "print('합계:', jumsu_sum)   \n",
    "print('평균:', jumsu_mean)"
   ]
  },
  {
   "cell_type": "code",
   "execution_count": 202,
   "id": "34129adc",
   "metadata": {},
   "outputs": [
    {
     "name": "stdout",
     "output_type": "stream",
     "text": [
      "890 89.0\n"
     ]
    }
   ],
   "source": [
    "s=sum(jumsu)  #sum(iterable) iterable의 원소들의 합계를 반환\n",
    "m=s/len(jumsu)\n",
    "print(s, m)"
   ]
  },
  {
   "cell_type": "code",
   "execution_count": 192,
   "id": "5afeacdf",
   "metadata": {},
   "outputs": [
    {
     "name": "stdout",
     "output_type": "stream",
     "text": [
      "0. 점수:100 - pass\n",
      "1. 점수:90 - pass\n",
      "2. 점수:100 - pass\n",
      "3. 점수:80 - fail\n",
      "4. 점수:70 - fail\n",
      "5. 점수:100 - pass\n",
      "6. 점수:80 - fail\n",
      "7. 점수:90 - pass\n",
      "8. 점수:95 - pass\n",
      "9. 점수:85 - fail\n"
     ]
    }
   ],
   "source": [
    "#(5) 위 jumsu리스트에서 평균점수이상은 pass, 미만은 fail을 index번호와 함께 출력하시오. (ex: 0-pass, 1-pass, 2-fail)\n",
    "for idx, i in enumerate(jumsu):\n",
    "    if i >= jumsu_mean:\n",
    "        print(f'{idx}. 점수:{i} - pass')\n",
    "    else:\n",
    "        print(f'{idx}. 점수:{i} - fail')"
   ]
  },
  {
   "cell_type": "code",
   "execution_count": 204,
   "id": "7986b178",
   "metadata": {},
   "outputs": [
    {
     "name": "stdout",
     "output_type": "stream",
     "text": [
      "최대값: 100\n"
     ]
    }
   ],
   "source": [
    "#(6) 아래 리스트 값들 중 최대값을 조회해 출력\n",
    "jumsu = [60, 90, 80, 80, 70, 55, 100, 80, 90, 95, 85]\n",
    "max_value = 0 #최대값을 저장할 변수\n",
    "# 리스트의 원소와 max_value를 비교해서 원소가 더 크면 max_value값을 변경\n",
    "for value in jumsu:\n",
    "    if value > max_value:\n",
    "        max_value = value\n",
    "        \n",
    "print(\"최대값:\", max_value)"
   ]
  },
  {
   "cell_type": "code",
   "execution_count": 206,
   "id": "28e2b7c8",
   "metadata": {},
   "outputs": [
    {
     "data": {
      "text/plain": [
       "(100, 55)"
      ]
     },
     "execution_count": 206,
     "metadata": {},
     "output_type": "execute_result"
    }
   ],
   "source": [
    "max(jumsu), min(jumsu)  #iterable의 최대값과 최소값을 반환하는 함수."
   ]
  },
  {
   "cell_type": "code",
   "execution_count": 208,
   "id": "cbd075e8",
   "metadata": {},
   "outputs": [
    {
     "name": "stdout",
     "output_type": "stream",
     "text": [
      "소\n",
      "호랑이\n",
      "용\n",
      "뱀\n"
     ]
    }
   ],
   "source": [
    "#(8) 다음 리스트 중에서 \"쥐\"와 \"토끼\" 제외한 나머지를 출력하세요.\n",
    "str_list = [\"쥐\", \"소\", \"호랑이\", \"토끼\", \"용\", \"뱀\"]\n",
    "for a in str_list:\n",
    "    if a not in ['쥐', '토끼']:\n",
    "        print(a)"
   ]
  },
  {
   "cell_type": "code",
   "execution_count": 210,
   "id": "57e15040",
   "metadata": {},
   "outputs": [
    {
     "name": "stdout",
     "output_type": "stream",
     "text": [
      "소\n",
      "호랑이\n",
      "용\n",
      "뱀\n"
     ]
    }
   ],
   "source": [
    "for a in str_list:\n",
    "    if a in ['쥐', '토끼']:\n",
    "        continue\n",
    "    print(a)"
   ]
  },
  {
   "cell_type": "code",
   "execution_count": 216,
   "id": "2c3ce2c3",
   "metadata": {},
   "outputs": [
    {
     "name": "stdout",
     "output_type": "stream",
     "text": [
      "단을 입력하시요: 2\n",
      "2 X 1 = 2\n",
      "2 X 2 = 4\n",
      "2 X 3 = 6\n",
      "2 X 4 = 8\n",
      "2 X 5 = 10\n",
      "2 X 6 = 12\n",
      "2 X 7 = 14\n",
      "2 X 8 = 16\n",
      "2 X 9 = 18\n"
     ]
    }
   ],
   "source": [
    "#(9) 사용자로부터 정수를 입력받아 그 단의 구구단을 출력하시오. \n",
    "# ex) 단을 입력하시오 : 2  \n",
    "# 2 x 1 = 2\n",
    "# 2 x 2 = 4\n",
    "#..\n",
    "# 2 x 9 = 18\n",
    "\n",
    "dan = int(input(\"단을 입력하시요: \"))\n",
    "for i in range(1, 10):\n",
    "    print(f\"{dan} X {i} = {dan*i}\")"
   ]
  },
  {
   "cell_type": "code",
   "execution_count": 218,
   "id": "37d694ec",
   "metadata": {},
   "outputs": [
    {
     "data": {
      "text/plain": [
       "[20, 60, 140, 10, 240, 1400, 2, 70]"
      ]
     },
     "execution_count": 218,
     "metadata": {},
     "output_type": "execute_result"
    }
   ],
   "source": [
    "#컴프리헨션\n",
    "\n",
    "#(10) 다음 리스트가 가진 값에 두배(* 2)를 가지는 새로운 리스트를 만드시오. (리스트 컴프리헨션 이용)\n",
    "lst = [10, 30, 70, 5, 120, 700, 1, 35]\n",
    "\n",
    "[i*2 for i in lst]"
   ]
  },
  {
   "cell_type": "code",
   "execution_count": 222,
   "id": "41ab4a91",
   "metadata": {},
   "outputs": [
    {
     "data": {
      "text/plain": [
       "[(10, 100),\n",
       " (30, 300),\n",
       " (70, 700),\n",
       " (5, 50),\n",
       " (5, 50),\n",
       " (120, 1200),\n",
       " (700, 7000),\n",
       " (1, 10),\n",
       " (35, 350),\n",
       " (35, 350)]"
      ]
     },
     "execution_count": 222,
     "metadata": {},
     "output_type": "execute_result"
    }
   ],
   "source": [
    "#(11) 다음 리스트가 가진 값에 10배의 값을 가지는 값을 (원래값, 10배값) 의 튜플 묶음으로 가지는 리스트를 만드시오 (리스트 컴프리헨션 이용)\n",
    "# Ex) [(10,100), (30,300), .., (35, 350)]\n",
    "lst = [10, 30, 70, 5, 5, 120, 700, 1, 35, 35]\n",
    "[(i, i*10) for i in lst]"
   ]
  },
  {
   "cell_type": "code",
   "execution_count": 224,
   "id": "3eaf7caf",
   "metadata": {},
   "outputs": [
    {
     "data": {
      "text/plain": [
       "[3, 33, 21, 33, 60, 120]"
      ]
     },
     "execution_count": 224,
     "metadata": {},
     "output_type": "execute_result"
    }
   ],
   "source": [
    "#(12) 다음 리스트가 가진 값들 중 3의 배수만 가지는 리스트를 만드시오. (리스트 컴프리헨션 이용)\n",
    "lst2 = [ 3, 20, 33, 21, 33, 8, 11, 10, 7, 17, 60, 120, 2]\n",
    "[i for i in lst2 if i % 3 == 0]"
   ]
  },
  {
   "cell_type": "code",
   "execution_count": 227,
   "id": "86b804b0",
   "metadata": {},
   "outputs": [
    {
     "data": {
      "text/plain": [
       "['a.exe', 'function.exe', 'b.exe', 'run.exe']"
      ]
     },
     "execution_count": 227,
     "metadata": {},
     "output_type": "execute_result"
    }
   ],
   "source": [
    "#(13) 다음 파일이름들을 담은 리스트에서 확장자가 exe인 파일만 골라서 새로운 리스트에 담으시오.(string의 endswith()함수 이용)\n",
    "file_name=[\"test.txt\", \"a.exe\", \"jupyter.bat\", \"function.exe\", \"b.exe\", \"cat.jpg\", \"dog.png\", \"run.exe\", \"i.dll\"]\n",
    "\n",
    "[file  for file in file_name if file.endswith('.exe')]"
   ]
  },
  {
   "cell_type": "code",
   "execution_count": 230,
   "id": "a17acbc8",
   "metadata": {},
   "outputs": [
    {
     "data": {
      "text/plain": [
       "[('mystroy.txt', 11), ('jupyter.bat', 11), ('function.exe', 12)]"
      ]
     },
     "execution_count": 230,
     "metadata": {},
     "output_type": "execute_result"
    }
   ],
   "source": [
    "#(14) 다음 중 10글자 이상인 파일명(확장자포함)만 가지는 리스트를 만드시오.\n",
    "file_name=[\"mystroy.txt\", \"a.exe\", \"jupyter.bat\", \"function.exe\", \"b.exe\", \"cat.jpg\", \"dog.png\", \"run.exe\", \"i.dll\"]\n",
    "\n",
    "# [file for file in file_name if len(file) >= 10 ]\n",
    "[(file, len(file)) for file in file_name if len(file) >= 10 ]\n"
   ]
  },
  {
   "cell_type": "code",
   "execution_count": 233,
   "id": "67ae5251",
   "metadata": {
    "scrolled": true
   },
   "outputs": [
    {
     "data": {
      "text/plain": [
       "['A', 'B', 'C', 'D', 'E', 'F', 'G', 'H', 'I', 'J', 'K']"
      ]
     },
     "execution_count": 233,
     "metadata": {},
     "output_type": "execute_result"
    }
   ],
   "source": [
    "#(15) 다음 리스트에서 소문자만 가지는 새로운 리스트를 만드시오.\n",
    "str_list = [\"A\", \"B\", \"c\", \"D\", \"E\", \"F\", \"g\", \"h\", \"I\", \"J\", \"k\"]\n",
    "# 대소문자로 변경\n",
    "[s.lower() for s in str_list]\n",
    "[s.upper() for s in str_list]"
   ]
  },
  {
   "cell_type": "code",
   "execution_count": 239,
   "id": "2ef3be58",
   "metadata": {},
   "outputs": [
    {
     "data": {
      "text/plain": [
       "['A', 'B', 'D', 'E', 'F', 'I', 'J']"
      ]
     },
     "execution_count": 239,
     "metadata": {},
     "output_type": "execute_result"
    }
   ],
   "source": [
    "[s for s in str_list if s.islower()]\n",
    "[s for s in str_list if s.isupper()]"
   ]
  },
  {
   "cell_type": "code",
   "execution_count": 236,
   "id": "efa14a88",
   "metadata": {},
   "outputs": [
    {
     "data": {
      "text/plain": [
       "(False, True)"
      ]
     },
     "execution_count": 236,
     "metadata": {},
     "output_type": "execute_result"
    }
   ],
   "source": [
    "\"A\".islower(), 'a'.islower()"
   ]
  },
  {
   "cell_type": "code",
   "execution_count": 237,
   "id": "293967b6",
   "metadata": {},
   "outputs": [
    {
     "data": {
      "text/plain": [
       "(True, False)"
      ]
     },
     "execution_count": 237,
     "metadata": {},
     "output_type": "execute_result"
    }
   ],
   "source": [
    "'A'.isupper(), 'a'.isupper()"
   ]
  },
  {
   "cell_type": "code",
   "execution_count": null,
   "id": "9728d488",
   "metadata": {},
   "outputs": [],
   "source": []
  },
  {
   "cell_type": "code",
   "execution_count": null,
   "id": "ac50b1ff",
   "metadata": {},
   "outputs": [],
   "source": []
  }
 ],
 "metadata": {
  "kernelspec": {
   "display_name": "Python 3 (ipykernel)",
   "language": "python",
   "name": "python3"
  },
  "language_info": {
   "codemirror_mode": {
    "name": "ipython",
    "version": 3
   },
   "file_extension": ".py",
   "mimetype": "text/x-python",
   "name": "python",
   "nbconvert_exporter": "python",
   "pygments_lexer": "ipython3",
   "version": "3.9.7"
  }
 },
 "nbformat": 4,
 "nbformat_minor": 5
}
