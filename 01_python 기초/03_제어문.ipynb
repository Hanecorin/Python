{
 "cells": [
  {
   "cell_type": "markdown",
   "id": "a26afcb3",
   "metadata": {},
   "source": [
    "# 제어문"
   ]
  },
  {
   "cell_type": "code",
   "execution_count": 1,
   "id": "1016a298",
   "metadata": {},
   "outputs": [
    {
     "name": "stdout",
     "output_type": "stream",
     "text": [
      "정수:0\n",
      "영입니다\n",
      "zero\n",
      "종료\n"
     ]
    }
   ],
   "source": [
    "num = int(input(\"정수:\"))\n",
    "# 입력값이 0이면 \"영입니다.\" 라고 출력한다.\n",
    "# 단순if문 -> 특정 구문들을 실행할지 말지\n",
    "if num == 0:\n",
    "    print(\"영입니다\")\n",
    "    print(\"zero\")\n",
    "print(\"종료\")"
   ]
  },
  {
   "cell_type": "code",
   "execution_count": 2,
   "id": "26281d6a",
   "metadata": {},
   "outputs": [
    {
     "name": "stdout",
     "output_type": "stream",
     "text": [
      "정수:0\n",
      "0입니다.\n",
      "종료합니다\n"
     ]
    }
   ],
   "source": [
    "#입력받은 값이 0 이면 '0입니다.' 출력하고 0이 아니면 '0이 아닙니다.' 출력한다.\n",
    "#if else 문: 조건이 True일 때 할일과 False 할일 두가지로 분기하는 경우.\n",
    "num = int(input('정수:'))\n",
    "\n",
    "if num==0:\n",
    "    print(\"0입니다.\")\n",
    "else:\n",
    "    print('0이 아닙니다.')\n",
    "    print(f\"입력한 숫자는 {num}입니다.\")\n",
    "          \n",
    "print('종료합니다')"
   ]
  },
  {
   "cell_type": "code",
   "execution_count": 5,
   "id": "fb42d4ec",
   "metadata": {},
   "outputs": [
    {
     "name": "stdout",
     "output_type": "stream",
     "text": [
      "정수:0\n",
      "0입니다.\n",
      "종료합니다.\n"
     ]
    }
   ],
   "source": [
    "#입력받은 값이 0이면 '0입니다.'를 출력하고\n",
    "#          양수이면 '양수입니다.'를 출력\n",
    "#          음수이면 '음수입니다.'를 출력 한다.\n",
    "# if elif 문: 조건이 여러개일 경우 사용\n",
    "\n",
    "num = int(input('정수:'))\n",
    "\n",
    "if num == 0:\n",
    "    print('0입니다.')\n",
    "elif num > 0:\n",
    "    print('양수입니다.')\n",
    "    print(f'입력한 숫자는 {num}입니다.')\n",
    "elif num < 0:\n",
    "    print('음수입니다.')\n",
    "    print(f'입력한 숫자는 {num}입니다.')\n",
    "print('종료합니다.')\n",
    "#elif num < 0:\n",
    "else: #위조건이 모두  False 이면 (나머지 조건들) else 문을 실행"
   ]
  },
  {
   "cell_type": "code",
   "execution_count": 9,
   "id": "41eb1e20",
   "metadata": {},
   "outputs": [
    {
     "name": "stdout",
     "output_type": "stream",
     "text": [
      "정수:99\n",
      "양수입니다\n",
      "100보다 작습니다.\n"
     ]
    }
   ],
   "source": [
    "# num이 0이상이면 \"양수입니다.\" 를 출력하고 100 이상이면\"100보다 큽니다.\" 를 출력\n",
    "\n",
    "num = int(input('정수:'))\n",
    "\n",
    "if num > 0:\n",
    "    print('양수입니다')\n",
    "    if num >= 100:\n",
    "        print('100이상')\n",
    "    else:\n",
    "        print('100보다 작습니다.')\n"
   ]
  },
  {
   "cell_type": "markdown",
   "id": "dbc7b3ed",
   "metadata": {},
   "source": [
    "# 반복문\n",
    "\n",
    "## while문\n",
    "- 조건이 True인 동안 구문을 반복"
   ]
  },
  {
   "cell_type": "code",
   "execution_count": 12,
   "id": "c060bf15",
   "metadata": {},
   "outputs": [
    {
     "name": "stdout",
     "output_type": "stream",
     "text": [
      "반복횟수:5\n",
      "1.안녕하세요\n",
      "====================\n",
      "2.안녕하세요\n",
      "====================\n",
      "3.안녕하세요\n",
      "====================\n",
      "4.안녕하세요\n",
      "====================\n",
      "5.안녕하세요\n",
      "====================\n"
     ]
    }
   ],
   "source": [
    "limit = int(input('반복횟수:')) #반복할 횟수\n",
    "count = 0 #현재 몇번째 반복인지를 저장할 변수\n",
    "\n",
    "while count < limit: #현재 반복횟수가 limit보다 적을때 까지 반복\n",
    "    count = count+1\n",
    "    print(f'{count}.안녕하세요')\n",
    "    print('='*20)"
   ]
  },
  {
   "cell_type": "markdown",
   "id": "514610a6",
   "metadata": {},
   "source": [
    "## for in 문\n",
    "- iterable(자료구조들, 문자열 등)이 가지고 있는 값들을 순환조회할 때 사용"
   ]
  },
  {
   "cell_type": "code",
   "execution_count": 13,
   "id": "3ea63479",
   "metadata": {},
   "outputs": [],
   "source": [
    "lst = [10,5,7,9,100,50,27,123,22,90]"
   ]
  },
  {
   "cell_type": "code",
   "execution_count": 15,
   "id": "79b61021",
   "metadata": {},
   "outputs": [
    {
     "name": "stdout",
     "output_type": "stream",
     "text": [
      "10\n",
      "----------\n",
      "5\n",
      "----------\n",
      "7\n",
      "----------\n",
      "9\n",
      "----------\n",
      "100\n",
      "----------\n",
      "50\n",
      "----------\n",
      "27\n",
      "----------\n",
      "123\n",
      "----------\n",
      "22\n",
      "----------\n",
      "90\n",
      "----------\n"
     ]
    }
   ],
   "source": [
    "# for 변수 in iteratble:\n",
    "#     반복구문\n",
    "for num in lst:\n",
    "    print(num) # for in 문의 반복구문은 iterable의 원소 하나씩 처리하는 코드\n",
    "    print(\"-\"*10)"
   ]
  },
  {
   "cell_type": "code",
   "execution_count": 16,
   "id": "da485f2f",
   "metadata": {},
   "outputs": [
    {
     "name": "stdout",
     "output_type": "stream",
     "text": [
      "10,20,30,40,종료\n"
     ]
    }
   ],
   "source": [
    "for v in (10,20,30,40):\n",
    "#     print(v)\n",
    "     print(v, end=\",\")\n",
    "print('종료')"
   ]
  },
  {
   "cell_type": "code",
   "execution_count": 17,
   "id": "43655188",
   "metadata": {},
   "outputs": [
    {
     "name": "stdout",
     "output_type": "stream",
     "text": [
      "1,2,3,4,종료\n"
     ]
    }
   ],
   "source": [
    "for v in {1, 2, 2, 2, 3, 4, 1, 2, 3, 4}: #{1,2,3,4}\n",
    "    print(v, end=\",\")\n",
    "print(\"종료\")"
   ]
  },
  {
   "cell_type": "code",
   "execution_count": 18,
   "id": "2ef29acf",
   "metadata": {},
   "outputs": [
    {
     "name": "stdout",
     "output_type": "stream",
     "text": [
      "name\n",
      "age\n",
      "address\n"
     ]
    }
   ],
   "source": [
    "for v in dict(name='홍길동', age=20, address= '서울'): #dictionary -> key가 조회된다.\n",
    "    print(v)"
   ]
  },
  {
   "cell_type": "code",
   "execution_count": 19,
   "id": "e140e626",
   "metadata": {},
   "outputs": [
    {
     "name": "stdout",
     "output_type": "stream",
     "text": [
      "안\n",
      "녕\n",
      "하\n",
      "세\n",
      "요\n",
      ".\n",
      "a\n",
      "b\n",
      "c\n",
      "d\n",
      "e\n",
      "~\n"
     ]
    }
   ],
   "source": [
    "for v in \"안녕하세요.abcde~\":\n",
    "    print(v)"
   ]
  },
  {
   "cell_type": "markdown",
   "id": "e0b7b886",
   "metadata": {},
   "source": [
    "## continue, break\n",
    "- continue: 다음 반복을 실행해라.\n",
    "- break: 반복을 멈춰라."
   ]
  },
  {
   "cell_type": "code",
   "execution_count": 22,
   "id": "6466fdba",
   "metadata": {},
   "outputs": [
    {
     "name": "stdout",
     "output_type": "stream",
     "text": [
      "10\n",
      "100\n",
      "50\n",
      "22\n",
      "90\n"
     ]
    }
   ],
   "source": [
    "lst #lst 값들 중에 2의 배수만 출력\n",
    "for v in lst:\n",
    "    if v %2 == 0:\n",
    "        print(v)"
   ]
  },
  {
   "cell_type": "code",
   "execution_count": 29,
   "id": "ec84025a",
   "metadata": {},
   "outputs": [
    {
     "name": "stdout",
     "output_type": "stream",
     "text": [
      "10\n",
      "100\n",
      "50\n",
      "22\n",
      "90\n"
     ]
    }
   ],
   "source": [
    "for v in lst:\n",
    "    if v % 2 != 0: #2의 배수가 아니면\n",
    "        continue # 나머지 반복구문 실행하지 말고 다음 반복 실행해라.\n",
    "    print(v)"
   ]
  },
  {
   "cell_type": "code",
   "execution_count": 32,
   "id": "44bbc1af",
   "metadata": {},
   "outputs": [
    {
     "name": "stdout",
     "output_type": "stream",
     "text": [
      "10\n",
      "5\n",
      "7\n",
      "9\n",
      "100\n",
      "end\n"
     ]
    }
   ],
   "source": [
    "for v in lst:\n",
    "    print(v)\n",
    "    if v >=100: #break할 조건\n",
    "        break #더이상 반복하지 않고 반복문을 끝낸다.\n",
    "print('end')"
   ]
  },
  {
   "cell_type": "code",
   "execution_count": 37,
   "id": "bf9c881c",
   "metadata": {},
   "outputs": [
    {
     "name": "stdout",
     "output_type": "stream",
     "text": [
      "1\n",
      "입력한 문자열: 1\n",
      "2\n",
      "입력한 문자열: 2\n",
      "3\n",
      "입력한 문자열: 3\n",
      "4\n",
      "입력한 문자열: 4\n",
      "q!\n",
      "입력한 문자열: q!\n",
      "종료합니다.\n"
     ]
    }
   ],
   "source": [
    "#사용자로 부터 글을 입력받아서 출력. 'q!' 를 입력받으면 종료\n",
    "\n",
    "while True:\n",
    "    s = input()\n",
    "    print(\"입력한 문자열:\",s)\n",
    "    if s == 'q!':\n",
    "        break\n",
    "print('종료합니다.')"
   ]
  },
  {
   "cell_type": "markdown",
   "id": "29008826",
   "metadata": {},
   "source": [
    "## for in 문 관련 함수\n",
    "- range()\n",
    "    - 특정값만큼 증감하는 연속된 숫자를 제공하는 iterable을 생성\n",
    "   "
   ]
  },
  {
   "cell_type": "code",
   "execution_count": 40,
   "id": "4987ef6f",
   "metadata": {},
   "outputs": [
    {
     "data": {
      "text/plain": [
       "range(10, 100, 10)"
      ]
     },
     "execution_count": 40,
     "metadata": {},
     "output_type": "execute_result"
    }
   ],
   "source": [
    "#nums = [1,2,3,4,5,6,7,8, ... ,, 100]\n",
    "#range(시작숫자,끝숫자,증감치)\n",
    "range(10, 100, 10) #10 ~ 100-증감치 까지 10씩 증가하는 연속된 값을 제공.\n",
    "                   # 생성된 값이 필요할 때 제공한다."
   ]
  },
  {
   "cell_type": "code",
   "execution_count": 59,
   "id": "a43b4fea",
   "metadata": {},
   "outputs": [
    {
     "name": "stdout",
     "output_type": "stream",
     "text": [
      "10\n",
      "25\n",
      "40\n",
      "55\n",
      "70\n",
      "85\n"
     ]
    }
   ],
   "source": [
    "for i in range(10,100,15):\n",
    "    print(i)"
   ]
  },
  {
   "cell_type": "code",
   "execution_count": 43,
   "id": "c5b84118",
   "metadata": {},
   "outputs": [
    {
     "data": {
      "text/plain": [
       "[10, 20, 30, 40, 50, 60, 70, 80, 90]"
      ]
     },
     "execution_count": 43,
     "metadata": {},
     "output_type": "execute_result"
    }
   ],
   "source": [
    "l = list(range(10,100,10))\n",
    "l"
   ]
  },
  {
   "cell_type": "code",
   "execution_count": 44,
   "id": "9ac512a9",
   "metadata": {},
   "outputs": [
    {
     "data": {
      "text/plain": [
       "((10, 20, 30, 40, 50, 60, 70, 80, 90), {10, 20, 30, 40, 50, 60, 70, 80, 90})"
      ]
     },
     "execution_count": 44,
     "metadata": {},
     "output_type": "execute_result"
    }
   ],
   "source": [
    "tuple(range(10,100,10)), set(range(10,100,10))"
   ]
  },
  {
   "cell_type": "code",
   "execution_count": 62,
   "id": "03ae9381",
   "metadata": {},
   "outputs": [
    {
     "data": {
      "text/plain": [
       "[100, 95, 90, 85, 80, 75, 70, 65, 60, 55, 50, 45, 40, 35, 30, 25, 20, 15]"
      ]
     },
     "execution_count": 62,
     "metadata": {},
     "output_type": "execute_result"
    }
   ],
   "source": [
    "#시작값이 종료보다 크고 증감치가 음수이면 내림차순으로 제공\n",
    "list(range(100,10,-5)) #100~10-(-1)"
   ]
  },
  {
   "cell_type": "code",
   "execution_count": 46,
   "id": "be6a1563",
   "metadata": {},
   "outputs": [
    {
     "data": {
      "text/plain": [
       "[1, 2, 3, 4, 5, 6, 7, 8, 9]"
      ]
     },
     "execution_count": 46,
     "metadata": {},
     "output_type": "execute_result"
    }
   ],
   "source": [
    "# 증감치를 생략 - 1\n",
    "list(range(1,10)) # !~9 !씩증가"
   ]
  },
  {
   "cell_type": "code",
   "execution_count": 48,
   "id": "fc8b963c",
   "metadata": {},
   "outputs": [
    {
     "data": {
      "text/plain": [
       "[0, 1, 2, 3, 4, 5, 6, 7, 8, 9]"
      ]
     },
     "execution_count": 48,
     "metadata": {},
     "output_type": "execute_result"
    }
   ],
   "source": [
    "# 시작값 생략 (증감치도 같이 생략해야함.)\n",
    "list(range(10))"
   ]
  },
  {
   "cell_type": "code",
   "execution_count": 49,
   "id": "b7447375",
   "metadata": {},
   "outputs": [
    {
     "data": {
      "text/plain": [
       "[0,\n",
       " 1,\n",
       " 2,\n",
       " 3,\n",
       " 4,\n",
       " 5,\n",
       " 6,\n",
       " 7,\n",
       " 8,\n",
       " 9,\n",
       " 10,\n",
       " 11,\n",
       " 12,\n",
       " 13,\n",
       " 14,\n",
       " 15,\n",
       " 16,\n",
       " 17,\n",
       " 18,\n",
       " 19,\n",
       " 20,\n",
       " 21,\n",
       " 22,\n",
       " 23,\n",
       " 24,\n",
       " 25,\n",
       " 26,\n",
       " 27,\n",
       " 28,\n",
       " 29,\n",
       " 30,\n",
       " 31,\n",
       " 32,\n",
       " 33,\n",
       " 34,\n",
       " 35]"
      ]
     },
     "execution_count": 49,
     "metadata": {},
     "output_type": "execute_result"
    }
   ],
   "source": [
    "#종료값은 생략할 수 없다.\n",
    "list(range(36))"
   ]
  },
  {
   "cell_type": "markdown",
   "id": "438a3de6",
   "metadata": {},
   "source": [
    "# range() 전달하는 값이\n",
    "- 1개: 종료값\n",
    "- 2개: 시작값, 종료값\n",
    "- 3개: 시작값, 종료값, 증감치"
   ]
  },
  {
   "cell_type": "code",
   "execution_count": 54,
   "id": "9a9c5263",
   "metadata": {},
   "outputs": [
    {
     "name": "stdout",
     "output_type": "stream",
     "text": [
      "ABC\n",
      "ABC\n",
      "ABC\n",
      "ABC\n",
      "ABC\n",
      "ABC\n",
      "ABC\n",
      "ABC\n",
      "ABC\n",
      "ABC\n"
     ]
    }
   ],
   "source": [
    "#range(): 특정 구문을 n번 반복하려고 할때 for in문과 함께 사용할 수 있다.\n",
    "for _ in range(10): #변수를 _ 로 명명하면 이 변수는 사용하지 않겠다.\n",
    "                    #자리만 채운다의 의미로 관례적으로 사용한다.\n",
    "    print(\"ABC\") #"
   ]
  },
  {
   "cell_type": "markdown",
   "id": "479d6720",
   "metadata": {},
   "source": [
    "- enumerate(자료구조)\n",
    "    - 튜플로 (몇번째반복인지, 값)묶어서 반환\n"
   ]
  },
  {
   "cell_type": "code",
   "execution_count": 64,
   "id": "1676df30",
   "metadata": {},
   "outputs": [
    {
     "name": "stdout",
     "output_type": "stream",
     "text": [
      "(0, 10)\n",
      "(1, 5)\n",
      "(2, 7)\n",
      "(3, 8)\n",
      "(4, 10)\n",
      "(5, 2)\n"
     ]
    }
   ],
   "source": [
    "lst = [10,5,7,8,10,2]\n",
    "\n",
    "for i in enumerate(lst):\n",
    "    print(i)"
   ]
  },
  {
   "cell_type": "code",
   "execution_count": 66,
   "id": "fdeb05e2",
   "metadata": {},
   "outputs": [
    {
     "name": "stdout",
     "output_type": "stream",
     "text": [
      "(10, 10) 순번:10,값:10\n",
      "(11, 5) 순번:11,값:5\n",
      "(12, 7) 순번:12,값:7\n",
      "(13, 8) 순번:13,값:8\n",
      "(14, 10) 순번:14,값:10\n",
      "(15, 2) 순번:15,값:2\n"
     ]
    }
   ],
   "source": [
    "for i in enumerate(lst, start=10):\n",
    "    print(i, f'순번:{i[0]},값:{i[1]}')"
   ]
  },
  {
   "cell_type": "code",
   "execution_count": 68,
   "id": "038c99ad",
   "metadata": {},
   "outputs": [
    {
     "name": "stdout",
     "output_type": "stream",
     "text": [
      "1. 10\n",
      "2. 5\n",
      "3. 7\n",
      "4. 8\n",
      "5. 10\n",
      "6. 2\n"
     ]
    }
   ],
   "source": [
    "#enumerate() 반환값을 tuple 대입을 이용해 받는다.\n",
    "for idx, value in enumerate(lst, start=1):\n",
    "    print(f'{idx}. {value}')"
   ]
  },
  {
   "cell_type": "markdown",
   "id": "d3d0c1ae",
   "metadata": {},
   "source": [
    "- zip(자료구조1, 자료구조2, ...)"
   ]
  },
  {
   "cell_type": "code",
   "execution_count": 81,
   "id": "d4d355a9",
   "metadata": {},
   "outputs": [],
   "source": [
    "# 같은 index의 값들이 같은 사람의 정보\n",
    "names = ['홍길동','이순신','강감찬']\n",
    "ages = [30,40,50]\n",
    "address = ['서울','인천','수원']"
   ]
  },
  {
   "cell_type": "code",
   "execution_count": 82,
   "id": "e1d9c775",
   "metadata": {},
   "outputs": [
    {
     "name": "stdout",
     "output_type": "stream",
     "text": [
      "홍길동 30 서울\n",
      "이순신 40 인천\n",
      "강감찬 50 수원\n"
     ]
    }
   ],
   "source": [
    "for i in range(3):\n",
    "    print(names[i],ages[i],address[i])"
   ]
  },
  {
   "cell_type": "code",
   "execution_count": 83,
   "id": "7e516b9c",
   "metadata": {},
   "outputs": [
    {
     "name": "stdout",
     "output_type": "stream",
     "text": [
      "('홍길동', 30, '서울')\n",
      "('이순신', 40, '인천')\n",
      "('강감찬', 50, '수원')\n"
     ]
    }
   ],
   "source": [
    "for i in zip(names,ages,address):\n",
    "    print(i)"
   ]
  },
  {
   "cell_type": "code",
   "execution_count": 84,
   "id": "ed6f8112",
   "metadata": {},
   "outputs": [
    {
     "name": "stdout",
     "output_type": "stream",
     "text": [
      "홍길동 30 서울\n",
      "이순신 40 인천\n",
      "강감찬 50 수원\n"
     ]
    }
   ],
   "source": [
    "for name, age, addr in zip(names,ages,address): #튜플대입\n",
    "    print(name,age,addr)"
   ]
  },
  {
   "cell_type": "code",
   "execution_count": 85,
   "id": "dbfcf160",
   "metadata": {},
   "outputs": [
    {
     "name": "stdout",
     "output_type": "stream",
     "text": [
      "홍길동 30 서울 h@a.com\n",
      "이순신 40 인천 l@a.com\n",
      "강감찬 50 수원 k@b.com\n"
     ]
    }
   ],
   "source": [
    "emails = ['h@a.com', 'l@a.com', 'k@b.com','abc@a.com']\n",
    "#자료구조들의 원소 개수가 다를 경우에는 적은 것에 맞춘다.\n",
    "for name, age ,addr ,email in zip(names,ages,address,emails):\n",
    "    print(name,age,addr,email)"
   ]
  },
  {
   "cell_type": "markdown",
   "id": "ca545cb9",
   "metadata": {},
   "source": [
    "# 컴프리헨션"
   ]
  },
  {
   "cell_type": "code",
   "execution_count": 92,
   "id": "2a1b8c6b",
   "metadata": {},
   "outputs": [
    {
     "data": {
      "text/plain": [
       "[5, 10, 15, 20, 25]"
      ]
     },
     "execution_count": 92,
     "metadata": {},
     "output_type": "execute_result"
    }
   ],
   "source": [
    "l1 = [1,2,3,4,5]\n",
    "# l1의 원소들을 5배한 값들로 구성된 리스트를 생성\n",
    "new_list = []\n",
    "for i in l1:\n",
    "    new_list.append(i*5)\n",
    "    \n",
    "new_list"
   ]
  },
  {
   "cell_type": "code",
   "execution_count": 93,
   "id": "b9dd3273",
   "metadata": {},
   "outputs": [
    {
     "data": {
      "text/plain": [
       "[5, 10, 15, 20, 25]"
      ]
     },
     "execution_count": 93,
     "metadata": {},
     "output_type": "execute_result"
    }
   ],
   "source": [
    "new_list2 = [(i*5) for i in l1] # 리스트 컴프리헨션\n",
    "\n",
    "new_list2"
   ]
  },
  {
   "cell_type": "code",
   "execution_count": 94,
   "id": "22ee4269",
   "metadata": {},
   "outputs": [
    {
     "data": {
      "text/plain": [
       "{5, 10, 15, 20, 25}"
      ]
     },
     "execution_count": 94,
     "metadata": {},
     "output_type": "execute_result"
    }
   ],
   "source": [
    "new_set = {i*5 for i in l1} #셋 컴프리헨션\n",
    "new_set"
   ]
  },
  {
   "cell_type": "code",
   "execution_count": 99,
   "id": "f5e597d1",
   "metadata": {},
   "outputs": [
    {
     "data": {
      "text/plain": [
       "{100: 5, 101: 10, 102: 15, 103: 20, 104: 25}"
      ]
     },
     "execution_count": 99,
     "metadata": {},
     "output_type": "execute_result"
    }
   ],
   "source": [
    "#딕셔너리 컴프리헨션\n",
    "new_dict = {key:value*5 for key, value in enumerate(l1, start=100)}"
   ]
  },
  {
   "cell_type": "code",
   "execution_count": 102,
   "id": "7ac3144b",
   "metadata": {},
   "outputs": [
    {
     "data": {
      "text/plain": [
       "{'key1': 1, 'key2': 2, 'key3': 3, 'key4': 4, 'key5': 5}"
      ]
     },
     "execution_count": 102,
     "metadata": {},
     "output_type": "execute_result"
    }
   ],
   "source": [
    "new_dict = {'key'+str(value):value for value in l1}\n",
    "new_dict"
   ]
  },
  {
   "cell_type": "code",
   "execution_count": 109,
   "id": "77482bdb",
   "metadata": {},
   "outputs": [
    {
     "data": {
      "text/plain": [
       "['A', 'B', 'C', 'ABC']"
      ]
     },
     "execution_count": 109,
     "metadata": {},
     "output_type": "execute_result"
    }
   ],
   "source": [
    "s = ['a','b','c','abc'] #s의 값을 대문자로 변환한 값들을 원소로 가지는 리스트\n",
    "\n",
    "s2 = []\n",
    "for v in s:\n",
    "    s2.append(v.upper())\n",
    "s2"
   ]
  },
  {
   "cell_type": "code",
   "execution_count": 110,
   "id": "c6777d80",
   "metadata": {},
   "outputs": [
    {
     "data": {
      "text/plain": [
       "['A', 'B', 'C', 'ABC']"
      ]
     },
     "execution_count": 110,
     "metadata": {},
     "output_type": "execute_result"
    }
   ],
   "source": [
    "s3 = [v.upper() for v in s] #리스트 컴프리헨션\n",
    "s3"
   ]
  },
  {
   "cell_type": "code",
   "execution_count": 111,
   "id": "da751ca7",
   "metadata": {},
   "outputs": [
    {
     "data": {
      "text/plain": [
       "{'a': 'A', 'b': 'B', 'c': 'C', 'abc': 'ABC'}"
      ]
     },
     "execution_count": 111,
     "metadata": {},
     "output_type": "execute_result"
    }
   ],
   "source": [
    "s5 = {v:v.upper() for v in s}\n",
    "s5"
   ]
  },
  {
   "cell_type": "code",
   "execution_count": 121,
   "id": "cd340c5b",
   "metadata": {},
   "outputs": [
    {
     "data": {
      "text/plain": [
       "['A', 'B', 'C', 'R']"
      ]
     },
     "execution_count": 121,
     "metadata": {},
     "output_type": "execute_result"
    }
   ],
   "source": [
    "s = ['a','b','c','abc','def','ak','r']\n",
    "#s 의 원소중 글자수가 1글자인 원소만 소문자를 대문자로 바꾼 값들을 가지는 배열\n",
    "s2=[]\n",
    "for v in s:\n",
    "    if len(v) == 1:\n",
    "        s2.append(v.upper())\n",
    "    \n",
    "\n",
    "s2"
   ]
  },
  {
   "cell_type": "code",
   "execution_count": 136,
   "id": "dfb587ea",
   "metadata": {},
   "outputs": [
    {
     "data": {
      "text/plain": [
       "['a', 'b', 'c', 'r']"
      ]
     },
     "execution_count": 136,
     "metadata": {},
     "output_type": "execute_result"
    }
   ],
   "source": [
    "s3= [v for v in s  if len(v) ==1 ] #filter\n",
    "s3"
   ]
  },
  {
   "cell_type": "code",
   "execution_count": 137,
   "id": "cd15c1e7",
   "metadata": {},
   "outputs": [
    {
     "data": {
      "text/plain": [
       "['A', 'B', 'C', 'R']"
      ]
     },
     "execution_count": 137,
     "metadata": {},
     "output_type": "execute_result"
    }
   ],
   "source": [
    "s3= [v.upper() for v in s  if len(v) ==1 ] #filter + mapping\n",
    "s3"
   ]
  },
  {
   "cell_type": "code",
   "execution_count": 138,
   "id": "df534517",
   "metadata": {},
   "outputs": [
    {
     "data": {
      "text/plain": [
       "['a', 'b', 'c', 'r']"
      ]
     },
     "execution_count": 138,
     "metadata": {},
     "output_type": "execute_result"
    }
   ],
   "source": [
    "list(filter(lambda x: len(x)==1, s))"
   ]
  },
  {
   "cell_type": "code",
   "execution_count": 139,
   "id": "bc9472aa",
   "metadata": {},
   "outputs": [
    {
     "data": {
      "text/plain": [
       "['A', 'B', 'C', 'ABC', 'DEF', 'AK', 'R']"
      ]
     },
     "execution_count": 139,
     "metadata": {},
     "output_type": "execute_result"
    }
   ],
   "source": [
    "list(map(lambda x: x.upper(), s))"
   ]
  },
  {
   "cell_type": "code",
   "execution_count": 150,
   "id": "95e5a580",
   "metadata": {},
   "outputs": [
    {
     "name": "stdout",
     "output_type": "stream",
     "text": [
      "점수:101\n",
      "똑바로입력하세요.\n"
     ]
    }
   ],
   "source": [
    "#(1) 다음 점수 구간에 맞게 학점을 출력하세요.\n",
    "# 91 ~ 100 : A학점\n",
    "# 81 ~ 90 :  B학점\n",
    "# 71 ~ 80 :  C학점\n",
    "# 61 ~ 70 :  D학점\n",
    "# 60이하   :  F학점\n",
    "\n",
    "score = int(input('점수:'))\n",
    "\n",
    "if 91<= score <= 100:\n",
    "    print('A학점')\n",
    "elif 81 <= score <= 90:\n",
    "    print('B학점')\n",
    "elif 71 <= score <= 80:\n",
    "    print('C학점')\n",
    "elif 61 <= score <= 70:\n",
    "    print('D학점')\n",
    "elif score <= 60:\n",
    "    print('F학점')\n",
    "else:\n",
    "    print('똑바로입력하세요.')"
   ]
  },
  {
   "cell_type": "code",
   "execution_count": 152,
   "id": "b09cae6e",
   "metadata": {},
   "outputs": [
    {
     "name": "stdout",
     "output_type": "stream",
     "text": [
      "ID를 입력해주세요:153\n",
      "사용할 수 없는 ID 입니다.\n"
     ]
    }
   ],
   "source": [
    "#(2) 사용자로 부터 ID를 입력 받은 뒤 입력받은 ID가 5글자 이상이면 \"사용할 수 있습니다.\"를 5글자 미만이면 \"사용할 수 없는 ID입니다.\"를 출력하세요.\n",
    "\n",
    "ID = input('ID를 입력해주세요:')\n",
    "\n",
    "if len(ID) >= 5:\n",
    "    print('사용할 수 있습니다.')\n",
    "else:\n",
    "    print('사용할 수 없는 ID 입니다.')"
   ]
  },
  {
   "cell_type": "code",
   "execution_count": 20,
   "id": "e24493ce",
   "metadata": {},
   "outputs": [
    {
     "name": "stdout",
     "output_type": "stream",
     "text": [
      "도시이름:\n",
      "특별시나 광역시가 아닙니다.\n"
     ]
    }
   ],
   "source": [
    "#(3) 사용자로부터 우리나라 도시명을 입력 받은 뒤 입력받은 도시명이 \n",
    "#서울이면 \"특별시\"를 인천,부산,광주,대구,대전,울산 이면 \"광역시\"를 나머지는 \"특별시나 광역시가 아닙니다.\"를 출력하세요.\n",
    "\n",
    "cityname = input('도시이름:')\n",
    "\n",
    "if cityname =='서울':\n",
    "    print(\"특별시\")\n",
    "elif cityname == '인천':\n",
    "    print('광역시')\n",
    "elif cityname == '부산':\n",
    "    print('광역시')\n",
    "elif cityname == '광주':\n",
    "    print('광역시')\n",
    "elif cityname == '대구':\n",
    "    print('광역시')\n",
    "elif cityname == '대전':\n",
    "    print('광역시')\n",
    "elif cityname == '울산':\n",
    "    print('광역시')\n",
    "else:\n",
    "    print('특별시나 광역시가 아닙니다.')"
   ]
  },
  {
   "cell_type": "code",
   "execution_count": 21,
   "id": "e70cd69a",
   "metadata": {},
   "outputs": [
    {
     "data": {
      "text/plain": [
       "89.0"
      ]
     },
     "execution_count": 21,
     "metadata": {},
     "output_type": "execute_result"
    }
   ],
   "source": [
    "#(4) 아래 리스트의 평균을 구하시오. \n",
    "jumsu = [100, 90, 100, 80, 70, 100, 80, 90, 95, 85]\n",
    "\n",
    "average = sum(jumsu)/len(jumsu)\n",
    "average\n",
    "\n",
    "# jumsu_sum = 0 #점수의 합계를 저장할 변수\n",
    "# for i in jumsu:\n",
    "#     jumsu_sum = jumsu_sum + i\n",
    "# print('합계:', jumsu_sum)\n",
    "# print('평균:', jumsu_sum/len(jumsu))"
   ]
  },
  {
   "cell_type": "code",
   "execution_count": 22,
   "id": "fe75722b",
   "metadata": {},
   "outputs": [
    {
     "name": "stdout",
     "output_type": "stream",
     "text": [
      "0 -pass\n",
      "1 -pass\n",
      "2 -pass\n",
      "3 -fail\n",
      "4 -fail\n",
      "5 -pass\n",
      "6 -fail\n",
      "7 -pass\n",
      "8 -pass\n",
      "9 -fail\n"
     ]
    }
   ],
   "source": [
    "#(5) 위 jumsu리스트에서 평균점수이상은 pass, 미만은 fail을 index번호와 함께 출력하시오. (ex: 0-pass, 1-pass, 2-fail)\n",
    "\n",
    "for index,value in enumerate(jumsu):\n",
    "    if value >=average:\n",
    "        print(index,'-pass')\n",
    "    else:\n",
    "        print(index,'-fail')        "
   ]
  },
  {
   "cell_type": "code",
   "execution_count": 26,
   "id": "83d1dc87",
   "metadata": {},
   "outputs": [
    {
     "name": "stdout",
     "output_type": "stream",
     "text": [
      "95\n"
     ]
    }
   ],
   "source": [
    "#(6) 아래 리스트 값들 중 최대값을 조회해 출력\n",
    "jumsu = [60, 90, 80, 80, 70, 55, 80, 90, 95, 85]\n",
    "# large = jumsu[0]\n",
    "# for i in jumsu:\n",
    "#     if i > large:\n",
    "#         large=i\n",
    "        \n",
    "# print(large)\n",
    "\n",
    "max_value = 0 #최대값을 저장할 변수\n",
    "#리스트의 원소와 max_value를 비교해서 원소가 더크면 max_value값을 변경\n",
    "for value in jumsu:\n",
    "    if value > max_value:\n",
    "        max_value = value\n",
    "print(max_value)"
   ]
  },
  {
   "cell_type": "code",
   "execution_count": 29,
   "id": "0262e5a5",
   "metadata": {},
   "outputs": [
    {
     "name": "stdout",
     "output_type": "stream",
     "text": [
      "소\n",
      "호랑이\n",
      "용\n",
      "뱀\n"
     ]
    }
   ],
   "source": [
    "#(8) 다음 리스트 중에서 \"쥐\"와 \"토끼\" 제외한 나머지를 출력하세요.\n",
    "str_list = [\"쥐\", \"소\", \"호랑이\", \"토끼\", \"용\", \"뱀\"]\n",
    "\n",
    "# for i in str_list:\n",
    "#     if i !='쥐'and i !='토끼':\n",
    "#             print(i)\n",
    "\n",
    "for a in str_list:\n",
    "    if a not in ['쥐','토끼']:\n",
    "        print(a)\n",
    "            "
   ]
  },
  {
   "cell_type": "code",
   "execution_count": 25,
   "id": "fc7c795f",
   "metadata": {},
   "outputs": [
    {
     "name": "stdout",
     "output_type": "stream",
     "text": [
      "단을 입력하시오:3\n",
      "3 x 1 = 3\n",
      "3 x 2 = 6\n",
      "3 x 3 = 9\n",
      "3 x 4 = 12\n",
      "3 x 5 = 15\n",
      "3 x 6 = 18\n",
      "3 x 7 = 21\n",
      "3 x 8 = 24\n",
      "3 x 9 = 27\n"
     ]
    }
   ],
   "source": [
    "#(9) 사용자로부터 정수를 입력받아 그 단의 구구단을 출력하시오. \n",
    "# ex) 단을 입력하시오 : 2  \n",
    "# 2 x 1 = 2\n",
    "# 2 x 2 = 4\n",
    "#..\n",
    "# 2 x 9 = 18\n",
    "\n",
    "구구단 = int(input('단을 입력하시오:'))\n",
    "\n",
    "for y in range(1,10):\n",
    "    print(구구단,'x',y,'=',구구단*y)"
   ]
  },
  {
   "cell_type": "code",
   "execution_count": 31,
   "id": "3f32365f",
   "metadata": {},
   "outputs": [
    {
     "data": {
      "text/plain": [
       "[20, 60, 140, 10, 240, 1400, 2, 70]"
      ]
     },
     "execution_count": 31,
     "metadata": {},
     "output_type": "execute_result"
    }
   ],
   "source": [
    "#컴프리헨션\n",
    "\n",
    "#(10) 다음 리스트가 가진 값에 두배(* 2)를 가지는 새로운 리스트를 만드시오. (리스트 컴프리헨션 이용)\n",
    "lst = [10, 30, 70, 5, 120, 700, 1, 35]\n",
    "\n",
    "[i*2 for i in lst]"
   ]
  },
  {
   "cell_type": "code",
   "execution_count": 32,
   "id": "d453e581",
   "metadata": {},
   "outputs": [
    {
     "data": {
      "text/plain": [
       "[(10, 100),\n",
       " (30, 300),\n",
       " (70, 700),\n",
       " (5, 50),\n",
       " (5, 50),\n",
       " (120, 1200),\n",
       " (700, 7000),\n",
       " (1, 10),\n",
       " (35, 350),\n",
       " (35, 350)]"
      ]
     },
     "execution_count": 32,
     "metadata": {},
     "output_type": "execute_result"
    }
   ],
   "source": [
    "#(11) 다음 리스트가 가진 값에 10배의 값을 가지는 값을 (원래값, 10배값) 의 튜플 묶음으로 가지는 리스트를 만드시오 (리스트 컴프리헨션 이용)\n",
    "# Ex) [(10,100), (30,300), .., (35, 350)]\n",
    "lst = [10, 30, 70, 5, 5, 120, 700, 1, 35, 35]\n",
    "[(i,i*10) for i in lst]"
   ]
  },
  {
   "cell_type": "code",
   "execution_count": 41,
   "id": "ea17a8c0",
   "metadata": {},
   "outputs": [
    {
     "data": {
      "text/plain": [
       "[3, 33, 21, 33, 60, 120]"
      ]
     },
     "execution_count": 41,
     "metadata": {},
     "output_type": "execute_result"
    }
   ],
   "source": [
    "#(12) 다음 리스트가 가진 값들 중 3의 배수만 가지는 리스트를 만드시오. (리스트 컴프리헨션 이용)\n",
    "lst2 = [ 3, 20, 33, 21, 33, 8, 11, 10, 7, 17, 60, 120, 2]\n",
    "[i for i in lst2 if i%3==0]"
   ]
  },
  {
   "cell_type": "code",
   "execution_count": 43,
   "id": "22f17dc9",
   "metadata": {},
   "outputs": [
    {
     "data": {
      "text/plain": [
       "['a.exe', 'function.exe', 'b.exe', 'run.exe']"
      ]
     },
     "execution_count": 43,
     "metadata": {},
     "output_type": "execute_result"
    }
   ],
   "source": [
    "#(13) 다음 파일이름들을 담은 리스트에서 확장자가 exe인 파일만 골라서 새로운 리스트에 담으시오.(string의 endswith()함수 이용)\n",
    "file_name=[\"test.txt\", \"a.exe\", \"jupyter.bat\", \"function.exe\", \"b.exe\", \"cat.jpg\", \"dog.png\", \"run.exe\", \"i.dll\"]\n",
    "\n",
    "[file for file in file_name if file.endswith('.exe')]"
   ]
  },
  {
   "cell_type": "code",
   "execution_count": 47,
   "id": "a665059a",
   "metadata": {},
   "outputs": [
    {
     "data": {
      "text/plain": [
       "[('mystroy.txt', 11), ('jupyter.bat', 11), ('function.exe', 12)]"
      ]
     },
     "execution_count": 47,
     "metadata": {},
     "output_type": "execute_result"
    }
   ],
   "source": [
    "#(14) 다음 중 10글자 이상인 파일명(확장자포함)만 가지는 리스트를 만드시오.\n",
    "file_name=[\"mystroy.txt\", \"a.exe\", \"jupyter.bat\", \"function.exe\", \"b.exe\", \"cat.jpg\", \"dog.png\", \"run.exe\", \"i.dll\"]\n",
    "\n",
    "[(file, len(file)) for file in file_name if len(file)>=10]"
   ]
  },
  {
   "cell_type": "code",
   "execution_count": 44,
   "id": "f5666668",
   "metadata": {},
   "outputs": [],
   "source": [
    "#(15) 다음 리스트에서 소문자만 가지는 새로운 리스트를 만드시오.\n",
    "str_list = [\"A\", \"B\", \"c\", \"D\", \"E\", \"F\", \"g\", \"h\", \"I\", \"J\", \"k\"]"
   ]
  },
  {
   "cell_type": "code",
   "execution_count": 51,
   "id": "251a8f1a",
   "metadata": {},
   "outputs": [
    {
     "data": {
      "text/plain": [
       "['c', 'g', 'h', 'k']"
      ]
     },
     "execution_count": 51,
     "metadata": {},
     "output_type": "execute_result"
    }
   ],
   "source": [
    "[s for s in str_list if s.islower()]"
   ]
  },
  {
   "cell_type": "code",
   "execution_count": null,
   "id": "e5e41d3c",
   "metadata": {},
   "outputs": [],
   "source": []
  }
 ],
 "metadata": {
  "kernelspec": {
   "display_name": "Python 3 (ipykernel)",
   "language": "python",
   "name": "python3"
  },
  "language_info": {
   "codemirror_mode": {
    "name": "ipython",
    "version": 3
   },
   "file_extension": ".py",
   "mimetype": "text/x-python",
   "name": "python",
   "nbconvert_exporter": "python",
   "pygments_lexer": "ipython3",
   "version": "3.9.7"
  }
 },
 "nbformat": 4,
 "nbformat_minor": 5
}
