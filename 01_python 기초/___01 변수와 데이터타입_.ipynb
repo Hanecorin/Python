{
 "cells": [
  {
   "cell_type": "code",
   "execution_count": 3,
   "id": "2cd32a60",
   "metadata": {
    "scrolled": true
   },
   "outputs": [
    {
     "data": {
      "text/plain": [
       "6"
      ]
     },
     "execution_count": 3,
     "metadata": {},
     "output_type": "execute_result"
    }
   ],
   "source": [
    "# 단축키\n",
    "# shift + enter : 실행 후 다음 cell로 이동한다.\n",
    "# control + enter: 실행 후 실행한 cell에 머무른다.\n",
    "1 + 5"
   ]
  },
  {
   "cell_type": "code",
   "execution_count": 4,
   "id": "33dae976",
   "metadata": {},
   "outputs": [
    {
     "data": {
      "text/plain": [
       "5"
      ]
     },
     "execution_count": 4,
     "metadata": {},
     "output_type": "execute_result"
    }
   ],
   "source": [
    "2 + 3"
   ]
  },
  {
   "cell_type": "code",
   "execution_count": 6,
   "id": "d3e4e9e6",
   "metadata": {
    "scrolled": true
   },
   "outputs": [
    {
     "data": {
      "text/plain": [
       "11"
      ]
     },
     "execution_count": 6,
     "metadata": {},
     "output_type": "execute_result"
    }
   ],
   "source": [
    "5+6"
   ]
  },
  {
   "cell_type": "code",
   "execution_count": 1,
   "id": "8599cd3b",
   "metadata": {},
   "outputs": [],
   "source": [
    "# 변수  변수이름=값\n",
    "name = \"홍길동\"  # \"홍길동\" 이라는 값을 name이라는 변수에 대입.\n",
    "                # 이름이 name인 공간이 메모리에 없으면 새로 만들고 대입. 있으면 있는 공간에 대입한다."
   ]
  },
  {
   "cell_type": "code",
   "execution_count": 2,
   "id": "3b96f5dc",
   "metadata": {},
   "outputs": [
    {
     "name": "stdout",
     "output_type": "stream",
     "text": [
      "홍길동\n"
     ]
    }
   ],
   "source": [
    "print(name) #print(값)  ()안의 값을 출력하는 함수"
   ]
  },
  {
   "cell_type": "code",
   "execution_count": 8,
   "id": "ddcdc8ec",
   "metadata": {},
   "outputs": [],
   "source": [
    "age = 30"
   ]
  },
  {
   "cell_type": "code",
   "execution_count": 9,
   "id": "0df8e359",
   "metadata": {},
   "outputs": [
    {
     "name": "stdout",
     "output_type": "stream",
     "text": [
      "30\n"
     ]
    }
   ],
   "source": [
    "print(age)  # age 변수의 값을 출력"
   ]
  },
  {
   "cell_type": "code",
   "execution_count": 12,
   "id": "8be2ea26",
   "metadata": {},
   "outputs": [],
   "source": [
    "age = 50  # age 변수의 값을 50을 대체(재할당)"
   ]
  },
  {
   "cell_type": "code",
   "execution_count": 13,
   "id": "b1d1dc78",
   "metadata": {},
   "outputs": [
    {
     "name": "stdout",
     "output_type": "stream",
     "text": [
      "50\n"
     ]
    }
   ],
   "source": [
    "print(age)"
   ]
  },
  {
   "cell_type": "code",
   "execution_count": 11,
   "id": "fcd96287",
   "metadata": {},
   "outputs": [
    {
     "name": "stdout",
     "output_type": "stream",
     "text": [
      "홍길동\n"
     ]
    }
   ],
   "source": [
    "print(name)"
   ]
  },
  {
   "cell_type": "code",
   "execution_count": 12,
   "id": "621e562d",
   "metadata": {},
   "outputs": [],
   "source": [
    "name = '이순신'"
   ]
  },
  {
   "cell_type": "code",
   "execution_count": 13,
   "id": "90daf26a",
   "metadata": {},
   "outputs": [
    {
     "name": "stdout",
     "output_type": "stream",
     "text": [
      "이순신\n"
     ]
    }
   ],
   "source": [
    "print(name)"
   ]
  },
  {
   "cell_type": "code",
   "execution_count": 14,
   "id": "de7b3b5e",
   "metadata": {},
   "outputs": [
    {
     "name": "stdout",
     "output_type": "stream",
     "text": [
      "홍길동\n",
      "이순신\n"
     ]
    }
   ],
   "source": [
    "name = '홍길동'\n",
    "print(name)\n",
    "name = '이순신' #name 변수가 가진 값을 변경\n",
    "print(name)"
   ]
  },
  {
   "cell_type": "code",
   "execution_count": 19,
   "id": "095065e8",
   "metadata": {},
   "outputs": [],
   "source": [
    "age = age + 20  #1. age 변수가 가진 값과 20을 더하는 처리\n",
    "                #2. 1에서 처리한 값을 age변수에 대입"
   ]
  },
  {
   "cell_type": "code",
   "execution_count": 20,
   "id": "1a868384",
   "metadata": {},
   "outputs": [
    {
     "name": "stdout",
     "output_type": "stream",
     "text": [
      "70\n"
     ]
    }
   ],
   "source": [
    "print(age)"
   ]
  },
  {
   "cell_type": "code",
   "execution_count": 15,
   "id": "b3494613",
   "metadata": {},
   "outputs": [],
   "source": [
    "age2 = age - 40"
   ]
  },
  {
   "cell_type": "code",
   "execution_count": 16,
   "id": "cc39b7d5",
   "metadata": {},
   "outputs": [
    {
     "name": "stdout",
     "output_type": "stream",
     "text": [
      "-10\n"
     ]
    }
   ],
   "source": [
    "print(age2)"
   ]
  },
  {
   "cell_type": "code",
   "execution_count": 18,
   "id": "ea452025",
   "metadata": {},
   "outputs": [],
   "source": [
    "test = age"
   ]
  },
  {
   "cell_type": "code",
   "execution_count": 19,
   "id": "8caac737",
   "metadata": {},
   "outputs": [
    {
     "name": "stdout",
     "output_type": "stream",
     "text": [
      "30 30\n"
     ]
    }
   ],
   "source": [
    "print(age, test)"
   ]
  },
  {
   "cell_type": "code",
   "execution_count": 24,
   "id": "7bd878fb",
   "metadata": {},
   "outputs": [
    {
     "name": "stdout",
     "output_type": "stream",
     "text": [
      "70\n"
     ]
    }
   ],
   "source": [
    "print(age)"
   ]
  },
  {
   "cell_type": "code",
   "execution_count": 29,
   "id": "0633dd53",
   "metadata": {
    "scrolled": true
   },
   "outputs": [
    {
     "ename": "NameError",
     "evalue": "name 'address' is not defined",
     "output_type": "error",
     "traceback": [
      "\u001b[1;31m---------------------------------------------------------------------------\u001b[0m",
      "\u001b[1;31mNameError\u001b[0m                                 Traceback (most recent call last)",
      "\u001b[1;32m~\\AppData\\Local\\Temp/ipykernel_6376/682596882.py\u001b[0m in \u001b[0;36m<module>\u001b[1;34m\u001b[0m\n\u001b[1;32m----> 1\u001b[1;33m \u001b[0mprint\u001b[0m\u001b[1;33m(\u001b[0m\u001b[0maddress\u001b[0m\u001b[1;33m)\u001b[0m \u001b[1;31m# 이름이 address인 변수의 값을 출력\u001b[0m\u001b[1;33m\u001b[0m\u001b[1;33m\u001b[0m\u001b[0m\n\u001b[0m",
      "\u001b[1;31mNameError\u001b[0m: name 'address' is not defined"
     ]
    }
   ],
   "source": [
    "print(address) # 이름이 address인 변수의 값을 출력 => 없는 변수를 사용할 경우 에러 발생 - NameError"
   ]
  },
  {
   "cell_type": "code",
   "execution_count": 30,
   "id": "67d09b19",
   "metadata": {},
   "outputs": [
    {
     "name": "stdout",
     "output_type": "stream",
     "text": [
      "1930\n"
     ]
    }
   ],
   "source": [
    "print(age)"
   ]
  },
  {
   "cell_type": "code",
   "execution_count": 31,
   "id": "c864d34c",
   "metadata": {},
   "outputs": [
    {
     "ename": "NameError",
     "evalue": "name 'Age' is not defined",
     "output_type": "error",
     "traceback": [
      "\u001b[1;31m---------------------------------------------------------------------------\u001b[0m",
      "\u001b[1;31mNameError\u001b[0m                                 Traceback (most recent call last)",
      "\u001b[1;32m~\\AppData\\Local\\Temp/ipykernel_6376/2955847039.py\u001b[0m in \u001b[0;36m<module>\u001b[1;34m\u001b[0m\n\u001b[1;32m----> 1\u001b[1;33m \u001b[0mprint\u001b[0m\u001b[1;33m(\u001b[0m\u001b[0mAge\u001b[0m\u001b[1;33m)\u001b[0m\u001b[1;33m\u001b[0m\u001b[1;33m\u001b[0m\u001b[0m\n\u001b[0m",
      "\u001b[1;31mNameError\u001b[0m: name 'Age' is not defined"
     ]
    }
   ],
   "source": [
    "print(Age)"
   ]
  },
  {
   "cell_type": "code",
   "execution_count": 32,
   "id": "f638786e",
   "metadata": {},
   "outputs": [],
   "source": [
    "age = 30"
   ]
  },
  {
   "cell_type": "code",
   "execution_count": 33,
   "id": "78d19f18",
   "metadata": {},
   "outputs": [],
   "source": [
    "Age = 50"
   ]
  },
  {
   "cell_type": "code",
   "execution_count": 34,
   "id": "146df37c",
   "metadata": {},
   "outputs": [
    {
     "name": "stdout",
     "output_type": "stream",
     "text": [
      "30 50\n"
     ]
    }
   ],
   "source": [
    "print(age, Age)  #두개값을 한번에 출력"
   ]
  },
  {
   "cell_type": "code",
   "execution_count": 35,
   "id": "cafe6b62",
   "metadata": {},
   "outputs": [
    {
     "name": "stdout",
     "output_type": "stream",
     "text": [
      "서울시 서초구 서초동\n"
     ]
    }
   ],
   "source": [
    "주소 = '서울시 서초구 서초동'  #변수명으로 한글 가능\n",
    "print(주소)"
   ]
  },
  {
   "cell_type": "code",
   "execution_count": 36,
   "id": "1963c294",
   "metadata": {},
   "outputs": [],
   "source": [
    "우리집_주소 = '서울시 강남구' #특수문자는 _ 사용가능. _는 단어 구분자로 사용. (snake 표기법)"
   ]
  },
  {
   "cell_type": "code",
   "execution_count": 37,
   "id": "4e5a97eb",
   "metadata": {},
   "outputs": [
    {
     "name": "stdout",
     "output_type": "stream",
     "text": [
      "서울시 강남구\n"
     ]
    }
   ],
   "source": [
    "print(우리집_주소)"
   ]
  },
  {
   "cell_type": "code",
   "execution_count": null,
   "id": "2fe751ba",
   "metadata": {},
   "outputs": [],
   "source": [
    "my_email_address = 'abc@abc.com'"
   ]
  },
  {
   "cell_type": "code",
   "execution_count": 38,
   "id": "b25099c7",
   "metadata": {},
   "outputs": [],
   "source": [
    "# myEmailAddress = 'a@a.com' #  camel 표기법"
   ]
  },
  {
   "cell_type": "code",
   "execution_count": 41,
   "id": "21a2935d",
   "metadata": {},
   "outputs": [
    {
     "ename": "SyntaxError",
     "evalue": "invalid syntax (Temp/ipykernel_6376/3568569574.py, line 1)",
     "output_type": "error",
     "traceback": [
      "\u001b[1;36m  File \u001b[1;32m\"C:\\Users\\Playdata\\AppData\\Local\\Temp/ipykernel_6376/3568569574.py\"\u001b[1;36m, line \u001b[1;32m1\u001b[0m\n\u001b[1;33m    my!email = 'abc@a.com'\u001b[0m\n\u001b[1;37m      ^\u001b[0m\n\u001b[1;31mSyntaxError\u001b[0m\u001b[1;31m:\u001b[0m invalid syntax\n"
     ]
    }
   ],
   "source": [
    "my!email = 'abc@a.com'"
   ]
  },
  {
   "cell_type": "code",
   "execution_count": 42,
   "id": "b588eeb6",
   "metadata": {},
   "outputs": [
    {
     "ename": "SyntaxError",
     "evalue": "invalid syntax (Temp/ipykernel_6376/1428693534.py, line 1)",
     "output_type": "error",
     "traceback": [
      "\u001b[1;36m  File \u001b[1;32m\"C:\\Users\\Playdata\\AppData\\Local\\Temp/ipykernel_6376/1428693534.py\"\u001b[1;36m, line \u001b[1;32m1\u001b[0m\n\u001b[1;33m    5age = 30\u001b[0m\n\u001b[1;37m     ^\u001b[0m\n\u001b[1;31mSyntaxError\u001b[0m\u001b[1;31m:\u001b[0m invalid syntax\n"
     ]
    }
   ],
   "source": [
    "5age = 30 #숫자를 첫번째 글자로 할 수 없다. (변수명)"
   ]
  },
  {
   "cell_type": "code",
   "execution_count": null,
   "id": "72ad52b6",
   "metadata": {},
   "outputs": [],
   "source": [
    "# 여러개 변수에 같은 값을 대입\n",
    "a = 10\n",
    "b = 10\n",
    "c = 10"
   ]
  },
  {
   "cell_type": "code",
   "execution_count": 43,
   "id": "2c77eb80",
   "metadata": {},
   "outputs": [],
   "source": [
    "a = b = c = 20"
   ]
  },
  {
   "cell_type": "code",
   "execution_count": 44,
   "id": "fb647799",
   "metadata": {},
   "outputs": [
    {
     "name": "stdout",
     "output_type": "stream",
     "text": [
      "20 20 20\n"
     ]
    }
   ],
   "source": [
    "print(a, b, c)"
   ]
  },
  {
   "cell_type": "code",
   "execution_count": 45,
   "id": "de73d86c",
   "metadata": {},
   "outputs": [
    {
     "name": "stdout",
     "output_type": "stream",
     "text": [
      "0 0 0 0 0\n"
     ]
    }
   ],
   "source": [
    "age1 = age2 = age3 = age4 = age5 = 0\n",
    "print(age1, age2, age3, age4, age5)"
   ]
  },
  {
   "cell_type": "code",
   "execution_count": null,
   "id": "602faf7f",
   "metadata": {},
   "outputs": [],
   "source": [
    "# 여러개의 값을 여러개 변수에 한번에 대입\n",
    "a = 10\n",
    "b = 20\n",
    "c = 30"
   ]
  },
  {
   "cell_type": "code",
   "execution_count": 46,
   "id": "7268b2fb",
   "metadata": {},
   "outputs": [
    {
     "name": "stdout",
     "output_type": "stream",
     "text": [
      "10 20 30\n"
     ]
    }
   ],
   "source": [
    "# 튜플 대입 (Tuple assignment)\n",
    "a, b, c = 10, 20, 30  # 변수의 개수와 값의 개수가 같아야 한다.\n",
    "print(a, b, c)"
   ]
  },
  {
   "cell_type": "code",
   "execution_count": 47,
   "id": "feeb486b",
   "metadata": {},
   "outputs": [
    {
     "ename": "ValueError",
     "evalue": "not enough values to unpack (expected 3, got 2)",
     "output_type": "error",
     "traceback": [
      "\u001b[1;31m---------------------------------------------------------------------------\u001b[0m",
      "\u001b[1;31mValueError\u001b[0m                                Traceback (most recent call last)",
      "\u001b[1;32m~\\AppData\\Local\\Temp/ipykernel_6376/1121104675.py\u001b[0m in \u001b[0;36m<module>\u001b[1;34m\u001b[0m\n\u001b[1;32m----> 1\u001b[1;33m \u001b[0ma\u001b[0m\u001b[1;33m,\u001b[0m \u001b[0mb\u001b[0m\u001b[1;33m,\u001b[0m \u001b[0mc\u001b[0m \u001b[1;33m=\u001b[0m \u001b[1;36m1\u001b[0m\u001b[1;33m,\u001b[0m \u001b[1;36m2\u001b[0m\u001b[1;33m\u001b[0m\u001b[1;33m\u001b[0m\u001b[0m\n\u001b[0m",
      "\u001b[1;31mValueError\u001b[0m: not enough values to unpack (expected 3, got 2)"
     ]
    }
   ],
   "source": [
    "a, b, c = 1, 2"
   ]
  },
  {
   "cell_type": "code",
   "execution_count": 48,
   "id": "277c7bad",
   "metadata": {},
   "outputs": [
    {
     "name": "stdout",
     "output_type": "stream",
     "text": [
      "50 60 70 80\n"
     ]
    }
   ],
   "source": [
    "age1, age2, age3, age4 = 50, 60, 70, 80\n",
    "print(age1, age2, age3, age4)"
   ]
  },
  {
   "cell_type": "code",
   "execution_count": 49,
   "id": "328c2f98",
   "metadata": {},
   "outputs": [],
   "source": [
    "# 변수를 메모리에서 삭제\n",
    "del age1"
   ]
  },
  {
   "cell_type": "code",
   "execution_count": 50,
   "id": "d7bf4b0f",
   "metadata": {},
   "outputs": [
    {
     "ename": "NameError",
     "evalue": "name 'age1' is not defined",
     "output_type": "error",
     "traceback": [
      "\u001b[1;31m---------------------------------------------------------------------------\u001b[0m",
      "\u001b[1;31mNameError\u001b[0m                                 Traceback (most recent call last)",
      "\u001b[1;32m~\\AppData\\Local\\Temp/ipykernel_6376/3678690784.py\u001b[0m in \u001b[0;36m<module>\u001b[1;34m\u001b[0m\n\u001b[1;32m----> 1\u001b[1;33m \u001b[0mprint\u001b[0m\u001b[1;33m(\u001b[0m\u001b[0mage1\u001b[0m\u001b[1;33m)\u001b[0m\u001b[1;33m\u001b[0m\u001b[1;33m\u001b[0m\u001b[0m\n\u001b[0m",
      "\u001b[1;31mNameError\u001b[0m: name 'age1' is not defined"
     ]
    }
   ],
   "source": [
    "print(age1)"
   ]
  },
  {
   "cell_type": "code",
   "execution_count": 52,
   "id": "f6d70b90",
   "metadata": {},
   "outputs": [
    {
     "ename": "NameError",
     "evalue": "name 'age2' is not defined",
     "output_type": "error",
     "traceback": [
      "\u001b[1;31m---------------------------------------------------------------------------\u001b[0m",
      "\u001b[1;31mNameError\u001b[0m                                 Traceback (most recent call last)",
      "\u001b[1;32m~\\AppData\\Local\\Temp/ipykernel_6376/3487323932.py\u001b[0m in \u001b[0;36m<module>\u001b[1;34m\u001b[0m\n\u001b[0;32m      1\u001b[0m \u001b[1;32mdel\u001b[0m \u001b[0mage2\u001b[0m\u001b[1;33m\u001b[0m\u001b[1;33m\u001b[0m\u001b[0m\n\u001b[1;32m----> 2\u001b[1;33m \u001b[0mprint\u001b[0m\u001b[1;33m(\u001b[0m\u001b[0mage2\u001b[0m\u001b[1;33m)\u001b[0m\u001b[1;33m\u001b[0m\u001b[1;33m\u001b[0m\u001b[0m\n\u001b[0m",
      "\u001b[1;31mNameError\u001b[0m: name 'age2' is not defined"
     ]
    }
   ],
   "source": [
    "del age2\n",
    "print(age2)"
   ]
  },
  {
   "cell_type": "code",
   "execution_count": 56,
   "id": "707fca27",
   "metadata": {},
   "outputs": [
    {
     "name": "stdout",
     "output_type": "stream",
     "text": [
      "30\n",
      "스무살\n",
      "25.7\n"
     ]
    }
   ],
   "source": [
    "# 동적타입언어 => 하나의 변수에 다양한 타입의 값들을 대입할 수 있다.\n",
    "age = 30  #정수 대입\n",
    "print(age)\n",
    "age = '스무살' #문자열 대입\n",
    "print(age)\n",
    "age = 25.7\n",
    "print(age) #실수"
   ]
  },
  {
   "cell_type": "code",
   "execution_count": null,
   "id": "88f1de35",
   "metadata": {},
   "outputs": [],
   "source": [
    "# 정적타입언어 => 변수에 타입을 고정해서 같은 타입의 값들만 저장.\n",
    "int age = 20\n",
    "age = 40\n",
    "age = 50\n",
    "\n",
    "age = '스무살' #에러"
   ]
  },
  {
   "cell_type": "code",
   "execution_count": 20,
   "id": "be167c29",
   "metadata": {},
   "outputs": [
    {
     "data": {
      "text/plain": [
       "(int, int)"
      ]
     },
     "execution_count": 20,
     "metadata": {},
     "output_type": "execute_result"
    }
   ],
   "source": [
    "# 값, 변수의 타입을 확인하는 함수 - type(값)\n",
    "type(age), type(20)"
   ]
  },
  {
   "cell_type": "code",
   "execution_count": 60,
   "id": "ff4c9acc",
   "metadata": {},
   "outputs": [
    {
     "data": {
      "text/plain": [
       "int"
      ]
     },
     "execution_count": 60,
     "metadata": {},
     "output_type": "execute_result"
    }
   ],
   "source": [
    "age = 30\n",
    "type(age)"
   ]
  },
  {
   "cell_type": "code",
   "execution_count": 63,
   "id": "edde4928",
   "metadata": {},
   "outputs": [
    {
     "data": {
      "text/plain": [
       "(float, int, str)"
      ]
     },
     "execution_count": 63,
     "metadata": {},
     "output_type": "execute_result"
    }
   ],
   "source": [
    "tall = 178.9\n",
    "type(tall), type(age), type(name)"
   ]
  },
  {
   "cell_type": "code",
   "execution_count": null,
   "id": "4955843d",
   "metadata": {},
   "outputs": [],
   "source": [
    "# 데이터 타입\n",
    "#  숫자형"
   ]
  },
  {
   "cell_type": "code",
   "execution_count": 22,
   "id": "71a957b0",
   "metadata": {},
   "outputs": [
    {
     "name": "stdout",
     "output_type": "stream",
     "text": [
      "0.5 356.7\n"
     ]
    }
   ],
   "source": [
    "f1 = 0.5  \n",
    "f2 = 356.7\n",
    "print(f1, f2)"
   ]
  },
  {
   "cell_type": "code",
   "execution_count": 23,
   "id": "9356baf5",
   "metadata": {},
   "outputs": [
    {
     "name": "stdout",
     "output_type": "stream",
     "text": [
      "0.5\n"
     ]
    }
   ],
   "source": [
    "f3 = .5  #정수부가 0일 경우 0은 생략가능\n",
    "print(f3)"
   ]
  },
  {
   "cell_type": "code",
   "execution_count": 24,
   "id": "283b426e",
   "metadata": {},
   "outputs": [
    {
     "name": "stdout",
     "output_type": "stream",
     "text": [
      "30000000000.0\n"
     ]
    }
   ],
   "source": [
    "# 지수표기법 \n",
    "f4 = 3e10  # 3 x 10**10\n",
    "print(f4)"
   ]
  },
  {
   "cell_type": "code",
   "execution_count": 26,
   "id": "9733897e",
   "metadata": {},
   "outputs": [
    {
     "name": "stdout",
     "output_type": "stream",
     "text": [
      "324600000.0 <class 'float'>\n"
     ]
    }
   ],
   "source": [
    "f5 = 3246e5\n",
    "print(f5, type(f5))"
   ]
  },
  {
   "cell_type": "code",
   "execution_count": 27,
   "id": "5b64f45b",
   "metadata": {},
   "outputs": [
    {
     "name": "stdout",
     "output_type": "stream",
     "text": [
      "0.003\n"
     ]
    }
   ],
   "source": [
    "f6 = 3e-3  # 3 X 10**-3\n",
    "print(f6)"
   ]
  },
  {
   "cell_type": "code",
   "execution_count": 28,
   "id": "7c804ab1",
   "metadata": {},
   "outputs": [
    {
     "data": {
      "text/plain": [
       "(int, float)"
      ]
     },
     "execution_count": 28,
     "metadata": {},
     "output_type": "execute_result"
    }
   ],
   "source": [
    "type(10), type(3.2) # int:정수타입, float: 실수타입"
   ]
  },
  {
   "cell_type": "code",
   "execution_count": 33,
   "id": "a026acc3",
   "metadata": {},
   "outputs": [
    {
     "name": "stdout",
     "output_type": "stream",
     "text": [
      "32\n",
      "3.3333333333333335\n",
      "3\n",
      "1\n"
     ]
    }
   ],
   "source": [
    "print(2**5) #제곱연산자\n",
    "print(10/3) #나누기\n",
    "print(10 // 3) # 몫\n",
    "print(10 % 3) #나머지"
   ]
  },
  {
   "cell_type": "code",
   "execution_count": 36,
   "id": "e3dd9997",
   "metadata": {},
   "outputs": [
    {
     "name": "stdout",
     "output_type": "stream",
     "text": [
      "False\n"
     ]
    }
   ],
   "source": [
    "num = 1001\n",
    "# num이 5의 배수?\n",
    "print(num % 5)  # 결과가 0이면 5의 배수"
   ]
  },
  {
   "cell_type": "code",
   "execution_count": 37,
   "id": "03c1d2c1",
   "metadata": {},
   "outputs": [
    {
     "name": "stdout",
     "output_type": "stream",
     "text": [
      "True False\n"
     ]
    }
   ],
   "source": [
    "# 논리형\n",
    "b1 = True\n",
    "b2 = False\n",
    "print(b1, b2)"
   ]
  },
  {
   "cell_type": "code",
   "execution_count": 42,
   "id": "a60672de",
   "metadata": {},
   "outputs": [
    {
     "name": "stdout",
     "output_type": "stream",
     "text": [
      "False True True\n",
      "False False True True\n",
      "False\n"
     ]
    }
   ],
   "source": [
    "# control + /\n",
    "# bool(값) 다른 타입의 값을 논리형을 변환\n",
    "# 빈문자열, 0, None => False\n",
    "print(bool(''), bool('abc'), bool(' '))\n",
    "print(bool(0), bool(0.0), bool(50), bool(-50))\n",
    "print(bool(None))"
   ]
  },
  {
   "cell_type": "code",
   "execution_count": 47,
   "id": "0471f9fd",
   "metadata": {},
   "outputs": [
    {
     "name": "stdout",
     "output_type": "stream",
     "text": [
      "False\n",
      "True\n",
      "True\n",
      "False\n",
      "True\n",
      "False\n"
     ]
    }
   ],
   "source": [
    "# 비교연산자\n",
    "print(5 == 10)\n",
    "print(10 == 10)\n",
    "print(5 != 10)\n",
    "print(10 != 10)\n",
    "print('abc' == 'abc')\n",
    "print('abc' == 'ab')"
   ]
  },
  {
   "cell_type": "code",
   "execution_count": 51,
   "id": "027c3d62",
   "metadata": {},
   "outputs": [
    {
     "name": "stdout",
     "output_type": "stream",
     "text": [
      "True\n",
      "False\n",
      "True\n"
     ]
    }
   ],
   "source": [
    "print(10 > 5)\n",
    "print(10 < 5)\n",
    "print(10 >= 10)"
   ]
  },
  {
   "cell_type": "code",
   "execution_count": 53,
   "id": "793a44e9",
   "metadata": {},
   "outputs": [
    {
     "name": "stdout",
     "output_type": "stream",
     "text": [
      "False\n",
      "97 98\n"
     ]
    }
   ],
   "source": [
    "print('a' > 'b')\n",
    "print(ord('a'), ord('b')) #문자를 숫자로 변경"
   ]
  },
  {
   "cell_type": "code",
   "execution_count": 58,
   "id": "9fca126b",
   "metadata": {},
   "outputs": [
    {
     "name": "stdout",
     "output_type": "stream",
     "text": [
      "35 48 65 97 44032\n"
     ]
    }
   ],
   "source": [
    "#특수문자  <  숫자  <   영문자   <  한글\n",
    "print(ord('#'), ord('0'), ord('A'), ord('a'), ord('가'))"
   ]
  },
  {
   "cell_type": "code",
   "execution_count": 59,
   "id": "550bdca6",
   "metadata": {},
   "outputs": [
    {
     "name": "stdout",
     "output_type": "stream",
     "text": [
      "False\n"
     ]
    }
   ],
   "source": [
    "print('abcdf' > 'abcef')"
   ]
  },
  {
   "cell_type": "code",
   "execution_count": 69,
   "id": "eb856f5b",
   "metadata": {},
   "outputs": [
    {
     "name": "stdout",
     "output_type": "stream",
     "text": [
      "False\n",
      "True\n"
     ]
    }
   ],
   "source": [
    "num = 30\n",
    "# num이 5 ~ 20 사이의 숫자인가?\n",
    "# result = num > 5 and  num < 20 \n",
    "result = (num > 5) & (num < 20) \n",
    "print(result)\n",
    "print(not result)"
   ]
  },
  {
   "cell_type": "code",
   "execution_count": 67,
   "id": "aad3dd1a",
   "metadata": {},
   "outputs": [
    {
     "name": "stdout",
     "output_type": "stream",
     "text": [
      "True\n",
      "False\n"
     ]
    }
   ],
   "source": [
    "num = 30\n",
    "# num이 5 ~ 20 사이 밖의 숫자인가?\n",
    "# result = num < 5  or  num > 20\n",
    "result = (num < 5) |  (num > 20)\n",
    "print(result)\n",
    "print(not result)"
   ]
  },
  {
   "cell_type": "code",
   "execution_count": 70,
   "id": "afe9cd83",
   "metadata": {},
   "outputs": [
    {
     "data": {
      "text/plain": [
       "True"
      ]
     },
     "execution_count": 70,
     "metadata": {},
     "output_type": "execute_result"
    }
   ],
   "source": [
    "True ^ False"
   ]
  },
  {
   "cell_type": "code",
   "execution_count": 71,
   "id": "c61b1d25",
   "metadata": {},
   "outputs": [
    {
     "data": {
      "text/plain": [
       "False"
      ]
     },
     "execution_count": 71,
     "metadata": {},
     "output_type": "execute_result"
    }
   ],
   "source": [
    "True ^ True"
   ]
  },
  {
   "cell_type": "code",
   "execution_count": 73,
   "id": "6e01c285",
   "metadata": {},
   "outputs": [
    {
     "name": "stdout",
     "output_type": "stream",
     "text": [
      "음수\n"
     ]
    }
   ],
   "source": [
    "# 조건연산자\n",
    "num = -10\n",
    "var = '양수' if num >= 0  else '음수'\n",
    "print(var)"
   ]
  },
  {
   "cell_type": "code",
   "execution_count": 74,
   "id": "a0e1e950",
   "metadata": {},
   "outputs": [
    {
     "name": "stdout",
     "output_type": "stream",
     "text": [
      "None\n"
     ]
    }
   ],
   "source": [
    "a = None\n",
    "print(a)"
   ]
  },
  {
   "cell_type": "code",
   "execution_count": null,
   "id": "8d6b19df",
   "metadata": {},
   "outputs": [],
   "source": [
    "# 문자열"
   ]
  },
  {
   "cell_type": "code",
   "execution_count": 81,
   "id": "6475f8ea",
   "metadata": {},
   "outputs": [
    {
     "name": "stdout",
     "output_type": "stream",
     "text": [
      "abc\bd\n",
      "abc\n",
      "def\n",
      "ghi\n",
      "abc\n",
      "def\n",
      "hgi\n",
      "abc\tdef\n"
     ]
    }
   ],
   "source": [
    "# escape 문자\n",
    "print('abc\\bd')\n",
    "print('abc\\ndef\\nghi')\n",
    "print('''abc\n",
    "def\n",
    "hgi''')\n",
    "print('abc\\tdef')"
   ]
  },
  {
   "cell_type": "code",
   "execution_count": 85,
   "id": "8cb3e118",
   "metadata": {},
   "outputs": [
    {
     "name": "stdout",
     "output_type": "stream",
     "text": [
      "a\\a\\a\n"
     ]
    }
   ],
   "source": [
    "print('a\\\\a\\\\a')"
   ]
  },
  {
   "cell_type": "code",
   "execution_count": 90,
   "id": "95264b22",
   "metadata": {},
   "outputs": [
    {
     "name": "stdout",
     "output_type": "stream",
     "text": [
      "C:\\Windows\\System32\\cmd.exe\n",
      "C:\\Windows\\tystem32\\nmd.exe\n"
     ]
    }
   ],
   "source": [
    "print('C:\\\\Windows\\\\System32\\\\cmd.exe')\n",
    "# escape문자의 \\를 무시: r-string\n",
    "print(r'C:\\Windows\\tystem32\\nmd.exe')"
   ]
  },
  {
   "cell_type": "code",
   "execution_count": 93,
   "id": "aa39d556",
   "metadata": {},
   "outputs": [
    {
     "name": "stdout",
     "output_type": "stream",
     "text": [
      "I'm a boy\n",
      "I'm a boy\n"
     ]
    }
   ],
   "source": [
    "print('I\\'m a boy')\n",
    "print(\"I'm a boy\")"
   ]
  },
  {
   "cell_type": "code",
   "execution_count": 97,
   "id": "ac2c1bd7",
   "metadata": {},
   "outputs": [
    {
     "name": "stdout",
     "output_type": "stream",
     "text": [
      "abc\"def\n",
      "abc\"def\n"
     ]
    }
   ],
   "source": [
    "print('abc\"def')\n",
    "print(\"abc\\\"def\")"
   ]
  },
  {
   "cell_type": "code",
   "execution_count": 98,
   "id": "e2ab0929",
   "metadata": {},
   "outputs": [
    {
     "name": "stdout",
     "output_type": "stream",
     "text": [
      "aaaa\"aaaa'aaaaa\n"
     ]
    }
   ],
   "source": [
    "print('aaaa\"aaaa\\'aaaaa')"
   ]
  },
  {
   "cell_type": "code",
   "execution_count": 101,
   "id": "d8adbd38",
   "metadata": {},
   "outputs": [
    {
     "name": "stdout",
     "output_type": "stream",
     "text": [
      "ab\n",
      "이름: 홍길동\n"
     ]
    }
   ],
   "source": [
    "# 문자열 연산자\n",
    "print('a'+'b') #합친다.\n",
    "name = '홍길동'\n",
    "print(\"이름: \"+name)"
   ]
  },
  {
   "cell_type": "code",
   "execution_count": 106,
   "id": "b032cade",
   "metadata": {},
   "outputs": [
    {
     "name": "stdout",
     "output_type": "stream",
     "text": [
      "나이: 20\n",
      "키: 178.8\n"
     ]
    }
   ],
   "source": [
    "age = 20\n",
    "tall = 178.8\n",
    "print(\"나이: \"+str(age))\n",
    "print(\"키: \"+ str(tall))"
   ]
  },
  {
   "cell_type": "code",
   "execution_count": 108,
   "id": "8e83e012",
   "metadata": {},
   "outputs": [
    {
     "name": "stdout",
     "output_type": "stream",
     "text": [
      "----------\n",
      "abcdabcdabcdabcdabcd\n"
     ]
    }
   ],
   "source": [
    "print('-'*10)\n",
    "print('abcd'*5)"
   ]
  },
  {
   "cell_type": "code",
   "execution_count": 111,
   "id": "57852e03",
   "metadata": {},
   "outputs": [
    {
     "name": "stdout",
     "output_type": "stream",
     "text": [
      "홍길동 3\n",
      "21\n"
     ]
    }
   ],
   "source": [
    "print(name, len(name))\n",
    "print(len('alkdjflkasdjklasdjfkl'))"
   ]
  },
  {
   "cell_type": "code",
   "execution_count": 113,
   "id": "34155750",
   "metadata": {},
   "outputs": [
    {
     "name": "stdout",
     "output_type": "stream",
     "text": [
      "True False\n"
     ]
    }
   ],
   "source": [
    "addr = '서울시 서초구 서초동'\n",
    "r = \"서초구\" in addr  #addr 문자열 안에 \"서초구\" 문자열이 있냐?\n",
    "r2 = \"종로구\" in addr\n",
    "print(r, r2)"
   ]
  },
  {
   "cell_type": "code",
   "execution_count": 114,
   "id": "2ba07f1e",
   "metadata": {},
   "outputs": [
    {
     "name": "stdout",
     "output_type": "stream",
     "text": [
      "False True\n"
     ]
    }
   ],
   "source": [
    "r = \"서초구\" not in addr  #addr 문자열 안에 \"서초구\" 문자열이 없냐?\n",
    "r2 = \"종로구\" not in addr\n",
    "print(r, r2)"
   ]
  },
  {
   "cell_type": "code",
   "execution_count": 117,
   "id": "78c2aafa",
   "metadata": {},
   "outputs": [
    {
     "data": {
      "text/plain": [
       "2"
      ]
     },
     "execution_count": 117,
     "metadata": {},
     "output_type": "execute_result"
    }
   ],
   "source": [
    "# print(값) 값을 출력\n",
    "2 + 2\n",
    "3 + 3\n",
    "1 + 1"
   ]
  },
  {
   "cell_type": "code",
   "execution_count": 118,
   "id": "a24fbfe1",
   "metadata": {},
   "outputs": [
    {
     "name": "stdout",
     "output_type": "stream",
     "text": [
      "4\n",
      "6\n",
      "2\n"
     ]
    }
   ],
   "source": [
    "print(2+2)\n",
    "print(3+3)\n",
    "print(1+1)"
   ]
  },
  {
   "cell_type": "code",
   "execution_count": 119,
   "id": "53309d2b",
   "metadata": {},
   "outputs": [
    {
     "data": {
      "text/plain": [
       "'a'"
      ]
     },
     "execution_count": 119,
     "metadata": {},
     "output_type": "execute_result"
    }
   ],
   "source": [
    "\"a\""
   ]
  },
  {
   "cell_type": "code",
   "execution_count": 120,
   "id": "616ca54b",
   "metadata": {},
   "outputs": [
    {
     "name": "stdout",
     "output_type": "stream",
     "text": [
      "a\n"
     ]
    }
   ],
   "source": [
    "print(\"a\")"
   ]
  },
  {
   "cell_type": "code",
   "execution_count": 125,
   "id": "8406b062",
   "metadata": {},
   "outputs": [
    {
     "name": "stdout",
     "output_type": "stream",
     "text": [
      "a 20 30 3.2323\n",
      "a|20|30|3.2323\n"
     ]
    }
   ],
   "source": [
    "print(\"a\", 20, \"30\", 3.2323)  #  출력하려는 값들이 여러개일 경우 , 를 구분자로 해서 나열한다.\n",
    "print(\"a\", 20, \"30\", 3.2323, sep='|')"
   ]
  },
  {
   "cell_type": "code",
   "execution_count": 126,
   "id": "7f23ad12",
   "metadata": {},
   "outputs": [
    {
     "name": "stdout",
     "output_type": "stream",
     "text": [
      "abc\n",
      "def\n"
     ]
    }
   ],
   "source": [
    "# print() 출력할 값 뒤에 엔터를 기본적으로 붙인뒤 출력한다. 그래서 다음 출력은 다음줄에 나온다.\n",
    "print('abc') \n",
    "print('def')"
   ]
  },
  {
   "cell_type": "code",
   "execution_count": 128,
   "id": "f550e043",
   "metadata": {},
   "outputs": [
    {
     "name": "stdout",
     "output_type": "stream",
     "text": [
      "abcdef\n"
     ]
    }
   ],
   "source": [
    "print('abc', end='-')  #end는 출력할 값뒤에 붙일 값을 변경한다.\n",
    "print('def')"
   ]
  },
  {
   "cell_type": "code",
   "execution_count": null,
   "id": "bda29dc8",
   "metadata": {},
   "outputs": [],
   "source": [
    "# 인덱싱"
   ]
  },
  {
   "cell_type": "code",
   "execution_count": 140,
   "id": "037db2f2",
   "metadata": {},
   "outputs": [
    {
     "name": "stdout",
     "output_type": "stream",
     "text": [
      "안녕하세요. 반갑습니다.\n"
     ]
    }
   ],
   "source": [
    "s = \"안녕하세요. 반갑습니다.\"\n",
    "print(s)"
   ]
  },
  {
   "cell_type": "code",
   "execution_count": 134,
   "id": "8aa525a4",
   "metadata": {},
   "outputs": [
    {
     "name": "stdout",
     "output_type": "stream",
     "text": [
      "2번 index 글자(3번째): 하\n",
      "5번 index 글자(6번째): .\n",
      "뒤에서 2번째 글자: 다\n",
      "반 반\n"
     ]
    }
   ],
   "source": [
    "print(\"2번 index 글자(3번째):\", s[2])\n",
    "print('5번 index 글자(6번째):', s[5])\n",
    "print('뒤에서 2번째 글자:', s[-2])\n",
    "print(s[7], s[-6])"
   ]
  },
  {
   "cell_type": "code",
   "execution_count": 136,
   "id": "38934614",
   "metadata": {},
   "outputs": [
    {
     "ename": "TypeError",
     "evalue": "'str' object does not support item assignment",
     "output_type": "error",
     "traceback": [
      "\u001b[1;31m---------------------------------------------------------------------------\u001b[0m",
      "\u001b[1;31mTypeError\u001b[0m                                 Traceback (most recent call last)",
      "\u001b[1;32m~\\AppData\\Local\\Temp/ipykernel_10236/3681417922.py\u001b[0m in \u001b[0;36m<module>\u001b[1;34m\u001b[0m\n\u001b[1;32m----> 1\u001b[1;33m \u001b[0ms\u001b[0m\u001b[1;33m[\u001b[0m\u001b[1;36m3\u001b[0m\u001b[1;33m]\u001b[0m \u001b[1;33m=\u001b[0m \u001b[1;34m'가'\u001b[0m\u001b[1;33m\u001b[0m\u001b[1;33m\u001b[0m\u001b[0m\n\u001b[0m",
      "\u001b[1;31mTypeError\u001b[0m: 'str' object does not support item assignment"
     ]
    }
   ],
   "source": [
    "s[3] = '가' #index를 이용해 특정 문자를 변경할 수 없다."
   ]
  },
  {
   "cell_type": "code",
   "execution_count": 148,
   "id": "a3910c5a",
   "metadata": {},
   "outputs": [
    {
     "name": "stdout",
     "output_type": "stream",
     "text": [
      "14\n"
     ]
    }
   ],
   "source": [
    "s = \"abcdefghijklmn\"\n",
    "print(len(s)) # 14글자 - index: 0 ~ 13 "
   ]
  },
  {
   "cell_type": "code",
   "execution_count": 149,
   "id": "a0100cce",
   "metadata": {},
   "outputs": [
    {
     "data": {
      "text/plain": [
       "'cegi'"
      ]
     },
     "execution_count": 149,
     "metadata": {},
     "output_type": "execute_result"
    }
   ],
   "source": [
    "s[2:10:2] #범위: 2 ~ 10-1(9) 간격-2 => 2, 4, 6, 8,"
   ]
  },
  {
   "cell_type": "code",
   "execution_count": 151,
   "id": "c2b5cefe",
   "metadata": {},
   "outputs": [
    {
     "data": {
      "text/plain": [
       "'cdefghij'"
      ]
     },
     "execution_count": 151,
     "metadata": {},
     "output_type": "execute_result"
    }
   ],
   "source": [
    "s[2:10] # 간격 생략-기본값:1, :도 생략가능"
   ]
  },
  {
   "cell_type": "code",
   "execution_count": 153,
   "id": "767c6b26",
   "metadata": {},
   "outputs": [
    {
     "data": {
      "text/plain": [
       "'abcdefghij'"
      ]
     },
     "execution_count": 153,
     "metadata": {},
     "output_type": "execute_result"
    }
   ],
   "source": [
    "s[:10] #시작 생략-기본값: 0  : 0 ~ 9"
   ]
  },
  {
   "cell_type": "code",
   "execution_count": 154,
   "id": "e6ead36b",
   "metadata": {},
   "outputs": [
    {
     "data": {
      "text/plain": [
       "'klmn'"
      ]
     },
     "execution_count": 154,
     "metadata": {},
     "output_type": "execute_result"
    }
   ],
   "source": [
    "s[10:] #종료 생략-마지막 index까지 다 조회"
   ]
  },
  {
   "cell_type": "code",
   "execution_count": 157,
   "id": "08b7d508",
   "metadata": {},
   "outputs": [
    {
     "data": {
      "text/plain": [
       "'adgjm'"
      ]
     },
     "execution_count": 157,
     "metadata": {},
     "output_type": "execute_result"
    }
   ],
   "source": [
    "s[::3]"
   ]
  },
  {
   "cell_type": "code",
   "execution_count": 159,
   "id": "ddc53c2e",
   "metadata": {},
   "outputs": [
    {
     "data": {
      "text/plain": [
       "'fedc'"
      ]
     },
     "execution_count": 159,
     "metadata": {},
     "output_type": "execute_result"
    }
   ],
   "source": [
    "s[5:1:-1]  # 시작: 5 ~ 종료: 2"
   ]
  },
  {
   "cell_type": "code",
   "execution_count": 160,
   "id": "d8c24d98",
   "metadata": {},
   "outputs": [
    {
     "data": {
      "text/plain": [
       "'nmlkjihgfedcba'"
      ]
     },
     "execution_count": 160,
     "metadata": {},
     "output_type": "execute_result"
    }
   ],
   "source": [
    "s[::-1]"
   ]
  },
  {
   "cell_type": "code",
   "execution_count": 161,
   "id": "f8f91486",
   "metadata": {},
   "outputs": [
    {
     "data": {
      "text/plain": [
       "'mlkjihgfe'"
      ]
     },
     "execution_count": 161,
     "metadata": {},
     "output_type": "execute_result"
    }
   ],
   "source": [
    "s[-2: 3 : -1]"
   ]
  },
  {
   "cell_type": "code",
   "execution_count": 162,
   "id": "f826218e",
   "metadata": {},
   "outputs": [],
   "source": [
    "# formatting 문자열"
   ]
  },
  {
   "cell_type": "code",
   "execution_count": 163,
   "id": "c836fa74",
   "metadata": {},
   "outputs": [],
   "source": [
    "name1, age1, address1 = '홍길동', 10, '서울'\n",
    "name2, age2, address2 = '이순신', 20, '인천'\n",
    "name3, age3, address3 = '강감찬', 30, '부산'"
   ]
  },
  {
   "cell_type": "code",
   "execution_count": 170,
   "id": "e36d8009",
   "metadata": {},
   "outputs": [
    {
     "name": "stdout",
     "output_type": "stream",
     "text": [
      "이름: 홍길동\n",
      "나이: 10세\n",
      "주소: 서울\n"
     ]
    }
   ],
   "source": [
    "info1 = \"이름: \"+name1+\"\\n나이: \"+str(age1)+\"세\\n주소: \"+address1\n",
    "print(info1)"
   ]
  },
  {
   "cell_type": "code",
   "execution_count": 174,
   "id": "e8a82a42",
   "metadata": {},
   "outputs": [
    {
     "name": "stdout",
     "output_type": "stream",
     "text": [
      "이름: 이순신\n",
      "나이: 20세\n",
      "주소: 인천\n"
     ]
    }
   ],
   "source": [
    "info2 = \"이름: \"+name2+\"\\n나이: \"+str(age2)+\"세\\n주소: \"+address2\n",
    "print(info2)"
   ]
  },
  {
   "cell_type": "code",
   "execution_count": 175,
   "id": "3fd86ce2",
   "metadata": {},
   "outputs": [],
   "source": [
    "# {} => 나중에 값이 들어갈 자리\n",
    "info_layout = \"이름: {}\\n나이: {}세\\n주소: {}\"\n",
    "\n",
    "info1 = info_layout.format(name1, age1, address1) \n",
    "#name1->첫번째{}, age1->두번째{}, address1->세번째 {} 에 넣어서 문자열(string)을 완성"
   ]
  },
  {
   "cell_type": "code",
   "execution_count": 176,
   "id": "aef9c55f",
   "metadata": {
    "collapsed": true
   },
   "outputs": [
    {
     "name": "stdout",
     "output_type": "stream",
     "text": [
      "이름: {}\n",
      "나이: {}세\n",
      "주소: {}\n"
     ]
    }
   ],
   "source": [
    "print(info_layout)"
   ]
  },
  {
   "cell_type": "code",
   "execution_count": 177,
   "id": "2f467228",
   "metadata": {
    "collapsed": true
   },
   "outputs": [
    {
     "name": "stdout",
     "output_type": "stream",
     "text": [
      "이름: 홍길동\n",
      "나이: 10세\n",
      "주소: 서울\n"
     ]
    }
   ],
   "source": [
    "print(info1)"
   ]
  },
  {
   "cell_type": "code",
   "execution_count": 182,
   "id": "593ec9eb",
   "metadata": {
    "collapsed": true
   },
   "outputs": [
    {
     "name": "stdout",
     "output_type": "stream",
     "text": [
      "이름: 이순신\n",
      "나이: 20세\n",
      "주소: 인천\n",
      "이름: 강감찬\n",
      "나이: 30세\n",
      "주소: 부산\n"
     ]
    }
   ],
   "source": [
    "print(info_layout.format(name2, age2, address2))\n",
    "print(info_layout.format(name3, age3, address3))"
   ]
  },
  {
   "cell_type": "code",
   "execution_count": 187,
   "id": "00083bb7",
   "metadata": {},
   "outputs": [
    {
     "name": "stdout",
     "output_type": "stream",
     "text": [
      "이름: 홍길동\n",
      "나이: 20세\n",
      "주소: 부산, 이름: 홍길동\n"
     ]
    }
   ],
   "source": [
    "print(\"이름: {}\\n나이: {}세\\n주소: {}, 이름: {}\".format(name1, age2, address3, name1))"
   ]
  },
  {
   "cell_type": "code",
   "execution_count": 188,
   "id": "921fcd86",
   "metadata": {},
   "outputs": [
    {
     "name": "stdout",
     "output_type": "stream",
     "text": [
      "이름: 홍길동\n",
      "나이: 10세\n",
      "주소: 서울, 이름: 10\n"
     ]
    }
   ],
   "source": [
    "# {0}: 첫번째 값, {1}: 두번째 값\n",
    "# 동일한 값을 여러군데에서 사용할 경우.\n",
    "print(\"이름: {0}\\n나이: {1}세\\n주소: {2}, 이름: {1}\".format(name1, age1, address1))"
   ]
  },
  {
   "cell_type": "code",
   "execution_count": 189,
   "id": "fd8b0c45",
   "metadata": {},
   "outputs": [
    {
     "name": "stdout",
     "output_type": "stream",
     "text": [
      "이름: 홍길동\n",
      "나이: 10세\n",
      "주소: 서울 홍길동\n"
     ]
    }
   ],
   "source": [
    "#{name}: 괄호의 이름지정. 값 전달시 괄호이름=값\n",
    "print(\"이름: {name}\\n나이: {age}세\\n주소: {addr} {name}\".format(name=name1, \n",
    "                                                        age=age1, \n",
    "                                                        addr=address1))"
   ]
  },
  {
   "cell_type": "code",
   "execution_count": 192,
   "id": "30aad49d",
   "metadata": {},
   "outputs": [
    {
     "name": "stdout",
     "output_type": "stream",
     "text": [
      "이름: 홍길동, 나이: 23, 몸무게: 72.70\n"
     ]
    }
   ],
   "source": [
    "# 형식문자를 이용한 문자열 formatting \n",
    "# %s-string, %d-int, %f-float\n",
    "name, age, weight = '홍길동', 23, 72.7\n",
    "info = \"이름: %s, 나이: %d, 몸무게: %.2f\" % (name, age, weight)\n",
    "print(info)"
   ]
  },
  {
   "cell_type": "code",
   "execution_count": 194,
   "id": "17b54047",
   "metadata": {},
   "outputs": [
    {
     "name": "stdout",
     "output_type": "stream",
     "text": [
      "이름: 홍길동, 나이: 23, 몸무게: 72.7\n"
     ]
    }
   ],
   "source": [
    "# f-string\n",
    "name, age, weight = '홍길동', 23, 72.7\n",
    "print(f\"이름: {name}, 나이: {age}, 몸무게: {weight}\")"
   ]
  },
  {
   "cell_type": "code",
   "execution_count": 205,
   "id": "45064907",
   "metadata": {},
   "outputs": [
    {
     "name": "stdout",
     "output_type": "stream",
     "text": [
      "이름:   홍길동, 나이: 23, 몸무게: 81.16\n"
     ]
    }
   ],
   "source": [
    "weight=81.156\n",
    "print(f\"이름: {name:>5}, 나이: {age}, 몸무게: {weight:.2f}\")"
   ]
  },
  {
   "cell_type": "code",
   "execution_count": 204,
   "id": "a5a1e771",
   "metadata": {},
   "outputs": [
    {
     "ename": "ValueError",
     "evalue": "Unknown format code 'f' for object of type 'str'",
     "output_type": "error",
     "traceback": [
      "\u001b[1;31m---------------------------------------------------------------------------\u001b[0m",
      "\u001b[1;31mValueError\u001b[0m                                Traceback (most recent call last)",
      "\u001b[1;32m~\\AppData\\Local\\Temp/ipykernel_10236/1794364047.py\u001b[0m in \u001b[0;36m<module>\u001b[1;34m\u001b[0m\n\u001b[0;32m      1\u001b[0m \u001b[1;31m# 타입: f-실수, d-정수, s-문자열\u001b[0m\u001b[1;33m\u001b[0m\u001b[1;33m\u001b[0m\u001b[0m\n\u001b[1;32m----> 2\u001b[1;33m \u001b[1;34mf\"이름:{name:.2f}\"\u001b[0m\u001b[1;33m\u001b[0m\u001b[1;33m\u001b[0m\u001b[0m\n\u001b[0m",
      "\u001b[1;31mValueError\u001b[0m: Unknown format code 'f' for object of type 'str'"
     ]
    }
   ],
   "source": [
    "# 타입: f-실수, d-정수, s-문자열\n",
    "f\"이름:{name:.2f}\""
   ]
  },
  {
   "cell_type": "code",
   "execution_count": 211,
   "id": "c3379b23",
   "metadata": {},
   "outputs": [
    {
     "data": {
      "text/plain": [
       "['사과', '귤', '배', '수박', '복숭아']"
      ]
     },
     "execution_count": 211,
     "metadata": {},
     "output_type": "execute_result"
    }
   ],
   "source": [
    "# 문자열 관련 함수/메소드\n",
    "s = \"사과|귤|배|수박|복숭아\"\n",
    "s.split('|')"
   ]
  },
  {
   "cell_type": "code",
   "execution_count": 215,
   "id": "d3ddd1c4",
   "metadata": {},
   "outputs": [
    {
     "data": {
      "text/plain": [
       "'abc'"
      ]
     },
     "execution_count": 215,
     "metadata": {},
     "output_type": "execute_result"
    }
   ],
   "source": [
    "s2 = \"    abc    \"\n",
    "s2.lstrip() \n",
    "s2.rstrip()\n",
    "s2.strip()"
   ]
  },
  {
   "cell_type": "code",
   "execution_count": 218,
   "id": "2785ea30",
   "metadata": {},
   "outputs": [
    {
     "data": {
      "text/plain": [
       "'가0123c가0123c가0123c'"
      ]
     },
     "execution_count": 218,
     "metadata": {},
     "output_type": "execute_result"
    }
   ],
   "source": [
    "s3 = \"abcabcabc\"\n",
    "s3.replace('ab', '가') #ab를 가 로 변경"
   ]
  },
  {
   "cell_type": "code",
   "execution_count": 222,
   "id": "fc7a592b",
   "metadata": {},
   "outputs": [
    {
     "data": {
      "text/plain": [
       "3"
      ]
     },
     "execution_count": 222,
     "metadata": {},
     "output_type": "execute_result"
    }
   ],
   "source": [
    "len(s3) #s3의 글자수\n",
    "s3.count('a')\n",
    "s3.count('bc')"
   ]
  },
  {
   "cell_type": "code",
   "execution_count": 226,
   "id": "df0e0ee0",
   "metadata": {},
   "outputs": [
    {
     "data": {
      "text/plain": [
       "'abcabcabc'"
      ]
     },
     "execution_count": 226,
     "metadata": {},
     "output_type": "execute_result"
    }
   ],
   "source": [
    "s3"
   ]
  },
  {
   "cell_type": "code",
   "execution_count": 230,
   "id": "26a1a3d7",
   "metadata": {},
   "outputs": [
    {
     "ename": "ValueError",
     "evalue": "substring not found",
     "output_type": "error",
     "traceback": [
      "\u001b[1;31m---------------------------------------------------------------------------\u001b[0m",
      "\u001b[1;31mValueError\u001b[0m                                Traceback (most recent call last)",
      "\u001b[1;32m~\\AppData\\Local\\Temp/ipykernel_10236/498147941.py\u001b[0m in \u001b[0;36m<module>\u001b[1;34m\u001b[0m\n\u001b[0;32m      1\u001b[0m \u001b[0ms3\u001b[0m\u001b[1;33m.\u001b[0m\u001b[0mindex\u001b[0m\u001b[1;33m(\u001b[0m\u001b[1;34m'a'\u001b[0m\u001b[1;33m)\u001b[0m \u001b[1;31m# 'a' index\u001b[0m\u001b[1;33m\u001b[0m\u001b[1;33m\u001b[0m\u001b[0m\n\u001b[0;32m      2\u001b[0m \u001b[0ms3\u001b[0m\u001b[1;33m.\u001b[0m\u001b[0mindex\u001b[0m\u001b[1;33m(\u001b[0m\u001b[1;34m'bc'\u001b[0m\u001b[1;33m)\u001b[0m\u001b[1;33m\u001b[0m\u001b[1;33m\u001b[0m\u001b[0m\n\u001b[1;32m----> 3\u001b[1;33m \u001b[0ms3\u001b[0m\u001b[1;33m.\u001b[0m\u001b[0mindex\u001b[0m\u001b[1;33m(\u001b[0m\u001b[1;34m'가'\u001b[0m\u001b[1;33m)\u001b[0m\u001b[1;33m\u001b[0m\u001b[1;33m\u001b[0m\u001b[0m\n\u001b[0m",
      "\u001b[1;31mValueError\u001b[0m: substring not found"
     ]
    }
   ],
   "source": [
    "s3.index('a') # 'a' index\n",
    "s3.index('bc')\n",
    "s3.index('가') #없는 문자열을 찾으면 에러"
   ]
  },
  {
   "cell_type": "code",
   "execution_count": 231,
   "id": "ff61c671",
   "metadata": {},
   "outputs": [
    {
     "data": {
      "text/plain": [
       "-1"
      ]
     },
     "execution_count": 231,
     "metadata": {},
     "output_type": "execute_result"
    }
   ],
   "source": [
    "s3.find('a')\n",
    "s3.find('bc')\n",
    "s3.find('가') #없는 문자열을 찾을 경우 -1을 반환"
   ]
  },
  {
   "cell_type": "code",
   "execution_count": 233,
   "id": "7b553e17",
   "metadata": {},
   "outputs": [
    {
     "data": {
      "text/plain": [
       "'가 없다'"
      ]
     },
     "execution_count": 233,
     "metadata": {},
     "output_type": "execute_result"
    }
   ],
   "source": [
    "\"가 없다\" if s3.find('가') == -1 else \"가 있다\""
   ]
  },
  {
   "cell_type": "code",
   "execution_count": 235,
   "id": "b64f3c5d",
   "metadata": {},
   "outputs": [
    {
     "data": {
      "text/plain": [
       "'abcde'"
      ]
     },
     "execution_count": 235,
     "metadata": {},
     "output_type": "execute_result"
    }
   ],
   "source": [
    "s4 = 'AbCdE'\n",
    "s4.upper()\n",
    "s4.lower()"
   ]
  },
  {
   "cell_type": "code",
   "execution_count": 237,
   "id": "d2fb7980",
   "metadata": {},
   "outputs": [
    {
     "data": {
      "text/plain": [
       "False"
      ]
     },
     "execution_count": 237,
     "metadata": {},
     "output_type": "execute_result"
    }
   ],
   "source": [
    "addr = '서울시 서대문구'\n",
    "addr.startswith('서울')\n",
    "addr.startswith('광주')"
   ]
  },
  {
   "cell_type": "code",
   "execution_count": 239,
   "id": "1bf64761",
   "metadata": {},
   "outputs": [
    {
     "data": {
      "text/plain": [
       "False"
      ]
     },
     "execution_count": 239,
     "metadata": {},
     "output_type": "execute_result"
    }
   ],
   "source": [
    "url = 'www.naver.com'\n",
    "url.endswith('.com')\n",
    "url.endswith('.net')"
   ]
  },
  {
   "cell_type": "code",
   "execution_count": 259,
   "id": "7f5de371",
   "metadata": {},
   "outputs": [
    {
     "name": "stdout",
     "output_type": "stream",
     "text": [
      "num1: 100a\n"
     ]
    }
   ],
   "source": [
    "# 타입변환\n",
    "\n",
    "num1 = input(\"num1: \")  #사용자로부터 값을 입력받을 때 사용. 입력받은 값을 str으로 반환"
   ]
  },
  {
   "cell_type": "code",
   "execution_count": 260,
   "id": "5baaaa0d",
   "metadata": {},
   "outputs": [
    {
     "name": "stdout",
     "output_type": "stream",
     "text": [
      "num2: 50\n"
     ]
    }
   ],
   "source": [
    "num2 = input(\"num2: \")"
   ]
  },
  {
   "cell_type": "code",
   "execution_count": 261,
   "id": "afe4e6b4",
   "metadata": {},
   "outputs": [
    {
     "ename": "ValueError",
     "evalue": "invalid literal for int() with base 10: '100a'",
     "output_type": "error",
     "traceback": [
      "\u001b[1;31m---------------------------------------------------------------------------\u001b[0m",
      "\u001b[1;31mValueError\u001b[0m                                Traceback (most recent call last)",
      "\u001b[1;32m~\\AppData\\Local\\Temp/ipykernel_10236/2113689800.py\u001b[0m in \u001b[0;36m<module>\u001b[1;34m\u001b[0m\n\u001b[0;32m      1\u001b[0m \u001b[1;31m# 덧셈을 하려면 문자열을 정수/실수 변환\u001b[0m\u001b[1;33m\u001b[0m\u001b[1;33m\u001b[0m\u001b[0m\n\u001b[1;32m----> 2\u001b[1;33m \u001b[0mint\u001b[0m\u001b[1;33m(\u001b[0m\u001b[0mnum1\u001b[0m\u001b[1;33m)\u001b[0m \u001b[1;33m+\u001b[0m \u001b[0mint\u001b[0m\u001b[1;33m(\u001b[0m\u001b[0mnum2\u001b[0m\u001b[1;33m)\u001b[0m\u001b[1;33m\u001b[0m\u001b[1;33m\u001b[0m\u001b[0m\n\u001b[0m",
      "\u001b[1;31mValueError\u001b[0m: invalid literal for int() with base 10: '100a'"
     ]
    }
   ],
   "source": [
    "# 덧셈을 하려면 문자열을 정수/실수 변환\n",
    "int(num1) + int(num2)"
   ]
  },
  {
   "cell_type": "code",
   "execution_count": 255,
   "id": "c4c147fe",
   "metadata": {},
   "outputs": [
    {
     "data": {
      "text/plain": [
       "70.0"
      ]
     },
     "execution_count": 255,
     "metadata": {},
     "output_type": "execute_result"
    }
   ],
   "source": [
    "float(num1) + float(num2)  #'50' => 50.0"
   ]
  },
  {
   "cell_type": "code",
   "execution_count": 256,
   "id": "4d795551",
   "metadata": {},
   "outputs": [
    {
     "name": "stdout",
     "output_type": "stream",
     "text": [
      "abc\n"
     ]
    }
   ],
   "source": [
    "s = input()"
   ]
  },
  {
   "cell_type": "code",
   "execution_count": 258,
   "id": "4cc0656c",
   "metadata": {},
   "outputs": [
    {
     "ename": "ValueError",
     "evalue": "invalid literal for int() with base 10: 'abc'",
     "output_type": "error",
     "traceback": [
      "\u001b[1;31m---------------------------------------------------------------------------\u001b[0m",
      "\u001b[1;31mValueError\u001b[0m                                Traceback (most recent call last)",
      "\u001b[1;32m~\\AppData\\Local\\Temp/ipykernel_10236/863966558.py\u001b[0m in \u001b[0;36m<module>\u001b[1;34m\u001b[0m\n\u001b[1;32m----> 1\u001b[1;33m \u001b[0mint\u001b[0m\u001b[1;33m(\u001b[0m\u001b[0ms\u001b[0m\u001b[1;33m)\u001b[0m \u001b[1;31m# abc를 정수로 변환\u001b[0m\u001b[1;33m\u001b[0m\u001b[1;33m\u001b[0m\u001b[0m\n\u001b[0m",
      "\u001b[1;31mValueError\u001b[0m: invalid literal for int() with base 10: 'abc'"
     ]
    }
   ],
   "source": [
    "int(s) # abc를 정수로 변환\n",
    "# float(), int()는 변환가능한 형태의 문자열만 변환"
   ]
  },
  {
   "cell_type": "code",
   "execution_count": 263,
   "id": "827a94c7",
   "metadata": {},
   "outputs": [
    {
     "data": {
      "text/plain": [
       "0"
      ]
     },
     "execution_count": 263,
     "metadata": {},
     "output_type": "execute_result"
    }
   ],
   "source": [
    "int(True)  # True: 1\n",
    "int(False) # False: 0"
   ]
  },
  {
   "cell_type": "code",
   "execution_count": null,
   "id": "b7f88a10",
   "metadata": {},
   "outputs": [],
   "source": []
  },
  {
   "cell_type": "code",
   "execution_count": null,
   "id": "0907a0cc",
   "metadata": {},
   "outputs": [],
   "source": []
  }
 ],
 "metadata": {
  "kernelspec": {
   "display_name": "Python 3 (ipykernel)",
   "language": "python",
   "name": "python3"
  },
  "language_info": {
   "codemirror_mode": {
    "name": "ipython",
    "version": 3
   },
   "file_extension": ".py",
   "mimetype": "text/x-python",
   "name": "python",
   "nbconvert_exporter": "python",
   "pygments_lexer": "ipython3",
   "version": "3.9.7"
  }
 },
 "nbformat": 4,
 "nbformat_minor": 5
}
