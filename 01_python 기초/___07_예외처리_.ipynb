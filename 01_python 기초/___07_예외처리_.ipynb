{
 "cells": [
  {
   "cell_type": "code",
   "execution_count": 7,
   "id": "2c7b284a",
   "metadata": {
    "scrolled": true
   },
   "outputs": [
    {
     "ename": "TypeError",
     "evalue": "unsupported operand type(s) for +: 'int' and 'str'",
     "output_type": "error",
     "traceback": [
      "\u001b[1;31m---------------------------------------------------------------------------\u001b[0m",
      "\u001b[1;31mTypeError\u001b[0m                                 Traceback (most recent call last)",
      "\u001b[1;32m~\\AppData\\Local\\Temp/ipykernel_3324/767331157.py\u001b[0m in \u001b[0;36m<module>\u001b[1;34m\u001b[0m\n\u001b[1;32m----> 1\u001b[1;33m \u001b[0mprint\u001b[0m\u001b[1;33m(\u001b[0m\u001b[1;36m1\u001b[0m \u001b[1;33m+\u001b[0m \u001b[1;34m'abc'\u001b[0m\u001b[1;33m)\u001b[0m\u001b[1;33m\u001b[0m\u001b[1;33m\u001b[0m\u001b[0m\n\u001b[0m\u001b[0;32m      2\u001b[0m \u001b[0mprint\u001b[0m\u001b[1;33m(\u001b[0m\u001b[1;36m10\u001b[0m\u001b[1;33m)\u001b[0m\u001b[1;33m\u001b[0m\u001b[1;33m\u001b[0m\u001b[0m\n",
      "\u001b[1;31mTypeError\u001b[0m: unsupported operand type(s) for +: 'int' and 'str'"
     ]
    }
   ],
   "source": [
    "print(1 + 'abc')\n",
    "print(10)"
   ]
  },
  {
   "cell_type": "code",
   "execution_count": 14,
   "id": "eb6680e2",
   "metadata": {},
   "outputs": [
    {
     "name": "stdout",
     "output_type": "stream",
     "text": [
      "ID(5글자이상): aaa\n"
     ]
    }
   ],
   "source": [
    "id = input('ID(5글자이상): ')"
   ]
  },
  {
   "cell_type": "code",
   "execution_count": 16,
   "id": "7302e6c2",
   "metadata": {},
   "outputs": [
    {
     "ename": "Exception",
     "evalue": "",
     "output_type": "error",
     "traceback": [
      "\u001b[1;31m---------------------------------------------------------------------------\u001b[0m",
      "\u001b[1;31mException\u001b[0m                                 Traceback (most recent call last)",
      "\u001b[1;32m~\\AppData\\Local\\Temp/ipykernel_3324/1086367852.py\u001b[0m in \u001b[0;36m<module>\u001b[1;34m\u001b[0m\n\u001b[0;32m      1\u001b[0m \u001b[1;32mif\u001b[0m \u001b[0mlen\u001b[0m\u001b[1;33m(\u001b[0m\u001b[0mid\u001b[0m\u001b[1;33m)\u001b[0m \u001b[1;33m<\u001b[0m \u001b[1;36m5\u001b[0m\u001b[1;33m:\u001b[0m \u001b[1;31m#내가 정한 규칙(Application Exception)을 어긴 상황\u001b[0m\u001b[1;33m\u001b[0m\u001b[1;33m\u001b[0m\u001b[0m\n\u001b[1;32m----> 2\u001b[1;33m     \u001b[1;32mraise\u001b[0m \u001b[0mException\u001b[0m\u001b[1;33m(\u001b[0m\u001b[1;33m)\u001b[0m \u001b[1;31m# 예외도 내가 발생시킨다.\u001b[0m\u001b[1;33m\u001b[0m\u001b[1;33m\u001b[0m\u001b[0m\n\u001b[0m\u001b[0;32m      3\u001b[0m \u001b[1;33m\u001b[0m\u001b[0m\n\u001b[0;32m      4\u001b[0m \u001b[0mprint\u001b[0m\u001b[1;33m(\u001b[0m\u001b[0mid\u001b[0m\u001b[1;33m)\u001b[0m\u001b[1;33m\u001b[0m\u001b[1;33m\u001b[0m\u001b[0m\n\u001b[0;32m      5\u001b[0m \u001b[0mprint\u001b[0m\u001b[1;33m(\u001b[0m\u001b[1;34mf\"{id}를 DB에 저장한다.\"\u001b[0m\u001b[1;33m)\u001b[0m\u001b[1;33m\u001b[0m\u001b[1;33m\u001b[0m\u001b[0m\n",
      "\u001b[1;31mException\u001b[0m: "
     ]
    }
   ],
   "source": [
    "if len(id) < 5: #내가 정한 규칙(Application Exception)을 어긴 상황\n",
    "    raise Exception() # 예외도 내가 발생시킨다.\n",
    "\n",
    "print(id)\n",
    "print(f\"{id}를 DB에 저장한다.\")"
   ]
  },
  {
   "cell_type": "code",
   "execution_count": 20,
   "id": "69b0c321",
   "metadata": {
    "collapsed": true
   },
   "outputs": [
    {
     "name": "stdout",
     "output_type": "stream",
     "text": [
      "1\n",
      "1\n",
      "1\n"
     ]
    },
    {
     "ename": "TypeError",
     "evalue": "unsupported operand type(s) for +: 'int' and 'str'",
     "output_type": "error",
     "traceback": [
      "\u001b[1;31m---------------------------------------------------------------------------\u001b[0m",
      "\u001b[1;31mTypeError\u001b[0m                                 Traceback (most recent call last)",
      "\u001b[1;32m~\\AppData\\Local\\Temp/ipykernel_3324/197537273.py\u001b[0m in \u001b[0;36m<module>\u001b[1;34m\u001b[0m\n\u001b[0;32m      2\u001b[0m \u001b[0mprint\u001b[0m\u001b[1;33m(\u001b[0m\u001b[1;36m1\u001b[0m\u001b[1;33m)\u001b[0m\u001b[1;33m\u001b[0m\u001b[1;33m\u001b[0m\u001b[0m\n\u001b[0;32m      3\u001b[0m \u001b[0mprint\u001b[0m\u001b[1;33m(\u001b[0m\u001b[1;36m1\u001b[0m\u001b[1;33m)\u001b[0m\u001b[1;33m\u001b[0m\u001b[1;33m\u001b[0m\u001b[0m\n\u001b[1;32m----> 4\u001b[1;33m \u001b[0mprint\u001b[0m\u001b[1;33m(\u001b[0m\u001b[1;36m1\u001b[0m\u001b[1;33m+\u001b[0m\u001b[1;34m'abc'\u001b[0m\u001b[1;33m)\u001b[0m\u001b[1;33m\u001b[0m\u001b[1;33m\u001b[0m\u001b[0m\n\u001b[0m\u001b[0;32m      5\u001b[0m \u001b[0mprint\u001b[0m\u001b[1;33m(\u001b[0m\u001b[1;36m1\u001b[0m\u001b[1;33m)\u001b[0m\u001b[1;33m\u001b[0m\u001b[1;33m\u001b[0m\u001b[0m\n\u001b[0;32m      6\u001b[0m \u001b[0mprint\u001b[0m\u001b[1;33m(\u001b[0m\u001b[1;36m1\u001b[0m\u001b[1;33m)\u001b[0m\u001b[1;33m\u001b[0m\u001b[1;33m\u001b[0m\u001b[0m\n",
      "\u001b[1;31mTypeError\u001b[0m: unsupported operand type(s) for +: 'int' and 'str'"
     ]
    }
   ],
   "source": [
    "print(1)\n",
    "print(1)\n",
    "print(1)\n",
    "print(1+'abc')\n",
    "print(1)\n",
    "print(1)\n",
    "print(1)\n",
    "print(1)"
   ]
  },
  {
   "cell_type": "code",
   "execution_count": 18,
   "id": "d0ec34d2",
   "metadata": {
    "collapsed": true
   },
   "outputs": [
    {
     "ename": "TypeError",
     "evalue": "unsupported operand type(s) for +: 'int' and 'str'",
     "output_type": "error",
     "traceback": [
      "\u001b[1;31m---------------------------------------------------------------------------\u001b[0m",
      "\u001b[1;31mTypeError\u001b[0m                                 Traceback (most recent call last)",
      "\u001b[1;32m~\\AppData\\Local\\Temp/ipykernel_3324/4080559194.py\u001b[0m in \u001b[0;36m<module>\u001b[1;34m\u001b[0m\n\u001b[0;32m      8\u001b[0m     \u001b[0mf2\u001b[0m\u001b[1;33m(\u001b[0m\u001b[1;33m)\u001b[0m\u001b[1;33m\u001b[0m\u001b[1;33m\u001b[0m\u001b[0m\n\u001b[0;32m      9\u001b[0m \u001b[1;33m\u001b[0m\u001b[0m\n\u001b[1;32m---> 10\u001b[1;33m \u001b[0mf3\u001b[0m\u001b[1;33m(\u001b[0m\u001b[1;33m)\u001b[0m\u001b[1;33m\u001b[0m\u001b[1;33m\u001b[0m\u001b[0m\n\u001b[0m",
      "\u001b[1;32m~\\AppData\\Local\\Temp/ipykernel_3324/4080559194.py\u001b[0m in \u001b[0;36mf3\u001b[1;34m()\u001b[0m\n\u001b[0;32m      6\u001b[0m \u001b[1;33m\u001b[0m\u001b[0m\n\u001b[0;32m      7\u001b[0m \u001b[1;32mdef\u001b[0m \u001b[0mf3\u001b[0m\u001b[1;33m(\u001b[0m\u001b[1;33m)\u001b[0m\u001b[1;33m:\u001b[0m\u001b[1;33m\u001b[0m\u001b[1;33m\u001b[0m\u001b[0m\n\u001b[1;32m----> 8\u001b[1;33m     \u001b[0mf2\u001b[0m\u001b[1;33m(\u001b[0m\u001b[1;33m)\u001b[0m\u001b[1;33m\u001b[0m\u001b[1;33m\u001b[0m\u001b[0m\n\u001b[0m\u001b[0;32m      9\u001b[0m \u001b[1;33m\u001b[0m\u001b[0m\n\u001b[0;32m     10\u001b[0m \u001b[0mf3\u001b[0m\u001b[1;33m(\u001b[0m\u001b[1;33m)\u001b[0m\u001b[1;33m\u001b[0m\u001b[1;33m\u001b[0m\u001b[0m\n",
      "\u001b[1;32m~\\AppData\\Local\\Temp/ipykernel_3324/4080559194.py\u001b[0m in \u001b[0;36mf2\u001b[1;34m()\u001b[0m\n\u001b[0;32m      3\u001b[0m \u001b[1;33m\u001b[0m\u001b[0m\n\u001b[0;32m      4\u001b[0m \u001b[1;32mdef\u001b[0m \u001b[0mf2\u001b[0m\u001b[1;33m(\u001b[0m\u001b[1;33m)\u001b[0m\u001b[1;33m:\u001b[0m\u001b[1;33m\u001b[0m\u001b[1;33m\u001b[0m\u001b[0m\n\u001b[1;32m----> 5\u001b[1;33m     \u001b[0mf1\u001b[0m\u001b[1;33m(\u001b[0m\u001b[1;33m)\u001b[0m\u001b[1;33m\u001b[0m\u001b[1;33m\u001b[0m\u001b[0m\n\u001b[0m\u001b[0;32m      6\u001b[0m \u001b[1;33m\u001b[0m\u001b[0m\n\u001b[0;32m      7\u001b[0m \u001b[1;32mdef\u001b[0m \u001b[0mf3\u001b[0m\u001b[1;33m(\u001b[0m\u001b[1;33m)\u001b[0m\u001b[1;33m:\u001b[0m\u001b[1;33m\u001b[0m\u001b[1;33m\u001b[0m\u001b[0m\n",
      "\u001b[1;32m~\\AppData\\Local\\Temp/ipykernel_3324/4080559194.py\u001b[0m in \u001b[0;36mf1\u001b[1;34m()\u001b[0m\n\u001b[0;32m      1\u001b[0m \u001b[1;32mdef\u001b[0m \u001b[0mf1\u001b[0m\u001b[1;33m(\u001b[0m\u001b[1;33m)\u001b[0m\u001b[1;33m:\u001b[0m\u001b[1;33m\u001b[0m\u001b[1;33m\u001b[0m\u001b[0m\n\u001b[1;32m----> 2\u001b[1;33m     \u001b[0mprint\u001b[0m\u001b[1;33m(\u001b[0m\u001b[1;36m1\u001b[0m\u001b[1;33m+\u001b[0m\u001b[1;34m'abc'\u001b[0m\u001b[1;33m)\u001b[0m\u001b[1;33m\u001b[0m\u001b[1;33m\u001b[0m\u001b[0m\n\u001b[0m\u001b[0;32m      3\u001b[0m \u001b[1;33m\u001b[0m\u001b[0m\n\u001b[0;32m      4\u001b[0m \u001b[1;32mdef\u001b[0m \u001b[0mf2\u001b[0m\u001b[1;33m(\u001b[0m\u001b[1;33m)\u001b[0m\u001b[1;33m:\u001b[0m\u001b[1;33m\u001b[0m\u001b[1;33m\u001b[0m\u001b[0m\n\u001b[0;32m      5\u001b[0m     \u001b[0mf1\u001b[0m\u001b[1;33m(\u001b[0m\u001b[1;33m)\u001b[0m\u001b[1;33m\u001b[0m\u001b[1;33m\u001b[0m\u001b[0m\n",
      "\u001b[1;31mTypeError\u001b[0m: unsupported operand type(s) for +: 'int' and 'str'"
     ]
    }
   ],
   "source": [
    "def f1():\n",
    "    print(1+'abc')\n",
    "    \n",
    "def f2():\n",
    "    f1()\n",
    "    \n",
    "def f3():\n",
    "    f2()\n",
    "    \n",
    "f3()"
   ]
  },
  {
   "cell_type": "markdown",
   "id": "105dcfb5",
   "metadata": {},
   "source": [
    "# 예외 처리 (Exception Handling)\n",
    "- 발생한 예외(Exception)을 처리해서 프로그램을 정상화시킨다.\n",
    "- try, except, else, finally\n",
    "```python\n",
    "try:\n",
    "    예외가 발생할 가능성이 있는 코드\n",
    "    발생가능성 있는 코드와 연결된 코드\n",
    "    # try block\n",
    "except:\n",
    "    try block에서 예외가 발생했을 때 그것을 처리하는 코드들\n",
    "```"
   ]
  },
  {
   "cell_type": "code",
   "execution_count": 24,
   "id": "3e6e2147",
   "metadata": {},
   "outputs": [
    {
     "name": "stdout",
     "output_type": "stream",
     "text": [
      "정수:test\n",
      "test은 정수로 바꿀 수 없습니다. 다시 실행해서 정수를 입력하세요.\n",
      "종료\n"
     ]
    }
   ],
   "source": [
    "num_str = input('정수:')\n",
    "try:\n",
    "    num = int(num_str) # 예외발생가능성있는 코드\n",
    "    result = num ** 3  # 예외가발생하면 실행할 수없는 코드\n",
    "    print(\"결과:\", result) # 예외가발생하면 실행할 수없는 코드\n",
    "except:\n",
    "    print(f'{num_str}은 정수로 바꿀 수 없습니다. 다시 실행해서 정수를 입력하세요.')\n",
    "    \n",
    "print('종료')"
   ]
  },
  {
   "cell_type": "code",
   "execution_count": 35,
   "id": "ba7844d3",
   "metadata": {},
   "outputs": [
    {
     "name": "stdout",
     "output_type": "stream",
     "text": [
      "정수1:100\n",
      "정수2:0\n",
      "두번째 숫자는 0이외의 정수를 입력하세요. division by zero\n",
      "프로그램을 종료합니다.\n"
     ]
    }
   ],
   "source": [
    "num_str1 = input('정수1:')\n",
    "num_str2 = input('정수2:')\n",
    "\n",
    "####################연결된(연관성있는) 코드.######\n",
    "try:\n",
    "    num1 = int(num_str1) # 예외발생가능성있는 코드1 - ValueError\n",
    "    num2 = int(num_str2) # 예외발생가능성있는 코드2 - ValueError\n",
    "    result = num1 / num2 # 예외발생가능성있는 코드3 - ZeroDivisionError\n",
    "    print('나눈 결과:', result) # 예외와 연결된 코드\n",
    "# 발생할수 있는 Exception이 여러 종류이고 Exception별로 다르게 처리할 경우.    \n",
    "except ValueError as ve: #ValueError 만 처리. as 변수: Exception 메세지를 사용할 수 있다.\n",
    "    print(\"정수를 입력하세요.\", ve)\n",
    "except ZeroDivisionError as ze: #ZeroDivisionError 만 처리\n",
    "    print(\"두번째 숫자는 0이외의 정수를 입력하세요.\", ze)\n",
    "except:\n",
    "    print('ValueError, ZDError 이외의 예외가 발생할 경우 처리.')\n",
    "#################################################\n",
    "\n",
    "print('프로그램을 종료합니다.')"
   ]
  },
  {
   "cell_type": "code",
   "execution_count": 50,
   "id": "7355ba1b",
   "metadata": {},
   "outputs": [],
   "source": [
    "# block 지정하고 tab: 한번에 들여쓰기. shift + tab은 tab의 반대\n",
    "def divide():\n",
    "    \"\"\"\n",
    "    설명\n",
    "    [parameter]\n",
    "    [return value]\n",
    "    [exception]\n",
    "        ValueError: 발생 이유\n",
    "        ZeroDivisionError: 발생 이유\n",
    "    \"\"\"\n",
    "    num_str1 = input('정수1:')\n",
    "    num_str2 = input('정수2:')\n",
    "\n",
    "    num1 = int(num_str1) # 예외발생가능성있는 코드1 - ValueError\n",
    "    num2 = int(num_str2) # 예외발생가능성있는 코드2 - ValueError\n",
    "    result = num1 / num2 # 예외발생가능성있는 코드3 - ZeroDivisionError\n",
    "    print('나눈 결과:', result) # 예외와 연결된 코드\n",
    "#     return "
   ]
  },
  {
   "cell_type": "code",
   "execution_count": 48,
   "id": "a3c0c041",
   "metadata": {},
   "outputs": [
    {
     "name": "stdout",
     "output_type": "stream",
     "text": [
      "정수1:ㅁㄴ아ㅣㅓㄻ\n",
      "정수2:1\n",
      "나누는 작업을 정상적으로 처리하지 못했습니다.\n",
      "프로그램을 종료합니다.\n"
     ]
    }
   ],
   "source": [
    "try:\n",
    "    divide()  # Exception 발생할 가능성이 있는 코드 (ValueError, ZeroDivisionError)\n",
    "except:\n",
    "    print('나누는 작업을 정상적으로 처리하지 못했습니다.')\n",
    "    \n",
    "print('프로그램을 종료합니다.')"
   ]
  },
  {
   "cell_type": "code",
   "execution_count": 63,
   "id": "bd29995f",
   "metadata": {},
   "outputs": [],
   "source": [
    "#num1:int  :int -> 매개변수데이터타입 힌트,   () -> int : 리턴타입에대한 힌트\n",
    "def divide2(num1:int, num2:int)->int:   \n",
    "    \"\"\"\n",
    "    두개의 숫자를 나누는 함수\n",
    "    [parameter]\n",
    "        num1: int - 피연산자\n",
    "        num2: int - 피연산자\n",
    "    [return]\n",
    "        int - 나눈 결과\n",
    "    [exception]\n",
    "        ZeroDivisionError: num2가 0일 경우 발생.\n",
    "    \"\"\"\n",
    "    return num1/num2"
   ]
  },
  {
   "cell_type": "code",
   "execution_count": 65,
   "id": "8e1e0d77",
   "metadata": {
    "collapsed": true
   },
   "outputs": [
    {
     "ename": "ZeroDivisionError",
     "evalue": "division by zero",
     "output_type": "error",
     "traceback": [
      "\u001b[1;31m---------------------------------------------------------------------------\u001b[0m",
      "\u001b[1;31mZeroDivisionError\u001b[0m                         Traceback (most recent call last)",
      "\u001b[1;32m~\\AppData\\Local\\Temp/ipykernel_3324/802939016.py\u001b[0m in \u001b[0;36m<module>\u001b[1;34m\u001b[0m\n\u001b[0;32m      1\u001b[0m \u001b[0mdivide2\u001b[0m\u001b[1;33m(\u001b[0m\u001b[1;36m10\u001b[0m\u001b[1;33m,\u001b[0m\u001b[1;36m10\u001b[0m\u001b[1;33m)\u001b[0m\u001b[1;33m\u001b[0m\u001b[1;33m\u001b[0m\u001b[0m\n\u001b[1;32m----> 2\u001b[1;33m \u001b[0mdivide2\u001b[0m\u001b[1;33m(\u001b[0m\u001b[1;36m10\u001b[0m\u001b[1;33m,\u001b[0m \u001b[1;36m0\u001b[0m\u001b[1;33m)\u001b[0m\u001b[1;33m\u001b[0m\u001b[1;33m\u001b[0m\u001b[0m\n\u001b[0m",
      "\u001b[1;32m~\\AppData\\Local\\Temp/ipykernel_3324/2735608672.py\u001b[0m in \u001b[0;36mdivide2\u001b[1;34m(num1, num2)\u001b[0m\n\u001b[0;32m     11\u001b[0m         \u001b[0mZeroDivisionError\u001b[0m\u001b[1;33m:\u001b[0m \u001b[0mnum2가\u001b[0m \u001b[1;36m0\u001b[0m\u001b[0m일\u001b[0m \u001b[0m경우\u001b[0m \u001b[0m발생\u001b[0m\u001b[1;33m.\u001b[0m\u001b[1;33m\u001b[0m\u001b[1;33m\u001b[0m\u001b[0m\n\u001b[0;32m     12\u001b[0m     \"\"\"\n\u001b[1;32m---> 13\u001b[1;33m     \u001b[1;32mreturn\u001b[0m \u001b[0mnum1\u001b[0m\u001b[1;33m/\u001b[0m\u001b[0mnum2\u001b[0m\u001b[1;33m\u001b[0m\u001b[1;33m\u001b[0m\u001b[0m\n\u001b[0m",
      "\u001b[1;31mZeroDivisionError\u001b[0m: division by zero"
     ]
    }
   ],
   "source": [
    "try:\n",
    "    r1 = divide2(10,10)\n",
    "    r2 = divide2(10, 0)\n",
    "    print(r)\n",
    "except:\n",
    "#     a = divide2(10,1)\n",
    "    a = plus(10, 0)"
   ]
  },
  {
   "cell_type": "code",
   "execution_count": null,
   "id": "a36c823a",
   "metadata": {},
   "outputs": [],
   "source": [
    "try:\n",
    "    r = divide2(10, 10) #Exception발생가능성있는 코드\n",
    "#     print('나눈결과:', r)#Exception이 발생하지 않을 경우 실행할 코드\n",
    "except:\n",
    "    print('예외발생')  #Exception이 발생하면 실행할 코드\n",
    "else:\n",
    "    print('나눈결과:', r)#Exception이 발생하지 않을 경우 실행할 코드\n",
    "print('종료')"
   ]
  },
  {
   "cell_type": "markdown",
   "id": "e00eaeee",
   "metadata": {},
   "source": [
    "### finally \n",
    "try - except - finally\n",
    "- finally block\n",
    "    - try에서 예외 발생 및 처리 여부와 상관없이 100% 실행을 보장하는 코드블럭.\n",
    "    - 외부자원과 연결해서 데이터를 주고받을때  마지막 연결 끊는(닫는) 코드를 주로 넣는다."
   ]
  },
  {
   "cell_type": "code",
   "execution_count": 74,
   "id": "e781e0d4",
   "metadata": {},
   "outputs": [
    {
     "name": "stdout",
     "output_type": "stream",
     "text": [
      "무조건실행될 코드 - finally\n"
     ]
    },
    {
     "ename": "ZeroDivisionError",
     "evalue": "division by zero",
     "output_type": "error",
     "traceback": [
      "\u001b[1;31m---------------------------------------------------------------------------\u001b[0m",
      "\u001b[1;31mZeroDivisionError\u001b[0m                         Traceback (most recent call last)",
      "\u001b[1;32m~\\AppData\\Local\\Temp/ipykernel_3324/801443963.py\u001b[0m in \u001b[0;36m<module>\u001b[1;34m\u001b[0m\n\u001b[0;32m      1\u001b[0m \u001b[1;32mtry\u001b[0m\u001b[1;33m:\u001b[0m\u001b[1;33m\u001b[0m\u001b[1;33m\u001b[0m\u001b[0m\n\u001b[1;32m----> 2\u001b[1;33m     \u001b[0mprint\u001b[0m\u001b[1;33m(\u001b[0m\u001b[1;36m1\u001b[0m\u001b[1;33m/\u001b[0m\u001b[1;36m0\u001b[0m\u001b[1;33m)\u001b[0m\u001b[1;33m\u001b[0m\u001b[1;33m\u001b[0m\u001b[0m\n\u001b[0m\u001b[0;32m      3\u001b[0m     \u001b[0mprint\u001b[0m\u001b[1;33m(\u001b[0m\u001b[0mint\u001b[0m\u001b[1;33m(\u001b[0m\u001b[1;34m'10aaa'\u001b[0m\u001b[1;33m)\u001b[0m\u001b[1;33m)\u001b[0m\u001b[1;33m\u001b[0m\u001b[1;33m\u001b[0m\u001b[0m\n\u001b[0;32m      4\u001b[0m     \u001b[0mprint\u001b[0m\u001b[1;33m(\u001b[0m\u001b[1;34m\"무조건실행될 코드 1\"\u001b[0m\u001b[1;33m)\u001b[0m\u001b[1;33m\u001b[0m\u001b[1;33m\u001b[0m\u001b[0m\n\u001b[0;32m      5\u001b[0m \u001b[1;32mexcept\u001b[0m \u001b[0mValueError\u001b[0m\u001b[1;33m:\u001b[0m\u001b[1;33m\u001b[0m\u001b[1;33m\u001b[0m\u001b[0m\n",
      "\u001b[1;31mZeroDivisionError\u001b[0m: division by zero"
     ]
    }
   ],
   "source": [
    "try:\n",
    "#     외부 자원과 연결\n",
    "#     외부자원과 데이터를 주고받는 코드\n",
    "    print(1/0)\n",
    "    print(int('10aaa'))\n",
    "    print(\"무조건실행될 코드 1\")\n",
    "except ValueError:\n",
    "#     데이터를 주고받다가 발생하는 예외를 처리하는 코드\n",
    "    print(\"무조건실행될 코드 2\")\n",
    "finally:\n",
    "#     연결 닫는(끊는) 코드\n",
    "    print(\"무조건실행될 코드 - finally\")\n",
    "    \n",
    "print(\"무조건실행될 코드 3\")    "
   ]
  },
  {
   "cell_type": "markdown",
   "id": "51dc5375",
   "metadata": {},
   "source": [
    "## 같은 일을하는 메소드(함수)가 예외발생 또는 None반환을 하는 경우."
   ]
  },
  {
   "cell_type": "code",
   "execution_count": 76,
   "id": "d991b6f4",
   "metadata": {},
   "outputs": [
    {
     "name": "stdout",
     "output_type": "stream",
     "text": [
      "10 10\n"
     ]
    }
   ],
   "source": [
    "# 딕셔너리\n",
    "d = {'a':10, 'b':100}\n",
    "print(d['a'],   d.get('a'))"
   ]
  },
  {
   "cell_type": "code",
   "execution_count": 83,
   "id": "bd33700c",
   "metadata": {},
   "outputs": [
    {
     "name": "stdout",
     "output_type": "stream",
     "text": [
      "없습니다.\n"
     ]
    }
   ],
   "source": [
    "# 없는 키로 조회\n",
    "try:\n",
    "    print(d['key'])  #KeyError 를 발생\n",
    "except:\n",
    "    print(\"없습니다.\")"
   ]
  },
  {
   "cell_type": "code",
   "execution_count": 81,
   "id": "fb4e51e9",
   "metadata": {},
   "outputs": [
    {
     "name": "stdout",
     "output_type": "stream",
     "text": [
      "없습니다.\n",
      "None\n"
     ]
    }
   ],
   "source": [
    "v = d.get('key') # None 반환\n",
    "if v != None:  #if None:\n",
    "    print(v)\n",
    "else:\n",
    "    print(\"없습니다.\")\n",
    "# v = d.get('key', '없음') #설정한 default값을 반환\n",
    "print(v)"
   ]
  },
  {
   "cell_type": "code",
   "execution_count": 89,
   "id": "9cba68bc",
   "metadata": {},
   "outputs": [
    {
     "data": {
      "text/plain": [
       "(1, 1)"
      ]
     },
     "execution_count": 89,
     "metadata": {},
     "output_type": "execute_result"
    }
   ],
   "source": [
    "s = '가나다라'\n",
    "s.index('나'), s.find('나')"
   ]
  },
  {
   "cell_type": "code",
   "execution_count": 95,
   "id": "478984ca",
   "metadata": {},
   "outputs": [
    {
     "name": "stdout",
     "output_type": "stream",
     "text": [
      "없음\n"
     ]
    }
   ],
   "source": [
    "try:\n",
    "    i = s.index('바')\n",
    "except:\n",
    "    print('없음')"
   ]
  },
  {
   "cell_type": "code",
   "execution_count": 94,
   "id": "a8d43176",
   "metadata": {},
   "outputs": [
    {
     "name": "stdout",
     "output_type": "stream",
     "text": [
      "없음\n"
     ]
    }
   ],
   "source": [
    "i = s.find('바')\n",
    "if i == -1:\n",
    "    print('없음')"
   ]
  },
  {
   "cell_type": "code",
   "execution_count": null,
   "id": "4c3f9900",
   "metadata": {},
   "outputs": [],
   "source": []
  },
  {
   "cell_type": "code",
   "execution_count": 108,
   "id": "a30f0c0a",
   "metadata": {},
   "outputs": [],
   "source": [
    "class Person:\n",
    "    \n",
    "    def __init__(self, name, age):\n",
    "        self.name = name\n",
    "        self.age = age\n",
    "        \n",
    "    # > 연산자 재정의\n",
    "    def __gt__(self, obj):\n",
    "        result = False\n",
    "        if isinstance(obj, Person):# obj가 Person 타입?\n",
    "            result = self.age > obj.age\n",
    "        else:\n",
    "            try:\n",
    "                result = self.age > obj\n",
    "            except:\n",
    "                pass        \n",
    "        return result\n",
    "    \n",
    "#     def __gt__(self, obj):\n",
    "#         result = False\n",
    "#         if isinstance(obj, Person):# obj가 Person 타입?\n",
    "#             result = self.age > obj.age\n",
    "#         elif isinstance(obj, int):\n",
    "#             result = self.age > obj\n",
    "        \n",
    "#         return result"
   ]
  },
  {
   "cell_type": "code",
   "execution_count": 109,
   "id": "73e677e7",
   "metadata": {},
   "outputs": [
    {
     "data": {
      "text/plain": [
       "True"
      ]
     },
     "execution_count": 109,
     "metadata": {},
     "output_type": "execute_result"
    }
   ],
   "source": [
    "p1 = Person('홍길동', 20)\n",
    "p2 = Person('이순신', 15)\n",
    "\n",
    "p1 > p2"
   ]
  },
  {
   "cell_type": "code",
   "execution_count": 110,
   "id": "0fce2424",
   "metadata": {},
   "outputs": [
    {
     "data": {
      "text/plain": [
       "False"
      ]
     },
     "execution_count": 110,
     "metadata": {},
     "output_type": "execute_result"
    }
   ],
   "source": [
    "p1 > 25.5"
   ]
  },
  {
   "cell_type": "code",
   "execution_count": 111,
   "id": "223330fe",
   "metadata": {},
   "outputs": [
    {
     "data": {
      "text/plain": [
       "False"
      ]
     },
     "execution_count": 111,
     "metadata": {},
     "output_type": "execute_result"
    }
   ],
   "source": [
    "p1 > '스무살'"
   ]
  },
  {
   "cell_type": "code",
   "execution_count": 114,
   "id": "17edcd4d",
   "metadata": {},
   "outputs": [
    {
     "ename": "ValueError",
     "evalue": "invalid literal for int() with base 10: 'ab'",
     "output_type": "error",
     "traceback": [
      "\u001b[1;31m---------------------------------------------------------------------------\u001b[0m",
      "\u001b[1;31mValueError\u001b[0m                                Traceback (most recent call last)",
      "\u001b[1;32m~\\AppData\\Local\\Temp/ipykernel_3324/2387052414.py\u001b[0m in \u001b[0;36m<module>\u001b[1;34m\u001b[0m\n\u001b[1;32m----> 1\u001b[1;33m \u001b[0mint\u001b[0m\u001b[1;33m(\u001b[0m\u001b[1;34m'ab'\u001b[0m\u001b[1;33m)\u001b[0m\u001b[1;33m\u001b[0m\u001b[1;33m\u001b[0m\u001b[0m\n\u001b[0m",
      "\u001b[1;31mValueError\u001b[0m: invalid literal for int() with base 10: 'ab'"
     ]
    }
   ],
   "source": [
    "int('ab')"
   ]
  },
  {
   "cell_type": "markdown",
   "id": "a2079f0c",
   "metadata": {},
   "source": [
    "### 사용자 정의 예외 구현과 예외 발생시키기"
   ]
  },
  {
   "cell_type": "code",
   "execution_count": 151,
   "id": "ba952d9d",
   "metadata": {},
   "outputs": [],
   "source": [
    "class InvalidMonthException(Exception):\n",
    "    \n",
    "    def __init__(self, invalid_month):\n",
    "        self.invalid_month = invalid_month\n",
    "        \n",
    "    def __str__(self):\n",
    "        return f'월은 1 ~ 12 사이의 정수만 가능합니다. 사용된 월은 :{self.invalid_month}입니다.'"
   ]
  },
  {
   "cell_type": "code",
   "execution_count": 149,
   "id": "ee6b2ca4",
   "metadata": {},
   "outputs": [],
   "source": [
    "def set_month(month):\n",
    "    if month >= 1 and month <=12:\n",
    "        print(f\"{month}월을 설정했습니다.\")\n",
    "    else:\n",
    "        raise InvalidMonthException(month)\n",
    "#         raise Exception()#예외발생\n"
   ]
  },
  {
   "cell_type": "code",
   "execution_count": 150,
   "id": "6607e466",
   "metadata": {},
   "outputs": [
    {
     "name": "stdout",
     "output_type": "stream",
     "text": [
      "10월을 설정했습니다.\n",
      "1월을 설정했습니다.\n",
      "처리 월은 1 ~ 12 사이의 정수만 가능합니다.  사용된 월은 :-10입니다.\n"
     ]
    }
   ],
   "source": [
    "set_month(10)\n",
    "set_month(1)\n",
    "try:\n",
    "    set_month(-10)\n",
    "except InvalidMonthException as e:\n",
    "    print('처리', e)\n",
    "# except Exception as e:  #변수 e: raise한 Exception 객체가 할당된다.\n",
    "#     print('처리', e)\n",
    "# set_month(1000)"
   ]
  },
  {
   "cell_type": "code",
   "execution_count": null,
   "id": "a5f5cecf",
   "metadata": {},
   "outputs": [],
   "source": [
    "# class Date:\n",
    "    \n",
    "#     def __init__(self, year, month, day):\n",
    "#         self.__month = month\n",
    "        \n",
    "#     def set_month(self, month):\n",
    "#         if month 가 1 ~ 12 사이값아니면        \n",
    "#             예외발생\n",
    "#         self.__month = month\n",
    "        \n",
    "# d.set_month(20)\n",
    "# d.get_month() : 5        "
   ]
  },
  {
   "cell_type": "code",
   "execution_count": null,
   "id": "9ee4e886",
   "metadata": {},
   "outputs": [],
   "source": []
  },
  {
   "cell_type": "code",
   "execution_count": 155,
   "id": "226a7f6c",
   "metadata": {},
   "outputs": [],
   "source": [
    "# NotEnoughStockException 클래스 구현\n",
    "class NotEnoughStockException(Exception):\n",
    "    \n",
    "    # 주문량, 재고량을 Attribute로 저장.\n",
    "    def __init__(self, order_amount, stock_amount):\n",
    "        self.order_amount = order_amount\n",
    "        self.stock_amount = stock_amount\n",
    "        \n",
    "    # 문자열로 변환시 왜 발생했는지를 반환\n",
    "    def __str__(self):\n",
    "        return f\"재고량보다 주문량이 많습니다. 재고량: {self.stock_amount}, 주문량: {self.order_amount}\""
   ]
  },
  {
   "cell_type": "code",
   "execution_count": 158,
   "id": "570bf654",
   "metadata": {},
   "outputs": [],
   "source": [
    "def order(order_amount:int):\n",
    "    \"\"\"\n",
    "    주문 처리하는 함수\n",
    "    [parameter]\n",
    "        order_amount: int -> 주문량\n",
    "    [return]\n",
    "    [Exception]\n",
    "        NotEnoughStockException: 주문량이 재고량보다 많으면 발생.\n",
    "    \"\"\"\n",
    "    stock_amount = 10 #재고량\n",
    "    \n",
    "    if stock_amount < order_amount:  #재고량이 부족하면:\n",
    "        raise NotEnoughStockException(order_amount, stock_amount)   #NotEnoughStockException 발생\n",
    "    \n",
    "    print(\"주문처리 시작\")\n",
    "    stock_amount -= order_amount # 재고량 변경\n",
    "    print('주문정보 저장')\n",
    "    print('주문완료. 남은 재고량:', stock_amount)"
   ]
  },
  {
   "cell_type": "code",
   "execution_count": 164,
   "id": "860cd4fd",
   "metadata": {},
   "outputs": [
    {
     "name": "stdout",
     "output_type": "stream",
     "text": [
      "1차 주문실패 재고량보다 주문량이 많습니다. 재고량: 10, 주문량: 200 10\n",
      "주문처리 시작\n",
      "주문정보 저장\n",
      "주문완료. 남은 재고량: 0\n",
      "다음 단계 작업\n"
     ]
    }
   ],
   "source": [
    "try:    \n",
    "    order(200) #Exception발생가능성 있는 코드 => Exception처리\n",
    "    print(\"주문후  처리할 것\")\n",
    "except NotEnoughStockException as e:\n",
    "    print(\"1차 주문실패\", e, e.stock_amount)\n",
    "    order(e.stock_amount)\n",
    "    \n",
    "print('다음 단계 작업')"
   ]
  },
  {
   "cell_type": "code",
   "execution_count": null,
   "id": "44022060",
   "metadata": {},
   "outputs": [],
   "source": []
  },
  {
   "cell_type": "code",
   "execution_count": null,
   "id": "91be7001",
   "metadata": {},
   "outputs": [],
   "source": []
  },
  {
   "cell_type": "code",
   "execution_count": null,
   "id": "634ca090",
   "metadata": {},
   "outputs": [],
   "source": []
  },
  {
   "cell_type": "code",
   "execution_count": null,
   "id": "4c8628e3",
   "metadata": {},
   "outputs": [],
   "source": []
  },
  {
   "cell_type": "code",
   "execution_count": null,
   "id": "2d3875c8",
   "metadata": {},
   "outputs": [],
   "source": []
  },
  {
   "cell_type": "code",
   "execution_count": null,
   "id": "288b1a50",
   "metadata": {},
   "outputs": [],
   "source": []
  },
  {
   "cell_type": "code",
   "execution_count": null,
   "id": "2781becb",
   "metadata": {},
   "outputs": [],
   "source": []
  }
 ],
 "metadata": {
  "kernelspec": {
   "display_name": "Python 3 (ipykernel)",
   "language": "python",
   "name": "python3"
  },
  "language_info": {
   "codemirror_mode": {
    "name": "ipython",
    "version": 3
   },
   "file_extension": ".py",
   "mimetype": "text/x-python",
   "name": "python",
   "nbconvert_exporter": "python",
   "pygments_lexer": "ipython3",
   "version": "3.9.7"
  }
 },
 "nbformat": 4,
 "nbformat_minor": 5
}
