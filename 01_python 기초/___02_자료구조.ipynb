{
 "cells": [
  {
   "cell_type": "markdown",
   "id": "9c8ad726",
   "metadata": {},
   "source": [
    "# 마크다운\n",
    "\n",
    "  \n",
    "- **셀 변환**\n",
    "   1. m: code sell에서 markdown cell로 변환\n",
    "   1. y: markdown cell에서 code cell로 변환\n",
    "        "
   ]
  },
  {
   "cell_type": "markdown",
   "id": "f9ef4de2",
   "metadata": {},
   "source": [
    "# 리스트\n",
    "\n",
    "- 순서가 있는 자료구조\n",
    "- 생성\n",
    "    - `1 = [값, 값, 값, ..]`"
   ]
  },
  {
   "cell_type": "code",
   "execution_count": 40,
   "id": "915c3fb6",
   "metadata": {},
   "outputs": [],
   "source": [
    "l1 = [1, 2, 10, 30]\n",
    "\n",
    "l2 = [10.7, 5, 'abc', True, None, 30]"
   ]
  },
  {
   "cell_type": "code",
   "execution_count": 41,
   "id": "861ec594",
   "metadata": {},
   "outputs": [
    {
     "name": "stdout",
     "output_type": "stream",
     "text": [
      "1 30\n",
      "abc None\n"
     ]
    }
   ],
   "source": [
    "#조회 : indexing/ slicing\n",
    "#indexing\n",
    "print(l1[0], l1[3])\n",
    "print(l2[2], l2[4])\n"
   ]
  },
  {
   "cell_type": "code",
   "execution_count": 42,
   "id": "663cbeb8",
   "metadata": {},
   "outputs": [
    {
     "ename": "IndexError",
     "evalue": "list index out of range",
     "output_type": "error",
     "traceback": [
      "\u001b[0;31m---------------------------------------------------------------------------\u001b[0m",
      "\u001b[0;31mIndexError\u001b[0m                                Traceback (most recent call last)",
      "Input \u001b[0;32mIn [42]\u001b[0m, in \u001b[0;36m<cell line: 2>\u001b[0;34m()\u001b[0m\n\u001b[1;32m      1\u001b[0m \u001b[38;5;66;03m#없는 index조회 => IndexError 에러 발생\u001b[39;00m\n\u001b[0;32m----> 2\u001b[0m \u001b[43ml1\u001b[49m\u001b[43m[\u001b[49m\u001b[38;5;241;43m10\u001b[39;49m\u001b[43m]\u001b[49m\n",
      "\u001b[0;31mIndexError\u001b[0m: list index out of range"
     ]
    }
   ],
   "source": [
    "#없는 index조회 => IndexError 에러 발생\n",
    "l1[10]"
   ]
  },
  {
   "cell_type": "code",
   "execution_count": 43,
   "id": "0dadcf30",
   "metadata": {},
   "outputs": [
    {
     "name": "stdout",
     "output_type": "stream",
     "text": [
      "l1 원소개수: 4\n",
      "l2 원소개수: 6\n"
     ]
    }
   ],
   "source": [
    "# index내의 원소 개수 조회\n",
    "print('l1 원소개수:', len(l1))\n",
    "print('l2 원소개수:', len(l2))"
   ]
  },
  {
   "cell_type": "code",
   "execution_count": 44,
   "id": "c5e62ac6",
   "metadata": {},
   "outputs": [
    {
     "data": {
      "text/plain": [
       "[10.7, 5, 'abc', True, None, 30]"
      ]
     },
     "execution_count": 44,
     "metadata": {},
     "output_type": "execute_result"
    }
   ],
   "source": [
    "l2"
   ]
  },
  {
   "cell_type": "code",
   "execution_count": 45,
   "id": "fa31edf0",
   "metadata": {},
   "outputs": [
    {
     "name": "stdout",
     "output_type": "stream",
     "text": [
      "['abc', True, None]\n",
      "[10.7, 5, 'abc']\n",
      "[True, None, 30]\n",
      "[10.7, 'abc', None]\n"
     ]
    }
   ],
   "source": [
    "# slicing\n",
    "print(l2[2:5])\n",
    "print(l2[:3]) # 0~2\n",
    "print(l2[3:])\n",
    "print(l2[::2])"
   ]
  },
  {
   "cell_type": "code",
   "execution_count": 46,
   "id": "e26d08b4",
   "metadata": {},
   "outputs": [
    {
     "data": {
      "text/plain": [
       "[100, 5, 'abc', True, None, 30]"
      ]
     },
     "execution_count": 46,
     "metadata": {},
     "output_type": "execute_result"
    }
   ],
   "source": [
    "#리스트는 원소를 변경할 수 있다. 변경 -> 대입연산\n",
    "l2[0] = 100\n",
    "l2"
   ]
  },
  {
   "cell_type": "code",
   "execution_count": 47,
   "id": "2a10a83b",
   "metadata": {},
   "outputs": [
    {
     "data": {
      "text/plain": [
       "[100, 5, 'abc', True, '가나다', 30]"
      ]
     },
     "execution_count": 47,
     "metadata": {},
     "output_type": "execute_result"
    }
   ],
   "source": [
    "l2[4] = '가나다'\n",
    "l2"
   ]
  },
  {
   "cell_type": "code",
   "execution_count": 48,
   "id": "aeecedfe",
   "metadata": {},
   "outputs": [
    {
     "data": {
      "text/plain": [
       "[1, 2, 3, 4, 5, True, '가나다', 30]"
      ]
     },
     "execution_count": 48,
     "metadata": {},
     "output_type": "execute_result"
    }
   ],
   "source": [
    "# slicing을 이용하면 지정한 범위의 원소들을 한번에 바꿀 수 있다.\n",
    "l2[:3] = [1,2,3,4,5] # 0~2 index 값들을 1,2,3,4,5\n",
    "l2"
   ]
  },
  {
   "cell_type": "code",
   "execution_count": 49,
   "id": "de3401d1",
   "metadata": {},
   "outputs": [
    {
     "data": {
      "text/plain": [
       "[1, 2, True, '가나다', 30]"
      ]
     },
     "execution_count": 49,
     "metadata": {},
     "output_type": "execute_result"
    }
   ],
   "source": [
    "l2[2:5] = [] #특정 범위의 원소들을 삭제\n",
    "l2"
   ]
  },
  {
   "cell_type": "code",
   "execution_count": 170,
   "id": "2c03b246",
   "metadata": {},
   "outputs": [
    {
     "data": {
      "text/plain": [
       "[]"
      ]
     },
     "execution_count": 170,
     "metadata": {},
     "output_type": "execute_result"
    }
   ],
   "source": [
    "del l2[0] #하나의 원소만 삭제: del명령어 사용\n",
    "l2"
   ]
  },
  {
   "cell_type": "markdown",
   "id": "26f022aa",
   "metadata": {},
   "source": [
    "**리스트를 포함한 자료구조도 값이다.**\n",
    "- 리스트(자료구조)에 다른 자료구조들을 원소로 추가할 수 있다."
   ]
  },
  {
   "cell_type": "code",
   "execution_count": 53,
   "id": "e4f8abac",
   "metadata": {},
   "outputs": [
    {
     "data": {
      "text/plain": [
       "[1, 2]"
      ]
     },
     "execution_count": 53,
     "metadata": {},
     "output_type": "execute_result"
    }
   ],
   "source": [
    "l3 = [[1,2],[3,4,],[5,6]]\n",
    "l4 = l3[0]\n",
    "l4"
   ]
  },
  {
   "cell_type": "code",
   "execution_count": 55,
   "id": "f5358086",
   "metadata": {},
   "outputs": [
    {
     "data": {
      "text/plain": [
       "2"
      ]
     },
     "execution_count": 55,
     "metadata": {},
     "output_type": "execute_result"
    }
   ],
   "source": [
    "l4[1]"
   ]
  },
  {
   "cell_type": "code",
   "execution_count": 58,
   "id": "9d4788fb",
   "metadata": {},
   "outputs": [
    {
     "name": "stdout",
     "output_type": "stream",
     "text": [
      "2\n",
      "5\n"
     ]
    }
   ],
   "source": [
    "print(l3[0][1])\n",
    "print(l3[2][0])"
   ]
  },
  {
   "cell_type": "code",
   "execution_count": 59,
   "id": "12142ce7",
   "metadata": {},
   "outputs": [],
   "source": [
    "l4 = [\n",
    "       [\n",
    "           [1,2],[3,4],[5,6]\n",
    "       ],\n",
    "       [\n",
    "           [10,20],[30,40],[50,60]\n",
    "       ]    \n",
    "       \n",
    "]"
   ]
  },
  {
   "cell_type": "code",
   "execution_count": 60,
   "id": "a2eb5e61",
   "metadata": {},
   "outputs": [
    {
     "data": {
      "text/plain": [
       "[[[1, 2], [3, 4], [5, 6]], [[10, 20], [30, 40], [50, 60]]]"
      ]
     },
     "execution_count": 60,
     "metadata": {},
     "output_type": "execute_result"
    }
   ],
   "source": [
    "l4"
   ]
  },
  {
   "cell_type": "code",
   "execution_count": 62,
   "id": "884219d3",
   "metadata": {},
   "outputs": [
    {
     "data": {
      "text/plain": [
       "4"
      ]
     },
     "execution_count": 62,
     "metadata": {},
     "output_type": "execute_result"
    }
   ],
   "source": [
    "l4[0][1][1]"
   ]
  },
  {
   "cell_type": "code",
   "execution_count": 63,
   "id": "73c81094",
   "metadata": {},
   "outputs": [
    {
     "data": {
      "text/plain": [
       "60"
      ]
     },
     "execution_count": 63,
     "metadata": {},
     "output_type": "execute_result"
    }
   ],
   "source": [
    "l4[1][2][1]"
   ]
  },
  {
   "cell_type": "markdown",
   "id": "8c1d5db8",
   "metadata": {},
   "source": [
    "### 리스트 연산자\n",
    "- 리스트 + 리스트 : 두 리스트를 합친 새로운 리스트 반환\n",
    "- 리스트 * 정수 : 리스트를 정수만큼 반복해서 합친 새로운 리스트를 반환\n",
    "- 값 in 리스트, 값 not in 리스트 : 리스트안에 값이 있는지(in), 없는지(not in)bool 값으로 반환"
   ]
  },
  {
   "cell_type": "code",
   "execution_count": 64,
   "id": "bad4a073",
   "metadata": {},
   "outputs": [
    {
     "name": "stdout",
     "output_type": "stream",
     "text": [
      "[1, 2, 3, 10, 20, 30]\n"
     ]
    }
   ],
   "source": [
    "l1 = [1,2,3]\n",
    "l2 = [10,20,30]\n",
    "l3 = l1 + l2\n",
    "print(l3)"
   ]
  },
  {
   "cell_type": "code",
   "execution_count": 65,
   "id": "36bcba4b",
   "metadata": {},
   "outputs": [
    {
     "data": {
      "text/plain": [
       "[1, 2, 3, 1, 2, 3, 1, 2, 3]"
      ]
     },
     "execution_count": 65,
     "metadata": {},
     "output_type": "execute_result"
    }
   ],
   "source": [
    "l4 = l1 * 3\n",
    "l4"
   ]
  },
  {
   "cell_type": "code",
   "execution_count": 66,
   "id": "8abf5b03",
   "metadata": {},
   "outputs": [
    {
     "data": {
      "text/plain": [
       "True"
      ]
     },
     "execution_count": 66,
     "metadata": {},
     "output_type": "execute_result"
    }
   ],
   "source": [
    "10 in l1\n",
    "1 in l1"
   ]
  },
  {
   "cell_type": "code",
   "execution_count": 67,
   "id": "f8c5f184",
   "metadata": {},
   "outputs": [
    {
     "data": {
      "text/plain": [
       "False"
      ]
     },
     "execution_count": 67,
     "metadata": {},
     "output_type": "execute_result"
    }
   ],
   "source": [
    "10 not in l1\n",
    "1 not in l1"
   ]
  },
  {
   "cell_type": "markdown",
   "id": "0b4620de",
   "metadata": {},
   "source": [
    "### 리스트 대입\n",
    "여러개의 변수에 리스트의 값들을 한번에 대입"
   ]
  },
  {
   "cell_type": "code",
   "execution_count": 69,
   "id": "7da67b6f",
   "metadata": {},
   "outputs": [
    {
     "name": "stdout",
     "output_type": "stream",
     "text": [
      "1 2 3\n",
      "6\n"
     ]
    }
   ],
   "source": [
    "a, b, c = [1,2,3] #변수와 리스트원소의 개수가 같아야 한다.\n",
    "print(a, b, c)\n",
    "print(a+b+c)"
   ]
  },
  {
   "cell_type": "code",
   "execution_count": 71,
   "id": "950066cb",
   "metadata": {},
   "outputs": [],
   "source": [
    "a, b, c = 10, 20 ,30 #튜플 대입"
   ]
  },
  {
   "cell_type": "code",
   "execution_count": 76,
   "id": "0cec142d",
   "metadata": {},
   "outputs": [
    {
     "data": {
      "text/plain": [
       "[5, 4, 3, 2, 1]"
      ]
     },
     "execution_count": 76,
     "metadata": {},
     "output_type": "execute_result"
    }
   ],
   "source": [
    "l1 = [1,2,3,4,5]\n",
    "\n",
    "l1.reverse()\n",
    "l1"
   ]
  },
  {
   "cell_type": "markdown",
   "id": "4ce7021f",
   "metadata": {},
   "source": [
    "# 튜플(Tuple)\n",
    "- 리스트 처럼 순서가 있는 자료구조    \n",
    "    - index (양수, 음수)로 원소를 관리\n",
    "    - 원소를 변경할 수 없다. (추가, 삭제, 변경 이 안된다.)\n",
    "- 생성"
   ]
  },
  {
   "cell_type": "code",
   "execution_count": 77,
   "id": "88ba73b9",
   "metadata": {},
   "outputs": [],
   "source": [
    "t1 = (1,2,3,4,5) #소괄호로 묶는다.\n",
    "t2 = 10,20,30,40,50 # 소괄호 생략가능"
   ]
  },
  {
   "cell_type": "code",
   "execution_count": 78,
   "id": "f95db0d9",
   "metadata": {},
   "outputs": [
    {
     "data": {
      "text/plain": [
       "(1, 2, 3, 4, 5)"
      ]
     },
     "execution_count": 78,
     "metadata": {},
     "output_type": "execute_result"
    }
   ],
   "source": [
    "t1"
   ]
  },
  {
   "cell_type": "code",
   "execution_count": 79,
   "id": "6f478b20",
   "metadata": {},
   "outputs": [
    {
     "data": {
      "text/plain": [
       "(10, 20, 30, 40, 50)"
      ]
     },
     "execution_count": 79,
     "metadata": {},
     "output_type": "execute_result"
    }
   ],
   "source": [
    "t2"
   ]
  },
  {
   "cell_type": "code",
   "execution_count": 81,
   "id": "adf78c20",
   "metadata": {},
   "outputs": [
    {
     "data": {
      "text/plain": [
       "(10, '가', True)"
      ]
     },
     "execution_count": 81,
     "metadata": {},
     "output_type": "execute_result"
    }
   ],
   "source": [
    "t3 = 10, '가', True\n",
    "t3"
   ]
  },
  {
   "cell_type": "code",
   "execution_count": 82,
   "id": "30629f27",
   "metadata": {},
   "outputs": [
    {
     "data": {
      "text/plain": [
       "(100, int, tuple)"
      ]
     },
     "execution_count": 82,
     "metadata": {},
     "output_type": "execute_result"
    }
   ],
   "source": [
    "t4 = (100) #t4 = 100\n",
    "t4, type(t4), type(t3)"
   ]
  },
  {
   "cell_type": "code",
   "execution_count": 83,
   "id": "07d09410",
   "metadata": {},
   "outputs": [
    {
     "name": "stdout",
     "output_type": "stream",
     "text": [
      "(100,) (100,)\n",
      "<class 'tuple'> <class 'tuple'>\n"
     ]
    }
   ],
   "source": [
    "t5 = (100,) #원소가 하나일 경우 뒤에, 를 붙인다.\n",
    "t6 = 100,\n",
    "print(t5, t6)\n",
    "print(type(t5), type(t6))"
   ]
  },
  {
   "cell_type": "markdown",
   "id": "7b245d4d",
   "metadata": {},
   "source": [
    "### 튜플대입"
   ]
  },
  {
   "cell_type": "code",
   "execution_count": 85,
   "id": "edc9c401",
   "metadata": {},
   "outputs": [
    {
     "data": {
      "text/plain": [
       "(1, 2, 3, 4, 5, 10, 20, 30, 40, 50)"
      ]
     },
     "execution_count": 85,
     "metadata": {},
     "output_type": "execute_result"
    }
   ],
   "source": [
    "t1 +t2"
   ]
  },
  {
   "cell_type": "markdown",
   "id": "f429c370",
   "metadata": {},
   "source": [
    "# 딕셔너리\n",
    " - 데이터를 key: value 쌍(pair)로 모아서 관리하는 자료구조"
   ]
  },
  {
   "cell_type": "code",
   "execution_count": 87,
   "id": "21fb9660",
   "metadata": {},
   "outputs": [
    {
     "data": {
      "text/plain": [
       "{'name': '홍길동', 'age': 20, 'address': '서울'}"
      ]
     },
     "execution_count": 87,
     "metadata": {},
     "output_type": "execute_result"
    }
   ],
   "source": [
    "# 생성\n",
    "person1 = {\"name\":\"홍길동\", \"age\":20, \"address\":\"서울\"}\n",
    "person2 = {\"age\":20, \"name\":\"이순신\", \"address\":\"서울\"}\n",
    "person1"
   ]
  },
  {
   "cell_type": "code",
   "execution_count": 91,
   "id": "03d4c2be",
   "metadata": {},
   "outputs": [
    {
     "name": "stdout",
     "output_type": "stream",
     "text": [
      "홍길동 이순신\n",
      "20 20\n"
     ]
    }
   ],
   "source": [
    "# 값 조회\n",
    "print(person1['name'], person2['name'])\n",
    "print(person1['age'], person2['age'])"
   ]
  },
  {
   "cell_type": "code",
   "execution_count": 92,
   "id": "2d5a1eb3",
   "metadata": {},
   "outputs": [
    {
     "data": {
      "text/plain": [
       "{'name': '한예찬', 'age': 20, 'address': '서울'}"
      ]
     },
     "execution_count": 92,
     "metadata": {},
     "output_type": "execute_result"
    }
   ],
   "source": [
    "# 값 변경\n",
    "person1['name'] = '한예찬'\n",
    "person1"
   ]
  },
  {
   "cell_type": "code",
   "execution_count": 93,
   "id": "a221791f",
   "metadata": {},
   "outputs": [
    {
     "data": {
      "text/plain": [
       "{'name': '한예찬', 'age': 20, 'address': '서울', 'tel': '010-1111-2222'}"
      ]
     },
     "execution_count": 93,
     "metadata": {},
     "output_type": "execute_result"
    }
   ],
   "source": [
    "person1['tel'] = '010-1111-2222' #없는 key에 값을 대입하면 추가가 된다.\n",
    "person1"
   ]
  },
  {
   "cell_type": "code",
   "execution_count": 94,
   "id": "b2f494f4",
   "metadata": {},
   "outputs": [
    {
     "ename": "KeyError",
     "evalue": "'email'",
     "output_type": "error",
     "traceback": [
      "\u001b[0;31m---------------------------------------------------------------------------\u001b[0m",
      "\u001b[0;31mKeyError\u001b[0m                                  Traceback (most recent call last)",
      "Input \u001b[0;32mIn [94]\u001b[0m, in \u001b[0;36m<cell line: 1>\u001b[0;34m()\u001b[0m\n\u001b[0;32m----> 1\u001b[0m \u001b[43mperson1\u001b[49m\u001b[43m[\u001b[49m\u001b[38;5;124;43m'\u001b[39;49m\u001b[38;5;124;43memail\u001b[39;49m\u001b[38;5;124;43m'\u001b[39;49m\u001b[43m]\u001b[49m\n",
      "\u001b[0;31mKeyError\u001b[0m: 'email'"
     ]
    }
   ],
   "source": [
    "person1['email'] # 없는 key 로 조회하면 keyError 발생"
   ]
  },
  {
   "cell_type": "code",
   "execution_count": 101,
   "id": "b40cb86d",
   "metadata": {},
   "outputs": [
    {
     "name": "stdout",
     "output_type": "stream",
     "text": [
      "20\n"
     ]
    }
   ],
   "source": [
    "#dictionary.get('key') : 조회\n",
    "# 없는 키값으로 조회하면 None(기본값), None대신 반환할 기본값을 설정할 수도 있다.\n",
    "v = person2.get('age', '없음')\n",
    "print(v)"
   ]
  },
  {
   "cell_type": "code",
   "execution_count": 103,
   "id": "43be246a",
   "metadata": {},
   "outputs": [
    {
     "data": {
      "text/plain": [
       "(4, 3)"
      ]
     },
     "execution_count": 103,
     "metadata": {},
     "output_type": "execute_result"
    }
   ],
   "source": [
    "len(person1),len(person2)"
   ]
  },
  {
   "cell_type": "code",
   "execution_count": 104,
   "id": "40ec1dce",
   "metadata": {},
   "outputs": [
    {
     "data": {
      "text/plain": [
       "{'name': '한예찬', 'age': 20, 'address': '서울', 'tel': '010-1111-2222'}"
      ]
     },
     "execution_count": 104,
     "metadata": {},
     "output_type": "execute_result"
    }
   ],
   "source": [
    "person1"
   ]
  },
  {
   "cell_type": "code",
   "execution_count": 105,
   "id": "2061336e",
   "metadata": {},
   "outputs": [
    {
     "data": {
      "text/plain": [
       "False"
      ]
     },
     "execution_count": 105,
     "metadata": {},
     "output_type": "execute_result"
    }
   ],
   "source": [
    "'한예찬' in person1"
   ]
  },
  {
   "cell_type": "code",
   "execution_count": 106,
   "id": "3a95c9fd",
   "metadata": {},
   "outputs": [
    {
     "data": {
      "text/plain": [
       "True"
      ]
     },
     "execution_count": 106,
     "metadata": {},
     "output_type": "execute_result"
    }
   ],
   "source": [
    "'name' in person1"
   ]
  },
  {
   "cell_type": "markdown",
   "id": "b18a7731",
   "metadata": {},
   "source": [
    "# 주요 메소드"
   ]
  },
  {
   "cell_type": "code",
   "execution_count": 111,
   "id": "829ce7ef",
   "metadata": {},
   "outputs": [
    {
     "ename": "KeyError",
     "evalue": "'name'",
     "output_type": "error",
     "traceback": [
      "\u001b[0;31m---------------------------------------------------------------------------\u001b[0m",
      "\u001b[0;31mKeyError\u001b[0m                                  Traceback (most recent call last)",
      "Input \u001b[0;32mIn [111]\u001b[0m, in \u001b[0;36m<cell line: 1>\u001b[0;34m()\u001b[0m\n\u001b[0;32m----> 1\u001b[0m \u001b[43mperson1\u001b[49m\u001b[38;5;241;43m.\u001b[39;49m\u001b[43mpop\u001b[49m\u001b[43m(\u001b[49m\u001b[38;5;124;43m'\u001b[39;49m\u001b[38;5;124;43mname\u001b[39;49m\u001b[38;5;124;43m'\u001b[39;49m\u001b[43m)\u001b[49m\n",
      "\u001b[0;31mKeyError\u001b[0m: 'name'"
     ]
    }
   ],
   "source": [
    "person1.pop('name')"
   ]
  },
  {
   "cell_type": "code",
   "execution_count": 108,
   "id": "e5aae39e",
   "metadata": {},
   "outputs": [
    {
     "data": {
      "text/plain": [
       "{'age': 20, 'address': '서울', 'tel': '010-1111-2222'}"
      ]
     },
     "execution_count": 108,
     "metadata": {},
     "output_type": "execute_result"
    }
   ],
   "source": [
    "person1"
   ]
  },
  {
   "cell_type": "code",
   "execution_count": 113,
   "id": "cc88760f",
   "metadata": {},
   "outputs": [
    {
     "ename": "KeyError",
     "evalue": "'age'",
     "output_type": "error",
     "traceback": [
      "\u001b[0;31m---------------------------------------------------------------------------\u001b[0m",
      "\u001b[0;31mKeyError\u001b[0m                                  Traceback (most recent call last)",
      "Input \u001b[0;32mIn [113]\u001b[0m, in \u001b[0;36m<cell line: 1>\u001b[0;34m()\u001b[0m\n\u001b[0;32m----> 1\u001b[0m \u001b[38;5;28;01mdel\u001b[39;00m person1[\u001b[38;5;124m'\u001b[39m\u001b[38;5;124mage\u001b[39m\u001b[38;5;124m'\u001b[39m]\n\u001b[1;32m      2\u001b[0m person1\n",
      "\u001b[0;31mKeyError\u001b[0m: 'age'"
     ]
    }
   ],
   "source": [
    "del person1['age']\n",
    "person1"
   ]
  },
  {
   "cell_type": "code",
   "execution_count": 114,
   "id": "528a8dd9",
   "metadata": {},
   "outputs": [
    {
     "data": {
      "text/plain": [
       "{'address': '서울', 'tel': '010-1111-2222'}"
      ]
     },
     "execution_count": 114,
     "metadata": {},
     "output_type": "execute_result"
    }
   ],
   "source": [
    "person1"
   ]
  },
  {
   "cell_type": "code",
   "execution_count": 116,
   "id": "f73eefe4",
   "metadata": {},
   "outputs": [
    {
     "data": {
      "text/plain": [
       "dict_values(['서울', '010-1111-2222'])"
      ]
     },
     "execution_count": 116,
     "metadata": {},
     "output_type": "execute_result"
    }
   ],
   "source": [
    "person1.values()"
   ]
  },
  {
   "cell_type": "markdown",
   "id": "228aa0d3",
   "metadata": {},
   "source": [
    "# set(집합)\n",
    "- 중복을 허용하지 않는 자료구조"
   ]
  },
  {
   "cell_type": "code",
   "execution_count": 117,
   "id": "849b5763",
   "metadata": {},
   "outputs": [
    {
     "data": {
      "text/plain": [
       "{1, 2, 3, 'a'}"
      ]
     },
     "execution_count": 117,
     "metadata": {},
     "output_type": "execute_result"
    }
   ],
   "source": [
    "s1 = {1,1,1,2,2,2,3,3,3,'a','a','a',True,True,True}\n",
    "s1"
   ]
  },
  {
   "cell_type": "code",
   "execution_count": 142,
   "id": "ce033eda",
   "metadata": {},
   "outputs": [],
   "source": [
    "# 1~7번 문제\n",
    "jumsu = [100, 90, 100, 80, 70, 100, 80, 90, 95, 85] \n",
    "# 위는 학생번호 1번 ~ 10번까지 10명의 시험 점수이다. (문제 1 ~ 7)"
   ]
  },
  {
   "cell_type": "code",
   "execution_count": 121,
   "id": "815e042b",
   "metadata": {},
   "outputs": [
    {
     "data": {
      "text/plain": [
       "80"
      ]
     },
     "execution_count": 121,
     "metadata": {},
     "output_type": "execute_result"
    }
   ],
   "source": [
    "#(1)  7번의 점수를 출력하세요 \n",
    "jumsu[6]"
   ]
  },
  {
   "cell_type": "code",
   "execution_count": 125,
   "id": "5c490d4a",
   "metadata": {},
   "outputs": [
    {
     "data": {
      "text/plain": [
       "[100, 90, 100, 80, 70]"
      ]
     },
     "execution_count": 125,
     "metadata": {},
     "output_type": "execute_result"
    }
   ],
   "source": [
    "#(2)  1번부터 5번까지의 점수를 출력하세요.\n",
    "jumsu[0:5]"
   ]
  },
  {
   "cell_type": "code",
   "execution_count": 124,
   "id": "82e801d4",
   "metadata": {},
   "outputs": [
    {
     "data": {
      "text/plain": [
       "[80, 70, 100, 80]"
      ]
     },
     "execution_count": 124,
     "metadata": {},
     "output_type": "execute_result"
    }
   ],
   "source": [
    "#(3)  4, 5, 6, 7번의 점수를 출력하세요.\n",
    "jumsu[3:7]"
   ]
  },
  {
   "cell_type": "code",
   "execution_count": 128,
   "id": "024dd5aa",
   "metadata": {},
   "outputs": [
    {
     "data": {
      "text/plain": [
       "[90, 80, 100, 90, 85]"
      ]
     },
     "execution_count": 128,
     "metadata": {},
     "output_type": "execute_result"
    }
   ],
   "source": [
    "#(4) 짝수번째 점수를 출력하세요.\n",
    "jumsu[1::2]"
   ]
  },
  {
   "cell_type": "code",
   "execution_count": 129,
   "id": "82850904",
   "metadata": {},
   "outputs": [
    {
     "data": {
      "text/plain": [
       "[100, 100, 70, 80, 95]"
      ]
     },
     "execution_count": 129,
     "metadata": {},
     "output_type": "execute_result"
    }
   ],
   "source": [
    "#(5) 홀수번째 점수를 출력하세요.\n",
    "jumsu[::2]"
   ]
  },
  {
   "cell_type": "code",
   "execution_count": 144,
   "id": "106ce5c2",
   "metadata": {},
   "outputs": [
    {
     "name": "stdout",
     "output_type": "stream",
     "text": [
      "[100, 90, 100, 80, 70, 100, 80, 90, 20, 85]\n"
     ]
    }
   ],
   "source": [
    "#(6) 9번의 점수를 20으로 변경하고 전체 출력하세요.\n",
    "jumsu[8] = 20\n",
    "print(jumsu)"
   ]
  },
  {
   "cell_type": "code",
   "execution_count": 195,
   "id": "623ad19f",
   "metadata": {},
   "outputs": [
    {
     "name": "stdout",
     "output_type": "stream",
     "text": [
      "{100, 70, 80, 20, 85, 90}\n",
      "[100, 70, 80, 20, 85, 90]\n"
     ]
    }
   ],
   "source": [
    "#(7) 중복된 점수는 제거하고 하나씩만 나오도록 출력하세요.\n",
    "s1 = set(jumsu)\n",
    "s2 = list(s1)\n",
    "print(s1)\n",
    "print(s2)"
   ]
  },
  {
   "cell_type": "code",
   "execution_count": 196,
   "id": "77c94f24",
   "metadata": {},
   "outputs": [],
   "source": [
    "# 문제 8 ~ 9\n",
    "fruits = [\"복숭아\", \"수박\", \"딸기\"]"
   ]
  },
  {
   "cell_type": "code",
   "execution_count": 197,
   "id": "3e8745c2",
   "metadata": {},
   "outputs": [
    {
     "data": {
      "text/plain": [
       "['복숭아', '수박', '딸기', '사과', '귤']"
      ]
     },
     "execution_count": 197,
     "metadata": {},
     "output_type": "execute_result"
    }
   ],
   "source": [
    "#(8) fruits 리스트에 마지막 원소로 \"사과\", \"귤\"을 추가하세요.\n",
    "\n",
    "# fruits.append(\"사과\") #하나씩 추가\n",
    "# print(fruits)\n",
    "# fruits.append(\"귤\")\n",
    "# print(fruits)\n",
    "fruits.extend(['사과','귤'])\n",
    "#fruits = fruits + ['사과', '귤']\n",
    "fruits"
   ]
  },
  {
   "cell_type": "code",
   "execution_count": 178,
   "id": "36f8405e",
   "metadata": {},
   "outputs": [
    {
     "name": "stdout",
     "output_type": "stream",
     "text": [
      "['수박', '딸기', '사과', '귤']\n"
     ]
    }
   ],
   "source": [
    "#(9) fruits 리스트에서 \"복숭아\"를 제거하세요.\n",
    "\n",
    "#fruits.remove('복숭아') 값으로 삭제\n",
    "\n",
    "del fruits[0] #index를 이용해서 삭제\n",
    "print(fruits)"
   ]
  },
  {
   "cell_type": "code",
   "execution_count": 207,
   "id": "d3fbd087",
   "metadata": {},
   "outputs": [
    {
     "data": {
      "text/plain": [
       "{'이름': '한예찬',\n",
       " '나이': 28,\n",
       " 'email': 'sdh1541@네이버',\n",
       " '취미': ['운동', '게임'],\n",
       " '결혼유무': '미혼'}"
      ]
     },
     "execution_count": 207,
     "metadata": {},
     "output_type": "execute_result"
    }
   ],
   "source": [
    "# 문제 10 ~ 15\n",
    "#(10)본인의 이름, 나이, email주소, 취미, 결혼유무를 사전(딕셔너리)으로 생성. \n",
    "# 취미는 2개 이상의 값을 넣는다..\n",
    "\n",
    "my = {'이름':'한예찬', '나이':28, 'email':'sdh1541@네이버', '취미':['운동','게임'], '결혼유무':'미혼'}\n",
    "my"
   ]
  },
  {
   "cell_type": "code",
   "execution_count": 208,
   "id": "2cce43d9",
   "metadata": {},
   "outputs": [
    {
     "name": "stdout",
     "output_type": "stream",
     "text": [
      "한예찬 sdh1541@네이버\n"
     ]
    }
   ],
   "source": [
    "#(11) 위 딕셔너리에서 이름과 email주소를 조회해서 출력하세요.\n",
    "print(my['이름'],my['email'])"
   ]
  },
  {
   "cell_type": "code",
   "execution_count": 209,
   "id": "4182f217",
   "metadata": {},
   "outputs": [
    {
     "name": "stdout",
     "output_type": "stream",
     "text": [
      "게임\n"
     ]
    }
   ],
   "source": [
    "#(12) 위 딕셔너리에서 취미중 두번째 취미를 조회해서 출력하세요.\n",
    "print(my['취미'][1])"
   ]
  },
  {
   "cell_type": "code",
   "execution_count": 210,
   "id": "bfd92f17",
   "metadata": {},
   "outputs": [
    {
     "data": {
      "text/plain": [
       "{'이름': '한예찬',\n",
       " '나이': 28,\n",
       " 'email': 'sdh1541@네이버',\n",
       " '취미': ['운동', '게임'],\n",
       " '결혼유무': '미혼',\n",
       " '몸무게': '94kg',\n",
       " '키': '170cm'}"
      ]
     },
     "execution_count": 210,
     "metadata": {},
     "output_type": "execute_result"
    }
   ],
   "source": [
    "#(13) 위 딕셔너리에 몸무게와 키 항목을 추가하세요.\n",
    "my['몸무게'] = '94kg'\n",
    "my['키'] = '170cm'\n",
    "my"
   ]
  },
  {
   "cell_type": "code",
   "execution_count": 211,
   "id": "8fd41d3b",
   "metadata": {},
   "outputs": [
    {
     "data": {
      "text/plain": [
       "{'이름': '한예찬',\n",
       " 'email': 'sdh1541@네이버',\n",
       " '취미': ['운동', '게임'],\n",
       " '결혼유무': '미혼',\n",
       " '몸무게': '94kg',\n",
       " '키': '170cm'}"
      ]
     },
     "execution_count": 211,
     "metadata": {},
     "output_type": "execute_result"
    }
   ],
   "source": [
    "#(14) 위 딕셔너리에서 나이를 제거하세요.\n",
    "del my['나이']\n",
    "my"
   ]
  },
  {
   "cell_type": "code",
   "execution_count": 212,
   "id": "c3226aa3",
   "metadata": {},
   "outputs": [
    {
     "data": {
      "text/plain": [
       "{'이름': '한예찬',\n",
       " 'email': 'sdh1541@다음',\n",
       " '취미': ['운동', '게임'],\n",
       " '결혼유무': '미혼',\n",
       " '몸무게': '94kg',\n",
       " '키': '170cm'}"
      ]
     },
     "execution_count": 212,
     "metadata": {},
     "output_type": "execute_result"
    }
   ],
   "source": [
    "#(15) 위 딕셔너리에서 email 주소를 다른 값으로 변경하세요.\n",
    "my['email'] = 'sdh1541@다음'\n",
    "my"
   ]
  },
  {
   "cell_type": "code",
   "execution_count": null,
   "id": "30a23684",
   "metadata": {},
   "outputs": [],
   "source": []
  },
  {
   "cell_type": "code",
   "execution_count": null,
   "id": "78b3b92c",
   "metadata": {},
   "outputs": [],
   "source": []
  }
 ],
 "metadata": {
  "kernelspec": {
   "display_name": "Python 3 (ipykernel)",
   "language": "python",
   "name": "python3"
  },
  "language_info": {
   "codemirror_mode": {
    "name": "ipython",
    "version": 3
   },
   "file_extension": ".py",
   "mimetype": "text/x-python",
   "name": "python",
   "nbconvert_exporter": "python",
   "pygments_lexer": "ipython3",
   "version": "3.9.7"
  }
 },
 "nbformat": 4,
 "nbformat_minor": 5
}
