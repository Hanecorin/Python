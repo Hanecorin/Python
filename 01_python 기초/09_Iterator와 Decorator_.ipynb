{
 "cells": [
  {
   "cell_type": "markdown",
   "id": "562c702d",
   "metadata": {},
   "source": [
    "# Iterator\n",
    "\n",
    "- Iterable\n",
    "    - 여러개의 데이터를 하나씩 또는 한 단위씩 제공하는 객체.\n",
    "    - 값 하나 하나를 직접 제공하지 않고 Iterator를 이용해 제공한다.\n",
    "    - \\_\\_iter\\_\\_() 특수메소드를 반드시 정의해야 하며 Iterator객체를 반환하도록 구현한다.\n",
    "- Iterator\n",
    "    - 자신을 생성한 Iterable의 값들을 하나씩 또는 한 단위씩 제공하는 객체\n",
    "    - \\_\\_next\\_\\_() 특수메소드를 반드시 정의해야 하며 자신을 생성한 Iterable의 원소를 제공하는 구현을 한다.\n",
    "    "
   ]
  },
  {
   "cell_type": "code",
   "execution_count": 28,
   "id": "ad182b6a",
   "metadata": {},
   "outputs": [],
   "source": [
    "class MyIterable:\n",
    "    \"\"\"\n",
    "    Instance 변수(Attribute)에 제공할 값을 저장.\n",
    "    Iterator를 제공하는 메소드(__init__()) 를 제공\n",
    "    \"\"\"\n",
    "    def __init__(self, *args):\n",
    "        self.values = args\n",
    "\n",
    "    def __str__(self):\n",
    "        return str(self.values )\n",
    "    \n",
    "    def __iter__(self):\n",
    "        \"\"\"\n",
    "        Iterator(MyIterator)객체를 반환\n",
    "        \"\"\"\n",
    "        return MyIterator(self)"
   ]
  },
  {
   "cell_type": "code",
   "execution_count": 29,
   "id": "c52ed1b7",
   "metadata": {},
   "outputs": [],
   "source": [
    "class MyIterator:\n",
    "    \"\"\"\n",
    "    MyIterable의 원소들을 제공하는 Iterator\n",
    "    \"\"\"\n",
    "    def __init__(self, iterable):\n",
    "        self.iterable = iterable\n",
    "        self.index = 0\n",
    "        \n",
    "    def __next__(self):\n",
    "        \"\"\"\n",
    "        Iterable의 원소를 하나씩 제공하는 메소드. (한번 호출되면 한개(단위)의 값을 제공)\n",
    "        \"\"\"\n",
    "        # self.iterable: MyIterable객체. .values: MyIterable의 attribute  => 제공할 값들을 가진 튜플\n",
    "        \n",
    "        if len(self.iterable.values) <= self.index: #\n",
    "#             self.index = 0\n",
    "            raise StopIteration() # 더 제공할 원소가 없다.\n",
    "            \n",
    "        ret_value = self.iterable.values[self.index]# * 10\n",
    "        self.index += 1\n",
    "        return ret_value\n"
   ]
  },
  {
   "cell_type": "code",
   "execution_count": 51,
   "id": "4f4cb66f",
   "metadata": {},
   "outputs": [],
   "source": [
    "# Iterable과 Iterator를 하나의 클래스에 구현\n",
    "class MyIterable2:\n",
    "    \"\"\"\n",
    "    한클래스에 __iter__(), __next__() 를 구현.\n",
    "    \"\"\"\n",
    "    def __init__(self, *args):\n",
    "        self.values = args\n",
    "        self.index = 0\n",
    "        \n",
    "    def __str__(self):\n",
    "        return str(self.values )\n",
    "    \n",
    "    def __iter__(self):\n",
    "        \"\"\"\n",
    "        MyIterable2는 Iterable + Iterator\n",
    "        \"\"\"\n",
    "        return self \n",
    "    \n",
    "    def __next__(self):\n",
    "        \"\"\"\n",
    "        Iterable의 원소를 하나씩 제공하는 메소드. (한번 호출되면 한개(단위)의 값을 제공)\n",
    "        \"\"\"\n",
    "        # self.iterable: MyIterable객체. .values: MyIterable의 attribute  => 제공할 값들을 가진 튜플\n",
    "        \n",
    "        if len(self.values) <= self.index: #\n",
    "#             self.index = 0\n",
    "            raise StopIteration() # 더 제공할 원소가 없다.\n",
    "            \n",
    "        ret_value = self.values[self.index]# * 10\n",
    "        self.index += 1\n",
    "        return ret_value"
   ]
  },
  {
   "cell_type": "code",
   "execution_count": 59,
   "id": "fbc086f2",
   "metadata": {},
   "outputs": [
    {
     "data": {
      "text/plain": [
       "('가', '나', '다')"
      ]
     },
     "execution_count": 59,
     "metadata": {},
     "output_type": "execute_result"
    }
   ],
   "source": [
    "a = MyIterable2('가', '나', '다')\n",
    "next(a), next(a), next(a)"
   ]
  },
  {
   "cell_type": "code",
   "execution_count": 65,
   "id": "a8eeb045",
   "metadata": {},
   "outputs": [],
   "source": [
    "b = MyIterable2('가', '나', '다')\n",
    "c = iter(b)"
   ]
  },
  {
   "cell_type": "code",
   "execution_count": 70,
   "id": "f327c8a4",
   "metadata": {},
   "outputs": [
    {
     "name": "stdout",
     "output_type": "stream",
     "text": [
      "a\n",
      "b\n",
      "c\n"
     ]
    }
   ],
   "source": [
    "for v in MyIterable2('a','b','c'):\n",
    "    print(v)"
   ]
  },
  {
   "cell_type": "code",
   "execution_count": 30,
   "id": "71c8b478",
   "metadata": {},
   "outputs": [
    {
     "name": "stdout",
     "output_type": "stream",
     "text": [
      "<class '__main__.MyIterator'>\n"
     ]
    }
   ],
   "source": [
    "# 1. MyIterable로 부터 Iterator를 조회한다. -> iter(iterable) =>  __iter__() 호출\n",
    "m_iter = MyIterable(1,2,3,4,5,6,7)\n",
    "m_iterator = iter(m_iter)  #m_iter.__iter__()\n",
    "print(type(m_iterator))"
   ]
  },
  {
   "cell_type": "code",
   "execution_count": 31,
   "id": "262bdc7b",
   "metadata": {},
   "outputs": [
    {
     "name": "stdout",
     "output_type": "stream",
     "text": [
      "1\n",
      "2\n",
      "3\n",
      "4\n",
      "5\n",
      "6\n",
      "7\n"
     ]
    }
   ],
   "source": [
    "# 2. 원소를 조회  next(iterator)  ->  iterator.__next__()\n",
    "print(next(m_iterator))\n",
    "print(next(m_iterator))\n",
    "print(next(m_iterator))\n",
    "print(next(m_iterator))\n",
    "print(next(m_iterator))\n",
    "print(next(m_iterator))\n",
    "print(next(m_iterator))"
   ]
  },
  {
   "cell_type": "code",
   "execution_count": 32,
   "id": "b8c383a1",
   "metadata": {
    "collapsed": true
   },
   "outputs": [
    {
     "ename": "StopIteration",
     "evalue": "",
     "output_type": "error",
     "traceback": [
      "\u001b[1;31m---------------------------------------------------------------------------\u001b[0m",
      "\u001b[1;31mStopIteration\u001b[0m                             Traceback (most recent call last)",
      "\u001b[1;32m~\\AppData\\Local\\Temp/ipykernel_844/3745306606.py\u001b[0m in \u001b[0;36m<module>\u001b[1;34m\u001b[0m\n\u001b[1;32m----> 1\u001b[1;33m \u001b[0mprint\u001b[0m\u001b[1;33m(\u001b[0m\u001b[0mnext\u001b[0m\u001b[1;33m(\u001b[0m\u001b[0mm_iterator\u001b[0m\u001b[1;33m)\u001b[0m\u001b[1;33m)\u001b[0m\u001b[1;33m\u001b[0m\u001b[1;33m\u001b[0m\u001b[0m\n\u001b[0m",
      "\u001b[1;32m~\\AppData\\Local\\Temp/ipykernel_844/2735826850.py\u001b[0m in \u001b[0;36m__next__\u001b[1;34m(self)\u001b[0m\n\u001b[0;32m     15\u001b[0m         \u001b[1;32mif\u001b[0m \u001b[0mlen\u001b[0m\u001b[1;33m(\u001b[0m\u001b[0mself\u001b[0m\u001b[1;33m.\u001b[0m\u001b[0miterable\u001b[0m\u001b[1;33m.\u001b[0m\u001b[0mvalues\u001b[0m\u001b[1;33m)\u001b[0m \u001b[1;33m<=\u001b[0m \u001b[0mself\u001b[0m\u001b[1;33m.\u001b[0m\u001b[0mindex\u001b[0m\u001b[1;33m:\u001b[0m \u001b[1;31m#\u001b[0m\u001b[1;33m\u001b[0m\u001b[1;33m\u001b[0m\u001b[0m\n\u001b[0;32m     16\u001b[0m             \u001b[0mself\u001b[0m\u001b[1;33m.\u001b[0m\u001b[0mindex\u001b[0m \u001b[1;33m=\u001b[0m \u001b[1;36m0\u001b[0m\u001b[1;33m\u001b[0m\u001b[1;33m\u001b[0m\u001b[0m\n\u001b[1;32m---> 17\u001b[1;33m             \u001b[1;32mraise\u001b[0m \u001b[0mStopIteration\u001b[0m\u001b[1;33m(\u001b[0m\u001b[1;33m)\u001b[0m\u001b[1;33m\u001b[0m\u001b[1;33m\u001b[0m\u001b[0m\n\u001b[0m\u001b[0;32m     18\u001b[0m \u001b[1;33m\u001b[0m\u001b[0m\n\u001b[0;32m     19\u001b[0m         \u001b[0mret_value\u001b[0m \u001b[1;33m=\u001b[0m \u001b[0mself\u001b[0m\u001b[1;33m.\u001b[0m\u001b[0miterable\u001b[0m\u001b[1;33m.\u001b[0m\u001b[0mvalues\u001b[0m\u001b[1;33m[\u001b[0m\u001b[0mself\u001b[0m\u001b[1;33m.\u001b[0m\u001b[0mindex\u001b[0m\u001b[1;33m]\u001b[0m\u001b[1;33m\u001b[0m\u001b[1;33m\u001b[0m\u001b[0m\n",
      "\u001b[1;31mStopIteration\u001b[0m: "
     ]
    }
   ],
   "source": [
    "print(next(m_iterator))"
   ]
  },
  {
   "cell_type": "code",
   "execution_count": 34,
   "id": "73788e6b",
   "metadata": {},
   "outputs": [
    {
     "name": "stdout",
     "output_type": "stream",
     "text": [
      "1\n",
      "2\n",
      "3\n",
      "4\n",
      "5\n"
     ]
    }
   ],
   "source": [
    "for v in MyIterable(1,2,3,4,5):\n",
    "    print(v)"
   ]
  },
  {
   "cell_type": "code",
   "execution_count": 37,
   "id": "2fc84132",
   "metadata": {},
   "outputs": [],
   "source": [
    "def for_simul(iterable):\n",
    "    iterator = iter(iterable)\n",
    "    while True:\n",
    "        try:\n",
    "            v = next(iterator)\n",
    "            print(v)\n",
    "        except:\n",
    "            break"
   ]
  },
  {
   "cell_type": "code",
   "execution_count": 38,
   "id": "236eb880",
   "metadata": {},
   "outputs": [
    {
     "name": "stdout",
     "output_type": "stream",
     "text": [
      "1\n",
      "2\n",
      "3\n",
      "4\n",
      "5\n"
     ]
    }
   ],
   "source": [
    "for_simul(MyIterable(1,2,3,4,5))"
   ]
  },
  {
   "cell_type": "code",
   "execution_count": 39,
   "id": "33a142e5",
   "metadata": {},
   "outputs": [
    {
     "name": "stdout",
     "output_type": "stream",
     "text": [
      "<class 'list_iterator'>\n"
     ]
    }
   ],
   "source": [
    "l = [1,2,3,4,5,6,7]\n",
    "l_iter = iter(l)\n",
    "print(type(l_iter))"
   ]
  },
  {
   "cell_type": "code",
   "execution_count": 47,
   "id": "19b1f0cb",
   "metadata": {},
   "outputs": [
    {
     "ename": "StopIteration",
     "evalue": "",
     "output_type": "error",
     "traceback": [
      "\u001b[1;31m---------------------------------------------------------------------------\u001b[0m",
      "\u001b[1;31mStopIteration\u001b[0m                             Traceback (most recent call last)",
      "\u001b[1;32m~\\AppData\\Local\\Temp/ipykernel_844/474165646.py\u001b[0m in \u001b[0;36m<module>\u001b[1;34m\u001b[0m\n\u001b[1;32m----> 1\u001b[1;33m \u001b[0mprint\u001b[0m\u001b[1;33m(\u001b[0m\u001b[0mnext\u001b[0m\u001b[1;33m(\u001b[0m\u001b[0ml_iter\u001b[0m\u001b[1;33m)\u001b[0m\u001b[1;33m)\u001b[0m\u001b[1;33m\u001b[0m\u001b[1;33m\u001b[0m\u001b[0m\n\u001b[0m",
      "\u001b[1;31mStopIteration\u001b[0m: "
     ]
    }
   ],
   "source": [
    "print(next(l_iter))"
   ]
  },
  {
   "cell_type": "code",
   "execution_count": 49,
   "id": "e0b97a6f",
   "metadata": {},
   "outputs": [
    {
     "name": "stdout",
     "output_type": "stream",
     "text": [
      "<class 'str_iterator'>\n"
     ]
    }
   ],
   "source": [
    "a = \"abc\"\n",
    "a_iter = iter(a)\n",
    "print(type(a_iter))"
   ]
  },
  {
   "cell_type": "code",
   "execution_count": 50,
   "id": "628d96cb",
   "metadata": {
    "scrolled": true
   },
   "outputs": [
    {
     "name": "stdout",
     "output_type": "stream",
     "text": [
      "a\n",
      "b\n",
      "c\n"
     ]
    },
    {
     "ename": "StopIteration",
     "evalue": "",
     "output_type": "error",
     "traceback": [
      "\u001b[1;31m---------------------------------------------------------------------------\u001b[0m",
      "\u001b[1;31mStopIteration\u001b[0m                             Traceback (most recent call last)",
      "\u001b[1;32m~\\AppData\\Local\\Temp/ipykernel_844/1693334121.py\u001b[0m in \u001b[0;36m<module>\u001b[1;34m\u001b[0m\n\u001b[0;32m      2\u001b[0m \u001b[0mprint\u001b[0m\u001b[1;33m(\u001b[0m\u001b[0mnext\u001b[0m\u001b[1;33m(\u001b[0m\u001b[0ma_iter\u001b[0m\u001b[1;33m)\u001b[0m\u001b[1;33m)\u001b[0m\u001b[1;33m\u001b[0m\u001b[1;33m\u001b[0m\u001b[0m\n\u001b[0;32m      3\u001b[0m \u001b[0mprint\u001b[0m\u001b[1;33m(\u001b[0m\u001b[0mnext\u001b[0m\u001b[1;33m(\u001b[0m\u001b[0ma_iter\u001b[0m\u001b[1;33m)\u001b[0m\u001b[1;33m)\u001b[0m\u001b[1;33m\u001b[0m\u001b[1;33m\u001b[0m\u001b[0m\n\u001b[1;32m----> 4\u001b[1;33m \u001b[0mprint\u001b[0m\u001b[1;33m(\u001b[0m\u001b[0mnext\u001b[0m\u001b[1;33m(\u001b[0m\u001b[0ma_iter\u001b[0m\u001b[1;33m)\u001b[0m\u001b[1;33m)\u001b[0m\u001b[1;33m\u001b[0m\u001b[1;33m\u001b[0m\u001b[0m\n\u001b[0m",
      "\u001b[1;31mStopIteration\u001b[0m: "
     ]
    }
   ],
   "source": [
    "print(next(a_iter))\n",
    "print(next(a_iter))\n",
    "print(next(a_iter))\n",
    "print(next(a_iter))"
   ]
  },
  {
   "cell_type": "markdown",
   "id": "5323e175",
   "metadata": {},
   "source": [
    "# Generator"
   ]
  },
  {
   "cell_type": "code",
   "execution_count": 71,
   "id": "c8bbcb63",
   "metadata": {},
   "outputs": [],
   "source": [
    "# yield - 일시정지 - generator 하나의 값을 반환하는 구문에서 사용.\n",
    "def test_f():\n",
    "    v = 10\n",
    "    return v\n",
    "    v += 10\n",
    "    return v"
   ]
  },
  {
   "cell_type": "code",
   "execution_count": 72,
   "id": "ff43ebdb",
   "metadata": {},
   "outputs": [
    {
     "data": {
      "text/plain": [
       "10"
      ]
     },
     "execution_count": 72,
     "metadata": {},
     "output_type": "execute_result"
    }
   ],
   "source": [
    "# 함수호출\n",
    "test_f()"
   ]
  },
  {
   "cell_type": "code",
   "execution_count": 73,
   "id": "73cfe246",
   "metadata": {},
   "outputs": [
    {
     "data": {
      "text/plain": [
       "10"
      ]
     },
     "execution_count": 73,
     "metadata": {},
     "output_type": "execute_result"
    }
   ],
   "source": [
    "test_f()"
   ]
  },
  {
   "cell_type": "code",
   "execution_count": null,
   "id": "5c15e261",
   "metadata": {},
   "outputs": [],
   "source": [
    "[10, 20, 40, 70]"
   ]
  },
  {
   "cell_type": "code",
   "execution_count": 81,
   "id": "73082e11",
   "metadata": {},
   "outputs": [],
   "source": [
    "def test_g():\n",
    "    v = 10\n",
    "    yield v\n",
    "    \n",
    "    v += 10\n",
    "    yield v\n",
    "    \n",
    "    v += 20\n",
    "    yield v\n",
    "    \n",
    "    v += 30\n",
    "    yield v\n",
    "#     [return None]\n",
    "    return \"종료\"\n",
    "    "
   ]
  },
  {
   "cell_type": "code",
   "execution_count": 82,
   "id": "7b676f37",
   "metadata": {},
   "outputs": [
    {
     "data": {
      "text/plain": [
       "<generator object test_g at 0x000001AEFCB13EB0>"
      ]
     },
     "execution_count": 82,
     "metadata": {},
     "output_type": "execute_result"
    }
   ],
   "source": [
    "# 함수구현에 yield구문이 들어가면 함수가 아니라 Generator가 된다.\n",
    "# Generator 사용 \n",
    "#1. 생성\n",
    "g = test_g()\n",
    "g"
   ]
  },
  {
   "cell_type": "code",
   "execution_count": 83,
   "id": "eec0d627",
   "metadata": {},
   "outputs": [
    {
     "name": "stdout",
     "output_type": "stream",
     "text": [
      "10\n"
     ]
    }
   ],
   "source": [
    "#2. 값 조회 - next()\n",
    "v1 = next(g)  # yield를 만날때 까지 실행후 일시정시 상태. yield의 반환값을 가지고 돌아온다.\n",
    "print(v1)"
   ]
  },
  {
   "cell_type": "code",
   "execution_count": 84,
   "id": "088254db",
   "metadata": {},
   "outputs": [
    {
     "name": "stdout",
     "output_type": "stream",
     "text": [
      "20\n"
     ]
    }
   ],
   "source": [
    "print(next(g))"
   ]
  },
  {
   "cell_type": "code",
   "execution_count": 85,
   "id": "8e7867df",
   "metadata": {},
   "outputs": [
    {
     "name": "stdout",
     "output_type": "stream",
     "text": [
      "40\n"
     ]
    }
   ],
   "source": [
    "print(next(g))"
   ]
  },
  {
   "cell_type": "code",
   "execution_count": 86,
   "id": "f8d27c26",
   "metadata": {},
   "outputs": [
    {
     "name": "stdout",
     "output_type": "stream",
     "text": [
      "70\n"
     ]
    }
   ],
   "source": [
    "print(next(g))"
   ]
  },
  {
   "cell_type": "code",
   "execution_count": 87,
   "id": "04da5f82",
   "metadata": {},
   "outputs": [
    {
     "ename": "StopIteration",
     "evalue": "종료",
     "output_type": "error",
     "traceback": [
      "\u001b[1;31m---------------------------------------------------------------------------\u001b[0m",
      "\u001b[1;31mStopIteration\u001b[0m                             Traceback (most recent call last)",
      "\u001b[1;32m~\\AppData\\Local\\Temp/ipykernel_844/550907137.py\u001b[0m in \u001b[0;36m<module>\u001b[1;34m\u001b[0m\n\u001b[1;32m----> 1\u001b[1;33m \u001b[0mprint\u001b[0m\u001b[1;33m(\u001b[0m\u001b[0mnext\u001b[0m\u001b[1;33m(\u001b[0m\u001b[0mg\u001b[0m\u001b[1;33m)\u001b[0m\u001b[1;33m)\u001b[0m  \u001b[1;31m#Generator가 return 하면(종료) StopIteration 예외를 발생.\u001b[0m\u001b[1;33m\u001b[0m\u001b[1;33m\u001b[0m\u001b[0m\n\u001b[0m",
      "\u001b[1;31mStopIteration\u001b[0m: 종료"
     ]
    }
   ],
   "source": [
    "print(next(g))  #Generator가 return 하면(종료) StopIteration 예외를 발생."
   ]
  },
  {
   "cell_type": "code",
   "execution_count": 88,
   "id": "4a2f3b53",
   "metadata": {},
   "outputs": [
    {
     "name": "stdout",
     "output_type": "stream",
     "text": [
      "10\n",
      "20\n",
      "40\n",
      "70\n"
     ]
    }
   ],
   "source": [
    "for v in test_g():\n",
    "    print(v)"
   ]
  },
  {
   "cell_type": "code",
   "execution_count": 109,
   "id": "c45a5760",
   "metadata": {},
   "outputs": [],
   "source": [
    "# range() 를 generator로 구현\n",
    "def my_range(start, end=None, step=1):\n",
    "    if end == None:\n",
    "        end = start\n",
    "        start = 0\n",
    "    while True:\n",
    "        if start >= end:\n",
    "            break\n",
    "            \n",
    "        yield start\n",
    "        start += step\n",
    "        "
   ]
  },
  {
   "cell_type": "code",
   "execution_count": 110,
   "id": "40a1953d",
   "metadata": {},
   "outputs": [
    {
     "data": {
      "text/plain": [
       "[0, 1, 2, 3, 4]"
      ]
     },
     "execution_count": 110,
     "metadata": {},
     "output_type": "execute_result"
    }
   ],
   "source": [
    "list(my_range(5))"
   ]
  },
  {
   "cell_type": "code",
   "execution_count": null,
   "id": "ced44d76",
   "metadata": {},
   "outputs": [],
   "source": [
    "range(1,10, 2)"
   ]
  },
  {
   "cell_type": "code",
   "execution_count": 90,
   "id": "62da3821",
   "metadata": {},
   "outputs": [
    {
     "data": {
      "text/plain": [
       "([1, 2, 3, 4, 5, 6, 7, 8, 9], [0, 1, 2, 3, 4, 5, 6, 7, 8, 9])"
      ]
     },
     "execution_count": 90,
     "metadata": {},
     "output_type": "execute_result"
    }
   ],
   "source": [
    "list(range(1,10)), list(range(10))"
   ]
  },
  {
   "cell_type": "code",
   "execution_count": 92,
   "id": "3dedd0ed",
   "metadata": {},
   "outputs": [
    {
     "data": {
      "text/plain": [
       "[1, 2, 3, 4, 5, 6, 7, 8, 9]"
      ]
     },
     "execution_count": 92,
     "metadata": {},
     "output_type": "execute_result"
    }
   ],
   "source": [
    "r = my_range(1, 10)\n",
    "list(r)"
   ]
  },
  {
   "cell_type": "code",
   "execution_count": 93,
   "id": "0cd03f5b",
   "metadata": {},
   "outputs": [
    {
     "name": "stdout",
     "output_type": "stream",
     "text": [
      "1\n",
      "4\n",
      "7\n"
     ]
    }
   ],
   "source": [
    "r2 = my_range(1, 10, 3)\n",
    "print(next(r2))\n",
    "print(next(r2))\n",
    "print(next(r2))"
   ]
  },
  {
   "cell_type": "code",
   "execution_count": 94,
   "id": "4c2f440f",
   "metadata": {
    "collapsed": true
   },
   "outputs": [
    {
     "ename": "StopIteration",
     "evalue": "",
     "output_type": "error",
     "traceback": [
      "\u001b[1;31m---------------------------------------------------------------------------\u001b[0m",
      "\u001b[1;31mStopIteration\u001b[0m                             Traceback (most recent call last)",
      "\u001b[1;32m~\\AppData\\Local\\Temp/ipykernel_844/385182656.py\u001b[0m in \u001b[0;36m<module>\u001b[1;34m\u001b[0m\n\u001b[1;32m----> 1\u001b[1;33m \u001b[0mprint\u001b[0m\u001b[1;33m(\u001b[0m\u001b[0mnext\u001b[0m\u001b[1;33m(\u001b[0m\u001b[0mr2\u001b[0m\u001b[1;33m)\u001b[0m\u001b[1;33m)\u001b[0m\u001b[1;33m\u001b[0m\u001b[1;33m\u001b[0m\u001b[0m\n\u001b[0m",
      "\u001b[1;31mStopIteration\u001b[0m: "
     ]
    }
   ],
   "source": [
    "print(next(r2))"
   ]
  },
  {
   "cell_type": "code",
   "execution_count": 95,
   "id": "156a373f",
   "metadata": {},
   "outputs": [],
   "source": [
    "def list_simul(gen):\n",
    "    l = []\n",
    "    for v in gen:\n",
    "        l.append(v)\n",
    "        \n",
    "    return l"
   ]
  },
  {
   "cell_type": "code",
   "execution_count": 101,
   "id": "949d83bf",
   "metadata": {},
   "outputs": [],
   "source": [
    "def list_simul2(gen):\n",
    "    l = []\n",
    "    while True:\n",
    "        try:\n",
    "            v = next(gen)\n",
    "            l.append(v)\n",
    "        except StopIteration:\n",
    "            break\n",
    "    return l"
   ]
  },
  {
   "cell_type": "code",
   "execution_count": 96,
   "id": "4d9bb765",
   "metadata": {},
   "outputs": [
    {
     "data": {
      "text/plain": [
       "[1, 2, 3, 4, 5, 6, 7, 8, 9]"
      ]
     },
     "execution_count": 96,
     "metadata": {},
     "output_type": "execute_result"
    }
   ],
   "source": [
    "list_simul(my_range(1,10))"
   ]
  },
  {
   "cell_type": "code",
   "execution_count": 102,
   "id": "ab3ce734",
   "metadata": {
    "collapsed": true
   },
   "outputs": [
    {
     "data": {
      "text/plain": [
       "[100,\n",
       " 105,\n",
       " 110,\n",
       " 115,\n",
       " 120,\n",
       " 125,\n",
       " 130,\n",
       " 135,\n",
       " 140,\n",
       " 145,\n",
       " 150,\n",
       " 155,\n",
       " 160,\n",
       " 165,\n",
       " 170,\n",
       " 175,\n",
       " 180,\n",
       " 185,\n",
       " 190,\n",
       " 195]"
      ]
     },
     "execution_count": 102,
     "metadata": {},
     "output_type": "execute_result"
    }
   ],
   "source": [
    "list_simul2(my_range(100, 200, 5))"
   ]
  },
  {
   "cell_type": "markdown",
   "id": "ae6dec96",
   "metadata": {},
   "source": [
    "### Generator 표현식\n",
    "- 컴프리헨션을 ( ) 묶는 형태로 만든다."
   ]
  },
  {
   "cell_type": "code",
   "execution_count": 103,
   "id": "362d760e",
   "metadata": {},
   "outputs": [
    {
     "data": {
      "text/plain": [
       "[100, 200, 300, 400, 500, 600, 700, 800, 900]"
      ]
     },
     "execution_count": 103,
     "metadata": {},
     "output_type": "execute_result"
    }
   ],
   "source": [
    "[i*100 for i in range(1, 10)]"
   ]
  },
  {
   "cell_type": "code",
   "execution_count": 105,
   "id": "e0150ec3",
   "metadata": {},
   "outputs": [
    {
     "name": "stdout",
     "output_type": "stream",
     "text": [
      "100\n",
      "200\n",
      "300\n"
     ]
    }
   ],
   "source": [
    "g = ( i*100 for i in range(1, 10) )\n",
    "print(next(g))\n",
    "print(next(g))\n",
    "print(next(g))"
   ]
  },
  {
   "cell_type": "code",
   "execution_count": 106,
   "id": "c6c0a7a7",
   "metadata": {},
   "outputs": [
    {
     "name": "stdout",
     "output_type": "stream",
     "text": [
      "400, 500, 600, 700, 800, 900, "
     ]
    }
   ],
   "source": [
    "for v in g:\n",
    "    print(v, end=', ')"
   ]
  },
  {
   "cell_type": "code",
   "execution_count": null,
   "id": "9149af6a",
   "metadata": {},
   "outputs": [],
   "source": [
    "def my_g():\n",
    "    for i in in range(1, 10):\n",
    "        if i % 2 == 0:\n",
    "            yield i*100"
   ]
  },
  {
   "cell_type": "code",
   "execution_count": 108,
   "id": "be229fd9",
   "metadata": {},
   "outputs": [
    {
     "data": {
      "text/plain": [
       "[0, 200, 400, 600, 800]"
      ]
     },
     "execution_count": 108,
     "metadata": {},
     "output_type": "execute_result"
    }
   ],
   "source": [
    "g2 = (i * 100 for i in range(10) if i % 2 == 0)\n",
    "list(g2)"
   ]
  },
  {
   "cell_type": "markdown",
   "id": "b46580f2",
   "metadata": {},
   "source": [
    "# 지역함수(Local Function)"
   ]
  },
  {
   "cell_type": "code",
   "execution_count": 111,
   "id": "b7fe1250",
   "metadata": {},
   "outputs": [],
   "source": [
    "def test():\n",
    "    print('hello')"
   ]
  },
  {
   "cell_type": "code",
   "execution_count": 112,
   "id": "a2eb81b8",
   "metadata": {},
   "outputs": [
    {
     "name": "stdout",
     "output_type": "stream",
     "text": [
      "hello\n"
     ]
    }
   ],
   "source": [
    "# 호출\n",
    "test()"
   ]
  },
  {
   "cell_type": "code",
   "execution_count": 114,
   "id": "ff2630f1",
   "metadata": {},
   "outputs": [],
   "source": [
    "# 함수자체(객체)\n",
    "a = test"
   ]
  },
  {
   "cell_type": "code",
   "execution_count": 115,
   "id": "e0f996aa",
   "metadata": {},
   "outputs": [
    {
     "name": "stdout",
     "output_type": "stream",
     "text": [
      "hello\n"
     ]
    }
   ],
   "source": [
    "a()"
   ]
  },
  {
   "cell_type": "code",
   "execution_count": 116,
   "id": "5c7308ba",
   "metadata": {},
   "outputs": [],
   "source": [
    "def f(fun):  #매개변수로 함수를 받겠다.  \n",
    "    fun()"
   ]
  },
  {
   "cell_type": "code",
   "execution_count": 117,
   "id": "e8437829",
   "metadata": {},
   "outputs": [
    {
     "name": "stdout",
     "output_type": "stream",
     "text": [
      "hello\n"
     ]
    }
   ],
   "source": [
    "f(test)"
   ]
  },
  {
   "cell_type": "code",
   "execution_count": 118,
   "id": "28c74a2d",
   "metadata": {},
   "outputs": [],
   "source": [
    "def f2():\n",
    "    return test  #test 함수를 반환"
   ]
  },
  {
   "cell_type": "code",
   "execution_count": 119,
   "id": "cf87fb88",
   "metadata": {},
   "outputs": [
    {
     "name": "stdout",
     "output_type": "stream",
     "text": [
      "hello\n"
     ]
    }
   ],
   "source": [
    "b = f2()\n",
    "b()"
   ]
  },
  {
   "cell_type": "code",
   "execution_count": 157,
   "id": "01879254",
   "metadata": {},
   "outputs": [],
   "source": [
    "# 지역변수 (Local variable) - 함수내에서 선언한 변수 - 사용범위: 함수 내에서만 사용가능 (메모리에 loading - 함수시작, 함수가 종료되면 메모리에서 제거.)\n",
    "def test():\n",
    "    # var1, var2: 지역변수 - \n",
    "    var1 = 10\n",
    "    var2 = 20\n",
    "    print(var1 + var2)"
   ]
  },
  {
   "cell_type": "code",
   "execution_count": 121,
   "id": "9ba7f527",
   "metadata": {},
   "outputs": [
    {
     "name": "stdout",
     "output_type": "stream",
     "text": [
      "30\n"
     ]
    }
   ],
   "source": [
    "test()"
   ]
  },
  {
   "cell_type": "code",
   "execution_count": 135,
   "id": "fa7febd9",
   "metadata": {},
   "outputs": [],
   "source": [
    "g_var = 10  # 전역변수 - global variable\n",
    "\n",
    "def test2():\n",
    "    var1 = 10   #지역변수\n",
    "#     g_var = 200 #지역변수 g_var를 정의\n",
    "    global g_var  #g_var 는 전역변수다 => 전역변수를 함수안에서 사용하려면 먼저 사용하겠다고 선언해야 한다.\n",
    "    g_var = 30000   \n",
    "    print(var1 + g_var)\n",
    "    \n",
    "def test3():\n",
    "    var2 = 20\n",
    "    print(var2 * g_var)"
   ]
  },
  {
   "cell_type": "code",
   "execution_count": 136,
   "id": "eda530d2",
   "metadata": {},
   "outputs": [
    {
     "name": "stdout",
     "output_type": "stream",
     "text": [
      "30010\n"
     ]
    }
   ],
   "source": [
    "test2()"
   ]
  },
  {
   "cell_type": "code",
   "execution_count": 137,
   "id": "04bae290",
   "metadata": {},
   "outputs": [
    {
     "name": "stdout",
     "output_type": "stream",
     "text": [
      "30000\n"
     ]
    }
   ],
   "source": [
    "print(g_var)"
   ]
  },
  {
   "cell_type": "code",
   "execution_count": 128,
   "id": "4acbf646",
   "metadata": {},
   "outputs": [
    {
     "name": "stdout",
     "output_type": "stream",
     "text": [
      "200\n"
     ]
    }
   ],
   "source": [
    "test3()"
   ]
  },
  {
   "cell_type": "code",
   "execution_count": 125,
   "id": "8d1ef38e",
   "metadata": {},
   "outputs": [
    {
     "data": {
      "text/plain": [
       "10"
      ]
     },
     "execution_count": 125,
     "metadata": {},
     "output_type": "execute_result"
    }
   ],
   "source": [
    "g_var"
   ]
  },
  {
   "cell_type": "code",
   "execution_count": 126,
   "id": "e78772e1",
   "metadata": {},
   "outputs": [
    {
     "ename": "NameError",
     "evalue": "name 'var1' is not defined",
     "output_type": "error",
     "traceback": [
      "\u001b[1;31m---------------------------------------------------------------------------\u001b[0m",
      "\u001b[1;31mNameError\u001b[0m                                 Traceback (most recent call last)",
      "\u001b[1;32m~\\AppData\\Local\\Temp/ipykernel_844/2376987541.py\u001b[0m in \u001b[0;36m<module>\u001b[1;34m\u001b[0m\n\u001b[1;32m----> 1\u001b[1;33m \u001b[0mvar1\u001b[0m\u001b[1;33m\u001b[0m\u001b[1;33m\u001b[0m\u001b[0m\n\u001b[0m",
      "\u001b[1;31mNameError\u001b[0m: name 'var1' is not defined"
     ]
    }
   ],
   "source": [
    "var1"
   ]
  },
  {
   "cell_type": "code",
   "execution_count": 162,
   "id": "327db809",
   "metadata": {},
   "outputs": [],
   "source": [
    "# 지역함수 - 함수안에 함수를 선언\n",
    "def outer():\n",
    "    outer_var = \"외부함수의 변수\"\n",
    "    def inner(a):\n",
    "        print(10, a)\n",
    "        print(outer_var)\n",
    "        return 10 - a\n",
    "    \n",
    "    return inner\n",
    "#     inner(300)"
   ]
  },
  {
   "cell_type": "code",
   "execution_count": 164,
   "id": "c7ae04b9",
   "metadata": {},
   "outputs": [
    {
     "name": "stdout",
     "output_type": "stream",
     "text": [
      "10 100\n",
      "외부함수의 변수\n",
      "-90\n"
     ]
    }
   ],
   "source": [
    "f = outer()  #f함수 == outer의 inner 함수\n",
    "\n",
    "\n",
    "inner_return_value = f(100)\n",
    "print(inner_return_value)"
   ]
  },
  {
   "cell_type": "markdown",
   "id": "855927bc",
   "metadata": {},
   "source": [
    "## Decorator"
   ]
  },
  {
   "cell_type": "code",
   "execution_count": 182,
   "id": "9cb06cbb",
   "metadata": {},
   "outputs": [],
   "source": [
    "def a_func():\n",
    "    print(\"안녕하세요\")\n",
    "    \n",
    "def b_func():\n",
    "    print(\"How are you?\")"
   ]
  },
  {
   "cell_type": "code",
   "execution_count": 180,
   "id": "f91190c3",
   "metadata": {},
   "outputs": [
    {
     "name": "stdout",
     "output_type": "stream",
     "text": [
      "------------------------------\n",
      "안녕하세요\n",
      "------------------------------\n"
     ]
    }
   ],
   "source": [
    "print('-'*30)\n",
    "a_func()\n",
    "print('-'*30)"
   ]
  },
  {
   "cell_type": "code",
   "execution_count": 177,
   "id": "4f0df229",
   "metadata": {},
   "outputs": [],
   "source": [
    "# original 함수를 매개변수로 받는다.\n",
    "def dash_decorator(func):\n",
    "    # original 함수 전/후로 추가 처리를 하는 지역함수를 정의\n",
    "    def wrapper():\n",
    "        print('-'*30)\n",
    "        func()\n",
    "        print(\"-\"*30)\n",
    "    \n",
    "    return wrapper"
   ]
  },
  {
   "cell_type": "code",
   "execution_count": 178,
   "id": "15e32daf",
   "metadata": {},
   "outputs": [
    {
     "name": "stdout",
     "output_type": "stream",
     "text": [
      "------------------------------\n",
      "안녕하세요\n",
      "------------------------------\n"
     ]
    }
   ],
   "source": [
    "f = dash_decorator(a_func)\n",
    "f()  #wrapper() 호출"
   ]
  },
  {
   "cell_type": "code",
   "execution_count": 183,
   "id": "38292dea",
   "metadata": {},
   "outputs": [
    {
     "name": "stdout",
     "output_type": "stream",
     "text": [
      "------------------------------\n",
      "How are you?\n",
      "------------------------------\n"
     ]
    }
   ],
   "source": [
    "f2 = dash_decorator(b_func)\n",
    "f2()"
   ]
  },
  {
   "cell_type": "code",
   "execution_count": 190,
   "id": "93a9438b",
   "metadata": {},
   "outputs": [],
   "source": [
    "def sharp_decorator(func):\n",
    "    \n",
    "    def wrapper():\n",
    "        print('#'*20)\n",
    "        func()\n",
    "        print('#'*20)\n",
    "    \n",
    "    return wrapper"
   ]
  },
  {
   "cell_type": "code",
   "execution_count": 191,
   "id": "94b9a263",
   "metadata": {},
   "outputs": [
    {
     "name": "stdout",
     "output_type": "stream",
     "text": [
      "####################\n",
      "안녕하세요\n",
      "####################\n"
     ]
    }
   ],
   "source": [
    "f3 = sharp_decorator(a_func)\n",
    "f3()"
   ]
  },
  {
   "cell_type": "code",
   "execution_count": 192,
   "id": "51875fa1",
   "metadata": {},
   "outputs": [
    {
     "name": "stdout",
     "output_type": "stream",
     "text": [
      "####################\n",
      "How are you?\n",
      "####################\n"
     ]
    }
   ],
   "source": [
    "f4 = sharp_decorator(b_func)\n",
    "f4()"
   ]
  },
  {
   "cell_type": "code",
   "execution_count": 187,
   "id": "a717b03b",
   "metadata": {},
   "outputs": [
    {
     "name": "stdout",
     "output_type": "stream",
     "text": [
      "안녕하세요\n"
     ]
    }
   ],
   "source": [
    "a_func()"
   ]
  },
  {
   "cell_type": "code",
   "execution_count": 211,
   "id": "eccc5a3a",
   "metadata": {},
   "outputs": [],
   "source": [
    "@sharp_decorator   # greeting_kor함수에 dash_decorator 장식자(decorator)를 붙여서 전/후처리를 진행해라.\n",
    "def greeting_kor():\n",
    "    print(\"안녕하세요\")"
   ]
  },
  {
   "cell_type": "code",
   "execution_count": 212,
   "id": "18d5c27f",
   "metadata": {},
   "outputs": [
    {
     "name": "stdout",
     "output_type": "stream",
     "text": [
      "####################\n",
      "안녕하세요\n",
      "####################\n"
     ]
    }
   ],
   "source": [
    "greeting_kor()"
   ]
  },
  {
   "cell_type": "code",
   "execution_count": 195,
   "id": "b27695e1",
   "metadata": {},
   "outputs": [
    {
     "name": "stdout",
     "output_type": "stream",
     "text": [
      "------------------------------\n",
      "안녕하세요\n",
      "------------------------------\n"
     ]
    }
   ],
   "source": [
    "# ff = dash_decorator(greeting_kor)\n",
    "# ff()"
   ]
  },
  {
   "cell_type": "code",
   "execution_count": 209,
   "id": "be21d74c",
   "metadata": {},
   "outputs": [],
   "source": [
    "@dash_decorator\n",
    "def greeting_eng():\n",
    "    print(\"Hello\")"
   ]
  },
  {
   "cell_type": "code",
   "execution_count": 210,
   "id": "6d010ee3",
   "metadata": {},
   "outputs": [
    {
     "name": "stdout",
     "output_type": "stream",
     "text": [
      "------------------------------\n",
      "Hello\n",
      "------------------------------\n"
     ]
    }
   ],
   "source": [
    "greeting_eng()"
   ]
  },
  {
   "cell_type": "code",
   "execution_count": 204,
   "id": "a42a5402",
   "metadata": {},
   "outputs": [
    {
     "name": "stdout",
     "output_type": "stream",
     "text": [
      "####################\n",
      "Hello\n",
      "####################\n"
     ]
    }
   ],
   "source": [
    "ff = sharp_decorator(greeting_eng)\n",
    "ff()"
   ]
  },
  {
   "cell_type": "markdown",
   "id": "bd959998",
   "metadata": {},
   "source": [
    "#### 매개변수가 있는 함수에 대한 decorator 만들기"
   ]
  },
  {
   "cell_type": "code",
   "execution_count": 221,
   "id": "44f3b4ba",
   "metadata": {},
   "outputs": [],
   "source": [
    "def sharp_decorator2(func):\n",
    "    \n",
    "    def wrapper(name, age): # wrapper에서 매개변수를 선언.\n",
    "        print('#'*20)\n",
    "        func(name, age) # 함수 호출시 전달\n",
    "        print('#'*20)\n",
    "    \n",
    "    return wrapper"
   ]
  },
  {
   "cell_type": "code",
   "execution_count": 244,
   "id": "1f3b459e",
   "metadata": {},
   "outputs": [],
   "source": [
    "def percent_decorator(func):\n",
    "    \"\"\"\n",
    "    kor_greeting에 적용할 decorator\n",
    "    [parameter]\n",
    "        func: 함수 - kor_greeting함수\n",
    "    [return]\n",
    "        함수 - kor_greeting 전후로 % 장식을 출력하는 함수\n",
    "    [exception]\n",
    "    \"\"\"\n",
    "    def wrapper(name, age):\n",
    "#         print('%'*30) #전처리\n",
    "        # name, age 유효성 체크\n",
    "        if (not name) or (age <= 0): #빈문자열 이거나 0 이하면\n",
    "            raise Exception(\"이름이 빈문자열 또는 나이에 0을 입력할 수 없습니다.\")\n",
    "        func(name, age)\n",
    "        print('%'*50) #후처리\n",
    "    \n",
    "    return wrapper"
   ]
  },
  {
   "cell_type": "code",
   "execution_count": 240,
   "id": "7c2e0995",
   "metadata": {},
   "outputs": [],
   "source": [
    "# @sharp_decorator2\n",
    "@percent_decorator\n",
    "def kor_greeting(name, age):\n",
    "    greeting = f\"{age}세 {name}님 안녕하세요\"\n",
    "    print(greeting)"
   ]
  },
  {
   "cell_type": "code",
   "execution_count": 241,
   "id": "d2130cd7",
   "metadata": {},
   "outputs": [
    {
     "name": "stdout",
     "output_type": "stream",
     "text": [
      "15세 홍길동님 안녕하세요\n",
      "%%%%%%%%%%%%%%%%%%%%%%%%%%%%%%%%%%%%%%%%%%%%%%%%%%\n"
     ]
    }
   ],
   "source": [
    "kor_greeting('홍길동', 15)"
   ]
  },
  {
   "cell_type": "code",
   "execution_count": 243,
   "id": "e1a3b796",
   "metadata": {},
   "outputs": [
    {
     "ename": "Exception",
     "evalue": "이름이 빈문자열 또는 나이에 0을 입력할 수 없습니다.",
     "output_type": "error",
     "traceback": [
      "\u001b[1;31m---------------------------------------------------------------------------\u001b[0m",
      "\u001b[1;31mException\u001b[0m                                 Traceback (most recent call last)",
      "\u001b[1;32m~\\AppData\\Local\\Temp/ipykernel_844/3549690000.py\u001b[0m in \u001b[0;36m<module>\u001b[1;34m\u001b[0m\n\u001b[1;32m----> 1\u001b[1;33m \u001b[0mkor_greeting\u001b[0m\u001b[1;33m(\u001b[0m\u001b[1;34m'이순신'\u001b[0m\u001b[1;33m,\u001b[0m \u001b[1;36m0\u001b[0m\u001b[1;33m)\u001b[0m\u001b[1;33m\u001b[0m\u001b[1;33m\u001b[0m\u001b[0m\n\u001b[0m",
      "\u001b[1;32m~\\AppData\\Local\\Temp/ipykernel_844/944452604.py\u001b[0m in \u001b[0;36mwrapper\u001b[1;34m(name, age)\u001b[0m\n\u001b[0;32m     12\u001b[0m         \u001b[1;31m# name, age 유효성 체크\u001b[0m\u001b[1;33m\u001b[0m\u001b[1;33m\u001b[0m\u001b[0m\n\u001b[0;32m     13\u001b[0m         \u001b[1;32mif\u001b[0m \u001b[1;33m(\u001b[0m\u001b[1;32mnot\u001b[0m \u001b[0mname\u001b[0m\u001b[1;33m)\u001b[0m \u001b[1;32mor\u001b[0m \u001b[1;33m(\u001b[0m\u001b[1;32mnot\u001b[0m \u001b[0mage\u001b[0m\u001b[1;33m)\u001b[0m\u001b[1;33m:\u001b[0m \u001b[1;31m#빈문자열 이거나 0이면\u001b[0m\u001b[1;33m\u001b[0m\u001b[1;33m\u001b[0m\u001b[0m\n\u001b[1;32m---> 14\u001b[1;33m             \u001b[1;32mraise\u001b[0m \u001b[0mException\u001b[0m\u001b[1;33m(\u001b[0m\u001b[1;34m\"이름이 빈문자열 또는 나이에 0을 입력할 수 없습니다.\"\u001b[0m\u001b[1;33m)\u001b[0m\u001b[1;33m\u001b[0m\u001b[1;33m\u001b[0m\u001b[0m\n\u001b[0m\u001b[0;32m     15\u001b[0m         \u001b[0mfunc\u001b[0m\u001b[1;33m(\u001b[0m\u001b[0mname\u001b[0m\u001b[1;33m,\u001b[0m \u001b[0mage\u001b[0m\u001b[1;33m)\u001b[0m\u001b[1;33m\u001b[0m\u001b[1;33m\u001b[0m\u001b[0m\n\u001b[0;32m     16\u001b[0m         \u001b[0mprint\u001b[0m\u001b[1;33m(\u001b[0m\u001b[1;34m'%'\u001b[0m\u001b[1;33m*\u001b[0m\u001b[1;36m50\u001b[0m\u001b[1;33m)\u001b[0m \u001b[1;31m#후처리\u001b[0m\u001b[1;33m\u001b[0m\u001b[1;33m\u001b[0m\u001b[0m\n",
      "\u001b[1;31mException\u001b[0m: 이름이 빈문자열 또는 나이에 0을 입력할 수 없습니다."
     ]
    }
   ],
   "source": [
    "kor_greeting('이순신', 0)"
   ]
  },
  {
   "cell_type": "code",
   "execution_count": 242,
   "id": "dc4c8fec",
   "metadata": {},
   "outputs": [
    {
     "ename": "Exception",
     "evalue": "이름이 빈문자열 또는 나이에 0을 입력할 수 없습니다.",
     "output_type": "error",
     "traceback": [
      "\u001b[1;31m---------------------------------------------------------------------------\u001b[0m",
      "\u001b[1;31mException\u001b[0m                                 Traceback (most recent call last)",
      "\u001b[1;32m~\\AppData\\Local\\Temp/ipykernel_844/2443587559.py\u001b[0m in \u001b[0;36m<module>\u001b[1;34m\u001b[0m\n\u001b[1;32m----> 1\u001b[1;33m \u001b[0mkor_greeting\u001b[0m\u001b[1;33m(\u001b[0m\u001b[1;34m''\u001b[0m\u001b[1;33m,\u001b[0m \u001b[1;36m20\u001b[0m\u001b[1;33m)\u001b[0m\u001b[1;33m\u001b[0m\u001b[1;33m\u001b[0m\u001b[0m\n\u001b[0m",
      "\u001b[1;32m~\\AppData\\Local\\Temp/ipykernel_844/944452604.py\u001b[0m in \u001b[0;36mwrapper\u001b[1;34m(name, age)\u001b[0m\n\u001b[0;32m     12\u001b[0m         \u001b[1;31m# name, age 유효성 체크\u001b[0m\u001b[1;33m\u001b[0m\u001b[1;33m\u001b[0m\u001b[0m\n\u001b[0;32m     13\u001b[0m         \u001b[1;32mif\u001b[0m \u001b[1;33m(\u001b[0m\u001b[1;32mnot\u001b[0m \u001b[0mname\u001b[0m\u001b[1;33m)\u001b[0m \u001b[1;32mor\u001b[0m \u001b[1;33m(\u001b[0m\u001b[1;32mnot\u001b[0m \u001b[0mage\u001b[0m\u001b[1;33m)\u001b[0m\u001b[1;33m:\u001b[0m \u001b[1;31m#빈문자열 이거나 0이면\u001b[0m\u001b[1;33m\u001b[0m\u001b[1;33m\u001b[0m\u001b[0m\n\u001b[1;32m---> 14\u001b[1;33m             \u001b[1;32mraise\u001b[0m \u001b[0mException\u001b[0m\u001b[1;33m(\u001b[0m\u001b[1;34m\"이름이 빈문자열 또는 나이에 0을 입력할 수 없습니다.\"\u001b[0m\u001b[1;33m)\u001b[0m\u001b[1;33m\u001b[0m\u001b[1;33m\u001b[0m\u001b[0m\n\u001b[0m\u001b[0;32m     15\u001b[0m         \u001b[0mfunc\u001b[0m\u001b[1;33m(\u001b[0m\u001b[0mname\u001b[0m\u001b[1;33m,\u001b[0m \u001b[0mage\u001b[0m\u001b[1;33m)\u001b[0m\u001b[1;33m\u001b[0m\u001b[1;33m\u001b[0m\u001b[0m\n\u001b[0;32m     16\u001b[0m         \u001b[0mprint\u001b[0m\u001b[1;33m(\u001b[0m\u001b[1;34m'%'\u001b[0m\u001b[1;33m*\u001b[0m\u001b[1;36m50\u001b[0m\u001b[1;33m)\u001b[0m \u001b[1;31m#후처리\u001b[0m\u001b[1;33m\u001b[0m\u001b[1;33m\u001b[0m\u001b[0m\n",
      "\u001b[1;31mException\u001b[0m: 이름이 빈문자열 또는 나이에 0을 입력할 수 없습니다."
     ]
    }
   ],
   "source": [
    "kor_greeting('', 20)"
   ]
  },
  {
   "cell_type": "code",
   "execution_count": null,
   "id": "da292884",
   "metadata": {},
   "outputs": [],
   "source": [
    "w = sharp_decorator(kor_greeting)\n",
    "w('홍길동', 15)"
   ]
  },
  {
   "cell_type": "markdown",
   "id": "6121017a",
   "metadata": {},
   "source": [
    "# TODO\n",
    "함수가 실행된 실행시간(초)을 재는 decorator"
   ]
  },
  {
   "cell_type": "code",
   "execution_count": 245,
   "id": "9b48dc67",
   "metadata": {},
   "outputs": [
    {
     "data": {
      "text/plain": [
       "1653032517.6961188"
      ]
     },
     "execution_count": 245,
     "metadata": {},
     "output_type": "execute_result"
    }
   ],
   "source": [
    "import time\n",
    "\n",
    "time.time() # 1970년 1월 1일 0시 0분 0초 0밀리초  부터 코드 실행시점까지 몇초 지났는지 반환."
   ]
  },
  {
   "cell_type": "code",
   "execution_count": 246,
   "id": "4878b169",
   "metadata": {},
   "outputs": [
    {
     "data": {
      "text/plain": [
       "1653032547.0827932"
      ]
     },
     "execution_count": 246,
     "metadata": {},
     "output_type": "execute_result"
    }
   ],
   "source": [
    "time.time()"
   ]
  },
  {
   "cell_type": "code",
   "execution_count": 250,
   "id": "41c29f75",
   "metadata": {},
   "outputs": [],
   "source": [
    "start = time.time()"
   ]
  },
  {
   "cell_type": "code",
   "execution_count": 251,
   "id": "03b5a319",
   "metadata": {},
   "outputs": [],
   "source": [
    "end = time.time()"
   ]
  },
  {
   "cell_type": "code",
   "execution_count": 253,
   "id": "a038b090",
   "metadata": {},
   "outputs": [
    {
     "data": {
      "text/plain": [
       "7.4225"
      ]
     },
     "execution_count": 253,
     "metadata": {},
     "output_type": "execute_result"
    }
   ],
   "source": [
    "round(end - start, 4)"
   ]
  },
  {
   "cell_type": "code",
   "execution_count": 256,
   "id": "16b1842c",
   "metadata": {},
   "outputs": [
    {
     "name": "stdout",
     "output_type": "stream",
     "text": [
      "a\n",
      "b\n"
     ]
    }
   ],
   "source": [
    "print('a')\n",
    "time.sleep(2)  #정수: 초  - 지정한 초만큼 기다린다.\n",
    "print('b')"
   ]
  },
  {
   "cell_type": "code",
   "execution_count": 284,
   "id": "f8d16fd8",
   "metadata": {},
   "outputs": [],
   "source": [
    "import time\n",
    "\n",
    "def timechecker(func):\n",
    "    \n",
    "    def wrapper(txt):\n",
    "        s_time = time.time()\n",
    "        func(txt)\n",
    "        e_time = time.time()\n",
    "#         함수.__name__ : 함수이름\n",
    "        print(f\"{func.__name__} - 걸린시간: {round(e_time - s_time, 2)}초\")\n",
    "    return wrapper"
   ]
  },
  {
   "cell_type": "code",
   "execution_count": 293,
   "id": "63ab6874",
   "metadata": {},
   "outputs": [],
   "source": [
    "# @timechecker\n",
    "def test_function(txt):\n",
    "    time.sleep(1)\n",
    "    print(txt)"
   ]
  },
  {
   "cell_type": "code",
   "execution_count": 294,
   "id": "1e642815",
   "metadata": {},
   "outputs": [],
   "source": [
    "# @timechecker\n",
    "def test_function2(txt):\n",
    "    time.sleep(1)\n",
    "    print(txt)"
   ]
  },
  {
   "cell_type": "code",
   "execution_count": 295,
   "id": "7d28f506",
   "metadata": {},
   "outputs": [],
   "source": [
    "# @timechecker\n",
    "def test_function3(txt):\n",
    "    time.sleep(1)\n",
    "    print(txt)"
   ]
  },
  {
   "cell_type": "code",
   "execution_count": 296,
   "id": "2c9246bc",
   "metadata": {},
   "outputs": [
    {
     "name": "stdout",
     "output_type": "stream",
     "text": [
      "abcdefg\n",
      "abcdefg\n",
      "abcdefg\n"
     ]
    }
   ],
   "source": [
    "test_function('abcdefg')\n",
    "\n",
    "test_function2('abcdefg')\n",
    "test_function3('abcdefg')"
   ]
  },
  {
   "cell_type": "code",
   "execution_count": null,
   "id": "76fed3f3",
   "metadata": {},
   "outputs": [],
   "source": [
    "abcdefg\n",
    "걸린시간: 3.2초"
   ]
  },
  {
   "cell_type": "code",
   "execution_count": null,
   "id": "52fc16c4",
   "metadata": {},
   "outputs": [],
   "source": []
  }
 ],
 "metadata": {
  "kernelspec": {
   "display_name": "Python 3 (ipykernel)",
   "language": "python",
   "name": "python3"
  },
  "language_info": {
   "codemirror_mode": {
    "name": "ipython",
    "version": 3
   },
   "file_extension": ".py",
   "mimetype": "text/x-python",
   "name": "python",
   "nbconvert_exporter": "python",
   "pygments_lexer": "ipython3",
   "version": "3.9.7"
  }
 },
 "nbformat": 4,
 "nbformat_minor": 5
}
