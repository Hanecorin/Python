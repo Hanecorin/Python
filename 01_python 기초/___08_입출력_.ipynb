{
 "cells": [
  {
   "cell_type": "code",
   "execution_count": 2,
   "id": "afa234f5",
   "metadata": {},
   "outputs": [
    {
     "name": "stdout",
     "output_type": "stream",
     "text": [
      "C:\\class\\01_python 기초\n"
     ]
    }
   ],
   "source": [
    "# 현재 경로 - workdirectory  경로 조회\n",
    "import os  # os 모듈을 import\n",
    "cwd = os.getcwd()  # current work directory\n",
    "print(cwd)  #상대경로의 현재위치가 된다.\n",
    "# p = \"./a/b/abc.txt\""
   ]
  },
  {
   "cell_type": "markdown",
   "id": "6c714642",
   "metadata": {},
   "source": [
    "# 입출력\n",
    "\n",
    "## text 입출력 \n",
    "- 문자열을 입/출력 하는 것."
   ]
  },
  {
   "cell_type": "code",
   "execution_count": 3,
   "id": "af009b4f",
   "metadata": {},
   "outputs": [
    {
     "name": "stdout",
     "output_type": "stream",
     "text": [
      "안녕하세요\n",
      "반값습니다.\n",
      "오늘도 즐거운 하루되세요.\n"
     ]
    }
   ],
   "source": [
    "# 출력 데이터\n",
    "txt = \"\"\"안녕하세요\n",
    "반값습니다.\n",
    "오늘도 즐거운 하루되세요.\"\"\"\n",
    "print(txt)"
   ]
  },
  {
   "cell_type": "markdown",
   "id": "9e8c7d00",
   "metadata": {},
   "source": [
    "### 출력"
   ]
  },
  {
   "cell_type": "code",
   "execution_count": 13,
   "id": "4a286432",
   "metadata": {},
   "outputs": [],
   "source": [
    "# txt의 문자열데이터를 \"현재작업경로/a.txt\"  파일에 출력(저장)\n",
    "# 1. a.txt와 연결: 목적-출력, 데이터종류-string(text)\n",
    "file_path = r\"C:\\class\\01_python 기초\\a.txt\"  #절대경로\n",
    "# file_path = \"a.txt\" # 상대경로 - ./ 를 생략\n",
    "\n",
    "mode = \"wt\"   # 목적|데이터종료  wt: 쓰기모드 텍스트모드\n",
    "fw = open(file_path, mode, encoding='utf-8') # 파일과 지정한 모드에 맞춰서 연결하고 입출력할 수있는 기능(메소드)를 제공하는 객체를 반환\n",
    "# - 출력 연결의 경우에 연결할 파일이 없으면 생성. 있으면 있는 파일과 연결 (단 데이터를 지운다.)\n",
    "# - 입력 연결의 경우에 연결할 피일이 없으면 exception 발생."
   ]
  },
  {
   "cell_type": "code",
   "execution_count": 14,
   "id": "6de780ce",
   "metadata": {},
   "outputs": [
    {
     "data": {
      "text/plain": [
       "27"
      ]
     },
     "execution_count": 14,
     "metadata": {},
     "output_type": "execute_result"
    }
   ],
   "source": [
    "# 2. 출력 \n",
    "fw.write(txt)"
   ]
  },
  {
   "cell_type": "code",
   "execution_count": 15,
   "id": "57b01214",
   "metadata": {},
   "outputs": [],
   "source": [
    "# 3. 연결 닫기\n",
    "fw.close()"
   ]
  },
  {
   "cell_type": "markdown",
   "id": "2894aeae",
   "metadata": {},
   "source": [
    "### 입력"
   ]
  },
  {
   "cell_type": "code",
   "execution_count": 18,
   "id": "185e9bf1",
   "metadata": {},
   "outputs": [
    {
     "name": "stdout",
     "output_type": "stream",
     "text": [
      "안녕하세요\n",
      "반값습니다.\n",
      "오늘도 즐거운 하루되세요.\n"
     ]
    }
   ],
   "source": [
    "i_file_path = 'a.txt'  #상대경로\n",
    "# 목적: 읽기-r(기본값), 데이터: string(text) - t(기본값)\n",
    "i_mode = 'rt'  \n",
    "# 1.연결\n",
    "fi = open(i_file_path, i_mode, encoding='utf-8')\n",
    "# 2.입력 - read()\n",
    "r_txt = fi.read()\n",
    "print(r_txt)\n",
    "# 3.연결닫기\n",
    "fi.close()\n",
    "\n",
    "# UnicodeDecodeError: 잘못된(저장된 인코딩방식과 다른) encoding 방식으로 읽을 경우 발생."
   ]
  },
  {
   "cell_type": "code",
   "execution_count": 22,
   "id": "17a7c241",
   "metadata": {
    "collapsed": true
   },
   "outputs": [
    {
     "name": "stdout",
     "output_type": "stream",
     "text": [
      "연결닫기\n"
     ]
    },
    {
     "ename": "UnicodeDecodeError",
     "evalue": "'cp949' codec can't decode byte 0xec in position 0: illegal multibyte sequence",
     "output_type": "error",
     "traceback": [
      "\u001b[1;31m---------------------------------------------------------------------------\u001b[0m",
      "\u001b[1;31mUnicodeDecodeError\u001b[0m                        Traceback (most recent call last)",
      "\u001b[1;32m~\\AppData\\Local\\Temp/ipykernel_4616/1805545836.py\u001b[0m in \u001b[0;36m<module>\u001b[1;34m\u001b[0m\n\u001b[0;32m      1\u001b[0m \u001b[1;32mtry\u001b[0m\u001b[1;33m:\u001b[0m\u001b[1;33m\u001b[0m\u001b[1;33m\u001b[0m\u001b[0m\n\u001b[0;32m      2\u001b[0m     \u001b[0mfi\u001b[0m \u001b[1;33m=\u001b[0m \u001b[0mopen\u001b[0m\u001b[1;33m(\u001b[0m\u001b[1;34m'a.txt'\u001b[0m\u001b[1;33m,\u001b[0m \u001b[1;34m'rt'\u001b[0m\u001b[1;33m)\u001b[0m\u001b[1;33m\u001b[0m\u001b[1;33m\u001b[0m\u001b[0m\n\u001b[1;32m----> 3\u001b[1;33m     \u001b[0mt\u001b[0m \u001b[1;33m=\u001b[0m \u001b[0mfi\u001b[0m\u001b[1;33m.\u001b[0m\u001b[0mread\u001b[0m\u001b[1;33m(\u001b[0m\u001b[1;33m)\u001b[0m\u001b[1;33m\u001b[0m\u001b[1;33m\u001b[0m\u001b[0m\n\u001b[0m\u001b[0;32m      4\u001b[0m     \u001b[0mprint\u001b[0m\u001b[1;33m(\u001b[0m\u001b[0mt\u001b[0m\u001b[1;33m)\u001b[0m\u001b[1;33m\u001b[0m\u001b[1;33m\u001b[0m\u001b[0m\n\u001b[0;32m      5\u001b[0m \u001b[1;32mfinally\u001b[0m\u001b[1;33m:\u001b[0m\u001b[1;33m\u001b[0m\u001b[1;33m\u001b[0m\u001b[0m\n",
      "\u001b[1;31mUnicodeDecodeError\u001b[0m: 'cp949' codec can't decode byte 0xec in position 0: illegal multibyte sequence"
     ]
    }
   ],
   "source": [
    "try:\n",
    "    fi = open('a.txt', 'rt')\n",
    "    t = fi.read()\n",
    "    print(t)\n",
    "finally:\n",
    "    print('연결닫기')\n",
    "    fi.close()"
   ]
  },
  {
   "cell_type": "markdown",
   "id": "def99f36",
   "metadata": {},
   "source": [
    "### with 문(절)\n",
    "```python\n",
    "with 연결함수 as 변수:\n",
    "    작업코드\n",
    "```"
   ]
  },
  {
   "cell_type": "code",
   "execution_count": 26,
   "id": "f281021f",
   "metadata": {},
   "outputs": [
    {
     "name": "stdout",
     "output_type": "stream",
     "text": [
      "False\n",
      "print(1 + 1)\n",
      "\n",
      "with block 밖: True\n"
     ]
    }
   ],
   "source": [
    "# fi = open(....)\n",
    "with open('a.txt', 'rt', encoding='utf-8') as fi:  #연결\n",
    "#     입출력코드\n",
    "    try:\n",
    "        r = fi.read()\n",
    "        print(fi.closed) #연결여부를 반환: True-끊긴것, False-연결상태\n",
    "        print(r)\n",
    "    except:\n",
    "        print('처리')\n",
    "        \n",
    "print('with block 밖:', fi.closed)       \n",
    "# with block 빠져나오면 close를 자동으로 처리해 준다."
   ]
  },
  {
   "cell_type": "markdown",
   "id": "d5c3e7ac",
   "metadata": {},
   "source": [
    "### 출력 메소드"
   ]
  },
  {
   "cell_type": "code",
   "execution_count": 31,
   "id": "79dcf9dd",
   "metadata": {},
   "outputs": [],
   "source": [
    "with open(\"b.txt\", 'wt') as fw:\n",
    "    # 출력은 여러번에 걸처 할 수 있다.#\n",
    "    fw.write(\"안녕하세요\\n\")\n",
    "    fw.write(\"반갑습니다.\\n\")\n",
    "    fw.write(\"조금만 있으면 점심시간이네요.\\n\")\n",
    "    fw.write(str(30))  #출력가능한 타입은 string "
   ]
  },
  {
   "cell_type": "code",
   "execution_count": 32,
   "id": "53c09b16",
   "metadata": {},
   "outputs": [],
   "source": [
    "txt_list = ['안녕하세요.\\n', '지금 12시 16분입니다\\n', str(120)]\n",
    "with open('c.txt', 'wt') as fw:\n",
    "    fw.writelines(txt_list) # list의 원소들을 한번에 출력\n",
    "    \n",
    "# for t in txt_list:\n",
    "#     fw.write(txt_list[i])"
   ]
  },
  {
   "cell_type": "markdown",
   "id": "01c7ba96",
   "metadata": {},
   "source": [
    "### 입력 메소드"
   ]
  },
  {
   "cell_type": "code",
   "execution_count": 34,
   "id": "120f4302",
   "metadata": {
    "collapsed": true
   },
   "outputs": [
    {
     "name": "stdout",
     "output_type": "stream",
     "text": [
      "True\n",
      "안토니오 콘테 토트넘 감독이 폭풍 보강을 원하는 가운데, 토트넘의 다음 시즌 선수 구성은 어떻게 될까.\n",
      "\n",
      "영국 '더 선'은 18일(한국시간) \"토트넘은 유럽 챔피언스리그(UCL) 복귀를 눈앞에 두고 있다. 결과적으로 다음 시즌 콘테 감독의 선발 구성은 매우 달라질 것\"이라며 2022-23시즌 토트넘의 선발 라인업을 전망했다. 실제로 콘테 감독은 이번 여름 많은 보강과 방출을 원하는 중이다. 현재 콘테 감독이 선호하고 있는 3-4-3 포메이션을 바탕으로 진행됐다.\n",
      "\n",
      "공격진은 변화가 없었다. 사실 변화를 줄 이유가 없다. 해리 케인, 손흥민, 데얀 쿨루셉스키의 파괴력이 갈수록 좋아지고 있기 때문이다. 현재 케인보다 좋은 스트라이커는 전 세계에 몇 명 없고, 이는 손흥민도 마찬가지다. 쿨루셉스키 완전 영입을 이미 계획 중이기 때문에 SKK라인은 다음 시즌도 콘테 감독의 신뢰를 받을 가능성이 높다.\n",
      "\n",
      "다만 중원은 조금 달라졌다. 로드리고 벤탄쿠르 옆에 유리 틸레망스(레스터 시티)가 자리했다. 틸레망스는 현재 이적을 추진 중이다. 토트넘과 아스널이 동시에 관심을 가졌는데, 틸레망스가 UCL 참가를 원하고 있다. 토트넘이 영입에 훨씬 유리한 위치를 점했다. 틸레망스는 피에르 에밀 호이비에르보다는 공격적인 성향의 미드필더다.\n",
      "\n",
      "수비진은 5자리 중 3자리가 달라졌다. 현재 콘테 감독의 절대적인 신뢰를 받고 있는 크리스티안 로메로와 에릭 다이어만 남아있었다. 로메로는 현재 토트넘이 완전 영입을 추진 중이다. 남은 수비진의 한 자리는 알렉산드로 바스토니(인터 밀란)가 차지했다. 바스토니는 콘테 감독의 인터 밀란 시절 제자다. 왼발 센터백에 젊고, 유능한 자원이다.\n",
      "\n",
      "측면 윙백은 모두 교체될 것으로 예상했다. 현재 콘테 감독은 윙백 기용 자원에 대해 굉장히 불만을 가지고 있는 것으로 알려졌다. 여러 선수가 번갈아가면서 기용됐지만 모두 합격점을 받지 못했다.\n",
      "\n",
      "따라서 덴젤 둠프리스(인터 밀란)와 마크 쿠쿠렐라(브라이튼)가 영입될 것으로 전망했다. 둠프리스는 공격적인 오버래핑이 가능한 윙백이다. 그에 비해 쿠쿠렐라는 공격력보다는 밸런스와 수비력 그리고 멀티 포지셔닝이 가능한 자원이다.\n"
     ]
    }
   ],
   "source": [
    "news_file_path = 'text_data/news.txt'\n",
    "with open(news_file_path, 'rt', encoding='utf-8') as fi:\n",
    "    news = fi.read() # 파일의 전체내용을 한번에 읽는다.\n",
    "    \n",
    "print(fi.closed)\n",
    "print(news)"
   ]
  },
  {
   "cell_type": "code",
   "execution_count": 39,
   "id": "70152b52",
   "metadata": {
    "collapsed": true
   },
   "outputs": [
    {
     "name": "stdout",
     "output_type": "stream",
     "text": [
      "['안토니오 콘테 토트넘 감독이 폭풍 보강을 원하는 가운데, 토트넘의 다음 시즌 선수 구성은 어떻게 될까.\\n', '\\n', '영국 \\'더 선\\'은 18일(한국시간) \"토트넘은 유럽 챔피언스리그(UCL) 복귀를 눈앞에 두고 있다. 결과적으로 다음 시즌 콘테 감독의 선발 구성은 매우 달라질 것\"이라며 2022-23시즌 토트넘의 선발 라인업을 전망했다. 실제로 콘테 감독은 이번 여름 많은 보강과 방출을 원하는 중이다. 현재 콘테 감독이 선호하고 있는 3-4-3 포메이션을 바탕으로 진행됐다.\\n', '\\n', '공격진은 변화가 없었다. 사실 변화를 줄 이유가 없다. 해리 케인, 손흥민, 데얀 쿨루셉스키의 파괴력이 갈수록 좋아지고 있기 때문이다. 현재 케인보다 좋은 스트라이커는 전 세계에 몇 명 없고, 이는 손흥민도 마찬가지다. 쿨루셉스키 완전 영입을 이미 계획 중이기 때문에 SKK라인은 다음 시즌도 콘테 감독의 신뢰를 받을 가능성이 높다.\\n', '\\n', '다만 중원은 조금 달라졌다. 로드리고 벤탄쿠르 옆에 유리 틸레망스(레스터 시티)가 자리했다. 틸레망스는 현재 이적을 추진 중이다. 토트넘과 아스널이 동시에 관심을 가졌는데, 틸레망스가 UCL 참가를 원하고 있다. 토트넘이 영입에 훨씬 유리한 위치를 점했다. 틸레망스는 피에르 에밀 호이비에르보다는 공격적인 성향의 미드필더다.\\n', '\\n', '수비진은 5자리 중 3자리가 달라졌다. 현재 콘테 감독의 절대적인 신뢰를 받고 있는 크리스티안 로메로와 에릭 다이어만 남아있었다. 로메로는 현재 토트넘이 완전 영입을 추진 중이다. 남은 수비진의 한 자리는 알렉산드로 바스토니(인터 밀란)가 차지했다. 바스토니는 콘테 감독의 인터 밀란 시절 제자다. 왼발 센터백에 젊고, 유능한 자원이다.\\n', '\\n', '측면 윙백은 모두 교체될 것으로 예상했다. 현재 콘테 감독은 윙백 기용 자원에 대해 굉장히 불만을 가지고 있는 것으로 알려졌다. 여러 선수가 번갈아가면서 기용됐지만 모두 합격점을 받지 못했다.\\n', '\\n', '따라서 덴젤 둠프리스(인터 밀란)와 마크 쿠쿠렐라(브라이튼)가 영입될 것으로 전망했다. 둠프리스는 공격적인 오버래핑이 가능한 윙백이다. 그에 비해 쿠쿠렐라는 공격력보다는 밸런스와 수비력 그리고 멀티 포지셔닝이 가능한 자원이다.']\n",
      "--------\n",
      "안토니오 콘테 토트넘 감독이 폭풍 보강을 원하는 가운데, 토트넘의 다음 시즌 선수 구성은 어떻게 될까.\n",
      "\n",
      "--------\n",
      "\n",
      "\n",
      "--------\n",
      "영국 '더 선'은 18일(한국시간) \"토트넘은 유럽 챔피언스리그(UCL) 복귀를 눈앞에 두고 있다. 결과적으로 다음 시즌 콘테 감독의 선발 구성은 매우 달라질 것\"이라며 2022-23시즌 토트넘의 선발 라인업을 전망했다. 실제로 콘테 감독은 이번 여름 많은 보강과 방출을 원하는 중이다. 현재 콘테 감독이 선호하고 있는 3-4-3 포메이션을 바탕으로 진행됐다.\n",
      "\n"
     ]
    }
   ],
   "source": [
    "with open(news_file_path, 'rt', encoding='utf-8') as fi:\n",
    "    text_list = fi.readlines() #한줄, 한줄을 원소로하는 리스트를 반환\n",
    "\n",
    "\n",
    "print(text_list)\n",
    "print('--------')\n",
    "print(text_list[0])\n",
    "print('--------')\n",
    "print(text_list[1])\n",
    "print('--------')\n",
    "print(text_list[2])"
   ]
  },
  {
   "cell_type": "code",
   "execution_count": 41,
   "id": "76e41360",
   "metadata": {
    "collapsed": true
   },
   "outputs": [
    {
     "name": "stdout",
     "output_type": "stream",
     "text": [
      "1. 안토니오 콘테 토트넘 감독이 폭풍 보강을 원하는 가운데, 토트넘의 다음 시즌 선수 구성은 어떻게 될까.\n",
      "\n",
      "2. \n",
      "\n",
      "3. 영국 '더 선'은 18일(한국시간) \"토트넘은 유럽 챔피언스리그(UCL) 복귀를 눈앞에 두고 있다. 결과적으로 다음 시즌 콘테 감독의 선발 구성은 매우 달라질 것\"이라며 2022-23시즌 토트넘의 선발 라인업을 전망했다. 실제로 콘테 감독은 이번 여름 많은 보강과 방출을 원하는 중이다. 현재 콘테 감독이 선호하고 있는 3-4-3 포메이션을 바탕으로 진행됐다.\n",
      "\n",
      "4. \n",
      "\n",
      "5. 공격진은 변화가 없었다. 사실 변화를 줄 이유가 없다. 해리 케인, 손흥민, 데얀 쿨루셉스키의 파괴력이 갈수록 좋아지고 있기 때문이다. 현재 케인보다 좋은 스트라이커는 전 세계에 몇 명 없고, 이는 손흥민도 마찬가지다. 쿨루셉스키 완전 영입을 이미 계획 중이기 때문에 SKK라인은 다음 시즌도 콘테 감독의 신뢰를 받을 가능성이 높다.\n",
      "\n",
      "6. \n",
      "\n",
      "7. 다만 중원은 조금 달라졌다. 로드리고 벤탄쿠르 옆에 유리 틸레망스(레스터 시티)가 자리했다. 틸레망스는 현재 이적을 추진 중이다. 토트넘과 아스널이 동시에 관심을 가졌는데, 틸레망스가 UCL 참가를 원하고 있다. 토트넘이 영입에 훨씬 유리한 위치를 점했다. 틸레망스는 피에르 에밀 호이비에르보다는 공격적인 성향의 미드필더다.\n",
      "\n",
      "8. \n",
      "\n",
      "9. 수비진은 5자리 중 3자리가 달라졌다. 현재 콘테 감독의 절대적인 신뢰를 받고 있는 크리스티안 로메로와 에릭 다이어만 남아있었다. 로메로는 현재 토트넘이 완전 영입을 추진 중이다. 남은 수비진의 한 자리는 알렉산드로 바스토니(인터 밀란)가 차지했다. 바스토니는 콘테 감독의 인터 밀란 시절 제자다. 왼발 센터백에 젊고, 유능한 자원이다.\n",
      "\n",
      "10. \n",
      "\n",
      "11. 측면 윙백은 모두 교체될 것으로 예상했다. 현재 콘테 감독은 윙백 기용 자원에 대해 굉장히 불만을 가지고 있는 것으로 알려졌다. 여러 선수가 번갈아가면서 기용됐지만 모두 합격점을 받지 못했다.\n",
      "\n",
      "12. \n",
      "\n",
      "13. 따라서 덴젤 둠프리스(인터 밀란)와 마크 쿠쿠렐라(브라이튼)가 영입될 것으로 전망했다. 둠프리스는 공격적인 오버래핑이 가능한 윙백이다. 그에 비해 쿠쿠렐라는 공격력보다는 밸런스와 수비력 그리고 멀티 포지셔닝이 가능한 자원이다.\n"
     ]
    }
   ],
   "source": [
    "# 줄단위 처리\n",
    "# 줄번호 붙여서 출력\n",
    "for line_num, txt in enumerate(text_list, start=1):\n",
    "    print(f'{line_num}. {txt}')"
   ]
  },
  {
   "cell_type": "code",
   "execution_count": 44,
   "id": "37500cf5",
   "metadata": {
    "collapsed": true
   },
   "outputs": [
    {
     "name": "stdout",
     "output_type": "stream",
     "text": [
      "1. 안토니오 콘테 토트넘 감독이 폭풍 보강을 원하는 가운데, 토트넘의 다음 시즌 선수 구성은 어떻게 될까.\n",
      "\n",
      "2. \n",
      "\n",
      "3. 영국 '더 선'은 18일(한국시간) \"토트넘은 유럽 챔피언스리그(UCL) 복귀를 눈앞에 두고 있다. 결과적으로 다음 시즌 콘테 감독의 선발 구성은 매우 달라질 것\"이라며 2022-23시즌 토트넘의 선발 라인업을 전망했다. 실제로 콘테 감독은 이번 여름 많은 보강과 방출을 원하는 중이다. 현재 콘테 감독이 선호하고 있는 3-4-3 포메이션을 바탕으로 진행됐다.\n",
      "\n",
      "4. \n",
      "\n",
      "5. 공격진은 변화가 없었다. 사실 변화를 줄 이유가 없다. 해리 케인, 손흥민, 데얀 쿨루셉스키의 파괴력이 갈수록 좋아지고 있기 때문이다. 현재 케인보다 좋은 스트라이커는 전 세계에 몇 명 없고, 이는 손흥민도 마찬가지다. 쿨루셉스키 완전 영입을 이미 계획 중이기 때문에 SKK라인은 다음 시즌도 콘테 감독의 신뢰를 받을 가능성이 높다.\n",
      "\n",
      "6. \n",
      "\n",
      "7. 다만 중원은 조금 달라졌다. 로드리고 벤탄쿠르 옆에 유리 틸레망스(레스터 시티)가 자리했다. 틸레망스는 현재 이적을 추진 중이다. 토트넘과 아스널이 동시에 관심을 가졌는데, 틸레망스가 UCL 참가를 원하고 있다. 토트넘이 영입에 훨씬 유리한 위치를 점했다. 틸레망스는 피에르 에밀 호이비에르보다는 공격적인 성향의 미드필더다.\n",
      "\n",
      "8. \n",
      "\n",
      "9. 수비진은 5자리 중 3자리가 달라졌다. 현재 콘테 감독의 절대적인 신뢰를 받고 있는 크리스티안 로메로와 에릭 다이어만 남아있었다. 로메로는 현재 토트넘이 완전 영입을 추진 중이다. 남은 수비진의 한 자리는 알렉산드로 바스토니(인터 밀란)가 차지했다. 바스토니는 콘테 감독의 인터 밀란 시절 제자다. 왼발 센터백에 젊고, 유능한 자원이다.\n",
      "\n",
      "10. \n",
      "\n",
      "11. 측면 윙백은 모두 교체될 것으로 예상했다. 현재 콘테 감독은 윙백 기용 자원에 대해 굉장히 불만을 가지고 있는 것으로 알려졌다. 여러 선수가 번갈아가면서 기용됐지만 모두 합격점을 받지 못했다.\n",
      "\n",
      "12. \n",
      "\n",
      "13. 따라서 덴젤 둠프리스(인터 밀란)와 마크 쿠쿠렐라(브라이튼)가 영입될 것으로 전망했다. 둠프리스는 공격적인 오버래핑이 가능한 윙백이다. 그에 비해 쿠쿠렐라는 공격력보다는 밸런스와 수비력 그리고 멀티 포지셔닝이 가능한 자원이다.\n"
     ]
    }
   ],
   "source": [
    "# 반복문을 이용해 한줄 씩 읽을 경우 - rt 모드로 연결한 객체(TextIOWrapper) 가 iterable \n",
    "#                                                       => 직접 for in 문의 in자리에 넣을 수 있다.\n",
    "with open('text_data/news.txt', 'rt', encoding='utf-8') as fi:\n",
    "    for ln, text in enumerate(fi, start=1):\n",
    "        print(f\"{ln}. {text}\")"
   ]
  },
  {
   "cell_type": "code",
   "execution_count": 45,
   "id": "1ddd978b",
   "metadata": {},
   "outputs": [
    {
     "name": "stdout",
     "output_type": "stream",
     "text": [
      "안토니오 콘테 토트넘 감독이 폭풍 보강을 원하는 가운데, 토트넘의 다음 시즌 선수 구성은 어떻게 될까.\n",
      "\n"
     ]
    }
   ],
   "source": [
    "with open('text_data/news.txt', 'rt', encoding='utf-8') as fi:\n",
    "    print(fi.readline())  # 한줄만 읽는다."
   ]
  },
  {
   "cell_type": "code",
   "execution_count": 50,
   "id": "26290b33",
   "metadata": {},
   "outputs": [],
   "source": [
    "# read() fi를 반복문"
   ]
  },
  {
   "cell_type": "markdown",
   "id": "4ceb686d",
   "metadata": {},
   "source": [
    "## binary file 입출력\n",
    "- text파일을 제외한 나머지.\n",
    "- 모드: 목적+데이터형식(b) - rb, wb\n",
    "- 메소드: write(), read()"
   ]
  },
  {
   "cell_type": "code",
   "execution_count": 52,
   "id": "0c1e89e1",
   "metadata": {},
   "outputs": [
    {
     "name": "stdout",
     "output_type": "stream",
     "text": [
      "<class 'bytes'>\n"
     ]
    }
   ],
   "source": [
    "# img.jpg 을 복사 (읽은 뒤에 다시쓰기-다른파일명)\n",
    "# 원본파일 읽기\n",
    "try:\n",
    "    fi = open('img.jpg', 'rb')\n",
    "    img = fi.read()\n",
    "    print(type(img))\n",
    "finally:\n",
    "    fi.close()"
   ]
  },
  {
   "cell_type": "code",
   "execution_count": 53,
   "id": "d27851a0",
   "metadata": {},
   "outputs": [],
   "source": [
    "try:\n",
    "    fo = open('img2.jpg', 'wb')\n",
    "    fo.write(img)\n",
    "finally:\n",
    "    fo.close()"
   ]
  },
  {
   "cell_type": "code",
   "execution_count": null,
   "id": "03186abc",
   "metadata": {},
   "outputs": [],
   "source": [
    "# fi = open('img.jpg', 'rb')\n",
    "# fo = open('img2.jpg', 'wb')\n",
    "# img = fi.read()\n",
    "# fo.write(img)"
   ]
  },
  {
   "cell_type": "code",
   "execution_count": 54,
   "id": "f5f64920",
   "metadata": {},
   "outputs": [],
   "source": [
    "with open('img.jpg', 'rb') as fi:\n",
    "    with open('img3.jpg', 'wb') as fo:\n",
    "        img = fi.read()\n",
    "        fo.write(img)"
   ]
  },
  {
   "cell_type": "code",
   "execution_count": 55,
   "id": "c86ce69c",
   "metadata": {},
   "outputs": [
    {
     "data": {
      "text/plain": [
       "(True, True)"
      ]
     },
     "execution_count": 55,
     "metadata": {},
     "output_type": "execute_result"
    }
   ],
   "source": [
    "fi.closed, fo.closed"
   ]
  },
  {
   "cell_type": "markdown",
   "id": "c968c09f",
   "metadata": {},
   "source": [
    "# pickle\n",
    "- 파이썬 객체(모든 종류의 값)을 binary로 입출력할 때 사용하는 모듈."
   ]
  },
  {
   "cell_type": "code",
   "execution_count": 70,
   "id": "1df816f3",
   "metadata": {},
   "outputs": [],
   "source": [
    "class Item:\n",
    "    \n",
    "    def __init__(self, name, price):\n",
    "        self.name, self.price = name, price\n",
    "        \n",
    "    def __str__(self):\n",
    "        return f'Type: {type(self)}, name: {self.name}, price: {self.price}'"
   ]
  },
  {
   "cell_type": "code",
   "execution_count": 71,
   "id": "15d95c33",
   "metadata": {},
   "outputs": [],
   "source": [
    "import pickle   #피클 모듈을 import\n",
    "\n",
    "# data = ['abc', '가나다', True, 1000, 200, 30.67]  \n",
    "# data = 309\n",
    "# data = {'가', '나' , '다'}\n",
    "data = Item('TV', 350000)\n",
    "# 리스트 객체를 파일에 저장\n",
    "with open('list.pkl', 'wb') as fo:\n",
    "    pickle.dump(data, fo)"
   ]
  },
  {
   "cell_type": "code",
   "execution_count": 72,
   "id": "59cac232",
   "metadata": {},
   "outputs": [],
   "source": [
    "# 피클로 정한 데이터(리스트)를 읽기\n",
    "with open('list.pkl', 'rb') as fi:\n",
    "    read_list = pickle.load(fi)"
   ]
  },
  {
   "cell_type": "code",
   "execution_count": 75,
   "id": "b31f993f",
   "metadata": {},
   "outputs": [
    {
     "name": "stdout",
     "output_type": "stream",
     "text": [
      "Type: <class '__main__.Item'>, name: TV, price: 350000\n",
      "<class '__main__.Item'>\n"
     ]
    }
   ],
   "source": [
    "print(read_list)\n",
    "print(type(read_list))"
   ]
  },
  {
   "cell_type": "markdown",
   "id": "0a062a58",
   "metadata": {},
   "source": [
    "# TODO"
   ]
  },
  {
   "cell_type": "code",
   "execution_count": null,
   "id": "0e07feb5",
   "metadata": {},
   "outputs": [],
   "source": [
    "#control + shift + 2"
   ]
  },
  {
   "cell_type": "code",
   "execution_count": null,
   "id": "892ac21c",
   "metadata": {},
   "outputs": [],
   "source": [
    "# TODO - 간단한 메모장\n",
    "# 사용자로부터 파일명을 입력받는다. (input())\n",
    "# 사용자로 부터 파일에 저장할 문장을 입력받아서 파일에 저장한다.\n",
    "# 사용자가 !q 를 입력하면 종료한다.\n",
    "# 사용자가 저장한 파일을 읽어서 출력한다."
   ]
  },
  {
   "cell_type": "code",
   "execution_count": 81,
   "id": "7ff4e736",
   "metadata": {
    "collapsed": true
   },
   "outputs": [
    {
     "name": "stdout",
     "output_type": "stream",
     "text": [
      "파일명:test.txt\n",
      "파일에 저장할 내용을 입력하세요.\n",
      "--------------------------------------------------\n",
      "안녕하세요\n",
      "abcdefg\n",
      "1231231231\n",
      "!q\n"
     ]
    }
   ],
   "source": [
    "filename = input('파일명:')\n",
    "with open(filename, 'wt') as fw:\n",
    "    print('파일에 저장할 내용을 입력하세요.')\n",
    "    print('-'*50)\n",
    "    while True:\n",
    "        line = input()  #저장할 한줄을 입력받기\n",
    "        if line == '!q':\n",
    "            break\n",
    "        fw.write(line+\"\\n\")"
   ]
  },
  {
   "cell_type": "code",
   "execution_count": 82,
   "id": "98673f46",
   "metadata": {},
   "outputs": [],
   "source": [
    "def simple_memo():\n",
    "    filename = input('파일명:')\n",
    "    with open(filename, 'wt') as fw:\n",
    "        print('파일에 저장할 내용을 입력하세요.')\n",
    "        print('-'*50)\n",
    "        while True:\n",
    "            line = input()  #저장할 한줄을 입력받기\n",
    "            if line == '!q':\n",
    "                break\n",
    "            fw.write(line+\"\\n\")"
   ]
  },
  {
   "cell_type": "code",
   "execution_count": 83,
   "id": "e303ce71",
   "metadata": {
    "collapsed": true
   },
   "outputs": [
    {
     "name": "stdout",
     "output_type": "stream",
     "text": [
      "파일명:aaaaaa.txt\n",
      "파일에 저장할 내용을 입력하세요.\n",
      "--------------------------------------------------\n",
      "a\n",
      "b\n",
      "c\n",
      "d\n",
      "e\n",
      "f\n",
      "가\n",
      "나\n",
      "다\n",
      "!q\n"
     ]
    }
   ],
   "source": [
    "simple_memo()"
   ]
  },
  {
   "cell_type": "code",
   "execution_count": 85,
   "id": "47dc7c5f",
   "metadata": {},
   "outputs": [
    {
     "name": "stdout",
     "output_type": "stream",
     "text": [
      "파일명:c:/temp/testtest.txt\n",
      "파일에 저장할 내용을 입력하세요.\n",
      "--------------------------------------------------\n",
      "a\n",
      "b\n",
      "c\n",
      "!q\n"
     ]
    }
   ],
   "source": [
    "# from my_package import memo\n",
    "from my_package.memo import simple_memo as s_memo\n",
    "\n",
    "s_memo()"
   ]
  },
  {
   "cell_type": "markdown",
   "id": "e46dffda",
   "metadata": {},
   "source": [
    "## CSV(Comma Separated Value) 파일 형식\n",
    "- 데이터를 **표형태**로 **텍스트파일**에 저장하기 위한 문서형식\n",
    "- 하나의 데이터는 한줄에 작성 (엔터: 데이터값 구분자)\n",
    "- 하나의 데이터를 구성하는 속성값들은 `,` 로 구분\n",
    "    - tab으로 구분 (TSV)"
   ]
  },
  {
   "cell_type": "code",
   "execution_count": null,
   "id": "f300746a",
   "metadata": {},
   "outputs": [],
   "source": [
    "# TODO - member.csv 파일을 읽어서 각 열의 값을 배열에 담는다.\n",
    "# 이름,나이,주소  형태의 csv를 읽어\n",
    "# names = []\n",
    "# ages =[]\n",
    "# address =[]\n",
    "# 리스트에 넣는다. "
   ]
  },
  {
   "cell_type": "code",
   "execution_count": 88,
   "id": "8852d345",
   "metadata": {},
   "outputs": [
    {
     "name": "stdout",
     "output_type": "stream",
     "text": [
      "name,age,address\n",
      "김영수,20,서울\n",
      "박영희,21,서울\n",
      "오민수,30,부산\n",
      "최정길,15,인천\n",
      "이명수,22,광주\n",
      "이철수,17,대전\n",
      "\n"
     ]
    }
   ],
   "source": [
    "# 통째로 읽기\n",
    "filename = 'member.csv'\n",
    "with open(filename, 'rt', encoding='utf-8') as fi:\n",
    "    data = fi.read()\n",
    "\n",
    "print(data)"
   ]
  },
  {
   "cell_type": "code",
   "execution_count": 98,
   "id": "124c359c",
   "metadata": {},
   "outputs": [
    {
     "name": "stdout",
     "output_type": "stream",
     "text": [
      "['김영수', '20', '서울\\n']\n",
      "['박영희', '21', '서울\\n']\n",
      "['오민수', '30', '부산\\n']\n",
      "['최정길', '15', '인천\\n']\n",
      "['이명수', '22', '광주\\n']\n",
      "['이철수', '17', '대전\\n']\n"
     ]
    }
   ],
   "source": [
    "names = []\n",
    "ages = []\n",
    "addresses = []\n",
    "with open(filename, 'rt', encoding='utf-8') as fi:\n",
    "    for idx, line in enumerate(fi):\n",
    "        if idx == 0:\n",
    "            continue\n",
    "        tmp = line.split(',')\n",
    "#         name, age, address = line.split(',')  #리스트대입\n",
    "#         print(tmp)\n",
    "        names.append(tmp[0])\n",
    "        ages.append(tmp[1])\n",
    "        addresses.append(tmp[2].rstrip())"
   ]
  },
  {
   "cell_type": "code",
   "execution_count": 97,
   "id": "e6815757",
   "metadata": {},
   "outputs": [
    {
     "name": "stdout",
     "output_type": "stream",
     "text": [
      "['김영수', '박영희', '오민수', '최정길', '이명수', '이철수']\n",
      "['20', '21', '30', '15', '22', '17']\n",
      "['서울', '서울', '부산', '인천', '광주', '대전']\n"
     ]
    }
   ],
   "source": [
    "print(names)\n",
    "print(ages)\n",
    "print(addresses)"
   ]
  },
  {
   "cell_type": "code",
   "execution_count": null,
   "id": "76f3cf88",
   "metadata": {},
   "outputs": [],
   "source": [
    "# names, ages, addresses  => member_2.csv 파일에 csv형식으로 저장  (zip())  5:15까지"
   ]
  },
  {
   "cell_type": "code",
   "execution_count": 104,
   "id": "6764bf83",
   "metadata": {},
   "outputs": [],
   "source": [
    "save_filename = 'member_2.csv'\n",
    "with open(save_filename, 'wt', encoding='utf-8') as fw:\n",
    "    fw.write(\"이름,나이,주소\\n\")\n",
    "    for name, age, addr in zip(names, ages, addresses):\n",
    "        fw.write(f'{name},{age},{addr}\\n')"
   ]
  },
  {
   "cell_type": "code",
   "execution_count": 113,
   "id": "30ed9e9a",
   "metadata": {},
   "outputs": [
    {
     "data": {
      "text/plain": [
       "'1.3.4'"
      ]
     },
     "execution_count": 113,
     "metadata": {},
     "output_type": "execute_result"
    }
   ],
   "source": [
    "pd.__version__"
   ]
  },
  {
   "cell_type": "code",
   "execution_count": 112,
   "id": "08ca01c4",
   "metadata": {},
   "outputs": [
    {
     "ename": "AttributeError",
     "evalue": "module 'pandas' has no attribute 'red_csv'",
     "output_type": "error",
     "traceback": [
      "\u001b[1;31m---------------------------------------------------------------------------\u001b[0m",
      "\u001b[1;31mAttributeError\u001b[0m                            Traceback (most recent call last)",
      "\u001b[1;32m~\\AppData\\Local\\Temp/ipykernel_4616/1911447100.py\u001b[0m in \u001b[0;36m<module>\u001b[1;34m\u001b[0m\n\u001b[0;32m      1\u001b[0m \u001b[1;32mimport\u001b[0m \u001b[0mpandas\u001b[0m \u001b[1;32mas\u001b[0m \u001b[0mpd\u001b[0m\u001b[1;33m\u001b[0m\u001b[1;33m\u001b[0m\u001b[0m\n\u001b[0;32m      2\u001b[0m \u001b[1;33m\u001b[0m\u001b[0m\n\u001b[1;32m----> 3\u001b[1;33m \u001b[0mdf\u001b[0m \u001b[1;33m=\u001b[0m \u001b[0mpd\u001b[0m\u001b[1;33m.\u001b[0m\u001b[0mred_csv\u001b[0m\u001b[1;33m(\u001b[0m\u001b[1;34m'member_2.csv'\u001b[0m\u001b[1;33m)\u001b[0m\u001b[1;33m\u001b[0m\u001b[1;33m\u001b[0m\u001b[0m\n\u001b[0m\u001b[0;32m      4\u001b[0m \u001b[0mdf\u001b[0m\u001b[1;33m\u001b[0m\u001b[1;33m\u001b[0m\u001b[0m\n",
      "\u001b[1;32m~\\Anaconda3\\lib\\site-packages\\pandas\\__init__.py\u001b[0m in \u001b[0;36m__getattr__\u001b[1;34m(name)\u001b[0m\n\u001b[0;32m    242\u001b[0m         \u001b[1;32mreturn\u001b[0m \u001b[0m_SparseArray\u001b[0m\u001b[1;33m\u001b[0m\u001b[1;33m\u001b[0m\u001b[0m\n\u001b[0;32m    243\u001b[0m \u001b[1;33m\u001b[0m\u001b[0m\n\u001b[1;32m--> 244\u001b[1;33m     \u001b[1;32mraise\u001b[0m \u001b[0mAttributeError\u001b[0m\u001b[1;33m(\u001b[0m\u001b[1;34mf\"module 'pandas' has no attribute '{name}'\"\u001b[0m\u001b[1;33m)\u001b[0m\u001b[1;33m\u001b[0m\u001b[1;33m\u001b[0m\u001b[0m\n\u001b[0m\u001b[0;32m    245\u001b[0m \u001b[1;33m\u001b[0m\u001b[0m\n\u001b[0;32m    246\u001b[0m \u001b[1;33m\u001b[0m\u001b[0m\n",
      "\u001b[1;31mAttributeError\u001b[0m: module 'pandas' has no attribute 'red_csv'"
     ]
    }
   ],
   "source": [
    "import pandas as pd\n",
    "\n",
    "df = pd.read_csv('member_2.csv')\n",
    "df"
   ]
  },
  {
   "cell_type": "code",
   "execution_count": 108,
   "id": "7a39d7a8",
   "metadata": {},
   "outputs": [
    {
     "data": {
      "text/plain": [
       "0    김영수\n",
       "1    박영희\n",
       "2    오민수\n",
       "3    최정길\n",
       "4    이명수\n",
       "5    이철수\n",
       "Name: 이름, dtype: object"
      ]
     },
     "execution_count": 108,
     "metadata": {},
     "output_type": "execute_result"
    }
   ],
   "source": [
    "df['이름']"
   ]
  },
  {
   "cell_type": "code",
   "execution_count": 109,
   "id": "ce321324",
   "metadata": {},
   "outputs": [
    {
     "data": {
      "text/plain": [
       "0    20\n",
       "1    21\n",
       "2    30\n",
       "3    15\n",
       "4    22\n",
       "5    17\n",
       "Name: 나이, dtype: int64"
      ]
     },
     "execution_count": 109,
     "metadata": {},
     "output_type": "execute_result"
    }
   ],
   "source": [
    "df['나이']"
   ]
  },
  {
   "cell_type": "code",
   "execution_count": 111,
   "id": "20cb2567",
   "metadata": {},
   "outputs": [],
   "source": [
    "df.to_csv('member_3.csv', index=False)"
   ]
  }
 ],
 "metadata": {
  "kernelspec": {
   "display_name": "Python 3 (ipykernel)",
   "language": "python",
   "name": "python3"
  },
  "language_info": {
   "codemirror_mode": {
    "name": "ipython",
    "version": 3
   },
   "file_extension": ".py",
   "mimetype": "text/x-python",
   "name": "python",
   "nbconvert_exporter": "python",
   "pygments_lexer": "ipython3",
   "version": "3.9.7"
  }
 },
 "nbformat": 4,
 "nbformat_minor": 5
}
