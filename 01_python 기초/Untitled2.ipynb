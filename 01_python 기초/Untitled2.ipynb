{
 "cells": [
  {
   "cell_type": "code",
   "execution_count": null,
   "id": "5d42215f",
   "metadata": {},
   "outputs": [],
   "source": [
    "# TODO - 간단한 메모장\n",
    "# 사용자로부터 파일명을 입력받는다.\n",
    "# 사용자로 부터 파일에 저장할 문장을 입력받아서 파일에 저장한다.\n",
    "# 사용자가 !q 를 입력하면 종료한다.\n",
    "# 사용자가 저장한 파일을 읽어서 출력한다."
   ]
  },
  {
   "cell_type": "code",
   "execution_count": 1,
   "id": "7d4a97a1",
   "metadata": {},
   "outputs": [
    {
     "name": "stdout",
     "output_type": "stream",
     "text": [
      "파일명:test.txt\n",
      "파일에 저장할 내용을 입력하세요.\n",
      "--------------------------------------------------\n",
      "안녕하세요\n",
      "abcdefg\n",
      "1231231231\n",
      "!q\n"
     ]
    }
   ],
   "source": [
    "filename = input('파일명:')\n",
    "with open(filename,'wt') as fw:\n",
    "    print('파일에 저장할 내용을 입력하세요.')\n",
    "    print('-'*50)\n",
    "    while True:\n",
    "        line = input() #저장할 한줄을 입력받기\n",
    "        if line == '!q':\n",
    "            break\n",
    "        fw.write(line+\"\\n\")"
   ]
  },
  {
   "cell_type": "code",
   "execution_count": 3,
   "id": "7a354934",
   "metadata": {},
   "outputs": [],
   "source": [
    "def simple_memo():\n",
    "    filename = input('파일명:')\n",
    "    with open(filename,'wt') as fw:\n",
    "        print('파일에 저장할 내용을 입력하세요.')\n",
    "        print('-'*50)\n",
    "        while True:\n",
    "            line = input() #저장할 한줄을 입력받기\n",
    "            if line == '!q':\n",
    "                break\n",
    "            fw.write(line+\"\\n\")\n",
    "        "
   ]
  },
  {
   "cell_type": "code",
   "execution_count": 4,
   "id": "d7d860f9",
   "metadata": {},
   "outputs": [
    {
     "name": "stdout",
     "output_type": "stream",
     "text": [
      "파일명:test2.txt\n",
      "파일에 저장할 내용을 입력하세요.\n",
      "--------------------------------------------------\n",
      "a\n",
      "b\n",
      "c\n",
      "d\n",
      "e\n",
      "f\n",
      "g\n",
      "r\n",
      "q\n",
      "a\n",
      "d\n",
      "!q\n"
     ]
    }
   ],
   "source": [
    "simple_memo()"
   ]
  },
  {
   "cell_type": "code",
   "execution_count": 1,
   "id": "30050bc3",
   "metadata": {},
   "outputs": [
    {
     "name": "stdout",
     "output_type": "stream",
     "text": [
      "파일명:test3.txt\n",
      "파일에 저장할 내용을 입력하세요.\n",
      "--------------------------------------------------\n",
      "a\n",
      "b\n",
      "c\n",
      "!q\n"
     ]
    }
   ],
   "source": [
    "#from my_package import memo\n",
    "from my_package.memo import simple_memo as s_memo\n",
    "\n",
    "s_memo()"
   ]
  },
  {
   "cell_type": "markdown",
   "id": "e116e2a1",
   "metadata": {},
   "source": [
    "## CSV(Comma Separated Value)파일 형식\n",
    "- 데이터를 **표형태**로 **텍스트파일**에 저장하기 위한 문서형식\n",
    "- 하나의 데이터는 한줄에 작성 (엔터: 데이터값 구분자)\n",
    "- 하나의 데이터를 구성하는 속성값들은 `,` 로 구분\n",
    "    - tab으로 구분(TSV) "
   ]
  },
  {
   "cell_type": "code",
   "execution_count": 14,
   "id": "15260b2d",
   "metadata": {},
   "outputs": [],
   "source": [
    "# TODO - csv 파일을 읽어서 각 열의 값을 배열에 담는다.\n",
    "# 이름,나이,주소  형태의 csv를 읽어\n",
    "# names = []\n",
    "# ages =[]\n",
    "# address =[]\n",
    "# 배열에 넣는다. 라인이 index가 된다. "
   ]
  },
  {
   "cell_type": "code",
   "execution_count": 15,
   "id": "23dd8464",
   "metadata": {},
   "outputs": [
    {
     "data": {
      "text/plain": [
       "'name,age,address\\n김영수,20,서울\\n박영희,21,서울\\n오민수,30,부산\\n최정길,15,인천\\n이명수,22,광주\\n이철수,17,대전\\n'"
      ]
     },
     "execution_count": 15,
     "metadata": {},
     "output_type": "execute_result"
    }
   ],
   "source": [
    "#통째로 읽기\n",
    "filename = 'member.csv'\n",
    "with open(filename, 'rt', encoding='utf-8') as fi:\n",
    "    data = fi.read()\n",
    "data"
   ]
  },
  {
   "cell_type": "code",
   "execution_count": 22,
   "id": "4755aa17",
   "metadata": {},
   "outputs": [],
   "source": [
    "names = []\n",
    "ages = []\n",
    "addresses = []\n",
    "with open(filename, 'rt',encoding='utf-8') as fi :\n",
    "    for idx, line in enumerate(fi):\n",
    "        if idx == 0 :\n",
    "            continue\n",
    "        tmp = line.split(',')\n",
    "        names.append(tmp[0])\n",
    "        ages.append(tmp[1])\n",
    "        addresses.append(tmp[2].strip())"
   ]
  },
  {
   "cell_type": "code",
   "execution_count": 23,
   "id": "0cb43ad5",
   "metadata": {},
   "outputs": [
    {
     "name": "stdout",
     "output_type": "stream",
     "text": [
      "['김영수', '박영희', '오민수', '최정길', '이명수', '이철수']\n",
      "['20', '21', '30', '15', '22', '17']\n",
      "['서울', '서울', '부산', '인천', '광주', '대전']\n"
     ]
    }
   ],
   "source": [
    "print(names)\n",
    "print(ages)\n",
    "print(addresses)"
   ]
  },
  {
   "cell_type": "code",
   "execution_count": 30,
   "id": "064085f6",
   "metadata": {},
   "outputs": [],
   "source": [
    "#names, ages, addresses => member_2.csv 파일에 csv형식으로 저장 (zip())"
   ]
  },
  {
   "cell_type": "code",
   "execution_count": null,
   "id": "3d12c4d1",
   "metadata": {},
   "outputs": [],
   "source": [
    "save_filename = 'member_3.csv'\n",
    "with open(save_filename, 'wt', encoding='utf-8') as fw:\n",
    "    fw.write(\"이름,나이,주소\\n\")\n",
    "    for name, age, addr in zip(names, ages, addresses):\n",
    "        fw.write(f'{name},{age},{addr}\\n')"
   ]
  },
  {
   "cell_type": "code",
   "execution_count": 31,
   "id": "3aedc396",
   "metadata": {},
   "outputs": [],
   "source": [
    "#인터넷 검색 소스1\n",
    "\n",
    "import csv\n",
    "\n",
    "listitem = [names,ages,addresses]\n",
    "\n",
    "with open('member_2.csv','w') as file :\n",
    "\n",
    "    write = csv.writer(file)\n",
    "    write.writerows(listitem)"
   ]
  },
  {
   "cell_type": "code",
   "execution_count": 32,
   "id": "7ab71a83",
   "metadata": {},
   "outputs": [],
   "source": [
    "#인터넷 검색 소스2\n",
    "\n",
    "import csv\n",
    "\n",
    "with open('member_2.csv', 'w', newline='') as f: \n",
    "    writer = csv.writer(f) \n",
    "    writer.writerow(names) \n",
    "    writer.writerow(ages) \n",
    "    writer.writerow(addresses)\n"
   ]
  },
  {
   "cell_type": "code",
   "execution_count": 33,
   "id": "42ab87df",
   "metadata": {},
   "outputs": [
    {
     "name": "stdout",
     "output_type": "stream",
     "text": [
      "member_2.csv\n"
     ]
    }
   ],
   "source": [
    "print('member_2.csv')"
   ]
  },
  {
   "cell_type": "code",
   "execution_count": 29,
   "id": "db998d68",
   "metadata": {},
   "outputs": [],
   "source": []
  },
  {
   "cell_type": "code",
   "execution_count": null,
   "id": "374aeef8",
   "metadata": {},
   "outputs": [],
   "source": []
  }
 ],
 "metadata": {
  "kernelspec": {
   "display_name": "Python 3 (ipykernel)",
   "language": "python",
   "name": "python3"
  },
  "language_info": {
   "codemirror_mode": {
    "name": "ipython",
    "version": 3
   },
   "file_extension": ".py",
   "mimetype": "text/x-python",
   "name": "python",
   "nbconvert_exporter": "python",
   "pygments_lexer": "ipython3",
   "version": "3.9.7"
  }
 },
 "nbformat": 4,
 "nbformat_minor": 5
}
