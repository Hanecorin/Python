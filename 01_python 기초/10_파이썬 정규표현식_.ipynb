{
 "cells": [
  {
   "cell_type": "code",
   "execution_count": 5,
   "metadata": {},
   "outputs": [
    {
     "name": "stdout",
     "output_type": "stream",
     "text": [
      "True\n",
      "True\n",
      "True\n"
     ]
    },
    {
     "data": {
      "text/plain": [
       "'010-####-2222'"
      ]
     },
     "execution_count": 5,
     "metadata": {},
     "output_type": "execute_result"
    }
   ],
   "source": [
    "tel = \"010-1111-2222\"\n",
    "# tel 에 2222 있나?\n",
    "print('2222' in tel)\n",
    "# 끝이 2222?\n",
    "print(tel.endswith('2222'))\n",
    "print(tel.startswith('010'))\n",
    "# 가운데 번호 가린다.\n",
    "tel.replace('1111', '####')"
   ]
  },
  {
   "cell_type": "code",
   "execution_count": null,
   "metadata": {},
   "outputs": [],
   "source": [
    "# 10 개\n",
    "tels = \"\"\" \n",
    "010-1111-2222\n",
    "011-333-2323\n",
    "010-4321-1234\n",
    "\"\"\"\n",
    "# 국번을 모두 #으로 가리기"
   ]
  },
  {
   "cell_type": "code",
   "execution_count": null,
   "metadata": {},
   "outputs": [],
   "source": []
  },
  {
   "cell_type": "code",
   "execution_count": null,
   "metadata": {},
   "outputs": [],
   "source": []
  },
  {
   "cell_type": "markdown",
   "metadata": {
    "slideshow": {
     "slide_type": "slide"
    }
   },
   "source": [
    "# <font size=50>정규 표현식 (Regular Expression)</font>"
   ]
  },
  {
   "cell_type": "markdown",
   "metadata": {
    "slideshow": {
     "slide_type": "slide"
    }
   },
   "source": [
    "# 1. 정규 표현식(Regular Expression) 개요"
   ]
  },
  {
   "cell_type": "markdown",
   "metadata": {
    "slideshow": {
     "slide_type": "subslide"
    }
   },
   "source": [
    "https://regexr.com/\n",
    "\n",
    "## 1.1. 정규 표현식이란\n",
    "- 텍스트에서 특정한 형태나 규칙을 가지는 문자열을 찾기 위해 그 형태나 규칙을 정의하는 것.\n",
    "- 파이썬 뿐만 아니라 문자열을 다루는 모든 곳에서 사용된다.\n",
    "- **정규식, Regexp**이라고도 한다."
   ]
  },
  {
   "cell_type": "markdown",
   "metadata": {
    "slideshow": {
     "slide_type": "fragment"
    }
   },
   "source": [
    "## 1.2. 기본개념\n",
    "- 패턴 \n",
    "    - 정규 표현식이라고 한다.\n",
    "    - 문장내에서 찾기위한 문구의 형태에 대한 표현식.\n",
    "    - 메타(meta)문자와 리터럴(literal) 로 구성한다.\n",
    "- 메타문자\n",
    "    - 패턴을 기술하기 위해 사용되는 특별한 의미를 가지는 문자\n",
    "    - 예) `a*` : a가 0회 이상 반복을 뜻한다. a, aa, aaaa\n",
    "- 리터럴\n",
    "    - 표현식이 값 자체를 의미하는 것\n",
    "    - 예) `a`는 `a` 자체를 의미한다.    "
   ]
  },
  {
   "cell_type": "markdown",
   "metadata": {
    "slideshow": {
     "slide_type": "slide"
    }
   },
   "source": [
    "# 2. 정규 표현식 메타 문자\n",
    "- 패턴을 기술하기 위한 문자"
   ]
  },
  {
   "cell_type": "markdown",
   "metadata": {
    "slideshow": {
     "slide_type": "subslide"
    }
   },
   "source": [
    "## 2.1 문자 클래스 :  [  ]\n",
    "- `[ ]` 사이의 문자들과 매칭\n",
    "    - `[abc]` : a, b, c 중 **하나의 문자**와 매치\n",
    "- `-`를 이용해 범위로 설정할 수 있다.\n",
    "    - `[a-z]` : 알파벳소문자중 하나의 문자와 매치\n",
    "    - `[a-zA-Z0-9]` : 알파벳대소문자와 숫자 중 하나의 문자와 매치\n",
    "    - `[ㄱ-ㅎ]`, `[가-힣]`\n",
    "- `[^ 패턴]` : ^ 으로 시작하는 경우 반대의 의미\n",
    "    - `[^abc]` : a, b, c를 제외한 나머지 문자들 중 하나와 매치.\n",
    "    - `[^a-z]` : 알파벳 소문자를 제외한 나머지 문자들 중 하나와 매치"
   ]
  },
  {
   "cell_type": "markdown",
   "metadata": {
    "slideshow": {
     "slide_type": "subslide"
    }
   },
   "source": [
    "## 2.2 미리 정의된 문자 클래스\n",
    "- 자주 사용되는 문자클래스를 미리 정의된 별도 표기법으로 제공한다.\n",
    "- `\\d` : 숫자와 매치. [0-9]와 동일\n",
    "- `\\D` : `\\d`의 반대. 숫자가 아닌 문자와 매치.  [^0-9]와 동일\n",
    "- `\\w` : 문자와 숫자, _(underscore)와 매치. `[a-zA-Z0-9_]`와 동일\n",
    "- `\\W` : `\\w`의 반대. 문자와 숫자와 _ 가 아닌 문자와 매치.  `[^a-zA-Z0-9_]`와 동일\n",
    "- `\\s` : 공백문자와 매치. tab,줄바꿈,공백문자와 일치\n",
    "- `\\S` : `\\s`와 반대. 공백을 제외한 문자열과 매치.\n",
    "- `\\b` : 단어 경계(word boundary) 표시. 보통 단어 경계로 공백을 의미\n",
    "    - `\\b가족\\b` => 우리 가족 만세(O), 우리가족만세 (X)\n",
    "- `\\B` : `\\b`의 반대. 단어 경계로 구분된 단어가 아닌 경우\n",
    "    - `\\B가족\\B` => 우리 가족 만세(X), 우리가족만세 (O)"
   ]
  },
  {
   "cell_type": "markdown",
   "metadata": {
    "slideshow": {
     "slide_type": "subslide"
    }
   },
   "source": [
    "## 2.3. 글자수와 관련된 메타문자\n",
    "- `.` : 한개의 모든 문자(\\n-줄바꿈 제외) (`a.b`)\n",
    "- `*` : 앞의 문자(패턴)과 일치하는 문자가 0개 이상인 경우. (`a*b`)\n",
    "- `+` : 앞의 문자(패턴)과 일치하는 문자가 1개이상인 경우.  (`a+b`)\n",
    "- `?` :  앞의 문자(패턴)과 일치하는 문자가 한개 있거나 없는 경우. (`a?b`)\n",
    "- `{m}` : 앞의 문자(패턴)가 m개. (`a{3}b`)\n",
    "- `{m,}` : 앞의 문자(패턴)이 m개 이상. (`a{3,}b`)\n",
    "    - , 뒤에 공백이 들어오지 않도록 한다.\n",
    "- `{m,n}` : 앞의 문자(패턴)이 m개이상 n개 이하. (`a{2,5}b`)    \n",
    "- `.`, `*`, `+`, `?` 를 리터럴로 표현할 경우 `\\`를 붙인다."
   ]
  },
  {
   "cell_type": "markdown",
   "metadata": {
    "ExecuteTime": {
     "end_time": "2019-05-15T10:08:16.413433Z",
     "start_time": "2019-05-15T10:08:16.407394Z"
    },
    "slideshow": {
     "slide_type": "subslide"
    }
   },
   "source": [
    "## 2.4. 문장의 시작과 끝 표현\n",
    "- `^` 문자열의 시작 (`^abc`)\n",
    "    - 문자 클래스([ ])의 ^와는 의미가 다르다.\n",
    "- `$` : 문자열의 끝 (`abc$`)"
   ]
  },
  {
   "cell_type": "markdown",
   "metadata": {
    "ExecuteTime": {
     "end_time": "2019-05-15T10:08:16.413433Z",
     "start_time": "2019-05-15T10:08:16.407394Z"
    },
    "slideshow": {
     "slide_type": "fragment"
    }
   },
   "source": [
    "## 2.5. 기타\n",
    "- `|` : 둘중 하나 (OR) (010|011|016|019)\n",
    "    - ( )로 묶어서 사용한다. \n",
    "    - 010|016-111 : 010 또는 016-111 이 된다. \n",
    "- `(  )` : 패턴내 하위그룹을 만들때 사용"
   ]
  },
  {
   "cell_type": "markdown",
   "metadata": {
    "slideshow": {
     "slide_type": "slide"
    }
   },
   "source": [
    "# 3. re 모듈\n",
    "- 파이썬에서 정규 표현식을 지원하기 위한 모듈\n",
    "- 파이썬 기본 라이브러리"
   ]
  },
  {
   "cell_type": "markdown",
   "metadata": {
    "slideshow": {
     "slide_type": "subslide"
    }
   },
   "source": [
    "## 3.1 코딩패턴\n",
    "1. 모듈 import\n",
    "    - import re\n",
    "2. 패턴 객체 생성\n",
    "    - 패턴 컴파일\n",
    "    - 패턴을 가지고 있는 객체 생성\n",
    "3. 텍스트에서 패턴 문자열 검색또는 변경 작업\n",
    "\n",
    "> ### raw string (r-string)\n",
    "> - 패턴을 지정하는 문자열 앞에 r 표시구분자를 붙인 것을 말한다.\n",
    "> - `\\`를 일반문자로 처리\n",
    ">    - `re.compile('\\b가족\\b')` : `\\b`를 escape 문자 b(백스페이스)로 인식\n",
    ">    - `re.compile(r'\\b가족\\b')` : `\\b`가 일반문자가 되어 컴파일시 정규식 메타문자로 처리된다.\n"
   ]
  },
  {
   "cell_type": "code",
   "execution_count": 9,
   "metadata": {},
   "outputs": [
    {
     "name": "stdout",
     "output_type": "stream",
     "text": [
      "\\b가족\\b\n"
     ]
    }
   ],
   "source": [
    "print(r'\\b가족\\b')"
   ]
  },
  {
   "cell_type": "code",
   "execution_count": null,
   "metadata": {},
   "outputs": [],
   "source": [
    "p = r'12[a-z]34'"
   ]
  },
  {
   "cell_type": "markdown",
   "metadata": {
    "slideshow": {
     "slide_type": "subslide"
    }
   },
   "source": [
    "> ### 정규식 관련 함수 구문의 두 형태\n",
    "1. pattern객체.메소드(매개변수)\n",
    "    ```python\n",
    "        p = re.compile(r'\\d+')\n",
    "        p.search('abc123def')\n",
    "    ```\n",
    "2. re.정규식사용함수(패턴, 매개변수)\n",
    "    ```python\n",
    "        re.search(r'\\d+', 'abc123def')\n",
    "    ```"
   ]
  },
  {
   "cell_type": "markdown",
   "metadata": {
    "slideshow": {
     "slide_type": "slide"
    }
   },
   "source": [
    "## 3.2. 검색함수\n",
    "- match(), search() : 패턴과 일치하는 문장이 **있는지 여부**를 확인할 때 사용\n",
    "- findall() : 패턴과 일치하는 문장을 **찾을 때** 사용"
   ]
  },
  {
   "cell_type": "markdown",
   "metadata": {
    "slideshow": {
     "slide_type": "subslide"
    }
   },
   "source": [
    "### 3.2.1. Match 객체\n",
    "- **검색 결과를** 담아 반환되는 객체\n",
    "    - match(), search() 의 반환타입\n",
    "- 패턴과 일치한 문자열과 대상문자열 내에서의 위치를 가지고 있는 객체\n",
    "- 주요 메소드\n",
    "    - **group()** : 매치된 문자열들을 튜플로 반환\n",
    "    - **group(subgroup 번호)** : 패턴에 하위그룹이 지정된 경우 특정 그룹의 문자열 반환\n",
    "    - **start(), end()** : 대상 문자열내에서 시작, 끝 index 반환\n",
    "    - **span()** : 대상 문자열 내에서 시작, 끝 index를 tuple로 반환"
   ]
  },
  {
   "cell_type": "markdown",
   "metadata": {
    "slideshow": {
     "slide_type": "subslide"
    }
   },
   "source": [
    "### 3.2.2 match(대상문자열 [, pos=0])\n",
    "- 대상 문자열의 시작 부터 정규식과 일치하는 것이 있는지 조회\n",
    "- pos : 시작 index 지정\n",
    "- 반환값\n",
    "    - Match 객체: 일치하는 문자열이 있는 경우\n",
    "    - None: 일치하는 문자열이 없는 경우"
   ]
  },
  {
   "cell_type": "code",
   "execution_count": 21,
   "metadata": {},
   "outputs": [
    {
     "name": "stdout",
     "output_type": "stream",
     "text": [
      "None\n"
     ]
    }
   ],
   "source": [
    "import re\n",
    "\n",
    "txt = \"안녕하세요. 제 나이는 20세 입니다.\"\n",
    "pattern_txt = r\"\\d+\"  #\\d: 정수하나 +: 1글자 이상  => 정수 한글자 이상\n",
    "# pattern_txt = r\"\\w+\" #\\w: 문자,숫자,_ 한글자\n",
    "\n",
    "# 함수형방식\n",
    "\n",
    "# 첫번째 매개변수: 패턴,  두번째 매개변수: 찾으려는 대상문자열, 세번째 부터: 기타 설정\n",
    "m = re.match(pattern_txt, txt)    #match() 함수 : 대상문자열이 패턴으로 시작하나? \n",
    "print(m)  #None: 그 패턴으로 시작하는 문자열이 없다., Match객체: 패턴에 맞는 것을 찾으면 찾은 정보를  Match객체에 담아 반환\n"
   ]
  },
  {
   "cell_type": "code",
   "execution_count": 16,
   "metadata": {},
   "outputs": [
    {
     "name": "stdout",
     "output_type": "stream",
     "text": [
      "<re.Match object; span=(0, 5), match='안녕하세요'>\n",
      "찾은 문자열: 안녕하세요\n",
      "찾은 문자열의 시작 index: 0\n",
      "찾은 문자열의 끝 index: 5\n",
      "시작, 끝 index: (0, 5)\n"
     ]
    }
   ],
   "source": [
    "print(m)\n",
    "print(\"찾은 문자열:\", m.group())\n",
    "print('찾은 문자열의 시작 index:', m.start())\n",
    "print('찾은 문자열의 끝 index:', m.end())  #end index는 포함안됨.\n",
    "print('시작, 끝 index:', m.span())"
   ]
  },
  {
   "cell_type": "code",
   "execution_count": 19,
   "metadata": {},
   "outputs": [
    {
     "name": "stdout",
     "output_type": "stream",
     "text": [
      "안녕하세요 (0, 5)\n"
     ]
    }
   ],
   "source": [
    "# 객체지향 방식\n",
    "import re\n",
    "txt = \"안녕하세요. 제 나이는 20세 입니다.\"\n",
    "# 패턴객체\n",
    "p = re.compile(r'\\w+')\n",
    "# p = re.compile(r'\\d+')\n",
    "# 조회/변경하는 패턴객체의 메소드를 호출\n",
    "m = p.match(txt)\n",
    "if m:  #m != None => 조회결과가 있으면\n",
    "    print(m.group(), m.span())\n",
    "else:\n",
    "    print('대상이 없음.')"
   ]
  },
  {
   "cell_type": "code",
   "execution_count": 20,
   "metadata": {},
   "outputs": [
    {
     "name": "stdout",
     "output_type": "stream",
     "text": [
      "<re.Match object; span=(0, 1), match='안'>\n"
     ]
    }
   ],
   "source": [
    "txt = \"안녕하세요. 제 나이는 20세 입니다.\"\n",
    "print(re.match(r'\\w', txt))"
   ]
  },
  {
   "cell_type": "markdown",
   "metadata": {
    "slideshow": {
     "slide_type": "subslide"
    }
   },
   "source": [
    "### 3.2.3 search(대상문자열 [, pos=0])\n",
    "- 대상문자열 전체 안에서 정규식과 일치하는 것이 있는지 조회\n",
    "- pos: 찾기 시작하는 index 지정\n",
    "- 반환값\n",
    "    - Match 객체: 일치하는 문자열이 있는 경우\n",
    "    - None: 일치하는 문자열이 없는 경우|"
   ]
  },
  {
   "cell_type": "code",
   "execution_count": 25,
   "metadata": {},
   "outputs": [
    {
     "name": "stdout",
     "output_type": "stream",
     "text": [
      "10 (21, 23)\n"
     ]
    }
   ],
   "source": [
    "import re\n",
    "txt = \"안녕하세요. 제 나이는 20세 입니다.10년 후에는 30세가 됩니다.\"\n",
    "p = re.compile(r'\\d+')\n",
    "#첫번째로 찾은 것을 반환.\n",
    "# m = p.search(txt)    # 0번 index부터 찾아라.\n",
    "m = p.search(txt, 16)  #16번 index부터 찾아라.\n",
    "if m:\n",
    "    print(m.group(), m.span())\n",
    "else:\n",
    "    print('숫자가 없습니다.')\n"
   ]
  },
  {
   "cell_type": "code",
   "execution_count": 33,
   "metadata": {},
   "outputs": [
    {
     "name": "stdout",
     "output_type": "stream",
     "text": [
      "300원 (4, 8)\n"
     ]
    }
   ],
   "source": [
    "txt = \"가격은 300원 5000원 10000원 20000원 700원 입니다. 한번에 100개씩 주문해 주세요.\"\n",
    "\n",
    "p_txt = r\"\\b\\d{3}원\" # 백원대 가격  정수세개\n",
    "# m = re.search(p_txt, txt)\n",
    "p = re.compile(p_txt)\n",
    "m = p.search(txt, 7)\n",
    "if m:\n",
    "    print(m.group(), m.span())\n",
    "else:\n",
    "    print('없음')"
   ]
  },
  {
   "cell_type": "markdown",
   "metadata": {
    "slideshow": {
     "slide_type": "subslide"
    }
   },
   "source": [
    "### 3.2.4. findall(대상문자열)\n",
    "- 대상문자열에서 정규식과 매칭되는 문자열들을 리스트로 반환\n",
    "- 반환값\n",
    "    - 리스트(List) : 일치하는 문자열들을 가진 리스트를 반환\n",
    "    - 일치하는 문자열이 없는 경우 빈 리스트 반환"
   ]
  },
  {
   "cell_type": "code",
   "execution_count": 53,
   "metadata": {},
   "outputs": [
    {
     "name": "stdout",
     "output_type": "stream",
     "text": [
      "[' ', ' ', '. ', ' ', ' ', '. ', ' ', '_', ' ', '.']\n"
     ]
    }
   ],
   "source": [
    "# txt = 'Life is short. You need python.'\n",
    "txt = 'Life is short. You need python. 파이썬3 많이_많이 좋습니다.'\n",
    "# result = re.findall(r\"[a-z]\", txt)  # [a-z]: 모든 소문자 1글자\n",
    "# result = re.findall(r'[a-z]+', txt)   # [a-z]: 모든 소문자 , +: 1글자 이상   소문자가 1글자 이상 연결된 것.\n",
    "# result = re.findall(r'[a-zA-Z]+', txt) \n",
    "# result = re.findall(r'[a-zA-Z가-힣0-9]+', txt) #영문대소문자, 모든 한글글자. 숫자\n",
    "# result = re.findall(r'\\w+', txt)\n",
    "result = re.findall(r'[^a-zA-Z가-힣0-9]+', txt)  #[^ ] not 대소문자, 한글글자, 숫자\n",
    "#결과 문자열을 리스트에 담아서 반환 -  findall()\n",
    "\n",
    "print(result)\n",
    "'short. Yu'"
   ]
  },
  {
   "cell_type": "code",
   "execution_count": 51,
   "metadata": {},
   "outputs": [
    {
     "name": "stdout",
     "output_type": "stream",
     "text": [
      "<class 'callable_iterator'>\n",
      "Life (0, 4)\n",
      "is (5, 7)\n",
      "short (8, 13)\n",
      "You (15, 18)\n",
      "need (19, 23)\n",
      "python (24, 30)\n",
      "파이썬3 (32, 36)\n",
      "많이_많이 (37, 42)\n",
      "좋습니다 (43, 47)\n"
     ]
    }
   ],
   "source": [
    "result_iter = re.finditer(r'\\w+', txt)  #finditer(): iterator를 반환. next() 결과하나를 Match객체로 반환\n",
    "print(type(result_iter))\n",
    "# print(next(result_iter), next(result_iter))\n",
    "for m in result_iter:\n",
    "    print(m.group(), m.span())"
   ]
  },
  {
   "cell_type": "code",
   "execution_count": null,
   "metadata": {},
   "outputs": [],
   "source": []
  },
  {
   "cell_type": "markdown",
   "metadata": {
    "slideshow": {
     "slide_type": "slide"
    }
   },
   "source": [
    "### 예제\n",
    "- info 변수는 한줄에 한사람의 data가 있고 구성은 **`이름 이메일주소 주민번호`** 순서로 되어있다."
   ]
  },
  {
   "cell_type": "code",
   "execution_count": 57,
   "metadata": {},
   "outputs": [],
   "source": [
    "info ='''김정수 kjs@gmail.com 801023-1010221\n",
    "박영수 pys@gmail.com 700121-1120212\n",
    "이민영 lmy@naver.com 820301-2020122\n",
    "김순희 ksh@daum.net 781223-2012212\n",
    "오주연 ojy@daum.net 900522-1023218\n",
    "'''"
   ]
  },
  {
   "cell_type": "code",
   "execution_count": 56,
   "metadata": {},
   "outputs": [
    {
     "name": "stdout",
     "output_type": "stream",
     "text": [
      "김정수 kjs@gmail.com 801023-1010221\n",
      "박영수 pys@gmail.com 700121-1120212\n",
      "이민영 lmy@naver.com 820301-2020122\n",
      "김순희 ksh@daum.net 781223-2012212\n",
      "오주연 ojy@daum.net 900522-1023218\n",
      "\n"
     ]
    }
   ],
   "source": [
    "print(info)"
   ]
  },
  {
   "cell_type": "code",
   "execution_count": 66,
   "metadata": {},
   "outputs": [
    {
     "name": "stdout",
     "output_type": "stream",
     "text": [
      "['kjs@gmail.com', 'pys@gmail.com', 'lmy@naver.com', 'ksh@daum.net', 'ojy@daum.net']\n"
     ]
    }
   ],
   "source": [
    "# 이메일 주소만 조회\n",
    "import re\n",
    "email_pattern = r\"[A-Za-z0-9_.%+-]+@[A-Za-z0-9,-]+\\.[A-Za-z]{2,4}\"\n",
    "p = re.compile(email_pattern)\n",
    "# p.match(info) # info 문자열의 시작하는 문자열이 email 패턴으로 시작\n",
    "# p.search(info) # info  문자열 안에 이메일이 있는지 있으면 첫번째 찾은 것 반환\n",
    "email_list = p.findall(info)\n",
    "print(email_list)  #info 내에 있는 email 주소 문자열들을 조회\n"
   ]
  },
  {
   "cell_type": "code",
   "execution_count": 68,
   "metadata": {},
   "outputs": [
    {
     "name": "stdout",
     "output_type": "stream",
     "text": [
      "kjs@gmail.com 4 17 (4, 17)\n",
      "pys@gmail.com 37 50 (37, 50)\n",
      "lmy@naver.com 70 83 (70, 83)\n",
      "ksh@daum.net 103 115 (103, 115)\n",
      "ojy@daum.net 135 147 (135, 147)\n"
     ]
    }
   ],
   "source": [
    "email_iter = p.finditer(info)  # 패턴과 일치하는(이메일주소) 조회결과를 Match 객체로 반환\n",
    "for email_match in email_iter:\n",
    "    print(email_match.group(), email_match.start(), email_match.end(), email_match.span())\n",
    "#     print(email_match.group(1))\n",
    "#     print(\"--------\")"
   ]
  },
  {
   "cell_type": "code",
   "execution_count": 75,
   "metadata": {},
   "outputs": [],
   "source": [
    "info ='''김정수 kjs@gmail.com 801023-7010221\n",
    "박영수 pys@gmail.com 700121-1120212\n",
    "이민영 lmy@naver.com 820301-2020122\n",
    "김순희 ksh@daum.net 781223-2012212\n",
    "오주연 ojy@daum.net 900522-1023218\n",
    "'''"
   ]
  },
  {
   "cell_type": "code",
   "execution_count": 77,
   "metadata": {},
   "outputs": [
    {
     "name": "stdout",
     "output_type": "stream",
     "text": [
      "['801023-7010221']\n",
      "[<re.Match object; span=(18, 32), match='801023-7010221'>]\n"
     ]
    }
   ],
   "source": [
    "# 주민번호만 출력\n",
    "# jumin_pattern = r\"\\d{6}-\\d{7}\"  #숫자6개-숫자7\n",
    "# jumin_pattern = r\"\\d{6}-[1-4]\\d{6}\" #숫자6개- [1234]숫자6\n",
    "jumin_pattern = r\"\\d{6}-[^1-4]\\d{6}\" \n",
    "jumin_p = re.compile(jumin_pattern)\n",
    "jumin_list = jumin_p.findall(info)\n",
    "print(jumin_list)\n",
    "jumin_matches = jumin_p.finditer(info)\n",
    "print(list(jumin_matches))"
   ]
  },
  {
   "cell_type": "markdown",
   "metadata": {
    "slideshow": {
     "slide_type": "subslide"
    }
   },
   "source": [
    "## 3.3. 문자열 변경\n",
    "- sub(): 변경된 문자열 반환\n",
    "- subn(): 변경된 문자열, 변경개수 반환"
   ]
  },
  {
   "cell_type": "markdown",
   "metadata": {
    "slideshow": {
     "slide_type": "subslide"
    }
   },
   "source": [
    "### 3.3.1 sub(바꿀문자열, 대상문자열 [, count=양수])\n",
    "- 대상문자열에서 패턴과 일치하는 것을 바꿀문자열로 변경한다.\n",
    "- count: 변경할 개수를 지정. 기본: 매칭되는 문자열은 다 변경\n",
    "- 반환값: 변경된 문자열\n",
    "\n",
    "### 3.3.2 subn(바꿀문자열, 대상문자열 [, count=양수])\n",
    "- sub()와 동일한 역할.\n",
    "- 반환값 : (변경된 문자열, 변경된문자열개수) 를 tuple로 반환"
   ]
  },
  {
   "cell_type": "markdown",
   "metadata": {
    "slideshow": {
     "slide_type": "slide"
    }
   },
   "source": [
    "### 예제 "
   ]
  },
  {
   "cell_type": "code",
   "execution_count": 83,
   "metadata": {},
   "outputs": [
    {
     "name": "stdout",
     "output_type": "stream",
     "text": [
      "      bbbbbbbbb                   \n",
      "bbbbbbbbba\n"
     ]
    }
   ],
   "source": [
    "username = input()\n",
    "print(username.rstrip(), 'a', sep='')"
   ]
  },
  {
   "cell_type": "code",
   "execution_count": 86,
   "metadata": {},
   "outputs": [
    {
     "name": "stdout",
     "output_type": "stream",
     "text": [
      "오늘 밥을 먹었다.\n",
      "오늘            밥을           먹었다.\n"
     ]
    }
   ],
   "source": [
    "# 띄여 쓰기 여러개를 한개로 변경.\n",
    "import re\n",
    "txt= \"오늘            밥을           먹었다.\" # \"오늘 밥을 먹었다.\"\n",
    "p = re.compile(r'\\s+')  #바꿀 대상을 패턴. \\s: 공백(스페이스, 탭, 엔터) 하나. +: 1개이상\n",
    "result = p.sub(\" \",  txt)\n",
    "print(result)\n",
    "print(txt)"
   ]
  },
  {
   "cell_type": "code",
   "execution_count": 89,
   "metadata": {},
   "outputs": [
    {
     "data": {
      "text/plain": [
       "'오늘 밥을 먹었다.'"
      ]
     },
     "execution_count": 89,
     "metadata": {},
     "output_type": "execute_result"
    }
   ],
   "source": [
    "result = re.sub(r'\\s{2,}', ' ', txt)  # \\s{2,}: 공백 두개이상이 붙은 문자열\n",
    "result\n",
    "                "
   ]
  },
  {
   "cell_type": "code",
   "execution_count": 92,
   "metadata": {},
   "outputs": [
    {
     "name": "stdout",
     "output_type": "stream",
     "text": [
      "<class 'tuple'>\n",
      "('오늘 밥을 먹었다.', 2)\n"
     ]
    },
    {
     "data": {
      "text/plain": [
       "('오늘 밥을 먹었다.', 2)"
      ]
     },
     "execution_count": 92,
     "metadata": {},
     "output_type": "execute_result"
    }
   ],
   "source": [
    "result = p.subn(' ', txt)\n",
    "print(type(result))\n",
    "print(result)\n",
    "result[0], result[1]"
   ]
  },
  {
   "cell_type": "code",
   "execution_count": 96,
   "metadata": {},
   "outputs": [
    {
     "name": "stdout",
     "output_type": "stream",
     "text": [
      "01011112222 01033213201 01032133031\n"
     ]
    }
   ],
   "source": [
    "# 전화번호에서 사용된 구분자를 제거. 각 전화번호를 구분하는 공백은 남긴다.\n",
    "tel = '010-1111-2222, 01033213201 (010)3213-3031'\n",
    "p = re.compile(r'[^0-9 ]')\n",
    "result = p.sub('', tel)    \n",
    "print(result)\n",
    "# 01011112222 01033213201  01032133031"
   ]
  },
  {
   "cell_type": "markdown",
   "metadata": {
    "slideshow": {
     "slide_type": "subslide"
    }
   },
   "source": [
    "## 3.4 나누기(토큰화)\n",
    "### 3.4.1 split(대상문자열)\n",
    "- pattern의 구분자로 문장을 나눈다.\n",
    "- 반환: 나눈 문자열을 원소로 하는 리스트"
   ]
  },
  {
   "cell_type": "code",
   "execution_count": 99,
   "metadata": {},
   "outputs": [
    {
     "data": {
      "text/plain": [
       "['홍길동', '김영수', '박영희', '유관순', '이순신']"
      ]
     },
     "execution_count": 99,
     "metadata": {},
     "output_type": "execute_result"
    }
   ],
   "source": [
    "f = '홍길동|김영수|박영희|유관순|이순신'\n",
    "v = f.split('|') #나눠진 값 하나하나를 Token\n",
    "v"
   ]
  },
  {
   "cell_type": "code",
   "execution_count": 102,
   "metadata": {},
   "outputs": [
    {
     "data": {
      "text/plain": [
       "['A', 'B', 'C', 'D', 'E', 'F']"
      ]
     },
     "execution_count": 102,
     "metadata": {},
     "output_type": "execute_result"
    }
   ],
   "source": [
    "txt = 'A.B|C.D,E:F'   #구분자 - .  |  ,  :   => 여러가지가 사용된.\n",
    "p = re.compile(r\"[.|,:]\")  # . : 1글자 \\.  - 문자클래스[]에서는 메타문자가 적용이 안된다.(메타문자가 literal로 사용됨)\n",
    "result = p.split(txt)\n",
    "result"
   ]
  },
  {
   "cell_type": "code",
   "execution_count": null,
   "metadata": {},
   "outputs": [],
   "source": [
    "# http://문자열.문자열들.com\n",
    "# p_txt = r'http[s]*://\\w+\\.'\n"
   ]
  },
  {
   "cell_type": "markdown",
   "metadata": {
    "slideshow": {
     "slide_type": "slide"
    }
   },
   "source": [
    "# 4. 그룹핑(Grouping)\n",
    "- 패턴 내에서 하위패턴을 만드는 것.\n",
    "    - 전체 패턴에서 일부 패턴을 묶어준다.\n",
    "- 구문: (패턴)"
   ]
  },
  {
   "cell_type": "code",
   "execution_count": null,
   "metadata": {},
   "outputs": [],
   "source": [
    "r\"\\d{6}-\\d{7}\"\n",
    "801023-7010221\n",
    "700121-1120212\n",
    "820301-2020122\n",
    "781223-2012212\n",
    "900522-1023218"
   ]
  },
  {
   "cell_type": "markdown",
   "metadata": {
    "ExecuteTime": {
     "end_time": "2019-05-16T00:50:03.543080Z",
     "start_time": "2019-05-16T00:50:03.537062Z"
    },
    "slideshow": {
     "slide_type": "subslide"
    }
   },
   "source": [
    "## 4.1. 그룹핑 예"
   ]
  },
  {
   "cell_type": "markdown",
   "metadata": {
    "ExecuteTime": {
     "end_time": "2019-05-16T00:56:13.966065Z",
     "start_time": "2019-05-16T00:56:13.960644Z"
    },
    "slideshow": {
     "slide_type": "subslide"
    }
   },
   "source": [
    "### 4.1.1 전체 패턴 내에서 일부 패턴을 조회"
   ]
  },
  {
   "cell_type": "code",
   "execution_count": null,
   "metadata": {},
   "outputs": [],
   "source": [
    "\"\"\"\n",
    "010-1111-2222\n",
    "akljsflk\n",
    "askjladfjklfdjkldsfdsafjklsdaf\n",
    "fsadlkjsadfjkldsfajklsdfa\n",
    "alkdjflaskdjfklasdf -1992-02-23  aslfkjalskfjaklsdfklasd"
   ]
  },
  {
   "cell_type": "code",
   "execution_count": 107,
   "metadata": {},
   "outputs": [
    {
     "name": "stdout",
     "output_type": "stream",
     "text": [
      "전화번호: 010-1111-2345\n",
      "국번: 1111\n"
     ]
    }
   ],
   "source": [
    "# 전화번호에서 국번만 조회하려는 경우. 단순히 국번의 패턴을 찾는게 아님. 전화번호 패턴안에서 국번에 패턴을 지정\n",
    "tel = '010-1111-2345'\n",
    "p = re.compile(r\"\\d{2,3}-(\\d{3,4})-\\d{4}\")   #전화번호(전체 패턴)에서 국번(일부패턴)패턴\n",
    "m = p.search(tel)\n",
    "print('전화번호:', m.group())  #match.group()==match.group(0) => 전체 패턴과 일치한 문자열\n",
    "print('국번:', m.group(1))     #match.group(index-1부터) => 전체패턴내의 하위패턴과 일치한 문자열 => (패턴)\n",
    "# m.group(2)"
   ]
  },
  {
   "cell_type": "code",
   "execution_count": 111,
   "metadata": {},
   "outputs": [
    {
     "name": "stdout",
     "output_type": "stream",
     "text": [
      "전체 전화번호: 010-1111-2345\n",
      "전체 전화번호: 010-1111-2345\n",
      "통신사/지역번호: 010\n",
      "국번: 1111\n",
      "번호: 2345\n"
     ]
    }
   ],
   "source": [
    "tel = '010-1111-2345'\n",
    "p = re.compile(r\"(\\d{2,3})-(\\d{3,4})-(\\d{4})\")      # (패턴1)-(패턴2)-(패턴3)   => 전체: 0\n",
    "m = p.search(tel)\n",
    "print('전체 전화번호:', m.group()) #전체 패턴과 일치하는 문자열\n",
    "print('전체 전화번호:', m.group(0))\n",
    "print('통신사/지역번호:', m.group(1))\n",
    "print('국번:', m.group(2))\n",
    "print('번호:', m.group(3))"
   ]
  },
  {
   "cell_type": "code",
   "execution_count": 113,
   "metadata": {},
   "outputs": [
    {
     "data": {
      "text/plain": [
       "[('010', '1111', '2345'), ('02', '321', '3838'), ('016', '328', '9391')]"
      ]
     },
     "execution_count": 113,
     "metadata": {},
     "output_type": "execute_result"
    }
   ],
   "source": [
    "tel = '010-1111-2345  02-321-3838 016-328-9391' \n",
    "result = p.findall(tel)\n",
    "result  # 각 하위패턴을 원소로 가지는 튜플로 반환"
   ]
  },
  {
   "cell_type": "code",
   "execution_count": 116,
   "metadata": {
    "scrolled": true
   },
   "outputs": [
    {
     "name": "stdout",
     "output_type": "stream",
     "text": [
      "전체번호: 010-1111-2345\n",
      "지역/통신사: 010\n",
      "국번: 1111\n",
      "번호: 2345\n",
      "------------------------------\n",
      "전체번호: 02-321-3838\n",
      "지역/통신사: 02\n",
      "국번: 321\n",
      "번호: 3838\n",
      "------------------------------\n",
      "전체번호: 016-328-9391\n",
      "지역/통신사: 016\n",
      "국번: 328\n",
      "번호: 9391\n",
      "------------------------------\n"
     ]
    }
   ],
   "source": [
    "result_iter = p.finditer(tel)\n",
    "for m in result_iter:\n",
    "    print('전체번호:', m.group())\n",
    "    print('지역/통신사:', m.group(1))\n",
    "    print('국번:', m.group(2))\n",
    "    print('번호:', m.group(3))\n",
    "    print('-'*30)"
   ]
  },
  {
   "cell_type": "code",
   "execution_count": 119,
   "metadata": {},
   "outputs": [
    {
     "name": "stdout",
     "output_type": "stream",
     "text": [
      "전체: 0000-1111-2222-3333\n",
      "group(1): 0000\n",
      "group(2): 1111-2222\n",
      "group(3): 1111\n",
      "group(4): 2222\n",
      "group(5): 3333\n"
     ]
    }
   ],
   "source": [
    "# 중첩 그룹\n",
    "# 왼쪽 ---> 오른쪽\n",
    "# 바깥쪽 패턴 --> 안쪽 패턴\n",
    "num = '0000-1111-2222-3333'\n",
    "p = re.compile(r\"(\\d{3,4})-((\\d{4})-(\\d{4}))-(\\d{4})\")\n",
    "m = p.search(num)\n",
    "print('전체:', m.group())\n",
    "print('group(1):', m.group(1))\n",
    "print('group(2):', m.group(2))\n",
    "print('group(3):', m.group(3))\n",
    "print('group(4):', m.group(4))\n",
    "print('group(5):', m.group(5))"
   ]
  },
  {
   "cell_type": "markdown",
   "metadata": {
    "slideshow": {
     "slide_type": "subslide"
    }
   },
   "source": [
    "### 4.1.2 패턴 내에서 하위그룹 참조\n",
    "- `\\번호`\n",
    "- 지정한 '번호' 번째 패턴으로 매칭된 문자열과 같은 문자열을 의미"
   ]
  },
  {
   "cell_type": "code",
   "execution_count": 120,
   "metadata": {},
   "outputs": [],
   "source": [
    "tels = \"\"\"\n",
    "010-1111-2222\n",
    "010-3333-3333\n",
    "010-3232-9090\n",
    "02-4321-4321\n",
    "011-5353-1010\n",
    "\"\"\""
   ]
  },
  {
   "cell_type": "code",
   "execution_count": 121,
   "metadata": {},
   "outputs": [
    {
     "name": "stdout",
     "output_type": "stream",
     "text": [
      "[('010', '1111', '2222'), ('010', '3333', '3333'), ('010', '3232', '9090'), ('02', '4321', '4321'), ('011', '5353', '1010')]\n"
     ]
    }
   ],
   "source": [
    "p1 = r\"(\\d{2,3})-(\\d{3,4})-(\\d{4})\"  #일반 전화번호 패턴 - findall(tels): 5개 모두 찾는다.\n",
    "print(re.findall(p1, tels))"
   ]
  },
  {
   "cell_type": "code",
   "execution_count": 126,
   "metadata": {},
   "outputs": [
    {
     "name": "stdout",
     "output_type": "stream",
     "text": [
      "010-3333-3333 010 3333 3333\n",
      "02-4321-4321 02 4321 4321\n"
     ]
    }
   ],
   "source": [
    "# 국번과 번호가 같은 전화 전화번호\n",
    "p2 = r\"(\\d{2,3})-(\\d{3,4})-\\2\"    #\\2  : 2번 하위그룹 패턴으로 찾은 값과 동일한 값(문자열) 이 자리에 있어야 한다.\n",
    "for m in re.finditer(p2, tels):\n",
    "    print(m.group(), m.group(1), m.group(2))#, m.group(3))  하위그룹은 ( ) 묶어야 함.  \\번호 -> 호출개념.\n"
   ]
  },
  {
   "cell_type": "markdown",
   "metadata": {},
   "source": [
    "#### 패턴내에서 특정 부분만 변경"
   ]
  },
  {
   "cell_type": "code",
   "execution_count": 127,
   "metadata": {},
   "outputs": [
    {
     "name": "stdout",
     "output_type": "stream",
     "text": [
      "######-######2\n"
     ]
    }
   ],
   "source": [
    "# 주민번호 중에 뒤에 6개 숫자를 가린다.\n",
    "\n",
    "jumin = \"820301-2020122\"\n",
    "p = r\"\\d{6}\"\n",
    "result = re.sub(p, '######', jumin)\n",
    "print(result)\n",
    "# 820301-2######"
   ]
  },
  {
   "cell_type": "code",
   "execution_count": 131,
   "metadata": {},
   "outputs": [
    {
     "name": "stdout",
     "output_type": "stream",
     "text": [
      "!!!!!!!820301-2######\n"
     ]
    }
   ],
   "source": [
    "jumin = \"820301-2020122\"\n",
    "p = r\"(\\d{6}-[1-4])\\d{6}\"  # 1번 group - 820301-2는 그래도 나오고 나머지를  ######\n",
    "result = re.sub(p, '\\g<1>######', jumin)  \n",
    "#jumin변수의 문자열에서 패턴(주민번호)을  '\\g<1>######'으로 변경. \\g<1>: 1번 하위그룹으로 찾은 내용을 그 위치에 표현.\n",
    "print(result)"
   ]
  },
  {
   "cell_type": "code",
   "execution_count": 137,
   "metadata": {},
   "outputs": [
    {
     "name": "stdout",
     "output_type": "stream",
     "text": [
      "김정수 kjs@gmail.com 801023-1#######\n",
      "박영수 pys@gmail.com 700121-1#######\n",
      "이민영 lmy@naver.com 820301-2#######\n",
      "김순희 ksh@daum.net 781223-2#######\n",
      "오주연 ojy@daum.net 900522-1#######\n",
      "\n"
     ]
    }
   ],
   "source": [
    "info ='''김정수 kjs@gmail.com 801023-1010221\n",
    "박영수 pys@gmail.com 700121-1120212\n",
    "이민영 lmy@naver.com 820301-2020122\n",
    "김순희 ksh@daum.net 781223-2012212\n",
    "오주연 ojy@daum.net 900522-1023218\n",
    "'''\n",
    "p = re.compile(r\"(\\d{6}-[1-4])\\d{6}\")\n",
    "# p.search(info)\n",
    "result = p.sub('\\g<1>#######', info)\n",
    "print(result)"
   ]
  },
  {
   "cell_type": "markdown",
   "metadata": {},
   "source": [
    "### 하위 그룹 패턴을 참조\n",
    "- 하위그룹 index: 1부터 시작\n",
    "- Match.group() 함수에서 그룹을 지정\n",
    "    - group(그룹 index)\n",
    "    - ex) m.group(), m.group(1), m.group(2)\n",
    "- 패턴 내에서 참조\n",
    "    - 특정 그룹을 찾은 문자열과 같은 문자열이 있는 위치를 지정\n",
    "    - \\그룹index\n",
    "    - r\"(\\d{4})-\\1\"  값-값\n",
    "- sub() 함수에서 사용\n",
    "    - 특정 그룹에서 찾은 문자열을 이용해서 대체문자열을 생성\n",
    "    - \\g<그룹index>\n",
    "    - re.sub('(\\w+)-\\d+', '\\g<1>-@@@@@', txt)"
   ]
  },
  {
   "cell_type": "markdown",
   "metadata": {},
   "source": [
    "# Greedy(기본), Non-Greedy 탐색\n",
    "- greedy: 최대 일치\n",
    "    - 주어진 패턴을 만족하는 문자열을 최대한 넓게(길게) 잡아서 찾는다.\n",
    "- non-greedy: 최소 일치\n",
    "    - 주어진 패턴을 만족하는 문자열을 최소한으로 잡아서 찾는다. \n",
    "    - 개수의 끝이 정해지지 않은 수량자(개수를 나타내는 메타문자) 뒤에 `?` 를 붙인다.\n",
    "        - ex) `*?`, `+?`, `{m,n}?`, `{m,}?`"
   ]
  },
  {
   "cell_type": "code",
   "execution_count": 144,
   "metadata": {},
   "outputs": [
    {
     "name": "stdout",
     "output_type": "stream",
     "text": [
      "['<h1>', '<b>', '<br>', '<div>']\n"
     ]
    }
   ],
   "source": [
    "import re\n",
    "\n",
    "# txt 안에서 html 태그만 조회 <태그이름(문자열)>\n",
    "txt = \"<h1>파이썬 정규표현식</h1><b>메타문자</b><br><div>test</div>안녕하세요\"\n",
    "# p = re.compile(r\"<.+>\")\n",
    "p = re.compile(r\"<.+?>\")\n",
    "# p = re.compile(r\"<\\w+>\")\n",
    "result = p.findall(txt)\n",
    "print(result)"
   ]
  },
  {
   "cell_type": "code",
   "execution_count": null,
   "metadata": {},
   "outputs": [],
   "source": [
    "<h1>파이썬\n",
    "\n",
    "<\\w+>    <[a-zA-Z0-9_]>"
   ]
  },
  {
   "cell_type": "code",
   "execution_count": null,
   "metadata": {},
   "outputs": [],
   "source": []
  },
  {
   "cell_type": "code",
   "execution_count": null,
   "metadata": {},
   "outputs": [],
   "source": []
  },
  {
   "cell_type": "code",
   "execution_count": null,
   "metadata": {},
   "outputs": [],
   "source": []
  },
  {
   "cell_type": "code",
   "execution_count": null,
   "metadata": {},
   "outputs": [],
   "source": []
  },
  {
   "cell_type": "code",
   "execution_count": null,
   "metadata": {},
   "outputs": [],
   "source": []
  },
  {
   "cell_type": "code",
   "execution_count": null,
   "metadata": {},
   "outputs": [],
   "source": []
  },
  {
   "cell_type": "code",
   "execution_count": null,
   "metadata": {},
   "outputs": [],
   "source": []
  },
  {
   "cell_type": "code",
   "execution_count": null,
   "metadata": {},
   "outputs": [],
   "source": []
  },
  {
   "cell_type": "code",
   "execution_count": null,
   "metadata": {},
   "outputs": [],
   "source": []
  },
  {
   "cell_type": "code",
   "execution_count": null,
   "metadata": {},
   "outputs": [],
   "source": []
  },
  {
   "cell_type": "code",
   "execution_count": null,
   "metadata": {},
   "outputs": [],
   "source": []
  }
 ],
 "metadata": {
  "kernelspec": {
   "display_name": "Python 3 (ipykernel)",
   "language": "python",
   "name": "python3"
  },
  "language_info": {
   "codemirror_mode": {
    "name": "ipython",
    "version": 3
   },
   "file_extension": ".py",
   "mimetype": "text/x-python",
   "name": "python",
   "nbconvert_exporter": "python",
   "pygments_lexer": "ipython3",
   "version": "3.9.7"
  },
  "toc": {
   "base_numbering": 1,
   "nav_menu": {},
   "number_sections": false,
   "sideBar": false,
   "skip_h1_title": false,
   "title_cell": "Table of Contents",
   "title_sidebar": "Contents",
   "toc_cell": false,
   "toc_position": {
    "height": "606.319px",
    "left": "10px",
    "top": "150px",
    "width": "336.889px"
   },
   "toc_section_display": false,
   "toc_window_display": false
  },
  "varInspector": {
   "cols": {
    "lenName": 16,
    "lenType": 16,
    "lenVar": 40
   },
   "kernels_config": {
    "python": {
     "delete_cmd_postfix": "",
     "delete_cmd_prefix": "del ",
     "library": "var_list.py",
     "varRefreshCmd": "print(var_dic_list())"
    },
    "r": {
     "delete_cmd_postfix": ") ",
     "delete_cmd_prefix": "rm(",
     "library": "var_list.r",
     "varRefreshCmd": "cat(var_dic_list()) "
    }
   },
   "types_to_exclude": [
    "module",
    "function",
    "builtin_function_or_method",
    "instance",
    "_Feature"
   ],
   "window_display": false
  }
 },
 "nbformat": 4,
 "nbformat_minor": 2
}
