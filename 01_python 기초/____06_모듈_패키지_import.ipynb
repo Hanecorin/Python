{
 "cells": [
  {
   "cell_type": "code",
   "execution_count": null,
   "id": "d744cd23",
   "metadata": {},
   "outputs": [],
   "source": [
    "# utils.py 의 함수/클래스를 사용\n",
    "#   -> 다른 모듈에 있는 함수/클래스를 사용하겠다.\n",
    "# 1. import\n",
    "#     - 내가 사용할 모듈/함수/클래스를 메모리에 올리는 작업\n",
    "#     - import 사용할것"
   ]
  },
  {
   "cell_type": "code",
   "execution_count": null,
   "id": "b35a0b98",
   "metadata": {
    "scrolled": true
   },
   "outputs": [],
   "source": [
    "# utils 모듈을 import : 모듈의 이름은 파일명 (name.py -> name)\n",
    "# import 후에 수정한 내용은 import 가 안된다. (현재실행을 종료하고 코드를 다시 실행)\n",
    "#    => 쥬피터노트북: Kernel > Restart\n",
    "import utils"
   ]
  },
  {
   "cell_type": "code",
   "execution_count": null,
   "id": "2748cf15",
   "metadata": {},
   "outputs": [],
   "source": [
    "def test():\n",
    "    print('test')"
   ]
  },
  {
   "cell_type": "code",
   "execution_count": null,
   "id": "9b167ed3",
   "metadata": {},
   "outputs": [],
   "source": [
    "# 모듈을 import 하고 모듈안에 함수나 클래스를 사용\n",
    "#  => 모듈.함수()    모듈.클래스()\n",
    "v = utils.plus(10,20)\n",
    "v2 = utils.sum_values(10,20,30)\n",
    "print(v, v2)"
   ]
  },
  {
   "cell_type": "code",
   "execution_count": null,
   "id": "5d95e96a",
   "metadata": {},
   "outputs": [],
   "source": [
    "p = utils.Person(\"홍길동\")\n",
    "print(p)"
   ]
  },
  {
   "cell_type": "code",
   "execution_count": null,
   "id": "ec9c3001",
   "metadata": {},
   "outputs": [],
   "source": [
    "test()"
   ]
  },
  {
   "cell_type": "code",
   "execution_count": null,
   "id": "83e3ce73",
   "metadata": {},
   "outputs": [],
   "source": [
    "# 모듈안에의 함수/클래스를 import\n",
    "# from  모듈명   import 함수명   ==> 현재 namespace으로 넣어준다.\n",
    "# from  모듈명   import 대상1, 대상2, ...\n",
    "# from  모듈명   import *\n",
    "# from utils import plus,  Person\n",
    "# from utils import Person\n",
    "from utils import *\n",
    "v = plus(100, 200)\n",
    "p = Person('유관순')\n",
    "print(v, p)"
   ]
  },
  {
   "cell_type": "code",
   "execution_count": null,
   "id": "56c46bf7",
   "metadata": {},
   "outputs": [],
   "source": [
    "sum_values(1,2,3,4)"
   ]
  },
  {
   "cell_type": "code",
   "execution_count": null,
   "id": "737505ee",
   "metadata": {},
   "outputs": [],
   "source": [
    "# import 한 것에 별칭(alias)\n",
    "# [from 모듈]  import 대상 as 별칭\n",
    "# from utils import plus as pl\n",
    "from utils import plus as pl, Person as P"
   ]
  },
  {
   "cell_type": "code",
   "execution_count": null,
   "id": "9a92d791",
   "metadata": {},
   "outputs": [],
   "source": [
    "# plus(10,20) #호출은 별칭으로 해야 한다.\n",
    "pl(100, 200)"
   ]
  },
  {
   "cell_type": "code",
   "execution_count": null,
   "id": "7a7d6216",
   "metadata": {},
   "outputs": [],
   "source": [
    "p = P('홍길동')\n",
    "print(p)"
   ]
  },
  {
   "cell_type": "code",
   "execution_count": null,
   "id": "7ea2b8b6",
   "metadata": {},
   "outputs": [],
   "source": [
    "import utils  as ut\n",
    "ut.plus(1,2)"
   ]
  },
  {
   "cell_type": "code",
   "execution_count": null,
   "id": "a4516d3c",
   "metadata": {},
   "outputs": [],
   "source": [
    "ut.sum_values(1,2,3,4,5)"
   ]
  },
  {
   "cell_type": "code",
   "execution_count": null,
   "id": "d9594b4b",
   "metadata": {},
   "outputs": [],
   "source": [
    "# import pandas as pd\n",
    "# import numpy as np\n",
    "# import tensorflow as tf"
   ]
  },
  {
   "cell_type": "code",
   "execution_count": null,
   "id": "089346dc",
   "metadata": {},
   "outputs": [],
   "source": [
    "# 패키지 안의 모듈을 import\n",
    "#  from 패키지 import 모듈\n",
    "from my_package import calc   #my_package 디렉토리 아래 calc.py 파일 \n",
    "v1 = calc.plus(10,20)\n",
    "v2 = calc.minus(20, 10)\n",
    "v3 = calc.multiply(5, 2)\n",
    "v4 = calc.divide(10, 5)\n",
    "print(v1, v2, v3, v4)"
   ]
  },
  {
   "cell_type": "code",
   "execution_count": null,
   "id": "aa1de9de",
   "metadata": {},
   "outputs": [],
   "source": [
    "from a.b.c.d.e import f\n",
    "# 함수 import (f: 함수)\n",
    "# 패키지: a, b, c, d     모듈: e"
   ]
  },
  {
   "cell_type": "code",
   "execution_count": null,
   "id": "4567a1ff",
   "metadata": {},
   "outputs": [],
   "source": [
    "# 패키지 안의 모듈 안의 함수\n",
    "# from   root패키지.sub패키지.모듈 import 함수명\n",
    "from my_package.calc import divide as di, multiply as mp "
   ]
  },
  {
   "cell_type": "code",
   "execution_count": null,
   "id": "cda73cef",
   "metadata": {},
   "outputs": [],
   "source": [
    "di(100, 5)"
   ]
  },
  {
   "cell_type": "code",
   "execution_count": null,
   "id": "dbc67388",
   "metadata": {},
   "outputs": [],
   "source": [
    "mp(100, 20)"
   ]
  },
  {
   "cell_type": "code",
   "execution_count": null,
   "id": "dff70ee9",
   "metadata": {},
   "outputs": [],
   "source": [
    "# from your_package.calc2 import plus\n",
    "from your_package import calc2\n",
    "\n",
    "# 현재 작업디렉토리(현재 모듈이 실행되는 경로)/your_package\n",
    "# your_package 다른 경로에 저장\n",
    "# OS의 환경변수에 PYTHONPATH 변수명으로 파이썬 LIB(패키지들) 가 저장된 디렉토리를 설정\n",
    "# PYTHON에 내장된 함수나 패키지들, pip/conda install 설치한 패키지들 은 \n",
    "#                                                       그냥 import 해서 사용가능"
   ]
  },
  {
   "cell_type": "code",
   "execution_count": null,
   "id": "c1216071",
   "metadata": {},
   "outputs": [],
   "source": [
    "calc2.plus(100,200)"
   ]
  },
  {
   "cell_type": "code",
   "execution_count": 1,
   "id": "2ecdbd21",
   "metadata": {},
   "outputs": [],
   "source": [
    "import utils"
   ]
  },
  {
   "cell_type": "code",
   "execution_count": 2,
   "id": "6fbbb104",
   "metadata": {},
   "outputs": [
    {
     "name": "stdout",
     "output_type": "stream",
     "text": [
      "이름: 이순신\n"
     ]
    }
   ],
   "source": [
    "p = utils.Person('이순신')\n",
    "print(p)"
   ]
  },
  {
   "cell_type": "code",
   "execution_count": 3,
   "id": "29d08109",
   "metadata": {},
   "outputs": [
    {
     "name": "stdout",
     "output_type": "stream",
     "text": [
      "__main__\n"
     ]
    }
   ],
   "source": [
    "# __name__  변수\n",
    "# 모듈이 import 되서 실행될 경우: 모듈명 문자열로 들어간다.\n",
    "# 모듈이 메인으로 실행될 경우 (python 파일.py): \"__main__\" 이 들어간다.\n",
    "print(__name__)"
   ]
  },
  {
   "cell_type": "code",
   "execution_count": null,
   "id": "663811ba",
   "metadata": {},
   "outputs": [],
   "source": []
  },
  {
   "cell_type": "code",
   "execution_count": null,
   "id": "41239b69",
   "metadata": {},
   "outputs": [],
   "source": []
  },
  {
   "cell_type": "code",
   "execution_count": null,
   "id": "90d18b9d",
   "metadata": {},
   "outputs": [],
   "source": []
  }
 ],
 "metadata": {
  "kernelspec": {
   "display_name": "Python 3 (ipykernel)",
   "language": "python",
   "name": "python3"
  },
  "language_info": {
   "codemirror_mode": {
    "name": "ipython",
    "version": 3
   },
   "file_extension": ".py",
   "mimetype": "text/x-python",
   "name": "python",
   "nbconvert_exporter": "python",
   "pygments_lexer": "ipython3",
   "version": "3.9.7"
  }
 },
 "nbformat": 4,
 "nbformat_minor": 5
}
