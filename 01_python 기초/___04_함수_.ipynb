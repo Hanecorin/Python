{
 "cells": [
  {
   "cell_type": "code",
   "execution_count": 4,
   "id": "f68b6c9b",
   "metadata": {
    "scrolled": true
   },
   "outputs": [
    {
     "name": "stdout",
     "output_type": "stream",
     "text": [
      "안녕하세요\n",
      "안녕하세요\n"
     ]
    }
   ],
   "source": [
    "s = input() #input 함수를 사용-호출(call)\n",
    "print(s)    #print 함수를 호출"
   ]
  },
  {
   "cell_type": "code",
   "execution_count": 5,
   "id": "0155fcd2",
   "metadata": {
    "scrolled": true
   },
   "outputs": [
    {
     "data": {
      "text/plain": [
       "1000"
      ]
     },
     "execution_count": 5,
     "metadata": {},
     "output_type": "execute_result"
    }
   ],
   "source": [
    "int('1000')"
   ]
  },
  {
   "cell_type": "code",
   "execution_count": 7,
   "id": "33517299",
   "metadata": {},
   "outputs": [
    {
     "name": "stdout",
     "output_type": "stream",
     "text": [
      "100\n",
      "test\n"
     ]
    }
   ],
   "source": [
    "i = int('100') # '100': argument(인수) => 피연산자\n",
    "print(i)  #i 의 100-> int() 함수의 반환값\n",
    "j = print('test')"
   ]
  },
  {
   "cell_type": "markdown",
   "id": "9e1f7b21",
   "metadata": {},
   "source": [
    "# 함수(Function)\n",
    "- 사용자정의 연산자.\n",
    "- 구문\n",
    "```python\n",
    "# [] 옵션, ... 여러개\n",
    "def 함수이름([매개변수, ...] ):\n",
    "    실행 구분들을 순서대로 작성\n",
    "    ...\n",
    "    [return value]\n",
    "```\n",
    "- 함수 이름\n",
    "    - 규칙: 변수와 동일\n",
    "    - 관례: 변수와 동일 - snake 표기법"
   ]
  },
  {
   "cell_type": "code",
   "execution_count": 13,
   "id": "6c22b72f",
   "metadata": {},
   "outputs": [],
   "source": [
    "# 함수 정의\n",
    "#   정의된 함수는 사용하기 위해서는 메모리에 로딩되어야 한다.->실행, import\n",
    "def say_hello():\n",
    "    print(\"안녕하세요\")\n",
    "    print(\"Hello~\")"
   ]
  },
  {
   "cell_type": "code",
   "execution_count": 19,
   "id": "35208db1",
   "metadata": {},
   "outputs": [
    {
     "name": "stdout",
     "output_type": "stream",
     "text": [
      "안녕하세요\n",
      "Hello~\n"
     ]
    }
   ],
   "source": [
    "# 호출: 함수명([argument])\n",
    "# 리턴값이 있는 함수 호출:  변수 = 함수명([argument])\n",
    "say_hello()"
   ]
  },
  {
   "cell_type": "code",
   "execution_count": 18,
   "id": "125a03b9",
   "metadata": {},
   "outputs": [
    {
     "name": "stdout",
     "output_type": "stream",
     "text": [
      "안녕하세요\n",
      "Hello~\n",
      "안녕하세요\n",
      "Hello~\n",
      "안녕하세요\n",
      "Hello~\n"
     ]
    }
   ],
   "source": [
    "say_hello()\n",
    "say_hello()\n",
    "say_hello()"
   ]
  },
  {
   "cell_type": "code",
   "execution_count": 20,
   "id": "bb29d23a",
   "metadata": {},
   "outputs": [],
   "source": [
    "# 매개변수가 있는 함수\n",
    "def say_hello2(name): #name : 매개변수(parameter) -> 호출한 곳으로 부터 전달된 값(argument)를 받을 변수\n",
    "    greeting = f'{name}님 반갑습니다.'\n",
    "    print(greeting)"
   ]
  },
  {
   "cell_type": "code",
   "execution_count": 22,
   "id": "ff7138da",
   "metadata": {},
   "outputs": [
    {
     "name": "stdout",
     "output_type": "stream",
     "text": [
      "홍길동님 반갑습니다.\n"
     ]
    }
   ],
   "source": [
    "say_hello2(\"홍길동\") #매개변수가 있는 함수 호출시 반드시 값을 전달해야 한다."
   ]
  },
  {
   "cell_type": "code",
   "execution_count": 23,
   "id": "f1670397",
   "metadata": {},
   "outputs": [
    {
     "name": "stdout",
     "output_type": "stream",
     "text": [
      "이순신님 반갑습니다.\n",
      "강감찬님 반갑습니다.\n"
     ]
    }
   ],
   "source": [
    "say_hello2('이순신')\n",
    "say_hello2('강감찬')"
   ]
  },
  {
   "cell_type": "code",
   "execution_count": 24,
   "id": "b5636196",
   "metadata": {},
   "outputs": [],
   "source": [
    "# 반환값(리턴값)가 있는 함수\n",
    "def say_hello2(name, age):\n",
    "    greeting = f'{age}세 {name}님 환영합니다.'\n",
    "    return greeting  #greeting변수의 값(처리결과)를 호출한 곳을 전달 => 리턴값\n",
    "                     # return : 호출한 곳으로 돌아가라는 명령어."
   ]
  },
  {
   "cell_type": "code",
   "execution_count": 26,
   "id": "ba782d95",
   "metadata": {},
   "outputs": [
    {
     "name": "stdout",
     "output_type": "stream",
     "text": [
      "20세 홍길동님 환영합니다.30세 이순신님 환영합니다.\n"
     ]
    }
   ],
   "source": [
    "g1 = say_hello2('홍길동', 20)\n",
    "g2 = say_hello2('이순신', 30)\n",
    "print(g1+g2)"
   ]
  },
  {
   "cell_type": "code",
   "execution_count": 36,
   "id": "b42d2436",
   "metadata": {},
   "outputs": [],
   "source": [
    "# 매개변수는 여러개 선언 가능.  리턴값은\n",
    "# 1개만 가능. (처리결과가 여러개인 경우? 자료구조로 묶어서 전달.)\n",
    "# 두개의 값을 받아서 4칙연산한 결과를 반환하는 함수\n",
    "def calc(num1, num2):\n",
    "    a = num1 + num2\n",
    "    b = num1 - num2\n",
    "    c = num1 * num2\n",
    "    d = None\n",
    "    if num2 != 0:\n",
    "        d = num1 / num2\n",
    "    \n",
    "    \n",
    "#     return [a, b, c, d] # 리스트\n",
    "#     return a, b, c, d  #튜플\n",
    "    return {'plus':a, 'minus':b, 'multiply':c, 'divide':d}"
   ]
  },
  {
   "cell_type": "code",
   "execution_count": 43,
   "id": "c3e240e3",
   "metadata": {},
   "outputs": [
    {
     "ename": "NameError",
     "evalue": "name 'a' is not defined",
     "output_type": "error",
     "traceback": [
      "\u001b[1;31m---------------------------------------------------------------------------\u001b[0m",
      "\u001b[1;31mNameError\u001b[0m                                 Traceback (most recent call last)",
      "\u001b[1;32m~\\AppData\\Local\\Temp/ipykernel_10764/696890631.py\u001b[0m in \u001b[0;36m<module>\u001b[1;34m\u001b[0m\n\u001b[0;32m      1\u001b[0m \u001b[0mcalc\u001b[0m\u001b[1;33m(\u001b[0m\u001b[1;36m10\u001b[0m\u001b[1;33m,\u001b[0m \u001b[1;36m5\u001b[0m\u001b[1;33m)\u001b[0m\u001b[1;33m\u001b[0m\u001b[1;33m\u001b[0m\u001b[0m\n\u001b[1;32m----> 2\u001b[1;33m \u001b[0mprint\u001b[0m\u001b[1;33m(\u001b[0m  \u001b[0ma\u001b[0m\u001b[1;33m,\u001b[0m \u001b[0mb\u001b[0m\u001b[1;33m,\u001b[0m \u001b[0mc\u001b[0m\u001b[1;33m,\u001b[0m \u001b[0md\u001b[0m\u001b[1;33m)\u001b[0m  \u001b[1;31m# calc() 함수안에서 선언한 변수들을 사용\u001b[0m\u001b[1;33m\u001b[0m\u001b[1;33m\u001b[0m\u001b[0m\n\u001b[0m",
      "\u001b[1;31mNameError\u001b[0m: name 'a' is not defined"
     ]
    }
   ],
   "source": [
    "calc(10, 5)\n",
    "print(num1, num2, a, b, c, d)  # calc() 함수안에서 선언한 변수들을 사용\n",
    "# 중요)함수 안에 선언된 변수: Local Variable(지역변수) => 사용범위는 함수가 실행하는 동안. 함수안에서만 사용가능"
   ]
  },
  {
   "cell_type": "code",
   "execution_count": 31,
   "id": "03275ee0",
   "metadata": {},
   "outputs": [
    {
     "name": "stdout",
     "output_type": "stream",
     "text": [
      "(15, 5, 50, 2.0)\n",
      "30 10 200 2.0\n"
     ]
    }
   ],
   "source": [
    "result = calc(10,5)\n",
    "print(result)\n",
    "r1, r2, r3, r4 = calc(20, 10) # 리스트 대입\n",
    "print(r1, r2, r3, r4)"
   ]
  },
  {
   "cell_type": "code",
   "execution_count": 39,
   "id": "9c2a970d",
   "metadata": {},
   "outputs": [
    {
     "name": "stdout",
     "output_type": "stream",
     "text": [
      "{'plus': 15, 'minus': 5, 'multiply': 50, 'divide': 2.0}\n",
      "덧셈결과: 15\n"
     ]
    }
   ],
   "source": [
    "result = calc(10,5)\n",
    "print(result)\n",
    "print(\"덧셈결과:\", result['plus'])"
   ]
  },
  {
   "cell_type": "code",
   "execution_count": 38,
   "id": "52271ce8",
   "metadata": {},
   "outputs": [
    {
     "data": {
      "text/plain": [
       "{'plus': 10, 'minus': 10, 'multiply': 0, 'divide': None}"
      ]
     },
     "execution_count": 38,
     "metadata": {},
     "output_type": "execute_result"
    }
   ],
   "source": [
    "result = calc(10, 0)\n",
    "result"
   ]
  },
  {
   "cell_type": "markdown",
   "id": "40fb26c4",
   "metadata": {},
   "source": [
    "## 매개변수와 관련된 문법\n",
    "\n",
    "### Positional Parameter(Argument)\n",
    "- 일반적인 매개변수(parameter)\n",
    "- 매개변수가 선언된 순서대로 값을 전달한다. "
   ]
  },
  {
   "cell_type": "code",
   "execution_count": 56,
   "id": "47690ef6",
   "metadata": {},
   "outputs": [],
   "source": [
    "def print_info(name, age, address):\n",
    "    print(f\"이름: {name}, 나이: {age}, 주소: {address}\")"
   ]
  },
  {
   "cell_type": "code",
   "execution_count": 45,
   "id": "636fdf02",
   "metadata": {},
   "outputs": [
    {
     "name": "stdout",
     "output_type": "stream",
     "text": [
      "이름: 홍길동, 나이: 20, 주소: 서울\n"
     ]
    }
   ],
   "source": [
    "print_info(\"홍길동\", 20, '서울')  #순서에 맞춰서 값들을 전달"
   ]
  },
  {
   "cell_type": "code",
   "execution_count": 46,
   "id": "e5d5f83d",
   "metadata": {},
   "outputs": [
    {
     "name": "stdout",
     "output_type": "stream",
     "text": [
      "이름: 홍길동, 나이: 서울, 주소: 20\n"
     ]
    }
   ],
   "source": [
    "print_info(\"홍길동\", '서울', 20) "
   ]
  },
  {
   "cell_type": "code",
   "execution_count": 47,
   "id": "4d631b15",
   "metadata": {},
   "outputs": [
    {
     "ename": "TypeError",
     "evalue": "print_info() missing 2 required positional arguments: 'age' and 'address'",
     "output_type": "error",
     "traceback": [
      "\u001b[1;31m---------------------------------------------------------------------------\u001b[0m",
      "\u001b[1;31mTypeError\u001b[0m                                 Traceback (most recent call last)",
      "\u001b[1;32m~\\AppData\\Local\\Temp/ipykernel_10764/1747642457.py\u001b[0m in \u001b[0;36m<module>\u001b[1;34m\u001b[0m\n\u001b[1;32m----> 1\u001b[1;33m \u001b[0mprint_info\u001b[0m\u001b[1;33m(\u001b[0m\u001b[1;34m'홍길동'\u001b[0m\u001b[1;33m)\u001b[0m\u001b[1;33m\u001b[0m\u001b[1;33m\u001b[0m\u001b[0m\n\u001b[0m",
      "\u001b[1;31mTypeError\u001b[0m: print_info() missing 2 required positional arguments: 'age' and 'address'"
     ]
    }
   ],
   "source": [
    "print_info('홍길동') # 매개변수에 값을 다 전달해야 한다."
   ]
  },
  {
   "cell_type": "markdown",
   "id": "026bbad3",
   "metadata": {},
   "source": [
    "### 기본값이 있는 매개변수\n",
    "- 매개변수에 값을 대입. 기본값 설정\n",
    "    - 호출할 때 값이 안 전달되면 기본값을 사용."
   ]
  },
  {
   "cell_type": "code",
   "execution_count": 48,
   "id": "b4dea227",
   "metadata": {},
   "outputs": [],
   "source": [
    "def print_info2(name=None, age=-1, address=None):\n",
    "    print(f\"이름: {name}, 나이: {age}, 주소: {address}\")"
   ]
  },
  {
   "cell_type": "code",
   "execution_count": 49,
   "id": "89ca9200",
   "metadata": {},
   "outputs": [
    {
     "name": "stdout",
     "output_type": "stream",
     "text": [
      "이름: 이순순, 나이: 30, 주소: 서울\n"
     ]
    }
   ],
   "source": [
    "print_info2(\"이순순\", 30, \"서울\")"
   ]
  },
  {
   "cell_type": "code",
   "execution_count": 50,
   "id": "a7c6d399",
   "metadata": {},
   "outputs": [
    {
     "name": "stdout",
     "output_type": "stream",
     "text": [
      "이름: None, 나이: -1, 주소: None\n"
     ]
    }
   ],
   "source": [
    "print_info2() # argument 생략하면 기본값을 함수내에서 사용한다."
   ]
  },
  {
   "cell_type": "code",
   "execution_count": 51,
   "id": "3746b506",
   "metadata": {},
   "outputs": [
    {
     "name": "stdout",
     "output_type": "stream",
     "text": [
      "이름: 홍길동, 나이: 25, 주소: None\n"
     ]
    }
   ],
   "source": [
    "# name,age(첫번째, 두번째)는 전달 address(세번째)는 기본값\n",
    "print_info2(\"홍길동\", 25)"
   ]
  },
  {
   "cell_type": "code",
   "execution_count": 52,
   "id": "81b3fd92",
   "metadata": {},
   "outputs": [
    {
     "name": "stdout",
     "output_type": "stream",
     "text": [
      "이름: 강감찬, 나이: -1, 주소: None\n"
     ]
    }
   ],
   "source": [
    "# name(첫번째) 만 전달. age, address는 기본값(두번째 매개변수 부터)\n",
    "print_info2('강감찬')"
   ]
  },
  {
   "cell_type": "code",
   "execution_count": 54,
   "id": "9ddaf84a",
   "metadata": {},
   "outputs": [
    {
     "name": "stdout",
     "output_type": "stream",
     "text": [
      "이름: 부산, 나이: -1, 주소: None\n",
      "이름: None, 나이: -1, 주소: 부산\n"
     ]
    }
   ],
   "source": [
    "# address(세번째)만 전달, name, age(첫,두번째)는 기본값 - \n",
    "#                                        positional argument로는 안된다. => 뒤쪽의 매개변수에만 값을 전달 할 수없다. => keyword argument\n",
    "print_info2('부산')\n",
    "print_info2(None, -1, '부산')"
   ]
  },
  {
   "cell_type": "code",
   "execution_count": 55,
   "id": "f04c1a06",
   "metadata": {},
   "outputs": [
    {
     "name": "stdout",
     "output_type": "stream",
     "text": [
      "이름: None, 나이: -1, 주소: 부산\n"
     ]
    }
   ],
   "source": [
    "print_info2(address='부산') # 매개변수를 지정해서 값을 전달 => keyword argument"
   ]
  },
  {
   "cell_type": "code",
   "execution_count": 57,
   "id": "37d54d32",
   "metadata": {},
   "outputs": [
    {
     "name": "stdout",
     "output_type": "stream",
     "text": [
      "이름: 홍길동, 나이: 40, 주소: 인천\n"
     ]
    }
   ],
   "source": [
    "print_info(address='인천', name='홍길동', age=40) #keyword argument를 사용하면 순서 상관없이 대입"
   ]
  },
  {
   "cell_type": "code",
   "execution_count": 65,
   "id": "e16fd72e",
   "metadata": {},
   "outputs": [],
   "source": [
    "# 기본값이 없는 매개변수들을 먼저 선언하고 이어서 기본값 있는 매개변수들을 선언.\n",
    "def print_info3(name, age, address=None, email=None):#   , hobby):\n",
    "    print(f\"이름: {name}, 나이: {age}, 주소: {address}, 이메일: {email}\")"
   ]
  },
  {
   "cell_type": "code",
   "execution_count": 67,
   "id": "c3ad3faa",
   "metadata": {},
   "outputs": [
    {
     "name": "stdout",
     "output_type": "stream",
     "text": [
      "이름: 홍길동, 나이: 20, 주소: None, 이메일: None\n",
      "이름: 이순신, 나이: 30, 주소: None, 이메일: None\n"
     ]
    }
   ],
   "source": [
    "# 기본값 없는 것과 있는 매개변수들이 섞여 있는 경우 \n",
    "# 기본값 없는 매개변수에는 값을 반드시 전달해야 한다.\n",
    "# 기본값 없는 매개변수: 필수입력사항\n",
    "# 기본값 있는 매개변수: 옵션입력사항\n",
    "print_info3(\"홍길동\", 20)\n",
    "print_info3(name='이순신', age=30)"
   ]
  },
  {
   "cell_type": "markdown",
   "id": "02d81b8e",
   "metadata": {},
   "source": [
    "### 가변인자"
   ]
  },
  {
   "cell_type": "code",
   "execution_count": 68,
   "id": "1cf7d839",
   "metadata": {},
   "outputs": [],
   "source": [
    "def sum_function(num_list):\n",
    "    # 정수 여러개(정해지지 않은 개수)를 받아서 합계를 리턴하는 함수\n",
    "    # argument: 자료구조\n",
    "    sum_value = 0\n",
    "    for v in num_list:\n",
    "        sum_value += v\n",
    "    return sum_value"
   ]
  },
  {
   "cell_type": "code",
   "execution_count": 69,
   "id": "eedcfea6",
   "metadata": {},
   "outputs": [
    {
     "data": {
      "text/plain": [
       "55"
      ]
     },
     "execution_count": 69,
     "metadata": {},
     "output_type": "execute_result"
    }
   ],
   "source": [
    "result = sum_function([1,2,3,4,5,6,7,8,9,10])\n",
    "result"
   ]
  },
  {
   "cell_type": "code",
   "execution_count": 70,
   "id": "fcb444a5",
   "metadata": {},
   "outputs": [
    {
     "data": {
      "text/plain": [
       "60"
      ]
     },
     "execution_count": 70,
     "metadata": {},
     "output_type": "execute_result"
    }
   ],
   "source": [
    "r = sum_function([10,20,30])\n",
    "r"
   ]
  },
  {
   "cell_type": "code",
   "execution_count": 79,
   "id": "986e228b",
   "metadata": {},
   "outputs": [],
   "source": [
    "# 가변인자: 개수가 정해지지 않은 값들을 받아서 처리할 경우 사용\n",
    "# *변수명 - 튜플로 처리. 호출할때는 전달할 값들(argument)을 나열해서 전달한다.\n",
    "def sum_function2(*num_list):\n",
    "    print(type(num_list), num_list)\n",
    "    sum_value = 0\n",
    "    for v in num_list:\n",
    "        sum_value += v\n",
    "    return sum_value"
   ]
  },
  {
   "cell_type": "code",
   "execution_count": 80,
   "id": "50043a79",
   "metadata": {},
   "outputs": [
    {
     "name": "stdout",
     "output_type": "stream",
     "text": [
      "<class 'tuple'> (1, 2, 3, 4, 5)\n",
      "15\n"
     ]
    }
   ],
   "source": [
    "r1 = sum_function2(1,2,3,4,5)\n",
    "print(r1)"
   ]
  },
  {
   "cell_type": "code",
   "execution_count": 83,
   "id": "006b0615",
   "metadata": {},
   "outputs": [
    {
     "name": "stdout",
     "output_type": "stream",
     "text": [
      "<class 'tuple'> ()\n"
     ]
    },
    {
     "data": {
      "text/plain": [
       "0"
      ]
     },
     "execution_count": 83,
     "metadata": {},
     "output_type": "execute_result"
    }
   ],
   "source": [
    "sum_function2()"
   ]
  },
  {
   "cell_type": "code",
   "execution_count": 81,
   "id": "2b20ff8c",
   "metadata": {},
   "outputs": [
    {
     "name": "stdout",
     "output_type": "stream",
     "text": [
      "<class 'tuple'> (1, 2, 3)\n"
     ]
    },
    {
     "data": {
      "text/plain": [
       "6"
      ]
     },
     "execution_count": 81,
     "metadata": {},
     "output_type": "execute_result"
    }
   ],
   "source": [
    "sum_function2(1,2,3)"
   ]
  },
  {
   "cell_type": "code",
   "execution_count": 82,
   "id": "8cb2cad8",
   "metadata": {},
   "outputs": [
    {
     "name": "stdout",
     "output_type": "stream",
     "text": [
      "<class 'tuple'> (1, 2, 3, 4, 5, 6, 109, 290, 309)\n"
     ]
    },
    {
     "data": {
      "text/plain": [
       "729"
      ]
     },
     "execution_count": 82,
     "metadata": {},
     "output_type": "execute_result"
    }
   ],
   "source": [
    "sum_function2(1,2,3,4,5,6,109,290,309)"
   ]
  },
  {
   "cell_type": "code",
   "execution_count": 88,
   "id": "828c4dce",
   "metadata": {},
   "outputs": [],
   "source": [
    "# 가변인자: **변수명. 딕셔너리로 처리. 호출할 때는 keyword argument 형식으로 전달.\n",
    "# def print_info(name, age, address)\n",
    "def print_info(**info):\n",
    "    print(type(info), info)\n",
    "    return_value = ''\n",
    "    for key, value in info.items():\n",
    "        return_value = f\"{return_value}, {key}: {value}\"\n",
    "    return return_value   "
   ]
  },
  {
   "cell_type": "code",
   "execution_count": 89,
   "id": "31e50338",
   "metadata": {},
   "outputs": [
    {
     "name": "stdout",
     "output_type": "stream",
     "text": [
      "<class 'dict'> {}\n"
     ]
    },
    {
     "data": {
      "text/plain": [
       "''"
      ]
     },
     "execution_count": 89,
     "metadata": {},
     "output_type": "execute_result"
    }
   ],
   "source": [
    "print_info()"
   ]
  },
  {
   "cell_type": "code",
   "execution_count": 91,
   "id": "50605e69",
   "metadata": {},
   "outputs": [
    {
     "name": "stdout",
     "output_type": "stream",
     "text": [
      "<class 'dict'> {'이름': '홍길동'}\n",
      "<class 'dict'> {'나이': 20, '주소': '서울'}\n",
      ", 이름: 홍길동\n",
      ", 나이: 20, 주소: 서울\n"
     ]
    }
   ],
   "source": [
    "v1 = print_info(이름='홍길동')\n",
    "v2 = print_info(나이=20, 주소='서울')\n",
    "print(v1)\n",
    "print(v2)"
   ]
  },
  {
   "cell_type": "code",
   "execution_count": 92,
   "id": "55de7440",
   "metadata": {},
   "outputs": [
    {
     "name": "stdout",
     "output_type": "stream",
     "text": [
      "<class 'dict'> {'이름': '홍길동', '주소': '서울', '이메일': 'a@a.com', '취미': '독서'}\n",
      ", 이름: 홍길동, 주소: 서울, 이메일: a@a.com, 취미: 독서\n"
     ]
    }
   ],
   "source": [
    "print(print_info(이름='홍길동', 주소='서울', 이메일='a@a.com', 취미='독서'))"
   ]
  },
  {
   "cell_type": "code",
   "execution_count": 98,
   "id": "78f56dc7",
   "metadata": {
    "scrolled": true
   },
   "outputs": [
    {
     "ename": "SyntaxError",
     "evalue": "invalid syntax (Temp/ipykernel_10764/1874215376.py, line 1)",
     "output_type": "error",
     "traceback": [
      "\u001b[1;36m  File \u001b[1;32m\"C:\\Users\\Playdata\\AppData\\Local\\Temp/ipykernel_10764/1874215376.py\"\u001b[1;36m, line \u001b[1;32m1\u001b[0m\n\u001b[1;33m    def test_fn(*a, *b, *c):\u001b[0m\n\u001b[1;37m                    ^\u001b[0m\n\u001b[1;31mSyntaxError\u001b[0m\u001b[1;31m:\u001b[0m invalid syntax\n"
     ]
    }
   ],
   "source": [
    "def test_fn(*a, *b, *c): #가변인자는 한 함수에 종류별(*, **)로 하나씩만 선언가능\n",
    "    pass"
   ]
  },
  {
   "cell_type": "code",
   "execution_count": 99,
   "id": "0a10f6ea",
   "metadata": {},
   "outputs": [],
   "source": [
    "def test_fn2(*args, **kwargs): \n",
    "    pass"
   ]
  },
  {
   "cell_type": "code",
   "execution_count": 106,
   "id": "ea69b210",
   "metadata": {},
   "outputs": [],
   "source": [
    "def test_fn3(var1, var2, *args, **kwargs):#일반 변수와 같이 선언할 경우 가변인자는 마지막에 와야한다.\n",
    "    pass"
   ]
  },
  {
   "cell_type": "code",
   "execution_count": null,
   "id": "398e554d",
   "metadata": {},
   "outputs": [],
   "source": []
  },
  {
   "cell_type": "markdown",
   "id": "607a4c27",
   "metadata": {},
   "source": [
    "# 함수는 일급시민객체\n",
    "- 함수를 변수에 할당, 함수를 (다른)함수호출할 때 argument로 전달, 함수가 리턴값으로 함수를 반환할 수 있다.\n",
    "- 함수도 값으로 처리할 수 있다."
   ]
  },
  {
   "cell_type": "code",
   "execution_count": 126,
   "id": "2a81f5a2",
   "metadata": {},
   "outputs": [],
   "source": [
    "def my_fn(name=None):\n",
    "    print(str(name)+\"님 안녕하세요\")\n",
    "    return \"리턴값\""
   ]
  },
  {
   "cell_type": "code",
   "execution_count": 128,
   "id": "4c731cfc",
   "metadata": {},
   "outputs": [
    {
     "name": "stdout",
     "output_type": "stream",
     "text": [
      "홍길동님 안녕하세요\n",
      "None님 안녕하세요\n",
      "======================\n",
      "리턴값 리턴값\n"
     ]
    }
   ],
   "source": [
    "# 함수 호출\n",
    "# r1, r2에는 my_fn()함수의 실행 결과(리턴값)이 저장\n",
    "r1 = my_fn('홍길동')\n",
    "r2 = my_fn()  \n",
    "print('======================')\n",
    "\n",
    "print(r1, r2)"
   ]
  },
  {
   "cell_type": "code",
   "execution_count": 123,
   "id": "dd701834",
   "metadata": {},
   "outputs": [],
   "source": [
    "# 함수 자체가 your_fn에 저장.\n",
    "your_fn = my_fn"
   ]
  },
  {
   "cell_type": "code",
   "execution_count": 125,
   "id": "cc72ad21",
   "metadata": {},
   "outputs": [
    {
     "name": "stdout",
     "output_type": "stream",
     "text": [
      "이순신님 안녕하세요\n"
     ]
    }
   ],
   "source": [
    "your_fn('이순신')"
   ]
  },
  {
   "cell_type": "code",
   "execution_count": 129,
   "id": "8c525b42",
   "metadata": {},
   "outputs": [
    {
     "name": "stdout",
     "output_type": "stream",
     "text": [
      "None님 안녕하세요\n"
     ]
    }
   ],
   "source": [
    "test_fn = your_fn\n",
    "test_fn()"
   ]
  },
  {
   "cell_type": "code",
   "execution_count": 134,
   "id": "16902c91",
   "metadata": {},
   "outputs": [],
   "source": [
    "# 함수를 매개변수의 argment 전달\n",
    "def calculator(func):\n",
    "    # 처리할 값이 있다. (num1, num2)\n",
    "    # 어떻게 처리할지 방법이 없다. 처리방법(함수)을 매개변수 받는다.\n",
    "    num1, num2 = 10, 20\n",
    "    result = func(num1, num2)\n",
    "    print('calculator()결과: ', result)"
   ]
  },
  {
   "cell_type": "code",
   "execution_count": 137,
   "id": "9254d181",
   "metadata": {},
   "outputs": [],
   "source": [
    "def plus(n1, n2):\n",
    "    return n1 + n2\n",
    "\n",
    "def minus(n1, n2):\n",
    "    return n1 - n2\n",
    "\n",
    "def multiply(n1, n2):\n",
    "    return n1 * n2"
   ]
  },
  {
   "cell_type": "code",
   "execution_count": 136,
   "id": "6d4fbd68",
   "metadata": {},
   "outputs": [
    {
     "name": "stdout",
     "output_type": "stream",
     "text": [
      "calculator()결과:  30\n"
     ]
    }
   ],
   "source": [
    "calculator(plus)"
   ]
  },
  {
   "cell_type": "code",
   "execution_count": 138,
   "id": "9850ad3e",
   "metadata": {},
   "outputs": [
    {
     "name": "stdout",
     "output_type": "stream",
     "text": [
      "calculator()결과:  -10\n"
     ]
    }
   ],
   "source": [
    "calculator(minus)"
   ]
  },
  {
   "cell_type": "code",
   "execution_count": 139,
   "id": "7960bc39",
   "metadata": {},
   "outputs": [
    {
     "name": "stdout",
     "output_type": "stream",
     "text": [
      "calculator()결과:  200\n"
     ]
    }
   ],
   "source": [
    "calculator(multiply)"
   ]
  },
  {
   "cell_type": "markdown",
   "id": "3a4df5c1",
   "metadata": {},
   "source": [
    "## lambda 표현식\n",
    "- 함수를 단일구문(식)으로 작성하는 방법\n",
    "- 다시 사용할 필요 없이 함수 호출할 때 넘겨줄 함수를 만들 때 주로 사용"
   ]
  },
  {
   "cell_type": "code",
   "execution_count": null,
   "id": "33e3da07",
   "metadata": {},
   "outputs": [],
   "source": [
    "def plus(n1, n2):\n",
    "    return n1 + n2"
   ]
  },
  {
   "cell_type": "code",
   "execution_count": null,
   "id": "f74d63bd",
   "metadata": {},
   "outputs": [],
   "source": [
    "# lambda [매개변수] : 리턴값처리"
   ]
  },
  {
   "cell_type": "code",
   "execution_count": 140,
   "id": "050e3063",
   "metadata": {},
   "outputs": [
    {
     "data": {
      "text/plain": [
       "3"
      ]
     },
     "execution_count": 140,
     "metadata": {},
     "output_type": "execute_result"
    }
   ],
   "source": [
    "x = lambda n1, n2: n1 + n2\n",
    "x(1, 2)"
   ]
  },
  {
   "cell_type": "code",
   "execution_count": 141,
   "id": "2be913f4",
   "metadata": {},
   "outputs": [],
   "source": [
    "# 하나의 값을 받아서 제곱한 값을 반환하는 함수\n",
    "y = lambda v: v**2"
   ]
  },
  {
   "cell_type": "code",
   "execution_count": 143,
   "id": "b3215c68",
   "metadata": {},
   "outputs": [
    {
     "data": {
      "text/plain": [
       "(100, 4, 25)"
      ]
     },
     "execution_count": 143,
     "metadata": {},
     "output_type": "execute_result"
    }
   ],
   "source": [
    "y(10), y(2), y(5)"
   ]
  },
  {
   "cell_type": "code",
   "execution_count": 145,
   "id": "fb8b6e8e",
   "metadata": {},
   "outputs": [
    {
     "name": "stdout",
     "output_type": "stream",
     "text": [
      "calculator()결과:  30\n"
     ]
    }
   ],
   "source": [
    "calculator(lambda n1, n2: n1 + n2)"
   ]
  },
  {
   "cell_type": "code",
   "execution_count": 146,
   "id": "11169234",
   "metadata": {},
   "outputs": [
    {
     "name": "stdout",
     "output_type": "stream",
     "text": [
      "calculator()결과:  0.5\n"
     ]
    }
   ],
   "source": [
    "calculator(lambda n1,n2: n1/n2)"
   ]
  },
  {
   "cell_type": "code",
   "execution_count": 153,
   "id": "7cc9c982",
   "metadata": {},
   "outputs": [],
   "source": [
    "l = [10, 20 , 30]\n",
    "# mapping 각 원소에 * 10\n",
    "# map(각원소들을어떻게처리할지정의한함수, Iterable)"
   ]
  },
  {
   "cell_type": "code",
   "execution_count": 154,
   "id": "d9ce85b8",
   "metadata": {},
   "outputs": [],
   "source": [
    "def m10(x):\n",
    "    return x*10"
   ]
  },
  {
   "cell_type": "code",
   "execution_count": 156,
   "id": "3f07d6d1",
   "metadata": {},
   "outputs": [
    {
     "data": {
      "text/plain": [
       "[100, 200, 300]"
      ]
     },
     "execution_count": 156,
     "metadata": {},
     "output_type": "execute_result"
    }
   ],
   "source": [
    "list(map(  m10    , l))"
   ]
  },
  {
   "cell_type": "code",
   "execution_count": 158,
   "id": "4ebb6e60",
   "metadata": {},
   "outputs": [
    {
     "data": {
      "text/plain": [
       "[100, 200, 300]"
      ]
     },
     "execution_count": 158,
     "metadata": {},
     "output_type": "execute_result"
    }
   ],
   "source": [
    "list(map(lambda x:x*10, l))"
   ]
  },
  {
   "cell_type": "markdown",
   "id": "80c8cc0e",
   "metadata": {},
   "source": [
    "## docstring\n",
    "- 함수(class, 메소드) 구현시 함수에 대한 설명을 문자열로 정의하는 것.\n",
    "- 선언부와 구현부 사이에 여러줄 문자열 ('''   ''') 을 이용해서 작성\n",
    "- 보통 작성하는 내용\n",
    "    - 함수 설명\n",
    "    - 매개변수에 대한 설명\n",
    "    - 리턴 값에 대한 설명\n",
    "    - 발생 Exception(Error)에 대한 설명"
   ]
  },
  {
   "cell_type": "code",
   "execution_count": 160,
   "id": "a98e7ddd",
   "metadata": {},
   "outputs": [],
   "source": [
    "def print_info(name, age):\n",
    "    \"\"\"\n",
    "    회원정보를 출력하는 함수\n",
    "    회원의 이름과 나이를 받아서 출력하고 나이의 10배를 반환한다.\n",
    "    [parameter]\n",
    "        name: string - 회원이름\n",
    "        age: int - 회원의 나이\n",
    "    [return value]\n",
    "        int - 나이에 10배의 값\n",
    "    [Exception]\n",
    "        발생할 가능성이 있는 에러에 대한 설명.\n",
    "    \"\"\"\n",
    "    print(f'이름:{name}, 나이: {age}')\n",
    "    return age * 10"
   ]
  },
  {
   "cell_type": "code",
   "execution_count": 161,
   "id": "fbd2e41e",
   "metadata": {},
   "outputs": [],
   "source": [
    "# 주피터 노트북 docstring을 조회하는 명령어/단축키\n",
    "# 함수명?\n",
    "print_info?"
   ]
  },
  {
   "cell_type": "code",
   "execution_count": 162,
   "id": "f0623c88",
   "metadata": {},
   "outputs": [],
   "source": [
    "print?"
   ]
  },
  {
   "cell_type": "code",
   "execution_count": null,
   "id": "39bced5f",
   "metadata": {},
   "outputs": [],
   "source": [
    "# 함수명작성한 상태에서 shift + tab\n",
    "# tab: 자동완성\n",
    "# shift + tab : docstring 팝업으로 불러오기"
   ]
  },
  {
   "cell_type": "code",
   "execution_count": null,
   "id": "1baa7b31",
   "metadata": {},
   "outputs": [],
   "source": []
  },
  {
   "cell_type": "code",
   "execution_count": null,
   "id": "bbbd0354",
   "metadata": {},
   "outputs": [],
   "source": []
  },
  {
   "cell_type": "code",
   "execution_count": null,
   "id": "72a819d7",
   "metadata": {},
   "outputs": [],
   "source": []
  },
  {
   "cell_type": "code",
   "execution_count": null,
   "id": "909d4a81",
   "metadata": {},
   "outputs": [],
   "source": []
  }
 ],
 "metadata": {
  "kernelspec": {
   "display_name": "Python 3 (ipykernel)",
   "language": "python",
   "name": "python3"
  },
  "language_info": {
   "codemirror_mode": {
    "name": "ipython",
    "version": 3
   },
   "file_extension": ".py",
   "mimetype": "text/x-python",
   "name": "python",
   "nbconvert_exporter": "python",
   "pygments_lexer": "ipython3",
   "version": "3.9.7"
  }
 },
 "nbformat": 4,
 "nbformat_minor": 5
}
