{
 "cells": [
  {
   "cell_type": "code",
   "execution_count": 1,
   "id": "ef987257",
   "metadata": {},
   "outputs": [
    {
     "name": "stdout",
     "output_type": "stream",
     "text": [
      "1\n",
      "1\n"
     ]
    }
   ],
   "source": [
    "s = input() #input 함수를 사용-호출(call)\n",
    "print(s)"
   ]
  },
  {
   "cell_type": "code",
   "execution_count": 3,
   "id": "0025021c",
   "metadata": {},
   "outputs": [
    {
     "data": {
      "text/plain": [
       "1000"
      ]
     },
     "execution_count": 3,
     "metadata": {},
     "output_type": "execute_result"
    }
   ],
   "source": [
    "int('1000')"
   ]
  },
  {
   "cell_type": "code",
   "execution_count": 4,
   "id": "7af964f6",
   "metadata": {},
   "outputs": [
    {
     "name": "stdout",
     "output_type": "stream",
     "text": [
      "100\n",
      "test\n"
     ]
    }
   ],
   "source": [
    "i = int('100') # '100':argument(인수) => 피연산자\n",
    "print(i) #i의 100 -> int() 함수의 반환값\n",
    "ㅓ= print('test')"
   ]
  },
  {
   "cell_type": "markdown",
   "id": "8ae7d2c6",
   "metadata": {},
   "source": [
    "# 함수(Function)\n",
    "- 사용자정의 연산자.\n",
    "- 구문\n",
    "```python\n",
    "# [] 옵션. ...여러개\n",
    "def 함수이름([매개변수, ...]):\n",
    "    실행 구분들을 순서대로 작성\n",
    "    ...\n",
    "    [return value]\n",
    "\n",
    "```\n",
    "- 함수 이름\n",
    "    - 규칙: 변수와 동일\n",
    "    - 관례: 변수와 동일 - snake 표기법"
   ]
  },
  {
   "cell_type": "code",
   "execution_count": 5,
   "id": "3d907abd",
   "metadata": {},
   "outputs": [
    {
     "name": "stdout",
     "output_type": "stream",
     "text": [
      "안녕하세요\n",
      "hello\n"
     ]
    }
   ],
   "source": [
    "# 함수를 정의\n",
    "# 정의된 함수는 사용하기 위해서는 메모리에 로딩되어야 한다.\n",
    "def say_hello():\n",
    "    print('안녕하세요')\n",
    "    print('hello')\n",
    "\n",
    "# 호출: 함수명([argument])    \n",
    "# 리턴값이 있는 함수 호출: 변수 = 함수명([argument])\n",
    "say_hello()"
   ]
  },
  {
   "cell_type": "code",
   "execution_count": 8,
   "id": "5ef7208f",
   "metadata": {},
   "outputs": [],
   "source": [
    "# 매개변수가 있는 함수\n",
    "def say_hello2(name): #name : 매개변수(parameter) -> 호출한 곳으로 부터 전달된 값(argument)를 받을 변수\n",
    "    greeting = f'{name}님 반갑습니다.'\n",
    "    print(greeting)"
   ]
  },
  {
   "cell_type": "code",
   "execution_count": 12,
   "id": "b99aaab8",
   "metadata": {},
   "outputs": [
    {
     "name": "stdout",
     "output_type": "stream",
     "text": [
      "한예찬님 반갑습니다.\n"
     ]
    }
   ],
   "source": [
    "say_hello2('한예찬')#매개변수가 있는 함수 호출시 반드시 값을 전달해야 한다."
   ]
  },
  {
   "cell_type": "code",
   "execution_count": 14,
   "id": "7c1fca91",
   "metadata": {},
   "outputs": [],
   "source": [
    "# 반환값(리턴값)이 있는 함수\n",
    "def say_hello2(name,age):\n",
    "    greeting = f'{age}세 {name}님 환영합니다.'\n",
    "    return greeting #greeting 변수의 값(처리결과)를 호출한 곳을 전달 => 리턴값\n",
    "                    #return : 호출한 곳으로 돌아가라는 명령어."
   ]
  },
  {
   "cell_type": "code",
   "execution_count": 17,
   "id": "c5d4ef9e",
   "metadata": {},
   "outputs": [
    {
     "name": "stdout",
     "output_type": "stream",
     "text": [
      "28세 한예찬님 환영합니다.\n"
     ]
    }
   ],
   "source": [
    "g = say_hello2('한예찬',28)\n",
    "print(g)"
   ]
  },
  {
   "cell_type": "code",
   "execution_count": 35,
   "id": "1d13dc17",
   "metadata": {},
   "outputs": [],
   "source": [
    "#매개변수는 여러개 선언가능, 리턴값은\n",
    "#1개만 가능, (처리결과가 여러개인 경우? 자료구조로 묶어서 전달.)\n",
    "#두개의 값을 받아서 4칙연산한 결과를 반환하는 함수\n",
    "\n",
    "def calc(num1, num2):\n",
    "    a = num1 + num2\n",
    "    b = num1 - num2\n",
    "    c = num1 * num2\n",
    "    d = None\n",
    "    if num2 != 0:\n",
    "        d = num1/num2\n",
    "        \n",
    "    \n",
    "#     return[a,b,c,d] #리스트\n",
    "#     return a,b,c,d #튜플\n",
    "    return {'plus':a,'minus':b, 'multiply':c, 'divide':d}"
   ]
  },
  {
   "cell_type": "code",
   "execution_count": 36,
   "id": "a5895867",
   "metadata": {},
   "outputs": [
    {
     "data": {
      "text/plain": [
       "{'plus': 15, 'minus': 5, 'multiply': 50, 'divide': 2.0}"
      ]
     },
     "execution_count": 36,
     "metadata": {},
     "output_type": "execute_result"
    }
   ],
   "source": [
    "calc(10,5)\n",
    "print(num1,num2,a,b,c,d) #cal() 함수안에서 선언한 변수들을 사용\n",
    "#함수 안에 선언된 변수: Local Variable(지역변수)=> 사용범위는 함수가 실행하는 동안. 함수안에서만 사용가능"
   ]
  },
  {
   "cell_type": "code",
   "execution_count": 33,
   "id": "d60420fc",
   "metadata": {},
   "outputs": [
    {
     "name": "stdout",
     "output_type": "stream",
     "text": [
      "{'plus': 15, 'minus': 5, 'multiply': 50, 'divide': 2.0}\n",
      "plus minus multiply divide\n"
     ]
    }
   ],
   "source": [
    "result = calc(10,5)\n",
    "print(result)\n",
    "r1,r2,r3,r4=calc(20,10) #리스트대입\n",
    "print(r1,r2,r3,r4)"
   ]
  },
  {
   "cell_type": "code",
   "execution_count": 34,
   "id": "0fda09e2",
   "metadata": {},
   "outputs": [
    {
     "name": "stdout",
     "output_type": "stream",
     "text": [
      "{'plus': 15, 'minus': 5, 'multiply': 50, 'divide': 2.0}\n",
      "덧셈결과: 15\n"
     ]
    }
   ],
   "source": [
    "result = calc(10,5)\n",
    "print(result)\n",
    "print('덧셈결과:',result['plus'])"
   ]
  },
  {
   "cell_type": "code",
   "execution_count": 38,
   "id": "3f5ca35a",
   "metadata": {},
   "outputs": [
    {
     "name": "stdout",
     "output_type": "stream",
     "text": [
      "{'plus': 10, 'minus': 10, 'multiply': 0, 'divide': None}\n"
     ]
    }
   ],
   "source": [
    "result = calc(10,0)\n",
    "print(result)"
   ]
  },
  {
   "cell_type": "markdown",
   "id": "52d9a3f9",
   "metadata": {},
   "source": [
    "## 매개변수와 관련된 문법\n",
    "\n",
    "### Positional Parameter(Argument)\n",
    "- 일반적인 매개변수(parameter)\n",
    "- 매개변수가 선언된 순서대로 값을 전달한다."
   ]
  },
  {
   "cell_type": "code",
   "execution_count": 39,
   "id": "9dad42ab",
   "metadata": {},
   "outputs": [],
   "source": [
    "def print_info(name,age,address):\n",
    "    print(f\"이름:{name},나이:{age},주소{address}\")"
   ]
  },
  {
   "cell_type": "code",
   "execution_count": 40,
   "id": "077be2b2",
   "metadata": {},
   "outputs": [
    {
     "name": "stdout",
     "output_type": "stream",
     "text": [
      "이름:한예찬,나이:28,주소의왕\n"
     ]
    }
   ],
   "source": [
    "print_info(\"한예찬\",28,\"의왕\") #순서에 맞춰서 값들을 전달"
   ]
  },
  {
   "cell_type": "code",
   "execution_count": null,
   "id": "c6f8d90a",
   "metadata": {},
   "outputs": [],
   "source": [
    "print_info(\"한예찬\") #매개변수에 값을 다 전달해야 한다."
   ]
  },
  {
   "cell_type": "markdown",
   "id": "899c7080",
   "metadata": {},
   "source": [
    "## 기본값이 있는 매개변수\n",
    "- 매개변수에 값을 대입, 기본값설정\n",
    "    - 호출할때 값이 안전달되면 기본값을 사용."
   ]
  },
  {
   "cell_type": "code",
   "execution_count": 41,
   "id": "ad47667e",
   "metadata": {},
   "outputs": [],
   "source": [
    "def print_info2(name=None, age=-1, address=None):\n",
    "    print(f\"이름: {name}, 나이: {age},주소:{address}\")"
   ]
  },
  {
   "cell_type": "code",
   "execution_count": 42,
   "id": "232343a8",
   "metadata": {},
   "outputs": [
    {
     "name": "stdout",
     "output_type": "stream",
     "text": [
      "이름: 한예찬, 나이: 28,주소:의왕\n"
     ]
    }
   ],
   "source": [
    "print_info2(\"한예찬\",28,\"의왕\")"
   ]
  },
  {
   "cell_type": "code",
   "execution_count": 43,
   "id": "4817ad50",
   "metadata": {},
   "outputs": [
    {
     "name": "stdout",
     "output_type": "stream",
     "text": [
      "이름: None, 나이: -1,주소:None\n"
     ]
    }
   ],
   "source": [
    "print_info2() #argument 생략하면 기본값을 함수내에서 사용한다."
   ]
  },
  {
   "cell_type": "code",
   "execution_count": 44,
   "id": "14646609",
   "metadata": {},
   "outputs": [
    {
     "name": "stdout",
     "output_type": "stream",
     "text": [
      "이름: None, 나이: -1,주소:부산\n"
     ]
    }
   ],
   "source": [
    "print_info2(address = '부산') #매개변수를 지정해서 값을 전달 => keyword argument"
   ]
  },
  {
   "cell_type": "code",
   "execution_count": 45,
   "id": "a11cea2f",
   "metadata": {},
   "outputs": [
    {
     "name": "stdout",
     "output_type": "stream",
     "text": [
      "이름:홍길동,나이:40,주소인천\n"
     ]
    }
   ],
   "source": [
    "print_info(address='인천', name='홍길동',age=40) #keyword argument를 사용하면 순서 상관없이 대입"
   ]
  },
  {
   "cell_type": "markdown",
   "id": "6f396004",
   "metadata": {},
   "source": [
    "### 가변인자"
   ]
  },
  {
   "cell_type": "code",
   "execution_count": 46,
   "id": "9c1ab262",
   "metadata": {},
   "outputs": [],
   "source": [
    "def sum_function(num_list):\n",
    "    #정수 여러개(정해지지 않은 개수) 를 받아서 합계를 리턴하는 함수\n",
    "    #argument : 자료구조\n",
    "    sum_value = 0\n",
    "    for v in num_list:\n",
    "        sum_value +=v\n",
    "    return sum_value"
   ]
  },
  {
   "cell_type": "code",
   "execution_count": 47,
   "id": "ab382978",
   "metadata": {},
   "outputs": [
    {
     "data": {
      "text/plain": [
       "55"
      ]
     },
     "execution_count": 47,
     "metadata": {},
     "output_type": "execute_result"
    }
   ],
   "source": [
    "result = sum_function([1,2,3,4,5,6,7,8,9,10])\n",
    "result"
   ]
  },
  {
   "cell_type": "code",
   "execution_count": 49,
   "id": "75230f8d",
   "metadata": {},
   "outputs": [
    {
     "data": {
      "text/plain": [
       "60"
      ]
     },
     "execution_count": 49,
     "metadata": {},
     "output_type": "execute_result"
    }
   ],
   "source": [
    "r = sum_function([10,20,30])\n",
    "r"
   ]
  },
  {
   "cell_type": "code",
   "execution_count": 54,
   "id": "93c04815",
   "metadata": {},
   "outputs": [],
   "source": [
    "#가변인자: 개수가 정해지지 않은 값들을 받아서 처리할 경우 사용\n",
    "# *변수명 - 튜플로처리. 호출할때는 전달할 값들(argument)을 나열해서 전달한다.\n",
    "def sum_function2(*num_list):\n",
    "    print(type(num_list), num_list)\n",
    "    sum_value = 0\n",
    "    for v in num_list:\n",
    "        sum_value += v\n",
    "    return sum_value"
   ]
  },
  {
   "cell_type": "code",
   "execution_count": 55,
   "id": "d124b194",
   "metadata": {},
   "outputs": [
    {
     "name": "stdout",
     "output_type": "stream",
     "text": [
      "<class 'tuple'> (1, 2, 3, 4, 5)\n",
      "15\n"
     ]
    }
   ],
   "source": [
    "print(sum_function2(1,2,3,4,5))"
   ]
  },
  {
   "cell_type": "code",
   "execution_count": 71,
   "id": "72cfd7b4",
   "metadata": {},
   "outputs": [],
   "source": [
    "# 가변인자: **변수명. 딕셔너리로 처리. 호출할 때는 keyword argument 형식으로 전달.\n",
    "def print_info(**info):\n",
    "    return_value = ''\n",
    "    for key,value in info.items():\n",
    "        return_value = f'{return_value},{key}: {value}'\n",
    "    return return_value"
   ]
  },
  {
   "cell_type": "code",
   "execution_count": 72,
   "id": "16e9d53a",
   "metadata": {},
   "outputs": [
    {
     "data": {
      "text/plain": [
       "''"
      ]
     },
     "execution_count": 72,
     "metadata": {},
     "output_type": "execute_result"
    }
   ],
   "source": [
    "print_info()"
   ]
  },
  {
   "cell_type": "code",
   "execution_count": 73,
   "id": "1eb9ca7f",
   "metadata": {},
   "outputs": [
    {
     "name": "stdout",
     "output_type": "stream",
     "text": [
      ",이름: 홍길동\n"
     ]
    }
   ],
   "source": [
    "v1 = print_info(이름='홍길동')\n",
    "print(v1)"
   ]
  },
  {
   "cell_type": "code",
   "execution_count": 74,
   "id": "dfd3ad13",
   "metadata": {},
   "outputs": [
    {
     "name": "stdout",
     "output_type": "stream",
     "text": [
      ",이름: 한예찬,주소: 의왕,이메일: sdh1541@naver.com,취미: 음식\n"
     ]
    }
   ],
   "source": [
    "print(print_info(이름='한예찬',주소='의왕',이메일='sdh1541@naver.com',취미='음식'))"
   ]
  },
  {
   "cell_type": "code",
   "execution_count": 75,
   "id": "d1ba30d7",
   "metadata": {},
   "outputs": [],
   "source": [
    "def my_fn(name=None):\n",
    "    print(str(name)+\"님 안녕하세요\")"
   ]
  },
  {
   "cell_type": "code",
   "execution_count": 77,
   "id": "566a3963",
   "metadata": {},
   "outputs": [
    {
     "name": "stdout",
     "output_type": "stream",
     "text": [
      "홍길동님 안녕하세요\n",
      "None님 안녕하세요\n"
     ]
    }
   ],
   "source": [
    "#함수 호출\n",
    "my_fn('홍길동')\n",
    "my_fn()"
   ]
  },
  {
   "cell_type": "code",
   "execution_count": 78,
   "id": "a1f12729",
   "metadata": {},
   "outputs": [],
   "source": [
    "your_fn = my_fn"
   ]
  },
  {
   "cell_type": "code",
   "execution_count": 79,
   "id": "2f1e1cbf",
   "metadata": {},
   "outputs": [
    {
     "name": "stdout",
     "output_type": "stream",
     "text": [
      "이순신님 안녕하세요\n"
     ]
    }
   ],
   "source": [
    "your_fn('이순신')"
   ]
  },
  {
   "cell_type": "code",
   "execution_count": null,
   "id": "ffa72008",
   "metadata": {},
   "outputs": [],
   "source": []
  }
 ],
 "metadata": {
  "kernelspec": {
   "display_name": "Python 3 (ipykernel)",
   "language": "python",
   "name": "python3"
  },
  "language_info": {
   "codemirror_mode": {
    "name": "ipython",
    "version": 3
   },
   "file_extension": ".py",
   "mimetype": "text/x-python",
   "name": "python",
   "nbconvert_exporter": "python",
   "pygments_lexer": "ipython3",
   "version": "3.9.7"
  }
 },
 "nbformat": 4,
 "nbformat_minor": 5
}
