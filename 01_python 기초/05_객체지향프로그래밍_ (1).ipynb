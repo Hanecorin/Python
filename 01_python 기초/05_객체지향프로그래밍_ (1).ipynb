{
 "cells": [
  {
   "cell_type": "code",
   "execution_count": 2,
   "id": "ddf8ff5a",
   "metadata": {},
   "outputs": [],
   "source": [
    "name = None\n",
    "age = None\n",
    "address = None"
   ]
  },
  {
   "cell_type": "code",
   "execution_count": 3,
   "id": "4a34f64e",
   "metadata": {},
   "outputs": [],
   "source": [
    "def print_person_info(name, age, address):\n",
    "    print(f\"{name}, {age}, {address}\")\n",
    "    \n",
    "def add_age(age, num):\n",
    "    return age + num\n",
    "\n",
    "def discount_price():\n",
    "    pass\n",
    "def save_product_info():\n",
    "    pass\n",
    "\n",
    "\n",
    "\n",
    "\n",
    "\n",
    "\n",
    "\n"
   ]
  },
  {
   "cell_type": "code",
   "execution_count": 5,
   "id": "2ab7bbaf",
   "metadata": {},
   "outputs": [
    {
     "name": "stdout",
     "output_type": "stream",
     "text": [
      "홍길동, 30, 서울\n",
      "홍길동, 35, 서울\n"
     ]
    }
   ],
   "source": [
    "# 절차\n",
    "name = \"홍길동\"\n",
    "age = 30\n",
    "address = \"서울\"\n",
    "#출력\n",
    "print_person_info(name, age, address)\n",
    "#나이 더하가\n",
    "age = add_age(age, 5)\n",
    "print_person_info(name, age, address)"
   ]
  },
  {
   "cell_type": "code",
   "execution_count": 13,
   "id": "5dcad8d9",
   "metadata": {},
   "outputs": [],
   "source": [
    "class Person:\n",
    "    \n",
    "    def __init__(self, name, age, address=None):# , email=None, telnum=None):\n",
    "        self.name = name  #Attribute = Parameter\n",
    "        self.age = age\n",
    "        self.address = address\n",
    "        \n",
    "    # 사람의 속성값들을 모두 출력하는 메소드\n",
    "    def print_info(self):\n",
    "        info = f\"이름: {self.name}, 나이: {self.age}, 주소: {self.address}\"  \n",
    "                                                        #self.name -> 이 클래스로부터 생성된 객체(self)의(.) 속성 name\n",
    "        print(info)\n",
    "        \n",
    "    # 나이에 특정 값을 더하는 메소드\n",
    "    def add_age(self, value): #value는 age에 더해줄 값 => 호출하는 곳에서 받을 값을 저장할 매개변수는 두번째 변수부터 선언.\n",
    "        self.age = self.age + value\n",
    "#         self.age += value\n",
    "\n",
    "\n",
    "class Product:\n",
    "    \n",
    "    def __init__(self, name, price, maker):\n",
    "        self.name = name\n",
    "        self.price = price\n",
    "        self.maker = maker\n",
    "    \n",
    "    def discount_price(self, rate):\n",
    "        self.price *= rate\n",
    "        \n",
    "    def save_product_info(self):\n",
    "        pass # 저장기능"
   ]
  },
  {
   "cell_type": "code",
   "execution_count": 14,
   "id": "94f1b294",
   "metadata": {},
   "outputs": [
    {
     "data": {
      "text/plain": [
       "400000.0"
      ]
     },
     "execution_count": 14,
     "metadata": {},
     "output_type": "execute_result"
    }
   ],
   "source": [
    "pd = Product('TV', 500000, 'LG')\n",
    "pd.discount_price(0.8)\n",
    "pd.price"
   ]
  },
  {
   "cell_type": "code",
   "execution_count": 7,
   "id": "4bf47b7a",
   "metadata": {},
   "outputs": [
    {
     "name": "stdout",
     "output_type": "stream",
     "text": [
      "이름: 홍길동, 나이: 15, 주소: 인천\n",
      "이름: 홍길동, 나이: 12, 주소: 인천\n"
     ]
    }
   ],
   "source": [
    "p = Person('홍길동', 15, '인천')\n",
    "p.print_info()\n",
    "p.add_age(-3)\n",
    "p.print_info()"
   ]
  },
  {
   "cell_type": "markdown",
   "id": "cd63edbd",
   "metadata": {},
   "source": [
    "# 클래스와 객체\n",
    "- 클래스(class)\n",
    "    - 사용자 정의 데이터타입. \n",
    "    - 특정 데이이터 맞게 정의한 dictionary개념(값을 key-value 쌍으로 관리)\n",
    "- 객체 (instance)\n",
    "    - 클래스로 부터 생성된 값\n",
    "- Attribute, Instance 변수\n",
    "    - 객체를 구성하는 값으로 객체의 속성, 상태를 표현한다.\n",
    "    - 보통  initializer를 이용해 초기화 한다. \n",
    "- Instance method(메소드)\n",
    "    - 객체가 제공하는 기능으로 사용자 정의 데이터타입(class)의 연산자이다. \n",
    "    - 클래스 구현부에 정의한다."
   ]
  },
  {
   "cell_type": "code",
   "execution_count": null,
   "id": "8604d531",
   "metadata": {},
   "outputs": [],
   "source": [
    "# member_name: snake 표기법\n",
    "# MemberName: 파스칼 표기법\n",
    "# memberName: camel 표기법"
   ]
  },
  {
   "cell_type": "code",
   "execution_count": 1,
   "id": "7447a72d",
   "metadata": {},
   "outputs": [],
   "source": [
    "# Person 이란 이름의 클래스(사용자정의 데이터타입) 정의\n",
    "# class 이름: 이름규칙 - 변수규칙과 동일\n",
    "#             관례 - 파스칼표기법. 단어의 첫글자는 대문자로 하고 나머진 소문자.\n",
    "class Person:  #클래스 선언부\n",
    "    pass  #block 내용이 없다.   # 클래스 구현(block) "
   ]
  },
  {
   "cell_type": "code",
   "execution_count": 4,
   "id": "5f39eacd",
   "metadata": {},
   "outputs": [
    {
     "name": "stdout",
     "output_type": "stream",
     "text": [
      "<class '__main__.Person'>\n"
     ]
    }
   ],
   "source": [
    "# 객체(instance) 생성 -> 값을 생성\n",
    "# 클래스이름()\n",
    "p = Person()\n",
    "print(type(p))"
   ]
  },
  {
   "cell_type": "code",
   "execution_count": 8,
   "id": "43697789",
   "metadata": {},
   "outputs": [],
   "source": [
    "# Person 객체에 속성을 추가/조회\n",
    "# 객체의 속성/메소드에 접근(호출) - `.` 표기법을 사용\n",
    "# p에 대입된 객체에 name 속성에 \"홍길동\" 을 대입\n",
    "# 초기화 - 처음 값을 대입\n",
    "p.name = \"홍길동\"  #p의(.) 이름 은(=) \"홍길동\"   # 객체.변수 -  표기법: 속성명을 변수로 처리.\n",
    "p.age = 30\n",
    "p.address = '서울'"
   ]
  },
  {
   "cell_type": "code",
   "execution_count": 9,
   "id": "4f619e21",
   "metadata": {},
   "outputs": [
    {
     "name": "stdout",
     "output_type": "stream",
     "text": [
      "이름:  홍길동\n",
      "나이:  30\n",
      "주소:  서울\n"
     ]
    }
   ],
   "source": [
    "print(\"이름: \", p.name)\n",
    "print('나이: ', p.age)\n",
    "print('주소: ', p.address)"
   ]
  },
  {
   "cell_type": "code",
   "execution_count": 10,
   "id": "ea4fbd80",
   "metadata": {},
   "outputs": [
    {
     "name": "stdout",
     "output_type": "stream",
     "text": [
      "새나이: 11\n"
     ]
    }
   ],
   "source": [
    "p.age = 11\n",
    "print('새나이:', p.age)"
   ]
  },
  {
   "cell_type": "markdown",
   "id": "a3b3cff2",
   "metadata": {},
   "source": [
    "## 클래스에 메소드 정의\n",
    "- 클래스에 객체의 [속성과관련된] 연산자(함수)를 추가하는 개념\n",
    "```python\n",
    "# 메소드 구문\n",
    "# 1개 이상의 매개변수를 정의. 첫번째 매개변수 이름은 관례적으로 self로 준다.  self 는 개체(instance)를 받는다.\n",
    "def 메소드이름(self, v1, v2,...): \n",
    "    구현\n",
    "```"
   ]
  },
  {
   "cell_type": "code",
   "execution_count": 33,
   "id": "f96e3155",
   "metadata": {},
   "outputs": [],
   "source": [
    "# class를 구현 ==> instance를 처리하는 메소드들을 정의\n",
    "#             ==> attribute: 메소드의 self를 이용해서 정의.\n",
    "class Person2:\n",
    "    \n",
    "    \n",
    "    # 사람의 속성값들을 모두 출력하는 메소드\n",
    "    def print_info(self):\n",
    "        info = f\"이름: {self.name}, 나이: {self.age}, 주소: {self.address}\"  \n",
    "                                                        #self.name -> 이 클래스로부터 생성된 객체(self)의(.) 속성 name\n",
    "        print(info)\n",
    "        \n",
    "    # 나이에 특정 값을 더하는 메소드\n",
    "    def add_age(self, value): #value는 age에 더해줄 값 => 호출하는 곳에서 받을 값을 저장할 매개변수는 두번째 변수부터 선언.\n",
    "        self.age = self.age + value\n",
    "#         self.age += value"
   ]
  },
  {
   "cell_type": "code",
   "execution_count": 25,
   "id": "a819da99",
   "metadata": {},
   "outputs": [],
   "source": [
    "def print_person2_info(p):\n",
    "    print(f\"{p.name}, {p.age}, {p.address}\")"
   ]
  },
  {
   "cell_type": "code",
   "execution_count": 27,
   "id": "5cbfb10a",
   "metadata": {},
   "outputs": [
    {
     "name": "stdout",
     "output_type": "stream",
     "text": [
      "홍길동, 25, 인천\n"
     ]
    }
   ],
   "source": [
    "print_person2_info(p2)"
   ]
  },
  {
   "cell_type": "code",
   "execution_count": 29,
   "id": "f0f28e69",
   "metadata": {},
   "outputs": [],
   "source": [
    "p2 = Person2()\n",
    "p2.name = \"홍길동\"\n",
    "p2.age = 25\n",
    "p2.address=\"인천\""
   ]
  },
  {
   "cell_type": "code",
   "execution_count": 30,
   "id": "f8b9cacc",
   "metadata": {
    "scrolled": true
   },
   "outputs": [
    {
     "name": "stdout",
     "output_type": "stream",
     "text": [
      "이름: 홍길동, 나이: 25, 주소: 인천\n"
     ]
    }
   ],
   "source": [
    "p2.print_info()"
   ]
  },
  {
   "cell_type": "code",
   "execution_count": 31,
   "id": "9f77504e",
   "metadata": {},
   "outputs": [
    {
     "name": "stdout",
     "output_type": "stream",
     "text": [
      "이름: 홍길동, 나이: 25, 주소: 수원\n"
     ]
    }
   ],
   "source": [
    "p2.address=\"수원\"\n",
    "p2.print_info()"
   ]
  },
  {
   "cell_type": "code",
   "execution_count": 32,
   "id": "0f91037b",
   "metadata": {},
   "outputs": [
    {
     "name": "stdout",
     "output_type": "stream",
     "text": [
      "이름: 홍길동, 나이: 28, 주소: 수원\n"
     ]
    }
   ],
   "source": [
    "p2.add_age(3, 4, 5)\n",
    "p2.print_info()"
   ]
  },
  {
   "cell_type": "code",
   "execution_count": 34,
   "id": "54e60ca4",
   "metadata": {},
   "outputs": [],
   "source": [
    "# int 타입: 1   int 값: 1, 2, 3, -1, -2, 30000,    1, 1, 1,    \n",
    "# 클래스: 타입 1,   객체-값: 무한대\n",
    "\n",
    "# Person2 클래스에서 객체(instance) 3개  생성\n",
    "p1 = Person2()\n",
    "p2 = Person2()\n",
    "p3 = Person2()"
   ]
  },
  {
   "cell_type": "code",
   "execution_count": 35,
   "id": "0bd3cefa",
   "metadata": {},
   "outputs": [],
   "source": [
    "p1.name = '이름1'\n",
    "p1.age = 10\n",
    "p1.address = '주소1'"
   ]
  },
  {
   "cell_type": "code",
   "execution_count": 36,
   "id": "f331281e",
   "metadata": {},
   "outputs": [],
   "source": [
    "p2.name = '이름2'\n",
    "p2.age = 20\n",
    "p2.address = '주소2'"
   ]
  },
  {
   "cell_type": "code",
   "execution_count": 37,
   "id": "6b3da376",
   "metadata": {},
   "outputs": [],
   "source": [
    "p3.name = '이름3'\n",
    "p3.age = 30\n",
    "p3.address = '주소3'\n",
    "p3.email = 'abc@a.com'"
   ]
  },
  {
   "cell_type": "code",
   "execution_count": 38,
   "id": "bd5e3bec",
   "metadata": {},
   "outputs": [
    {
     "name": "stdout",
     "output_type": "stream",
     "text": [
      "이름: 이름1, 나이: 50, 주소: 주소1\n"
     ]
    }
   ],
   "source": [
    "p1.add_age(40)\n",
    "p1.print_info()"
   ]
  },
  {
   "cell_type": "code",
   "execution_count": 39,
   "id": "a25aeb9c",
   "metadata": {},
   "outputs": [
    {
     "name": "stdout",
     "output_type": "stream",
     "text": [
      "이름: 이름2, 나이: 20, 주소: 주소2\n"
     ]
    }
   ],
   "source": [
    "p2.print_info()"
   ]
  },
  {
   "cell_type": "code",
   "execution_count": 41,
   "id": "75037061",
   "metadata": {},
   "outputs": [],
   "source": [
    "# p2: Person2에서 생성된 객체 -> Person2에 정의된 메소드만 호출 가능.\n",
    "# p2.pop('name') #dictionary 메소드"
   ]
  },
  {
   "cell_type": "code",
   "execution_count": 48,
   "id": "ea37d160",
   "metadata": {
    "collapsed": true
   },
   "outputs": [
    {
     "ename": "AttributeError",
     "evalue": "'Person2' object has no attribute 'name'",
     "output_type": "error",
     "traceback": [
      "\u001b[1;31m---------------------------------------------------------------------------\u001b[0m",
      "\u001b[1;31mAttributeError\u001b[0m                            Traceback (most recent call last)",
      "\u001b[1;32m~\\AppData\\Local\\Temp/ipykernel_7160/3458579075.py\u001b[0m in \u001b[0;36m<module>\u001b[1;34m\u001b[0m\n\u001b[0;32m      2\u001b[0m \u001b[0mp4\u001b[0m\u001b[1;33m.\u001b[0m\u001b[0mage\u001b[0m \u001b[1;33m=\u001b[0m \u001b[1;36m10\u001b[0m\u001b[1;33m\u001b[0m\u001b[1;33m\u001b[0m\u001b[0m\n\u001b[0;32m      3\u001b[0m \u001b[0mp4\u001b[0m\u001b[1;33m.\u001b[0m\u001b[0madd_age\u001b[0m\u001b[1;33m(\u001b[0m\u001b[1;36m2\u001b[0m\u001b[1;33m)\u001b[0m\u001b[1;33m\u001b[0m\u001b[1;33m\u001b[0m\u001b[0m\n\u001b[1;32m----> 4\u001b[1;33m \u001b[0mp4\u001b[0m\u001b[1;33m.\u001b[0m\u001b[0mprint_info\u001b[0m\u001b[1;33m(\u001b[0m\u001b[1;33m)\u001b[0m\u001b[1;33m\u001b[0m\u001b[1;33m\u001b[0m\u001b[0m\n\u001b[0m\u001b[0;32m      5\u001b[0m \u001b[1;31m# AttributeError: 객체에 없는 속성/메소드를 호출(조회)할때 발생하는 에러\u001b[0m\u001b[1;33m\u001b[0m\u001b[1;33m\u001b[0m\u001b[0m\n",
      "\u001b[1;32m~\\AppData\\Local\\Temp/ipykernel_7160/2373837859.py\u001b[0m in \u001b[0;36mprint_info\u001b[1;34m(self)\u001b[0m\n\u001b[0;32m      5\u001b[0m     \u001b[1;31m# 사람의 속성값들을 모두 출력하는 메소드\u001b[0m\u001b[1;33m\u001b[0m\u001b[1;33m\u001b[0m\u001b[0m\n\u001b[0;32m      6\u001b[0m     \u001b[1;32mdef\u001b[0m \u001b[0mprint_info\u001b[0m\u001b[1;33m(\u001b[0m\u001b[0mself\u001b[0m\u001b[1;33m)\u001b[0m\u001b[1;33m:\u001b[0m\u001b[1;33m\u001b[0m\u001b[1;33m\u001b[0m\u001b[0m\n\u001b[1;32m----> 7\u001b[1;33m         \u001b[0minfo\u001b[0m \u001b[1;33m=\u001b[0m \u001b[1;34mf\"이름: {self.name}, 나이: {self.age}, 주소: {self.address}\"\u001b[0m\u001b[1;33m\u001b[0m\u001b[1;33m\u001b[0m\u001b[0m\n\u001b[0m\u001b[0;32m      8\u001b[0m                                                         \u001b[1;31m#self.name -> 이 클래스로부터 생성된 객체(self)의(.) 속성 name\u001b[0m\u001b[1;33m\u001b[0m\u001b[1;33m\u001b[0m\u001b[0m\n\u001b[0;32m      9\u001b[0m         \u001b[0mprint\u001b[0m\u001b[1;33m(\u001b[0m\u001b[0minfo\u001b[0m\u001b[1;33m)\u001b[0m\u001b[1;33m\u001b[0m\u001b[1;33m\u001b[0m\u001b[0m\n",
      "\u001b[1;31mAttributeError\u001b[0m: 'Person2' object has no attribute 'name'"
     ]
    }
   ],
   "source": [
    "p4 = Person2()\n",
    "\n",
    "p4.add_age(2)# 호출전에 age를 할당한 후에 호출\n",
    "p4.print_info() #호출전에 name, age, address 속성값을 할당 후에 호출\n",
    "# AttributeError: 객체에 없는 속성/메소드를 호출(조회)할때 발생하는 에러"
   ]
  },
  {
   "cell_type": "markdown",
   "id": "98abbffc",
   "metadata": {},
   "source": [
    "## Initializer 메소드 (Constructor-생성자)\n",
    "- 객체 생성하는 시점에 속성값들을 초기화 하도록 강제하는 메소드\n",
    "    - **객체(instance)를 구성하는 Attribute들을 정의, 초기화 하는 역할** \n",
    "        - 객체를 생성하는 곳으로 부터 argument로 반드시 받아야 하는 것은 기본값 없는 매개변수로 선언한다.\n",
    "        - 객체를 생성하는 곳에서 값을 줄수도 안줄 수도 있는 경우 기본값 있는 매개변수로 선언한다.\n",
    "    - 객체 생성후 메소드들이 호출 되기 전에 반드시 생성되야 하는 attribute들을 객체에 설정하는 역할을 한다. => 문법\n",
    "    - Default 속성들 설정해주는 메소드.\n",
    "- 객체 생성시 호출되는 메소드\n",
    "    - self로 생성되는 객체를 받는다."
   ]
  },
  {
   "cell_type": "code",
   "execution_count": 66,
   "id": "b58bee88",
   "metadata": {},
   "outputs": [],
   "source": [
    "class Test:\n",
    "    \n",
    "#     initializer: 이름 - __init__(self, [변수들....])\n",
    "    def __init__(self, var5=None):\n",
    "        print('Test의 __init__() 실행')\n",
    "        self.var1 = \"변수1\"\n",
    "        self.var2 = \"변수2\"\n",
    "        self.var3 = True\n",
    "        self.var4 = 10000\n",
    "        self.var5 = var5  #매개변수(지역변수)var5로 받은 값을 Attribute var5에 대입."
   ]
  },
  {
   "cell_type": "code",
   "execution_count": 67,
   "id": "6633e4f0",
   "metadata": {},
   "outputs": [
    {
     "name": "stdout",
     "output_type": "stream",
     "text": [
      "Test의 __init__() 실행\n"
     ]
    }
   ],
   "source": [
    "t = Test()  #객체생성: 클래스이름() => 클래스의 initializer를 호출"
   ]
  },
  {
   "cell_type": "code",
   "execution_count": 68,
   "id": "2ad8e467",
   "metadata": {},
   "outputs": [
    {
     "name": "stdout",
     "output_type": "stream",
     "text": [
      "변수1 변수2 True 10000 None\n"
     ]
    }
   ],
   "source": [
    "print(t.var1, t.var2, t.var3, t.var4, t.var5)"
   ]
  },
  {
   "cell_type": "code",
   "execution_count": 62,
   "id": "018d90b4",
   "metadata": {},
   "outputs": [
    {
     "name": "stdout",
     "output_type": "stream",
     "text": [
      "Test의 __init__() 실행\n"
     ]
    }
   ],
   "source": [
    "t1 = Test(200)"
   ]
  },
  {
   "cell_type": "code",
   "execution_count": 63,
   "id": "e25fa80b",
   "metadata": {},
   "outputs": [
    {
     "name": "stdout",
     "output_type": "stream",
     "text": [
      "변수1 변수2 True 10000 200\n"
     ]
    }
   ],
   "source": [
    "print(t1.var1, t1.var2, t1.var3, t1.var4, t1.var5)"
   ]
  },
  {
   "cell_type": "code",
   "execution_count": 70,
   "id": "d43c0115",
   "metadata": {},
   "outputs": [],
   "source": [
    "class Person3:\n",
    "    \n",
    "    #name, age, address  속성을 초기화하는 initializer \n",
    "    def __init__(self, name, age, address=None):# , email=None, telnum=None):\n",
    "        self.name = name  #Attribute = Parameter\n",
    "        self.age = age\n",
    "        self.address = address\n",
    "#         self.point = 10000  # 모든 객체에 같은 값을 넣는 Attribute.\n",
    "    \n",
    "    # 사람의 속성값들을 모두 출력하는 메소드\n",
    "    def print_info(self):\n",
    "        info = f\"이름: {self.name}, 나이: {self.age}, 주소: {self.address}\"  \n",
    "        print(info)\n",
    "        \n",
    "    # 나이에 특정 값을 더하는 메소드\n",
    "    def add_age(self, value): \n",
    "        self.age = self.age + value"
   ]
  },
  {
   "cell_type": "code",
   "execution_count": 74,
   "id": "dea03308",
   "metadata": {},
   "outputs": [
    {
     "name": "stdout",
     "output_type": "stream",
     "text": [
      "이름: 홍길동, 나이: 20, 주소: None\n",
      "이름: 홍길동, 나이: 25, 주소: None\n"
     ]
    }
   ],
   "source": [
    "p = Person3(\"홍길동\", 20)\n",
    "p.print_info()\n",
    "p.add_age(5)\n",
    "p.print_info()"
   ]
  },
  {
   "cell_type": "code",
   "execution_count": 76,
   "id": "f069f55b",
   "metadata": {},
   "outputs": [
    {
     "name": "stdout",
     "output_type": "stream",
     "text": [
      "이름: 이순신, 나이: 30, 주소: 서울\n"
     ]
    }
   ],
   "source": [
    "p2 = Person3('이순신', 30, '서울')\n",
    "p2.print_info()"
   ]
  },
  {
   "cell_type": "code",
   "execution_count": 77,
   "id": "126df304",
   "metadata": {},
   "outputs": [
    {
     "name": "stdout",
     "output_type": "stream",
     "text": [
      "이름: 유관순, 나이: 30, 주소: 인천\n"
     ]
    }
   ],
   "source": [
    "p3 = Person3(name='유관순', age=30, address='인천') \n",
    "p3.print_info()"
   ]
  },
  {
   "cell_type": "code",
   "execution_count": null,
   "id": "93e8b786",
   "metadata": {},
   "outputs": [],
   "source": [
    "p3.email = \"abc@a.com\"\n",
    "p3.tel = '010-111-2222'"
   ]
  },
  {
   "cell_type": "code",
   "execution_count": 78,
   "id": "4b3df726",
   "metadata": {},
   "outputs": [
    {
     "data": {
      "text/plain": [
       "type"
      ]
     },
     "execution_count": 78,
     "metadata": {},
     "output_type": "execute_result"
    }
   ],
   "source": [
    "type(Person3) #type(Class이름) => type"
   ]
  },
  {
   "cell_type": "code",
   "execution_count": 80,
   "id": "ba0b1f5c",
   "metadata": {},
   "outputs": [
    {
     "data": {
      "text/plain": [
       "{'name': '유관순', 'age': 30, 'address': '인천'}"
      ]
     },
     "execution_count": 80,
     "metadata": {},
     "output_type": "execute_result"
    }
   ],
   "source": [
    "p3.__dict__"
   ]
  },
  {
   "cell_type": "markdown",
   "id": "ddb24e40",
   "metadata": {},
   "source": [
    "## 정보 은닉 (Information Hiding)\n",
    "- Attribute에 아무값이나 대입하지 못하게 하고 어떤 규칙을 설정하고 싶을 때 적용.\n",
    "1. Attribute에 접근하는 것을 막는다.\n",
    "    - Attribute이름 앞에 __ (double underscore) 를 붙인다. **뒤에는 붙이면 절대안됨**\n",
    "        - 내부적으로 변수의 이름을 `_클래스이름__속성명` 으로 변환해서 객체에 저장. (메소드에서 self.\\_\\_변수 로 설정한 경우)\n",
    "2. Attribute의 값을 변경하는 메소드(여기에 변경규칙을 넣는다.) - setter        \n",
    "   Attribute의 값을 반환하는 메소드 - getter    \n",
    "   를 제공한다."
   ]
  },
  {
   "cell_type": "code",
   "execution_count": 111,
   "id": "ff590953",
   "metadata": {},
   "outputs": [],
   "source": [
    "class Person4:\n",
    "    \n",
    "    def __init__(self, age):\n",
    "        if age >= 0:\n",
    "            self.__age = age\n",
    "        else:\n",
    "            self.__age = None\n",
    "    # age 속성값을 변경하는 메소드 - setter\n",
    "    def set_age(self, age):\n",
    "        if age >= 0:\n",
    "            self.__age = age  #같은 클래스에서는 __변수 를 호출 할 수있다.\n",
    "\n",
    "    # age 속성값을 반환하는 메소드 - getter\n",
    "    def get_age(self):\n",
    "        return self.__age\n"
   ]
  },
  {
   "cell_type": "code",
   "execution_count": 112,
   "id": "cb20bcdf",
   "metadata": {},
   "outputs": [],
   "source": [
    "p = Person4(20)"
   ]
  },
  {
   "cell_type": "code",
   "execution_count": 113,
   "id": "ff073dad",
   "metadata": {},
   "outputs": [
    {
     "data": {
      "text/plain": [
       "{'_Person4__age': 20}"
      ]
     },
     "execution_count": 113,
     "metadata": {},
     "output_type": "execute_result"
    }
   ],
   "source": [
    "p.__dict__"
   ]
  },
  {
   "cell_type": "code",
   "execution_count": 115,
   "id": "96c36fb1",
   "metadata": {},
   "outputs": [
    {
     "data": {
      "text/plain": [
       "{'_Person4__age': 30}"
      ]
     },
     "execution_count": 115,
     "metadata": {},
     "output_type": "execute_result"
    }
   ],
   "source": [
    "# 변경\n",
    "p.set_age(30)\n",
    "p.__dict__"
   ]
  },
  {
   "cell_type": "code",
   "execution_count": 117,
   "id": "5d832fb8",
   "metadata": {},
   "outputs": [
    {
     "data": {
      "text/plain": [
       "{'_Person4__age': 30}"
      ]
     },
     "execution_count": 117,
     "metadata": {},
     "output_type": "execute_result"
    }
   ],
   "source": [
    "p.set_age(-50)\n",
    "p.__dict__"
   ]
  },
  {
   "cell_type": "code",
   "execution_count": 118,
   "id": "9b36dc1f",
   "metadata": {},
   "outputs": [
    {
     "name": "stdout",
     "output_type": "stream",
     "text": [
      "30\n"
     ]
    }
   ],
   "source": [
    "print(p.get_age())"
   ]
  },
  {
   "cell_type": "markdown",
   "id": "37138b11",
   "metadata": {},
   "source": [
    "#### setter, getter 메소드를 변수처럼 호출할 수 있도록 처리.\n",
    "1. property() 함수를 이용\n",
    "2. property  decorator를 이용"
   ]
  },
  {
   "cell_type": "code",
   "execution_count": 158,
   "id": "b6cd1027",
   "metadata": {},
   "outputs": [],
   "source": [
    "# property() 함수를 이용\n",
    "class Person5:\n",
    "    \n",
    "    def __init__(self, name, age):\n",
    "        if name: #한글자 이상이면 넣어라.\n",
    "            self.__name = name\n",
    "        if age >= 0: # 양수이면 넣어라.\n",
    "            self.__age = age\n",
    "            \n",
    "    # name 의 setter/getter\n",
    "    def set_name(self, name):\n",
    "        if name: #한글자 이상이면 넣어라.\n",
    "            self.__name = name\n",
    "\n",
    "    def get_name(self):\n",
    "        return self.__name\n",
    "    \n",
    "    # age의 setter/getter \n",
    "    def set_age(self, age):\n",
    "        if age>=0:\n",
    "            self.__age = age\n",
    "            \n",
    "    def get_age(self):\n",
    "        return self.__age\n",
    "    \n",
    "#     변수명 = property(getter, setter)  객체.변수명 으로 값을 조회할 경우 getter메소드 호출, 값을 대입하면 setter메소드를 호출\n",
    "    name = property(get_name, set_name)\n",
    "    age = property(get_age, set_age)"
   ]
  },
  {
   "cell_type": "code",
   "execution_count": 159,
   "id": "640441fc",
   "metadata": {},
   "outputs": [
    {
     "data": {
      "text/plain": [
       "{'_Person5__name': '홍길동', '_Person5__age': 30}"
      ]
     },
     "execution_count": 159,
     "metadata": {},
     "output_type": "execute_result"
    }
   ],
   "source": [
    "p = Person5('홍길동', 30)\n",
    "p.__dict__"
   ]
  },
  {
   "cell_type": "code",
   "execution_count": 160,
   "id": "c49ceb35",
   "metadata": {},
   "outputs": [
    {
     "data": {
      "text/plain": [
       "{'_Person5__name': '홍길동', '_Person5__age': 30}"
      ]
     },
     "execution_count": 160,
     "metadata": {},
     "output_type": "execute_result"
    }
   ],
   "source": [
    "# name 속성에 값을 대입 => set_name\n",
    "# p.name = '유관순'\n",
    "p.name = None\n",
    "p.__dict__"
   ]
  },
  {
   "cell_type": "code",
   "execution_count": 124,
   "id": "84f828eb",
   "metadata": {},
   "outputs": [
    {
     "data": {
      "text/plain": [
       "{'_Person5__name': '유관순', '_Person5__age': 50}"
      ]
     },
     "execution_count": 124,
     "metadata": {},
     "output_type": "execute_result"
    }
   ],
   "source": [
    "# p.age = 50 #==set_age\n",
    "p.age = -40\n",
    "p.__dict__"
   ]
  },
  {
   "cell_type": "code",
   "execution_count": 126,
   "id": "0383321a",
   "metadata": {},
   "outputs": [
    {
     "name": "stdout",
     "output_type": "stream",
     "text": [
      "50 유관순\n"
     ]
    }
   ],
   "source": [
    "print(p.age, p.name)  #name, age 속성을 조회 -> getter 이 호출된다."
   ]
  },
  {
   "cell_type": "code",
   "execution_count": 154,
   "id": "2fb06175",
   "metadata": {},
   "outputs": [],
   "source": [
    "# decorator를 이용해서 setter/getter를 변수처럼 사용하기\n",
    "# 1. getter/setter 메소드의 이름을 사용할 변수명을 준다.\n",
    "# 2. getter 메소드에 @property 데코레이터를 붙인다.\n",
    "#    setter 메소드에 @getter메소드명.setter 데코레이터를 붙인다.\n",
    "class Person6:\n",
    "    def __init__(self, name, age):\n",
    "        if name: #한글자 이상이면 넣어라.\n",
    "            self.__name = name\n",
    "        if age >= 0: # 양수이면 넣어라.\n",
    "            self.__age = age\n",
    "    \n",
    "    @property\n",
    "    def name(self): #getter\n",
    "        return self.__name\n",
    "    \n",
    "    @name.setter  #name에 대한 setter\n",
    "    def name(self, name): #setter\n",
    "#         print('name setter')\n",
    "        if name:\n",
    "            self.__name = name\n",
    "\n",
    "    @property  #age의 getter\n",
    "    def age(self):\n",
    "        return self.__age\n",
    "    \n",
    "    @age.setter #age의 setter\n",
    "    def age(self, age):\n",
    "        if age>=0:\n",
    "            self.__age = age"
   ]
  },
  {
   "cell_type": "code",
   "execution_count": 152,
   "id": "4026a2de",
   "metadata": {},
   "outputs": [
    {
     "data": {
      "text/plain": [
       "{'_Person6__name': '이순신', '_Person6__age': 10}"
      ]
     },
     "execution_count": 152,
     "metadata": {},
     "output_type": "execute_result"
    }
   ],
   "source": [
    "p = Person6('이순신', 10)\n",
    "p.__dict__"
   ]
  },
  {
   "cell_type": "code",
   "execution_count": 140,
   "id": "a263e06c",
   "metadata": {},
   "outputs": [
    {
     "data": {
      "text/plain": [
       "{'_Person6__name': '홍길동', '_Person6__age': 10}"
      ]
     },
     "execution_count": 140,
     "metadata": {},
     "output_type": "execute_result"
    }
   ],
   "source": [
    "# p.name = '홍길동'  #name setter호출\n",
    "# p.name = ''\n",
    "p.name = None\n",
    "p.__dict__"
   ]
  },
  {
   "cell_type": "code",
   "execution_count": 143,
   "id": "e20e7cb1",
   "metadata": {},
   "outputs": [
    {
     "data": {
      "text/plain": [
       "{'_Person6__name': '홍길동', '_Person6__age': 100}"
      ]
     },
     "execution_count": 143,
     "metadata": {},
     "output_type": "execute_result"
    }
   ],
   "source": [
    "# p.age = 100\n",
    "p.age = -20\n",
    "p.__dict__"
   ]
  },
  {
   "cell_type": "code",
   "execution_count": 144,
   "id": "937954f5",
   "metadata": {},
   "outputs": [
    {
     "name": "stdout",
     "output_type": "stream",
     "text": [
      "홍길동 100\n"
     ]
    }
   ],
   "source": [
    "print(p.name, p.age)"
   ]
  },
  {
   "cell_type": "code",
   "execution_count": null,
   "id": "a2b44fac",
   "metadata": {},
   "outputs": [],
   "source": []
  },
  {
   "cell_type": "code",
   "execution_count": 163,
   "id": "3ecdf679",
   "metadata": {},
   "outputs": [
    {
     "name": "stdout",
     "output_type": "stream",
     "text": [
      "<class 'list'> <class '__main__.Person5'> <class 'int'> <class 'str'> <class 'bool'>\n"
     ]
    }
   ],
   "source": [
    "l = [10, 5, 7, 2]\n",
    "i = 10\n",
    "s = 'abc'\n",
    "print(type(l), type(p), type(i), type(s), type(False))"
   ]
  },
  {
   "cell_type": "code",
   "execution_count": null,
   "id": "f21976e5",
   "metadata": {},
   "outputs": [],
   "source": [
    "l = [10, 5, 7, 2]\n",
    "# 정렬\n",
    "# sorted(리스트), 리스트.sort()"
   ]
  },
  {
   "cell_type": "code",
   "execution_count": 164,
   "id": "5d8aae66",
   "metadata": {},
   "outputs": [
    {
     "data": {
      "text/plain": [
       "[2, 5, 7, 10]"
      ]
     },
     "execution_count": 164,
     "metadata": {},
     "output_type": "execute_result"
    }
   ],
   "source": [
    "sorted(l) #리스트, 튜플, 셋, 딕셔너리, 문자열 => iterable들을 정렬. 정렬된 리스트를 새로 만들어서 반환"
   ]
  },
  {
   "cell_type": "code",
   "execution_count": 169,
   "id": "06c03210",
   "metadata": {},
   "outputs": [
    {
     "data": {
      "text/plain": [
       "[1, 2, 5, 10]"
      ]
     },
     "execution_count": 169,
     "metadata": {},
     "output_type": "execute_result"
    }
   ],
   "source": [
    "sorted({10,10,1,2, 5, 10})"
   ]
  },
  {
   "cell_type": "code",
   "execution_count": 170,
   "id": "ad7c9049",
   "metadata": {},
   "outputs": [
    {
     "data": {
      "text/plain": [
       "[1, 1, 2, 4, 7, 10]"
      ]
     },
     "execution_count": 170,
     "metadata": {},
     "output_type": "execute_result"
    }
   ],
   "source": [
    "sorted((10, 2, 1, 7, 4, 1))"
   ]
  },
  {
   "cell_type": "code",
   "execution_count": 171,
   "id": "064a668b",
   "metadata": {},
   "outputs": [
    {
     "data": {
      "text/plain": [
       "['a', 'b', 'r', 'z']"
      ]
     },
     "execution_count": 171,
     "metadata": {},
     "output_type": "execute_result"
    }
   ],
   "source": [
    "sorted(dict(z=1, a=10, r=10, b=20)) #딕셔너리는 키값들만 정렬해서 리스트로 반환"
   ]
  },
  {
   "cell_type": "code",
   "execution_count": 172,
   "id": "0383a8f1",
   "metadata": {
    "collapsed": true
   },
   "outputs": [
    {
     "data": {
      "text/plain": [
       "[';',\n",
       " ';',\n",
       " ';',\n",
       " 'a',\n",
       " 'a',\n",
       " 'a',\n",
       " 'a',\n",
       " 'd',\n",
       " 'd',\n",
       " 'd',\n",
       " 'd',\n",
       " 'd',\n",
       " 'f',\n",
       " 'f',\n",
       " 'f',\n",
       " 'j',\n",
       " 'j',\n",
       " 'j',\n",
       " 'j',\n",
       " 'k',\n",
       " 'k',\n",
       " 'k',\n",
       " 'k',\n",
       " 'k',\n",
       " 'l',\n",
       " 'l',\n",
       " 'l',\n",
       " 'l',\n",
       " 's',\n",
       " 's',\n",
       " 's',\n",
       " 's']"
      ]
     },
     "execution_count": 172,
     "metadata": {},
     "output_type": "execute_result"
    }
   ],
   "source": [
    "sorted('alkdjfa;lksdfjk;lasdj;kladsksfdj')"
   ]
  },
  {
   "cell_type": "code",
   "execution_count": 166,
   "id": "eee95254",
   "metadata": {},
   "outputs": [],
   "source": [
    "l.sort()"
   ]
  },
  {
   "cell_type": "code",
   "execution_count": 167,
   "id": "1d9ca5cf",
   "metadata": {},
   "outputs": [
    {
     "data": {
      "text/plain": [
       "[2, 5, 7, 10]"
      ]
     },
     "execution_count": 167,
     "metadata": {},
     "output_type": "execute_result"
    }
   ],
   "source": [
    "l"
   ]
  },
  {
   "cell_type": "code",
   "execution_count": 173,
   "id": "67f3d5db",
   "metadata": {},
   "outputs": [
    {
     "data": {
      "text/plain": [
       "[2, 5, 7, 10]"
      ]
     },
     "execution_count": 173,
     "metadata": {},
     "output_type": "execute_result"
    }
   ],
   "source": [
    "l.append()"
   ]
  },
  {
   "cell_type": "code",
   "execution_count": null,
   "id": "4ccb7078",
   "metadata": {},
   "outputs": [],
   "source": []
  },
  {
   "cell_type": "code",
   "execution_count": 175,
   "id": "c168abf0",
   "metadata": {},
   "outputs": [],
   "source": [
    "def plus(a, b):\n",
    "    return a+b"
   ]
  },
  {
   "cell_type": "code",
   "execution_count": 176,
   "id": "a77b5204",
   "metadata": {},
   "outputs": [
    {
     "data": {
      "text/plain": [
       "30"
      ]
     },
     "execution_count": 176,
     "metadata": {},
     "output_type": "execute_result"
    }
   ],
   "source": [
    "plus(10, 20)"
   ]
  },
  {
   "cell_type": "code",
   "execution_count": 177,
   "id": "4d0e2f04",
   "metadata": {},
   "outputs": [
    {
     "data": {
      "text/plain": [
       "'ab'"
      ]
     },
     "execution_count": 177,
     "metadata": {},
     "output_type": "execute_result"
    }
   ],
   "source": [
    "plus('a','b')"
   ]
  },
  {
   "cell_type": "markdown",
   "id": "c48934a8",
   "metadata": {},
   "source": [
    "# 상속(Inheritance)"
   ]
  },
  {
   "cell_type": "code",
   "execution_count": 29,
   "id": "14fed07b",
   "metadata": {},
   "outputs": [],
   "source": [
    "class Person:\n",
    "    \n",
    "    def eat(self):\n",
    "        print('점심을 먹는다.')"
   ]
  },
  {
   "cell_type": "code",
   "execution_count": 30,
   "id": "7aa99d92",
   "metadata": {},
   "outputs": [],
   "source": [
    "class Student(Person): #Person을 상속은 Student 클래스를 정의\n",
    "#     def eat(self):#\n",
    "#         print('점심을 먹는다.')\n",
    "    \n",
    "    def study(self):\n",
    "        print('공부를 한다.')"
   ]
  },
  {
   "cell_type": "code",
   "execution_count": 31,
   "id": "510b1fb2",
   "metadata": {},
   "outputs": [
    {
     "name": "stdout",
     "output_type": "stream",
     "text": [
      "점심을 먹는다.\n"
     ]
    }
   ],
   "source": [
    "p = Person()\n",
    "p.eat()"
   ]
  },
  {
   "cell_type": "code",
   "execution_count": 32,
   "id": "1565d3be",
   "metadata": {},
   "outputs": [
    {
     "name": "stdout",
     "output_type": "stream",
     "text": [
      "점심을 먹는다.\n",
      "공부를 한다.\n"
     ]
    }
   ],
   "source": [
    "s = Student()\n",
    "s.eat()\n",
    "s.study()"
   ]
  },
  {
   "cell_type": "code",
   "execution_count": 74,
   "id": "6414dd54",
   "metadata": {},
   "outputs": [],
   "source": [
    "class Person2:\n",
    "    \n",
    "    def __init__(self, name):\n",
    "        self.name = name\n",
    "    \n",
    "    def eat(self):\n",
    "        print(f'{self.name}이 점심을 먹는다.')\n",
    "        \n",
    "    def get_info(self):\n",
    "        \"\"\"\n",
    "        Person 객체가 가지는 정보(name)을 이름: name 형식으로 반환하는 메소드\n",
    "        \"\"\"\n",
    "        return f\"이름: {self.name}\""
   ]
  },
  {
   "cell_type": "code",
   "execution_count": 82,
   "id": "7b6e4cea",
   "metadata": {},
   "outputs": [],
   "source": [
    "class Student2(Person2): #Person2을 상속은 Student2 클래스를 정의\n",
    "    \n",
    "    def __init__(self, name, subject):\n",
    "#         self.name = name\n",
    "        super().__init__(name)   #super(): 상위(부모)클래스를 가리킨다. super().__init__() : 부모클래스의 __init__() 메소드를 호출\n",
    "        self.subject = subject\n",
    "        \n",
    "    def study(self):\n",
    "        print(f'{self.subject}과목을 공부를 한다.')\n",
    "        \n",
    "#     def get_stu_info(self):\n",
    "    def get_info(self): # 상위클래스인 Person의 get_info() 메소드를 하위클래스인 Student에서 재정의(내용만 수정) => Method Overriding\n",
    "        \"\"\"\n",
    "        Student객체가 가지는 정보(name, subject)를 이름: name, 과목: subject 형식으로 반환하는 메소드\n",
    "        \"\"\"\n",
    "        v = super().get_info() # Method Overriding한 메소드에서 상위클래스의 원본메소드를 호출 할 경우 : super()\n",
    "#         self.study()\n",
    "#         return f\"이름: {self.name}, 과목: {self.subject}\"\n",
    "        return f\"{v}, 과목: {self.subject}\""
   ]
  },
  {
   "cell_type": "code",
   "execution_count": 101,
   "id": "ca05000f",
   "metadata": {},
   "outputs": [],
   "source": [
    "class Teacher(Person2):\n",
    "    \n",
    "    def __init__(self, name, job):\n",
    "        super().__init__(name)\n",
    "        self.job =  job\n",
    "        \n",
    "#     def get_teacher_info(self):\n",
    "    def get_info(self):  # 상위클래스인 Person의 get_info()를 Method Overriding\n",
    "        \"\"\"Teacher객체가 가지는 정보(name, job)를 이름: name, 업무: job 형식으로 반환하는 메소드\"\"\"\n",
    "        return f\"이름: {self.name}, 과목: {self.job}\""
   ]
  },
  {
   "cell_type": "code",
   "execution_count": 102,
   "id": "9b47729a",
   "metadata": {},
   "outputs": [
    {
     "name": "stdout",
     "output_type": "stream",
     "text": [
      "aaaaaa\n"
     ]
    },
    {
     "data": {
      "text/plain": [
       "<__main__.Teacher at 0x19e05c95b50>"
      ]
     },
     "execution_count": 102,
     "metadata": {},
     "output_type": "execute_result"
    }
   ],
   "source": [
    "Teacher('이름', '업무')"
   ]
  },
  {
   "cell_type": "code",
   "execution_count": 84,
   "id": "83bc75a7",
   "metadata": {},
   "outputs": [
    {
     "name": "stdout",
     "output_type": "stream",
     "text": [
      "파이썬과목을 공부를 한다.\n",
      "홍길동이 점심을 먹는다.\n"
     ]
    }
   ],
   "source": [
    "s2 = Student2(\"홍길동\", \"파이썬\")\n",
    "s2.study()\n",
    "s2.eat()"
   ]
  },
  {
   "cell_type": "code",
   "execution_count": 85,
   "id": "c23c83c9",
   "metadata": {},
   "outputs": [
    {
     "name": "stdout",
     "output_type": "stream",
     "text": [
      "홍길동이 점심을 먹는다.\n",
      "이름: 홍길동, 과목: 파이썬\n"
     ]
    }
   ],
   "source": [
    "# v = s2.get_stu_info()\n",
    "v = s2.get_info()\n",
    "print(v)"
   ]
  },
  {
   "cell_type": "code",
   "execution_count": 79,
   "id": "18515873",
   "metadata": {},
   "outputs": [
    {
     "name": "stdout",
     "output_type": "stream",
     "text": [
      "이름: 이순신\n"
     ]
    }
   ],
   "source": [
    "p2 = Person2(\"이순신\")\n",
    "v2 = p2.get_info()\n",
    "print(v2)"
   ]
  },
  {
   "cell_type": "code",
   "execution_count": 114,
   "id": "8425305d",
   "metadata": {},
   "outputs": [
    {
     "name": "stdout",
     "output_type": "stream",
     "text": [
      "aaaaaa\n",
      "이름: 박선생, 과목: 교무주임\n"
     ]
    }
   ],
   "source": [
    "t = Teacher('박선생', '교무주임')\n",
    "v3 = t.get_info()\n",
    "print(v3)"
   ]
  },
  {
   "cell_type": "code",
   "execution_count": 81,
   "id": "e33b3469",
   "metadata": {},
   "outputs": [
    {
     "name": "stdout",
     "output_type": "stream",
     "text": [
      "박선생이 점심을 먹는다.\n",
      "홍길동이 점심을 먹는다.\n"
     ]
    }
   ],
   "source": [
    "t.eat()\n",
    "s2.eat()"
   ]
  },
  {
   "cell_type": "code",
   "execution_count": 87,
   "id": "c79c64d7",
   "metadata": {},
   "outputs": [
    {
     "data": {
      "text/plain": [
       "{'name': '박선생', 'job': '교무주임'}"
      ]
     },
     "execution_count": 87,
     "metadata": {},
     "output_type": "execute_result"
    }
   ],
   "source": [
    "t.__dict__"
   ]
  },
  {
   "cell_type": "code",
   "execution_count": 115,
   "id": "0e92db4e",
   "metadata": {},
   "outputs": [
    {
     "data": {
      "text/plain": [
       "(__main__.Teacher, __main__.Person2)"
      ]
     },
     "execution_count": 115,
     "metadata": {},
     "output_type": "execute_result"
    }
   ],
   "source": [
    "t.__class__, p2.__class__"
   ]
  },
  {
   "cell_type": "code",
   "execution_count": 116,
   "id": "7c25bb86",
   "metadata": {},
   "outputs": [
    {
     "data": {
      "text/plain": [
       "True"
      ]
     },
     "execution_count": 116,
     "metadata": {},
     "output_type": "execute_result"
    }
   ],
   "source": [
    "# isinstance(객체, 클래스이름) : 객체가 클래스이름(의 클래스)의 하위클래스인지를 확인\n",
    "isinstance(t, Person2)  #True: t 객체는 Person2의 하위클래스에서 생성된 객체"
   ]
  },
  {
   "cell_type": "code",
   "execution_count": 118,
   "id": "4dec3dc4",
   "metadata": {},
   "outputs": [
    {
     "name": "stdout",
     "output_type": "stream",
     "text": [
      "aaaaaa\n"
     ]
    }
   ],
   "source": [
    "t = Teacher('이름', '업무')"
   ]
  },
  {
   "cell_type": "code",
   "execution_count": 119,
   "id": "f9a8c694",
   "metadata": {},
   "outputs": [
    {
     "data": {
      "text/plain": [
       "True"
      ]
     },
     "execution_count": 119,
     "metadata": {},
     "output_type": "execute_result"
    }
   ],
   "source": [
    "isinstance(t, Teacher)"
   ]
  },
  {
   "cell_type": "code",
   "execution_count": 120,
   "id": "c34044af",
   "metadata": {},
   "outputs": [
    {
     "data": {
      "text/plain": [
       "True"
      ]
     },
     "execution_count": 120,
     "metadata": {},
     "output_type": "execute_result"
    }
   ],
   "source": [
    "isinstance(t, Person2)"
   ]
  },
  {
   "cell_type": "code",
   "execution_count": 97,
   "id": "240a206f",
   "metadata": {},
   "outputs": [
    {
     "data": {
      "text/plain": [
       "__main__.Teacher"
      ]
     },
     "execution_count": 97,
     "metadata": {},
     "output_type": "execute_result"
    }
   ],
   "source": [
    "t.__class__"
   ]
  },
  {
   "cell_type": "markdown",
   "id": "166cee69",
   "metadata": {},
   "source": [
    "# 특수 메소드들"
   ]
  },
  {
   "cell_type": "code",
   "execution_count": 147,
   "id": "c9e55ece",
   "metadata": {},
   "outputs": [],
   "source": [
    "class Test:\n",
    "    \n",
    "    # initializer - 객체 생성시 호출 (attribute 변수 초기화)\n",
    "    def __init__(self, num):\n",
    "        self.num = num\n",
    "    # 객체를 함수처럼 호출하면 실행되는 메소드\n",
    "    def __call__(self, cnt):\n",
    "        print(self.num + cnt)\n",
    "        return self.num * cnt\n",
    "    \n",
    "    # 객체를 문자열로 바꿀때 나올 string을 반환 => attribute변수의 값들을 하나로 합쳐서 하나의 문자열로 반환.\n",
    "    def __str__(self):\n",
    "        return f\"num: {self.num}\"\n",
    "    \n",
    "    def __repr__(self):\n",
    "        return f\"num: {self.num}\""
   ]
  },
  {
   "cell_type": "code",
   "execution_count": 148,
   "id": "2d4e1066",
   "metadata": {},
   "outputs": [],
   "source": [
    "test = Test(10)\n",
    "test2 = Test(20)"
   ]
  },
  {
   "cell_type": "code",
   "execution_count": 149,
   "id": "e35d2580",
   "metadata": {},
   "outputs": [
    {
     "data": {
      "text/plain": [
       "('num: 10', 'num: 20')"
      ]
     },
     "execution_count": 149,
     "metadata": {},
     "output_type": "execute_result"
    }
   ],
   "source": [
    "str(test), str(test2) #__str__()"
   ]
  },
  {
   "cell_type": "code",
   "execution_count": 150,
   "id": "0ad2826f",
   "metadata": {},
   "outputs": [
    {
     "data": {
      "text/plain": [
       "num: 10"
      ]
     },
     "execution_count": 150,
     "metadata": {},
     "output_type": "execute_result"
    }
   ],
   "source": [
    "test # __repr__()  : 주피터노트북 cell (REPL 에디터)에서 객체를 그냥 출력하면 호출."
   ]
  },
  {
   "cell_type": "code",
   "execution_count": 151,
   "id": "0bb6c1c0",
   "metadata": {},
   "outputs": [
    {
     "name": "stdout",
     "output_type": "stream",
     "text": [
      "num: 10\n"
     ]
    }
   ],
   "source": [
    "print(test)  #print()함수는 값을 문자열로 변환한 뒤에 출력 __str__()"
   ]
  },
  {
   "cell_type": "code",
   "execution_count": 152,
   "id": "63da31d1",
   "metadata": {},
   "outputs": [
    {
     "data": {
      "text/plain": [
       "'abc'"
      ]
     },
     "execution_count": 152,
     "metadata": {},
     "output_type": "execute_result"
    }
   ],
   "source": [
    "\"abc\" # str.__repr__()"
   ]
  },
  {
   "cell_type": "code",
   "execution_count": 153,
   "id": "86d4efec",
   "metadata": {},
   "outputs": [
    {
     "name": "stdout",
     "output_type": "stream",
     "text": [
      "abc\n"
     ]
    }
   ],
   "source": [
    "print(\"abc\") # str.__str__()"
   ]
  },
  {
   "cell_type": "code",
   "execution_count": 111,
   "id": "350d0d0f",
   "metadata": {},
   "outputs": [
    {
     "name": "stdout",
     "output_type": "stream",
     "text": [
      "60\n"
     ]
    },
    {
     "data": {
      "text/plain": [
       "500"
      ]
     },
     "execution_count": 111,
     "metadata": {},
     "output_type": "execute_result"
    }
   ],
   "source": [
    "test(50)"
   ]
  },
  {
   "cell_type": "code",
   "execution_count": 112,
   "id": "423eecc7",
   "metadata": {},
   "outputs": [
    {
     "name": "stdout",
     "output_type": "stream",
     "text": [
      "30\n",
      "200\n"
     ]
    }
   ],
   "source": [
    "a = Test(10)(20) #객체 생성하면서 바로 __call__() 호출\n",
    "print(a)"
   ]
  },
  {
   "cell_type": "code",
   "execution_count": 130,
   "id": "c980658a",
   "metadata": {},
   "outputs": [
    {
     "data": {
      "text/plain": [
       "'문자열'"
      ]
     },
     "execution_count": 130,
     "metadata": {},
     "output_type": "execute_result"
    }
   ],
   "source": [
    "str(test)  # __str__() 반환하는 문자열"
   ]
  },
  {
   "cell_type": "code",
   "execution_count": null,
   "id": "dab72cfe",
   "metadata": {},
   "outputs": [],
   "source": [
    "p = Person('홍길동', 30)\n",
    "p2 =Person('이순신', 10)\n",
    "p3 =Person('강감찬', 40)"
   ]
  },
  {
   "cell_type": "code",
   "execution_count": 215,
   "id": "010f7495",
   "metadata": {},
   "outputs": [],
   "source": [
    "class Person:\n",
    "    \n",
    "    # class 변수 - 클래스 자체의 변수(데이터) - 객체별 다른 값을 저장하는 변수(attribute)가 아니라 모든 객체에 공통적으로 정의되는 값, \n",
    "    #              클래스의 속성을 정의할 때 사용\n",
    "    #              class 블럭에 정의. 접근: class이름.변수\n",
    "    job_list = ['교사', '학생']    \n",
    "    \n",
    "    \n",
    "    # class 메소드 - class변수를 다루는 메소드. 첫번째 매개변수로 class를 받는 매개변수를 선언. @classmethod 데코레이터를 선언\n",
    "    # 클래스이름.메소드()   Person.append_data_job_list(\"교직원\")\n",
    "    @classmethod\n",
    "    def append_data_job_list(cls, job):\n",
    "        print('append', cls)\n",
    "        cls.job_list.append(job)\n",
    "    \n",
    "    # static method - class의 메소드. class 변수나 instance 변수와 관계없는 기능을 처리하는 메소드. @staticmethod 데코레이터를 선언.\n",
    "    # 호출: class이름.메소드()\n",
    "    @staticmethod\n",
    "    def print_class_info():\n",
    "        print('Person 클래스는 우리가 관리하는 Person데이터를 표현한다.')\n",
    "    \n",
    "    \n",
    "    # initializer\n",
    "    def __init__(self, name, age, job=None):\n",
    "        self.name, self.age = name, age\n",
    "        self.job = job\n",
    "    \n",
    "    def add_age(self, v):\n",
    "        self.age += v\n",
    "    \n",
    "    \n",
    "    # 객체를 문자열로 변경할 때 호출. str(), print()\n",
    "    def __str__(self):\n",
    "        return f\"이름: {self.name}, 나이: {self.age}, 직무: {self.job}\"\n",
    "    \n",
    "    # 연산자 재정의\n",
    "    # __ne__(): p1 != p2, __lt__(): p1 < p2 , __gt__() : p1 > p2\n",
    "    def __eq__(self, obj):  # p1 == p2  (p1과 p2의 속성값이 같으면 True, 다르면 False)\n",
    "#         print('__eq__', isinstance(obj, Person))\n",
    "        result = False\n",
    "        if isinstance(obj, Person):\n",
    "#             if self.name == obj.name and self.age == obj.age:\n",
    "            if self.name == obj.name:\n",
    "                result = True        \n",
    "        return result\n",
    "    \n",
    "    def __gt__(self, obj):\n",
    "        result = False\n",
    "        if isinstance(obj, Person):  # p1 > p2\n",
    "            if self.age > obj.age:\n",
    "                result = True\n",
    "        else:\n",
    "            result = self.age > obj  #p1 > 10\n",
    "        \n",
    "        return result\n",
    "        \n",
    "    \n",
    "    def __add__(self, value):\n",
    "        # 덧셈을 재정의 : self의 나이에 value를 더한 값을 반환\n",
    "        return self.age + value"
   ]
  },
  {
   "cell_type": "code",
   "execution_count": 216,
   "id": "acf35ade",
   "metadata": {},
   "outputs": [
    {
     "name": "stdout",
     "output_type": "stream",
     "text": [
      "Person 클래스는 우리가 관리하는 Person데이터를 표현한다.\n"
     ]
    }
   ],
   "source": [
    "# static 메소드 호출\n",
    "Person.print_class_info()"
   ]
  },
  {
   "cell_type": "code",
   "execution_count": 210,
   "id": "98524eff",
   "metadata": {},
   "outputs": [
    {
     "data": {
      "text/plain": [
       "['교사', '학생']"
      ]
     },
     "execution_count": 210,
     "metadata": {},
     "output_type": "execute_result"
    }
   ],
   "source": [
    "# 클래스 변수 호출: 클래스이름.변수명\n",
    "Person.job_list"
   ]
  },
  {
   "cell_type": "code",
   "execution_count": 211,
   "id": "3cd0d146",
   "metadata": {},
   "outputs": [
    {
     "name": "stdout",
     "output_type": "stream",
     "text": [
      "append <class '__main__.Person'>\n"
     ]
    }
   ],
   "source": [
    "Person.append_data_job_list('교직원')"
   ]
  },
  {
   "cell_type": "code",
   "execution_count": 213,
   "id": "73a22214",
   "metadata": {},
   "outputs": [
    {
     "data": {
      "text/plain": [
       "['교사', '학생', '교직원']"
      ]
     },
     "execution_count": 213,
     "metadata": {},
     "output_type": "execute_result"
    }
   ],
   "source": [
    "Person.job_list"
   ]
  },
  {
   "cell_type": "code",
   "execution_count": 212,
   "id": "0c844e7c",
   "metadata": {},
   "outputs": [
    {
     "name": "stdout",
     "output_type": "stream",
     "text": [
      "<class '__main__.Person'>\n"
     ]
    }
   ],
   "source": [
    "print(Person)"
   ]
  },
  {
   "cell_type": "code",
   "execution_count": 206,
   "id": "0cf8aef5",
   "metadata": {},
   "outputs": [
    {
     "name": "stdout",
     "output_type": "stream",
     "text": [
      "이름: 홍길동, 나이: 20, 직무: 교사\n",
      "이름: 이순신, 나이: 20, 직무: 학생\n"
     ]
    }
   ],
   "source": [
    "p1 = Person('홍길동', 20, Person.job_list[0])\n",
    "p2 = Person('이순신', 10, Person.job_list[1])\n",
    "print(p1)\n",
    "print(p2)"
   ]
  },
  {
   "cell_type": "code",
   "execution_count": null,
   "id": "635bae87",
   "metadata": {},
   "outputs": [],
   "source": []
  },
  {
   "cell_type": "code",
   "execution_count": null,
   "id": "3f216988",
   "metadata": {},
   "outputs": [],
   "source": []
  },
  {
   "cell_type": "code",
   "execution_count": null,
   "id": "1ae02624",
   "metadata": {},
   "outputs": [],
   "source": []
  },
  {
   "cell_type": "code",
   "execution_count": null,
   "id": "450705a6",
   "metadata": {},
   "outputs": [],
   "source": []
  },
  {
   "cell_type": "code",
   "execution_count": null,
   "id": "7076e183",
   "metadata": {},
   "outputs": [],
   "source": []
  },
  {
   "cell_type": "code",
   "execution_count": 201,
   "id": "7c9eaa0c",
   "metadata": {},
   "outputs": [],
   "source": [
    "p1 = Person(\"홍길동\", 20)\n",
    "p2 = Person(\"홍길동\", 20)\n",
    "p3 = Person(\"홍길동\", 13)"
   ]
  },
  {
   "cell_type": "code",
   "execution_count": 202,
   "id": "681cc311",
   "metadata": {},
   "outputs": [
    {
     "name": "stdout",
     "output_type": "stream",
     "text": [
      "이름: 홍길동, 나이: 20, 직무: None\n"
     ]
    }
   ],
   "source": [
    "print(p1)"
   ]
  },
  {
   "cell_type": "code",
   "execution_count": 198,
   "id": "0be6b8c4",
   "metadata": {},
   "outputs": [
    {
     "data": {
      "text/plain": [
       "True"
      ]
     },
     "execution_count": 198,
     "metadata": {},
     "output_type": "execute_result"
    }
   ],
   "source": [
    "p1 > 10"
   ]
  },
  {
   "cell_type": "code",
   "execution_count": 199,
   "id": "05444d9b",
   "metadata": {},
   "outputs": [
    {
     "data": {
      "text/plain": [
       "True"
      ]
     },
     "execution_count": 199,
     "metadata": {},
     "output_type": "execute_result"
    }
   ],
   "source": [
    "p1 > p3"
   ]
  },
  {
   "cell_type": "code",
   "execution_count": 180,
   "id": "e2ad0f42",
   "metadata": {},
   "outputs": [
    {
     "data": {
      "text/plain": [
       "True"
      ]
     },
     "execution_count": 180,
     "metadata": {},
     "output_type": "execute_result"
    }
   ],
   "source": [
    "p1 == p2   # p1.__eq__(p2)"
   ]
  },
  {
   "cell_type": "code",
   "execution_count": 181,
   "id": "ba27ece4",
   "metadata": {},
   "outputs": [
    {
     "data": {
      "text/plain": [
       "True"
      ]
     },
     "execution_count": 181,
     "metadata": {},
     "output_type": "execute_result"
    }
   ],
   "source": [
    "p1 == p3"
   ]
  },
  {
   "cell_type": "code",
   "execution_count": 178,
   "id": "29e5bfd5",
   "metadata": {},
   "outputs": [
    {
     "data": {
      "text/plain": [
       "40"
      ]
     },
     "execution_count": 178,
     "metadata": {},
     "output_type": "execute_result"
    }
   ],
   "source": [
    "p1 + 20  #p1.__add__(20)"
   ]
  },
  {
   "cell_type": "code",
   "execution_count": null,
   "id": "606f2bc7",
   "metadata": {},
   "outputs": [],
   "source": []
  },
  {
   "cell_type": "code",
   "execution_count": null,
   "id": "33156d40",
   "metadata": {},
   "outputs": [],
   "source": []
  },
  {
   "cell_type": "code",
   "execution_count": null,
   "id": "e8f1eb88",
   "metadata": {},
   "outputs": [],
   "source": []
  }
 ],
 "metadata": {
  "kernelspec": {
   "display_name": "Python 3 (ipykernel)",
   "language": "python",
   "name": "python3"
  },
  "language_info": {
   "codemirror_mode": {
    "name": "ipython",
    "version": 3
   },
   "file_extension": ".py",
   "mimetype": "text/x-python",
   "name": "python",
   "nbconvert_exporter": "python",
   "pygments_lexer": "ipython3",
   "version": "3.9.7"
  }
 },
 "nbformat": 4,
 "nbformat_minor": 5
}
