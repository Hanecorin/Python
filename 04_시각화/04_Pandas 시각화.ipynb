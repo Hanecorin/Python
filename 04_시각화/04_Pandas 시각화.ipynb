{
 "cells": [
  {
   "cell_type": "markdown",
   "metadata": {},
   "source": [
    "# Pandas 시각화\n",
    "판다시 자체적으로 matplotlib 를 기반으로 한 시각화기능을 지원한다.    \n",
    "Series나 DataFrame에 plot() 함수나 plot accessor를 사용한다.\n",
    "- https://pandas.pydata.org/pandas-docs/stable/user_guide/visualization.html"
   ]
  },
  {
   "cell_type": "code",
   "execution_count": 1,
   "metadata": {},
   "outputs": [],
   "source": [
    "import pandas as pd\n",
    "import numpy as np\n",
    "import matplotlib.pyplot as plt"
   ]
  },
  {
   "cell_type": "code",
   "execution_count": 3,
   "metadata": {
    "scrolled": true
   },
   "outputs": [
    {
     "name": "stderr",
     "output_type": "stream",
     "text": [
      "/var/folders/br/3dqwpjqx4f71f757xh3fx8g80000gn/T/ipykernel_43729/1574438220.py:3: DeprecationWarning: `np.str` is a deprecated alias for the builtin `str`. To silence this warning, use `str` by itself. Doing this will not modify any behavior and is safe. If you specifically wanted the numpy scalar type, use `np.str_` here.\n",
      "Deprecated in NumPy 1.20; for more details and guidance: https://numpy.org/devdocs/release/1.20.0-notes.html#deprecations\n",
      "  converters={'date':np.str})\n"
     ]
    },
    {
     "data": {
      "text/html": [
       "<div>\n",
       "<style scoped>\n",
       "    .dataframe tbody tr th:only-of-type {\n",
       "        vertical-align: middle;\n",
       "    }\n",
       "\n",
       "    .dataframe tbody tr th {\n",
       "        vertical-align: top;\n",
       "    }\n",
       "\n",
       "    .dataframe thead th {\n",
       "        text-align: right;\n",
       "    }\n",
       "</style>\n",
       "<table border=\"1\" class=\"dataframe\">\n",
       "  <thead>\n",
       "    <tr style=\"text-align: right;\">\n",
       "      <th></th>\n",
       "      <th>Chrome</th>\n",
       "      <th>IE</th>\n",
       "      <th>Edge</th>\n",
       "      <th>Safari</th>\n",
       "      <th>Whale Browser</th>\n",
       "      <th>Firefox</th>\n",
       "      <th>Opera</th>\n",
       "      <th>Swing</th>\n",
       "      <th>Phantom</th>\n",
       "      <th>UC Browser</th>\n",
       "      <th>...</th>\n",
       "      <th>QQ Browser</th>\n",
       "      <th>Vivaldi</th>\n",
       "      <th>360 Safe Browser</th>\n",
       "      <th>Maxthon</th>\n",
       "      <th>Coc Coc</th>\n",
       "      <th>Puffin</th>\n",
       "      <th>Yandex Browser</th>\n",
       "      <th>Sogou Explorer</th>\n",
       "      <th>Mozilla</th>\n",
       "      <th>Whale</th>\n",
       "    </tr>\n",
       "    <tr>\n",
       "      <th>date</th>\n",
       "      <th></th>\n",
       "      <th></th>\n",
       "      <th></th>\n",
       "      <th></th>\n",
       "      <th></th>\n",
       "      <th></th>\n",
       "      <th></th>\n",
       "      <th></th>\n",
       "      <th></th>\n",
       "      <th></th>\n",
       "      <th></th>\n",
       "      <th></th>\n",
       "      <th></th>\n",
       "      <th></th>\n",
       "      <th></th>\n",
       "      <th></th>\n",
       "      <th></th>\n",
       "      <th></th>\n",
       "      <th></th>\n",
       "      <th></th>\n",
       "      <th></th>\n",
       "    </tr>\n",
       "  </thead>\n",
       "  <tbody>\n",
       "    <tr>\n",
       "      <th>2018.08</th>\n",
       "      <td>59.12</td>\n",
       "      <td>31.06</td>\n",
       "      <td>2.97</td>\n",
       "      <td>2.52</td>\n",
       "      <td>1.36</td>\n",
       "      <td>1.26</td>\n",
       "      <td>0.88</td>\n",
       "      <td>0.39</td>\n",
       "      <td>0.25</td>\n",
       "      <td>0.03</td>\n",
       "      <td>...</td>\n",
       "      <td>0.02</td>\n",
       "      <td>0.02</td>\n",
       "      <td>0.02</td>\n",
       "      <td>0.02</td>\n",
       "      <td>0.00</td>\n",
       "      <td>0.00</td>\n",
       "      <td>0.01</td>\n",
       "      <td>0.01</td>\n",
       "      <td>0.00</td>\n",
       "      <td>0.00</td>\n",
       "    </tr>\n",
       "    <tr>\n",
       "      <th>2018.09</th>\n",
       "      <td>61.95</td>\n",
       "      <td>27.84</td>\n",
       "      <td>3.16</td>\n",
       "      <td>2.19</td>\n",
       "      <td>1.27</td>\n",
       "      <td>2.57</td>\n",
       "      <td>0.40</td>\n",
       "      <td>0.37</td>\n",
       "      <td>0.00</td>\n",
       "      <td>0.03</td>\n",
       "      <td>...</td>\n",
       "      <td>0.03</td>\n",
       "      <td>0.02</td>\n",
       "      <td>0.06</td>\n",
       "      <td>0.02</td>\n",
       "      <td>0.00</td>\n",
       "      <td>0.00</td>\n",
       "      <td>0.02</td>\n",
       "      <td>0.03</td>\n",
       "      <td>0.00</td>\n",
       "      <td>0.00</td>\n",
       "    </tr>\n",
       "    <tr>\n",
       "      <th>2018.10</th>\n",
       "      <td>62.05</td>\n",
       "      <td>28.36</td>\n",
       "      <td>3.35</td>\n",
       "      <td>2.43</td>\n",
       "      <td>1.28</td>\n",
       "      <td>1.36</td>\n",
       "      <td>0.59</td>\n",
       "      <td>0.35</td>\n",
       "      <td>0.00</td>\n",
       "      <td>0.03</td>\n",
       "      <td>...</td>\n",
       "      <td>0.02</td>\n",
       "      <td>0.02</td>\n",
       "      <td>0.02</td>\n",
       "      <td>0.02</td>\n",
       "      <td>0.01</td>\n",
       "      <td>0.00</td>\n",
       "      <td>0.01</td>\n",
       "      <td>0.03</td>\n",
       "      <td>0.01</td>\n",
       "      <td>0.00</td>\n",
       "    </tr>\n",
       "    <tr>\n",
       "      <th>2018.11</th>\n",
       "      <td>65.31</td>\n",
       "      <td>26.29</td>\n",
       "      <td>3.06</td>\n",
       "      <td>2.09</td>\n",
       "      <td>1.16</td>\n",
       "      <td>1.10</td>\n",
       "      <td>0.55</td>\n",
       "      <td>0.26</td>\n",
       "      <td>0.00</td>\n",
       "      <td>0.02</td>\n",
       "      <td>...</td>\n",
       "      <td>0.02</td>\n",
       "      <td>0.02</td>\n",
       "      <td>0.02</td>\n",
       "      <td>0.02</td>\n",
       "      <td>0.01</td>\n",
       "      <td>0.01</td>\n",
       "      <td>0.00</td>\n",
       "      <td>0.02</td>\n",
       "      <td>0.01</td>\n",
       "      <td>0.00</td>\n",
       "    </tr>\n",
       "    <tr>\n",
       "      <th>2018.12</th>\n",
       "      <td>68.34</td>\n",
       "      <td>22.31</td>\n",
       "      <td>2.99</td>\n",
       "      <td>2.02</td>\n",
       "      <td>1.11</td>\n",
       "      <td>2.04</td>\n",
       "      <td>0.63</td>\n",
       "      <td>0.25</td>\n",
       "      <td>0.00</td>\n",
       "      <td>0.03</td>\n",
       "      <td>...</td>\n",
       "      <td>0.04</td>\n",
       "      <td>0.01</td>\n",
       "      <td>0.02</td>\n",
       "      <td>0.02</td>\n",
       "      <td>0.03</td>\n",
       "      <td>0.01</td>\n",
       "      <td>0.04</td>\n",
       "      <td>0.02</td>\n",
       "      <td>0.00</td>\n",
       "      <td>0.00</td>\n",
       "    </tr>\n",
       "    <tr>\n",
       "      <th>2019.01</th>\n",
       "      <td>70.46</td>\n",
       "      <td>21.05</td>\n",
       "      <td>2.99</td>\n",
       "      <td>2.07</td>\n",
       "      <td>1.14</td>\n",
       "      <td>1.15</td>\n",
       "      <td>0.67</td>\n",
       "      <td>0.24</td>\n",
       "      <td>0.00</td>\n",
       "      <td>0.02</td>\n",
       "      <td>...</td>\n",
       "      <td>0.02</td>\n",
       "      <td>0.02</td>\n",
       "      <td>0.04</td>\n",
       "      <td>0.03</td>\n",
       "      <td>0.01</td>\n",
       "      <td>0.00</td>\n",
       "      <td>0.03</td>\n",
       "      <td>0.01</td>\n",
       "      <td>0.00</td>\n",
       "      <td>0.00</td>\n",
       "    </tr>\n",
       "    <tr>\n",
       "      <th>2019.02</th>\n",
       "      <td>70.63</td>\n",
       "      <td>20.71</td>\n",
       "      <td>2.68</td>\n",
       "      <td>2.53</td>\n",
       "      <td>1.22</td>\n",
       "      <td>1.21</td>\n",
       "      <td>0.62</td>\n",
       "      <td>0.22</td>\n",
       "      <td>0.00</td>\n",
       "      <td>0.02</td>\n",
       "      <td>...</td>\n",
       "      <td>0.02</td>\n",
       "      <td>0.02</td>\n",
       "      <td>0.02</td>\n",
       "      <td>0.02</td>\n",
       "      <td>0.00</td>\n",
       "      <td>0.00</td>\n",
       "      <td>0.03</td>\n",
       "      <td>0.01</td>\n",
       "      <td>0.00</td>\n",
       "      <td>0.01</td>\n",
       "    </tr>\n",
       "    <tr>\n",
       "      <th>2019.03</th>\n",
       "      <td>63.35</td>\n",
       "      <td>25.42</td>\n",
       "      <td>3.81</td>\n",
       "      <td>3.16</td>\n",
       "      <td>1.65</td>\n",
       "      <td>1.49</td>\n",
       "      <td>0.63</td>\n",
       "      <td>0.25</td>\n",
       "      <td>0.00</td>\n",
       "      <td>0.02</td>\n",
       "      <td>...</td>\n",
       "      <td>0.05</td>\n",
       "      <td>0.01</td>\n",
       "      <td>0.02</td>\n",
       "      <td>0.03</td>\n",
       "      <td>0.02</td>\n",
       "      <td>0.00</td>\n",
       "      <td>0.01</td>\n",
       "      <td>0.03</td>\n",
       "      <td>0.00</td>\n",
       "      <td>0.02</td>\n",
       "    </tr>\n",
       "    <tr>\n",
       "      <th>2019.04</th>\n",
       "      <td>63.63</td>\n",
       "      <td>24.65</td>\n",
       "      <td>4.08</td>\n",
       "      <td>3.11</td>\n",
       "      <td>1.64</td>\n",
       "      <td>1.61</td>\n",
       "      <td>0.55</td>\n",
       "      <td>0.22</td>\n",
       "      <td>0.00</td>\n",
       "      <td>0.02</td>\n",
       "      <td>...</td>\n",
       "      <td>0.05</td>\n",
       "      <td>0.01</td>\n",
       "      <td>0.01</td>\n",
       "      <td>0.03</td>\n",
       "      <td>0.01</td>\n",
       "      <td>0.00</td>\n",
       "      <td>0.01</td>\n",
       "      <td>0.03</td>\n",
       "      <td>0.00</td>\n",
       "      <td>0.32</td>\n",
       "    </tr>\n",
       "    <tr>\n",
       "      <th>2019.05</th>\n",
       "      <td>63.42</td>\n",
       "      <td>24.03</td>\n",
       "      <td>4.51</td>\n",
       "      <td>2.75</td>\n",
       "      <td>1.60</td>\n",
       "      <td>1.90</td>\n",
       "      <td>0.59</td>\n",
       "      <td>0.21</td>\n",
       "      <td>0.00</td>\n",
       "      <td>0.02</td>\n",
       "      <td>...</td>\n",
       "      <td>0.04</td>\n",
       "      <td>0.01</td>\n",
       "      <td>0.02</td>\n",
       "      <td>0.03</td>\n",
       "      <td>0.01</td>\n",
       "      <td>0.00</td>\n",
       "      <td>0.02</td>\n",
       "      <td>0.03</td>\n",
       "      <td>0.00</td>\n",
       "      <td>0.77</td>\n",
       "    </tr>\n",
       "    <tr>\n",
       "      <th>2019.06</th>\n",
       "      <td>65.71</td>\n",
       "      <td>21.46</td>\n",
       "      <td>4.11</td>\n",
       "      <td>2.77</td>\n",
       "      <td>1.67</td>\n",
       "      <td>2.03</td>\n",
       "      <td>0.56</td>\n",
       "      <td>0.20</td>\n",
       "      <td>0.00</td>\n",
       "      <td>0.01</td>\n",
       "      <td>...</td>\n",
       "      <td>0.04</td>\n",
       "      <td>0.02</td>\n",
       "      <td>0.02</td>\n",
       "      <td>0.03</td>\n",
       "      <td>0.01</td>\n",
       "      <td>0.00</td>\n",
       "      <td>0.02</td>\n",
       "      <td>0.03</td>\n",
       "      <td>0.00</td>\n",
       "      <td>1.28</td>\n",
       "    </tr>\n",
       "    <tr>\n",
       "      <th>2019.07</th>\n",
       "      <td>67.93</td>\n",
       "      <td>19.04</td>\n",
       "      <td>4.04</td>\n",
       "      <td>2.71</td>\n",
       "      <td>1.86</td>\n",
       "      <td>1.74</td>\n",
       "      <td>0.68</td>\n",
       "      <td>0.19</td>\n",
       "      <td>0.00</td>\n",
       "      <td>0.02</td>\n",
       "      <td>...</td>\n",
       "      <td>0.05</td>\n",
       "      <td>0.02</td>\n",
       "      <td>0.02</td>\n",
       "      <td>0.03</td>\n",
       "      <td>0.02</td>\n",
       "      <td>0.00</td>\n",
       "      <td>0.02</td>\n",
       "      <td>0.03</td>\n",
       "      <td>0.00</td>\n",
       "      <td>1.56</td>\n",
       "    </tr>\n",
       "  </tbody>\n",
       "</table>\n",
       "<p>12 rows × 21 columns</p>\n",
       "</div>"
      ],
      "text/plain": [
       "         Chrome     IE  Edge  Safari  Whale Browser  Firefox  Opera  Swing  \\\n",
       "date                                                                         \n",
       "2018.08   59.12  31.06  2.97    2.52           1.36     1.26   0.88   0.39   \n",
       "2018.09   61.95  27.84  3.16    2.19           1.27     2.57   0.40   0.37   \n",
       "2018.10   62.05  28.36  3.35    2.43           1.28     1.36   0.59   0.35   \n",
       "2018.11   65.31  26.29  3.06    2.09           1.16     1.10   0.55   0.26   \n",
       "2018.12   68.34  22.31  2.99    2.02           1.11     2.04   0.63   0.25   \n",
       "2019.01   70.46  21.05  2.99    2.07           1.14     1.15   0.67   0.24   \n",
       "2019.02   70.63  20.71  2.68    2.53           1.22     1.21   0.62   0.22   \n",
       "2019.03   63.35  25.42  3.81    3.16           1.65     1.49   0.63   0.25   \n",
       "2019.04   63.63  24.65  4.08    3.11           1.64     1.61   0.55   0.22   \n",
       "2019.05   63.42  24.03  4.51    2.75           1.60     1.90   0.59   0.21   \n",
       "2019.06   65.71  21.46  4.11    2.77           1.67     2.03   0.56   0.20   \n",
       "2019.07   67.93  19.04  4.04    2.71           1.86     1.74   0.68   0.19   \n",
       "\n",
       "         Phantom  UC Browser  ...  QQ Browser  Vivaldi  360 Safe Browser  \\\n",
       "date                          ...                                          \n",
       "2018.08     0.25        0.03  ...        0.02     0.02              0.02   \n",
       "2018.09     0.00        0.03  ...        0.03     0.02              0.06   \n",
       "2018.10     0.00        0.03  ...        0.02     0.02              0.02   \n",
       "2018.11     0.00        0.02  ...        0.02     0.02              0.02   \n",
       "2018.12     0.00        0.03  ...        0.04     0.01              0.02   \n",
       "2019.01     0.00        0.02  ...        0.02     0.02              0.04   \n",
       "2019.02     0.00        0.02  ...        0.02     0.02              0.02   \n",
       "2019.03     0.00        0.02  ...        0.05     0.01              0.02   \n",
       "2019.04     0.00        0.02  ...        0.05     0.01              0.01   \n",
       "2019.05     0.00        0.02  ...        0.04     0.01              0.02   \n",
       "2019.06     0.00        0.01  ...        0.04     0.02              0.02   \n",
       "2019.07     0.00        0.02  ...        0.05     0.02              0.02   \n",
       "\n",
       "         Maxthon  Coc Coc  Puffin  Yandex Browser  Sogou Explorer  Mozilla  \\\n",
       "date                                                                         \n",
       "2018.08     0.02     0.00    0.00            0.01            0.01     0.00   \n",
       "2018.09     0.02     0.00    0.00            0.02            0.03     0.00   \n",
       "2018.10     0.02     0.01    0.00            0.01            0.03     0.01   \n",
       "2018.11     0.02     0.01    0.01            0.00            0.02     0.01   \n",
       "2018.12     0.02     0.03    0.01            0.04            0.02     0.00   \n",
       "2019.01     0.03     0.01    0.00            0.03            0.01     0.00   \n",
       "2019.02     0.02     0.00    0.00            0.03            0.01     0.00   \n",
       "2019.03     0.03     0.02    0.00            0.01            0.03     0.00   \n",
       "2019.04     0.03     0.01    0.00            0.01            0.03     0.00   \n",
       "2019.05     0.03     0.01    0.00            0.02            0.03     0.00   \n",
       "2019.06     0.03     0.01    0.00            0.02            0.03     0.00   \n",
       "2019.07     0.03     0.02    0.00            0.02            0.03     0.00   \n",
       "\n",
       "         Whale  \n",
       "date            \n",
       "2018.08   0.00  \n",
       "2018.09   0.00  \n",
       "2018.10   0.00  \n",
       "2018.11   0.00  \n",
       "2018.12   0.00  \n",
       "2019.01   0.00  \n",
       "2019.02   0.01  \n",
       "2019.03   0.02  \n",
       "2019.04   0.32  \n",
       "2019.05   0.77  \n",
       "2019.06   1.28  \n",
       "2019.07   1.56  \n",
       "\n",
       "[12 rows x 21 columns]"
      ]
     },
     "execution_count": 3,
     "metadata": {},
     "output_type": "execute_result"
    }
   ],
   "source": [
    "df = pd.read_excel('data/webbrowser_share.xls',\n",
    "                   index_col=0,\n",
    "                   converters={'date':np.str})\n",
    "\n",
    "df"
   ]
  },
  {
   "cell_type": "code",
   "execution_count": 5,
   "metadata": {},
   "outputs": [
    {
     "data": {
      "image/png": "[encoded data removed]",
      "text/plain": [
       "<Figure size 432x288 with 1 Axes>"
      ]
     },
     "metadata": {
      "needs_background": "light"
     },
     "output_type": "display_data"
    }
   ],
   "source": [
    "# chrome browser 의 점유율의 변화 - 선그래프\n",
    "plt.plot(df.index, df['Chrome'])\n",
    "plt.ylim(0,100)\n",
    "plt.show()"
   ]
  },
  {
   "cell_type": "code",
   "execution_count": 6,
   "metadata": {},
   "outputs": [
    {
     "data": {
      "image/png": "[encoded data removed]",
      "text/plain": [
       "<Figure size 1080x360 with 1 Axes>"
      ]
     },
     "metadata": {
      "needs_background": "light"
     },
     "output_type": "display_data"
    }
   ],
   "source": [
    "# index: 연,월, value : 점유율값\n",
    "plt.figure(figsize=(15,5))\n",
    "df['Chrome'].plot()\n",
    "plt.ylim(0,100)\n",
    "plt.show()"
   ]
  },
  {
   "cell_type": "code",
   "execution_count": 8,
   "metadata": {},
   "outputs": [
    {
     "data": {
      "image/png": "[encoded data removed]",
      "text/plain": [
       "<Figure size 720x360 with 1 Axes>"
      ]
     },
     "metadata": {
      "needs_background": "light"
     },
     "output_type": "display_data"
    }
   ],
   "source": [
    "plt.figure(figsize=(10,5))\n",
    "df['Chrome'].plot.line()\n",
    "plt.show()"
   ]
  },
  {
   "cell_type": "code",
   "execution_count": null,
   "metadata": {},
   "outputs": [],
   "source": [
    "df"
   ]
  },
  {
   "cell_type": "code",
   "execution_count": null,
   "metadata": {},
   "outputs": [],
   "source": []
  },
  {
   "cell_type": "markdown",
   "metadata": {},
   "source": [
    "## plot() \n",
    "- kind 매개변수에 지정한 값에 따라 다양한 그래프를 그릴 수 있다.\n",
    "- kind : 그래프 종류 지정\n",
    "    - 'line' : line plot (default)\n",
    "    - 'bar' : vertical bar plot\n",
    "    - 'barh' : horizontal bar plot\n",
    "    - 'hist' : histogram\n",
    "    - 'box' : boxplot\n",
    "    - 'kde' : Kernel Density Estimation plot\n",
    "    - 'pie' : pie plot\n",
    "    - 'scatter' : scatter plot"
   ]
  },
  {
   "cell_type": "markdown",
   "metadata": {},
   "source": [
    "- pd.data_range()\n",
    "    - 일정 간격으로 증/감하는 특정 범위의 날짜를 가지는 index(DatetimeIndex)를 생성\n",
    "        - 시계열 데이터의 행index를 날짜시간으로 만들때 사용.\n",
    "    "
   ]
  },
  {
   "cell_type": "code",
   "execution_count": 9,
   "metadata": {},
   "outputs": [],
   "source": [
    "import pandas as pd\n",
    "import numpy as np"
   ]
  },
  {
   "cell_type": "code",
   "execution_count": 10,
   "metadata": {},
   "outputs": [
    {
     "data": {
      "text/plain": [
       "DatetimeIndex(['2022-06-01', '2022-06-02', '2022-06-03', '2022-06-04',\n",
       "               '2022-06-05', '2022-06-06', '2022-06-07', '2022-06-08',\n",
       "               '2022-06-09', '2022-06-10'],\n",
       "              dtype='datetime64[ns]', freq='D')"
      ]
     },
     "execution_count": 10,
     "metadata": {},
     "output_type": "execute_result"
    }
   ],
   "source": [
    "#(시작날짜, 종료날짜)\n",
    "pd.date_range('2022-06-01','2022-06-10')"
   ]
  },
  {
   "cell_type": "code",
   "execution_count": 14,
   "metadata": {},
   "outputs": [
    {
     "data": {
      "text/plain": [
       "DatetimeIndex(['2022-01-01', '2022-02-01', '2022-03-01', '2022-04-01',\n",
       "               '2022-05-01'],\n",
       "              dtype='datetime64[ns]', freq='MS')"
      ]
     },
     "execution_count": 14,
     "metadata": {},
     "output_type": "execute_result"
    }
   ],
   "source": [
    "#(시작날짜, freq='증감간격기준')\n",
    "#freq: Y - 년도, M - 월별, D(기본) - 날짜 (해당 기준의 마지막일시)\n",
    "# 뒤에 S(해당 기준의 시작일시) - YS,MS,DS\n",
    "pd.date_range('2022-01-01', freq='MS', periods=5)"
   ]
  },
  {
   "cell_type": "code",
   "execution_count": 17,
   "metadata": {},
   "outputs": [
    {
     "data": {
      "text/plain": [
       "DatetimeIndex(['2022-01-01', '2025-01-01', '2028-01-01', '2031-01-01',\n",
       "               '2034-01-01'],\n",
       "              dtype='datetime64[ns]', freq='3AS-JAN')"
      ]
     },
     "execution_count": 17,
     "metadata": {},
     "output_type": "execute_result"
    }
   ],
   "source": [
    "# freq 문자열 앞에 숫자붙이면 그 숫자 배수의 기간만큼 증감\n",
    "# pd.date_range('2022-01-01', freq = '5MS',periods=5)\n",
    "pd.date_range('2022-01-01', freq = '3YS',periods=5)"
   ]
  },
  {
   "cell_type": "code",
   "execution_count": 19,
   "metadata": {},
   "outputs": [
    {
     "name": "stdout",
     "output_type": "stream",
     "text": [
      "(10, 3)\n"
     ]
    }
   ],
   "source": [
    "# 평균: 5, 표준편차: 3 인 정규분포를 따르는 난수 생성\n",
    "# size: (10,3) shape\n",
    "\n",
    "value = np.random.normal(5,3, size = (10,3))\n",
    "print(value.shape)\n",
    "index = pd.date_range('2022-06-01',freq = 'D', periods = 10)\n",
    "#index\n",
    "df = pd.DataFrame(value,index=index, columns = ['No1','No2','No3'])"
   ]
  },
  {
   "cell_type": "code",
   "execution_count": 20,
   "metadata": {},
   "outputs": [
    {
     "data": {
      "text/html": [
       "<div>\n",
       "<style scoped>\n",
       "    .dataframe tbody tr th:only-of-type {\n",
       "        vertical-align: middle;\n",
       "    }\n",
       "\n",
       "    .dataframe tbody tr th {\n",
       "        vertical-align: top;\n",
       "    }\n",
       "\n",
       "    .dataframe thead th {\n",
       "        text-align: right;\n",
       "    }\n",
       "</style>\n",
       "<table border=\"1\" class=\"dataframe\">\n",
       "  <thead>\n",
       "    <tr style=\"text-align: right;\">\n",
       "      <th></th>\n",
       "      <th>No1</th>\n",
       "      <th>No2</th>\n",
       "      <th>No3</th>\n",
       "    </tr>\n",
       "  </thead>\n",
       "  <tbody>\n",
       "    <tr>\n",
       "      <th>2022-06-01</th>\n",
       "      <td>0.855777</td>\n",
       "      <td>1.248236</td>\n",
       "      <td>6.440297</td>\n",
       "    </tr>\n",
       "    <tr>\n",
       "      <th>2022-06-02</th>\n",
       "      <td>5.180053</td>\n",
       "      <td>3.157049</td>\n",
       "      <td>7.940684</td>\n",
       "    </tr>\n",
       "    <tr>\n",
       "      <th>2022-06-03</th>\n",
       "      <td>6.157771</td>\n",
       "      <td>5.070599</td>\n",
       "      <td>5.508357</td>\n",
       "    </tr>\n",
       "    <tr>\n",
       "      <th>2022-06-04</th>\n",
       "      <td>6.085295</td>\n",
       "      <td>5.358450</td>\n",
       "      <td>8.236375</td>\n",
       "    </tr>\n",
       "    <tr>\n",
       "      <th>2022-06-05</th>\n",
       "      <td>10.670088</td>\n",
       "      <td>6.468623</td>\n",
       "      <td>10.199290</td>\n",
       "    </tr>\n",
       "    <tr>\n",
       "      <th>2022-06-06</th>\n",
       "      <td>4.668414</td>\n",
       "      <td>7.279763</td>\n",
       "      <td>3.288960</td>\n",
       "    </tr>\n",
       "    <tr>\n",
       "      <th>2022-06-07</th>\n",
       "      <td>4.791439</td>\n",
       "      <td>5.205428</td>\n",
       "      <td>5.173787</td>\n",
       "    </tr>\n",
       "    <tr>\n",
       "      <th>2022-06-08</th>\n",
       "      <td>6.404280</td>\n",
       "      <td>4.015498</td>\n",
       "      <td>2.982102</td>\n",
       "    </tr>\n",
       "    <tr>\n",
       "      <th>2022-06-09</th>\n",
       "      <td>7.231993</td>\n",
       "      <td>-0.321907</td>\n",
       "      <td>4.485744</td>\n",
       "    </tr>\n",
       "    <tr>\n",
       "      <th>2022-06-10</th>\n",
       "      <td>2.992060</td>\n",
       "      <td>3.717013</td>\n",
       "      <td>0.804876</td>\n",
       "    </tr>\n",
       "  </tbody>\n",
       "</table>\n",
       "</div>"
      ],
      "text/plain": [
       "                  No1       No2        No3\n",
       "2022-06-01   0.855777  1.248236   6.440297\n",
       "2022-06-02   5.180053  3.157049   7.940684\n",
       "2022-06-03   6.157771  5.070599   5.508357\n",
       "2022-06-04   6.085295  5.358450   8.236375\n",
       "2022-06-05  10.670088  6.468623  10.199290\n",
       "2022-06-06   4.668414  7.279763   3.288960\n",
       "2022-06-07   4.791439  5.205428   5.173787\n",
       "2022-06-08   6.404280  4.015498   2.982102\n",
       "2022-06-09   7.231993 -0.321907   4.485744\n",
       "2022-06-10   2.992060  3.717013   0.804876"
      ]
     },
     "execution_count": 20,
     "metadata": {},
     "output_type": "execute_result"
    }
   ],
   "source": [
    "#index 명이 연속된 일시(DatetimeIndex)의 DataFrame => 시계열 데이터. (일시 변화에 따른 어떤값의 변화를 가지는 데이터셋)\n",
    "df"
   ]
  },
  {
   "cell_type": "code",
   "execution_count": 21,
   "metadata": {},
   "outputs": [],
   "source": [
    "import matplotlib.pyplot as plt"
   ]
  },
  {
   "cell_type": "code",
   "execution_count": 25,
   "metadata": {},
   "outputs": [
    {
     "data": {
      "image/png": "[encoded data removed]",
      "text/plain": [
       "<Figure size 1080x360 with 1 Axes>"
      ]
     },
     "metadata": {
      "needs_background": "light"
     },
     "output_type": "display_data"
    }
   ],
   "source": [
    "# series/dataframe.plot() : 선그래프\n",
    "# X: index명, y:값\n",
    "df[['No1','No2']].plot(figsize=(15,5))\n",
    "plt.show()"
   ]
  },
  {
   "cell_type": "code",
   "execution_count": 28,
   "metadata": {},
   "outputs": [
    {
     "data": {
      "image/png": "[encoded data removed]",
      "text/plain": [
       "<Figure size 432x288 with 1 Axes>"
      ]
     },
     "metadata": {
      "needs_background": "light"
     },
     "output_type": "display_data"
    }
   ],
   "source": [
    "df.reset_index(drop=True).plot() #x축: index명\n",
    "plt.legend(loc='upper left', bbox_to_anchor = (1,1))\n",
    "plt.show()"
   ]
  },
  {
   "cell_type": "markdown",
   "metadata": {},
   "source": [
    "matplotlib를 이용해 여러 설정들 가능"
   ]
  },
  {
   "cell_type": "code",
   "execution_count": null,
   "metadata": {},
   "outputs": [],
   "source": []
  },
  {
   "cell_type": "markdown",
   "metadata": {},
   "source": [
    "## 막대 그래프\n",
    "- index가 무슨 값인지를 가리키는 축으로 사용된다."
   ]
  },
  {
   "cell_type": "code",
   "execution_count": 29,
   "metadata": {},
   "outputs": [
    {
     "data": {
      "text/html": [
       "<div>\n",
       "<style scoped>\n",
       "    .dataframe tbody tr th:only-of-type {\n",
       "        vertical-align: middle;\n",
       "    }\n",
       "\n",
       "    .dataframe tbody tr th {\n",
       "        vertical-align: top;\n",
       "    }\n",
       "\n",
       "    .dataframe thead th {\n",
       "        text-align: right;\n",
       "    }\n",
       "</style>\n",
       "<table border=\"1\" class=\"dataframe\">\n",
       "  <thead>\n",
       "    <tr style=\"text-align: right;\">\n",
       "      <th></th>\n",
       "      <th>total_bill</th>\n",
       "      <th>tip</th>\n",
       "      <th>sex</th>\n",
       "      <th>smoker</th>\n",
       "      <th>day</th>\n",
       "      <th>time</th>\n",
       "      <th>size</th>\n",
       "    </tr>\n",
       "  </thead>\n",
       "  <tbody>\n",
       "    <tr>\n",
       "      <th>0</th>\n",
       "      <td>16.99</td>\n",
       "      <td>1.01</td>\n",
       "      <td>Female</td>\n",
       "      <td>No</td>\n",
       "      <td>Sun</td>\n",
       "      <td>Dinner</td>\n",
       "      <td>2</td>\n",
       "    </tr>\n",
       "    <tr>\n",
       "      <th>1</th>\n",
       "      <td>10.34</td>\n",
       "      <td>1.66</td>\n",
       "      <td>Male</td>\n",
       "      <td>No</td>\n",
       "      <td>Sun</td>\n",
       "      <td>Dinner</td>\n",
       "      <td>3</td>\n",
       "    </tr>\n",
       "    <tr>\n",
       "      <th>2</th>\n",
       "      <td>21.01</td>\n",
       "      <td>3.50</td>\n",
       "      <td>Male</td>\n",
       "      <td>No</td>\n",
       "      <td>Sun</td>\n",
       "      <td>Dinner</td>\n",
       "      <td>3</td>\n",
       "    </tr>\n",
       "    <tr>\n",
       "      <th>3</th>\n",
       "      <td>23.68</td>\n",
       "      <td>3.31</td>\n",
       "      <td>Male</td>\n",
       "      <td>No</td>\n",
       "      <td>Sun</td>\n",
       "      <td>Dinner</td>\n",
       "      <td>2</td>\n",
       "    </tr>\n",
       "    <tr>\n",
       "      <th>4</th>\n",
       "      <td>24.59</td>\n",
       "      <td>3.61</td>\n",
       "      <td>Female</td>\n",
       "      <td>No</td>\n",
       "      <td>Sun</td>\n",
       "      <td>Dinner</td>\n",
       "      <td>4</td>\n",
       "    </tr>\n",
       "  </tbody>\n",
       "</table>\n",
       "</div>"
      ],
      "text/plain": [
       "   total_bill   tip     sex smoker  day    time  size\n",
       "0       16.99  1.01  Female     No  Sun  Dinner     2\n",
       "1       10.34  1.66    Male     No  Sun  Dinner     3\n",
       "2       21.01  3.50    Male     No  Sun  Dinner     3\n",
       "3       23.68  3.31    Male     No  Sun  Dinner     2\n",
       "4       24.59  3.61  Female     No  Sun  Dinner     4"
      ]
     },
     "execution_count": 29,
     "metadata": {},
     "output_type": "execute_result"
    }
   ],
   "source": [
    "tips = pd.read_csv('data/tips.csv')\n",
    "tips.head()"
   ]
  },
  {
   "cell_type": "code",
   "execution_count": 30,
   "metadata": {},
   "outputs": [
    {
     "data": {
      "text/plain": [
       "Male      157\n",
       "Female     87\n",
       "Name: sex, dtype: int64"
      ]
     },
     "execution_count": 30,
     "metadata": {},
     "output_type": "execute_result"
    }
   ],
   "source": [
    "#성별 수량\n",
    "tips['sex'].value_counts()"
   ]
  },
  {
   "cell_type": "code",
   "execution_count": 32,
   "metadata": {},
   "outputs": [
    {
     "data": {
      "image/png": "[encoded data removed]",
      "text/plain": [
       "<Figure size 432x288 with 1 Axes>"
      ]
     },
     "metadata": {
      "needs_background": "light"
     },
     "output_type": "display_data"
    }
   ],
   "source": [
    "tips['sex'].value_counts().plot(kind='bar')\n",
    "plt.show()"
   ]
  },
  {
   "cell_type": "code",
   "execution_count": 34,
   "metadata": {},
   "outputs": [
    {
     "data": {
      "image/png": "[encoded data removed]",
      "text/plain": [
       "<Figure size 432x288 with 1 Axes>"
      ]
     },
     "metadata": {
      "needs_background": "light"
     },
     "output_type": "display_data"
    }
   ],
   "source": [
    "tips['sex'].value_counts().plot.bar()\n",
    "plt.show()"
   ]
  },
  {
   "cell_type": "code",
   "execution_count": 36,
   "metadata": {},
   "outputs": [
    {
     "data": {
      "image/png": "[encoded data removed]",
      "text/plain": [
       "<Figure size 432x288 with 1 Axes>"
      ]
     },
     "metadata": {
      "needs_background": "light"
     },
     "output_type": "display_data"
    }
   ],
   "source": [
    "# 요일의 개수를 수평막대그래프\n",
    "tips['day'].value_counts().sort_values().plot(kind='barh')\n",
    "plt.show()"
   ]
  },
  {
   "cell_type": "markdown",
   "metadata": {
    "ExecuteTime": {
     "end_time": "2019-11-23T13:43:47.071759Z",
     "start_time": "2019-11-23T13:43:47.068762Z"
    }
   },
   "source": [
    "- 두개의 분류 별로 그리기\n",
    "    - 여러개의 컬럼일 경우 수평 누적 막대그래프를 그린다.\n"
   ]
  },
  {
   "cell_type": "code",
   "execution_count": 38,
   "metadata": {},
   "outputs": [
    {
     "data": {
      "text/html": [
       "<div>\n",
       "<style scoped>\n",
       "    .dataframe tbody tr th:only-of-type {\n",
       "        vertical-align: middle;\n",
       "    }\n",
       "\n",
       "    .dataframe tbody tr th {\n",
       "        vertical-align: top;\n",
       "    }\n",
       "\n",
       "    .dataframe thead th {\n",
       "        text-align: right;\n",
       "    }\n",
       "</style>\n",
       "<table border=\"1\" class=\"dataframe\">\n",
       "  <thead>\n",
       "    <tr style=\"text-align: right;\">\n",
       "      <th>sex</th>\n",
       "      <th>Female</th>\n",
       "      <th>Male</th>\n",
       "    </tr>\n",
       "    <tr>\n",
       "      <th>day</th>\n",
       "      <th></th>\n",
       "      <th></th>\n",
       "    </tr>\n",
       "  </thead>\n",
       "  <tbody>\n",
       "    <tr>\n",
       "      <th>Fri</th>\n",
       "      <td>19</td>\n",
       "      <td>21</td>\n",
       "    </tr>\n",
       "    <tr>\n",
       "      <th>Sat</th>\n",
       "      <td>63</td>\n",
       "      <td>156</td>\n",
       "    </tr>\n",
       "    <tr>\n",
       "      <th>Sun</th>\n",
       "      <td>53</td>\n",
       "      <td>163</td>\n",
       "    </tr>\n",
       "    <tr>\n",
       "      <th>Thur</th>\n",
       "      <td>79</td>\n",
       "      <td>73</td>\n",
       "    </tr>\n",
       "  </tbody>\n",
       "</table>\n",
       "</div>"
      ],
      "text/plain": [
       "sex   Female  Male\n",
       "day               \n",
       "Fri       19    21\n",
       "Sat       63   156\n",
       "Sun       53   163\n",
       "Thur      79    73"
      ]
     },
     "execution_count": 38,
     "metadata": {},
     "output_type": "execute_result"
    }
   ],
   "source": [
    "#요일, 성별 인원수 합계 막대그래프 -> pivot_table로 정렬후에 막대그래프로 그리기\n",
    "result_df = tips.pivot_table(index='day', columns='sex', values='size', aggfunc='sum')\n",
    "result_df"
   ]
  },
  {
   "cell_type": "code",
   "execution_count": 39,
   "metadata": {},
   "outputs": [
    {
     "data": {
      "image/png": "[encoded data removed]",
      "text/plain": [
       "<Figure size 432x288 with 1 Axes>"
      ]
     },
     "metadata": {
      "needs_background": "light"
     },
     "output_type": "display_data"
    }
   ],
   "source": [
    "result_df.plot.bar()\n",
    "plt.show()"
   ]
  },
  {
   "cell_type": "code",
   "execution_count": 40,
   "metadata": {},
   "outputs": [
    {
     "data": {
      "image/png": "[encoded data removed]",
      "text/plain": [
       "<Figure size 432x288 with 1 Axes>"
      ]
     },
     "metadata": {
      "needs_background": "light"
     },
     "output_type": "display_data"
    }
   ],
   "source": [
    "df.mean().plot(kind='bar')\n",
    "plt.title('컬렴 평균')\n",
    "plt.show()"
   ]
  },
  {
   "cell_type": "code",
   "execution_count": 42,
   "metadata": {},
   "outputs": [
    {
     "data": {
      "image/png": "[encoded data removed]",
      "text/plain": [
       "<Figure size 504x432 with 1 Axes>"
      ]
     },
     "metadata": {
      "needs_background": "light"
     },
     "output_type": "display_data"
    }
   ],
   "source": [
    "#요일별, 흡연여부의 팁의 평균\n",
    "tips.pivot_table(index = 'day',columns = 'smoker', values='tip', aggfunc='mean').plot(kind ='bar', figsize=(7,6))\n",
    "plt.show()"
   ]
  },
  {
   "cell_type": "code",
   "execution_count": 45,
   "metadata": {},
   "outputs": [
    {
     "data": {
      "image/png": "[encoded data removed]",
      "text/plain": [
       "<Figure size 504x432 with 1 Axes>"
      ]
     },
     "metadata": {
      "needs_background": "light"
     },
     "output_type": "display_data"
    }
   ],
   "source": [
    "# index: 수량을 셀 groupby컬럼, columns: 막대그래프를 나눠서 볼 groupby 컬럼\n",
    "tips.pivot_table(index = 'day',columns = 'smoker', values='tip', aggfunc='mean').plot(kind ='barh', figsize=(7,6), rot=40)# 40도\n",
    "plt.show()"
   ]
  },
  {
   "cell_type": "code",
   "execution_count": 46,
   "metadata": {},
   "outputs": [
    {
     "data": {
      "image/png": "[encoded data removed]",
      "text/plain": [
       "<Figure size 504x432 with 1 Axes>"
      ]
     },
     "metadata": {
      "needs_background": "light"
     },
     "output_type": "display_data"
    }
   ],
   "source": [
    "tips.pivot_table(index = 'smoker',columns = 'day', values='tip', aggfunc='mean').plot(kind ='barh', figsize=(7,6), rot=40)# 40도\n",
    "plt.legend(bbox_to_anchor=(1,1), loc = 'upper left')\n",
    "plt.show()"
   ]
  },
  {
   "cell_type": "markdown",
   "metadata": {},
   "source": [
    "## 파이차트"
   ]
  },
  {
   "cell_type": "code",
   "execution_count": 69,
   "metadata": {},
   "outputs": [
    {
     "data": {
      "image/png": "[encoded data removed]",
      "text/plain": [
       "<Figure size 504x504 with 1 Axes>"
      ]
     },
     "metadata": {},
     "output_type": "display_data"
    }
   ],
   "source": [
    "tips['day'].value_counts().plot(kind='pie',figsize=(7,7), autopct = '%.2f%%', shadow = True, title='요일별손님수비율')\n",
    "plt.show()"
   ]
  },
  {
   "cell_type": "code",
   "execution_count": 52,
   "metadata": {},
   "outputs": [
    {
     "data": {
      "image/png": "[encoded data removed]",
      "text/plain": [
       "<Figure size 504x504 with 1 Axes>"
      ]
     },
     "metadata": {},
     "output_type": "display_data"
    }
   ],
   "source": [
    "tips.groupby('time')['total_bill'].mean().plot(kind='pie', figsize=(7,7), autopct='%.2f%%', explode = [0,0.1])\n",
    "plt.title('시간별 음식값 평균 비율')\n",
    "plt.show()"
   ]
  },
  {
   "cell_type": "markdown",
   "metadata": {},
   "source": [
    "## 히스토그램, KDE(밀도그래프)\n",
    "- kde: 히스토그램을 부드러운 곡선형태로 그린 그래프.(커널밀도함수 이용해서 계산한 결과를 그래프로 그린것)"
   ]
  },
  {
   "cell_type": "code",
   "execution_count": 53,
   "metadata": {},
   "outputs": [
    {
     "data": {
      "image/png": "[encoded data removed]",
      "text/plain": [
       "<Figure size 504x504 with 1 Axes>"
      ]
     },
     "metadata": {
      "needs_background": "light"
     },
     "output_type": "display_data"
    }
   ],
   "source": [
    "tips['total_bill'].plot(kind='hist',bins=30,figsize=(7,7))\n",
    "plt.show()"
   ]
  },
  {
   "cell_type": "code",
   "execution_count": 55,
   "metadata": {},
   "outputs": [
    {
     "name": "stdout",
     "output_type": "stream",
     "text": [
      "Collecting scipy\n",
      "  Downloading scipy-1.8.1-cp39-cp39-macosx_12_0_universal2.macosx_10_9_x86_64.whl (55.6 MB)\n",
      "\u001b[K     |████████████████████████████████| 55.6 MB 9.3 MB/s eta 0:00:011\n",
      "\u001b[?25hRequirement already satisfied: numpy<1.25.0,>=1.17.3 in /Users/han-yechan/opt/anaconda3/envs/ml/lib/python3.9/site-packages (from scipy) (1.22.4)\n",
      "Installing collected packages: scipy\n",
      "Successfully installed scipy-1.8.1\n"
     ]
    }
   ],
   "source": [
    "!pip install scipy"
   ]
  },
  {
   "cell_type": "code",
   "execution_count": 57,
   "metadata": {},
   "outputs": [
    {
     "data": {
      "image/png": "[encoded data removed]",
      "text/plain": [
       "<Figure size 432x288 with 1 Axes>"
      ]
     },
     "metadata": {
      "needs_background": "light"
     },
     "output_type": "display_data"
    }
   ],
   "source": [
    "\n",
    "\n",
    "tips['total_bill'].plot(kind='kde')\n",
    "plt.show()"
   ]
  },
  {
   "cell_type": "code",
   "execution_count": null,
   "metadata": {},
   "outputs": [],
   "source": []
  },
  {
   "cell_type": "markdown",
   "metadata": {},
   "source": [
    "## Boxplot (상자그래프)"
   ]
  },
  {
   "cell_type": "markdown",
   "metadata": {},
   "source": [
    "극단치 : 정상범위를 넘어선 값들. 이상치(Outlier-극단치, 오류값) 중에 하나\n",
    "- boxplot에서 극단치를 계산하는 방법.\n",
    "1. IQR(Inter Quantile Range) 계산\n",
    "    - 3분위값 - 1분위값 (중간 50% ~ 25% ~ 75% 의 크기)\n",
    "2. 정상범위 이하의 극단치(극단적으로 작은값) : 1분위값 - IQR *1.5 보다 작은 값들\n",
    "3. 정상범위 이상의 극단치(극단적으로 큰값)  : 3분위값 + IQR *1.5 보다 큰 값들\n",
    "\n",
    "- 1.5: 조절할 수 있는 값 => whis 값\n",
    "- 정상범위를 늘리고 싶을 경우 1.5보다 큰값을 곱하면 된다.\n",
    "- 정상범위를 줄이고 싶을 경우 1.5보다 작은값을 곱하면 된다."
   ]
  },
  {
   "cell_type": "code",
   "execution_count": 60,
   "metadata": {},
   "outputs": [
    {
     "name": "stdout",
     "output_type": "stream",
     "text": [
      "IQR: 10.779999999999998\n",
      "정상범위: -2.8224999999999945 ~40.29749999999999\n"
     ]
    },
    {
     "data": {
      "text/plain": [
       "59     48.27\n",
       "102    44.30\n",
       "142    41.19\n",
       "156    48.17\n",
       "170    50.81\n",
       "182    45.35\n",
       "184    40.55\n",
       "197    43.11\n",
       "212    48.33\n",
       "Name: total_bill, dtype: float64"
      ]
     },
     "execution_count": 60,
     "metadata": {},
     "output_type": "execute_result"
    }
   ],
   "source": [
    "quantile = tips['total_bill'].quantile(q=[0.25,0.5,0.75])\n",
    "IQR = quantile[0.75] - quantile[0.25]\n",
    "print(\"IQR:\",IQR)\n",
    "whis =1.5\n",
    "o1 = quantile[0.25] - IQR * whis\n",
    "o3 = quantile[0.75] + IQR * whis\n",
    "print(f\"정상범위: {o1} ~{o3}\")\n",
    "tips['total_bill'][(tips['total_bill'] < o1) | (tips['total_bill'] > o3)]"
   ]
  },
  {
   "cell_type": "code",
   "execution_count": 65,
   "metadata": {},
   "outputs": [
    {
     "data": {
      "image/png": "[encoded data removed]",
      "text/plain": [
       "<Figure size 1080x360 with 3 Axes>"
      ]
     },
     "metadata": {
      "needs_background": "light"
     },
     "output_type": "display_data"
    }
   ],
   "source": [
    "# whis 변화에 따른 이상치 변화\n",
    "# 하나의 figure에 여러개의 axes를 사용하는 경우\n",
    "fig = plt.figure(figsize = (15,5))\n",
    "ax1 = fig.add_subplot(1,3,1)\n",
    "ax2 = fig.add_subplot(1,3,2)\n",
    "ax3 = fig.add_subplot(1,3,3)\n",
    "\n",
    "\n",
    "tips['total_bill'].plot(kind='box', title='whis=1.5(기본)', ax=ax1) #ax1에 그려라.\n",
    "tips['total_bill'].plot.box(whis=3,title='whis=3',ax=ax2) #1.5 ->3 (늘림) : 정상범위가 넓어진다.\n",
    "tips['total_bill'].plot(kind='box', title='whis=1', ax=ax3) # 1.5 -> 1(줄임) 정상범위가 좁아진다\n",
    "plt.show()"
   ]
  },
  {
   "cell_type": "code",
   "execution_count": 66,
   "metadata": {
    "collapsed": true
   },
   "outputs": [
    {
     "data": {
      "image/png": "[encoded data removed]",
      "text/plain": [
       "<Figure size 432x288 with 1 Axes>"
      ]
     },
     "metadata": {
      "needs_background": "light"
     },
     "output_type": "display_data"
    }
   ],
   "source": [
    "plt.boxplot(tips['total_bill'], whis = 1)\n",
    "plt.show()"
   ]
  },
  {
   "cell_type": "code",
   "execution_count": 68,
   "metadata": {
    "collapsed": true
   },
   "outputs": [
    {
     "data": {
      "image/png": "[encoded data removed]",
      "text/plain": [
       "<Figure size 504x432 with 1 Axes>"
      ]
     },
     "metadata": {
      "needs_background": "light"
     },
     "output_type": "display_data"
    }
   ],
   "source": [
    "#DataFrame.plot(kind='box') # 한 Axes에 컬럼별로 boxplot을 그린다.\n",
    "tips[['total_bill','tip']].plot(kind='box',figsize=(7,6))\n",
    "plt.show()"
   ]
  },
  {
   "cell_type": "markdown",
   "metadata": {},
   "source": [
    "## scatter plot (산점도) "
   ]
  },
  {
   "cell_type": "code",
   "execution_count": 70,
   "metadata": {
    "collapsed": true
   },
   "outputs": [
    {
     "data": {
      "text/plain": [
       "<matplotlib.collections.PathCollection at 0x7fb0821e0f70>"
      ]
     },
     "execution_count": 70,
     "metadata": {},
     "output_type": "execute_result"
    },
    {
     "data": {
      "image/png": "[encoded data removed]",
      "text/plain": [
       "<Figure size 432x288 with 1 Axes>"
      ]
     },
     "metadata": {
      "needs_background": "light"
     },
     "output_type": "display_data"
    }
   ],
   "source": [
    "# total_bill 과 tip간의 상관관계 시각화\n",
    "plt.scatter(tips['total_bill'], tips['tip'])"
   ]
  },
  {
   "cell_type": "code",
   "execution_count": 75,
   "metadata": {},
   "outputs": [
    {
     "data": {
      "image/png": "[encoded data removed]",
      "text/plain": [
       "<Figure size 504x504 with 1 Axes>"
      ]
     },
     "metadata": {
      "needs_background": "light"
     },
     "output_type": "display_data"
    }
   ],
   "source": [
    "tips.plot(kind='scatter',x='total_bill',y='tip',figsize=(7,7))#x의컬럼, y의 컬럼명\n",
    "plt.title('total_bill, tip관계')\n",
    "plt.show()"
   ]
  },
  {
   "cell_type": "code",
   "execution_count": null,
   "metadata": {},
   "outputs": [],
   "source": []
  },
  {
   "cell_type": "code",
   "execution_count": null,
   "metadata": {},
   "outputs": [],
   "source": []
  },
  {
   "cell_type": "code",
   "execution_count": null,
   "metadata": {},
   "outputs": [],
   "source": []
  },
  {
   "cell_type": "code",
   "execution_count": null,
   "metadata": {},
   "outputs": [],
   "source": []
  }
 ],
 "metadata": {
  "kernelspec": {
   "display_name": "Python 3 (ipykernel)",
   "language": "python",
   "name": "python3"
  },
  "language_info": {
   "codemirror_mode": {
    "name": "ipython",
    "version": 3
   },
   "file_extension": ".py",
   "mimetype": "text/x-python",
   "name": "python",
   "nbconvert_exporter": "python",
   "pygments_lexer": "ipython3",
   "version": "3.9.7"
  },
  "toc": {
   "base_numbering": 1,
   "nav_menu": {},
   "number_sections": true,
   "sideBar": true,
   "skip_h1_title": false,
   "title_cell": "Table of Contents",
   "title_sidebar": "Contents",
   "toc_cell": false,
   "toc_position": {},
   "toc_section_display": true,
   "toc_window_display": false
  },
  "varInspector": {
   "cols": {
    "lenName": 16,
    "lenType": 16,
    "lenVar": 40
   },
   "kernels_config": {
    "python": {
     "delete_cmd_postfix": "",
     "delete_cmd_prefix": "del ",
     "library": "var_list.py",
     "varRefreshCmd": "print(var_dic_list())"
    },
    "r": {
     "delete_cmd_postfix": ") ",
     "delete_cmd_prefix": "rm(",
     "library": "var_list.r",
     "varRefreshCmd": "cat(var_dic_list()) "
    }
   },
   "types_to_exclude": [
    "module",
    "function",
    "builtin_function_or_method",
    "instance",
    "_Feature"
   ],
   "window_display": false
  }
 },
 "nbformat": 4,
 "nbformat_minor": 2
}
