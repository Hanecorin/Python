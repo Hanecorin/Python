{
 "cells": [
  {
   "cell_type": "markdown",
   "id": "38f403a2",
   "metadata": {},
   "source": [
    "#### import"
   ]
  },
  {
   "cell_type": "code",
   "execution_count": 1,
   "id": "cc1c5f3e",
   "metadata": {
    "ExecuteTime": {
     "end_time": "2022-03-22T09:37:12.200675Z",
     "start_time": "2022-03-22T09:37:05.936843Z"
    }
   },
   "outputs": [],
   "source": [
    "import numpy as np\n",
    "import tensorflow as tf\n",
    "from tensorflow import keras\n",
    "from tensorflow.keras import layers\n",
    "\n",
    "import matplotlib.pyplot as plt\n",
    "\n",
    "np.random.seed(0)\n",
    "tf.random.set_seed(0)"
   ]
  },
  {
   "cell_type": "markdown",
   "id": "42b12364",
   "metadata": {},
   "source": [
    "#### 학습결과 시각화 함수"
   ]
  },
  {
   "cell_type": "code",
   "execution_count": 2,
   "id": "fab503f6",
   "metadata": {
    "ExecuteTime": {
     "end_time": "2022-03-22T09:39:41.382532Z",
     "start_time": "2022-03-22T09:39:41.366876Z"
    }
   },
   "outputs": [],
   "source": [
    "def plot_loss(epochs, history):\n",
    "    \"\"\"\n",
    "    학습 loss를 시각화 하는 함수\n",
    "    \"\"\"\n",
    "    plt.figure(figsize=(8,7))\n",
    "    plt.plot(range(1, epochs+1), history.history['loss'], label='Train Loss')\n",
    "    plt.plot(range(1, epochs+1), history.history['val_loss'], label='Validation Loss')\n",
    "    plt.title(\"Loss\")\n",
    "    plt.xlabel('Epochs')\n",
    "    plt.ylabel('Loss')\n",
    "    plt.legend()\n",
    "    plt.show()    "
   ]
  },
  {
   "cell_type": "code",
   "execution_count": 3,
   "id": "62e40346",
   "metadata": {
    "ExecuteTime": {
     "end_time": "2022-03-22T09:39:41.948779Z",
     "start_time": "2022-03-22T09:39:41.933156Z"
    }
   },
   "outputs": [],
   "source": [
    "def plot_accuracy(epochs, history):\n",
    "    \"\"\"\n",
    "    학습 Accuracy를 시각화 하는 함수\n",
    "    \"\"\"\n",
    "    plt.figure(figsize=(8,7))\n",
    "    plt.plot(range(1, epochs+1), history.history['accuracy'], label='Train Accuracy')\n",
    "    plt.plot(range(1, epochs+1), history.history['val_accuracy'], \n",
    "                                                 label='Validation Accuracy')\n",
    "    plt.title(\"Accuracy\")\n",
    "    plt.xlabel('Epochs')\n",
    "    plt.ylabel('Accuracy')\n",
    "    plt.legend()\n",
    "    plt.show()  "
   ]
  },
  {
   "cell_type": "markdown",
   "id": "b1e9a352",
   "metadata": {},
   "source": [
    "#### 데이터 로딩"
   ]
  },
  {
   "cell_type": "code",
   "execution_count": 4,
   "id": "d2c7fccd",
   "metadata": {
    "ExecuteTime": {
     "end_time": "2022-03-22T09:39:46.396625Z",
     "start_time": "2022-03-22T09:39:45.332969Z"
    }
   },
   "outputs": [],
   "source": [
    "(train_image, train_label), (test_image, test_label) = keras.datasets.mnist.load_data()"
   ]
  },
  {
   "cell_type": "code",
   "execution_count": 5,
   "id": "43b13e86",
   "metadata": {
    "ExecuteTime": {
     "end_time": "2022-03-22T09:39:47.301251Z",
     "start_time": "2022-03-22T09:39:47.277313Z"
    }
   },
   "outputs": [
    {
     "data": {
      "text/plain": [
       "((60000, 28, 28), (10000, 28, 28))"
      ]
     },
     "execution_count": 5,
     "metadata": {},
     "output_type": "execute_result"
    }
   ],
   "source": [
    "train_image.shape, test_image.shape"
   ]
  },
  {
   "cell_type": "markdown",
   "id": "38ce2e89",
   "metadata": {},
   "source": [
    "#### 하이퍼파라미터 변수 정의"
   ]
  },
  {
   "cell_type": "code",
   "execution_count": 6,
   "id": "a41ffcf5",
   "metadata": {
    "ExecuteTime": {
     "end_time": "2022-03-22T09:39:54.134007Z",
     "start_time": "2022-03-22T09:39:54.119046Z"
    }
   },
   "outputs": [],
   "source": [
    "LEARNING_RATE = 0.001\n",
    "N_EPOCHS = 20\n",
    "N_BATCHS = 100\n",
    "\n",
    "N_TRAIN = train_image.shape[0]\n",
    "N_TEST = test_image.shape[0]"
   ]
  },
  {
   "cell_type": "markdown",
   "id": "c3287797",
   "metadata": {},
   "source": [
    "#### 전처리\n",
    "- image : 0 ~ 1 사이의 값으로 정규화\n",
    "- label : one hot encoding (다중분류문제이므로)"
   ]
  },
  {
   "cell_type": "code",
   "execution_count": 7,
   "id": "53e505cb",
   "metadata": {
    "ExecuteTime": {
     "end_time": "2022-03-22T09:40:13.983247Z",
     "start_time": "2022-03-22T09:40:13.803657Z"
    }
   },
   "outputs": [],
   "source": [
    "X_train = (train_image).astype(\"float32\")/255.0\n",
    "X_test = (test_image).astype('float32')/255.0"
   ]
  },
  {
   "cell_type": "code",
   "execution_count": 8,
   "id": "22a24d90",
   "metadata": {
    "ExecuteTime": {
     "end_time": "2022-03-22T09:40:16.477036Z",
     "start_time": "2022-03-22T09:40:16.463071Z"
    }
   },
   "outputs": [],
   "source": [
    "y_train = keras.utils.to_categorical(train_label)\n",
    "y_test = keras.utils.to_categorical(test_label)"
   ]
  },
  {
   "cell_type": "code",
   "execution_count": 9,
   "id": "2f84d781",
   "metadata": {
    "ExecuteTime": {
     "end_time": "2022-03-22T09:40:20.077097Z",
     "start_time": "2022-03-22T09:40:20.015263Z"
    }
   },
   "outputs": [
    {
     "data": {
      "text/plain": [
       "(0.0, 1.0, 0.0, 1.0)"
      ]
     },
     "execution_count": 9,
     "metadata": {},
     "output_type": "execute_result"
    }
   ],
   "source": [
    "np.min(X_train), np.max(X_train), np.min(X_test), np.max(X_test)"
   ]
  },
  {
   "cell_type": "code",
   "execution_count": 10,
   "id": "caf088f1",
   "metadata": {
    "ExecuteTime": {
     "end_time": "2022-03-22T09:40:31.889613Z",
     "start_time": "2022-03-22T09:40:31.871660Z"
    }
   },
   "outputs": [
    {
     "data": {
      "text/plain": [
       "((60000, 10), (10000, 10))"
      ]
     },
     "execution_count": 10,
     "metadata": {},
     "output_type": "execute_result"
    }
   ],
   "source": [
    "y_train.shape, y_test.shape"
   ]
  },
  {
   "cell_type": "markdown",
   "id": "b0d202b6",
   "metadata": {},
   "source": [
    "#### Dataset 생성"
   ]
  },
  {
   "cell_type": "code",
   "execution_count": 11,
   "id": "03dbad6c",
   "metadata": {
    "ExecuteTime": {
     "end_time": "2022-03-22T09:41:14.044282Z",
     "start_time": "2022-03-22T09:41:14.006380Z"
    }
   },
   "outputs": [
    {
     "name": "stdout",
     "output_type": "stream",
     "text": [
      "Metal device set to: Apple M1\n"
     ]
    },
    {
     "name": "stderr",
     "output_type": "stream",
     "text": [
      "2022-07-14 16:03:40.804127: I tensorflow/core/common_runtime/pluggable_device/pluggable_device_factory.cc:305] Could not identify NUMA node of platform GPU ID 0, defaulting to 0. Your kernel may not have been built with NUMA support.\n",
      "2022-07-14 16:03:40.804391: I tensorflow/core/common_runtime/pluggable_device/pluggable_device_factory.cc:271] Created TensorFlow device (/job:localhost/replica:0/task:0/device:GPU:0 with 0 MB memory) -> physical PluggableDevice (device: 0, name: METAL, pci bus id: <undefined>)\n"
     ]
    }
   ],
   "source": [
    "train_dataset = tf.data.Dataset.from_tensor_slices((X_train, y_train))\\\n",
    "                               .shuffle(N_TRAIN)\\\n",
    "                               .batch(N_BATCHS, drop_remainder=True)\n",
    "\n",
    "test_dataset = tf.data.Dataset.from_tensor_slices((X_test, y_test)).batch(N_BATCHS)"
   ]
  },
  {
   "cell_type": "markdown",
   "id": "2f5572ac",
   "metadata": {},
   "source": [
    "# 모델의 크기 변경"
   ]
  },
  {
   "cell_type": "markdown",
   "id": "d5d522f9",
   "metadata": {
    "ExecuteTime": {
     "end_time": "2021-12-02T02:18:21.191909Z",
     "start_time": "2021-12-02T02:18:21.182933Z"
    }
   },
   "source": [
    "#### 작은 모델"
   ]
  },
  {
   "cell_type": "code",
   "execution_count": 12,
   "id": "91af98cd",
   "metadata": {
    "ExecuteTime": {
     "end_time": "2022-03-22T09:41:38.052727Z",
     "start_time": "2022-03-22T09:41:38.030785Z"
    }
   },
   "outputs": [],
   "source": [
    "def create_small_model():\n",
    "    #모델생성\n",
    "    model = keras.Sequential()\n",
    "    # 레이어 추가 - Hidden\n",
    "    model.add(layers.Flatten(input_shape=(28,28)))\n",
    "    model.add(layers.Dense(units=1, activation='relu'))\n",
    "    # 출력레이어\n",
    "    model.add(layers.Dense(units=10, activation='softmax'))\n",
    "    return model"
   ]
  },
  {
   "cell_type": "code",
   "execution_count": 13,
   "id": "c64b36dc",
   "metadata": {
    "ExecuteTime": {
     "end_time": "2022-03-22T09:41:43.521012Z",
     "start_time": "2022-03-22T09:41:43.447623Z"
    }
   },
   "outputs": [],
   "source": [
    "# 모델 생성, 컴파일\n",
    "small_model =  create_small_model()\n",
    "small_model.compile(optimizer=keras.optimizers.Adam(learning_rate=LEARNING_RATE),\n",
    "                    loss='categorical_crossentropy',\n",
    "                    metrics=['accuracy'])"
   ]
  },
  {
   "cell_type": "code",
   "execution_count": 14,
   "id": "df9bfbef",
   "metadata": {
    "ExecuteTime": {
     "end_time": "2022-03-22T09:41:44.581424Z",
     "start_time": "2022-03-22T09:41:44.559483Z"
    }
   },
   "outputs": [
    {
     "name": "stdout",
     "output_type": "stream",
     "text": [
      "Model: \"sequential\"\n",
      "_________________________________________________________________\n",
      " Layer (type)                Output Shape              Param #   \n",
      "=================================================================\n",
      " flatten (Flatten)           (None, 784)               0         \n",
      "                                                                 \n",
      " dense (Dense)               (None, 1)                 785       \n",
      "                                                                 \n",
      " dense_1 (Dense)             (None, 10)                20        \n",
      "                                                                 \n",
      "=================================================================\n",
      "Total params: 805\n",
      "Trainable params: 805\n",
      "Non-trainable params: 0\n",
      "_________________________________________________________________\n"
     ]
    }
   ],
   "source": [
    "small_model.summary()"
   ]
  },
  {
   "cell_type": "code",
   "execution_count": 15,
   "id": "a52212cf",
   "metadata": {
    "ExecuteTime": {
     "end_time": "2022-03-22T09:41:45.291814Z",
     "start_time": "2022-03-22T09:41:45.270867Z"
    }
   },
   "outputs": [
    {
     "data": {
      "image/png": "[encoded data removed]",
      "text/plain": [
       "<IPython.core.display.Image object>"
      ]
     },
     "execution_count": 15,
     "metadata": {},
     "output_type": "execute_result"
    }
   ],
   "source": [
    "keras.utils.plot_model(small_model, show_shapes=True)"
   ]
  },
  {
   "cell_type": "code",
   "execution_count": 16,
   "id": "d87885a6",
   "metadata": {
    "ExecuteTime": {
     "end_time": "2022-03-22T09:42:22.599458Z",
     "start_time": "2022-03-22T09:41:48.638763Z"
    },
    "scrolled": false
   },
   "outputs": [
    {
     "name": "stdout",
     "output_type": "stream",
     "text": [
      "Epoch 1/20\n"
     ]
    },
    {
     "name": "stderr",
     "output_type": "stream",
     "text": [
      "2022-07-14 16:03:43.851628: W tensorflow/core/platform/profile_utils/cpu_utils.cc:128] Failed to get CPU frequency: 0 Hz\n",
      "2022-07-14 16:03:43.851766: I tensorflow/core/grappler/optimizers/custom_graph_optimizer_registry.cc:113] Plugin optimizer for device_type GPU is enabled.\n"
     ]
    },
    {
     "name": "stdout",
     "output_type": "stream",
     "text": [
      "592/600 [============================>.] - ETA: 0s - loss: 2.0998 - accuracy: 0.1920"
     ]
    },
    {
     "name": "stderr",
     "output_type": "stream",
     "text": [
      "2022-07-14 16:03:49.130632: I tensorflow/core/grappler/optimizers/custom_graph_optimizer_registry.cc:113] Plugin optimizer for device_type GPU is enabled.\n"
     ]
    },
    {
     "name": "stdout",
     "output_type": "stream",
     "text": [
      "600/600 [==============================] - 6s 6ms/step - loss: 2.0981 - accuracy: 0.1922 - val_loss: 1.9758 - val_accuracy: 0.2240\n",
      "Epoch 2/20\n",
      "600/600 [==============================] - 4s 6ms/step - loss: 1.9096 - accuracy: 0.2301 - val_loss: 1.8601 - val_accuracy: 0.2478\n",
      "Epoch 3/20\n",
      "600/600 [==============================] - 4s 6ms/step - loss: 1.8248 - accuracy: 0.2455 - val_loss: 1.7992 - val_accuracy: 0.2550\n",
      "Epoch 4/20\n",
      "600/600 [==============================] - 4s 6ms/step - loss: 1.7779 - accuracy: 0.2595 - val_loss: 1.7630 - val_accuracy: 0.2738\n",
      "Epoch 5/20\n",
      "600/600 [==============================] - 4s 7ms/step - loss: 1.7476 - accuracy: 0.2717 - val_loss: 1.7367 - val_accuracy: 0.2688\n",
      "Epoch 6/20\n",
      "600/600 [==============================] - 4s 6ms/step - loss: 1.7259 - accuracy: 0.2754 - val_loss: 1.7191 - val_accuracy: 0.2709\n",
      "Epoch 7/20\n",
      "600/600 [==============================] - 4s 6ms/step - loss: 1.7098 - accuracy: 0.2796 - val_loss: 1.7028 - val_accuracy: 0.2833\n",
      "Epoch 8/20\n",
      "600/600 [==============================] - 4s 6ms/step - loss: 1.6979 - accuracy: 0.2796 - val_loss: 1.6933 - val_accuracy: 0.2763\n",
      "Epoch 9/20\n",
      "600/600 [==============================] - 4s 6ms/step - loss: 1.6882 - accuracy: 0.2859 - val_loss: 1.6854 - val_accuracy: 0.2932\n",
      "Epoch 10/20\n",
      "600/600 [==============================] - 4s 6ms/step - loss: 1.6813 - accuracy: 0.2872 - val_loss: 1.6783 - val_accuracy: 0.2947\n",
      "Epoch 11/20\n",
      "600/600 [==============================] - 4s 6ms/step - loss: 1.6752 - accuracy: 0.2891 - val_loss: 1.6739 - val_accuracy: 0.2932\n",
      "Epoch 12/20\n",
      "600/600 [==============================] - 4s 6ms/step - loss: 1.6700 - accuracy: 0.2894 - val_loss: 1.6692 - val_accuracy: 0.2958\n",
      "Epoch 13/20\n",
      "600/600 [==============================] - 4s 6ms/step - loss: 1.6656 - accuracy: 0.2909 - val_loss: 1.6660 - val_accuracy: 0.2946\n",
      "Epoch 14/20\n",
      "600/600 [==============================] - 4s 6ms/step - loss: 1.6619 - accuracy: 0.2919 - val_loss: 1.6636 - val_accuracy: 0.2936\n",
      "Epoch 15/20\n",
      "600/600 [==============================] - 4s 6ms/step - loss: 1.6586 - accuracy: 0.2925 - val_loss: 1.6600 - val_accuracy: 0.2976\n",
      "Epoch 16/20\n",
      "600/600 [==============================] - 4s 6ms/step - loss: 1.6555 - accuracy: 0.2955 - val_loss: 1.6584 - val_accuracy: 0.2941\n",
      "Epoch 17/20\n",
      "600/600 [==============================] - 4s 6ms/step - loss: 1.6523 - accuracy: 0.3035 - val_loss: 1.6541 - val_accuracy: 0.3085\n",
      "Epoch 18/20\n",
      "600/600 [==============================] - 4s 6ms/step - loss: 1.6493 - accuracy: 0.3113 - val_loss: 1.6510 - val_accuracy: 0.3049\n",
      "Epoch 19/20\n",
      "600/600 [==============================] - 4s 7ms/step - loss: 1.6452 - accuracy: 0.3256 - val_loss: 1.6483 - val_accuracy: 0.3402\n",
      "Epoch 20/20\n",
      "600/600 [==============================] - 4s 6ms/step - loss: 1.6390 - accuracy: 0.3369 - val_loss: 1.6405 - val_accuracy: 0.3074\n"
     ]
    }
   ],
   "source": [
    "hist = small_model.fit(train_dataset, epochs=N_EPOCHS, \n",
    "                       validation_data=test_dataset)"
   ]
  },
  {
   "cell_type": "code",
   "execution_count": 17,
   "id": "609b2a63",
   "metadata": {
    "ExecuteTime": {
     "end_time": "2022-03-22T09:43:08.648462Z",
     "start_time": "2022-03-22T09:43:08.415749Z"
    }
   },
   "outputs": [
    {
     "data": {
      "image/png": "[encoded data removed]",
      "text/plain": [
       "<Figure size 576x504 with 1 Axes>"
      ]
     },
     "metadata": {
      "needs_background": "light"
     },
     "output_type": "display_data"
    }
   ],
   "source": [
    "plot_loss(N_EPOCHS, hist)"
   ]
  },
  {
   "cell_type": "code",
   "execution_count": 18,
   "id": "1158f45c",
   "metadata": {
    "ExecuteTime": {
     "end_time": "2022-03-22T09:43:09.720048Z",
     "start_time": "2022-03-22T09:43:09.542742Z"
    }
   },
   "outputs": [
    {
     "data": {
      "image/png": "[encoded data removed]",
      "text/plain": [
       "<Figure size 576x504 with 1 Axes>"
      ]
     },
     "metadata": {
      "needs_background": "light"
     },
     "output_type": "display_data"
    }
   ],
   "source": [
    "plot_accuracy(N_EPOCHS, hist)"
   ]
  },
  {
   "cell_type": "markdown",
   "id": "0bcfb450",
   "metadata": {
    "ExecuteTime": {
     "end_time": "2021-12-02T02:34:37.778103Z",
     "start_time": "2021-12-02T02:34:37.761151Z"
    }
   },
   "source": [
    "#### 모델의 크기를 크게"
   ]
  },
  {
   "cell_type": "code",
   "execution_count": 19,
   "id": "41dd4c49",
   "metadata": {
    "ExecuteTime": {
     "end_time": "2022-03-22T09:44:10.466136Z",
     "start_time": "2022-03-22T09:44:10.447185Z"
    }
   },
   "outputs": [],
   "source": [
    "def create_bigger_model():\n",
    "    model = keras.Sequential()\n",
    "    #은닉층\n",
    "    model.add(layers.Flatten(input_shape=(28,28)))\n",
    "    model.add(layers.Dense(units=256, activation='relu'))\n",
    "    model.add(layers.Dense(units=256, activation='relu'))\n",
    "    model.add(layers.Dense(units=128, activation='relu'))\n",
    "    model.add(layers.Dense(units=128, activation='relu'))\n",
    "    #출력층\n",
    "    model.add(layers.Dense(units=10, activation='softmax'))\n",
    "    return model"
   ]
  },
  {
   "cell_type": "code",
   "execution_count": null,
   "id": "4ffd1b89",
   "metadata": {
    "ExecuteTime": {
     "end_time": "2022-03-22T09:44:16.796868Z",
     "start_time": "2022-03-22T09:44:16.718913Z"
    }
   },
   "outputs": [],
   "source": [
    "bigger_model = create_bigger_model()\n",
    "bigger_model.compile(optimizer=keras.optimizers.Adam(learning_rate=LEARNING_RATE),\n",
    "                     loss='categorical_crossentropy',\n",
    "                     metrics=['accuracy'])"
   ]
  },
  {
   "cell_type": "code",
   "execution_count": null,
   "id": "243c1794",
   "metadata": {
    "ExecuteTime": {
     "end_time": "2022-03-22T09:44:17.893381Z",
     "start_time": "2022-03-22T09:44:17.865487Z"
    }
   },
   "outputs": [],
   "source": [
    "bigger_model.summary()"
   ]
  },
  {
   "cell_type": "code",
   "execution_count": null,
   "id": "42e38a13",
   "metadata": {
    "ExecuteTime": {
     "end_time": "2022-03-22T09:45:31.390957Z",
     "start_time": "2022-03-22T09:44:18.879793Z"
    }
   },
   "outputs": [],
   "source": [
    "hist = bigger_model.fit(train_dataset, \n",
    "                        epochs=N_EPOCHS, \n",
    "                        validation_data=test_dataset)"
   ]
  },
  {
   "cell_type": "code",
   "execution_count": null,
   "id": "18af8878",
   "metadata": {
    "ExecuteTime": {
     "end_time": "2022-03-22T09:45:54.476953Z",
     "start_time": "2022-03-22T09:45:54.280702Z"
    },
    "scrolled": true
   },
   "outputs": [],
   "source": [
    "plot_loss(N_EPOCHS, hist)"
   ]
  },
  {
   "cell_type": "code",
   "execution_count": null,
   "id": "4672e60f",
   "metadata": {
    "ExecuteTime": {
     "end_time": "2022-03-22T09:45:55.392624Z",
     "start_time": "2022-03-22T09:45:55.174839Z"
    },
    "scrolled": true
   },
   "outputs": [],
   "source": [
    "plot_accuracy(N_EPOCHS, hist)"
   ]
  },
  {
   "cell_type": "markdown",
   "id": "30a5c3ca",
   "metadata": {},
   "source": [
    "## Dropout 적용\n",
    "- layers.Dropout 객체를 이용\n",
    "- dropout rate는 0.2 ~ 0.5 정도로 설정\n",
    "    - 규제 강도는 rate를 크게 잡을 수록 커진다.\n",
    "- dropout node를 가질 Layer 앞에 추가."
   ]
  },
  {
   "cell_type": "code",
   "execution_count": null,
   "id": "8ade2d69",
   "metadata": {
    "ExecuteTime": {
     "end_time": "2022-03-22T09:46:36.895855Z",
     "start_time": "2022-03-22T09:46:36.878933Z"
    }
   },
   "outputs": [],
   "source": [
    "def create_dropout_model():\n",
    "    model = keras.Sequential()\n",
    "    model.add(layers.Flatten(input_shape=(28,28)))\n",
    "    \n",
    "    model.add(layers.Dropout(0.5))\n",
    "    model.add(layers.Dense(units=256, activation='relu'))\n",
    "    \n",
    "    model.add(layers.Dropout(0.5))\n",
    "    model.add(layers.Dense(units=256, activation='relu'))\n",
    "    \n",
    "    model.add(layers.Dropout(0.3))\n",
    "    model.add(layers.Dense(units=128, activation='relu'))\n",
    "    \n",
    "    model.add(layers.Dropout(0.3))\n",
    "    model.add(layers.Dense(units=128, activation='relu'))\n",
    "    \n",
    "    model.add(layers.Dropout(0.3))\n",
    "    model.add(layers.Dense(units=10, activation='softmax'))\n",
    "    return model"
   ]
  },
  {
   "cell_type": "code",
   "execution_count": null,
   "id": "1d378d13",
   "metadata": {
    "ExecuteTime": {
     "end_time": "2022-03-22T09:46:37.899983Z",
     "start_time": "2022-03-22T09:46:37.798423Z"
    }
   },
   "outputs": [],
   "source": [
    "dropout_model = create_dropout_model()\n",
    "dropout_model.compile(optimizer=keras.optimizers.Adam(learning_rate=LEARNING_RATE),\n",
    "                      loss='categorical_crossentropy', \n",
    "                      metrics=['accuracy'])"
   ]
  },
  {
   "cell_type": "code",
   "execution_count": null,
   "id": "eb7af265",
   "metadata": {
    "ExecuteTime": {
     "end_time": "2022-03-22T09:46:38.773040Z",
     "start_time": "2022-03-22T09:46:38.733147Z"
    }
   },
   "outputs": [],
   "source": [
    "dropout_model.summary()"
   ]
  },
  {
   "cell_type": "code",
   "execution_count": null,
   "id": "19a68f77",
   "metadata": {
    "ExecuteTime": {
     "end_time": "2022-03-22T09:49:45.470530Z",
     "start_time": "2022-03-22T09:48:59.368205Z"
    },
    "scrolled": false
   },
   "outputs": [],
   "source": [
    "hist = dropout_model.fit(train_dataset, \n",
    "                         epochs=N_EPOCHS+10, \n",
    "                         validation_data=test_dataset)"
   ]
  },
  {
   "cell_type": "code",
   "execution_count": null,
   "id": "fb4add4f",
   "metadata": {
    "ExecuteTime": {
     "end_time": "2022-03-22T09:48:30.203555Z",
     "start_time": "2022-03-22T09:48:30.018533Z"
    }
   },
   "outputs": [],
   "source": [
    "plot_loss(N_EPOCHS, hist)"
   ]
  },
  {
   "cell_type": "code",
   "execution_count": null,
   "id": "34b84d72",
   "metadata": {
    "ExecuteTime": {
     "end_time": "2022-03-22T09:48:33.615205Z",
     "start_time": "2022-03-22T09:48:33.411040Z"
    }
   },
   "outputs": [],
   "source": [
    "plot_accuracy(N_EPOCHS, hist)"
   ]
  },
  {
   "cell_type": "markdown",
   "id": "44a36091",
   "metadata": {},
   "source": [
    "## Batch Normalization\n",
    "- Dense -> BN -> Activation  순서로 적용\n",
    "- layers.BatchNormalization 사용"
   ]
  },
  {
   "cell_type": "code",
   "execution_count": null,
   "id": "ed2bd929",
   "metadata": {
    "ExecuteTime": {
     "end_time": "2022-03-22T09:51:04.840025Z",
     "start_time": "2022-03-22T09:51:04.821079Z"
    }
   },
   "outputs": [],
   "source": [
    "def create_bn_model():\n",
    "    model = keras.Sequential()\n",
    "    model.add(layers.Flatten(input_shape=(28,28)))\n",
    "    \n",
    "    model.add(layers.Dense(units=256))\n",
    "    model.add(layers.BatchNormalization())\n",
    "    model.add(layers.ReLU())\n",
    "    \n",
    "    model.add(layers.Dropout(0.3))\n",
    "    model.add(layers.Dense(units=128))\n",
    "    model.add(layers.BatchNormalization())\n",
    "    model.add(layers.ReLU())\n",
    "    \n",
    "    # 출력\n",
    "    model.add(layers.Dropout(0.3))\n",
    "    model.add(layers.Dense(units=10))\n",
    "    model.add(layers.BatchNormalization())\n",
    "    model.add(layers.Softmax())\n",
    "    \n",
    "    return model"
   ]
  },
  {
   "cell_type": "code",
   "execution_count": null,
   "id": "2c08dc66",
   "metadata": {
    "ExecuteTime": {
     "end_time": "2022-03-22T09:51:05.277898Z",
     "start_time": "2022-03-22T09:51:05.142664Z"
    }
   },
   "outputs": [],
   "source": [
    "bn_model = create_bn_model()\n",
    "bn_model.compile(optimizer=keras.optimizers.Adam(learning_rate=LEARNING_RATE),\n",
    "                 loss='categorical_crossentropy',\n",
    "                 metrics=['accuracy'])"
   ]
  },
  {
   "cell_type": "code",
   "execution_count": null,
   "id": "985b3fa8",
   "metadata": {
    "ExecuteTime": {
     "end_time": "2022-03-22T09:51:06.753296Z",
     "start_time": "2022-03-22T09:51:06.702464Z"
    }
   },
   "outputs": [],
   "source": [
    "bn_model.summary()"
   ]
  },
  {
   "cell_type": "code",
   "execution_count": null,
   "id": "e8e47c6a",
   "metadata": {
    "ExecuteTime": {
     "end_time": "2022-03-22T09:52:20.227875Z",
     "start_time": "2022-03-22T09:51:07.357647Z"
    },
    "scrolled": true
   },
   "outputs": [],
   "source": [
    "hist = bn_model.fit(train_dataset, epochs=N_EPOCHS,\n",
    "                    validation_data=test_dataset)"
   ]
  },
  {
   "cell_type": "code",
   "execution_count": null,
   "id": "ddb7d2f1",
   "metadata": {
    "ExecuteTime": {
     "end_time": "2022-03-22T09:52:20.435326Z",
     "start_time": "2022-03-22T09:52:20.233866Z"
    }
   },
   "outputs": [],
   "source": [
    "plot_loss(N_EPOCHS, hist)"
   ]
  },
  {
   "cell_type": "code",
   "execution_count": null,
   "id": "ec27d371",
   "metadata": {
    "ExecuteTime": {
     "end_time": "2022-03-22T09:52:20.864539Z",
     "start_time": "2022-03-22T09:52:20.439318Z"
    }
   },
   "outputs": [],
   "source": [
    "plot_accuracy(N_EPOCHS, hist)"
   ]
  },
  {
   "cell_type": "markdown",
   "id": "bc2a0238",
   "metadata": {},
   "source": [
    "## Learning Rate 조정을 이용한 성능향상\n",
    "\n",
    "### Learning Rate Decay\n",
    "- 일정한 step마다 Learning rate를 조정"
   ]
  },
  {
   "cell_type": "code",
   "execution_count": null,
   "id": "a94d11a0",
   "metadata": {
    "ExecuteTime": {
     "end_time": "2022-03-22T09:52:20.880505Z",
     "start_time": "2022-03-22T09:52:20.868490Z"
    }
   },
   "outputs": [],
   "source": [
    "def create_model():\n",
    "    model = keras.Sequential()\n",
    "    model.add(layers.Flatten(input_shape=(28,28)))\n",
    "    model.add(layers.Dense(units=256, activation='relu'))\n",
    "    model.add(layers.Dense(units=128, activation='relu'))\n",
    "    model.add(layers.Dense(units=128, activation='relu'))\n",
    "    model.add(layers.Dense(units=10, activation='softmax'))\n",
    "    return model"
   ]
  },
  {
   "cell_type": "code",
   "execution_count": null,
   "id": "45647cf1",
   "metadata": {
    "ExecuteTime": {
     "end_time": "2022-03-22T09:52:20.944209Z",
     "start_time": "2022-03-22T09:52:20.882501Z"
    }
   },
   "outputs": [],
   "source": [
    "model = create_model()"
   ]
  },
  {
   "cell_type": "code",
   "execution_count": null,
   "id": "d35e5578",
   "metadata": {
    "ExecuteTime": {
     "end_time": "2022-03-22T09:52:20.976162Z",
     "start_time": "2022-03-22T09:52:20.951196Z"
    }
   },
   "outputs": [],
   "source": [
    "len(train_dataset)*10  #10에폭의 step수"
   ]
  },
  {
   "cell_type": "code",
   "execution_count": null,
   "id": "7a0e5fbe",
   "metadata": {
    "ExecuteTime": {
     "end_time": "2022-03-22T09:52:20.992130Z",
     "start_time": "2022-03-22T09:52:20.980117Z"
    }
   },
   "outputs": [],
   "source": [
    "lr_scheduler = keras.optimizers.schedules.ExponentialDecay(\n",
    "                    initial_learning_rate=LEARNING_RATE,\n",
    "                    decay_steps=len(train_dataset)*5,\n",
    "                    decay_rate=0.2,\n",
    "                    staircase=True,\n",
    "                    )"
   ]
  },
  {
   "cell_type": "code",
   "execution_count": null,
   "id": "c98b4792",
   "metadata": {
    "ExecuteTime": {
     "end_time": "2022-03-22T09:52:21.023828Z",
     "start_time": "2022-03-22T09:52:20.998071Z"
    }
   },
   "outputs": [],
   "source": [
    "model.compile(optimizer=keras.optimizers.Adam(learning_rate=lr_scheduler),\n",
    "              loss='categorical_crossentropy',\n",
    "              metrics=['accuracy'])"
   ]
  },
  {
   "cell_type": "code",
   "execution_count": null,
   "id": "8eef85b0",
   "metadata": {
    "ExecuteTime": {
     "end_time": "2022-03-22T09:53:19.041070Z",
     "start_time": "2022-03-22T09:52:21.030816Z"
    },
    "scrolled": false
   },
   "outputs": [],
   "source": [
    "hist = model.fit(train_dataset, \n",
    "                 epochs=N_EPOCHS, \n",
    "                 validation_data=test_dataset)"
   ]
  },
  {
   "cell_type": "code",
   "execution_count": null,
   "id": "38346a6a",
   "metadata": {
    "ExecuteTime": {
     "end_time": "2022-03-22T09:53:19.230572Z",
     "start_time": "2022-03-22T09:53:19.049041Z"
    }
   },
   "outputs": [],
   "source": [
    "plot_loss(N_EPOCHS, hist)"
   ]
  },
  {
   "cell_type": "markdown",
   "id": "0397c696",
   "metadata": {},
   "source": [
    "### Callback 을 이용한 학습률 조정\n",
    "- ReduceLROnPlateau callback을 이용\n",
    "    - 학습시 성능이 개선이 안되는 경우 LR를 조정"
   ]
  },
  {
   "cell_type": "code",
   "execution_count": null,
   "id": "4fc5c1d5",
   "metadata": {
    "ExecuteTime": {
     "end_time": "2022-03-22T09:53:19.309470Z",
     "start_time": "2022-03-22T09:53:19.233606Z"
    }
   },
   "outputs": [],
   "source": [
    "model = create_model()\n",
    "model.compile(optimizer=keras.optimizers.Adam(learning_rate=LEARNING_RATE),\n",
    "              loss='categorical_crossentropy',\n",
    "              metrics=['accuracy'])"
   ]
  },
  {
   "cell_type": "code",
   "execution_count": null,
   "id": "7a0d0557",
   "metadata": {
    "ExecuteTime": {
     "end_time": "2022-03-22T09:53:19.325412Z",
     "start_time": "2022-03-22T09:53:19.314454Z"
    }
   },
   "outputs": [],
   "source": [
    "from keras.callbacks import ReduceLROnPlateau, EarlyStopping, ModelCheckpoint\n",
    "\n",
    "lr_cb = ReduceLROnPlateau(monitor='val_loss',\n",
    "                          factor=0.2,\n",
    "                          patience=3,\n",
    "                          verbose=2) "
   ]
  },
  {
   "cell_type": "code",
   "execution_count": null,
   "id": "5d4a97e1",
   "metadata": {
    "ExecuteTime": {
     "end_time": "2022-03-22T09:53:52.179369Z",
     "start_time": "2022-03-22T09:53:19.329365Z"
    },
    "scrolled": false
   },
   "outputs": [],
   "source": [
    "hist = model.fit(train_dataset, epochs=N_EPOCHS, \n",
    "                 validation_data=test_dataset,\n",
    "                 callbacks=[lr_cb])"
   ]
  },
  {
   "cell_type": "code",
   "execution_count": null,
   "id": "8f4ea051",
   "metadata": {},
   "outputs": [],
   "source": []
  },
  {
   "cell_type": "code",
   "execution_count": null,
   "id": "7fce70b4",
   "metadata": {},
   "outputs": [],
   "source": []
  },
  {
   "cell_type": "code",
   "execution_count": null,
   "id": "82cb2c1a",
   "metadata": {},
   "outputs": [],
   "source": []
  },
  {
   "cell_type": "code",
   "execution_count": null,
   "id": "85527d07",
   "metadata": {},
   "outputs": [],
   "source": []
  }
 ],
 "metadata": {
  "kernelspec": {
   "display_name": "Python 3 (ipykernel)",
   "language": "python",
   "name": "python3"
  },
  "language_info": {
   "codemirror_mode": {
    "name": "ipython",
    "version": 3
   },
   "file_extension": ".py",
   "mimetype": "text/x-python",
   "name": "python",
   "nbconvert_exporter": "python",
   "pygments_lexer": "ipython3",
   "version": "3.8.13"
  },
  "toc": {
   "base_numbering": 1,
   "nav_menu": {},
   "number_sections": false,
   "sideBar": true,
   "skip_h1_title": false,
   "title_cell": "Table of Contents",
   "title_sidebar": "Contents",
   "toc_cell": false,
   "toc_position": {},
   "toc_section_display": true,
   "toc_window_display": false
  },
  "varInspector": {
   "cols": {
    "lenName": 16,
    "lenType": 16,
    "lenVar": 40
   },
   "kernels_config": {
    "python": {
     "delete_cmd_postfix": "",
     "delete_cmd_prefix": "del ",
     "library": "var_list.py",
     "varRefreshCmd": "print(var_dic_list())"
    },
    "r": {
     "delete_cmd_postfix": ") ",
     "delete_cmd_prefix": "rm(",
     "library": "var_list.r",
     "varRefreshCmd": "cat(var_dic_list()) "
    }
   },
   "types_to_exclude": [
    "module",
    "function",
    "builtin_function_or_method",
    "instance",
    "_Feature"
   ],
   "window_display": false
  }
 },
 "nbformat": 4,
 "nbformat_minor": 5
}
