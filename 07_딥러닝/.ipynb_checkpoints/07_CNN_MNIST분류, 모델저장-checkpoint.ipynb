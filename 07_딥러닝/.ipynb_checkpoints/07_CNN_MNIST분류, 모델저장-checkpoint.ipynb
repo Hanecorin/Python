{
 "cells": [
  {
   "cell_type": "markdown",
   "metadata": {
    "id": "n1-HdRR266M6",
    "slideshow": {
     "slide_type": "slide"
    }
   },
   "source": [
    "# Convolutional Neural Network 구현\n",
    "\n",
    "- MNIST 손글씨 data를 이용하여 CNN을 학습하고 MLP와 결과와 비교 해본다."
   ]
  },
  {
   "cell_type": "markdown",
   "metadata": {
    "slideshow": {
     "slide_type": "slide"
    }
   },
   "source": [
    "##### 학습결과 시각화 함수 정의"
   ]
  },
  {
   "cell_type": "code",
   "execution_count": null,
   "metadata": {
    "ExecuteTime": {
     "end_time": "2021-11-05T01:51:07.359080Z",
     "start_time": "2021-11-05T01:51:06.988477Z"
    },
    "executionInfo": {
     "elapsed": 1129,
     "status": "ok",
     "timestamp": 1619080612431,
     "user": {
      "displayName": "김성환",
      "photoUrl": "https://lh3.googleusercontent.com/a-/AOh14GjqNkeEG8Sp5Fmsq56VZoiRsSxwUXmtH2Mb14M3YQA=s64",
      "userId": "02802166581970122576"
     },
     "user_tz": -540
    },
    "id": "6eRfpyes66NC",
    "slideshow": {
     "slide_type": "fragment"
    }
   },
   "outputs": [],
   "source": [
    "import matplotlib.pyplot as plt\n",
    "\n",
    "# loss 그래프\n",
    "def plot_loss(history):\n",
    "    plt.plot(history.history['loss'], label='Train loss')\n",
    "    plt.plot(history.history['val_loss'], label='Validation loss')\n",
    "    plt.title('Loss')\n",
    "    plt.xlabel('epoch')\n",
    "    plt.ylabel('loss')\n",
    "    plt.legend()\n",
    "    plt.show()"
   ]
  },
  {
   "cell_type": "code",
   "execution_count": null,
   "metadata": {
    "ExecuteTime": {
     "end_time": "2021-11-05T01:51:07.375106Z",
     "start_time": "2021-11-05T01:51:07.360114Z"
    },
    "executionInfo": {
     "elapsed": 1177,
     "status": "ok",
     "timestamp": 1619080614918,
     "user": {
      "displayName": "김성환",
      "photoUrl": "https://lh3.googleusercontent.com/a-/AOh14GjqNkeEG8Sp5Fmsq56VZoiRsSxwUXmtH2Mb14M3YQA=s64",
      "userId": "02802166581970122576"
     },
     "user_tz": -540
    },
    "id": "Qb5naeVi66ND",
    "slideshow": {
     "slide_type": "fragment"
    }
   },
   "outputs": [],
   "source": [
    "# accuracy 그래프\n",
    "def plot_accuracy(history):\n",
    "    plt.plot(history.history['accuracy'], label='Train accuracy')\n",
    "    plt.plot(history.history['val_accuracy'], label='Validation accuracy')\n",
    "    plt.title('Accuracy')\n",
    "    plt.xlabel('epoch')\n",
    "    plt.ylabel('accuracy')\n",
    "    plt.legend()\n",
    "    plt.show()"
   ]
  },
  {
   "cell_type": "markdown",
   "metadata": {
    "slideshow": {
     "slide_type": "slide"
    }
   },
   "source": [
    "# MNIST CNN 적용"
   ]
  },
  {
   "cell_type": "code",
   "execution_count": null,
   "metadata": {
    "ExecuteTime": {
     "end_time": "2021-11-05T01:51:10.884077Z",
     "start_time": "2021-11-05T01:51:08.546886Z"
    },
    "colab": {
     "base_uri": "https://localhost:8080/"
    },
    "executionInfo": {
     "elapsed": 2895,
     "status": "ok",
     "timestamp": 1619080617708,
     "user": {
      "displayName": "김성환",
      "photoUrl": "https://lh3.googleusercontent.com/a-/AOh14GjqNkeEG8Sp5Fmsq56VZoiRsSxwUXmtH2Mb14M3YQA=s64",
      "userId": "02802166581970122576"
     },
     "user_tz": -540
    },
    "id": "LcNnf6Ey66NE",
    "outputId": "b4a23bd2-b32c-462b-d3ce-a40eb0af9f8e",
    "slideshow": {
     "slide_type": "fragment"
    }
   },
   "outputs": [],
   "source": [
    "import os\n",
    "import numpy as np\n",
    "\n",
    "import tensorflow as tf\n",
    "from tensorflow import keras\n",
    "from tensorflow.keras import layers\n",
    "\n",
    "print(tf.__version__)\n",
    "print(keras.__version__)"
   ]
  },
  {
   "cell_type": "code",
   "execution_count": null,
   "metadata": {
    "ExecuteTime": {
     "end_time": "2021-11-05T01:51:10.894074Z",
     "start_time": "2021-11-05T01:51:10.886077Z"
    },
    "executionInfo": {
     "elapsed": 2425,
     "status": "ok",
     "timestamp": 1619080617709,
     "user": {
      "displayName": "김성환",
      "photoUrl": "https://lh3.googleusercontent.com/a-/AOh14GjqNkeEG8Sp5Fmsq56VZoiRsSxwUXmtH2Mb14M3YQA=s64",
      "userId": "02802166581970122576"
     },
     "user_tz": -540
    },
    "id": "6MaESnzB66NF",
    "slideshow": {
     "slide_type": "fragment"
    }
   },
   "outputs": [],
   "source": [
    "np.random.seed(0)\n",
    "tf.random.set_seed(0)"
   ]
  },
  {
   "cell_type": "markdown",
   "metadata": {
    "slideshow": {
     "slide_type": "fragment"
    }
   },
   "source": [
    "##### data loading"
   ]
  },
  {
   "cell_type": "code",
   "execution_count": null,
   "metadata": {
    "ExecuteTime": {
     "end_time": "2021-11-05T01:51:12.064601Z",
     "start_time": "2021-11-05T01:51:11.810927Z"
    },
    "slideshow": {
     "slide_type": "fragment"
    }
   },
   "outputs": [],
   "source": [
    "(train_image, train_label), (test_image, test_label) = keras.datasets.mnist.load_data()\n",
    "train_image.shape, test_image.shape"
   ]
  },
  {
   "cell_type": "markdown",
   "metadata": {
    "slideshow": {
     "slide_type": "slide"
    }
   },
   "source": [
    "##### 하이퍼파라미터, 변수 설정"
   ]
  },
  {
   "cell_type": "code",
   "execution_count": null,
   "metadata": {
    "ExecuteTime": {
     "end_time": "2021-11-05T01:51:12.922956Z",
     "start_time": "2021-11-05T01:51:12.905933Z"
    },
    "executionInfo": {
     "elapsed": 2010,
     "status": "ok",
     "timestamp": 1619080617710,
     "user": {
      "displayName": "김성환",
      "photoUrl": "https://lh3.googleusercontent.com/a-/AOh14GjqNkeEG8Sp5Fmsq56VZoiRsSxwUXmtH2Mb14M3YQA=s64",
      "userId": "02802166581970122576"
     },
     "user_tz": -540
    },
    "id": "DUMcV93l66NG",
    "slideshow": {
     "slide_type": "fragment"
    }
   },
   "outputs": [],
   "source": [
    "LEARNING_RATE = 0.001\n",
    "N_EPOCHS = 20\n",
    "N_BATCHS = 1000\n",
    "\n",
    "N_TRAIN = train_image.shape[0]\n",
    "N_TEST = test_image.shape[0]"
   ]
  },
  {
   "cell_type": "markdown",
   "metadata": {
    "slideshow": {
     "slide_type": "fragment"
    }
   },
   "source": [
    "##### 전처리, Dataset 생성\n",
    "- X\n",
    "    - uint8을 float32 타입으로 변경.\n",
    "    - pixcel값 정규화: 0 ~ 1\n",
    "    - Gray scale에 channel 축이 없는 경우 dummy 축을 늘려준다.\n",
    "        - 영상처리 convolution layer(Conv2D)는 입력으로 3차원 (height, width, channel) 배열을 받는다.\n",
    "- Y: onehot encoding"
   ]
  },
  {
   "cell_type": "code",
   "execution_count": null,
   "metadata": {
    "ExecuteTime": {
     "end_time": "2021-11-05T01:51:14.114053Z",
     "start_time": "2021-11-05T01:51:13.857638Z"
    },
    "slideshow": {
     "slide_type": "fragment"
    }
   },
   "outputs": [],
   "source": [
    "# X: 0 ~ 1 scaling\n",
    "X_train_tmp = train_image.astype(np.float32)\n",
    "X_train_tmp /= 255.0\n",
    "\n",
    "X_test_tmp = test_image.astype(np.float32)\n",
    "X_test_tmp /= 255.0\n",
    "\n",
    "# channel 축을 추가\n",
    "X_train = X_train_tmp[..., np.newaxis]\n",
    "X_test = X_test_tmp[..., np.newaxis]"
   ]
  },
  {
   "cell_type": "code",
   "execution_count": null,
   "metadata": {
    "ExecuteTime": {
     "end_time": "2021-11-05T01:51:14.254296Z",
     "start_time": "2021-11-05T01:51:14.234264Z"
    },
    "colab": {
     "base_uri": "https://localhost:8080/"
    },
    "executionInfo": {
     "elapsed": 1444,
     "status": "ok",
     "timestamp": 1619080618354,
     "user": {
      "displayName": "김성환",
      "photoUrl": "https://lh3.googleusercontent.com/a-/AOh14GjqNkeEG8Sp5Fmsq56VZoiRsSxwUXmtH2Mb14M3YQA=s64",
      "userId": "02802166581970122576"
     },
     "user_tz": -540
    },
    "id": "iOQ7nSdE66NI",
    "outputId": "b81af913-a3a5-4348-967d-b1ecd8147719",
    "slideshow": {
     "slide_type": "fragment"
    }
   },
   "outputs": [],
   "source": [
    "# y: onehot-encoding\n",
    "y_train = keras.utils.to_categorical(train_label)\n",
    "y_test = keras.utils.to_categorical(test_label)"
   ]
  },
  {
   "cell_type": "markdown",
   "metadata": {
    "ExecuteTime": {
     "end_time": "2021-04-22T04:45:59.913389Z",
     "start_time": "2021-04-22T04:45:59.848393Z"
    },
    "executionInfo": {
     "elapsed": 6617,
     "status": "ok",
     "timestamp": 1619080623697,
     "user": {
      "displayName": "김성환",
      "photoUrl": "https://lh3.googleusercontent.com/a-/AOh14GjqNkeEG8Sp5Fmsq56VZoiRsSxwUXmtH2Mb14M3YQA=s64",
      "userId": "02802166581970122576"
     },
     "user_tz": -540
    },
    "id": "gCrtqoUC66NJ",
    "slideshow": {
     "slide_type": "slide"
    }
   },
   "source": [
    "###### Dataset 생성"
   ]
  },
  {
   "cell_type": "code",
   "execution_count": null,
   "metadata": {
    "ExecuteTime": {
     "end_time": "2021-11-05T01:51:16.901483Z",
     "start_time": "2021-11-05T01:51:15.147591Z"
    },
    "executionInfo": {
     "elapsed": 6617,
     "status": "ok",
     "timestamp": 1619080623697,
     "user": {
      "displayName": "김성환",
      "photoUrl": "https://lh3.googleusercontent.com/a-/AOh14GjqNkeEG8Sp5Fmsq56VZoiRsSxwUXmtH2Mb14M3YQA=s64",
      "userId": "02802166581970122576"
     },
     "user_tz": -540
    },
    "id": "gCrtqoUC66NJ",
    "slideshow": {
     "slide_type": "fragment"
    }
   },
   "outputs": [],
   "source": [
    "train_dataset = tf.data.Dataset.from_tensor_slices((X_train, y_train)).shuffle(N_TRAIN).batch(N_BATCHS, drop_remainder=True)\n",
    "\n",
    "test_dataset = tf.data.Dataset.from_tensor_slices((X_test, y_test)).batch(N_BATCHS)"
   ]
  },
  {
   "cell_type": "markdown",
   "metadata": {
    "slideshow": {
     "slide_type": "slide"
    }
   },
   "source": [
    "## Model(Network) 정의\n",
    "- Feature Extraction(backbone):Convolution Layer\n",
    "    - block: Convolution + MaxPooling Layer\n",
    "    - size(height, widht) 는 줄이고 channel은 늘리는 방향으로 Layer들을 쌓는다.\n",
    "    - convolution\n",
    "        - size: 3 X 3\n",
    "        - strides: 1\n",
    "    - max pooling\n",
    "        - size: 2 X 2\n",
    "        - strides: 2\n",
    "        - 위와 같이 지정해 input의 size를 절반으로 줄인다. \n",
    "- 분류기\n",
    "    - Dense Layer 사용        \n",
    "    - Flatten을 먼저 해야 한다. (Conv의 output-feature map- 3차원 배열)\n"
   ]
  },
  {
   "cell_type": "code",
   "execution_count": null,
   "metadata": {
    "ExecuteTime": {
     "end_time": "2021-11-05T01:51:20.648669Z",
     "start_time": "2021-11-05T01:51:20.626669Z"
    },
    "executionInfo": {
     "elapsed": 6264,
     "status": "ok",
     "timestamp": 1619080623697,
     "user": {
      "displayName": "김성환",
      "photoUrl": "https://lh3.googleusercontent.com/a-/AOh14GjqNkeEG8Sp5Fmsq56VZoiRsSxwUXmtH2Mb14M3YQA=s64",
      "userId": "02802166581970122576"
     },
     "user_tz": -540
    },
    "id": "L_yg9ijU66NJ",
    "slideshow": {
     "slide_type": "fragment"
    }
   },
   "outputs": [],
   "source": [
    "def create_mnist_model():\n",
    "    model = keras.Sequential()\n",
    "\n",
    "    model.add(layers.InputLayer((28, 28, 1)))\n",
    "\n",
    "    model.add(layers.Conv2D(filters=32,\n",
    "                            kernel_size=(3,3),\n",
    "                            padding='same',\n",
    "                            strides=(1,1),\n",
    "                            activation='relu'\n",
    "                            ))\n",
    "    \n",
    "    model.add(layers.MaxPool2D(pool_size=(2,2),\n",
    "                               strides=(2,2), \n",
    "                               padding='same')) \n",
    "\n",
    "    model.add(layers.Conv2D(filters=64,\n",
    "                            kernel_size=3, \n",
    "                            padding='same',\n",
    "                            activation='relu'\n",
    "                            ))\n",
    "    model.add(layers.MaxPool2D(padding='same'))\n",
    "\n",
    "    model.add(layers.Conv2D(filters=128, kernel_size=3, padding='same', activation='relu'))\n",
    "    model.add(layers.MaxPool2D(padding='same'))\n",
    "\n",
    "    model.add(layers.Flatten())\n",
    "\n",
    "    model.add(layers.Dense(units=256, activation='relu'))\n",
    "\n",
    "    model.add(layers.Dense(units=10, activation='softmax'))\n",
    "\n",
    "    return model"
   ]
  },
  {
   "cell_type": "markdown",
   "metadata": {
    "slideshow": {
     "slide_type": "slide"
    }
   },
   "source": [
    "##### 컴파일"
   ]
  },
  {
   "cell_type": "code",
   "execution_count": null,
   "metadata": {
    "ExecuteTime": {
     "end_time": "2021-11-05T01:51:23.279900Z",
     "start_time": "2021-11-05T01:51:23.194803Z"
    },
    "slideshow": {
     "slide_type": "fragment"
    }
   },
   "outputs": [],
   "source": [
    "model = create_mnist_model()\n",
    "model.compile(optimizer=keras.optimizers.Adam(learning_rate=LEARNING_RATE), \n",
    "              loss='categorical_crossentropy', \n",
    "              metrics=['accuracy'])"
   ]
  },
  {
   "cell_type": "code",
   "execution_count": null,
   "metadata": {
    "ExecuteTime": {
     "end_time": "2021-11-05T01:51:25.521666Z",
     "start_time": "2021-11-05T01:51:25.505959Z"
    },
    "slideshow": {
     "slide_type": "fragment"
    }
   },
   "outputs": [],
   "source": [
    "model.summary()"
   ]
  },
  {
   "cell_type": "code",
   "execution_count": null,
   "metadata": {
    "ExecuteTime": {
     "end_time": "2021-11-05T01:51:28.575990Z",
     "start_time": "2021-11-05T01:51:28.057742Z"
    },
    "slideshow": {
     "slide_type": "fragment"
    }
   },
   "outputs": [],
   "source": [
    "keras.utils.plot_model(model, show_shapes=True)"
   ]
  },
  {
   "cell_type": "markdown",
   "metadata": {
    "slideshow": {
     "slide_type": "slide"
    }
   },
   "source": [
    "##### 학습"
   ]
  },
  {
   "cell_type": "code",
   "execution_count": null,
   "metadata": {
    "ExecuteTime": {
     "end_time": "2021-11-05T01:52:46.358218Z",
     "start_time": "2021-11-05T01:52:05.426326Z"
    },
    "colab": {
     "base_uri": "https://localhost:8080/"
    },
    "executionInfo": {
     "elapsed": 181981,
     "status": "ok",
     "timestamp": 1619080800567,
     "user": {
      "displayName": "김성환",
      "photoUrl": "https://lh3.googleusercontent.com/a-/AOh14GjqNkeEG8Sp5Fmsq56VZoiRsSxwUXmtH2Mb14M3YQA=s64",
      "userId": "02802166581970122576"
     },
     "user_tz": -540
    },
    "id": "cte0uN6W66NO",
    "outputId": "f64652c7-6a11-4527-ac4d-95dc351cab50",
    "scrolled": false,
    "slideshow": {
     "slide_type": "fragment"
    }
   },
   "outputs": [],
   "source": [
    "hist = model.fit(train_dataset, \n",
    "                 epochs=N_EPOCHS, \n",
    "                 validation_data=test_dataset)"
   ]
  },
  {
   "cell_type": "markdown",
   "metadata": {
    "slideshow": {
     "slide_type": "fragment"
    }
   },
   "source": [
    "##### 결과시각화"
   ]
  },
  {
   "cell_type": "code",
   "execution_count": null,
   "metadata": {
    "ExecuteTime": {
     "end_time": "2021-11-05T02:06:21.981443Z",
     "start_time": "2021-11-05T02:06:21.812535Z"
    },
    "slideshow": {
     "slide_type": "fragment"
    }
   },
   "outputs": [],
   "source": [
    "plot_loss(hist)"
   ]
  },
  {
   "cell_type": "code",
   "execution_count": null,
   "metadata": {
    "ExecuteTime": {
     "end_time": "2021-11-05T02:06:25.113761Z",
     "start_time": "2021-11-05T02:06:24.971687Z"
    },
    "slideshow": {
     "slide_type": "fragment"
    }
   },
   "outputs": [],
   "source": [
    "plot_accuracy(hist)"
   ]
  },
  {
   "cell_type": "markdown",
   "metadata": {
    "slideshow": {
     "slide_type": "slide"
    }
   },
   "source": [
    "##### 최종검증"
   ]
  },
  {
   "cell_type": "code",
   "execution_count": null,
   "metadata": {
    "ExecuteTime": {
     "end_time": "2021-11-05T02:06:30.129792Z",
     "start_time": "2021-11-05T02:06:29.179663Z"
    },
    "slideshow": {
     "slide_type": "fragment"
    }
   },
   "outputs": [],
   "source": [
    "loss, acc = model.evaluate(test_dataset)"
   ]
  },
  {
   "cell_type": "code",
   "execution_count": null,
   "metadata": {
    "ExecuteTime": {
     "end_time": "2021-11-05T02:06:30.913374Z",
     "start_time": "2021-11-05T02:06:30.898351Z"
    },
    "slideshow": {
     "slide_type": "fragment"
    }
   },
   "outputs": [],
   "source": [
    "print(loss, acc)"
   ]
  },
  {
   "cell_type": "markdown",
   "metadata": {
    "slideshow": {
     "slide_type": "slide"
    }
   },
   "source": [
    "## prediction error가 발생한 example 확인\n",
    "- test dataset으로 예측한 결과중 틀린 것들을 확인해 본다."
   ]
  },
  {
   "cell_type": "code",
   "execution_count": null,
   "metadata": {
    "ExecuteTime": {
     "end_time": "2021-11-05T02:06:35.993714Z",
     "start_time": "2021-11-05T02:06:35.043520Z"
    },
    "slideshow": {
     "slide_type": "fragment"
    }
   },
   "outputs": [],
   "source": [
    "pred = model.predict(X_test)\n",
    "pred.shape"
   ]
  },
  {
   "cell_type": "code",
   "execution_count": null,
   "metadata": {
    "ExecuteTime": {
     "end_time": "2021-11-05T02:06:38.315408Z",
     "start_time": "2021-11-05T02:06:38.298432Z"
    },
    "slideshow": {
     "slide_type": "fragment"
    }
   },
   "outputs": [],
   "source": [
    "pred_label = np.argmax(pred, axis=-1)\n",
    "pred_label.shape"
   ]
  },
  {
   "cell_type": "code",
   "execution_count": null,
   "metadata": {
    "ExecuteTime": {
     "end_time": "2021-11-05T02:06:39.837431Z",
     "start_time": "2021-11-05T02:06:39.819438Z"
    },
    "slideshow": {
     "slide_type": "fragment"
    }
   },
   "outputs": [],
   "source": [
    "idx = np.where(test_label != pred_label)[0]\n",
    "idx.shape"
   ]
  },
  {
   "cell_type": "markdown",
   "metadata": {
    "slideshow": {
     "slide_type": "fragment"
    }
   },
   "source": [
    "##### confusion matrix 확인"
   ]
  },
  {
   "cell_type": "code",
   "execution_count": null,
   "metadata": {
    "ExecuteTime": {
     "end_time": "2021-11-05T02:08:43.283598Z",
     "start_time": "2021-11-05T02:08:43.252179Z"
    },
    "scrolled": true,
    "slideshow": {
     "slide_type": "fragment"
    }
   },
   "outputs": [],
   "source": [
    "from sklearn.metrics import confusion_matrix, plot_confusion_matrix, ConfusionMatrixDisplay\n",
    "\n",
    "confusion_matrix(test_label, pred_label)"
   ]
  },
  {
   "cell_type": "code",
   "execution_count": null,
   "metadata": {
    "ExecuteTime": {
     "end_time": "2021-11-05T03:17:01.130011Z",
     "start_time": "2021-11-05T03:17:00.709441Z"
    },
    "slideshow": {
     "slide_type": "fragment"
    }
   },
   "outputs": [],
   "source": [
    "import matplotlib.pyplot as plt\n",
    "\n",
    "plt.figure(figsize=(8,7))\n",
    "ax = plt.gca()\n",
    "\n",
    "cm = confusion_matrix(test_label, pred_label)\n",
    "disp = ConfusionMatrixDisplay(confusion_matrix=cm)\n",
    "disp.plot(cmap='Blues', ax=ax, values_format='d')\n",
    "plt.show()"
   ]
  },
  {
   "cell_type": "code",
   "execution_count": null,
   "metadata": {
    "ExecuteTime": {
     "end_time": "2021-11-05T02:50:58.599000Z",
     "start_time": "2021-11-05T02:50:58.253409Z"
    },
    "slideshow": {
     "slide_type": "slide"
    }
   },
   "outputs": [],
   "source": [
    "# 틀린 결과 중에 10개 확인\n",
    "import matplotlib.pyplot as plt\n",
    "\n",
    "plt.figure(figsize=(20,20))\n",
    "\n",
    "for i in range(10):  \n",
    "   \n",
    "    error_idx = idx[i]\n",
    "    \n",
    "    p = pred_label[error_idx]\n",
    "    y = test_label[error_idx]\n",
    "\n",
    "    plt.subplot(1, 10, i+1)\n",
    "    plt.imshow(test_image[error_idx], cmap='gray')\n",
    "    plt.title(\"y: {}, pred: {}\".format(y, p), fontsize=17)\n",
    "    plt.axis('off')\n",
    "\n",
    "plt.tight_layout()\n",
    "plt.show()"
   ]
  },
  {
   "cell_type": "markdown",
   "metadata": {
    "id": "RJUQJSEp66NR",
    "slideshow": {
     "slide_type": "slide"
    }
   },
   "source": [
    "# 학습한 모델 파일로 저장\n",
    "\n",
    "- **무엇을 저장할 지**\n",
    "    1. Train이 끝난 모델의 파라미터만 저장\n",
    "    1. 모델 구조와 파라미터 모두 저장\n",
    "\n",
    "- **저장시점**\n",
    "    1. Train 완료된 모델을 저장\n",
    "    1. Callback을 이용해 Train 도중 가장 성능이 좋은 시점의 모델을 저장"
   ]
  },
  {
   "cell_type": "markdown",
   "metadata": {
    "id": "2ARCyjDW66NR",
    "slideshow": {
     "slide_type": "fragment"
    }
   },
   "source": [
    "## 텐서플로 저장 파일 타입\n",
    "- checkpoint \n",
    "    - 모델의 weight를 저장하기 위한 타입\n",
    "- SavedModel \n",
    "    - 모델의 구조와 파라미터들을 모두 저장하는 타입"
   ]
  },
  {
   "cell_type": "markdown",
   "metadata": {
    "id": "6bAN1wPG66NS",
    "slideshow": {
     "slide_type": "fragment"
    }
   },
   "source": [
    "## 학습한 Weight (파라미터) 저장 및 불러오기\n",
    "- 가중치를 저장하여 나중에 재학습 없이 학습된 가중치를 사용할 수 있다.\n",
    "- 저장\n",
    "    - `model.save_weights(\"저장경로\")`\n",
    "- 불러오기\n",
    "    - `model.load_weights('불러올경로')`\n",
    "- 저장형식\n",
    "    - Tensorflow Checkpoint (기본방식)\n",
    "    - HDF5\n",
    "        - `save_weights(.., save_format='h5')`\n",
    "        - 또는 파일 확장자를 h5로 지정한다."
   ]
  },
  {
   "cell_type": "markdown",
   "metadata": {
    "slideshow": {
     "slide_type": "slide"
    }
   },
   "source": [
    "### Checkpoint 으로 저장"
   ]
  },
  {
   "cell_type": "markdown",
   "metadata": {
    "slideshow": {
     "slide_type": "fragment"
    }
   },
   "source": [
    "##### 저장할 경로 생성및 저장"
   ]
  },
  {
   "cell_type": "code",
   "execution_count": null,
   "metadata": {
    "ExecuteTime": {
     "end_time": "2021-11-05T02:24:34.859541Z",
     "start_time": "2021-11-05T02:24:34.844507Z"
    },
    "colab": {
     "base_uri": "https://localhost:8080/"
    },
    "executionInfo": {
     "elapsed": 1325,
     "status": "ok",
     "timestamp": 1619083065235,
     "user": {
      "displayName": "김성환",
      "photoUrl": "https://lh3.googleusercontent.com/a-/AOh14GjqNkeEG8Sp5Fmsq56VZoiRsSxwUXmtH2Mb14M3YQA=s64",
      "userId": "02802166581970122576"
     },
     "user_tz": -540
    },
    "id": "3GsR7js61vxq",
    "outputId": "ac3604b6-1fde-4099-8c2a-29d9da9f8b04",
    "slideshow": {
     "slide_type": "fragment"
    }
   },
   "outputs": [],
   "source": [
    "import os\n",
    "\n",
    "base_dir = \"/content/drive/MyDrive/saved_models\"\n",
    "mnist_weight_dir = os.path.join(base_dir, \"mnist_weight\")\n",
    "print(mnist_weight_dir)\n",
    "\n",
    "if not os.path.isdir(mnist_weight_dir):\n",
    "    os.makedirs(mnist_weight_dir)\n",
    "    \n",
    "weight_file_path = os.path.join(mnist_weight_dir, \"mnist_weight.ckpt\")\n",
    "\n",
    "print(weight_file_path)"
   ]
  },
  {
   "cell_type": "code",
   "execution_count": null,
   "metadata": {
    "ExecuteTime": {
     "end_time": "2021-11-05T02:24:41.623513Z",
     "start_time": "2021-11-05T02:24:41.524411Z"
    },
    "executionInfo": {
     "elapsed": 1078,
     "status": "ok",
     "timestamp": 1619083085844,
     "user": {
      "displayName": "김성환",
      "photoUrl": "https://lh3.googleusercontent.com/a-/AOh14GjqNkeEG8Sp5Fmsq56VZoiRsSxwUXmtH2Mb14M3YQA=s64",
      "userId": "02802166581970122576"
     },
     "user_tz": -540
    },
    "id": "buuA-01I66NS",
    "slideshow": {
     "slide_type": "fragment"
    }
   },
   "outputs": [],
   "source": [
    "model.save_weights(weight_file_path)"
   ]
  },
  {
   "cell_type": "code",
   "execution_count": null,
   "metadata": {
    "ExecuteTime": {
     "end_time": "2021-11-05T02:25:34.723553Z",
     "start_time": "2021-11-05T02:25:34.644399Z"
    },
    "colab": {
     "base_uri": "https://localhost:8080/"
    },
    "executionInfo": {
     "elapsed": 1170,
     "status": "ok",
     "timestamp": 1619083122257,
     "user": {
      "displayName": "김성환",
      "photoUrl": "https://lh3.googleusercontent.com/a-/AOh14GjqNkeEG8Sp5Fmsq56VZoiRsSxwUXmtH2Mb14M3YQA=s64",
      "userId": "02802166581970122576"
     },
     "user_tz": -540
    },
    "id": "6kso54X766NT",
    "outputId": "d78c7553-4083-4d62-9d06-eeb2dd4f9859",
    "scrolled": true,
    "slideshow": {
     "slide_type": "fragment"
    }
   },
   "outputs": [],
   "source": [
    "new_model1 = create_mnist_model()\n",
    "new_model1.compile(optimizer=keras.optimizers.Adam(learning_rate=LEARNING_RATE), loss='categorical_crossentropy', \n",
    "                  metrics=['accuracy'])"
   ]
  },
  {
   "cell_type": "code",
   "execution_count": null,
   "metadata": {
    "ExecuteTime": {
     "end_time": "2021-11-05T02:25:36.368142Z",
     "start_time": "2021-11-05T02:25:35.284228Z"
    },
    "colab": {
     "base_uri": "https://localhost:8080/"
    },
    "executionInfo": {
     "elapsed": 1592,
     "status": "ok",
     "timestamp": 1619083125126,
     "user": {
      "displayName": "김성환",
      "photoUrl": "https://lh3.googleusercontent.com/a-/AOh14GjqNkeEG8Sp5Fmsq56VZoiRsSxwUXmtH2Mb14M3YQA=s64",
      "userId": "02802166581970122576"
     },
     "user_tz": -540
    },
    "id": "xzyaLMAC66NT",
    "outputId": "33cc6e52-0e7c-4017-c3e9-2570eaa8c673",
    "slideshow": {
     "slide_type": "fragment"
    }
   },
   "outputs": [],
   "source": [
    "new_model1.evaluate(test_dataset)"
   ]
  },
  {
   "cell_type": "code",
   "execution_count": null,
   "metadata": {
    "ExecuteTime": {
     "end_time": "2021-11-05T02:25:42.562783Z",
     "start_time": "2021-11-05T02:25:42.459716Z"
    },
    "colab": {
     "base_uri": "https://localhost:8080/"
    },
    "executionInfo": {
     "elapsed": 972,
     "status": "ok",
     "timestamp": 1619083135335,
     "user": {
      "displayName": "김성환",
      "photoUrl": "https://lh3.googleusercontent.com/a-/AOh14GjqNkeEG8Sp5Fmsq56VZoiRsSxwUXmtH2Mb14M3YQA=s64",
      "userId": "02802166581970122576"
     },
     "user_tz": -540
    },
    "id": "ZGQl2i9Q66NT",
    "outputId": "0a76d386-c238-41bb-b9b4-ea6680d8b640",
    "scrolled": true,
    "slideshow": {
     "slide_type": "fragment"
    }
   },
   "outputs": [],
   "source": [
    "new_model1.load_weights(weight_file_path)"
   ]
  },
  {
   "cell_type": "code",
   "execution_count": null,
   "metadata": {
    "ExecuteTime": {
     "end_time": "2021-11-05T02:25:45.396203Z",
     "start_time": "2021-11-05T02:25:44.476226Z"
    },
    "colab": {
     "base_uri": "https://localhost:8080/"
    },
    "executionInfo": {
     "elapsed": 1717,
     "status": "ok",
     "timestamp": 1619083140080,
     "user": {
      "displayName": "김성환",
      "photoUrl": "https://lh3.googleusercontent.com/a-/AOh14GjqNkeEG8Sp5Fmsq56VZoiRsSxwUXmtH2Mb14M3YQA=s64",
      "userId": "02802166581970122576"
     },
     "user_tz": -540
    },
    "id": "qpYckeJ866NT",
    "outputId": "b541db1b-aef7-4f3f-fe98-b4b23989e389",
    "slideshow": {
     "slide_type": "fragment"
    }
   },
   "outputs": [],
   "source": [
    "new_model1.evaluate(test_dataset)"
   ]
  },
  {
   "cell_type": "markdown",
   "metadata": {
    "id": "gbIB2qCX66NU",
    "slideshow": {
     "slide_type": "slide"
    }
   },
   "source": [
    "### h5 형식으로 저장"
   ]
  },
  {
   "cell_type": "code",
   "execution_count": null,
   "metadata": {
    "ExecuteTime": {
     "end_time": "2021-11-05T02:25:49.559603Z",
     "start_time": "2021-11-05T02:25:49.541570Z"
    },
    "executionInfo": {
     "elapsed": 1973,
     "status": "ok",
     "timestamp": 1619083889049,
     "user": {
      "displayName": "김성환",
      "photoUrl": "https://lh3.googleusercontent.com/a-/AOh14GjqNkeEG8Sp5Fmsq56VZoiRsSxwUXmtH2Mb14M3YQA=s64",
      "userId": "02802166581970122576"
     },
     "user_tz": -540
    },
    "id": "JUci2ty166NU",
    "slideshow": {
     "slide_type": "fragment"
    }
   },
   "outputs": [],
   "source": [
    "weight_h5_dir = os.path.join(base_dir, \"mnist_weight_h5\")\n",
    "if not os.path.isdir(weight_h5_dir):\n",
    "    os.makedirs(weight_h5_dir, exist_ok=True)\n",
    "weight_h5_path = os.path.join(weight_h5_dir, \"mnist_weight.h5\")"
   ]
  },
  {
   "cell_type": "code",
   "execution_count": null,
   "metadata": {
    "ExecuteTime": {
     "end_time": "2021-11-05T02:25:58.586430Z",
     "start_time": "2021-11-05T02:25:58.556455Z"
    },
    "executionInfo": {
     "elapsed": 982,
     "status": "ok",
     "timestamp": 1619083962606,
     "user": {
      "displayName": "김성환",
      "photoUrl": "https://lh3.googleusercontent.com/a-/AOh14GjqNkeEG8Sp5Fmsq56VZoiRsSxwUXmtH2Mb14M3YQA=s64",
      "userId": "02802166581970122576"
     },
     "user_tz": -540
    },
    "id": "GOUWp-N266NU",
    "slideshow": {
     "slide_type": "fragment"
    }
   },
   "outputs": [],
   "source": [
    "model.save_weights(weight_h5_path, save_format='h5')"
   ]
  },
  {
   "cell_type": "code",
   "execution_count": null,
   "metadata": {
    "ExecuteTime": {
     "end_time": "2021-11-05T02:26:20.464832Z",
     "start_time": "2021-11-05T02:26:20.388274Z"
    },
    "executionInfo": {
     "elapsed": 1051,
     "status": "ok",
     "timestamp": 1619083968528,
     "user": {
      "displayName": "김성환",
      "photoUrl": "https://lh3.googleusercontent.com/a-/AOh14GjqNkeEG8Sp5Fmsq56VZoiRsSxwUXmtH2Mb14M3YQA=s64",
      "userId": "02802166581970122576"
     },
     "user_tz": -540
    },
    "id": "QwcVSWg866NU",
    "slideshow": {
     "slide_type": "fragment"
    }
   },
   "outputs": [],
   "source": [
    "new_model2 = create_mnist_model()\n",
    "new_model2.compile(optimizer=keras.optimizers.Adam(LEARNING_RATE),\n",
    "                  loss='categorical_crossentropy',\n",
    "                  metrics=['accuracy'])"
   ]
  },
  {
   "cell_type": "code",
   "execution_count": null,
   "metadata": {
    "ExecuteTime": {
     "end_time": "2021-11-05T02:26:27.503377Z",
     "start_time": "2021-11-05T02:26:26.363406Z"
    },
    "colab": {
     "base_uri": "https://localhost:8080/"
    },
    "executionInfo": {
     "elapsed": 1622,
     "status": "ok",
     "timestamp": 1619083970723,
     "user": {
      "displayName": "김성환",
      "photoUrl": "https://lh3.googleusercontent.com/a-/AOh14GjqNkeEG8Sp5Fmsq56VZoiRsSxwUXmtH2Mb14M3YQA=s64",
      "userId": "02802166581970122576"
     },
     "user_tz": -540
    },
    "id": "9FVsuX8G66NU",
    "outputId": "4edba0b6-585d-42ca-efb4-fdb9566ef54d",
    "slideshow": {
     "slide_type": "fragment"
    }
   },
   "outputs": [],
   "source": [
    "new_model2.evaluate(test_dataset)"
   ]
  },
  {
   "cell_type": "code",
   "execution_count": null,
   "metadata": {
    "ExecuteTime": {
     "end_time": "2021-11-05T02:26:28.590543Z",
     "start_time": "2021-11-05T02:26:28.547514Z"
    },
    "executionInfo": {
     "elapsed": 3078,
     "status": "ok",
     "timestamp": 1619083978905,
     "user": {
      "displayName": "김성환",
      "photoUrl": "https://lh3.googleusercontent.com/a-/AOh14GjqNkeEG8Sp5Fmsq56VZoiRsSxwUXmtH2Mb14M3YQA=s64",
      "userId": "02802166581970122576"
     },
     "user_tz": -540
    },
    "id": "icTNgSL366NV",
    "slideshow": {
     "slide_type": "fragment"
    }
   },
   "outputs": [],
   "source": [
    "new_model2.load_weights(weight_h5_path)"
   ]
  },
  {
   "cell_type": "code",
   "execution_count": null,
   "metadata": {
    "ExecuteTime": {
     "end_time": "2021-11-05T02:27:02.615038Z",
     "start_time": "2021-11-05T02:27:01.684432Z"
    },
    "colab": {
     "base_uri": "https://localhost:8080/"
    },
    "executionInfo": {
     "elapsed": 1569,
     "status": "ok",
     "timestamp": 1619083984490,
     "user": {
      "displayName": "김성환",
      "photoUrl": "https://lh3.googleusercontent.com/a-/AOh14GjqNkeEG8Sp5Fmsq56VZoiRsSxwUXmtH2Mb14M3YQA=s64",
      "userId": "02802166581970122576"
     },
     "user_tz": -540
    },
    "id": "KCgJpkxq66NV",
    "outputId": "e7e01e00-24dc-4c22-e42e-0f0e760ffc5f",
    "slideshow": {
     "slide_type": "fragment"
    }
   },
   "outputs": [],
   "source": [
    "new_model2.evaluate(test_dataset)"
   ]
  },
  {
   "cell_type": "markdown",
   "metadata": {
    "id": "shNUg6al66NV",
    "slideshow": {
     "slide_type": "slide"
    }
   },
   "source": [
    "## 전체 모델 저장하고 불러오기\n",
    "- https://www.tensorflow.org/guide/keras/save_and_serialize?hl=ko\n",
    "- 저장\n",
    "    - `model.save('저장할디렉토리')`\n",
    "- 불러오기\n",
    "    - `tf.keras.models.load_model('저장된디렉토리')`\n",
    "- 저장 형식\n",
    "    - Tensorflow SavedModel 형식(기본방식)\n",
    "        - 모델 아키텍처 및 훈련 구성(옵티마이저, 손실 및 메트릭 포함)은 saved_model.pb 에 저장된다.\n",
    "        - 파라미터는 variables/ 디렉토리에 저장된다.\n",
    "        - https://www.tensorflow.org/guide/saved_model?hl=ko#the_savedmodel_format_on_disk\n",
    "    - HDF5 형식\n",
    "        - `save(..., save_format='h5')` \n",
    "        - 또는 파일의 확장자를 h5로 지정한다."
   ]
  },
  {
   "cell_type": "markdown",
   "metadata": {
    "id": "GTAMYpGw66NX",
    "slideshow": {
     "slide_type": "slide"
    }
   },
   "source": [
    "###  Saved Model 형식으로 모델 저장\n",
    "- 경로(디렉토리) 만 지정한다."
   ]
  },
  {
   "cell_type": "code",
   "execution_count": null,
   "metadata": {
    "ExecuteTime": {
     "end_time": "2021-11-05T02:28:16.402402Z",
     "start_time": "2021-11-05T02:28:16.387408Z"
    },
    "executionInfo": {
     "elapsed": 1017,
     "status": "ok",
     "timestamp": 1619084424834,
     "user": {
      "displayName": "김성환",
      "photoUrl": "https://lh3.googleusercontent.com/a-/AOh14GjqNkeEG8Sp5Fmsq56VZoiRsSxwUXmtH2Mb14M3YQA=s64",
      "userId": "02802166581970122576"
     },
     "user_tz": -540
    },
    "id": "S0yYq-cZ8gDB",
    "slideshow": {
     "slide_type": "fragment"
    }
   },
   "outputs": [],
   "source": [
    "mnist_model_dir = os.path.join(base_dir, 'mnist_model')\n",
    "print(mnist_model_dir, type(mnist_model_dir))\n",
    "if not os.path.isdir(mnist_model_dir):\n",
    "    os.mkdir(mnist_model_dir) "
   ]
  },
  {
   "cell_type": "code",
   "execution_count": null,
   "metadata": {
    "ExecuteTime": {
     "end_time": "2021-11-05T02:28:18.993052Z",
     "start_time": "2021-11-05T02:28:18.067642Z"
    },
    "colab": {
     "base_uri": "https://localhost:8080/"
    },
    "executionInfo": {
     "elapsed": 2142,
     "status": "ok",
     "timestamp": 1619084431424,
     "user": {
      "displayName": "김성환",
      "photoUrl": "https://lh3.googleusercontent.com/a-/AOh14GjqNkeEG8Sp5Fmsq56VZoiRsSxwUXmtH2Mb14M3YQA=s64",
      "userId": "02802166581970122576"
     },
     "user_tz": -540
    },
    "id": "PR5lIqET8wMy",
    "outputId": "e46338d8-b37f-453c-b4b8-1ab62979a87e",
    "slideshow": {
     "slide_type": "fragment"
    }
   },
   "outputs": [],
   "source": [
    "model.save(mnist_model_dir)"
   ]
  },
  {
   "cell_type": "code",
   "execution_count": null,
   "metadata": {
    "ExecuteTime": {
     "end_time": "2021-11-05T02:28:20.146352Z",
     "start_time": "2021-11-05T02:28:19.748174Z"
    },
    "executionInfo": {
     "elapsed": 1582,
     "status": "ok",
     "timestamp": 1619084447329,
     "user": {
      "displayName": "김성환",
      "photoUrl": "https://lh3.googleusercontent.com/a-/AOh14GjqNkeEG8Sp5Fmsq56VZoiRsSxwUXmtH2Mb14M3YQA=s64",
      "userId": "02802166581970122576"
     },
     "user_tz": -540
    },
    "id": "au-pjyoq66NY",
    "slideshow": {
     "slide_type": "fragment"
    }
   },
   "outputs": [],
   "source": [
    "new_model3 = keras.models.load_model(mnist_model_dir)\n",
    "\n",
    "new_model3.summary()"
   ]
  },
  {
   "cell_type": "code",
   "execution_count": null,
   "metadata": {
    "ExecuteTime": {
     "end_time": "2021-11-05T02:28:21.662414Z",
     "start_time": "2021-11-05T02:28:20.699619Z"
    },
    "colab": {
     "base_uri": "https://localhost:8080/"
    },
    "executionInfo": {
     "elapsed": 1782,
     "status": "ok",
     "timestamp": 1619084450925,
     "user": {
      "displayName": "김성환",
      "photoUrl": "https://lh3.googleusercontent.com/a-/AOh14GjqNkeEG8Sp5Fmsq56VZoiRsSxwUXmtH2Mb14M3YQA=s64",
      "userId": "02802166581970122576"
     },
     "user_tz": -540
    },
    "id": "aOmhPwh_66NY",
    "outputId": "c2f2124d-ff66-4564-b7be-756067da7f21",
    "slideshow": {
     "slide_type": "fragment"
    }
   },
   "outputs": [],
   "source": [
    "new_model3.evaluate(test_dataset)"
   ]
  },
  {
   "cell_type": "markdown",
   "metadata": {
    "slideshow": {
     "slide_type": "slide"
    }
   },
   "source": [
    "### H5 형식으로 모델 저장"
   ]
  },
  {
   "cell_type": "code",
   "execution_count": null,
   "metadata": {
    "ExecuteTime": {
     "end_time": "2021-11-05T02:31:53.041967Z",
     "start_time": "2021-11-05T02:31:53.028937Z"
    },
    "executionInfo": {
     "elapsed": 1162,
     "status": "ok",
     "timestamp": 1619084215116,
     "user": {
      "displayName": "김성환",
      "photoUrl": "https://lh3.googleusercontent.com/a-/AOh14GjqNkeEG8Sp5Fmsq56VZoiRsSxwUXmtH2Mb14M3YQA=s64",
      "userId": "02802166581970122576"
     },
     "user_tz": -540
    },
    "id": "cKm7ThE766NW",
    "slideshow": {
     "slide_type": "fragment"
    }
   },
   "outputs": [],
   "source": [
    "model_h5_dir = os.path.join(base_dir, 'mnist_model_h5')\n",
    "\n",
    "if not os.path.join(model_h5_dir):\n",
    "    os.makedirs(model_h5_dir, exist_ok=True)\n",
    "\n",
    "model_h5_path = os.path.join(model_h5_dir, \"mnist_model.h5\")"
   ]
  },
  {
   "cell_type": "code",
   "execution_count": null,
   "metadata": {
    "ExecuteTime": {
     "end_time": "2021-11-05T02:32:10.471919Z",
     "start_time": "2021-11-05T02:32:10.388634Z"
    },
    "executionInfo": {
     "elapsed": 1132,
     "status": "ok",
     "timestamp": 1619084225204,
     "user": {
      "displayName": "김성환",
      "photoUrl": "https://lh3.googleusercontent.com/a-/AOh14GjqNkeEG8Sp5Fmsq56VZoiRsSxwUXmtH2Mb14M3YQA=s64",
      "userId": "02802166581970122576"
     },
     "user_tz": -540
    },
    "id": "9OJ0hNog66NW",
    "slideshow": {
     "slide_type": "fragment"
    }
   },
   "outputs": [],
   "source": [
    "model.save(model_h5_path, save_format='h5')"
   ]
  },
  {
   "cell_type": "code",
   "execution_count": null,
   "metadata": {
    "ExecuteTime": {
     "end_time": "2021-11-05T02:32:14.737782Z",
     "start_time": "2021-11-05T02:32:14.588337Z"
    },
    "colab": {
     "base_uri": "https://localhost:8080/"
    },
    "executionInfo": {
     "elapsed": 3600,
     "status": "ok",
     "timestamp": 1619084275836,
     "user": {
      "displayName": "김성환",
      "photoUrl": "https://lh3.googleusercontent.com/a-/AOh14GjqNkeEG8Sp5Fmsq56VZoiRsSxwUXmtH2Mb14M3YQA=s64",
      "userId": "02802166581970122576"
     },
     "user_tz": -540
    },
    "id": "InPefrxy66NX",
    "outputId": "2f889129-4f0e-4c5e-a12b-d4601c130993",
    "slideshow": {
     "slide_type": "fragment"
    }
   },
   "outputs": [],
   "source": [
    "new_model4 = keras.models.load_model(model_h5_path)\n",
    "\n",
    "new_model4.summary()"
   ]
  },
  {
   "cell_type": "code",
   "execution_count": null,
   "metadata": {
    "ExecuteTime": {
     "end_time": "2021-11-05T02:32:18.706775Z",
     "start_time": "2021-11-05T02:32:17.669377Z"
    },
    "colab": {
     "base_uri": "https://localhost:8080/"
    },
    "executionInfo": {
     "elapsed": 1622,
     "status": "ok",
     "timestamp": 1619084282431,
     "user": {
      "displayName": "김성환",
      "photoUrl": "https://lh3.googleusercontent.com/a-/AOh14GjqNkeEG8Sp5Fmsq56VZoiRsSxwUXmtH2Mb14M3YQA=s64",
      "userId": "02802166581970122576"
     },
     "user_tz": -540
    },
    "id": "wcNFFRU766NX",
    "outputId": "390e9fe5-cb06-4234-aac6-0309dab0b8df",
    "slideshow": {
     "slide_type": "fragment"
    }
   },
   "outputs": [],
   "source": [
    "new_model4.evaluate(test_dataset)"
   ]
  },
  {
   "cell_type": "markdown",
   "metadata": {
    "id": "7xgQxAU666NZ",
    "slideshow": {
     "slide_type": "slide"
    }
   },
   "source": [
    "## Callback을 사용한 모델 저장 및 Early Stopping\n",
    "- callback은 학습하는 도중 특정 이벤트 발생시 호출되는 다양한 함수를 제공하여 자동화 처리를 지원한다. (cf: 프로그래밍의 콜백함수)\n",
    "- 다양한 콜백 클래스가 제공된다.\n",
    "    - https://www.tensorflow.org/api_docs/python/tf/keras/callbacks\n",
    "- ### ModelCheckpoint\n",
    "    - 각 epoch 마다 학습한 모델과 weight(또는 weight만)를 저장한다. \n",
    "    - 지정한 평가지표(예:validation loss)가 가장 좋을 때 모델과 weight만 저장할 수 있다.\n",
    "    - 주요 파라미터\n",
    "        - `save_weights_only=True`: True: 파라미터(weight)만 저장한다. False: 모델구조와 파라미터 모두 저장한다.\n",
    "        - `save_best_only=True`: 학습중 성능이 개선될 때만 저장한다. (False:기본값 - 모든 에폭마다 저장한다.)\n",
    "- ### EarlyStopping\n",
    "    - Validation set에 대한 평가지표가  더 이상 개선되지 않을 때 학습을 자동으로 멈추는 callback\n",
    "    - 주요 파라미터\n",
    "        - `monitor`: 모니터링할 평가지표 지정. (ex: accuracy)\n",
    "        - `patience`: epoch 수 지정. validation 평가 지표가 개선이 안되더라도 지정한 epoch만큼 반복한다. 지정한 epoch만큼 반복 후에도 개선이 되지 않으면 중단한다. \n",
    "\n",
    "- **callback 객체들을 리스트로 묶은 뒤 fit()의 callbacks 매개변수에 전달한다.**"
   ]
  },
  {
   "cell_type": "code",
   "execution_count": null,
   "metadata": {
    "ExecuteTime": {
     "end_time": "2021-11-05T02:35:39.789591Z",
     "start_time": "2021-11-05T02:35:39.708482Z"
    },
    "id": "J59mb-W166NZ",
    "slideshow": {
     "slide_type": "slide"
    }
   },
   "outputs": [],
   "source": [
    "model2 = create_mnist_model()\n",
    "model2.compile(optimizer='adam', \n",
    "               loss='categorical_crossentropy', \n",
    "               metrics=['accuracy'])"
   ]
  },
  {
   "cell_type": "code",
   "execution_count": null,
   "metadata": {
    "ExecuteTime": {
     "end_time": "2021-11-05T02:43:07.219856Z",
     "start_time": "2021-11-05T02:43:07.211861Z"
    },
    "executionInfo": {
     "elapsed": 940,
     "status": "ok",
     "timestamp": 1619085999294,
     "user": {
      "displayName": "김성환",
      "photoUrl": "https://lh3.googleusercontent.com/a-/AOh14GjqNkeEG8Sp5Fmsq56VZoiRsSxwUXmtH2Mb14M3YQA=s64",
      "userId": "02802166581970122576"
     },
     "user_tz": -540
    },
    "id": "4TQggaQT66NZ",
    "slideshow": {
     "slide_type": "fragment"
    }
   },
   "outputs": [],
   "source": [
    "checkpoint_save_dir = os.path.join(base_dir, 'mnist_callback')\n",
    "if not os.path.isdir(checkpoint_save_dir):\n",
    "    os.mkdir(checkpoint_save_dir)\n",
    "\n",
    "saved_model_path = os.path.join(checkpoint_save_dir, 'mnist_ckpt2')\n",
    "# checkpoint_save_file = os.path.join(checkpoint_save_dir, 'mnist_ckpt')"
   ]
  },
  {
   "cell_type": "code",
   "execution_count": null,
   "metadata": {
    "ExecuteTime": {
     "end_time": "2021-11-05T02:44:05.048375Z",
     "start_time": "2021-11-05T02:44:05.039336Z"
    },
    "colab": {
     "base_uri": "https://localhost:8080/"
    },
    "executionInfo": {
     "elapsed": 152594,
     "status": "ok",
     "timestamp": 1619086442975,
     "user": {
      "displayName": "김성환",
      "photoUrl": "https://lh3.googleusercontent.com/a-/AOh14GjqNkeEG8Sp5Fmsq56VZoiRsSxwUXmtH2Mb14M3YQA=s64",
      "userId": "02802166581970122576"
     },
     "user_tz": -540
    },
    "id": "4kxhcRpn66Na",
    "outputId": "f5c2512a-f979-4b39-9ff4-c9ace7660b39",
    "slideshow": {
     "slide_type": "fragment"
    }
   },
   "outputs": [],
   "source": [
    "mc_callback = keras.callbacks.ModelCheckpoint(filepath=saved_model_path, \n",
    "                          save_best_only=True, \n",
    "#                           save_weights_only=True,\n",
    "                          monitor='val_loss',  \n",
    "                          verbose=1)"
   ]
  },
  {
   "cell_type": "code",
   "execution_count": null,
   "metadata": {
    "ExecuteTime": {
     "end_time": "2021-11-05T02:44:05.533392Z",
     "start_time": "2021-11-05T02:44:05.524419Z"
    },
    "colab": {
     "base_uri": "https://localhost:8080/"
    },
    "executionInfo": {
     "elapsed": 152594,
     "status": "ok",
     "timestamp": 1619086442975,
     "user": {
      "displayName": "김성환",
      "photoUrl": "https://lh3.googleusercontent.com/a-/AOh14GjqNkeEG8Sp5Fmsq56VZoiRsSxwUXmtH2Mb14M3YQA=s64",
      "userId": "02802166581970122576"
     },
     "user_tz": -540
    },
    "id": "4kxhcRpn66Na",
    "outputId": "f5c2512a-f979-4b39-9ff4-c9ace7660b39",
    "slideshow": {
     "slide_type": "fragment"
    }
   },
   "outputs": [],
   "source": [
    "es_callback = keras.callbacks.EarlyStopping(monitor='val_loss',\n",
    "                                            patience=5,\n",
    "                                            verbose=1)"
   ]
  },
  {
   "cell_type": "code",
   "execution_count": null,
   "metadata": {
    "ExecuteTime": {
     "end_time": "2021-11-05T02:44:50.318132Z",
     "start_time": "2021-11-05T02:44:06.500503Z"
    },
    "colab": {
     "base_uri": "https://localhost:8080/"
    },
    "executionInfo": {
     "elapsed": 152594,
     "status": "ok",
     "timestamp": 1619086442975,
     "user": {
      "displayName": "김성환",
      "photoUrl": "https://lh3.googleusercontent.com/a-/AOh14GjqNkeEG8Sp5Fmsq56VZoiRsSxwUXmtH2Mb14M3YQA=s64",
      "userId": "02802166581970122576"
     },
     "user_tz": -540
    },
    "id": "4kxhcRpn66Na",
    "outputId": "f5c2512a-f979-4b39-9ff4-c9ace7660b39",
    "slideshow": {
     "slide_type": "fragment"
    }
   },
   "outputs": [],
   "source": [
    "hist = model2.fit(train_dataset, epochs=5, validation_data=test_dataset,\n",
    "                  callbacks=[mc_callback, es_callback])"
   ]
  },
  {
   "cell_type": "code",
   "execution_count": null,
   "metadata": {
    "ExecuteTime": {
     "end_time": "2021-11-05T02:45:45.857251Z",
     "start_time": "2021-11-05T02:45:45.444137Z"
    },
    "slideshow": {
     "slide_type": "fragment"
    }
   },
   "outputs": [],
   "source": [
    "new_model5 = keras.models.load_model(saved_model_path)"
   ]
  },
  {
   "cell_type": "code",
   "execution_count": null,
   "metadata": {
    "ExecuteTime": {
     "end_time": "2021-11-05T02:45:52.082733Z",
     "start_time": "2021-11-05T02:45:51.037514Z"
    },
    "slideshow": {
     "slide_type": "fragment"
    }
   },
   "outputs": [],
   "source": [
    "new_model5.evaluate(test_dataset)"
   ]
  }
 ],
 "metadata": {
  "accelerator": "GPU",
  "colab": {
   "collapsed_sections": [
    "2ARCyjDW66NR",
    "6bAN1wPG66NS",
    "shNUg6al66NV",
    "7xgQxAU666NZ"
   ],
   "name": "07_CNN_MNIST분류, 모델저장.ipynb",
   "provenance": [],
   "toc_visible": true
  },
  "kernelspec": {
   "display_name": "Python 3 (ipykernel)",
   "language": "python",
   "name": "python3"
  },
  "language_info": {
   "codemirror_mode": {
    "name": "ipython",
    "version": 3
   },
   "file_extension": ".py",
   "mimetype": "text/x-python",
   "name": "python",
   "nbconvert_exporter": "python",
   "pygments_lexer": "ipython3",
   "version": "3.8.13"
  },
  "toc": {
   "base_numbering": 1,
   "nav_menu": {},
   "number_sections": true,
   "sideBar": true,
   "skip_h1_title": false,
   "title_cell": "Table of Contents",
   "title_sidebar": "Contents",
   "toc_cell": false,
   "toc_position": {},
   "toc_section_display": true,
   "toc_window_display": false
  },
  "varInspector": {
   "cols": {
    "lenName": 16,
    "lenType": 16,
    "lenVar": 40
   },
   "kernels_config": {
    "python": {
     "delete_cmd_postfix": "",
     "delete_cmd_prefix": "del ",
     "library": "var_list.py",
     "varRefreshCmd": "print(var_dic_list())"
    },
    "r": {
     "delete_cmd_postfix": ") ",
     "delete_cmd_prefix": "rm(",
     "library": "var_list.r",
     "varRefreshCmd": "cat(var_dic_list()) "
    }
   },
   "types_to_exclude": [
    "module",
    "function",
    "builtin_function_or_method",
    "instance",
    "_Feature"
   ],
   "window_display": false
  }
 },
 "nbformat": 4,
 "nbformat_minor": 1
}
