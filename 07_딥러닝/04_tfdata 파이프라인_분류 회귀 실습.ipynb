{
 "cells": [
  {
   "cell_type": "markdown",
   "metadata": {
    "slideshow": {
     "slide_type": "slide"
    }
   },
   "source": [
    "# tf.data 모듈\n",
    "- 데이터 입력 파이프라인을 위한 모듈\n",
    "    - 모델 학습/평가를 위한 대용량 데이터셋을 제공(feeding)하기 위한 모듈\n",
    "    - raw dataset 에서 입력을 위한 **전처리**, **배치 크키**, **shuffling**등을 한번에 처리할 수 있게 한다.\n",
    "- tf.data.Dataset 추상클래스에서 상속된 여러가지 클래스들을 제공\n",
    "    - 입력 소스의 제공 형태에 따라 다양한 방식을 제공"
   ]
  },
  {
   "cell_type": "markdown",
   "metadata": {
    "slideshow": {
     "slide_type": "fragment"
    }
   },
   "source": [
    "## Dataset API 사용\n",
    "1. **Dataset 생성**\n",
    "    - raw dataset을 지정 (Loading)\n",
    "    - from_tensor_slices(), from_generator() 클래스 메소드, tf.data.TFRecordDataset 클래스등를 사용해 메모리나 파일에 있는 데이터를 Dataset으로 만든다.\n",
    "    - **from_tensor_slices()**: 메모리의 리스트, 넘파이배열, 텐서플로 자료형에서 데이터를 생성한다."
   ]
  },
  {
   "cell_type": "markdown",
   "metadata": {
    "slideshow": {
     "slide_type": "fragment"
    }
   },
   "source": [
    "2. **제공 데이터 전처리**\n",
    "    - **map(함수)**: 하나 하나의 데이터를 변환\n",
    "        - 함수: 값을 변환할 함수로 입력데이터셋의 개수만큼 매개변수 선언\n",
    "    - **filter(함수)**: 특정 조건의 데이터만 제공하도록 처리.\n",
    "        - 함수: 제공할 값의 조건을 정의한 함수로 입력데이터셋의 개수만큼 매개변수 선언하고 bool 값을 반환."
   ]
  },
  {
   "cell_type": "markdown",
   "metadata": {
    "slideshow": {
     "slide_type": "fragment"
    }
   },
   "source": [
    "3. **데이터 제공 설정 관련**\n",
    "    - **batch(size)**: 학습/평가시 한번에 제공할 batch size 지정\n",
    "        - size: int. batch size 지정\n",
    "        - drop_remainder: bool. True일 경우 마지막 제공시 남은 데이터수가 batch size보다 작으면 제공하지 않는다.\n",
    "    - **shuffle(buffer 크기)**: dataset의 원소들의 순서를 섞는다. \n",
    "        - buffer 크기: int. buffer 크기는 섞는 공간의 크기로  **데이터보다 크거나 같으면** 완전셔플, **적으면 일부만 가져와서 섞어** 완전셔플이 안된다.\n",
    "        - 데이터 사이즈가 너무 커서 메모리가 부족할 경우 버퍼크기를 적게 준다.\n",
    "        - 메모리가 충분하다면 데이터의 개수와 동일하게 주면된다.\n",
    "    - **repeat(count)**: 전체 데이터를 한번 다 제공한 뒤 다시 데이터를 제공한다.\n",
    "        - count: 몇번 제공할지 반복 횟수\n",
    "        - shuffle이 적용된 Dataset의 경우 다음 반복 제공마다 shuffle을 진행한다. (에폭단위)\n",
    "        "
   ]
  },
  {
   "cell_type": "markdown",
   "metadata": {
    "slideshow": {
     "slide_type": "fragment"
    }
   },
   "source": [
    "- 각 tf.data 함수들은 각 기능에 맞게 데이터를 처리하는 Dataset 객체를 반환한다."
   ]
  },
  {
   "cell_type": "markdown",
   "metadata": {
    "slideshow": {
     "slide_type": "fragment"
    }
   },
   "source": [
    "### Dataset 메소드\n",
    "- take(개수): 지정한 개수만큼의 데이터만 제공한다."
   ]
  },
  {
   "cell_type": "code",
   "execution_count": 1,
   "metadata": {
    "ExecuteTime": {
     "end_time": "2021-11-03T00:17:05.174429Z",
     "start_time": "2021-11-03T00:16:59.147864Z"
    },
    "slideshow": {
     "slide_type": "slide"
    }
   },
   "outputs": [],
   "source": [
    "import tensorflow as tf\n",
    "import numpy as np"
   ]
  },
  {
   "cell_type": "markdown",
   "metadata": {
    "slideshow": {
     "slide_type": "fragment"
    }
   },
   "source": [
    "##### Tensor\n",
    "- TensorFlow의 기본 data type. \n",
    "- numpy가 ndarray를 이용해 데이터를 관리하듯이 tensorflow를 Tensor를 이용해 데이터를 관리한다.\n",
    "    - Tensorflow의 모델이 학습, 평가할때 사용하는 데이터셋(train dataset, validation dataset, test dataset)은 tf.Tensor 타입이어야 한다.\n",
    "        - 학습/평가(model.fit(), model.evaluate()) 할때 ndarray를 입력 데이터셋으로 넣어주면 내부적으로 tf.Tensor로 변형해서 처리.\n",
    "        - tf.Tensor는 데이터셋을 ndarray로 가지고 있다."
   ]
  },
  {
   "cell_type": "code",
   "execution_count": 2,
   "metadata": {
    "ExecuteTime": {
     "end_time": "2021-11-03T00:17:11.522584Z",
     "start_time": "2021-11-03T00:17:06.881850Z"
    },
    "slideshow": {
     "slide_type": "fragment"
    }
   },
   "outputs": [
    {
     "name": "stdout",
     "output_type": "stream",
     "text": [
      "Metal device set to: Apple M1\n"
     ]
    },
    {
     "name": "stderr",
     "output_type": "stream",
     "text": [
      "2022-07-13 16:43:02.313112: I tensorflow/core/common_runtime/pluggable_device/pluggable_device_factory.cc:305] Could not identify NUMA node of platform GPU ID 0, defaulting to 0. Your kernel may not have been built with NUMA support.\n",
      "2022-07-13 16:43:02.313224: I tensorflow/core/common_runtime/pluggable_device/pluggable_device_factory.cc:271] Created TensorFlow device (/job:localhost/replica:0/task:0/device:GPU:0 with 0 MB memory) -> physical PluggableDevice (device: 0, name: METAL, pci bus id: <undefined>)\n"
     ]
    },
    {
     "data": {
      "text/plain": [
       "<tf.Tensor: shape=(3,), dtype=float32, numpy=array([1., 2., 3.], dtype=float32)>"
      ]
     },
     "execution_count": 2,
     "metadata": {},
     "output_type": "execute_result"
    }
   ],
   "source": [
    "t = tf.constant([1,2,3], dtype=\"float32\")\n",
    "t"
   ]
  },
  {
   "cell_type": "code",
   "execution_count": 3,
   "metadata": {
    "ExecuteTime": {
     "end_time": "2021-11-03T00:17:13.119903Z",
     "start_time": "2021-11-03T00:17:13.114902Z"
    },
    "slideshow": {
     "slide_type": "fragment"
    }
   },
   "outputs": [
    {
     "data": {
      "text/plain": [
       "array([1., 2., 3.], dtype=float32)"
      ]
     },
     "execution_count": 3,
     "metadata": {},
     "output_type": "execute_result"
    }
   ],
   "source": [
    "# tensor=>numpy 변환\n",
    "a = t.numpy()\n",
    "a"
   ]
  },
  {
   "cell_type": "code",
   "execution_count": 4,
   "metadata": {
    "ExecuteTime": {
     "end_time": "2021-11-03T00:17:14.439481Z",
     "start_time": "2021-11-03T00:17:14.428482Z"
    },
    "slideshow": {
     "slide_type": "fragment"
    }
   },
   "outputs": [
    {
     "data": {
      "text/plain": [
       "<tf.Tensor: shape=(3,), dtype=float32, numpy=array([1., 2., 3.], dtype=float32)>"
      ]
     },
     "execution_count": 4,
     "metadata": {},
     "output_type": "execute_result"
    }
   ],
   "source": [
    "# numpy/list => tensor 변환\n",
    "t2 = tf.constant(a)\n",
    "t2"
   ]
  },
  {
   "cell_type": "code",
   "execution_count": 5,
   "metadata": {
    "ExecuteTime": {
     "end_time": "2021-11-03T00:17:15.642829Z",
     "start_time": "2021-11-03T00:17:15.636860Z"
    },
    "slideshow": {
     "slide_type": "fragment"
    }
   },
   "outputs": [
    {
     "data": {
      "text/plain": [
       "<tf.Tensor: shape=(3,), dtype=float32, numpy=array([1., 2., 3.], dtype=float32)>"
      ]
     },
     "execution_count": 5,
     "metadata": {},
     "output_type": "execute_result"
    }
   ],
   "source": [
    "# numpy/list => tensor 변환\n",
    "t3 = tf.convert_to_tensor(a)\n",
    "t3"
   ]
  },
  {
   "cell_type": "markdown",
   "metadata": {
    "slideshow": {
     "slide_type": "slide"
    }
   },
   "source": [
    "## Dataset 예제"
   ]
  },
  {
   "cell_type": "code",
   "execution_count": 6,
   "metadata": {
    "ExecuteTime": {
     "end_time": "2021-11-03T00:17:20.287779Z",
     "start_time": "2021-11-03T00:17:20.266782Z"
    },
    "slideshow": {
     "slide_type": "fragment"
    }
   },
   "outputs": [
    {
     "data": {
      "text/plain": [
       "array([0, 1, 2, 3, 4, 5, 6, 7, 8, 9])"
      ]
     },
     "execution_count": 6,
     "metadata": {},
     "output_type": "execute_result"
    }
   ],
   "source": [
    "raw_data1 = np.arange(10)\n",
    "raw_data1 # ndarray -> 메모리"
   ]
  },
  {
   "cell_type": "code",
   "execution_count": 7,
   "metadata": {
    "ExecuteTime": {
     "end_time": "2021-11-03T00:17:22.506375Z",
     "start_time": "2021-11-03T00:17:22.491362Z"
    },
    "slideshow": {
     "slide_type": "fragment"
    }
   },
   "outputs": [
    {
     "name": "stdout",
     "output_type": "stream",
     "text": [
      "<class 'tensorflow.python.data.ops.dataset_ops.TensorSliceDataset'>\n"
     ]
    }
   ],
   "source": [
    "# 메모리애 있는 ndarray(Tensor)들을 읽어 들이는 Dataset을 생성. Dataset.from_tensor_slices(변수) 클래스 메소드를 사용.\n",
    "\n",
    "dataset = tf.data.Dataset.from_tensor_slices(raw_data1)\n",
    "print(type(dataset))\n",
    "\n",
    "# Dataset은 생성시 데이터를 읽어오거나 처리하지 않는다.\n",
    "# 그 데이터셋을 사용하는 시점(모델학습, 평가)에 읽어온다. ==> Lazy 실행."
   ]
  },
  {
   "cell_type": "code",
   "execution_count": 8,
   "metadata": {
    "ExecuteTime": {
     "end_time": "2021-11-01T08:12:25.809643Z",
     "start_time": "2021-11-01T08:12:25.784653Z"
    },
    "slideshow": {
     "slide_type": "fragment"
    }
   },
   "outputs": [
    {
     "name": "stdout",
     "output_type": "stream",
     "text": [
      "tf.Tensor(0, shape=(), dtype=int64)\n",
      "tf.Tensor(1, shape=(), dtype=int64)\n",
      "tf.Tensor(2, shape=(), dtype=int64)\n",
      "tf.Tensor(3, shape=(), dtype=int64)\n",
      "tf.Tensor(4, shape=(), dtype=int64)\n",
      "tf.Tensor(5, shape=(), dtype=int64)\n",
      "tf.Tensor(6, shape=(), dtype=int64)\n",
      "tf.Tensor(7, shape=(), dtype=int64)\n",
      "tf.Tensor(8, shape=(), dtype=int64)\n",
      "tf.Tensor(9, shape=(), dtype=int64)\n"
     ]
    }
   ],
   "source": [
    "# Dataset들은 iterable 타입 (for in 문에서 사용할 수 있다.)\n",
    "# for in 문 Dataset이 가지고 있는 원소들(데이터들)을 하나씩(batch size 단위) 제공한다.\n",
    "\n",
    "for data in dataset:\n",
    "    print(data)"
   ]
  },
  {
   "cell_type": "markdown",
   "metadata": {
    "slideshow": {
     "slide_type": "slide"
    }
   },
   "source": [
    "##### x, y 묶어서 제공\n",
    "- 두개 이상의 데이터셋을 묶어서 제공할 경우 Tuple로 묶어준다.\n",
    "    - Dataset이 feeding 할 때는 같은 index의 값들을 tuple로 묶어서 제공 (zip()과 동일)"
   ]
  },
  {
   "cell_type": "code",
   "execution_count": 9,
   "metadata": {
    "ExecuteTime": {
     "end_time": "2021-11-03T00:17:25.027859Z",
     "start_time": "2021-11-03T00:17:25.010861Z"
    },
    "slideshow": {
     "slide_type": "fragment"
    }
   },
   "outputs": [
    {
     "data": {
      "text/plain": [
       "array([10, 11, 12, 13, 14, 15, 16, 17, 18, 19])"
      ]
     },
     "execution_count": 9,
     "metadata": {},
     "output_type": "execute_result"
    }
   ],
   "source": [
    "raw_data2 = np.arange(10,20)\n",
    "raw_data2"
   ]
  },
  {
   "cell_type": "code",
   "execution_count": 10,
   "metadata": {
    "ExecuteTime": {
     "end_time": "2021-11-03T00:17:26.648816Z",
     "start_time": "2021-11-03T00:17:26.635809Z"
    },
    "slideshow": {
     "slide_type": "fragment"
    }
   },
   "outputs": [
    {
     "name": "stdout",
     "output_type": "stream",
     "text": [
      "[0 1 2 3 4 5 6 7 8 9]\n",
      "[10 11 12 13 14 15 16 17 18 19]\n"
     ]
    }
   ],
   "source": [
    "print(raw_data1)\n",
    "print(raw_data2)"
   ]
  },
  {
   "cell_type": "code",
   "execution_count": 11,
   "metadata": {
    "ExecuteTime": {
     "end_time": "2021-11-01T08:13:24.646546Z",
     "start_time": "2021-11-01T08:13:24.624519Z"
    },
    "slideshow": {
     "slide_type": "fragment"
    }
   },
   "outputs": [
    {
     "name": "stdout",
     "output_type": "stream",
     "text": [
      "tf.Tensor(0, shape=(), dtype=int64)|||||||||||tf.Tensor(10, shape=(), dtype=int64)\n",
      "tf.Tensor(1, shape=(), dtype=int64)|||||||||||tf.Tensor(11, shape=(), dtype=int64)\n",
      "tf.Tensor(2, shape=(), dtype=int64)|||||||||||tf.Tensor(12, shape=(), dtype=int64)\n",
      "tf.Tensor(3, shape=(), dtype=int64)|||||||||||tf.Tensor(13, shape=(), dtype=int64)\n",
      "tf.Tensor(4, shape=(), dtype=int64)|||||||||||tf.Tensor(14, shape=(), dtype=int64)\n",
      "tf.Tensor(5, shape=(), dtype=int64)|||||||||||tf.Tensor(15, shape=(), dtype=int64)\n",
      "tf.Tensor(6, shape=(), dtype=int64)|||||||||||tf.Tensor(16, shape=(), dtype=int64)\n",
      "tf.Tensor(7, shape=(), dtype=int64)|||||||||||tf.Tensor(17, shape=(), dtype=int64)\n",
      "tf.Tensor(8, shape=(), dtype=int64)|||||||||||tf.Tensor(18, shape=(), dtype=int64)\n",
      "tf.Tensor(9, shape=(), dtype=int64)|||||||||||tf.Tensor(19, shape=(), dtype=int64)\n"
     ]
    }
   ],
   "source": [
    "dataset2 = tf.data.Dataset.from_tensor_slices((raw_data1, raw_data2)) \n",
    "# for a in dataset2:\n",
    "#     print(a) #tuple(raw_data1원소, raw_data2원소) 같은 index의 것들을 튜플로 묶어서 반환\n",
    "#     break\n",
    "\n",
    "for X, y in dataset2: #tuple 대입\n",
    "    print(X,y, sep='|||||||||||')"
   ]
  },
  {
   "cell_type": "code",
   "execution_count": 12,
   "metadata": {
    "ExecuteTime": {
     "end_time": "2021-11-03T00:17:28.129666Z",
     "start_time": "2021-11-03T00:17:28.041820Z"
    },
    "slideshow": {
     "slide_type": "fragment"
    }
   },
   "outputs": [
    {
     "name": "stdout",
     "output_type": "stream",
     "text": [
      "<class 'tensorflow.python.data.ops.dataset_ops.TakeDataset'>\n",
      "tf.Tensor(0, shape=(), dtype=int64)\n",
      "tf.Tensor(1, shape=(), dtype=int64)\n",
      "tf.Tensor(2, shape=(), dtype=int64)\n"
     ]
    }
   ],
   "source": [
    "dataset3 = dataset.take(3) # 지정한 개수만큼만 조회. Dataset 값을 조회해볼때 사용.\n",
    "# Pipeline: TensorSliceDataset(dataset) -- TakeDataset(dataset3)\n",
    "#     dataset3 이용해 값을 조회 => dataset이 데이터를 읽어오기 -> dataset3이 값을 3개까지 제공하는 기능을 제공한다.\n",
    "print(type(dataset3))\n",
    "for data in dataset3:\n",
    "    print(data)"
   ]
  },
  {
   "cell_type": "markdown",
   "metadata": {
    "slideshow": {
     "slide_type": "slide"
    }
   },
   "source": [
    "##### shuffle"
   ]
  },
  {
   "cell_type": "code",
   "execution_count": 13,
   "metadata": {
    "ExecuteTime": {
     "end_time": "2021-11-01T08:14:17.513361Z",
     "start_time": "2021-11-01T08:14:17.496360Z"
    },
    "slideshow": {
     "slide_type": "fragment"
    }
   },
   "outputs": [
    {
     "name": "stdout",
     "output_type": "stream",
     "text": [
      "<class 'tensorflow.python.data.ops.dataset_ops.ShuffleDataset'>\n",
      "tf.Tensor(3, shape=(), dtype=int64)\n",
      "tf.Tensor(2, shape=(), dtype=int64)\n",
      "tf.Tensor(6, shape=(), dtype=int64)\n",
      "tf.Tensor(1, shape=(), dtype=int64)\n",
      "tf.Tensor(8, shape=(), dtype=int64)\n",
      "tf.Tensor(9, shape=(), dtype=int64)\n",
      "tf.Tensor(4, shape=(), dtype=int64)\n",
      "tf.Tensor(0, shape=(), dtype=int64)\n",
      "tf.Tensor(7, shape=(), dtype=int64)\n",
      "tf.Tensor(5, shape=(), dtype=int64)\n"
     ]
    }
   ],
   "source": [
    "dataset4 = dataset.shuffle(10) #buffer size : 10 (dataset의 원소개수와 동일 => 완전셔플)\n",
    "# row_data1 -읽기 ---> TensorSliceDataset(dataset) --섞기--> ShuffleDataset(dataset4)\n",
    "print(type(dataset4))\n",
    "for data in dataset4:\n",
    "    print(data)"
   ]
  },
  {
   "cell_type": "markdown",
   "metadata": {
    "slideshow": {
     "slide_type": "slide"
    }
   },
   "source": [
    "##### batch\n",
    "- drop_remainder: boolean(기본-False)\n",
    "    - batch로 제공할 데이터의 개수가 설정한 batch_size 보다 적으면 제공하지 않는다.\n",
    "    - Train dataset을 만들때 True로 설정하여 항상 일정한 batch size로 학습할 수 있도록 한다. drop 되는 데이터는 다른 epoch을 반복할 때 사용된다."
   ]
  },
  {
   "cell_type": "code",
   "execution_count": 14,
   "metadata": {
    "ExecuteTime": {
     "end_time": "2021-11-03T00:17:32.506910Z",
     "start_time": "2021-11-03T00:17:32.489875Z"
    },
    "slideshow": {
     "slide_type": "fragment"
    }
   },
   "outputs": [
    {
     "name": "stdout",
     "output_type": "stream",
     "text": [
      "<class 'tensorflow.python.data.ops.dataset_ops.BatchDataset'>\n",
      "tf.Tensor([0 1 2], shape=(3,), dtype=int64)\n",
      "tf.Tensor([3 4 5], shape=(3,), dtype=int64)\n",
      "tf.Tensor([6 7 8], shape=(3,), dtype=int64)\n"
     ]
    }
   ],
   "source": [
    "dataset5 = dataset.batch(3, drop_remainder = True)\n",
    "# row_data1 --읽기--> TensorSliceDataset(dataset) -배치처리->BatchDataset(dataset5)\n",
    "print(type(dataset5))\n",
    "for data in dataset5:\n",
    "    print(data)"
   ]
  },
  {
   "cell_type": "code",
   "execution_count": 15,
   "metadata": {
    "ExecuteTime": {
     "end_time": "2021-11-03T00:17:33.957458Z",
     "start_time": "2021-11-03T00:17:33.929489Z"
    },
    "slideshow": {
     "slide_type": "fragment"
    }
   },
   "outputs": [
    {
     "name": "stdout",
     "output_type": "stream",
     "text": [
      "tf.Tensor([5 6 4], shape=(3,), dtype=int64)\n",
      "tf.Tensor([1 8 3], shape=(3,), dtype=int64)\n",
      "tf.Tensor([0 7 2], shape=(3,), dtype=int64)\n",
      "tf.Tensor([9], shape=(1,), dtype=int64)\n"
     ]
    }
   ],
   "source": [
    "dataset6 = dataset.shuffle(10).batch(3)\n",
    "# row_data1 --읽기--> TensorSliceDataset(dataset) \n",
    "# -섞기-> ShuffleDataset(shuffle(10))-배치처리->BatchDataset(batch(3):dataset(6))\n",
    "for d in dataset6:\n",
    "    print(d)"
   ]
  },
  {
   "cell_type": "markdown",
   "metadata": {
    "slideshow": {
     "slide_type": "slide"
    }
   },
   "source": [
    "##### repeat"
   ]
  },
  {
   "cell_type": "code",
   "execution_count": 16,
   "metadata": {
    "ExecuteTime": {
     "end_time": "2021-11-03T00:17:36.109496Z",
     "start_time": "2021-11-03T00:17:36.090507Z"
    },
    "scrolled": true,
    "slideshow": {
     "slide_type": "fragment"
    }
   },
   "outputs": [
    {
     "name": "stdout",
     "output_type": "stream",
     "text": [
      "<class 'tensorflow.python.data.ops.dataset_ops.RepeatDataset'>\n",
      "tf.Tensor(0, shape=(), dtype=int64)\n",
      "tf.Tensor(1, shape=(), dtype=int64)\n",
      "tf.Tensor(2, shape=(), dtype=int64)\n",
      "tf.Tensor(3, shape=(), dtype=int64)\n",
      "tf.Tensor(4, shape=(), dtype=int64)\n",
      "tf.Tensor(5, shape=(), dtype=int64)\n",
      "tf.Tensor(6, shape=(), dtype=int64)\n",
      "tf.Tensor(7, shape=(), dtype=int64)\n",
      "tf.Tensor(8, shape=(), dtype=int64)\n",
      "tf.Tensor(9, shape=(), dtype=int64)\n",
      "tf.Tensor(0, shape=(), dtype=int64)\n",
      "tf.Tensor(1, shape=(), dtype=int64)\n",
      "tf.Tensor(2, shape=(), dtype=int64)\n",
      "tf.Tensor(3, shape=(), dtype=int64)\n",
      "tf.Tensor(4, shape=(), dtype=int64)\n",
      "tf.Tensor(5, shape=(), dtype=int64)\n",
      "tf.Tensor(6, shape=(), dtype=int64)\n",
      "tf.Tensor(7, shape=(), dtype=int64)\n",
      "tf.Tensor(8, shape=(), dtype=int64)\n",
      "tf.Tensor(9, shape=(), dtype=int64)\n",
      "tf.Tensor(0, shape=(), dtype=int64)\n",
      "tf.Tensor(1, shape=(), dtype=int64)\n",
      "tf.Tensor(2, shape=(), dtype=int64)\n",
      "tf.Tensor(3, shape=(), dtype=int64)\n",
      "tf.Tensor(4, shape=(), dtype=int64)\n",
      "tf.Tensor(5, shape=(), dtype=int64)\n",
      "tf.Tensor(6, shape=(), dtype=int64)\n",
      "tf.Tensor(7, shape=(), dtype=int64)\n",
      "tf.Tensor(8, shape=(), dtype=int64)\n",
      "tf.Tensor(9, shape=(), dtype=int64)\n"
     ]
    }
   ],
   "source": [
    "dataset7 = dataset.repeat(3) #반복횟수를 생략하면 무한제공.\n",
    "# row_data1 --읽기--> TensorSliceDataset(dataset) -반복제공->RepeatDataset(dataset7)\n",
    "print(type(dataset7))\n",
    "for data in dataset7:\n",
    "    print(data)"
   ]
  },
  {
   "cell_type": "code",
   "execution_count": 17,
   "metadata": {
    "ExecuteTime": {
     "end_time": "2021-11-03T00:17:38.140537Z",
     "start_time": "2021-11-03T00:17:38.120543Z"
    },
    "slideshow": {
     "slide_type": "fragment"
    }
   },
   "outputs": [
    {
     "name": "stdout",
     "output_type": "stream",
     "text": [
      "tf.Tensor([8 7 1 2 5], shape=(5,), dtype=int64)\n",
      "tf.Tensor([0 4 9 3 6], shape=(5,), dtype=int64)\n",
      "tf.Tensor([0 2 1 9 8], shape=(5,), dtype=int64)\n",
      "tf.Tensor([7 6 5 3 4], shape=(5,), dtype=int64)\n",
      "tf.Tensor([3 4 6 2 0], shape=(5,), dtype=int64)\n",
      "tf.Tensor([9 8 5 1 7], shape=(5,), dtype=int64)\n"
     ]
    }
   ],
   "source": [
    "dataset8 = dataset.shuffle(10).batch(5).repeat(3)\n",
    "for data in dataset8:\n",
    "    print(data)"
   ]
  },
  {
   "cell_type": "markdown",
   "metadata": {
    "slideshow": {
     "slide_type": "slide"
    }
   },
   "source": [
    "##### map"
   ]
  },
  {
   "cell_type": "code",
   "execution_count": 18,
   "metadata": {
    "ExecuteTime": {
     "end_time": "2021-11-03T00:17:40.527048Z",
     "start_time": "2021-11-03T00:17:40.411788Z"
    },
    "scrolled": true,
    "slideshow": {
     "slide_type": "fragment"
    }
   },
   "outputs": [
    {
     "name": "stdout",
     "output_type": "stream",
     "text": [
      "<class 'tensorflow.python.data.ops.dataset_ops.MapDataset'>\n",
      "tf.Tensor(0, shape=(), dtype=int64)\n",
      "tf.Tensor(1, shape=(), dtype=int64)\n",
      "tf.Tensor(4, shape=(), dtype=int64)\n",
      "tf.Tensor(9, shape=(), dtype=int64)\n",
      "tf.Tensor(16, shape=(), dtype=int64)\n",
      "tf.Tensor(25, shape=(), dtype=int64)\n",
      "tf.Tensor(36, shape=(), dtype=int64)\n",
      "tf.Tensor(49, shape=(), dtype=int64)\n",
      "tf.Tensor(64, shape=(), dtype=int64)\n",
      "tf.Tensor(81, shape=(), dtype=int64)\n"
     ]
    },
    {
     "name": "stderr",
     "output_type": "stream",
     "text": [
      "2022-07-13 16:43:12.527604: W tensorflow/core/platform/profile_utils/cpu_utils.cc:128] Failed to get CPU frequency: 0 Hz\n"
     ]
    }
   ],
   "source": [
    "def mapping_func(x):\n",
    "# dataset의 원소를 하나 받아서 처리하는 함수.\n",
    "# 매개변수: 원소개수에 맞춰서 변수를 선언\n",
    "# 반환값: 받은 우너소를 처리한 값\n",
    "    return x**2\n",
    "\n",
    "dataset9 = dataset.map(mapping_func)\n",
    "# row_data1 -읽기->TensorsliceDataset(dataset) -mapping처리->MapDataset(dataset9)\n",
    "print(type(dataset9))\n",
    "for data in dataset9:\n",
    "    print(data)"
   ]
  },
  {
   "cell_type": "code",
   "execution_count": 19,
   "metadata": {},
   "outputs": [
    {
     "name": "stdout",
     "output_type": "stream",
     "text": [
      "(<tf.Tensor: shape=(), dtype=int64, numpy=0>, <tf.Tensor: shape=(), dtype=int64, numpy=10>)\n",
      "(<tf.Tensor: shape=(), dtype=int64, numpy=1>, <tf.Tensor: shape=(), dtype=int64, numpy=11>)\n",
      "(<tf.Tensor: shape=(), dtype=int64, numpy=2>, <tf.Tensor: shape=(), dtype=int64, numpy=12>)\n",
      "(<tf.Tensor: shape=(), dtype=int64, numpy=3>, <tf.Tensor: shape=(), dtype=int64, numpy=13>)\n",
      "(<tf.Tensor: shape=(), dtype=int64, numpy=4>, <tf.Tensor: shape=(), dtype=int64, numpy=14>)\n",
      "(<tf.Tensor: shape=(), dtype=int64, numpy=5>, <tf.Tensor: shape=(), dtype=int64, numpy=15>)\n",
      "(<tf.Tensor: shape=(), dtype=int64, numpy=6>, <tf.Tensor: shape=(), dtype=int64, numpy=16>)\n",
      "(<tf.Tensor: shape=(), dtype=int64, numpy=7>, <tf.Tensor: shape=(), dtype=int64, numpy=17>)\n",
      "(<tf.Tensor: shape=(), dtype=int64, numpy=8>, <tf.Tensor: shape=(), dtype=int64, numpy=18>)\n",
      "(<tf.Tensor: shape=(), dtype=int64, numpy=9>, <tf.Tensor: shape=(), dtype=int64, numpy=19>)\n"
     ]
    }
   ],
   "source": [
    "for i in dataset2: #(row_data1, row_data2) dataset2가 제공하는 원소: 튜플(X,y)\n",
    "    print(i)"
   ]
  },
  {
   "cell_type": "code",
   "execution_count": 20,
   "metadata": {
    "ExecuteTime": {
     "end_time": "2021-11-03T00:17:41.551921Z",
     "start_time": "2021-11-03T00:17:41.505781Z"
    },
    "slideshow": {
     "slide_type": "fragment"
    }
   },
   "outputs": [],
   "source": [
    "def mapping_func2(x, y): #dataset2의 원소: 튜플(row_data1원소, row_data2원소) -> 매개변수: 튜플대입\n",
    "    # row_data1의 세제곱한 값, y값을 처리하지 않은 값(그대로)\n",
    "    return x**3, y\n",
    "\n",
    "dataset2 = tf.data.Dataset.from_tensor_slices((raw_data1, raw_data2))\n",
    "dataset10 = dataset2.map(mapping_func2)"
   ]
  },
  {
   "cell_type": "code",
   "execution_count": 21,
   "metadata": {
    "ExecuteTime": {
     "end_time": "2021-11-03T00:17:45.511603Z",
     "start_time": "2021-11-03T00:17:45.480572Z"
    },
    "slideshow": {
     "slide_type": "fragment"
    }
   },
   "outputs": [
    {
     "name": "stdout",
     "output_type": "stream",
     "text": [
      "(<tf.Tensor: shape=(), dtype=int64, numpy=0>, <tf.Tensor: shape=(), dtype=int64, numpy=10>)\n",
      "(<tf.Tensor: shape=(), dtype=int64, numpy=1>, <tf.Tensor: shape=(), dtype=int64, numpy=11>)\n",
      "(<tf.Tensor: shape=(), dtype=int64, numpy=8>, <tf.Tensor: shape=(), dtype=int64, numpy=12>)\n",
      "(<tf.Tensor: shape=(), dtype=int64, numpy=27>, <tf.Tensor: shape=(), dtype=int64, numpy=13>)\n",
      "(<tf.Tensor: shape=(), dtype=int64, numpy=64>, <tf.Tensor: shape=(), dtype=int64, numpy=14>)\n",
      "(<tf.Tensor: shape=(), dtype=int64, numpy=125>, <tf.Tensor: shape=(), dtype=int64, numpy=15>)\n",
      "(<tf.Tensor: shape=(), dtype=int64, numpy=216>, <tf.Tensor: shape=(), dtype=int64, numpy=16>)\n",
      "(<tf.Tensor: shape=(), dtype=int64, numpy=343>, <tf.Tensor: shape=(), dtype=int64, numpy=17>)\n",
      "(<tf.Tensor: shape=(), dtype=int64, numpy=512>, <tf.Tensor: shape=(), dtype=int64, numpy=18>)\n",
      "(<tf.Tensor: shape=(), dtype=int64, numpy=729>, <tf.Tensor: shape=(), dtype=int64, numpy=19>)\n"
     ]
    }
   ],
   "source": [
    "for data in dataset10:\n",
    "    print(data)"
   ]
  },
  {
   "cell_type": "code",
   "execution_count": 22,
   "metadata": {
    "ExecuteTime": {
     "end_time": "2021-11-03T00:17:48.199845Z",
     "start_time": "2021-11-03T00:17:48.152694Z"
    },
    "scrolled": true,
    "slideshow": {
     "slide_type": "fragment"
    }
   },
   "outputs": [
    {
     "name": "stdout",
     "output_type": "stream",
     "text": [
      "tf.Tensor(0, shape=(), dtype=int64)\n",
      "tf.Tensor(1, shape=(), dtype=int64)\n",
      "tf.Tensor(4, shape=(), dtype=int64)\n",
      "tf.Tensor(9, shape=(), dtype=int64)\n",
      "tf.Tensor(16, shape=(), dtype=int64)\n",
      "tf.Tensor(25, shape=(), dtype=int64)\n",
      "tf.Tensor(36, shape=(), dtype=int64)\n",
      "tf.Tensor(49, shape=(), dtype=int64)\n",
      "tf.Tensor(64, shape=(), dtype=int64)\n",
      "tf.Tensor(81, shape=(), dtype=int64)\n"
     ]
    }
   ],
   "source": [
    "#함수 대신 lambda식\n",
    "dataset11 = dataset.map(lambda x: x**2)\n",
    "for data in dataset11:\n",
    "    print(data)"
   ]
  },
  {
   "cell_type": "code",
   "execution_count": 23,
   "metadata": {
    "ExecuteTime": {
     "end_time": "2021-11-03T00:17:52.607608Z",
     "start_time": "2021-11-03T00:17:52.552682Z"
    },
    "slideshow": {
     "slide_type": "fragment"
    }
   },
   "outputs": [
    {
     "name": "stdout",
     "output_type": "stream",
     "text": [
      "(<tf.Tensor: shape=(), dtype=int64, numpy=0>, <tf.Tensor: shape=(), dtype=int64, numpy=100>)\n",
      "(<tf.Tensor: shape=(), dtype=int64, numpy=1>, <tf.Tensor: shape=(), dtype=int64, numpy=121>)\n",
      "(<tf.Tensor: shape=(), dtype=int64, numpy=8>, <tf.Tensor: shape=(), dtype=int64, numpy=144>)\n",
      "(<tf.Tensor: shape=(), dtype=int64, numpy=27>, <tf.Tensor: shape=(), dtype=int64, numpy=169>)\n",
      "(<tf.Tensor: shape=(), dtype=int64, numpy=64>, <tf.Tensor: shape=(), dtype=int64, numpy=196>)\n",
      "(<tf.Tensor: shape=(), dtype=int64, numpy=125>, <tf.Tensor: shape=(), dtype=int64, numpy=225>)\n",
      "(<tf.Tensor: shape=(), dtype=int64, numpy=216>, <tf.Tensor: shape=(), dtype=int64, numpy=256>)\n",
      "(<tf.Tensor: shape=(), dtype=int64, numpy=343>, <tf.Tensor: shape=(), dtype=int64, numpy=289>)\n",
      "(<tf.Tensor: shape=(), dtype=int64, numpy=512>, <tf.Tensor: shape=(), dtype=int64, numpy=324>)\n",
      "(<tf.Tensor: shape=(), dtype=int64, numpy=729>, <tf.Tensor: shape=(), dtype=int64, numpy=361>)\n"
     ]
    }
   ],
   "source": [
    "dataset12 = dataset2.map(lambda x, y: (x**3, y**2))\n",
    "for data in dataset12:\n",
    "    print(data)"
   ]
  },
  {
   "cell_type": "markdown",
   "metadata": {
    "slideshow": {
     "slide_type": "slide"
    }
   },
   "source": [
    "##### filter"
   ]
  },
  {
   "cell_type": "code",
   "execution_count": 25,
   "metadata": {},
   "outputs": [
    {
     "ename": "NameError",
     "evalue": "name 'dataset13' is not defined",
     "output_type": "error",
     "traceback": [
      "\u001b[0;31m---------------------------------------------------------------------------\u001b[0m",
      "\u001b[0;31mNameError\u001b[0m                                 Traceback (most recent call last)",
      "Input \u001b[0;32mIn [25]\u001b[0m, in \u001b[0;36m<cell line: 1>\u001b[0;34m()\u001b[0m\n\u001b[0;32m----> 1\u001b[0m \u001b[38;5;28;01mfor\u001b[39;00m data \u001b[38;5;129;01min\u001b[39;00m \u001b[43mdataset13\u001b[49m:\n\u001b[1;32m      2\u001b[0m     \u001b[38;5;28mprint\u001b[39m(data)\n",
      "\u001b[0;31mNameError\u001b[0m: name 'dataset13' is not defined"
     ]
    }
   ],
   "source": [
    "for data in dataset13:\n",
    "    print(data)"
   ]
  },
  {
   "cell_type": "code",
   "execution_count": 26,
   "metadata": {
    "ExecuteTime": {
     "end_time": "2021-11-03T00:17:56.269694Z",
     "start_time": "2021-11-03T00:17:56.210225Z"
    },
    "slideshow": {
     "slide_type": "fragment"
    }
   },
   "outputs": [
    {
     "name": "stdout",
     "output_type": "stream",
     "text": [
      "<class 'tensorflow.python.data.ops.dataset_ops.FilterDataset'>\n"
     ]
    }
   ],
   "source": [
    "def filter_func(x):\n",
    "#     filter 함수: 제공할 데이터의 조건 정의. 이 조건을 만족하는(True)인 원소들만 모델에 제공(feeding)\n",
    "#     매개변수: Dataset으로 부터 원소를 받을 변수\n",
    "#     반환: bool\n",
    "    return x%2 == 0  #2의 배수인지 여부\n",
    "\n",
    "dataset13 = dataset.filter(filter_func)\n",
    "# row_data -읽기->TensorSliceDataset(dataset) -filter처리-> filterDataset(dataset13)\n",
    "\n",
    "print(type(dataset13))"
   ]
  },
  {
   "cell_type": "code",
   "execution_count": 27,
   "metadata": {},
   "outputs": [
    {
     "name": "stdout",
     "output_type": "stream",
     "text": [
      "tf.Tensor(0, shape=(), dtype=int64)\n",
      "tf.Tensor(2, shape=(), dtype=int64)\n",
      "tf.Tensor(4, shape=(), dtype=int64)\n",
      "tf.Tensor(6, shape=(), dtype=int64)\n",
      "tf.Tensor(8, shape=(), dtype=int64)\n"
     ]
    }
   ],
   "source": [
    "for data in dataset13:\n",
    "    print(data)"
   ]
  },
  {
   "cell_type": "code",
   "execution_count": 28,
   "metadata": {
    "ExecuteTime": {
     "end_time": "2021-11-03T00:17:57.209032Z",
     "start_time": "2021-11-03T00:17:57.166006Z"
    },
    "slideshow": {
     "slide_type": "fragment"
    }
   },
   "outputs": [
    {
     "name": "stdout",
     "output_type": "stream",
     "text": [
      "tf.Tensor(6, shape=(), dtype=int64)\n",
      "tf.Tensor(7, shape=(), dtype=int64)\n",
      "tf.Tensor(8, shape=(), dtype=int64)\n",
      "tf.Tensor(9, shape=(), dtype=int64)\n"
     ]
    }
   ],
   "source": [
    "dataset14 = dataset.filter(lambda x : x > 5) #조건: 5초과하는 값\n",
    "for data in dataset14:\n",
    "    print(data)"
   ]
  },
  {
   "cell_type": "markdown",
   "metadata": {
    "slideshow": {
     "slide_type": "slide"
    }
   },
   "source": [
    "##### 종합"
   ]
  },
  {
   "cell_type": "code",
   "execution_count": 29,
   "metadata": {
    "ExecuteTime": {
     "end_time": "2021-11-03T00:17:59.148304Z",
     "start_time": "2021-11-03T00:17:59.091243Z"
    },
    "slideshow": {
     "slide_type": "fragment"
    }
   },
   "outputs": [],
   "source": [
    "raw_data = np.arange(-10,11)\n",
    "# row_data(-10~10:ndarray) -읽기->       TensorSliceDataset\n",
    "#                          -filter처리-> FilterDataset\n",
    "#                          -map처리 ---> MapDataset\n",
    "#                          -섞기-------> ShuffleDataset\n",
    "#                          -배치처리----> BatchDataset (dataset_final)\n",
    "dataset_final = tf.data.Dataset.from_tensor_slices(raw_data)\\\n",
    "                               .filter(lambda x:x>=0)\\\n",
    "                               .map(lambda y:y+10)\\\n",
    "                               .shuffle(raw_data.size)\\\n",
    "                               .batch(3)"
   ]
  },
  {
   "cell_type": "code",
   "execution_count": 30,
   "metadata": {
    "ExecuteTime": {
     "end_time": "2021-11-03T00:18:00.151996Z",
     "start_time": "2021-11-03T00:18:00.113989Z"
    },
    "slideshow": {
     "slide_type": "fragment"
    }
   },
   "outputs": [
    {
     "name": "stdout",
     "output_type": "stream",
     "text": [
      "tf.Tensor([18 20 11], shape=(3,), dtype=int64)\n",
      "tf.Tensor([13 19 14], shape=(3,), dtype=int64)\n",
      "tf.Tensor([10 16 12], shape=(3,), dtype=int64)\n",
      "tf.Tensor([15 17], shape=(2,), dtype=int64)\n"
     ]
    }
   ],
   "source": [
    "for data in dataset_final:\n",
    "    print(data)"
   ]
  },
  {
   "cell_type": "markdown",
   "metadata": {
    "slideshow": {
     "slide_type": "slide"
    }
   },
   "source": [
    "# 문제 유형별 MLP 네트워크\n",
    "- Multi Layer Perceptron\n",
    "    - Fully Connected Layer로 구성된 네트워크"
   ]
  },
  {
   "cell_type": "markdown",
   "metadata": {
    "slideshow": {
     "slide_type": "fragment"
    }
   },
   "source": [
    "# Regression(회귀)\n",
    "\n",
    "## Boston Housing Dataset\n",
    "보스턴 주택가격 dataset은 다음과 같은 속성을 바탕으로 해당 타운 주택 가격의 중앙값을 예측하는 문제.\n",
    "- CRIM: 범죄율\n",
    "- ZN: 25,000 평방피트당 주거지역 비율\n",
    "- INDUS: 비소매 상업지구 비율\n",
    "- CHAS: 찰스강에 인접해 있는지 여부(인접:1, 아니면:0)\n",
    "- NOX: 일산화질소 농도(단위: 0.1ppm)\n",
    "- RM: 주택당 방의 수\n",
    "- AGE: 1940년 이전에 건설된 주택의 비율\n",
    "- DIS: 5개의 보스턴 직업고용센터와의 거리(가중 평균)\n",
    "- RAD: 고속도로 접근성\n",
    "- TAX: 재산세율\n",
    "- PTRATIO: 학생/교사 비율\n",
    "- B: 흑인 비율\n",
    "- LSTAT: 하위 계층 비율\n",
    "<br><br>\n",
    "- **Target**\n",
    "    - MEDV: 타운의 주택가격 중앙값(단위: 1,000달러)"
   ]
  },
  {
   "cell_type": "code",
   "execution_count": 31,
   "metadata": {
    "ExecuteTime": {
     "end_time": "2021-11-03T00:18:30.667027Z",
     "start_time": "2021-11-03T00:18:30.656991Z"
    },
    "slideshow": {
     "slide_type": "slide"
    }
   },
   "outputs": [],
   "source": [
    "import numpy as np\n",
    "\n",
    "import tensorflow as tf\n",
    "from tensorflow import keras\n",
    "\n",
    "# Layer 클래스들을 제공하는 모듈\n",
    "from tensorflow.keras import layers"
   ]
  },
  {
   "cell_type": "code",
   "execution_count": 32,
   "metadata": {
    "ExecuteTime": {
     "end_time": "2021-11-03T00:18:32.570713Z",
     "start_time": "2021-11-03T00:18:32.551682Z"
    },
    "slideshow": {
     "slide_type": "fragment"
    }
   },
   "outputs": [],
   "source": [
    "# random seed 설정.\n",
    "np.random.seed(0) #넘파이 random seed\n",
    "tf.random.set_seed(0) #Tensorflow(모델) random seed"
   ]
  },
  {
   "cell_type": "markdown",
   "metadata": {
    "slideshow": {
     "slide_type": "slide"
    }
   },
   "source": [
    "##### 데이터 로딩"
   ]
  },
  {
   "cell_type": "code",
   "execution_count": 33,
   "metadata": {
    "ExecuteTime": {
     "end_time": "2021-11-03T00:18:34.586431Z",
     "start_time": "2021-11-03T00:18:34.555449Z"
    },
    "slideshow": {
     "slide_type": "fragment"
    }
   },
   "outputs": [
    {
     "name": "stdout",
     "output_type": "stream",
     "text": [
      "(404, 13) (102, 13)\n",
      "(404,) (102,)\n"
     ]
    }
   ],
   "source": [
    "# keras 제공 boston dataset loading\n",
    "(train_X, train_y), (test_X, test_y) = keras.datasets.boston_housing.load_data()\n",
    "print(train_X.shape, test_X.shape)\n",
    "print(train_y.shape, test_y.shape)"
   ]
  },
  {
   "cell_type": "code",
   "execution_count": 34,
   "metadata": {
    "ExecuteTime": {
     "end_time": "2021-11-03T00:18:35.928293Z",
     "start_time": "2021-11-03T00:18:35.913288Z"
    },
    "scrolled": false,
    "slideshow": {
     "slide_type": "fragment"
    }
   },
   "outputs": [
    {
     "data": {
      "text/plain": [
       "array([[1.23247e+00, 0.00000e+00, 8.14000e+00, 0.00000e+00, 5.38000e-01,\n",
       "        6.14200e+00, 9.17000e+01, 3.97690e+00, 4.00000e+00, 3.07000e+02,\n",
       "        2.10000e+01, 3.96900e+02, 1.87200e+01],\n",
       "       [2.17700e-02, 8.25000e+01, 2.03000e+00, 0.00000e+00, 4.15000e-01,\n",
       "        7.61000e+00, 1.57000e+01, 6.27000e+00, 2.00000e+00, 3.48000e+02,\n",
       "        1.47000e+01, 3.95380e+02, 3.11000e+00],\n",
       "       [4.89822e+00, 0.00000e+00, 1.81000e+01, 0.00000e+00, 6.31000e-01,\n",
       "        4.97000e+00, 1.00000e+02, 1.33250e+00, 2.40000e+01, 6.66000e+02,\n",
       "        2.02000e+01, 3.75520e+02, 3.26000e+00],\n",
       "       [3.96100e-02, 0.00000e+00, 5.19000e+00, 0.00000e+00, 5.15000e-01,\n",
       "        6.03700e+00, 3.45000e+01, 5.98530e+00, 5.00000e+00, 2.24000e+02,\n",
       "        2.02000e+01, 3.96900e+02, 8.01000e+00],\n",
       "       [3.69311e+00, 0.00000e+00, 1.81000e+01, 0.00000e+00, 7.13000e-01,\n",
       "        6.37600e+00, 8.84000e+01, 2.56710e+00, 2.40000e+01, 6.66000e+02,\n",
       "        2.02000e+01, 3.91430e+02, 1.46500e+01]])"
      ]
     },
     "execution_count": 34,
     "metadata": {},
     "output_type": "execute_result"
    }
   ],
   "source": [
    "train_X[:5]"
   ]
  },
  {
   "cell_type": "code",
   "execution_count": 35,
   "metadata": {
    "ExecuteTime": {
     "end_time": "2021-11-03T00:18:40.002908Z",
     "start_time": "2021-11-03T00:18:39.992903Z"
    },
    "slideshow": {
     "slide_type": "fragment"
    }
   },
   "outputs": [
    {
     "data": {
      "text/plain": [
       "array([15.2, 42.3, 50. , 21.1, 17.7])"
      ]
     },
     "execution_count": 35,
     "metadata": {},
     "output_type": "execute_result"
    }
   ],
   "source": [
    "train_y[:5]"
   ]
  },
  {
   "cell_type": "markdown",
   "metadata": {
    "slideshow": {
     "slide_type": "slide"
    }
   },
   "source": [
    "##### 하이퍼파라미터, 변수 정의"
   ]
  },
  {
   "cell_type": "code",
   "execution_count": 36,
   "metadata": {
    "ExecuteTime": {
     "end_time": "2021-11-03T00:19:28.221512Z",
     "start_time": "2021-11-03T00:19:28.202545Z"
    },
    "slideshow": {
     "slide_type": "fragment"
    }
   },
   "outputs": [],
   "source": [
    "#하이퍼파라미터 - 튜닝대상 (변결될 가능이 높은 변수) => 한군데 몰아서 선언하는 것이 좋다.\n",
    "\n",
    "LEARNING_RATE = 0.001 # 학습률\n",
    "N_EPOCHS  = 200       # epoch수: traindataset을 몇번 학습할지 횟수.\n",
    "N_BATCHS = 32         # batch size: 1 step당 몇개의 데이터를 학습할지 (2의 거듭제곱한 값)\n",
    "\n",
    "# 사용할 변수를 미리선언\n",
    "N_TRAIN = train_X.shape[0] # train data의 개수\n",
    "N_TEST = test_X.shape[0]   # test data의 개수"
   ]
  },
  {
   "cell_type": "markdown",
   "metadata": {
    "slideshow": {
     "slide_type": "fragment"
    }
   },
   "source": [
    "##### X, y 전처리\n",
    "- MLP는 선형모델을 기반으로 하므로 Feature scaling을 해준다."
   ]
  },
  {
   "cell_type": "code",
   "execution_count": 37,
   "metadata": {
    "ExecuteTime": {
     "end_time": "2021-11-03T00:22:46.672715Z",
     "start_time": "2021-11-03T00:22:45.928931Z"
    },
    "slideshow": {
     "slide_type": "fragment"
    }
   },
   "outputs": [],
   "source": [
    "from sklearn.preprocessing import StandardScaler\n",
    "\n",
    "scaler = StandardScaler()\n",
    "X_train = scaler.fit_transform(train_X)\n",
    "X_test = scaler.transform(test_X)"
   ]
  },
  {
   "cell_type": "markdown",
   "metadata": {
    "slideshow": {
     "slide_type": "slide"
    }
   },
   "source": [
    "##### Dataset 생성"
   ]
  },
  {
   "cell_type": "code",
   "execution_count": 39,
   "metadata": {
    "ExecuteTime": {
     "end_time": "2021-11-03T00:22:49.378171Z",
     "start_time": "2021-11-03T00:22:49.346798Z"
    },
    "slideshow": {
     "slide_type": "fragment"
    }
   },
   "outputs": [],
   "source": [
    "# train set을 위한 dataset을 생성\n",
    "train_dataset = tf.data.Dataset.from_tensor_slices((X_train, train_y))\\  #(X_train, y_train)을 묶어서 제공.\n",
    "                                .shuffle(N_TRAIN)\\                       # shuffle -> epoch단위로 shuffle을 실행.\n",
    "                                .batch(N_BATCHS, drop_remainder=True)    \n",
    "        # batch size설정. Train set에서는 보통 drop_remainder=True로 설정. 각step마다 동일 개수의 데이터셋을 학습하도록 하기 위해.\n",
    "#validation dataset  -> 학습하는 도중에 검증데이터로 사용할 dataset (생략)\n",
    "\n",
    "    \n",
    "# 최종 평가시 사용할 데이터셋\n",
    "test_dataset = tf.data.Dataset.from_tensor_slices((X_test, test_y)).batch(N_BATCHS)\n",
    "# test set의 batch_size: 전체 데이터를 묶어서 검증하는 것이 아니라 batch_size 개수별로 검증해서 그 평균을 최종 평가 결과로 반환."
   ]
  },
  {
   "cell_type": "markdown",
   "metadata": {
    "slideshow": {
     "slide_type": "slide"
    }
   },
   "source": [
    "##### 모델 구현\n",
    "1. 모델을 생성 - Sequential 방식\n",
    "2. 모델에 Layer를 순서대로 추가\n",
    "    - Input Layer\n",
    "    - Hidden Layer 들 (layer의 unit수, layer의 개수 => 튜닝대상 (개수가 많을 수록 복잡한 모델 - overfitting발생할 수 있다.)\n",
    "    - Output Layer\n",
    "3. 학습을 위해서 compile"
   ]
  },
  {
   "cell_type": "code",
   "execution_count": 40,
   "metadata": {
    "ExecuteTime": {
     "end_time": "2021-11-03T00:25:45.682692Z",
     "start_time": "2021-11-03T00:25:45.665687Z"
    },
    "slideshow": {
     "slide_type": "fragment"
    }
   },
   "outputs": [],
   "source": [
    "def create_housing_model():\n",
    "    \n",
    "    model = keras.Sequential()\n",
    "#     1. Input Layer\n",
    "#     model.add(layers.Inputlayer((13,))) #input layer 추가 1. -> Inputlayer생성=>Feature shape를 지정\n",
    "#     input layer 추가 2 -> 첫번째 hidden layer 추가하면서 input_shape 속성에 Feature에 shape를 지정\n",
    "\n",
    "\n",
    "#     2. Hidden layer 추가.\n",
    "#     Denselayer: units - unit의 개수, activation: 활성함수\n",
    "#     Denselayer 의 unit수는 점점 개수를 줄여나간다.(관례적으로),\n",
    "    model.add(layers.Dense(units=128, activation='relu', input_shape=(13,)))\n",
    "\n",
    "    model.add(layers.Dense(units=64, activation='relu'))\n",
    "    model.add(layers.Dense(units=32, activation='relu'))\n",
    "    model.add(layers.Dense(units=16, activation='relu'))\n",
    "    \n",
    "    \n",
    "#     3. Output Layer 추가\n",
    "#     회귀문제에 대한 output layer - units: 추론한 결과값(정답)에 개수에 맞춘다. - 집값1개 (unit=1), activation: 지정하지 않는다.\n",
    "    model.add(layers.Dense(units=1))\n",
    "    \n",
    "    \n",
    "    return model"
   ]
  },
  {
   "cell_type": "code",
   "execution_count": 41,
   "metadata": {},
   "outputs": [],
   "source": [
    "def create_housing_model2():\n",
    "#     모델에 추가할 layer들을 리스트로 묶어서 Sequential 생성할때 넣어준다.\n",
    "    model = keras.Sequential([\n",
    "        layers.Dense(units=128, activation='relu', input_shape=(13,)),\n",
    "        layers.Dense(units=64, activation='relu'),\n",
    "        layers.Dense(units=32, activation='relu'),\n",
    "        layers.Dense(units=16, activation='relu'),\n",
    "        layers.Dense(units=1)\n",
    "\n",
    "    ])\n",
    "    \n",
    "    return model"
   ]
  },
  {
   "cell_type": "code",
   "execution_count": 64,
   "metadata": {
    "ExecuteTime": {
     "end_time": "2021-11-03T00:25:46.309942Z",
     "start_time": "2021-11-03T00:25:46.258942Z"
    },
    "slideshow": {
     "slide_type": "fragment"
    }
   },
   "outputs": [],
   "source": [
    "#모델생성\n",
    "model = create_housing_model()\n",
    "\n",
    "#모델 컴파일 - 모델을 학습할 수 있게 만들어 준다. => 모델에 optimizer와 loss 함수를 추가.\n",
    "# 회귀문제를 위한 모델 컴파일 -> loss: mse(mean squared error)\n",
    "# optimizer=옵티마이저 객체-Learning rate등 설정을 할경우., 문자열-기본설정을 사용할 경우.(\"adam\")\n",
    "model.compile(optimizer=keras.optimizers.Adam(learning_rate=LEARNING_RATE), loss='mse')"
   ]
  },
  {
   "cell_type": "code",
   "execution_count": 43,
   "metadata": {},
   "outputs": [
    {
     "data": {
      "text/plain": [
       "1792"
      ]
     },
     "execution_count": 43,
     "metadata": {},
     "output_type": "execute_result"
    }
   ],
   "source": [
    "# weight = 입력 features수 * unit 수\n",
    "# bias = unit수\n",
    "# Layer의 파라미터수: weight + bias\n",
    "\n",
    "w = 13 * 128\n",
    "b = 128\n",
    "p = w+b\n",
    "p"
   ]
  },
  {
   "cell_type": "code",
   "execution_count": 44,
   "metadata": {
    "slideshow": {
     "slide_type": "fragment"
    }
   },
   "outputs": [
    {
     "name": "stdout",
     "output_type": "stream",
     "text": [
      "Model: \"sequential\"\n",
      "_________________________________________________________________\n",
      " Layer (type)                Output Shape              Param #   \n",
      "=================================================================\n",
      " dense (Dense)               (None, 128)               1792      \n",
      "                                                                 \n",
      " dense_1 (Dense)             (None, 64)                8256      \n",
      "                                                                 \n",
      " dense_2 (Dense)             (None, 32)                2080      \n",
      "                                                                 \n",
      " dense_3 (Dense)             (None, 16)                528       \n",
      "                                                                 \n",
      " dense_4 (Dense)             (None, 1)                 17        \n",
      "                                                                 \n",
      "=================================================================\n",
      "Total params: 12,673\n",
      "Trainable params: 12,673\n",
      "Non-trainable params: 0\n",
      "_________________________________________________________________\n"
     ]
    }
   ],
   "source": [
    "#생성된 모델의 구조를 확인.\n",
    "model.summary()"
   ]
  },
  {
   "cell_type": "code",
   "execution_count": 45,
   "metadata": {},
   "outputs": [
    {
     "name": "stdout",
     "output_type": "stream",
     "text": [
      "Requirement already satisfied: pydot in /Users/han-yechan/miniforge3/envs/tf/lib/python3.8/site-packages (1.4.2)\n",
      "Requirement already satisfied: pyparsing>=2.1.4 in /Users/han-yechan/miniforge3/envs/tf/lib/python3.8/site-packages (from pydot) (3.0.9)\n",
      "Note: you may need to restart the kernel to use updated packages.\n"
     ]
    }
   ],
   "source": [
    "pip install pydot"
   ]
  },
  {
   "cell_type": "code",
   "execution_count": 48,
   "metadata": {
    "ExecuteTime": {
     "end_time": "2021-11-03T00:25:48.796508Z",
     "start_time": "2021-11-03T00:25:48.593053Z"
    },
    "slideshow": {
     "slide_type": "fragment"
    }
   },
   "outputs": [
    {
     "data": {
      "image/png": "[encoded data removed]",
      "text/plain": [
       "<IPython.core.display.Image object>"
      ]
     },
     "execution_count": 48,
     "metadata": {},
     "output_type": "execute_result"
    }
   ],
   "source": [
    "# keras.utils.plot_model(model) #모델의 구조를 graphviz를 이용해서 시각화. -> 파일로 저장 (model.png)\n",
    "# keras.utils.plot_model(model, show_shapes=True) # 각 Layer의 input shape과 output shape를 같이 시각화.\n",
    "\n",
    "keras.utils.plot_model(model, show_shapes=True, to_file ='housing_model.png')#to_file: 저장파경로 지정."
   ]
  },
  {
   "cell_type": "markdown",
   "metadata": {
    "slideshow": {
     "slide_type": "slide"
    }
   },
   "source": [
    "##### 학습(Train)"
   ]
  },
  {
   "cell_type": "code",
   "execution_count": 65,
   "metadata": {
    "ExecuteTime": {
     "end_time": "2021-11-03T00:26:09.427202Z",
     "start_time": "2021-11-03T00:25:52.255858Z"
    },
    "slideshow": {
     "slide_type": "fragment"
    }
   },
   "outputs": [
    {
     "name": "stdout",
     "output_type": "stream",
     "text": [
      "Epoch 1/200\n",
      "12/12 [==============================] - 0s 11ms/step - loss: 567.2117 - val_loss: 562.7773\n",
      "Epoch 2/200\n",
      " 1/12 [=>............................] - ETA: 0s - loss: 507.8739"
     ]
    },
    {
     "name": "stderr",
     "output_type": "stream",
     "text": [
      "2022-07-13 17:21:58.256903: I tensorflow/core/grappler/optimizers/custom_graph_optimizer_registry.cc:113] Plugin optimizer for device_type GPU is enabled.\n",
      "2022-07-13 17:21:58.400750: I tensorflow/core/grappler/optimizers/custom_graph_optimizer_registry.cc:113] Plugin optimizer for device_type GPU is enabled.\n"
     ]
    },
    {
     "name": "stdout",
     "output_type": "stream",
     "text": [
      "12/12 [==============================] - 0s 6ms/step - loss: 497.2532 - val_loss: 454.9243\n",
      "Epoch 3/200\n",
      "12/12 [==============================] - 0s 6ms/step - loss: 339.8321 - val_loss: 233.7691\n",
      "Epoch 4/200\n",
      "12/12 [==============================] - 0s 6ms/step - loss: 120.3931 - val_loss: 72.2532\n",
      "Epoch 5/200\n",
      "12/12 [==============================] - 0s 6ms/step - loss: 72.7455 - val_loss: 47.5162\n",
      "Epoch 6/200\n",
      "12/12 [==============================] - 0s 6ms/step - loss: 38.6241 - val_loss: 37.8384\n",
      "Epoch 7/200\n",
      "12/12 [==============================] - 0s 6ms/step - loss: 26.9121 - val_loss: 28.3142\n",
      "Epoch 8/200\n",
      "12/12 [==============================] - 0s 6ms/step - loss: 23.0220 - val_loss: 25.6102\n",
      "Epoch 9/200\n",
      "12/12 [==============================] - 0s 6ms/step - loss: 20.5071 - val_loss: 23.5130\n",
      "Epoch 10/200\n",
      "12/12 [==============================] - 0s 8ms/step - loss: 18.1506 - val_loss: 23.4114\n",
      "Epoch 11/200\n",
      "12/12 [==============================] - 0s 6ms/step - loss: 16.8897 - val_loss: 23.8095\n",
      "Epoch 12/200\n",
      "12/12 [==============================] - 0s 6ms/step - loss: 13.8471 - val_loss: 22.4954\n",
      "Epoch 13/200\n",
      "12/12 [==============================] - 0s 6ms/step - loss: 14.3564 - val_loss: 23.2812\n",
      "Epoch 14/200\n",
      "12/12 [==============================] - 0s 6ms/step - loss: 13.5998 - val_loss: 22.4502\n",
      "Epoch 15/200\n",
      "12/12 [==============================] - 0s 6ms/step - loss: 12.9376 - val_loss: 22.5594\n",
      "Epoch 16/200\n",
      "12/12 [==============================] - 0s 7ms/step - loss: 12.0950 - val_loss: 23.4428\n",
      "Epoch 17/200\n",
      "12/12 [==============================] - 0s 6ms/step - loss: 11.2210 - val_loss: 22.8495\n",
      "Epoch 18/200\n",
      "12/12 [==============================] - 0s 6ms/step - loss: 11.8078 - val_loss: 22.7877\n",
      "Epoch 19/200\n",
      "12/12 [==============================] - 0s 6ms/step - loss: 11.1819 - val_loss: 23.0800\n",
      "Epoch 20/200\n",
      "12/12 [==============================] - 0s 6ms/step - loss: 11.1739 - val_loss: 24.1676\n",
      "Epoch 21/200\n",
      "12/12 [==============================] - 0s 6ms/step - loss: 10.8805 - val_loss: 22.7703\n",
      "Epoch 22/200\n",
      "12/12 [==============================] - 0s 6ms/step - loss: 10.6615 - val_loss: 24.7714\n",
      "Epoch 23/200\n",
      "12/12 [==============================] - 0s 6ms/step - loss: 10.1379 - val_loss: 22.8515\n",
      "Epoch 24/200\n",
      "12/12 [==============================] - 0s 6ms/step - loss: 9.7985 - val_loss: 23.3786\n",
      "Epoch 25/200\n",
      "12/12 [==============================] - 0s 6ms/step - loss: 9.8110 - val_loss: 23.0125\n",
      "Epoch 26/200\n",
      "12/12 [==============================] - 0s 6ms/step - loss: 9.4156 - val_loss: 21.8806\n",
      "Epoch 27/200\n",
      "12/12 [==============================] - 0s 6ms/step - loss: 9.2370 - val_loss: 23.3397\n",
      "Epoch 28/200\n",
      "12/12 [==============================] - 0s 6ms/step - loss: 8.9434 - val_loss: 22.2606\n",
      "Epoch 29/200\n",
      "12/12 [==============================] - 0s 6ms/step - loss: 9.1396 - val_loss: 22.5980\n",
      "Epoch 30/200\n",
      "12/12 [==============================] - 0s 6ms/step - loss: 8.7881 - val_loss: 21.9280\n",
      "Epoch 31/200\n",
      "12/12 [==============================] - 0s 6ms/step - loss: 8.7152 - val_loss: 24.6863\n",
      "Epoch 32/200\n",
      "12/12 [==============================] - 0s 6ms/step - loss: 8.4292 - val_loss: 22.2238\n",
      "Epoch 33/200\n",
      "12/12 [==============================] - 0s 6ms/step - loss: 8.7501 - val_loss: 21.3818\n",
      "Epoch 34/200\n",
      "12/12 [==============================] - 0s 6ms/step - loss: 8.2469 - val_loss: 21.9036\n",
      "Epoch 35/200\n",
      "12/12 [==============================] - 0s 6ms/step - loss: 7.8625 - val_loss: 21.5046\n",
      "Epoch 36/200\n",
      "12/12 [==============================] - 0s 6ms/step - loss: 7.9494 - val_loss: 22.5550\n",
      "Epoch 37/200\n",
      "12/12 [==============================] - 0s 6ms/step - loss: 8.0582 - val_loss: 21.5938\n",
      "Epoch 38/200\n",
      "12/12 [==============================] - 0s 6ms/step - loss: 8.1564 - val_loss: 21.8016\n",
      "Epoch 39/200\n",
      "12/12 [==============================] - 0s 7ms/step - loss: 8.0438 - val_loss: 22.0652\n",
      "Epoch 40/200\n",
      "12/12 [==============================] - 0s 7ms/step - loss: 6.3629 - val_loss: 20.1739\n",
      "Epoch 41/200\n",
      "12/12 [==============================] - 0s 7ms/step - loss: 7.4396 - val_loss: 19.8217\n",
      "Epoch 42/200\n",
      "12/12 [==============================] - 0s 7ms/step - loss: 7.5724 - val_loss: 19.4566\n",
      "Epoch 43/200\n",
      "12/12 [==============================] - 0s 6ms/step - loss: 6.1616 - val_loss: 20.1683\n",
      "Epoch 44/200\n",
      "12/12 [==============================] - 0s 7ms/step - loss: 6.2208 - val_loss: 19.9168\n",
      "Epoch 45/200\n",
      "12/12 [==============================] - 0s 7ms/step - loss: 7.0895 - val_loss: 19.8436\n",
      "Epoch 46/200\n",
      "12/12 [==============================] - 0s 7ms/step - loss: 6.7981 - val_loss: 19.9625\n",
      "Epoch 47/200\n",
      "12/12 [==============================] - 0s 7ms/step - loss: 6.5301 - val_loss: 20.6329\n",
      "Epoch 48/200\n",
      "12/12 [==============================] - 0s 6ms/step - loss: 6.7554 - val_loss: 19.3734\n",
      "Epoch 49/200\n",
      "12/12 [==============================] - 0s 6ms/step - loss: 6.3247 - val_loss: 18.7845\n",
      "Epoch 50/200\n",
      "12/12 [==============================] - 0s 6ms/step - loss: 6.3664 - val_loss: 19.0719\n",
      "Epoch 51/200\n",
      "12/12 [==============================] - 0s 6ms/step - loss: 6.1327 - val_loss: 17.7979\n",
      "Epoch 52/200\n",
      "12/12 [==============================] - 0s 6ms/step - loss: 6.1589 - val_loss: 19.6741\n",
      "Epoch 53/200\n",
      "12/12 [==============================] - 0s 6ms/step - loss: 6.1243 - val_loss: 18.6488\n",
      "Epoch 54/200\n",
      "12/12 [==============================] - 0s 6ms/step - loss: 5.7983 - val_loss: 20.4268\n",
      "Epoch 55/200\n",
      "12/12 [==============================] - 0s 6ms/step - loss: 5.5269 - val_loss: 17.8590\n",
      "Epoch 56/200\n",
      "12/12 [==============================] - 0s 6ms/step - loss: 5.9014 - val_loss: 19.3653\n",
      "Epoch 57/200\n",
      "12/12 [==============================] - 0s 6ms/step - loss: 5.6173 - val_loss: 17.2086\n",
      "Epoch 58/200\n",
      "12/12 [==============================] - 0s 6ms/step - loss: 5.8775 - val_loss: 18.5419\n",
      "Epoch 59/200\n",
      "12/12 [==============================] - 0s 6ms/step - loss: 5.7359 - val_loss: 17.6525\n",
      "Epoch 60/200\n",
      "12/12 [==============================] - 0s 6ms/step - loss: 4.6951 - val_loss: 16.7003\n",
      "Epoch 61/200\n",
      "12/12 [==============================] - 0s 6ms/step - loss: 5.1739 - val_loss: 18.5036\n",
      "Epoch 62/200\n",
      "12/12 [==============================] - 0s 6ms/step - loss: 5.2917 - val_loss: 17.9761\n",
      "Epoch 63/200\n",
      "12/12 [==============================] - 0s 6ms/step - loss: 5.2556 - val_loss: 17.9850\n",
      "Epoch 64/200\n",
      "12/12 [==============================] - 0s 6ms/step - loss: 5.1385 - val_loss: 15.9986\n",
      "Epoch 65/200\n",
      "12/12 [==============================] - 0s 5ms/step - loss: 5.2421 - val_loss: 16.8994\n",
      "Epoch 66/200\n",
      "12/12 [==============================] - 0s 6ms/step - loss: 4.8278 - val_loss: 15.8762\n",
      "Epoch 67/200\n",
      "12/12 [==============================] - 0s 6ms/step - loss: 4.1327 - val_loss: 15.8241\n",
      "Epoch 68/200\n",
      "12/12 [==============================] - 0s 5ms/step - loss: 4.8276 - val_loss: 16.8440\n",
      "Epoch 69/200\n",
      "12/12 [==============================] - 0s 5ms/step - loss: 4.0996 - val_loss: 15.3071\n",
      "Epoch 70/200\n",
      "12/12 [==============================] - 0s 5ms/step - loss: 4.8136 - val_loss: 17.1091\n",
      "Epoch 71/200\n",
      "12/12 [==============================] - 0s 6ms/step - loss: 4.6694 - val_loss: 15.4059\n",
      "Epoch 72/200\n",
      "12/12 [==============================] - 0s 6ms/step - loss: 4.3529 - val_loss: 15.6118\n",
      "Epoch 73/200\n",
      "12/12 [==============================] - 0s 6ms/step - loss: 4.5454 - val_loss: 16.9327\n",
      "Epoch 74/200\n",
      "12/12 [==============================] - 0s 5ms/step - loss: 4.2747 - val_loss: 14.8131\n",
      "Epoch 75/200\n",
      "12/12 [==============================] - 0s 5ms/step - loss: 4.5157 - val_loss: 16.0630\n",
      "Epoch 76/200\n",
      "12/12 [==============================] - 0s 6ms/step - loss: 4.2333 - val_loss: 15.6124\n",
      "Epoch 77/200\n",
      "12/12 [==============================] - 0s 5ms/step - loss: 4.1381 - val_loss: 15.2028\n",
      "Epoch 78/200\n",
      "12/12 [==============================] - 0s 5ms/step - loss: 4.1435 - val_loss: 14.8134\n",
      "Epoch 79/200\n",
      "12/12 [==============================] - 0s 5ms/step - loss: 4.5319 - val_loss: 16.9443\n",
      "Epoch 80/200\n",
      "12/12 [==============================] - 0s 6ms/step - loss: 4.2490 - val_loss: 14.6882\n",
      "Epoch 81/200\n",
      "12/12 [==============================] - 0s 6ms/step - loss: 4.3165 - val_loss: 13.9089\n",
      "Epoch 82/200\n",
      "12/12 [==============================] - 0s 7ms/step - loss: 4.1657 - val_loss: 16.5280\n",
      "Epoch 83/200\n"
     ]
    },
    {
     "name": "stdout",
     "output_type": "stream",
     "text": [
      "12/12 [==============================] - 0s 6ms/step - loss: 4.1279 - val_loss: 15.2324\n",
      "Epoch 84/200\n",
      "12/12 [==============================] - 0s 5ms/step - loss: 3.9880 - val_loss: 13.6265\n",
      "Epoch 85/200\n",
      "12/12 [==============================] - 0s 5ms/step - loss: 4.0052 - val_loss: 15.1085\n",
      "Epoch 86/200\n",
      "12/12 [==============================] - 0s 5ms/step - loss: 3.8444 - val_loss: 14.1841\n",
      "Epoch 87/200\n",
      "12/12 [==============================] - 0s 5ms/step - loss: 3.6392 - val_loss: 13.5352\n",
      "Epoch 88/200\n",
      "12/12 [==============================] - 0s 5ms/step - loss: 3.6153 - val_loss: 13.8921\n",
      "Epoch 89/200\n",
      "12/12 [==============================] - 0s 5ms/step - loss: 3.6227 - val_loss: 14.1589\n",
      "Epoch 90/200\n",
      "12/12 [==============================] - 0s 5ms/step - loss: 3.4173 - val_loss: 13.8107\n",
      "Epoch 91/200\n",
      "12/12 [==============================] - 0s 5ms/step - loss: 3.5109 - val_loss: 13.9909\n",
      "Epoch 92/200\n",
      "12/12 [==============================] - 0s 5ms/step - loss: 4.1219 - val_loss: 13.4109\n",
      "Epoch 93/200\n",
      "12/12 [==============================] - 0s 5ms/step - loss: 3.5740 - val_loss: 13.7413\n",
      "Epoch 94/200\n",
      "12/12 [==============================] - 0s 6ms/step - loss: 3.3083 - val_loss: 13.6050\n",
      "Epoch 95/200\n",
      "12/12 [==============================] - 0s 5ms/step - loss: 3.1274 - val_loss: 14.6795\n",
      "Epoch 96/200\n",
      "12/12 [==============================] - 0s 6ms/step - loss: 3.3143 - val_loss: 12.9732\n",
      "Epoch 97/200\n",
      "12/12 [==============================] - 0s 6ms/step - loss: 3.2497 - val_loss: 14.3569\n",
      "Epoch 98/200\n",
      "12/12 [==============================] - 0s 6ms/step - loss: 3.2017 - val_loss: 13.2244\n",
      "Epoch 99/200\n",
      "12/12 [==============================] - 0s 6ms/step - loss: 3.3272 - val_loss: 13.8441\n",
      "Epoch 100/200\n",
      "12/12 [==============================] - 0s 6ms/step - loss: 3.2070 - val_loss: 14.3111\n",
      "Epoch 101/200\n",
      "12/12 [==============================] - 0s 6ms/step - loss: 3.1516 - val_loss: 13.3501\n",
      "Epoch 102/200\n",
      "12/12 [==============================] - 0s 6ms/step - loss: 2.8403 - val_loss: 13.5047\n",
      "Epoch 103/200\n",
      "12/12 [==============================] - 0s 5ms/step - loss: 3.0796 - val_loss: 14.2379\n",
      "Epoch 104/200\n",
      "12/12 [==============================] - 0s 6ms/step - loss: 3.0745 - val_loss: 12.9311\n",
      "Epoch 105/200\n",
      "12/12 [==============================] - 0s 6ms/step - loss: 2.7188 - val_loss: 13.7354\n",
      "Epoch 106/200\n",
      "12/12 [==============================] - 0s 5ms/step - loss: 3.0469 - val_loss: 13.1277\n",
      "Epoch 107/200\n",
      "12/12 [==============================] - 0s 5ms/step - loss: 3.2220 - val_loss: 15.6553\n",
      "Epoch 108/200\n",
      "12/12 [==============================] - 0s 5ms/step - loss: 3.4199 - val_loss: 13.4135\n",
      "Epoch 109/200\n",
      "12/12 [==============================] - 0s 5ms/step - loss: 3.0090 - val_loss: 13.0045\n",
      "Epoch 110/200\n",
      "12/12 [==============================] - 0s 5ms/step - loss: 3.0644 - val_loss: 14.5017\n",
      "Epoch 111/200\n",
      "12/12 [==============================] - 0s 5ms/step - loss: 2.9397 - val_loss: 12.8164\n",
      "Epoch 112/200\n",
      "12/12 [==============================] - 0s 5ms/step - loss: 2.7903 - val_loss: 13.3092\n",
      "Epoch 113/200\n",
      "12/12 [==============================] - 0s 5ms/step - loss: 2.9668 - val_loss: 13.3918\n",
      "Epoch 114/200\n",
      "12/12 [==============================] - 0s 5ms/step - loss: 2.5672 - val_loss: 13.2428\n",
      "Epoch 115/200\n",
      "12/12 [==============================] - 0s 5ms/step - loss: 2.7283 - val_loss: 13.1855\n",
      "Epoch 116/200\n",
      "12/12 [==============================] - 0s 5ms/step - loss: 2.7740 - val_loss: 13.1783\n",
      "Epoch 117/200\n",
      "12/12 [==============================] - 0s 5ms/step - loss: 2.5739 - val_loss: 13.2924\n",
      "Epoch 118/200\n",
      "12/12 [==============================] - 0s 5ms/step - loss: 2.5109 - val_loss: 13.0456\n",
      "Epoch 119/200\n",
      "12/12 [==============================] - 0s 6ms/step - loss: 2.4532 - val_loss: 13.1708\n",
      "Epoch 120/200\n",
      "12/12 [==============================] - 0s 5ms/step - loss: 2.5703 - val_loss: 13.0057\n",
      "Epoch 121/200\n",
      "12/12 [==============================] - 0s 5ms/step - loss: 2.6800 - val_loss: 13.8482\n",
      "Epoch 122/200\n",
      "12/12 [==============================] - 0s 5ms/step - loss: 2.4801 - val_loss: 13.3439\n",
      "Epoch 123/200\n",
      "12/12 [==============================] - 0s 5ms/step - loss: 2.4320 - val_loss: 12.8702\n",
      "Epoch 124/200\n",
      "12/12 [==============================] - 0s 6ms/step - loss: 2.3675 - val_loss: 13.4789\n",
      "Epoch 125/200\n",
      "12/12 [==============================] - 0s 6ms/step - loss: 2.2249 - val_loss: 13.7428\n",
      "Epoch 126/200\n",
      "12/12 [==============================] - 0s 6ms/step - loss: 2.6270 - val_loss: 12.2948\n",
      "Epoch 127/200\n",
      "12/12 [==============================] - 0s 6ms/step - loss: 2.5617 - val_loss: 13.6618\n",
      "Epoch 128/200\n",
      "12/12 [==============================] - 0s 6ms/step - loss: 2.4848 - val_loss: 13.1694\n",
      "Epoch 129/200\n",
      "12/12 [==============================] - 0s 6ms/step - loss: 2.5635 - val_loss: 13.4124\n",
      "Epoch 130/200\n",
      "12/12 [==============================] - 0s 6ms/step - loss: 2.3275 - val_loss: 13.1490\n",
      "Epoch 131/200\n",
      "12/12 [==============================] - 0s 6ms/step - loss: 2.3640 - val_loss: 13.1010\n",
      "Epoch 132/200\n",
      "12/12 [==============================] - 0s 5ms/step - loss: 2.3048 - val_loss: 12.9265\n",
      "Epoch 133/200\n",
      "12/12 [==============================] - 0s 6ms/step - loss: 2.2937 - val_loss: 13.5073\n",
      "Epoch 134/200\n",
      "12/12 [==============================] - 0s 6ms/step - loss: 2.3985 - val_loss: 13.4555\n",
      "Epoch 135/200\n",
      "12/12 [==============================] - 0s 5ms/step - loss: 2.1736 - val_loss: 13.3847\n",
      "Epoch 136/200\n",
      "12/12 [==============================] - 0s 5ms/step - loss: 2.3212 - val_loss: 12.9735\n",
      "Epoch 137/200\n",
      "12/12 [==============================] - 0s 6ms/step - loss: 2.2999 - val_loss: 13.0953\n",
      "Epoch 138/200\n",
      "12/12 [==============================] - 0s 5ms/step - loss: 2.1791 - val_loss: 12.8637\n",
      "Epoch 139/200\n",
      "12/12 [==============================] - 0s 6ms/step - loss: 2.3212 - val_loss: 13.0677\n",
      "Epoch 140/200\n",
      "12/12 [==============================] - 0s 6ms/step - loss: 2.3338 - val_loss: 13.2650\n",
      "Epoch 141/200\n",
      "12/12 [==============================] - 0s 6ms/step - loss: 2.2630 - val_loss: 14.5374\n",
      "Epoch 142/200\n",
      "12/12 [==============================] - 0s 6ms/step - loss: 2.5438 - val_loss: 13.5313\n",
      "Epoch 143/200\n",
      "12/12 [==============================] - 0s 5ms/step - loss: 2.4531 - val_loss: 14.4315\n",
      "Epoch 144/200\n",
      "12/12 [==============================] - 0s 6ms/step - loss: 2.7609 - val_loss: 13.0696\n",
      "Epoch 145/200\n",
      "12/12 [==============================] - 0s 5ms/step - loss: 2.9820 - val_loss: 13.4482\n",
      "Epoch 146/200\n",
      "12/12 [==============================] - 0s 6ms/step - loss: 2.7356 - val_loss: 13.5559\n",
      "Epoch 147/200\n",
      "12/12 [==============================] - 0s 6ms/step - loss: 2.3352 - val_loss: 13.4280\n",
      "Epoch 148/200\n",
      "12/12 [==============================] - 0s 6ms/step - loss: 2.2749 - val_loss: 14.0125\n",
      "Epoch 149/200\n",
      "12/12 [==============================] - 0s 7ms/step - loss: 2.4791 - val_loss: 13.9531\n",
      "Epoch 150/200\n",
      "12/12 [==============================] - 0s 6ms/step - loss: 2.2213 - val_loss: 13.7416\n",
      "Epoch 151/200\n",
      "12/12 [==============================] - 0s 6ms/step - loss: 2.0627 - val_loss: 13.0732\n",
      "Epoch 152/200\n",
      "12/12 [==============================] - 0s 5ms/step - loss: 2.1588 - val_loss: 13.1505\n",
      "Epoch 153/200\n",
      "12/12 [==============================] - 0s 6ms/step - loss: 1.9233 - val_loss: 13.7276\n",
      "Epoch 154/200\n",
      "12/12 [==============================] - 0s 6ms/step - loss: 1.8386 - val_loss: 13.0006\n",
      "Epoch 155/200\n",
      "12/12 [==============================] - 0s 6ms/step - loss: 1.7166 - val_loss: 13.2050\n",
      "Epoch 156/200\n",
      "12/12 [==============================] - 0s 6ms/step - loss: 2.0962 - val_loss: 12.9559\n",
      "Epoch 157/200\n",
      "12/12 [==============================] - 0s 5ms/step - loss: 1.9757 - val_loss: 14.1539\n",
      "Epoch 158/200\n",
      "12/12 [==============================] - 0s 6ms/step - loss: 1.8952 - val_loss: 13.7791\n",
      "Epoch 159/200\n",
      "12/12 [==============================] - 0s 6ms/step - loss: 2.0662 - val_loss: 13.3746\n",
      "Epoch 160/200\n",
      "12/12 [==============================] - 0s 6ms/step - loss: 1.8757 - val_loss: 13.1430\n",
      "Epoch 161/200\n",
      "12/12 [==============================] - 0s 6ms/step - loss: 1.7007 - val_loss: 13.3152\n",
      "Epoch 162/200\n",
      "12/12 [==============================] - 0s 6ms/step - loss: 1.7223 - val_loss: 14.1881\n",
      "Epoch 163/200\n"
     ]
    },
    {
     "name": "stdout",
     "output_type": "stream",
     "text": [
      "12/12 [==============================] - 0s 6ms/step - loss: 1.7176 - val_loss: 13.4952\n",
      "Epoch 164/200\n",
      "12/12 [==============================] - 0s 6ms/step - loss: 1.5365 - val_loss: 13.4685\n",
      "Epoch 165/200\n",
      "12/12 [==============================] - 0s 6ms/step - loss: 1.8845 - val_loss: 14.4969\n",
      "Epoch 166/200\n",
      "12/12 [==============================] - 0s 6ms/step - loss: 1.6961 - val_loss: 13.5465\n",
      "Epoch 167/200\n",
      "12/12 [==============================] - 0s 5ms/step - loss: 1.5781 - val_loss: 13.7018\n",
      "Epoch 168/200\n",
      "12/12 [==============================] - 0s 6ms/step - loss: 1.7085 - val_loss: 13.5427\n",
      "Epoch 169/200\n",
      "12/12 [==============================] - 0s 5ms/step - loss: 1.7293 - val_loss: 14.0626\n",
      "Epoch 170/200\n",
      "12/12 [==============================] - 0s 6ms/step - loss: 1.6677 - val_loss: 14.2340\n",
      "Epoch 171/200\n",
      "12/12 [==============================] - 0s 6ms/step - loss: 1.7101 - val_loss: 13.6455\n",
      "Epoch 172/200\n",
      "12/12 [==============================] - 0s 6ms/step - loss: 1.6398 - val_loss: 13.4805\n",
      "Epoch 173/200\n",
      "12/12 [==============================] - 0s 6ms/step - loss: 1.6336 - val_loss: 13.8044\n",
      "Epoch 174/200\n",
      "12/12 [==============================] - 0s 6ms/step - loss: 1.5976 - val_loss: 13.4926\n",
      "Epoch 175/200\n",
      "12/12 [==============================] - 0s 6ms/step - loss: 1.5395 - val_loss: 14.3650\n",
      "Epoch 176/200\n",
      "12/12 [==============================] - 0s 6ms/step - loss: 1.5266 - val_loss: 13.4867\n",
      "Epoch 177/200\n",
      "12/12 [==============================] - 0s 6ms/step - loss: 1.7671 - val_loss: 13.7501\n",
      "Epoch 178/200\n",
      "12/12 [==============================] - 0s 6ms/step - loss: 1.5734 - val_loss: 13.5666\n",
      "Epoch 179/200\n",
      "12/12 [==============================] - 0s 6ms/step - loss: 1.5694 - val_loss: 13.3630\n",
      "Epoch 180/200\n",
      "12/12 [==============================] - 0s 5ms/step - loss: 1.6885 - val_loss: 13.8624\n",
      "Epoch 181/200\n",
      "12/12 [==============================] - 0s 6ms/step - loss: 1.4729 - val_loss: 13.5816\n",
      "Epoch 182/200\n",
      "12/12 [==============================] - 0s 6ms/step - loss: 1.6132 - val_loss: 13.7726\n",
      "Epoch 183/200\n",
      "12/12 [==============================] - 0s 5ms/step - loss: 1.8371 - val_loss: 14.1179\n",
      "Epoch 184/200\n",
      "12/12 [==============================] - 0s 6ms/step - loss: 1.4923 - val_loss: 14.1669\n",
      "Epoch 185/200\n",
      "12/12 [==============================] - 0s 5ms/step - loss: 1.5503 - val_loss: 14.1126\n",
      "Epoch 186/200\n",
      "12/12 [==============================] - 0s 6ms/step - loss: 1.6622 - val_loss: 14.3980\n",
      "Epoch 187/200\n",
      "12/12 [==============================] - 0s 6ms/step - loss: 1.4554 - val_loss: 14.6297\n",
      "Epoch 188/200\n",
      "12/12 [==============================] - 0s 6ms/step - loss: 1.5822 - val_loss: 14.4542\n",
      "Epoch 189/200\n",
      "12/12 [==============================] - 0s 6ms/step - loss: 1.6519 - val_loss: 14.8413\n",
      "Epoch 190/200\n",
      "12/12 [==============================] - 0s 6ms/step - loss: 1.5219 - val_loss: 13.3368\n",
      "Epoch 191/200\n",
      "12/12 [==============================] - 0s 5ms/step - loss: 1.5332 - val_loss: 13.9728\n",
      "Epoch 192/200\n",
      "12/12 [==============================] - 0s 6ms/step - loss: 1.6711 - val_loss: 14.3631\n",
      "Epoch 193/200\n",
      "12/12 [==============================] - 0s 5ms/step - loss: 1.4256 - val_loss: 14.4192\n",
      "Epoch 194/200\n",
      "12/12 [==============================] - 0s 6ms/step - loss: 1.3946 - val_loss: 14.2399\n",
      "Epoch 195/200\n",
      "12/12 [==============================] - 0s 6ms/step - loss: 1.3223 - val_loss: 13.5557\n",
      "Epoch 196/200\n",
      "12/12 [==============================] - 0s 6ms/step - loss: 1.2464 - val_loss: 14.6201\n",
      "Epoch 197/200\n",
      "12/12 [==============================] - 0s 5ms/step - loss: 1.3460 - val_loss: 13.4500\n",
      "Epoch 198/200\n",
      "12/12 [==============================] - 0s 6ms/step - loss: 1.5105 - val_loss: 13.4691\n",
      "Epoch 199/200\n",
      "12/12 [==============================] - 0s 5ms/step - loss: 1.7940 - val_loss: 13.8273\n",
      "Epoch 200/200\n",
      "12/12 [==============================] - 0s 6ms/step - loss: 1.3585 - val_loss: 14.5061\n"
     ]
    }
   ],
   "source": [
    "#모델.fit() : 반환 - History: 학습한\n",
    "hist = model.fit(train_dataset, #train dataset(tf.data-batch+shuffle) - (X,y)\n",
    "                 epochs=N_EPOCHS,#epoch 수\n",
    "                 validation_data=test_dataset) #validation dataset(tf.data) 제공(X,y)"
   ]
  },
  {
   "cell_type": "markdown",
   "metadata": {
    "slideshow": {
     "slide_type": "slide"
    }
   },
   "source": [
    "##### 결과 시각화"
   ]
  },
  {
   "cell_type": "code",
   "execution_count": 66,
   "metadata": {
    "ExecuteTime": {
     "end_time": "2021-11-03T00:26:20.841629Z",
     "start_time": "2021-11-03T00:26:20.515761Z"
    },
    "slideshow": {
     "slide_type": "fragment"
    }
   },
   "outputs": [],
   "source": [
    "import matplotlib.pyplot as plt"
   ]
  },
  {
   "cell_type": "code",
   "execution_count": 67,
   "metadata": {
    "ExecuteTime": {
     "end_time": "2021-11-03T00:26:23.852973Z",
     "start_time": "2021-11-03T00:26:23.696962Z"
    },
    "slideshow": {
     "slide_type": "fragment"
    }
   },
   "outputs": [
    {
     "data": {
      "image/png": "[encoded data removed]",
      "text/plain": [
       "<Figure size 576x432 with 1 Axes>"
      ]
     },
     "metadata": {
      "needs_background": "light"
     },
     "output_type": "display_data"
    }
   ],
   "source": [
    "plt.figure(figsize=(8,6))\n",
    "plt.plot(range(1,N_EPOCHS+1), hist.history['loss'], label='Train Loss')\n",
    "plt.plot(range(1,N_EPOCHS+1), hist.history['val_loss'], label='Validation Loss')\n",
    "plt.xlabel(\"Epochs\")\n",
    "plt.ylabel('Loss')\n",
    "plt.legend()\n",
    "plt.show()"
   ]
  },
  {
   "cell_type": "code",
   "execution_count": 68,
   "metadata": {
    "ExecuteTime": {
     "end_time": "2021-11-03T00:26:26.920761Z",
     "start_time": "2021-11-03T00:26:26.792037Z"
    },
    "slideshow": {
     "slide_type": "fragment"
    }
   },
   "outputs": [
    {
     "data": {
      "image/png": "[encoded data removed]",
      "text/plain": [
       "<Figure size 576x432 with 1 Axes>"
      ]
     },
     "metadata": {
      "needs_background": "light"
     },
     "output_type": "display_data"
    }
   ],
   "source": [
    "plt.figure(figsize=(8,6))\n",
    "plt.plot(range(1,N_EPOCHS+1), hist.history['loss'], label='Train Loss')\n",
    "plt.plot(range(1,N_EPOCHS+1), hist.history['val_loss'], label='Validation Loss')\n",
    "plt.xlabel(\"Epochs\")\n",
    "plt.ylabel('Loss')\n",
    "\n",
    "plt.ylim(0,50)\n",
    "\n",
    "plt.legend()\n",
    "plt.show()"
   ]
  },
  {
   "cell_type": "markdown",
   "metadata": {
    "slideshow": {
     "slide_type": "slide"
    }
   },
   "source": [
    "##### 최종 테스트"
   ]
  },
  {
   "cell_type": "code",
   "execution_count": 69,
   "metadata": {
    "ExecuteTime": {
     "end_time": "2021-11-03T00:26:48.210620Z",
     "start_time": "2021-11-03T00:26:48.162252Z"
    },
    "slideshow": {
     "slide_type": "fragment"
    }
   },
   "outputs": [
    {
     "name": "stdout",
     "output_type": "stream",
     "text": [
      "4/4 [==============================] - 0s 6ms/step - loss: 14.5061\n",
      "14.506115913391113 3.8086895270409102\n"
     ]
    }
   ],
   "source": [
    "loss = model.evaluate(test_dataset)\n",
    "print(loss, np.sqrt(loss))"
   ]
  },
  {
   "cell_type": "markdown",
   "metadata": {
    "slideshow": {
     "slide_type": "slide"
    }
   },
   "source": [
    "##### 모델 네트워크 저장"
   ]
  },
  {
   "cell_type": "code",
   "execution_count": 70,
   "metadata": {
    "ExecuteTime": {
     "end_time": "2021-11-03T00:27:08.142867Z",
     "start_time": "2021-11-03T00:27:07.489865Z"
    },
    "slideshow": {
     "slide_type": "fragment"
    }
   },
   "outputs": [
    {
     "name": "stdout",
     "output_type": "stream",
     "text": [
      "INFO:tensorflow:Assets written to: models/boston_hosing_model/assets\n"
     ]
    }
   ],
   "source": [
    "model.save('models/boston_hosing_model')"
   ]
  },
  {
   "cell_type": "code",
   "execution_count": 75,
   "metadata": {},
   "outputs": [],
   "source": [
    "#저장된 모델을 읽어오기\n",
    "housing_model = keras.models.load_model('models/boston_hosing_model') #파일로 저장된 모델을 loading"
   ]
  },
  {
   "cell_type": "code",
   "execution_count": 76,
   "metadata": {},
   "outputs": [
    {
     "name": "stdout",
     "output_type": "stream",
     "text": [
      "Model: \"sequential_1\"\n",
      "_________________________________________________________________\n",
      " Layer (type)                Output Shape              Param #   \n",
      "=================================================================\n",
      " dense_5 (Dense)             (None, 128)               1792      \n",
      "                                                                 \n",
      " dense_6 (Dense)             (None, 64)                8256      \n",
      "                                                                 \n",
      " dense_7 (Dense)             (None, 32)                2080      \n",
      "                                                                 \n",
      " dense_8 (Dense)             (None, 16)                528       \n",
      "                                                                 \n",
      " dense_9 (Dense)             (None, 1)                 17        \n",
      "                                                                 \n",
      "=================================================================\n",
      "Total params: 12,673\n",
      "Trainable params: 12,673\n",
      "Non-trainable params: 0\n",
      "_________________________________________________________________\n"
     ]
    }
   ],
   "source": [
    "housing_model.summary()"
   ]
  },
  {
   "cell_type": "markdown",
   "metadata": {
    "slideshow": {
     "slide_type": "slide"
    }
   },
   "source": [
    "##### 새로운 데이터 추론"
   ]
  },
  {
   "cell_type": "code",
   "execution_count": 77,
   "metadata": {
    "ExecuteTime": {
     "end_time": "2021-11-03T00:28:25.092114Z",
     "start_time": "2021-11-03T00:28:24.972757Z"
    },
    "slideshow": {
     "slide_type": "fragment"
    }
   },
   "outputs": [
    {
     "data": {
      "text/plain": [
       "(5, 13)"
      ]
     },
     "execution_count": 77,
     "metadata": {},
     "output_type": "execute_result"
    }
   ],
   "source": [
    "new_data = X_test[:5]\n",
    "new_data.shape"
   ]
  },
  {
   "cell_type": "code",
   "execution_count": 80,
   "metadata": {},
   "outputs": [
    {
     "name": "stdout",
     "output_type": "stream",
     "text": [
      "1/1 [==============================] - 0s 13ms/step\n"
     ]
    }
   ],
   "source": [
    "# model.predict(추론한 Feature): 추론결과\n",
    "pred = housing_model.predict(new_data)"
   ]
  },
  {
   "cell_type": "code",
   "execution_count": 81,
   "metadata": {
    "ExecuteTime": {
     "end_time": "2021-11-03T00:28:26.346282Z",
     "start_time": "2021-11-03T00:28:26.339282Z"
    },
    "slideshow": {
     "slide_type": "fragment"
    }
   },
   "outputs": [
    {
     "data": {
      "text/plain": [
       "array([[ 7.642161],\n",
       "       [18.334005],\n",
       "       [20.928568],\n",
       "       [33.92518 ],\n",
       "       [23.035435]], dtype=float32)"
      ]
     },
     "execution_count": 81,
     "metadata": {},
     "output_type": "execute_result"
    }
   ],
   "source": [
    " pred"
   ]
  },
  {
   "cell_type": "code",
   "execution_count": 74,
   "metadata": {
    "ExecuteTime": {
     "end_time": "2021-11-03T00:28:28.308367Z",
     "start_time": "2021-11-03T00:28:28.297334Z"
    },
    "slideshow": {
     "slide_type": "fragment"
    }
   },
   "outputs": [
    {
     "data": {
      "text/plain": [
       "array([ 7.2, 18.8, 19. , 27. , 22.2])"
      ]
     },
     "execution_count": 74,
     "metadata": {},
     "output_type": "execute_result"
    }
   ],
   "source": [
    "test_y[:5]"
   ]
  },
  {
   "cell_type": "markdown",
   "metadata": {
    "slideshow": {
     "slide_type": "slide"
    }
   },
   "source": [
    "# 분류 (Classification)\n",
    "\n",
    "## Fashion MNIST Dataset - 다중분류(Multi-Class Classification) 문제"
   ]
  },
  {
   "cell_type": "markdown",
   "metadata": {
    "slideshow": {
     "slide_type": "fragment"
    }
   },
   "source": [
    "10개의 범주(category)와 70,000개의 흑백 이미지로 구성된 [패션 MNIST](https://github.com/zalandoresearch/fashion-mnist) 데이터셋. \n",
    "이미지는 해상도(28x28 픽셀)가 낮고 다음처럼 개별 의류 품목을 나타낸다:\n",
    "\n",
    "<table>\n",
    "  <tr><td>\n",
    "    <img src=\"https://tensorflow.org/images/fashion-mnist-sprite.png\"\n",
    "         alt=\"Fashion MNIST sprite\"  width=\"600\">\n",
    "  </td></tr>\n",
    "  <tr><td align=\"center\">\n",
    "    <b>그림</b> <a href=\"https://github.com/zalandoresearch/fashion-mnist\">패션-MNIST 샘플</a> (Zalando, MIT License).<br/>&nbsp;\n",
    "  </td></tr>\n",
    "</table>"
   ]
  },
  {
   "cell_type": "markdown",
   "metadata": {
    "slideshow": {
     "slide_type": "fragment"
    }
   },
   "source": [
    "이미지는 28x28 크기이며 Gray scale이다. *레이블*(label)은 0에서 9까지의 정수 배열이다. 아래 표는 이미지에 있는 의류의 **클래스**(class)들이다.\n",
    "\n",
    "<table>\n",
    "  <tr>\n",
    "    <th>레이블</th>\n",
    "    <th>클래스</th>\n",
    "  </tr>\n",
    "  <tr>\n",
    "    <td>0</td>\n",
    "    <td>T-shirt/top</td>\n",
    "  </tr>\n",
    "  <tr>\n",
    "    <td>1</td>\n",
    "    <td>Trousers</td>\n",
    "  </tr>\n",
    "    <tr>\n",
    "    <td>2</td>\n",
    "    <td>Pullover</td>\n",
    "  </tr>\n",
    "    <tr>\n",
    "    <td>3</td>\n",
    "    <td>Dress</td>\n",
    "  </tr>\n",
    "    <tr>\n",
    "    <td>4</td>\n",
    "    <td>Coat</td>\n",
    "  </tr>\n",
    "    <tr>\n",
    "    <td>5</td>\n",
    "    <td>Sandal</td>\n",
    "  </tr>\n",
    "    <tr>\n",
    "    <td>6</td>\n",
    "    <td>Shirt</td>\n",
    "  </tr>\n",
    "    <tr>\n",
    "    <td>7</td>\n",
    "    <td>Sneaker</td>\n",
    "  </tr>\n",
    "    <tr>\n",
    "    <td>8</td>\n",
    "    <td>Bag</td>\n",
    "  </tr>\n",
    "    <tr>\n",
    "    <td>9</td>\n",
    "    <td>Ankle boot</td>\n",
    "  </tr>\n",
    "</table>\n",
    "\n",
    "각 이미지는 하나의 레이블에 매핑되어 있다. 데이터셋에 클래스 이름이 들어있지 않기 때문에 나중에 이미지를 출력할 때 사용하기 위해 별도의 변수를 만들어 저장한다."
   ]
  },
  {
   "cell_type": "code",
   "execution_count": 82,
   "metadata": {
    "ExecuteTime": {
     "end_time": "2021-11-03T00:47:06.072078Z",
     "start_time": "2021-11-03T00:47:06.056411Z"
    },
    "slideshow": {
     "slide_type": "slide"
    }
   },
   "outputs": [],
   "source": [
    "import numpy as np\n",
    "import tensorflow as tf\n",
    "from tensorflow import keras\n",
    "from tensorflow.keras import layers\n",
    "import matplotlib.pyplot as plt\n",
    "\n",
    "np.random.seed(0)\n",
    "tf.random.set_seed(0)"
   ]
  },
  {
   "cell_type": "code",
   "execution_count": 83,
   "metadata": {
    "ExecuteTime": {
     "end_time": "2021-11-03T00:47:08.417890Z",
     "start_time": "2021-11-03T00:47:08.409857Z"
    },
    "slideshow": {
     "slide_type": "fragment"
    }
   },
   "outputs": [],
   "source": [
    "class_names = np.array(['T-shirt/top', 'Trousers', 'Pullover', 'Dress', 'Coat', 'Sandal', 'Shirt', 'Sneaker', 'Bag', 'Ankle boot'])"
   ]
  },
  {
   "cell_type": "markdown",
   "metadata": {
    "slideshow": {
     "slide_type": "slide"
    }
   },
   "source": [
    "##### Data 로딩"
   ]
  },
  {
   "cell_type": "code",
   "execution_count": 84,
   "metadata": {
    "ExecuteTime": {
     "end_time": "2021-11-03T00:47:16.054009Z",
     "start_time": "2021-11-03T00:47:15.714441Z"
    },
    "slideshow": {
     "slide_type": "fragment"
    }
   },
   "outputs": [
    {
     "name": "stdout",
     "output_type": "stream",
     "text": [
      "Downloading data from https://storage.googleapis.com/tensorflow/tf-keras-datasets/train-labels-idx1-ubyte.gz\n",
      "29515/29515 [==============================] - 0s 0us/step\n",
      "Downloading data from https://storage.googleapis.com/tensorflow/tf-keras-datasets/train-images-idx3-ubyte.gz\n",
      "26421880/26421880 [==============================] - 2s 0us/step\n",
      "Downloading data from https://storage.googleapis.com/tensorflow/tf-keras-datasets/t10k-labels-idx1-ubyte.gz\n",
      "5148/5148 [==============================] - 0s 0us/step\n",
      "Downloading data from https://storage.googleapis.com/tensorflow/tf-keras-datasets/t10k-images-idx3-ubyte.gz\n",
      "4422102/4422102 [==============================] - 0s 0us/step\n"
     ]
    }
   ],
   "source": [
    "(train_image, train_label), (test_image, test_label) = keras.datasets.fashion_mnist.load_data()"
   ]
  },
  {
   "cell_type": "markdown",
   "metadata": {
    "slideshow": {
     "slide_type": "fragment"
    }
   },
   "source": [
    "##### validation set  생성"
   ]
  },
  {
   "cell_type": "code",
   "execution_count": 85,
   "metadata": {
    "ExecuteTime": {
     "end_time": "2021-11-03T00:47:26.450100Z",
     "start_time": "2021-11-03T00:47:26.393999Z"
    },
    "slideshow": {
     "slide_type": "fragment"
    }
   },
   "outputs": [],
   "source": [
    "# Train dataset = > train/Validation 분리\n",
    "from sklearn.model_selection import train_test_split\n",
    "train_image, val_image, train_label, val_label = train_test_split(train_image, train_label, test_size=0.2, stratify=train_label, random_state=0)"
   ]
  },
  {
   "cell_type": "code",
   "execution_count": 86,
   "metadata": {},
   "outputs": [
    {
     "data": {
      "text/plain": [
       "((48000, 28, 28), (12000, 28, 28), (10000, 28, 28))"
      ]
     },
     "execution_count": 86,
     "metadata": {},
     "output_type": "execute_result"
    }
   ],
   "source": [
    "train_image.shape, val_image.shape, test_image.shape"
   ]
  },
  {
   "cell_type": "markdown",
   "metadata": {
    "slideshow": {
     "slide_type": "slide"
    }
   },
   "source": [
    "##### 이미지 확인"
   ]
  },
  {
   "cell_type": "code",
   "execution_count": 87,
   "metadata": {
    "ExecuteTime": {
     "end_time": "2021-11-03T00:49:25.876438Z",
     "start_time": "2021-11-03T00:49:25.130004Z"
    },
    "scrolled": false,
    "slideshow": {
     "slide_type": "fragment"
    }
   },
   "outputs": [
    {
     "data": {
      "image/png": "[encoded data removed]",
      "text/plain": [
       "<Figure size 720x720 with 25 Axes>"
      ]
     },
     "metadata": {},
     "output_type": "display_data"
    }
   ],
   "source": [
    "#train_image에서 25개\n",
    "plt.figure(figsize=(10,10))\n",
    "for i in range(25):\n",
    "    plt.subplot(5,5,i+1)\n",
    "    plt.xticks([])\n",
    "    plt.yticks([])\n",
    "    plt.imshow(train_image[i], cmap=\"Greys\")\n",
    "    plt.xlabel(class_names[train_label[i]])\n",
    "\n",
    "plt.tight_layout()\n",
    "plt.show()"
   ]
  },
  {
   "cell_type": "markdown",
   "metadata": {
    "slideshow": {
     "slide_type": "slide"
    }
   },
   "source": [
    "#### 하이퍼파라미터, 변수 설정"
   ]
  },
  {
   "cell_type": "code",
   "execution_count": 88,
   "metadata": {
    "ExecuteTime": {
     "end_time": "2021-11-03T00:50:08.423973Z",
     "start_time": "2021-11-03T00:50:08.412998Z"
    },
    "slideshow": {
     "slide_type": "fragment"
    }
   },
   "outputs": [],
   "source": [
    "LEARNING_RATE = 0.001\n",
    "N_EPOCHS = 20\n",
    "N_BATCHS = 100\n",
    "\n",
    "#각 데이터셋의 데이터개수를 변수에 저장\n",
    "N_TRAIN = train_image.shape[0]\n",
    "N_VAL = val_image.shape[0]\n",
    "N_TEST = test_image.shape[0]"
   ]
  },
  {
   "cell_type": "markdown",
   "metadata": {
    "slideshow": {
     "slide_type": "fragment"
    }
   },
   "source": [
    "#### X, y  전처리\n",
    "- y값 처리\n",
    "    - 다중 분류에서 label encoding 형식의 label을 one hot encoding 처리\n",
    "        - 모델이 각 클래스별 확률을 출력하도록 구현 -> loss계산을 위해 y(ground truth-정답)을 one hot encoding 처리."
   ]
  },
  {
   "cell_type": "code",
   "execution_count": 89,
   "metadata": {},
   "outputs": [
    {
     "data": {
      "text/plain": [
       "array([6, 5, 0, 1, 0], dtype=uint8)"
      ]
     },
     "execution_count": 89,
     "metadata": {},
     "output_type": "execute_result"
    }
   ],
   "source": [
    "train_label[:5]"
   ]
  },
  {
   "cell_type": "code",
   "execution_count": 90,
   "metadata": {
    "ExecuteTime": {
     "end_time": "2021-11-03T00:50:14.644235Z",
     "start_time": "2021-11-03T00:50:14.627229Z"
    },
    "slideshow": {
     "slide_type": "fragment"
    }
   },
   "outputs": [
    {
     "name": "stdout",
     "output_type": "stream",
     "text": [
      "(48000, 10) (12000, 10) (10000, 10)\n"
     ]
    }
   ],
   "source": [
    "y_train = keras.utils.to_categorical(train_label)\n",
    "y_val = keras.utils.to_categorical(val_label)\n",
    "y_test = keras.utils.to_categorical(test_label)\n",
    "print(y_train.shape, y_val.shape, y_test.shape)"
   ]
  },
  {
   "cell_type": "markdown",
   "metadata": {
    "slideshow": {
     "slide_type": "fragment"
    }
   },
   "source": [
    "- x값(이미지) 처리\n",
    "    - dtype을 uint8에서 float32로 변환한다.\n",
    "    - 0 ~ 1 정규화. X/255.0으로 나눈다.\n",
    "    "
   ]
  },
  {
   "cell_type": "code",
   "execution_count": 91,
   "metadata": {
    "ExecuteTime": {
     "end_time": "2021-11-03T00:50:23.474850Z",
     "start_time": "2021-11-03T00:50:23.392977Z"
    },
    "slideshow": {
     "slide_type": "fragment"
    }
   },
   "outputs": [],
   "source": [
    "X_train = train_image.astype(np.float32)\n",
    "X_val = val_image.astype(np.float32)\n",
    "X_test = test_image.astype(np.float32)\n",
    "\n",
    "# 255로 나누는 작업은 dataset생성시 map을 이용해서 처리\n",
    "# - 실제 할때는 직접 255로 나누도록 한다. map을 사용하는 것은 비효율 적이다."
   ]
  },
  {
   "cell_type": "markdown",
   "metadata": {
    "slideshow": {
     "slide_type": "slide"
    }
   },
   "source": [
    "##### Dataset 생성"
   ]
  },
  {
   "cell_type": "code",
   "execution_count": 92,
   "metadata": {
    "ExecuteTime": {
     "end_time": "2021-11-03T00:50:46.169253Z",
     "start_time": "2021-11-03T00:50:45.834414Z"
    },
    "slideshow": {
     "slide_type": "fragment"
    }
   },
   "outputs": [],
   "source": [
    "#map: x,y 를 받아서 x는 255로 나눠서 정규화 처리, y는 그대로 반환.\n",
    "train_dataset = tf.data.Dataset.from_tensor_slices((X_train, y_train))\\\n",
    "                               .map(lambda x, y : (x/255, y))\\\n",
    "                               .shuffle(N_TRAIN)\\\n",
    "                               .batch(N_BATCHS, drop_remainder=True)\n",
    "\n",
    "val_dataset = tf.data.Dataset.from_tensor_slices((X_val, y_val)).map(lambda x, y:(x/255, y)).batch(N_BATCHS)\n",
    "test_dataset = tf.data.Dataset.from_tensor_slices((X_test, y_test)).map(lambda x, y:(x/255, y)).batch(N_BATCHS)"
   ]
  },
  {
   "cell_type": "code",
   "execution_count": 93,
   "metadata": {
    "ExecuteTime": {
     "end_time": "2021-11-03T00:50:47.656028Z",
     "start_time": "2021-11-03T00:50:47.641016Z"
    },
    "slideshow": {
     "slide_type": "fragment"
    }
   },
   "outputs": [
    {
     "data": {
      "text/plain": [
       "(48000, 28, 28)"
      ]
     },
     "execution_count": 93,
     "metadata": {},
     "output_type": "execute_result"
    }
   ],
   "source": [
    "X_train.shape"
   ]
  },
  {
   "cell_type": "markdown",
   "metadata": {
    "slideshow": {
     "slide_type": "slide"
    }
   },
   "source": [
    "##### 모델 생성 및 컴파일"
   ]
  },
  {
   "cell_type": "code",
   "execution_count": 95,
   "metadata": {
    "ExecuteTime": {
     "end_time": "2021-11-03T00:51:29.420936Z",
     "start_time": "2021-11-03T00:51:29.411925Z"
    },
    "slideshow": {
     "slide_type": "fragment"
    }
   },
   "outputs": [],
   "source": [
    "def create_fashionmnist_model():\n",
    "    model = keras.Sequential()\n",
    "    #Hidden Layer\n",
    "    # 1. Flatten + input_shape을 지정해서 InputLayer를 추가.\n",
    "#     model.add(layers.InputLayer((28,28)))\n",
    "    model.add(layers.Flatten(input_shape=(28,28)))  \n",
    "    #Flatten:  입력데이터의 shape이 다차원 배열형태일때 1차원 배열로 변환(28,28) -> (28*28,) => DenseLayer의 입력은 1차원배열이어야 한다.\n",
    "    model.add(layers.Dense(units=256, activation='relu'))\n",
    "    model.add(layers.Dense(units=128, activation='relu'))\n",
    "    model.add(layers.Dense(units=64, activation='relu'))\n",
    "    \n",
    "#     output Layer: 다중분류 - unit수: class수 (각 unit이 클래스별 확률 출력) => activation함수: softmax\n",
    "    model.add(layers.Dense(units=10, activation='softmax'))\n",
    "    \n",
    "    return model"
   ]
  },
  {
   "cell_type": "code",
   "execution_count": 96,
   "metadata": {
    "ExecuteTime": {
     "end_time": "2021-11-03T00:51:36.406169Z",
     "start_time": "2021-11-03T00:51:36.339074Z"
    },
    "slideshow": {
     "slide_type": "fragment"
    }
   },
   "outputs": [],
   "source": [
    "model = create_fashionmnist_model()\n",
    "\n",
    "# 컴파일\n",
    "# 다중분류: Loss-categorical crossentropy (Log Loss)\n",
    "model.compile(optimizer=keras.optimizers.Adam(learning_rate=LEARNING_RATE), \n",
    "              loss='categorical_crossentropy',\n",
    "              metrics=['accuracy'])  # 평가지표 - accuracy 추가. (Loss와 accureacy 두개를 검증/평가지표로 확인.)"
   ]
  },
  {
   "cell_type": "code",
   "execution_count": 97,
   "metadata": {
    "ExecuteTime": {
     "end_time": "2021-11-03T00:51:38.364828Z",
     "start_time": "2021-11-03T00:51:38.354855Z"
    },
    "slideshow": {
     "slide_type": "fragment"
    }
   },
   "outputs": [
    {
     "name": "stdout",
     "output_type": "stream",
     "text": [
      "Model: \"sequential_2\"\n",
      "_________________________________________________________________\n",
      " Layer (type)                Output Shape              Param #   \n",
      "=================================================================\n",
      " flatten (Flatten)           (None, 784)               0         \n",
      "                                                                 \n",
      " dense_10 (Dense)            (None, 256)               200960    \n",
      "                                                                 \n",
      " dense_11 (Dense)            (None, 128)               32896     \n",
      "                                                                 \n",
      " dense_12 (Dense)            (None, 64)                8256      \n",
      "                                                                 \n",
      " dense_13 (Dense)            (None, 10)                650       \n",
      "                                                                 \n",
      "=================================================================\n",
      "Total params: 242,762\n",
      "Trainable params: 242,762\n",
      "Non-trainable params: 0\n",
      "_________________________________________________________________\n"
     ]
    }
   ],
   "source": [
    "model.summary()"
   ]
  },
  {
   "cell_type": "code",
   "execution_count": 98,
   "metadata": {
    "ExecuteTime": {
     "end_time": "2021-11-03T00:52:05.523556Z",
     "start_time": "2021-11-03T00:52:05.291154Z"
    },
    "slideshow": {
     "slide_type": "fragment"
    }
   },
   "outputs": [
    {
     "data": {
      "image/png": "[encoded data removed]",
      "text/plain": [
       "<IPython.core.display.Image object>"
      ]
     },
     "execution_count": 98,
     "metadata": {},
     "output_type": "execute_result"
    }
   ],
   "source": [
    "keras.utils.plot_model(model, show_shapes=True, to_file='fashion_mnist_model.png')"
   ]
  },
  {
   "cell_type": "markdown",
   "metadata": {
    "slideshow": {
     "slide_type": "slide"
    }
   },
   "source": [
    "##### Train(학습)"
   ]
  },
  {
   "cell_type": "code",
   "execution_count": 99,
   "metadata": {
    "ExecuteTime": {
     "end_time": "2021-11-03T00:52:33.784862Z",
     "start_time": "2021-11-03T00:52:17.884056Z"
    },
    "scrolled": false,
    "slideshow": {
     "slide_type": "fragment"
    }
   },
   "outputs": [
    {
     "name": "stdout",
     "output_type": "stream",
     "text": [
      "Epoch 1/20\n"
     ]
    },
    {
     "name": "stderr",
     "output_type": "stream",
     "text": [
      "2022-07-14 10:41:59.578585: I tensorflow/core/grappler/optimizers/custom_graph_optimizer_registry.cc:113] Plugin optimizer for device_type GPU is enabled.\n"
     ]
    },
    {
     "name": "stdout",
     "output_type": "stream",
     "text": [
      "480/480 [==============================] - ETA: 0s - loss: 0.5456 - accuracy: 0.8099"
     ]
    },
    {
     "name": "stderr",
     "output_type": "stream",
     "text": [
      "2022-07-14 10:42:04.338844: I tensorflow/core/grappler/optimizers/custom_graph_optimizer_registry.cc:113] Plugin optimizer for device_type GPU is enabled.\n"
     ]
    },
    {
     "name": "stdout",
     "output_type": "stream",
     "text": [
      "480/480 [==============================] - 6s 8ms/step - loss: 0.5456 - accuracy: 0.8099 - val_loss: 0.4203 - val_accuracy: 0.8473\n",
      "Epoch 2/20\n",
      "480/480 [==============================] - 4s 8ms/step - loss: 0.3826 - accuracy: 0.8620 - val_loss: 0.4090 - val_accuracy: 0.8503\n",
      "Epoch 3/20\n",
      "480/480 [==============================] - 4s 8ms/step - loss: 0.3398 - accuracy: 0.8756 - val_loss: 0.3478 - val_accuracy: 0.8706\n",
      "Epoch 4/20\n",
      "480/480 [==============================] - 4s 8ms/step - loss: 0.3152 - accuracy: 0.8832 - val_loss: 0.3256 - val_accuracy: 0.8809\n",
      "Epoch 5/20\n",
      "480/480 [==============================] - 4s 8ms/step - loss: 0.2952 - accuracy: 0.8898 - val_loss: 0.3222 - val_accuracy: 0.8834\n",
      "Epoch 6/20\n",
      "480/480 [==============================] - 4s 8ms/step - loss: 0.2768 - accuracy: 0.8970 - val_loss: 0.3190 - val_accuracy: 0.8842\n",
      "Epoch 7/20\n",
      "480/480 [==============================] - 4s 8ms/step - loss: 0.2614 - accuracy: 0.9030 - val_loss: 0.3095 - val_accuracy: 0.8874\n",
      "Epoch 8/20\n",
      "480/480 [==============================] - 4s 8ms/step - loss: 0.2574 - accuracy: 0.9021 - val_loss: 0.3080 - val_accuracy: 0.8871\n",
      "Epoch 9/20\n",
      "480/480 [==============================] - 4s 8ms/step - loss: 0.2437 - accuracy: 0.9088 - val_loss: 0.2969 - val_accuracy: 0.8918\n",
      "Epoch 10/20\n",
      "480/480 [==============================] - 4s 8ms/step - loss: 0.2340 - accuracy: 0.9109 - val_loss: 0.2977 - val_accuracy: 0.8927\n",
      "Epoch 11/20\n",
      "480/480 [==============================] - 4s 8ms/step - loss: 0.2255 - accuracy: 0.9143 - val_loss: 0.3036 - val_accuracy: 0.8917\n",
      "Epoch 12/20\n",
      "480/480 [==============================] - 4s 8ms/step - loss: 0.2199 - accuracy: 0.9165 - val_loss: 0.3120 - val_accuracy: 0.8920\n",
      "Epoch 13/20\n",
      "480/480 [==============================] - 4s 8ms/step - loss: 0.2104 - accuracy: 0.9197 - val_loss: 0.3014 - val_accuracy: 0.8954\n",
      "Epoch 14/20\n",
      "480/480 [==============================] - 4s 8ms/step - loss: 0.2031 - accuracy: 0.9239 - val_loss: 0.3033 - val_accuracy: 0.8958\n",
      "Epoch 15/20\n",
      "480/480 [==============================] - 4s 8ms/step - loss: 0.1941 - accuracy: 0.9255 - val_loss: 0.3324 - val_accuracy: 0.8907\n",
      "Epoch 16/20\n",
      "480/480 [==============================] - 4s 8ms/step - loss: 0.1889 - accuracy: 0.9287 - val_loss: 0.3332 - val_accuracy: 0.8881\n",
      "Epoch 17/20\n",
      "480/480 [==============================] - 4s 8ms/step - loss: 0.1835 - accuracy: 0.9298 - val_loss: 0.3281 - val_accuracy: 0.8872\n",
      "Epoch 18/20\n",
      "480/480 [==============================] - 4s 8ms/step - loss: 0.1784 - accuracy: 0.9322 - val_loss: 0.3315 - val_accuracy: 0.8930\n",
      "Epoch 19/20\n",
      "480/480 [==============================] - 4s 8ms/step - loss: 0.1742 - accuracy: 0.9338 - val_loss: 0.3162 - val_accuracy: 0.8982\n",
      "Epoch 20/20\n",
      "480/480 [==============================] - 4s 8ms/step - loss: 0.1637 - accuracy: 0.9379 - val_loss: 0.3348 - val_accuracy: 0.8921\n"
     ]
    }
   ],
   "source": [
    "hist = model.fit(train_dataset,\n",
    "                 epochs=N_EPOCHS,\n",
    "                 validation_data=val_dataset)"
   ]
  },
  {
   "cell_type": "markdown",
   "metadata": {
    "slideshow": {
     "slide_type": "fragment"
    }
   },
   "source": [
    "##### 결과 시각화\n",
    "\n",
    "- 학습시 epoch별 train/validation set에 대한 검증 결과 시각화"
   ]
  },
  {
   "cell_type": "code",
   "execution_count": 100,
   "metadata": {
    "ExecuteTime": {
     "end_time": "2021-11-03T00:53:47.655062Z",
     "start_time": "2021-11-03T00:53:47.523937Z"
    },
    "slideshow": {
     "slide_type": "fragment"
    }
   },
   "outputs": [
    {
     "data": {
      "image/png": "[encoded data removed]",
      "text/plain": [
       "<Figure size 504x432 with 1 Axes>"
      ]
     },
     "metadata": {
      "needs_background": "light"
     },
     "output_type": "display_data"
    }
   ],
   "source": [
    "# loss\n",
    "\n",
    "\n",
    "plt.figure(figsize=(7,6))\n",
    "plt.plot(range(1, N_EPOCHS+1), hist.history['loss'], label='train loss')\n",
    "plt.plot(range(1, N_EPOCHS+1), hist.history['val_loss'], label='validation loss')\n",
    "plt.title(\"LOSS\", fontsize=20)\n",
    "plt.xlabel(\"Epochs\")\n",
    "plt.ylabel(\"Loss\")\n",
    "plt.legend()\n",
    "plt.show()"
   ]
  },
  {
   "cell_type": "code",
   "execution_count": 101,
   "metadata": {
    "ExecuteTime": {
     "end_time": "2021-11-03T00:54:00.384594Z",
     "start_time": "2021-11-03T00:54:00.250062Z"
    },
    "scrolled": true,
    "slideshow": {
     "slide_type": "fragment"
    }
   },
   "outputs": [
    {
     "data": {
      "image/png": "[encoded data removed]",
      "text/plain": [
       "<Figure size 504x432 with 1 Axes>"
      ]
     },
     "metadata": {
      "needs_background": "light"
     },
     "output_type": "display_data"
    }
   ],
   "source": [
    "#accuracy\n",
    "\n",
    "plt.figure(figsize=(7,6))\n",
    "plt.plot(range(1, N_EPOCHS+1), hist.history['accuracy'], label='train accuracy')\n",
    "plt.plot(range(1, N_EPOCHS+1), hist.history['val_accuracy'], label='validation accuracy')\n",
    "plt.title(\"Accuracy\", fontsize=20)\n",
    "plt.xlabel(\"Epochs\")\n",
    "plt.ylabel(\"Accuracy\")\n",
    "plt.legend()\n",
    "plt.show()"
   ]
  },
  {
   "cell_type": "markdown",
   "metadata": {
    "slideshow": {
     "slide_type": "slide"
    }
   },
   "source": [
    "#### 최종평가"
   ]
  },
  {
   "cell_type": "code",
   "execution_count": 102,
   "metadata": {
    "ExecuteTime": {
     "end_time": "2021-11-03T00:54:08.281394Z",
     "start_time": "2021-11-03T00:54:07.619852Z"
    },
    "scrolled": true,
    "slideshow": {
     "slide_type": "fragment"
    }
   },
   "outputs": [
    {
     "name": "stdout",
     "output_type": "stream",
     "text": [
      "100/100 [==============================] - 1s 6ms/step - loss: 0.3824 - accuracy: 0.8838\n"
     ]
    }
   ],
   "source": [
    "loss, accuracy = model.evaluate(test_dataset)"
   ]
  },
  {
   "cell_type": "code",
   "execution_count": 103,
   "metadata": {
    "ExecuteTime": {
     "end_time": "2021-11-03T00:54:12.226598Z",
     "start_time": "2021-11-03T00:54:12.218569Z"
    },
    "slideshow": {
     "slide_type": "fragment"
    }
   },
   "outputs": [
    {
     "name": "stdout",
     "output_type": "stream",
     "text": [
      "0.3823786675930023 0.8838000297546387\n"
     ]
    }
   ],
   "source": [
    "print(loss, accuracy)"
   ]
  },
  {
   "cell_type": "markdown",
   "metadata": {},
   "source": [
    "####  모델저장"
   ]
  },
  {
   "cell_type": "code",
   "execution_count": 104,
   "metadata": {},
   "outputs": [
    {
     "name": "stdout",
     "output_type": "stream",
     "text": [
      "INFO:tensorflow:Assets written to: models/fashion_mnist_model/assets\n"
     ]
    }
   ],
   "source": [
    "model.save('models/fashion_mnist_model')"
   ]
  },
  {
   "cell_type": "code",
   "execution_count": 105,
   "metadata": {},
   "outputs": [],
   "source": [
    "# 불러오기\n",
    "f_model = keras.models.load_model('models/fashion_mnist_model')"
   ]
  },
  {
   "cell_type": "markdown",
   "metadata": {
    "slideshow": {
     "slide_type": "slide"
    }
   },
   "source": [
    "#### 새로운 데이터 추론"
   ]
  },
  {
   "cell_type": "code",
   "execution_count": 106,
   "metadata": {
    "ExecuteTime": {
     "end_time": "2021-11-03T00:54:17.195599Z",
     "start_time": "2021-11-03T00:54:17.187618Z"
    },
    "slideshow": {
     "slide_type": "fragment"
    }
   },
   "outputs": [],
   "source": [
    "new_input = X_test[:5]\n",
    "new_input = new_input/255.0"
   ]
  },
  {
   "cell_type": "code",
   "execution_count": 107,
   "metadata": {
    "ExecuteTime": {
     "end_time": "2021-11-03T00:56:14.884900Z",
     "start_time": "2021-11-03T00:56:14.836879Z"
    },
    "slideshow": {
     "slide_type": "fragment"
    }
   },
   "outputs": [
    {
     "name": "stdout",
     "output_type": "stream",
     "text": [
      "1/1 [==============================] - 0s 49ms/step\n"
     ]
    },
    {
     "name": "stderr",
     "output_type": "stream",
     "text": [
      "2022-07-14 10:50:30.939153: I tensorflow/core/grappler/optimizers/custom_graph_optimizer_registry.cc:113] Plugin optimizer for device_type GPU is enabled.\n"
     ]
    },
    {
     "data": {
      "text/plain": [
       "array([7.1982163e-06, 2.8916890e-08, 3.5536616e-09, 1.0799455e-06,\n",
       "       2.0954714e-09, 6.0636590e-05, 2.8975135e-08, 5.3342232e-03,\n",
       "       5.1219189e-08, 9.9459690e-01], dtype=float32)"
      ]
     },
     "execution_count": 107,
     "metadata": {},
     "output_type": "execute_result"
    }
   ],
   "source": [
    "pred = model.predict(new_input)\n",
    "pred[0]"
   ]
  },
  {
   "cell_type": "code",
   "execution_count": 108,
   "metadata": {
    "ExecuteTime": {
     "end_time": "2021-11-03T00:54:20.055845Z",
     "start_time": "2021-11-03T00:54:20.043810Z"
    },
    "slideshow": {
     "slide_type": "fragment"
    }
   },
   "outputs": [
    {
     "data": {
      "text/plain": [
       "array([9, 2, 1, 1, 6])"
      ]
     },
     "execution_count": 108,
     "metadata": {},
     "output_type": "execute_result"
    }
   ],
   "source": [
    "# 예측한 label\n",
    "pred_class = np.argmax(pred, axis=-1) #argmax() max값의 index\n",
    "pred_class"
   ]
  },
  {
   "cell_type": "code",
   "execution_count": 109,
   "metadata": {
    "ExecuteTime": {
     "end_time": "2021-11-03T00:54:25.841265Z",
     "start_time": "2021-11-03T00:54:25.829247Z"
    },
    "slideshow": {
     "slide_type": "fragment"
    }
   },
   "outputs": [
    {
     "data": {
      "text/plain": [
       "array([9, 2, 1, 1, 6], dtype=uint8)"
      ]
     },
     "execution_count": 109,
     "metadata": {},
     "output_type": "execute_result"
    }
   ],
   "source": [
    "test_label[:5]"
   ]
  },
  {
   "cell_type": "code",
   "execution_count": 110,
   "metadata": {
    "ExecuteTime": {
     "end_time": "2021-11-03T00:56:30.733619Z",
     "start_time": "2021-11-03T00:56:30.713647Z"
    },
    "slideshow": {
     "slide_type": "fragment"
    }
   },
   "outputs": [
    {
     "data": {
      "text/plain": [
       "array(['Ankle boot', 'Pullover', 'Trousers', 'Trousers', 'Shirt'],\n",
       "      dtype='<U11')"
      ]
     },
     "execution_count": 110,
     "metadata": {},
     "output_type": "execute_result"
    }
   ],
   "source": [
    "pred_class_name = class_names[pred_class]\n",
    "pred_class_name"
   ]
  },
  {
   "cell_type": "code",
   "execution_count": 111,
   "metadata": {},
   "outputs": [
    {
     "data": {
      "text/plain": [
       "array([0.9945969 , 0.99745935, 1.        , 1.        , 0.9266964 ],\n",
       "      dtype=float32)"
      ]
     },
     "execution_count": 111,
     "metadata": {},
     "output_type": "execute_result"
    }
   ],
   "source": [
    "pred_proba = np.max(pred, axis=-1) #예측한 정답에 대한 확률\n",
    "pred_proba"
   ]
  },
  {
   "cell_type": "code",
   "execution_count": 113,
   "metadata": {},
   "outputs": [
    {
     "name": "stdout",
     "output_type": "stream",
     "text": [
      "0. Ankle boot: 0.9946\n",
      "1. Pullover: 0.9975\n",
      "2. Trousers: 1.0000\n",
      "3. Trousers: 1.0000\n",
      "4. Shirt: 0.9267\n"
     ]
    }
   ],
   "source": [
    "for idx, (name, proba) in enumerate(zip(pred_class_name, pred_proba)):\n",
    "    print(f\"{idx}. {name}: {proba:.4f}\")\n",
    "    "
   ]
  },
  {
   "cell_type": "markdown",
   "metadata": {
    "slideshow": {
     "slide_type": "slide"
    }
   },
   "source": [
    "## 위스콘신 유방암 데이터셋 - 이진분류(Binary Classification) 문제\n",
    "\n",
    "- **이진 분류 문제 처리 모델의 두가지 방법**\n",
    "    1. positive(1)일 확률을 출력하도록 구현\n",
    "        - output layer - unit-1, activation: sigmoid (logistic 함수)\n",
    "        - loss:; binary_crossentropy\n",
    "    2. negative(0)일 확률과 positive(1)일 확률을 출력하도록 구현 => 다중분류 처리 방식으로 해결\n",
    "        - output layer: unit-2, activation: softmax\n",
    "        - loss: categorical_crossentropy\n",
    "\n",
    "\n",
    "\n",
    "- 위스콘신 대학교에서 제공한 종양의 악성/양성여부 분류를 위한 데이터셋\n",
    "- Feature\n",
    "    - 종양에 대한 다양한 측정값들\n",
    "- Target의 class\n",
    "    - 0 - malignant(악성종양)\n",
    "    - 1 - benign(양성종양)\n",
    "    - => 양성종양 여부 확인하는 모델."
   ]
  },
  {
   "cell_type": "code",
   "execution_count": 114,
   "metadata": {
    "ExecuteTime": {
     "end_time": "2021-11-03T00:57:04.860404Z",
     "start_time": "2021-11-03T00:57:04.769013Z"
    },
    "slideshow": {
     "slide_type": "slide"
    }
   },
   "outputs": [],
   "source": [
    "import numpy as np\n",
    "import tensorflow as tf\n",
    "from tensorflow import keras\n",
    "from tensorflow.keras import layers\n",
    "\n",
    "from sklearn.datasets import load_breast_cancer\n",
    "from sklearn.preprocessing import StandardScaler\n",
    "from sklearn.model_selection import train_test_split\n",
    "\n",
    "np.random.seed(0)\n",
    "tf.random.set_seed(0)"
   ]
  },
  {
   "cell_type": "markdown",
   "metadata": {
    "slideshow": {
     "slide_type": "slide"
    }
   },
   "source": [
    "##### 데이터 로딩, train/validation/test set 나누기"
   ]
  },
  {
   "cell_type": "code",
   "execution_count": 115,
   "metadata": {
    "ExecuteTime": {
     "end_time": "2021-11-03T00:57:07.145465Z",
     "start_time": "2021-11-03T00:57:07.116460Z"
    },
    "slideshow": {
     "slide_type": "fragment"
    }
   },
   "outputs": [
    {
     "data": {
      "text/plain": [
       "((569, 30), (569,))"
      ]
     },
     "execution_count": 115,
     "metadata": {},
     "output_type": "execute_result"
    }
   ],
   "source": [
    "X, y = load_breast_cancer(return_X_y=True)\n",
    "X.shape, y.shape"
   ]
  },
  {
   "cell_type": "code",
   "execution_count": 116,
   "metadata": {
    "ExecuteTime": {
     "end_time": "2021-11-03T00:57:08.000145Z",
     "start_time": "2021-11-03T00:57:07.964172Z"
    },
    "slideshow": {
     "slide_type": "fragment"
    }
   },
   "outputs": [
    {
     "data": {
      "text/plain": [
       "((364, 30), (91, 30), (114, 30))"
      ]
     },
     "execution_count": 116,
     "metadata": {},
     "output_type": "execute_result"
    }
   ],
   "source": [
    "X_train, X_test, y_train, y_test = train_test_split(X, y, test_size=0.2, stratify=y, random_state=0)\n",
    "\n",
    "X_train, X_val, y_train, y_val = train_test_split(X_train, y_train, test_size=0.2, stratify=y_train, random_state=0)\n",
    "\n",
    "X_train.shape, X_val.shape, X_test.shape"
   ]
  },
  {
   "cell_type": "code",
   "execution_count": 117,
   "metadata": {
    "ExecuteTime": {
     "end_time": "2021-11-03T00:57:08.931182Z",
     "start_time": "2021-11-03T00:57:08.907148Z"
    },
    "slideshow": {
     "slide_type": "fragment"
    }
   },
   "outputs": [
    {
     "data": {
      "text/plain": [
       "array([[1.955e+01, 2.321e+01, 1.289e+02, 1.174e+03, 1.010e-01, 1.318e-01,\n",
       "        1.856e-01, 1.021e-01, 1.989e-01, 5.884e-02, 6.107e-01, 2.836e+00,\n",
       "        5.383e+00, 7.010e+01, 1.124e-02, 4.097e-02, 7.469e-02, 3.441e-02,\n",
       "        2.768e-02, 6.240e-03, 2.082e+01, 3.044e+01, 1.420e+02, 1.313e+03,\n",
       "        1.251e-01, 2.414e-01, 3.829e-01, 1.825e-01, 2.576e-01, 7.602e-02],\n",
       "       [1.378e+01, 1.579e+01, 8.837e+01, 5.859e+02, 8.817e-02, 6.718e-02,\n",
       "        1.055e-02, 9.937e-03, 1.405e-01, 5.848e-02, 3.563e-01, 4.833e-01,\n",
       "        2.235e+00, 2.934e+01, 6.432e-03, 1.156e-02, 7.741e-03, 5.657e-03,\n",
       "        1.227e-02, 2.564e-03, 1.527e+01, 1.750e+01, 9.790e+01, 7.066e+02,\n",
       "        1.072e-01, 1.071e-01, 3.517e-02, 3.312e-02, 1.859e-01, 6.810e-02],\n",
       "       [1.865e+01, 1.760e+01, 1.237e+02, 1.076e+03, 1.099e-01, 1.686e-01,\n",
       "        1.974e-01, 1.009e-01, 1.907e-01, 6.049e-02, 6.289e-01, 6.633e-01,\n",
       "        4.293e+00, 7.156e+01, 6.294e-03, 3.994e-02, 5.554e-02, 1.695e-02,\n",
       "        2.428e-02, 3.535e-03, 2.282e+01, 2.132e+01, 1.506e+02, 1.567e+03,\n",
       "        1.679e-01, 5.090e-01, 7.345e-01, 2.378e-01, 3.799e-01, 9.185e-02]])"
      ]
     },
     "execution_count": 117,
     "metadata": {},
     "output_type": "execute_result"
    }
   ],
   "source": [
    "X_train[:3]"
   ]
  },
  {
   "cell_type": "code",
   "execution_count": 118,
   "metadata": {
    "ExecuteTime": {
     "end_time": "2021-11-03T00:57:09.945394Z",
     "start_time": "2021-11-03T00:57:09.932401Z"
    },
    "slideshow": {
     "slide_type": "fragment"
    }
   },
   "outputs": [
    {
     "data": {
      "text/plain": [
       "array([0, 1, 0])"
      ]
     },
     "execution_count": 118,
     "metadata": {},
     "output_type": "execute_result"
    }
   ],
   "source": [
    "y_train[:3]"
   ]
  },
  {
   "cell_type": "markdown",
   "metadata": {
    "slideshow": {
     "slide_type": "slide"
    }
   },
   "source": [
    "#### 하이퍼파라미터, 변수 정의"
   ]
  },
  {
   "cell_type": "code",
   "execution_count": 119,
   "metadata": {
    "ExecuteTime": {
     "end_time": "2021-11-03T00:57:16.677364Z",
     "start_time": "2021-11-03T00:57:16.673362Z"
    },
    "slideshow": {
     "slide_type": "fragment"
    }
   },
   "outputs": [],
   "source": [
    "LEARNING_RATE = 0.001\n",
    "N_EPOCHS = 150\n",
    "N_BATCHS = 50\n",
    "\n",
    "N_TRAIN = X_train.shape[0]\n",
    "N_VAL = X_val.shape[0]\n",
    "N_TEST = X_test.shape[0]"
   ]
  },
  {
   "cell_type": "markdown",
   "metadata": {
    "slideshow": {
     "slide_type": "fragment"
    }
   },
   "source": [
    "#### 데이터 전처리\n",
    "- 이진 분류\n",
    "    - 출력 레이어의 unit을 1개, activation 함수를 sigmoid를 사용하는 경우(1일 확률) => y:그대로 사용\n",
    "    - 출력 레이어의 unit을 2개, activation 함수를 sofmax를 사용하는 경우(0일 확률, 1일 확률) - 다중분류와 동일하게 구현 => y: one hot encoding\n",
    "- X: 테이블데이터\n",
    "    - 문자열(범주형): one hot encoding\n",
    "    - 연속형(수치형): feature scaling"
   ]
  },
  {
   "cell_type": "code",
   "execution_count": 120,
   "metadata": {
    "ExecuteTime": {
     "end_time": "2021-11-03T00:57:18.884049Z",
     "start_time": "2021-11-03T00:57:18.866052Z"
    },
    "slideshow": {
     "slide_type": "fragment"
    }
   },
   "outputs": [],
   "source": [
    "scaler = StandardScaler()\n",
    "\n",
    "X_train_scaled = scaler.fit_transform(X_train)\n",
    "X_val_scaled = scaler.transform(X_val)\n",
    "X_test_scaled = scaler.transform(X_test)"
   ]
  },
  {
   "cell_type": "markdown",
   "metadata": {
    "slideshow": {
     "slide_type": "slide"
    }
   },
   "source": [
    "#### Dataset 생성\n",
    "- validation/test dataset은 동일하게 파이프라인을 구성\n",
    "- train dataset: shuffle추가. batch에는 drop_remainder=True로 설정\n",
    "- map, filter가 추가될 경우 train/validation/test/모두 동일하게 적용"
   ]
  },
  {
   "cell_type": "code",
   "execution_count": 121,
   "metadata": {
    "ExecuteTime": {
     "end_time": "2021-11-03T00:57:21.197269Z",
     "start_time": "2021-11-03T00:57:21.171240Z"
    },
    "slideshow": {
     "slide_type": "fragment"
    }
   },
   "outputs": [],
   "source": [
    "train_dataset = tf.data.Dataset.from_tensor_slices((X_train_scaled, y_train)).shuffle(N_TRAIN).batch(N_BATCHS, drop_remainder=True)\n",
    "\n",
    "val_dataset = tf.data.Dataset.from_tensor_slices((X_val_scaled, y_val)).batch(N_BATCHS)\n",
    "\n",
    "test_dataset = tf.data.Dataset.from_tensor_slices((X_test_scaled, y_test)).batch(N_BATCHS)"
   ]
  },
  {
   "cell_type": "code",
   "execution_count": 122,
   "metadata": {},
   "outputs": [
    {
     "data": {
      "text/plain": [
       "(364, 30)"
      ]
     },
     "execution_count": 122,
     "metadata": {},
     "output_type": "execute_result"
    }
   ],
   "source": [
    "X_train.shape"
   ]
  },
  {
   "cell_type": "markdown",
   "metadata": {
    "slideshow": {
     "slide_type": "slide"
    }
   },
   "source": [
    "#### model 생성, 컴파일"
   ]
  },
  {
   "cell_type": "code",
   "execution_count": 123,
   "metadata": {
    "ExecuteTime": {
     "end_time": "2021-11-03T00:58:17.940097Z",
     "start_time": "2021-11-03T00:58:17.923072Z"
    },
    "slideshow": {
     "slide_type": "fragment"
    }
   },
   "outputs": [],
   "source": [
    "def create_wisconsin_model():\n",
    "    model = keras.Sequential()\n",
    "    model.add(layers.Dense(units=32, activation='relu', input_shape=(30, )))\n",
    "    model.add(layers.Dense(units=16, activation='relu'))\n",
    "    model.add(layers.Dense(units=8, activation='relu'))\n",
    "\n",
    "#    output layer - 이진분류(양성의 확률을 출력하도록 구현)\n",
    "#    unit수-1, activation-sigmoid (logistic 함수)\n",
    "    model.add(layers.Dense(units=1, activation='sigmoid', name='Output_layer'))\n",
    "    \n",
    "    return model"
   ]
  },
  {
   "cell_type": "code",
   "execution_count": 124,
   "metadata": {},
   "outputs": [],
   "source": [
    "model = create_wisconsin_model()\n",
    "\n",
    "#이진분류\n",
    "model.compile(optimizer=keras.optimizers.Adam(learning_rate=LEARNING_RATE), \n",
    "              loss='binary_crossentropy',\n",
    "              metrics=['accuracy'])"
   ]
  },
  {
   "cell_type": "code",
   "execution_count": 125,
   "metadata": {
    "ExecuteTime": {
     "end_time": "2021-11-03T00:58:27.279253Z",
     "start_time": "2021-11-03T00:58:27.259253Z"
    },
    "slideshow": {
     "slide_type": "fragment"
    }
   },
   "outputs": [
    {
     "name": "stdout",
     "output_type": "stream",
     "text": [
      "Model: \"sequential_3\"\n",
      "_________________________________________________________________\n",
      " Layer (type)                Output Shape              Param #   \n",
      "=================================================================\n",
      " dense_14 (Dense)            (None, 32)                992       \n",
      "                                                                 \n",
      " dense_15 (Dense)            (None, 16)                528       \n",
      "                                                                 \n",
      " dense_16 (Dense)            (None, 8)                 136       \n",
      "                                                                 \n",
      " Output_layer (Dense)        (None, 1)                 9         \n",
      "                                                                 \n",
      "=================================================================\n",
      "Total params: 1,665\n",
      "Trainable params: 1,665\n",
      "Non-trainable params: 0\n",
      "_________________________________________________________________\n"
     ]
    }
   ],
   "source": [
    "model.summary()"
   ]
  },
  {
   "cell_type": "code",
   "execution_count": 126,
   "metadata": {
    "ExecuteTime": {
     "end_time": "2021-11-03T00:58:28.701187Z",
     "start_time": "2021-11-03T00:58:28.466270Z"
    },
    "slideshow": {
     "slide_type": "fragment"
    }
   },
   "outputs": [
    {
     "data": {
      "image/png": "[encoded data removed]",
      "text/plain": [
       "<IPython.core.display.Image object>"
      ]
     },
     "execution_count": 126,
     "metadata": {},
     "output_type": "execute_result"
    }
   ],
   "source": [
    "keras.utils.plot_model(model, show_shapes=True, to_file='cancer_model.png')"
   ]
  },
  {
   "cell_type": "markdown",
   "metadata": {
    "slideshow": {
     "slide_type": "slide"
    }
   },
   "source": [
    "#### Train(학습)"
   ]
  },
  {
   "cell_type": "code",
   "execution_count": 127,
   "metadata": {
    "ExecuteTime": {
     "end_time": "2021-11-03T00:58:48.642635Z",
     "start_time": "2021-11-03T00:58:37.854173Z"
    },
    "slideshow": {
     "slide_type": "fragment"
    }
   },
   "outputs": [
    {
     "name": "stdout",
     "output_type": "stream",
     "text": [
      "Epoch 1/150\n"
     ]
    },
    {
     "name": "stderr",
     "output_type": "stream",
     "text": [
      "2022-07-14 11:46:37.792918: I tensorflow/core/grappler/optimizers/custom_graph_optimizer_registry.cc:113] Plugin optimizer for device_type GPU is enabled.\n"
     ]
    },
    {
     "name": "stdout",
     "output_type": "stream",
     "text": [
      "7/7 [==============================] - 1s 23ms/step - loss: 0.6079 - accuracy: 0.6857 - val_loss: 0.5870 - val_accuracy: 0.8022\n",
      "Epoch 2/150\n",
      "7/7 [==============================] - 0s 7ms/step - loss: 0.5478 - accuracy: 0.8257 - val_loss: 0.5405 - val_accuracy: 0.8681\n",
      "Epoch 3/150\n",
      "7/7 [==============================] - 0s 7ms/step - loss: 0.4975 - accuracy: 0.9086 - val_loss: 0.4997 - val_accuracy: 0.8791\n",
      "Epoch 4/150\n",
      "1/7 [===>..........................] - ETA: 0s - loss: 0.5023 - accuracy: 0.9400"
     ]
    },
    {
     "name": "stderr",
     "output_type": "stream",
     "text": [
      "2022-07-14 11:46:38.455523: I tensorflow/core/grappler/optimizers/custom_graph_optimizer_registry.cc:113] Plugin optimizer for device_type GPU is enabled.\n"
     ]
    },
    {
     "name": "stdout",
     "output_type": "stream",
     "text": [
      "7/7 [==============================] - 0s 11ms/step - loss: 0.4564 - accuracy: 0.9257 - val_loss: 0.4627 - val_accuracy: 0.8791\n",
      "Epoch 5/150\n",
      "7/7 [==============================] - 0s 7ms/step - loss: 0.4156 - accuracy: 0.9429 - val_loss: 0.4251 - val_accuracy: 0.9011\n",
      "Epoch 6/150\n",
      "7/7 [==============================] - 0s 7ms/step - loss: 0.3743 - accuracy: 0.9514 - val_loss: 0.3860 - val_accuracy: 0.9011\n",
      "Epoch 7/150\n",
      "7/7 [==============================] - 0s 7ms/step - loss: 0.3366 - accuracy: 0.9629 - val_loss: 0.3459 - val_accuracy: 0.9341\n",
      "Epoch 8/150\n",
      "7/7 [==============================] - 0s 6ms/step - loss: 0.2945 - accuracy: 0.9657 - val_loss: 0.3054 - val_accuracy: 0.9341\n",
      "Epoch 9/150\n",
      "7/7 [==============================] - 0s 7ms/step - loss: 0.2589 - accuracy: 0.9686 - val_loss: 0.2660 - val_accuracy: 0.9341\n",
      "Epoch 10/150\n",
      "7/7 [==============================] - 0s 7ms/step - loss: 0.2253 - accuracy: 0.9743 - val_loss: 0.2287 - val_accuracy: 0.9560\n",
      "Epoch 11/150\n",
      "7/7 [==============================] - 0s 7ms/step - loss: 0.1950 - accuracy: 0.9800 - val_loss: 0.1954 - val_accuracy: 0.9670\n",
      "Epoch 12/150\n",
      "7/7 [==============================] - 0s 7ms/step - loss: 0.1696 - accuracy: 0.9743 - val_loss: 0.1670 - val_accuracy: 0.9670\n",
      "Epoch 13/150\n",
      "7/7 [==============================] - 0s 7ms/step - loss: 0.1479 - accuracy: 0.9771 - val_loss: 0.1443 - val_accuracy: 0.9780\n",
      "Epoch 14/150\n",
      "7/7 [==============================] - 0s 7ms/step - loss: 0.1260 - accuracy: 0.9829 - val_loss: 0.1255 - val_accuracy: 0.9780\n",
      "Epoch 15/150\n",
      "7/7 [==============================] - 0s 7ms/step - loss: 0.1151 - accuracy: 0.9771 - val_loss: 0.1114 - val_accuracy: 0.9780\n",
      "Epoch 16/150\n",
      "7/7 [==============================] - 0s 7ms/step - loss: 0.0999 - accuracy: 0.9800 - val_loss: 0.0986 - val_accuracy: 0.9780\n",
      "Epoch 17/150\n",
      "7/7 [==============================] - 0s 7ms/step - loss: 0.0944 - accuracy: 0.9771 - val_loss: 0.0886 - val_accuracy: 0.9780\n",
      "Epoch 18/150\n",
      "7/7 [==============================] - 0s 7ms/step - loss: 0.0871 - accuracy: 0.9800 - val_loss: 0.0806 - val_accuracy: 0.9890\n",
      "Epoch 19/150\n",
      "7/7 [==============================] - 0s 7ms/step - loss: 0.0780 - accuracy: 0.9829 - val_loss: 0.0747 - val_accuracy: 0.9890\n",
      "Epoch 20/150\n",
      "7/7 [==============================] - 0s 7ms/step - loss: 0.0754 - accuracy: 0.9771 - val_loss: 0.0698 - val_accuracy: 0.9890\n",
      "Epoch 21/150\n",
      "7/7 [==============================] - 0s 8ms/step - loss: 0.0700 - accuracy: 0.9829 - val_loss: 0.0644 - val_accuracy: 0.9890\n",
      "Epoch 22/150\n",
      "7/7 [==============================] - 0s 7ms/step - loss: 0.0633 - accuracy: 0.9857 - val_loss: 0.0607 - val_accuracy: 0.9890\n",
      "Epoch 23/150\n",
      "7/7 [==============================] - 0s 7ms/step - loss: 0.0638 - accuracy: 0.9829 - val_loss: 0.0574 - val_accuracy: 0.9890\n",
      "Epoch 24/150\n",
      "7/7 [==============================] - 0s 7ms/step - loss: 0.0613 - accuracy: 0.9829 - val_loss: 0.0537 - val_accuracy: 0.9890\n",
      "Epoch 25/150\n",
      "7/7 [==============================] - 0s 7ms/step - loss: 0.0457 - accuracy: 0.9914 - val_loss: 0.0507 - val_accuracy: 0.9890\n",
      "Epoch 26/150\n",
      "7/7 [==============================] - 0s 7ms/step - loss: 0.0495 - accuracy: 0.9943 - val_loss: 0.0481 - val_accuracy: 0.9890\n",
      "Epoch 27/150\n",
      "7/7 [==============================] - 0s 7ms/step - loss: 0.0532 - accuracy: 0.9886 - val_loss: 0.0457 - val_accuracy: 0.9890\n",
      "Epoch 28/150\n",
      "7/7 [==============================] - 0s 7ms/step - loss: 0.0513 - accuracy: 0.9914 - val_loss: 0.0438 - val_accuracy: 0.9890\n",
      "Epoch 29/150\n",
      "7/7 [==============================] - 0s 7ms/step - loss: 0.0498 - accuracy: 0.9914 - val_loss: 0.0422 - val_accuracy: 0.9890\n",
      "Epoch 30/150\n",
      "7/7 [==============================] - 0s 7ms/step - loss: 0.0488 - accuracy: 0.9914 - val_loss: 0.0411 - val_accuracy: 0.9890\n",
      "Epoch 31/150\n",
      "7/7 [==============================] - 0s 7ms/step - loss: 0.0459 - accuracy: 0.9914 - val_loss: 0.0394 - val_accuracy: 0.9890\n",
      "Epoch 32/150\n",
      "7/7 [==============================] - 0s 7ms/step - loss: 0.0447 - accuracy: 0.9914 - val_loss: 0.0375 - val_accuracy: 0.9890\n",
      "Epoch 33/150\n",
      "7/7 [==============================] - 0s 8ms/step - loss: 0.0430 - accuracy: 0.9914 - val_loss: 0.0368 - val_accuracy: 0.9890\n",
      "Epoch 34/150\n",
      "7/7 [==============================] - 0s 7ms/step - loss: 0.0412 - accuracy: 0.9914 - val_loss: 0.0364 - val_accuracy: 0.9890\n",
      "Epoch 35/150\n",
      "7/7 [==============================] - 0s 7ms/step - loss: 0.0386 - accuracy: 0.9914 - val_loss: 0.0358 - val_accuracy: 0.9890\n",
      "Epoch 36/150\n",
      "7/7 [==============================] - 0s 7ms/step - loss: 0.0374 - accuracy: 0.9914 - val_loss: 0.0348 - val_accuracy: 0.9890\n",
      "Epoch 37/150\n",
      "7/7 [==============================] - 0s 7ms/step - loss: 0.0375 - accuracy: 0.9914 - val_loss: 0.0337 - val_accuracy: 0.9890\n",
      "Epoch 38/150\n",
      "7/7 [==============================] - 0s 6ms/step - loss: 0.0357 - accuracy: 0.9943 - val_loss: 0.0326 - val_accuracy: 0.9890\n",
      "Epoch 39/150\n",
      "7/7 [==============================] - 0s 7ms/step - loss: 0.0345 - accuracy: 0.9943 - val_loss: 0.0322 - val_accuracy: 0.9890\n",
      "Epoch 40/150\n",
      "7/7 [==============================] - 0s 6ms/step - loss: 0.0334 - accuracy: 0.9943 - val_loss: 0.0315 - val_accuracy: 0.9890\n",
      "Epoch 41/150\n",
      "7/7 [==============================] - 0s 7ms/step - loss: 0.0312 - accuracy: 0.9943 - val_loss: 0.0314 - val_accuracy: 0.9890\n",
      "Epoch 42/150\n",
      "7/7 [==============================] - 0s 7ms/step - loss: 0.0302 - accuracy: 0.9943 - val_loss: 0.0312 - val_accuracy: 0.9890\n",
      "Epoch 43/150\n",
      "7/7 [==============================] - 0s 7ms/step - loss: 0.0306 - accuracy: 0.9943 - val_loss: 0.0310 - val_accuracy: 0.9890\n",
      "Epoch 44/150\n",
      "7/7 [==============================] - 0s 7ms/step - loss: 0.0289 - accuracy: 0.9943 - val_loss: 0.0308 - val_accuracy: 0.9890\n",
      "Epoch 45/150\n",
      "7/7 [==============================] - 0s 7ms/step - loss: 0.0280 - accuracy: 0.9943 - val_loss: 0.0307 - val_accuracy: 0.9890\n",
      "Epoch 46/150\n",
      "7/7 [==============================] - 0s 7ms/step - loss: 0.0274 - accuracy: 0.9943 - val_loss: 0.0307 - val_accuracy: 0.9890\n",
      "Epoch 47/150\n",
      "7/7 [==============================] - 0s 7ms/step - loss: 0.0271 - accuracy: 0.9943 - val_loss: 0.0305 - val_accuracy: 0.9890\n",
      "Epoch 48/150\n",
      "7/7 [==============================] - 0s 6ms/step - loss: 0.0264 - accuracy: 0.9943 - val_loss: 0.0303 - val_accuracy: 0.9890\n",
      "Epoch 49/150\n",
      "7/7 [==============================] - 0s 6ms/step - loss: 0.0255 - accuracy: 0.9943 - val_loss: 0.0298 - val_accuracy: 0.9890\n",
      "Epoch 50/150\n",
      "7/7 [==============================] - 0s 6ms/step - loss: 0.0232 - accuracy: 0.9943 - val_loss: 0.0295 - val_accuracy: 0.9890\n",
      "Epoch 51/150\n",
      "7/7 [==============================] - 0s 7ms/step - loss: 0.0237 - accuracy: 0.9943 - val_loss: 0.0299 - val_accuracy: 0.9890\n",
      "Epoch 52/150\n",
      "7/7 [==============================] - 0s 7ms/step - loss: 0.0231 - accuracy: 0.9943 - val_loss: 0.0304 - val_accuracy: 0.9780\n",
      "Epoch 53/150\n",
      "7/7 [==============================] - 0s 7ms/step - loss: 0.0223 - accuracy: 0.9943 - val_loss: 0.0302 - val_accuracy: 0.9780\n",
      "Epoch 54/150\n",
      "7/7 [==============================] - 0s 7ms/step - loss: 0.0218 - accuracy: 0.9943 - val_loss: 0.0299 - val_accuracy: 0.9780\n",
      "Epoch 55/150\n",
      "7/7 [==============================] - 0s 6ms/step - loss: 0.0216 - accuracy: 0.9943 - val_loss: 0.0295 - val_accuracy: 0.9780\n",
      "Epoch 56/150\n",
      "7/7 [==============================] - 0s 7ms/step - loss: 0.0211 - accuracy: 0.9943 - val_loss: 0.0299 - val_accuracy: 0.9780\n",
      "Epoch 57/150\n",
      "7/7 [==============================] - 0s 7ms/step - loss: 0.0204 - accuracy: 0.9971 - val_loss: 0.0302 - val_accuracy: 0.9780\n",
      "Epoch 58/150\n",
      "7/7 [==============================] - 0s 6ms/step - loss: 0.0199 - accuracy: 0.9971 - val_loss: 0.0306 - val_accuracy: 0.9780\n",
      "Epoch 59/150\n",
      "7/7 [==============================] - 0s 7ms/step - loss: 0.0193 - accuracy: 0.9971 - val_loss: 0.0305 - val_accuracy: 0.9780\n",
      "Epoch 60/150\n",
      "7/7 [==============================] - 0s 9ms/step - loss: 0.0189 - accuracy: 0.9971 - val_loss: 0.0307 - val_accuracy: 0.9780\n",
      "Epoch 61/150\n",
      "7/7 [==============================] - 0s 7ms/step - loss: 0.0184 - accuracy: 0.9971 - val_loss: 0.0308 - val_accuracy: 0.9780\n",
      "Epoch 62/150\n"
     ]
    },
    {
     "name": "stdout",
     "output_type": "stream",
     "text": [
      "7/7 [==============================] - 0s 7ms/step - loss: 0.0176 - accuracy: 0.9971 - val_loss: 0.0315 - val_accuracy: 0.9780\n",
      "Epoch 63/150\n",
      "7/7 [==============================] - 0s 7ms/step - loss: 0.0173 - accuracy: 0.9971 - val_loss: 0.0314 - val_accuracy: 0.9780\n",
      "Epoch 64/150\n",
      "7/7 [==============================] - 0s 6ms/step - loss: 0.0168 - accuracy: 0.9971 - val_loss: 0.0314 - val_accuracy: 0.9780\n",
      "Epoch 65/150\n",
      "7/7 [==============================] - 0s 6ms/step - loss: 0.0159 - accuracy: 0.9971 - val_loss: 0.0316 - val_accuracy: 0.9780\n",
      "Epoch 66/150\n",
      "7/7 [==============================] - 0s 7ms/step - loss: 0.0150 - accuracy: 0.9971 - val_loss: 0.0319 - val_accuracy: 0.9780\n",
      "Epoch 67/150\n",
      "7/7 [==============================] - 0s 7ms/step - loss: 0.0152 - accuracy: 0.9971 - val_loss: 0.0320 - val_accuracy: 0.9780\n",
      "Epoch 68/150\n",
      "7/7 [==============================] - 0s 7ms/step - loss: 0.0145 - accuracy: 0.9971 - val_loss: 0.0323 - val_accuracy: 0.9780\n",
      "Epoch 69/150\n",
      "7/7 [==============================] - 0s 7ms/step - loss: 0.0146 - accuracy: 0.9971 - val_loss: 0.0326 - val_accuracy: 0.9780\n",
      "Epoch 70/150\n",
      "7/7 [==============================] - 0s 7ms/step - loss: 0.0137 - accuracy: 0.9971 - val_loss: 0.0327 - val_accuracy: 0.9780\n",
      "Epoch 71/150\n",
      "7/7 [==============================] - 0s 7ms/step - loss: 0.0134 - accuracy: 0.9971 - val_loss: 0.0327 - val_accuracy: 0.9780\n",
      "Epoch 72/150\n",
      "7/7 [==============================] - 0s 7ms/step - loss: 0.0128 - accuracy: 0.9971 - val_loss: 0.0326 - val_accuracy: 0.9780\n",
      "Epoch 73/150\n",
      "7/7 [==============================] - 0s 7ms/step - loss: 0.0125 - accuracy: 0.9971 - val_loss: 0.0330 - val_accuracy: 0.9780\n",
      "Epoch 74/150\n",
      "7/7 [==============================] - 0s 7ms/step - loss: 0.0117 - accuracy: 0.9971 - val_loss: 0.0332 - val_accuracy: 0.9780\n",
      "Epoch 75/150\n",
      "7/7 [==============================] - 0s 7ms/step - loss: 0.0115 - accuracy: 0.9971 - val_loss: 0.0329 - val_accuracy: 0.9780\n",
      "Epoch 76/150\n",
      "7/7 [==============================] - 0s 7ms/step - loss: 0.0115 - accuracy: 0.9971 - val_loss: 0.0330 - val_accuracy: 0.9780\n",
      "Epoch 77/150\n",
      "7/7 [==============================] - 0s 7ms/step - loss: 0.0109 - accuracy: 0.9971 - val_loss: 0.0334 - val_accuracy: 0.9780\n",
      "Epoch 78/150\n",
      "7/7 [==============================] - 0s 7ms/step - loss: 0.0107 - accuracy: 0.9971 - val_loss: 0.0336 - val_accuracy: 0.9780\n",
      "Epoch 79/150\n",
      "7/7 [==============================] - 0s 6ms/step - loss: 0.0104 - accuracy: 0.9971 - val_loss: 0.0337 - val_accuracy: 0.9780\n",
      "Epoch 80/150\n",
      "7/7 [==============================] - 0s 6ms/step - loss: 0.0097 - accuracy: 0.9971 - val_loss: 0.0337 - val_accuracy: 0.9780\n",
      "Epoch 81/150\n",
      "7/7 [==============================] - 0s 7ms/step - loss: 0.0097 - accuracy: 0.9971 - val_loss: 0.0339 - val_accuracy: 0.9780\n",
      "Epoch 82/150\n",
      "7/7 [==============================] - 0s 7ms/step - loss: 0.0095 - accuracy: 0.9971 - val_loss: 0.0338 - val_accuracy: 0.9780\n",
      "Epoch 83/150\n",
      "7/7 [==============================] - 0s 7ms/step - loss: 0.0091 - accuracy: 0.9971 - val_loss: 0.0343 - val_accuracy: 0.9780\n",
      "Epoch 84/150\n",
      "7/7 [==============================] - 0s 7ms/step - loss: 0.0089 - accuracy: 0.9971 - val_loss: 0.0349 - val_accuracy: 0.9780\n",
      "Epoch 85/150\n",
      "7/7 [==============================] - 0s 7ms/step - loss: 0.0083 - accuracy: 0.9971 - val_loss: 0.0354 - val_accuracy: 0.9780\n",
      "Epoch 86/150\n",
      "7/7 [==============================] - 0s 7ms/step - loss: 0.0083 - accuracy: 0.9971 - val_loss: 0.0358 - val_accuracy: 0.9780\n",
      "Epoch 87/150\n",
      "7/7 [==============================] - 0s 7ms/step - loss: 0.0079 - accuracy: 0.9971 - val_loss: 0.0354 - val_accuracy: 0.9780\n",
      "Epoch 88/150\n",
      "7/7 [==============================] - 0s 7ms/step - loss: 0.0077 - accuracy: 0.9971 - val_loss: 0.0358 - val_accuracy: 0.9780\n",
      "Epoch 89/150\n",
      "7/7 [==============================] - 0s 7ms/step - loss: 0.0073 - accuracy: 0.9971 - val_loss: 0.0361 - val_accuracy: 0.9780\n",
      "Epoch 90/150\n",
      "7/7 [==============================] - 0s 7ms/step - loss: 0.0064 - accuracy: 0.9971 - val_loss: 0.0365 - val_accuracy: 0.9780\n",
      "Epoch 91/150\n",
      "7/7 [==============================] - 0s 6ms/step - loss: 0.0067 - accuracy: 0.9971 - val_loss: 0.0370 - val_accuracy: 0.9780\n",
      "Epoch 92/150\n",
      "7/7 [==============================] - 0s 7ms/step - loss: 0.0064 - accuracy: 0.9971 - val_loss: 0.0372 - val_accuracy: 0.9780\n",
      "Epoch 93/150\n",
      "7/7 [==============================] - 0s 7ms/step - loss: 0.0059 - accuracy: 0.9971 - val_loss: 0.0376 - val_accuracy: 0.9780\n",
      "Epoch 94/150\n",
      "7/7 [==============================] - 0s 7ms/step - loss: 0.0057 - accuracy: 0.9971 - val_loss: 0.0379 - val_accuracy: 0.9780\n",
      "Epoch 95/150\n",
      "7/7 [==============================] - 0s 7ms/step - loss: 0.0054 - accuracy: 1.0000 - val_loss: 0.0383 - val_accuracy: 0.9780\n",
      "Epoch 96/150\n",
      "7/7 [==============================] - 0s 7ms/step - loss: 0.0053 - accuracy: 1.0000 - val_loss: 0.0387 - val_accuracy: 0.9780\n",
      "Epoch 97/150\n",
      "7/7 [==============================] - 0s 7ms/step - loss: 0.0050 - accuracy: 1.0000 - val_loss: 0.0387 - val_accuracy: 0.9780\n",
      "Epoch 98/150\n",
      "7/7 [==============================] - 0s 7ms/step - loss: 0.0049 - accuracy: 1.0000 - val_loss: 0.0390 - val_accuracy: 0.9780\n",
      "Epoch 99/150\n",
      "7/7 [==============================] - 0s 7ms/step - loss: 0.0047 - accuracy: 1.0000 - val_loss: 0.0389 - val_accuracy: 0.9780\n",
      "Epoch 100/150\n",
      "7/7 [==============================] - 0s 7ms/step - loss: 0.0045 - accuracy: 1.0000 - val_loss: 0.0394 - val_accuracy: 0.9780\n",
      "Epoch 101/150\n",
      "7/7 [==============================] - 0s 7ms/step - loss: 0.0042 - accuracy: 1.0000 - val_loss: 0.0396 - val_accuracy: 0.9780\n",
      "Epoch 102/150\n",
      "7/7 [==============================] - 0s 7ms/step - loss: 0.0040 - accuracy: 1.0000 - val_loss: 0.0398 - val_accuracy: 0.9780\n",
      "Epoch 103/150\n",
      "7/7 [==============================] - 0s 6ms/step - loss: 0.0039 - accuracy: 1.0000 - val_loss: 0.0403 - val_accuracy: 0.9780\n",
      "Epoch 104/150\n",
      "7/7 [==============================] - 0s 7ms/step - loss: 0.0038 - accuracy: 1.0000 - val_loss: 0.0403 - val_accuracy: 0.9780\n",
      "Epoch 105/150\n",
      "7/7 [==============================] - 0s 7ms/step - loss: 0.0037 - accuracy: 1.0000 - val_loss: 0.0402 - val_accuracy: 0.9780\n",
      "Epoch 106/150\n",
      "7/7 [==============================] - 0s 7ms/step - loss: 0.0036 - accuracy: 1.0000 - val_loss: 0.0405 - val_accuracy: 0.9780\n",
      "Epoch 107/150\n",
      "7/7 [==============================] - 0s 7ms/step - loss: 0.0033 - accuracy: 1.0000 - val_loss: 0.0407 - val_accuracy: 0.9780\n",
      "Epoch 108/150\n",
      "7/7 [==============================] - 0s 7ms/step - loss: 0.0032 - accuracy: 1.0000 - val_loss: 0.0410 - val_accuracy: 0.9780\n",
      "Epoch 109/150\n",
      "7/7 [==============================] - 0s 7ms/step - loss: 0.0032 - accuracy: 1.0000 - val_loss: 0.0414 - val_accuracy: 0.9780\n",
      "Epoch 110/150\n",
      "7/7 [==============================] - 0s 7ms/step - loss: 0.0030 - accuracy: 1.0000 - val_loss: 0.0417 - val_accuracy: 0.9780\n",
      "Epoch 111/150\n",
      "7/7 [==============================] - 0s 7ms/step - loss: 0.0028 - accuracy: 1.0000 - val_loss: 0.0418 - val_accuracy: 0.9780\n",
      "Epoch 112/150\n",
      "7/7 [==============================] - 0s 7ms/step - loss: 0.0024 - accuracy: 1.0000 - val_loss: 0.0420 - val_accuracy: 0.9780\n",
      "Epoch 113/150\n",
      "7/7 [==============================] - 0s 7ms/step - loss: 0.0028 - accuracy: 1.0000 - val_loss: 0.0424 - val_accuracy: 0.9780\n",
      "Epoch 114/150\n",
      "7/7 [==============================] - 0s 7ms/step - loss: 0.0024 - accuracy: 1.0000 - val_loss: 0.0429 - val_accuracy: 0.9780\n",
      "Epoch 115/150\n",
      "7/7 [==============================] - 0s 7ms/step - loss: 0.0026 - accuracy: 1.0000 - val_loss: 0.0433 - val_accuracy: 0.9780\n",
      "Epoch 116/150\n",
      "7/7 [==============================] - 0s 7ms/step - loss: 0.0023 - accuracy: 1.0000 - val_loss: 0.0434 - val_accuracy: 0.9780\n",
      "Epoch 117/150\n",
      "7/7 [==============================] - 0s 7ms/step - loss: 0.0024 - accuracy: 1.0000 - val_loss: 0.0435 - val_accuracy: 0.9780\n",
      "Epoch 118/150\n",
      "7/7 [==============================] - 0s 7ms/step - loss: 0.0024 - accuracy: 1.0000 - val_loss: 0.0437 - val_accuracy: 0.9780\n",
      "Epoch 119/150\n",
      "7/7 [==============================] - 0s 7ms/step - loss: 0.0023 - accuracy: 1.0000 - val_loss: 0.0440 - val_accuracy: 0.9780\n",
      "Epoch 120/150\n"
     ]
    },
    {
     "name": "stdout",
     "output_type": "stream",
     "text": [
      "7/7 [==============================] - 0s 7ms/step - loss: 0.0022 - accuracy: 1.0000 - val_loss: 0.0441 - val_accuracy: 0.9780\n",
      "Epoch 121/150\n",
      "7/7 [==============================] - 0s 7ms/step - loss: 0.0020 - accuracy: 1.0000 - val_loss: 0.0445 - val_accuracy: 0.9780\n",
      "Epoch 122/150\n",
      "7/7 [==============================] - 0s 7ms/step - loss: 0.0021 - accuracy: 1.0000 - val_loss: 0.0448 - val_accuracy: 0.9780\n",
      "Epoch 123/150\n",
      "7/7 [==============================] - 0s 7ms/step - loss: 0.0020 - accuracy: 1.0000 - val_loss: 0.0450 - val_accuracy: 0.9780\n",
      "Epoch 124/150\n",
      "7/7 [==============================] - 0s 6ms/step - loss: 0.0020 - accuracy: 1.0000 - val_loss: 0.0449 - val_accuracy: 0.9780\n",
      "Epoch 125/150\n",
      "7/7 [==============================] - 0s 7ms/step - loss: 0.0017 - accuracy: 1.0000 - val_loss: 0.0454 - val_accuracy: 0.9780\n",
      "Epoch 126/150\n",
      "7/7 [==============================] - 0s 7ms/step - loss: 0.0019 - accuracy: 1.0000 - val_loss: 0.0457 - val_accuracy: 0.9780\n",
      "Epoch 127/150\n",
      "7/7 [==============================] - 0s 7ms/step - loss: 0.0018 - accuracy: 1.0000 - val_loss: 0.0458 - val_accuracy: 0.9780\n",
      "Epoch 128/150\n",
      "7/7 [==============================] - 0s 7ms/step - loss: 0.0017 - accuracy: 1.0000 - val_loss: 0.0462 - val_accuracy: 0.9780\n",
      "Epoch 129/150\n",
      "7/7 [==============================] - 0s 6ms/step - loss: 0.0017 - accuracy: 1.0000 - val_loss: 0.0465 - val_accuracy: 0.9780\n",
      "Epoch 130/150\n",
      "7/7 [==============================] - 0s 7ms/step - loss: 0.0017 - accuracy: 1.0000 - val_loss: 0.0466 - val_accuracy: 0.9780\n",
      "Epoch 131/150\n",
      "7/7 [==============================] - 0s 7ms/step - loss: 0.0015 - accuracy: 1.0000 - val_loss: 0.0468 - val_accuracy: 0.9780\n",
      "Epoch 132/150\n",
      "7/7 [==============================] - 0s 7ms/step - loss: 0.0016 - accuracy: 1.0000 - val_loss: 0.0469 - val_accuracy: 0.9780\n",
      "Epoch 133/150\n",
      "7/7 [==============================] - 0s 6ms/step - loss: 0.0015 - accuracy: 1.0000 - val_loss: 0.0470 - val_accuracy: 0.9780\n",
      "Epoch 134/150\n",
      "7/7 [==============================] - 0s 7ms/step - loss: 0.0015 - accuracy: 1.0000 - val_loss: 0.0472 - val_accuracy: 0.9780\n",
      "Epoch 135/150\n",
      "7/7 [==============================] - 0s 6ms/step - loss: 0.0014 - accuracy: 1.0000 - val_loss: 0.0475 - val_accuracy: 0.9780\n",
      "Epoch 136/150\n",
      "7/7 [==============================] - 0s 7ms/step - loss: 0.0014 - accuracy: 1.0000 - val_loss: 0.0478 - val_accuracy: 0.9780\n",
      "Epoch 137/150\n",
      "7/7 [==============================] - 0s 7ms/step - loss: 0.0014 - accuracy: 1.0000 - val_loss: 0.0479 - val_accuracy: 0.9780\n",
      "Epoch 138/150\n",
      "7/7 [==============================] - 0s 7ms/step - loss: 0.0013 - accuracy: 1.0000 - val_loss: 0.0479 - val_accuracy: 0.9780\n",
      "Epoch 139/150\n",
      "7/7 [==============================] - 0s 7ms/step - loss: 0.0013 - accuracy: 1.0000 - val_loss: 0.0481 - val_accuracy: 0.9780\n",
      "Epoch 140/150\n",
      "7/7 [==============================] - 0s 7ms/step - loss: 0.0013 - accuracy: 1.0000 - val_loss: 0.0484 - val_accuracy: 0.9780\n",
      "Epoch 141/150\n",
      "7/7 [==============================] - 0s 7ms/step - loss: 0.0012 - accuracy: 1.0000 - val_loss: 0.0485 - val_accuracy: 0.9780\n",
      "Epoch 142/150\n",
      "7/7 [==============================] - 0s 7ms/step - loss: 0.0012 - accuracy: 1.0000 - val_loss: 0.0486 - val_accuracy: 0.9780\n",
      "Epoch 143/150\n",
      "7/7 [==============================] - 0s 8ms/step - loss: 0.0012 - accuracy: 1.0000 - val_loss: 0.0488 - val_accuracy: 0.9780\n",
      "Epoch 144/150\n",
      "7/7 [==============================] - 0s 6ms/step - loss: 9.7631e-04 - accuracy: 1.0000 - val_loss: 0.0491 - val_accuracy: 0.9780\n",
      "Epoch 145/150\n",
      "7/7 [==============================] - 0s 6ms/step - loss: 0.0011 - accuracy: 1.0000 - val_loss: 0.0494 - val_accuracy: 0.9780\n",
      "Epoch 146/150\n",
      "7/7 [==============================] - 0s 7ms/step - loss: 0.0011 - accuracy: 1.0000 - val_loss: 0.0496 - val_accuracy: 0.9780\n",
      "Epoch 147/150\n",
      "7/7 [==============================] - 0s 7ms/step - loss: 0.0011 - accuracy: 1.0000 - val_loss: 0.0500 - val_accuracy: 0.9780\n",
      "Epoch 148/150\n",
      "7/7 [==============================] - 0s 7ms/step - loss: 0.0010 - accuracy: 1.0000 - val_loss: 0.0500 - val_accuracy: 0.9780\n",
      "Epoch 149/150\n",
      "7/7 [==============================] - 0s 7ms/step - loss: 9.2386e-04 - accuracy: 1.0000 - val_loss: 0.0502 - val_accuracy: 0.9780\n",
      "Epoch 150/150\n",
      "7/7 [==============================] - 0s 7ms/step - loss: 9.9901e-04 - accuracy: 1.0000 - val_loss: 0.0503 - val_accuracy: 0.9780\n"
     ]
    }
   ],
   "source": [
    "hist = model.fit(train_dataset, epochs=N_EPOCHS, validation_data=val_dataset)"
   ]
  },
  {
   "cell_type": "markdown",
   "metadata": {
    "slideshow": {
     "slide_type": "fragment"
    }
   },
   "source": [
    "#### 결과 시각화"
   ]
  },
  {
   "cell_type": "code",
   "execution_count": 128,
   "metadata": {
    "ExecuteTime": {
     "end_time": "2021-11-03T00:58:56.334708Z",
     "start_time": "2021-11-03T00:58:56.043653Z"
    },
    "scrolled": true,
    "slideshow": {
     "slide_type": "fragment"
    }
   },
   "outputs": [
    {
     "data": {
      "image/png": "[encoded data removed]",
      "text/plain": [
       "<Figure size 504x432 with 1 Axes>"
      ]
     },
     "metadata": {
      "needs_background": "light"
     },
     "output_type": "display_data"
    }
   ],
   "source": [
    "import matplotlib.pyplot as plt\n",
    "\n",
    "#loss\n",
    "plt.figure(figsize=(7,6))\n",
    "plt.plot(range(1, N_EPOCHS+1), hist.history['loss'], label='Train Loss')\n",
    "plt.plot(range(1, N_EPOCHS+1), hist.history['val_loss'], label='Validation Loss')\n",
    "plt.title('Loss', fontsize=20)\n",
    "plt.xlabel('Epochs')\n",
    "plt.ylabel('Loss')\n",
    "plt.legend()\n",
    "plt.show()"
   ]
  },
  {
   "cell_type": "code",
   "execution_count": 129,
   "metadata": {
    "ExecuteTime": {
     "end_time": "2021-11-03T00:59:03.092059Z",
     "start_time": "2021-11-03T00:59:02.953881Z"
    },
    "scrolled": true,
    "slideshow": {
     "slide_type": "fragment"
    }
   },
   "outputs": [
    {
     "data": {
      "image/png": "[encoded data removed]",
      "text/plain": [
       "<Figure size 504x432 with 1 Axes>"
      ]
     },
     "metadata": {
      "needs_background": "light"
     },
     "output_type": "display_data"
    }
   ],
   "source": [
    "#accuracy\n",
    "plt.figure(figsize=(7,6))\n",
    "plt.plot(range(1, N_EPOCHS+1), hist.history['accuracy'], label='Train Accuracy')\n",
    "plt.plot(range(1, N_EPOCHS+1), hist.history['val_accuracy'], label='Validation Accuracy')\n",
    "plt.title('Accuracy', fontsize=20)\n",
    "plt.xlabel('Epochs')\n",
    "plt.ylabel('Accuracy')\n",
    "plt.legend()\n",
    "plt.show()"
   ]
  },
  {
   "cell_type": "markdown",
   "metadata": {
    "slideshow": {
     "slide_type": "slide"
    }
   },
   "source": [
    "#### 최종평가"
   ]
  },
  {
   "cell_type": "code",
   "execution_count": 130,
   "metadata": {
    "ExecuteTime": {
     "end_time": "2021-11-03T00:59:14.751255Z",
     "start_time": "2021-11-03T00:59:14.715247Z"
    },
    "slideshow": {
     "slide_type": "fragment"
    }
   },
   "outputs": [
    {
     "name": "stdout",
     "output_type": "stream",
     "text": [
      "3/3 [==============================] - 0s 116ms/step - loss: 0.1643 - accuracy: 0.9561\n"
     ]
    }
   ],
   "source": [
    "loss, acc = model.evaluate(test_dataset)"
   ]
  },
  {
   "cell_type": "code",
   "execution_count": 131,
   "metadata": {
    "ExecuteTime": {
     "end_time": "2021-11-03T00:59:16.738914Z",
     "start_time": "2021-11-03T00:59:16.732879Z"
    },
    "slideshow": {
     "slide_type": "fragment"
    }
   },
   "outputs": [
    {
     "name": "stdout",
     "output_type": "stream",
     "text": [
      "0.16426442563533783 0.9561403393745422\n"
     ]
    }
   ],
   "source": [
    "print(loss, acc)"
   ]
  },
  {
   "cell_type": "markdown",
   "metadata": {},
   "source": [
    "#### 모델저장"
   ]
  },
  {
   "cell_type": "code",
   "execution_count": 132,
   "metadata": {},
   "outputs": [
    {
     "name": "stdout",
     "output_type": "stream",
     "text": [
      "INFO:tensorflow:Assets written to: models/breast_cancer_model/assets\n"
     ]
    }
   ],
   "source": [
    "model.save('models/breast_cancer_model')"
   ]
  },
  {
   "cell_type": "code",
   "execution_count": 133,
   "metadata": {},
   "outputs": [],
   "source": [
    "w_model = keras.models.load_model('models/breast_cancer_model')"
   ]
  },
  {
   "cell_type": "code",
   "execution_count": 134,
   "metadata": {},
   "outputs": [
    {
     "name": "stdout",
     "output_type": "stream",
     "text": [
      "Model: \"sequential_3\"\n",
      "_________________________________________________________________\n",
      " Layer (type)                Output Shape              Param #   \n",
      "=================================================================\n",
      " dense_14 (Dense)            (None, 32)                992       \n",
      "                                                                 \n",
      " dense_15 (Dense)            (None, 16)                528       \n",
      "                                                                 \n",
      " dense_16 (Dense)            (None, 8)                 136       \n",
      "                                                                 \n",
      " Output_layer (Dense)        (None, 1)                 9         \n",
      "                                                                 \n",
      "=================================================================\n",
      "Total params: 1,665\n",
      "Trainable params: 1,665\n",
      "Non-trainable params: 0\n",
      "_________________________________________________________________\n"
     ]
    }
   ],
   "source": [
    "w_model.summary()"
   ]
  },
  {
   "cell_type": "markdown",
   "metadata": {
    "slideshow": {
     "slide_type": "slide"
    }
   },
   "source": [
    "#### 새로운 데이터 추론"
   ]
  },
  {
   "cell_type": "code",
   "execution_count": 138,
   "metadata": {
    "ExecuteTime": {
     "end_time": "2021-11-03T00:59:19.086745Z",
     "start_time": "2021-11-03T00:59:19.083739Z"
    },
    "slideshow": {
     "slide_type": "fragment"
    }
   },
   "outputs": [],
   "source": [
    "new_data = X_test[:5]\n",
    "new_data_scaled = scaler.transform(new_data)"
   ]
  },
  {
   "cell_type": "code",
   "execution_count": 139,
   "metadata": {
    "ExecuteTime": {
     "end_time": "2021-11-03T00:59:20.263087Z",
     "start_time": "2021-11-03T00:59:20.179596Z"
    },
    "slideshow": {
     "slide_type": "fragment"
    }
   },
   "outputs": [
    {
     "name": "stdout",
     "output_type": "stream",
     "text": [
      "1/1 [==============================] - 0s 12ms/step\n"
     ]
    }
   ],
   "source": [
    "pred = model.predict(new_data_scaled)"
   ]
  },
  {
   "cell_type": "code",
   "execution_count": 140,
   "metadata": {
    "ExecuteTime": {
     "end_time": "2021-11-03T00:59:21.138066Z",
     "start_time": "2021-11-03T00:59:21.123054Z"
    },
    "slideshow": {
     "slide_type": "fragment"
    }
   },
   "outputs": [
    {
     "data": {
      "text/plain": [
       "array([[3.7293457e-08],\n",
       "       [6.8186593e-36],\n",
       "       [2.1352302e-09],\n",
       "       [9.9999595e-01],\n",
       "       [1.4719187e-10]], dtype=float32)"
      ]
     },
     "execution_count": 140,
     "metadata": {},
     "output_type": "execute_result"
    }
   ],
   "source": [
    "pred"
   ]
  },
  {
   "cell_type": "code",
   "execution_count": 144,
   "metadata": {
    "ExecuteTime": {
     "end_time": "2021-11-03T00:59:26.647416Z",
     "start_time": "2021-11-03T00:59:26.635411Z"
    },
    "slideshow": {
     "slide_type": "fragment"
    }
   },
   "outputs": [
    {
     "data": {
      "text/plain": [
       "array([[0],\n",
       "       [0],\n",
       "       [0],\n",
       "       [1],\n",
       "       [0]], dtype=int8)"
      ]
     },
     "execution_count": 144,
     "metadata": {},
     "output_type": "execute_result"
    }
   ],
   "source": [
    "threshold = 0.5\n",
    "result = (pred > threshold).astype(np.int8) #bool 을 int로 변환 - False: 0, True: 1\n",
    "result"
   ]
  },
  {
   "cell_type": "code",
   "execution_count": 146,
   "metadata": {
    "ExecuteTime": {
     "end_time": "2021-11-03T00:59:31.142907Z",
     "start_time": "2021-11-03T00:59:31.130884Z"
    },
    "slideshow": {
     "slide_type": "fragment"
    }
   },
   "outputs": [
    {
     "data": {
      "text/plain": [
       "array([['악성-0'],\n",
       "       ['악성-0'],\n",
       "       ['악성-0'],\n",
       "       ['양성-1'],\n",
       "       ['악성-0']], dtype='<U4')"
      ]
     },
     "execution_count": 146,
     "metadata": {},
     "output_type": "execute_result"
    }
   ],
   "source": [
    "result_label = np.where(pred > threshold, \"양성-1\", \"악성-0\")\n",
    "result_label"
   ]
  },
  {
   "cell_type": "markdown",
   "metadata": {},
   "source": [
    "- 모델의 분류 예측 결과를 후처리 -> 모델이 출력한 확률을 class로 변환.\n",
    "    - 다중분류(모델이 클래스별 확률 출력): np.argmax(예측결과, axis=-1)\n",
    "    - 이진분(모델이 양성의 확률을 출력): np.where(pred>threshold, \"양성 label\", \"음성 label\")"
   ]
  },
  {
   "cell_type": "markdown",
   "metadata": {
    "slideshow": {
     "slide_type": "slide"
    }
   },
   "source": [
    "# Tensorflow 2.3이하 버전에서 Train dataset 구성 및 학습 \n",
    "- 위의 코드들은 2.4 이후 버전\n",
    "- 2.3 이하버전에서는 \n",
    "    1. train_dataset 구성시 repeat()를 추가\n",
    "    2. 학습시에 train/validation 1 epoch당 step 횟수를 추가\n",
    "        - steps_per_epoch: train set 에 대한 step 횟수\n",
    "        - validation_steps: validation set 에 대한 step 횟수"
   ]
  },
  {
   "cell_type": "code",
   "execution_count": null,
   "metadata": {
    "ExecuteTime": {
     "end_time": "2021-11-03T01:02:04.237421Z",
     "start_time": "2021-11-03T01:02:04.214435Z"
    },
    "slideshow": {
     "slide_type": "fragment"
    }
   },
   "outputs": [],
   "source": [
    "train_dataset2 = tf.data.Dataset.from_tensor_slices((X_train_scaled, y_train)).shuffle(N_TRAIN).batch(N_BATCHS, drop_remainder=True).repeat()\n",
    "\n",
    "val_dataset2 = tf.data.Dataset.from_tensor_slices((X_val_scaled, y_val)).batch(N_BATCHS)\n",
    "test_dataset2 = tf.data.Dataset.from_tensor_slices((X_test_scaled, y_test)).batch(N_BATCHS)"
   ]
  },
  {
   "cell_type": "code",
   "execution_count": null,
   "metadata": {
    "ExecuteTime": {
     "end_time": "2021-11-03T01:03:43.772869Z",
     "start_time": "2021-11-03T01:03:43.765843Z"
    },
    "slideshow": {
     "slide_type": "fragment"
    }
   },
   "outputs": [],
   "source": [
    "steps_per_epoch = N_TRAIN // N_BATCHS #repeat() 때문에 len()을 사용못함\n",
    "validation_steps = len(val_dataset2) #len(Dataset): step수 반환\n",
    "print(steps_per_epoch, validation_steps)"
   ]
  },
  {
   "cell_type": "code",
   "execution_count": null,
   "metadata": {
    "ExecuteTime": {
     "end_time": "2021-11-03T01:03:44.457988Z",
     "start_time": "2021-11-03T01:03:44.410963Z"
    },
    "slideshow": {
     "slide_type": "fragment"
    }
   },
   "outputs": [],
   "source": [
    "model = create_wisconsin_model()\n",
    "model.compile(optimizer=keras.optimizers.Adam(learning_rate=LEARNING_RATE), \n",
    "              loss='binary_crossentropy',\n",
    "              metrics=['accuracy'])"
   ]
  },
  {
   "cell_type": "code",
   "execution_count": null,
   "metadata": {
    "ExecuteTime": {
     "end_time": "2021-11-03T01:03:51.545411Z",
     "start_time": "2021-11-03T01:03:50.882537Z"
    },
    "scrolled": true,
    "slideshow": {
     "slide_type": "fragment"
    }
   },
   "outputs": [],
   "source": [
    "model.fit(train_dataset2, \n",
    "          steps_per_epoch=steps_per_epoch,\n",
    "          validation_data=val_dataset2,\n",
    "          validation_steps=validation_steps, \n",
    "          epochs=10)"
   ]
  }
 ],
 "metadata": {
  "kernelspec": {
   "display_name": "Python 3 (ipykernel)",
   "language": "python",
   "name": "python3"
  },
  "language_info": {
   "codemirror_mode": {
    "name": "ipython",
    "version": 3
   },
   "file_extension": ".py",
   "mimetype": "text/x-python",
   "name": "python",
   "nbconvert_exporter": "python",
   "pygments_lexer": "ipython3",
   "version": "3.8.13"
  },
  "toc": {
   "base_numbering": 1,
   "nav_menu": {},
   "number_sections": false,
   "sideBar": true,
   "skip_h1_title": false,
   "title_cell": "Table of Contents",
   "title_sidebar": "Contents",
   "toc_cell": false,
   "toc_position": {},
   "toc_section_display": true,
   "toc_window_display": false
  },
  "varInspector": {
   "cols": {
    "lenName": 16,
    "lenType": 16,
    "lenVar": 40
   },
   "kernels_config": {
    "python": {
     "delete_cmd_postfix": "",
     "delete_cmd_prefix": "del ",
     "library": "var_list.py",
     "varRefreshCmd": "print(var_dic_list())"
    },
    "r": {
     "delete_cmd_postfix": ") ",
     "delete_cmd_prefix": "rm(",
     "library": "var_list.r",
     "varRefreshCmd": "cat(var_dic_list()) "
    }
   },
   "types_to_exclude": [
    "module",
    "function",
    "builtin_function_or_method",
    "instance",
    "_Feature"
   ],
   "window_display": false
  }
 },
 "nbformat": 4,
 "nbformat_minor": 2
}
