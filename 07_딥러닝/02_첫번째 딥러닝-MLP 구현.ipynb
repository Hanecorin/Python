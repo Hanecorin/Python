{
 "cells": [
  {
   "cell_type": "markdown",
   "metadata": {
    "slideshow": {
     "slide_type": "slide"
    }
   },
   "source": [
    "# Keras 개발 Process"
   ]
  },
  {
   "cell_type": "markdown",
   "metadata": {
    "slideshow": {
     "slide_type": "fragment"
    }
   },
   "source": [
    "1. 입력 텐서(X)와 출력 텐서(y)로 이뤄진 **훈련 데이터를 정의**"
   ]
  },
  {
   "cell_type": "markdown",
   "metadata": {
    "slideshow": {
     "slide_type": "fragment"
    }
   },
   "source": [
    "2. 입력과 출력을 연결하는 Layer(층)으로 이뤄진 **네트워크(모델)을 정의**\n",
    "    - Sequential 방식: 순서대로 쌓아올린 네트워크로 이뤄진 모델을 생성하는 방식\n",
    "    - Functional API 방식: 다양한 구조의 네트워크로 이뤄진 모델을 생성하는 방식\n",
    "    - Subclass 방식: 네트워크를 정의하는 클래스를 구현.\n",
    "    "
   ]
  },
  {
   "cell_type": "markdown",
   "metadata": {
    "slideshow": {
     "slide_type": "fragment"
    }
   },
   "source": [
    "3. **모델 Compile(컴파일)**\n",
    "    - 모델이 Train(학습)할때 사용할 손실함수(Loss Function), 최적화기법(Optimizer), 학습과정을 모니터링할 평가지표(Metrics)를 설정\n",
    "    \n",
    "    > Compile: 실행할 수 있는 상태로 만들어 주는 것."
   ]
  },
  {
   "cell_type": "markdown",
   "metadata": {
    "slideshow": {
     "slide_type": "fragment"
    }
   },
   "source": [
    "4. **Training(학습/훈련)**\n",
    "    - Train dataset을 이용해 모델을 Train 시킨다."
   ]
  },
  {
   "cell_type": "markdown",
   "metadata": {
    "slideshow": {
     "slide_type": "slide"
    }
   },
   "source": [
    "# MNIST 이미지 분류 \n",
    "- ### [MNIST](https://ko.wikipedia.org/wiki/MNIST_%EB%8D%B0%EC%9D%B4%ED%84%B0%EB%B2%A0%EC%9D%B4%EC%8A%A4)(Modified National Institute of Standards and Technology) database\n",
    "- 흑백 손글씨 숫자 0-9까지 10개의 범주로 구분해놓은 데이터셋\n",
    "- 하나의 이미지는 28 * 28 pixel 의 크기\n",
    "- 6만개의 Train 이미지와 1만개의 Test 이미지로 구성됨."
   ]
  },
  {
   "cell_type": "markdown",
   "metadata": {},
   "source": [
    "##### import"
   ]
  },
  {
   "cell_type": "code",
   "execution_count": 23,
   "metadata": {
    "ExecuteTime": {
     "end_time": "2021-11-05T05:52:08.827346Z",
     "start_time": "2021-11-05T05:52:06.673462Z"
    },
    "slideshow": {
     "slide_type": "slide"
    }
   },
   "outputs": [],
   "source": [
    "import numpy as np\n",
    "import tensorflow as tf\n",
    "from tensorflow import keras"
   ]
  },
  {
   "cell_type": "markdown",
   "metadata": {
    "ExecuteTime": {
     "end_time": "2021-08-30T05:02:52.852140Z",
     "start_time": "2021-08-30T05:02:52.563117Z"
    },
    "slideshow": {
     "slide_type": "slide"
    }
   },
   "source": [
    "##### MNIST dataset Loading"
   ]
  },
  {
   "cell_type": "code",
   "execution_count": 3,
   "metadata": {
    "ExecuteTime": {
     "end_time": "2021-11-05T05:52:09.483696Z",
     "start_time": "2021-11-05T05:52:08.827346Z"
    },
    "slideshow": {
     "slide_type": "fragment"
    }
   },
   "outputs": [],
   "source": [
    "(train_image, train_label), (test_image, test_label) = keras.datasets.mnist.load_data()"
   ]
  },
  {
   "cell_type": "code",
   "execution_count": 4,
   "metadata": {
    "ExecuteTime": {
     "end_time": "2021-11-05T05:52:09.498650Z",
     "start_time": "2021-11-05T05:52:09.484659Z"
    },
    "slideshow": {
     "slide_type": "fragment"
    }
   },
   "outputs": [
    {
     "name": "stdout",
     "output_type": "stream",
     "text": [
      "(60000, 28, 28) (10000, 28, 28)\n"
     ]
    }
   ],
   "source": [
    "print(train_image.shape, test_image.shape)"
   ]
  },
  {
   "cell_type": "code",
   "execution_count": 5,
   "metadata": {
    "ExecuteTime": {
     "end_time": "2021-11-05T05:52:09.514650Z",
     "start_time": "2021-11-05T05:52:09.500651Z"
    },
    "slideshow": {
     "slide_type": "fragment"
    }
   },
   "outputs": [
    {
     "name": "stdout",
     "output_type": "stream",
     "text": [
      "(60000,) (10000,)\n"
     ]
    }
   ],
   "source": [
    "print(train_label.shape, test_label.shape)"
   ]
  },
  {
   "cell_type": "code",
   "execution_count": 6,
   "metadata": {
    "ExecuteTime": {
     "end_time": "2021-11-05T05:52:52.248805Z",
     "start_time": "2021-11-05T05:52:51.881613Z"
    },
    "slideshow": {
     "slide_type": "slide"
    }
   },
   "outputs": [
    {
     "data": {
      "image/png": "[encoded data removed]",
      "text/plain": [
       "<Figure size 1080x360 with 10 Axes>"
      ]
     },
     "metadata": {
      "needs_background": "light"
     },
     "output_type": "display_data"
    }
   ],
   "source": [
    "import matplotlib.pyplot as plt\n",
    "plt.figure(figsize=(15, 5))\n",
    "\n",
    "N = 10\n",
    "for i in range(N):\n",
    "    plt.subplot(2, int(N/2), i+1)\n",
    "    plt.imshow(train_image[i], cmap='gray')\n",
    "    plt.title(str(train_label[i]), fontsize=20)\n",
    "    plt.axis('off')\n",
    "    \n",
    "plt.tight_layout()\n",
    "plt.show()    "
   ]
  },
  {
   "cell_type": "markdown",
   "metadata": {
    "slideshow": {
     "slide_type": "slide"
    }
   },
   "source": [
    "## 네트워크(모델) 구현\n",
    "- Network : 전체 모델 구조"
   ]
  },
  {
   "cell_type": "code",
   "execution_count": 7,
   "metadata": {
    "ExecuteTime": {
     "end_time": "2021-11-01T02:50:13.208858Z",
     "start_time": "2021-11-01T02:50:13.143861Z"
    },
    "slideshow": {
     "slide_type": "fragment"
    }
   },
   "outputs": [
    {
     "name": "stdout",
     "output_type": "stream",
     "text": [
      "Metal device set to: Apple M1\n"
     ]
    },
    {
     "name": "stderr",
     "output_type": "stream",
     "text": [
      "2022-07-11 15:50:59.500422: I tensorflow/core/common_runtime/pluggable_device/pluggable_device_factory.cc:305] Could not identify NUMA node of platform GPU ID 0, defaulting to 0. Your kernel may not have been built with NUMA support.\n",
      "2022-07-11 15:50:59.500767: I tensorflow/core/common_runtime/pluggable_device/pluggable_device_factory.cc:271] Created TensorFlow device (/job:localhost/replica:0/task:0/device:GPU:0 with 0 MB memory) -> physical PluggableDevice (device: 0, name: METAL, pci bus id: <undefined>)\n"
     ]
    }
   ],
   "source": [
    "model = keras.Sequential()\n",
    "\n",
    "model.add(keras.layers.InputLayer((28,28))) \n",
    "\n",
    "model.add(keras.layers.Flatten())  \n",
    "\n",
    "model.add(keras.layers.Dense(256, activation='relu'))\n",
    "model.add(keras.layers.Dense(128, activation='relu'))\n",
    "\n",
    "model.add(keras.layers.Dense(10, activation='softmax'))"
   ]
  },
  {
   "cell_type": "code",
   "execution_count": 8,
   "metadata": {
    "ExecuteTime": {
     "end_time": "2021-11-01T02:50:14.795234Z",
     "start_time": "2021-11-01T02:50:14.783202Z"
    },
    "slideshow": {
     "slide_type": "fragment"
    }
   },
   "outputs": [
    {
     "name": "stdout",
     "output_type": "stream",
     "text": [
      "Model: \"sequential\"\n",
      "_________________________________________________________________\n",
      " Layer (type)                Output Shape              Param #   \n",
      "=================================================================\n",
      " flatten (Flatten)           (None, 784)               0         \n",
      "                                                                 \n",
      " dense (Dense)               (None, 256)               200960    \n",
      "                                                                 \n",
      " dense_1 (Dense)             (None, 128)               32896     \n",
      "                                                                 \n",
      " dense_2 (Dense)             (None, 10)                1290      \n",
      "                                                                 \n",
      "=================================================================\n",
      "Total params: 235,146\n",
      "Trainable params: 235,146\n",
      "Non-trainable params: 0\n",
      "_________________________________________________________________\n"
     ]
    }
   ],
   "source": [
    "model.summary() "
   ]
  },
  {
   "cell_type": "code",
   "execution_count": 9,
   "metadata": {
    "ExecuteTime": {
     "end_time": "2021-11-01T02:50:22.469235Z",
     "start_time": "2021-11-01T02:50:21.998852Z"
    },
    "slideshow": {
     "slide_type": "fragment"
    }
   },
   "outputs": [
    {
     "name": "stdout",
     "output_type": "stream",
     "text": [
      "You must install pydot (`pip install pydot`) and install graphviz (see instructions at https://graphviz.gitlab.io/download/) for plot_model/model_to_dot to work.\n"
     ]
    }
   ],
   "source": [
    "from tensorflow.keras.utils import plot_model\n",
    "plot_model(model, to_file='model_shapes.png', show_shapes=True)"
   ]
  },
  {
   "cell_type": "markdown",
   "metadata": {
    "slideshow": {
     "slide_type": "slide"
    }
   },
   "source": [
    "## 컴파일 단계\n",
    "- 정의된 네트워크 모델에 학습을 위한 추가 설정을 한다.\n",
    "    - Optimizer\n",
    "    - 손실함수\n",
    "    - 평가지표"
   ]
  },
  {
   "cell_type": "code",
   "execution_count": 10,
   "metadata": {
    "ExecuteTime": {
     "end_time": "2021-11-01T03:14:33.954084Z",
     "start_time": "2021-11-01T03:14:33.929120Z"
    },
    "slideshow": {
     "slide_type": "fragment"
    }
   },
   "outputs": [],
   "source": [
    "model.compile(optimizer='adam', \n",
    "              loss='categorical_crossentropy', \n",
    "              metrics=['accuracy']) "
   ]
  },
  {
   "cell_type": "markdown",
   "metadata": {
    "slideshow": {
     "slide_type": "slide"
    }
   },
   "source": [
    "## 데이터 준비\n",
    "- X (Input Data Image)\n",
    "    - 0 ~ 1 사이의 값으로 정규화 시킨다.\n",
    "- y (Output Data)\n",
    "    - one hot encoding 처리\n",
    "        - Label이 다중분류(Multi class classification)일 경우 One Hot Encoding 한다.\n",
    "    - Keras의 onehot encoding 처리 함수\n",
    "        - tensorflow.keras.utils.to_categorical()"
   ]
  },
  {
   "cell_type": "code",
   "execution_count": 11,
   "metadata": {
    "ExecuteTime": {
     "end_time": "2021-11-01T02:50:52.997561Z",
     "start_time": "2021-11-01T02:50:52.902800Z"
    },
    "slideshow": {
     "slide_type": "fragment"
    }
   },
   "outputs": [
    {
     "name": "stdout",
     "output_type": "stream",
     "text": [
      "0, 255, uint8\n"
     ]
    }
   ],
   "source": [
    "print(np.min(train_image), np.max(train_image), train_image.dtype, sep=', ')"
   ]
  },
  {
   "cell_type": "markdown",
   "metadata": {
    "ExecuteTime": {
     "end_time": "2021-08-30T05:07:46.170159Z",
     "start_time": "2021-08-30T05:07:45.800170Z"
    },
    "slideshow": {
     "slide_type": "fragment"
    }
   },
   "source": [
    "##### input image(X)를 정규화. \n",
    "- 이미지를 0 ~ 1 로 정규화 하고 타입을 float32로 변환"
   ]
  },
  {
   "cell_type": "code",
   "execution_count": 12,
   "metadata": {
    "ExecuteTime": {
     "end_time": "2021-11-01T02:50:53.531227Z",
     "start_time": "2021-11-01T02:50:53.231410Z"
    },
    "slideshow": {
     "slide_type": "fragment"
    }
   },
   "outputs": [],
   "source": [
    "X_train = train_image.astype(np.float32)\n",
    "X_train /= 255.0\n",
    "\n",
    "X_test = test_image.astype(np.float32)\n",
    "X_test /= 255.0"
   ]
  },
  {
   "cell_type": "code",
   "execution_count": 13,
   "metadata": {
    "ExecuteTime": {
     "end_time": "2021-11-01T02:50:53.561192Z",
     "start_time": "2021-11-01T02:50:53.531227Z"
    },
    "slideshow": {
     "slide_type": "fragment"
    }
   },
   "outputs": [
    {
     "name": "stdout",
     "output_type": "stream",
     "text": [
      "0.0, 1.0, float32\n"
     ]
    }
   ],
   "source": [
    "print(np.min(X_train), np.max(X_test), X_train.dtype, sep=', ')"
   ]
  },
  {
   "cell_type": "markdown",
   "metadata": {
    "ExecuteTime": {
     "end_time": "2021-08-30T05:08:02.687904Z",
     "start_time": "2021-08-30T05:08:02.678864Z"
    },
    "slideshow": {
     "slide_type": "slide"
    }
   },
   "source": [
    "##### label(y)를 one hot encoding"
   ]
  },
  {
   "cell_type": "code",
   "execution_count": 14,
   "metadata": {
    "ExecuteTime": {
     "end_time": "2021-11-01T02:50:53.736441Z",
     "start_time": "2021-11-01T02:50:53.720412Z"
    },
    "slideshow": {
     "slide_type": "fragment"
    }
   },
   "outputs": [
    {
     "name": "stdout",
     "output_type": "stream",
     "text": [
      "(60000,) (10000,)\n"
     ]
    },
    {
     "data": {
      "text/plain": [
       "array([5, 0, 4, 1, 9], dtype=uint8)"
      ]
     },
     "execution_count": 14,
     "metadata": {},
     "output_type": "execute_result"
    }
   ],
   "source": [
    "print(train_label.shape, test_label.shape)\n",
    "train_label[:5]"
   ]
  },
  {
   "cell_type": "code",
   "execution_count": 15,
   "metadata": {
    "ExecuteTime": {
     "end_time": "2021-11-01T02:50:54.095562Z",
     "start_time": "2021-11-01T02:50:54.088527Z"
    },
    "slideshow": {
     "slide_type": "fragment"
    }
   },
   "outputs": [],
   "source": [
    "y_train = keras.utils.to_categorical(train_label)\n",
    "y_test = keras.utils.to_categorical(test_label)"
   ]
  },
  {
   "cell_type": "code",
   "execution_count": 16,
   "metadata": {
    "ExecuteTime": {
     "end_time": "2021-11-01T02:50:54.281279Z",
     "start_time": "2021-11-01T02:50:54.272279Z"
    },
    "slideshow": {
     "slide_type": "fragment"
    }
   },
   "outputs": [
    {
     "data": {
      "text/plain": [
       "array([[0., 0., 0., 0., 0., 1., 0., 0., 0., 0.],\n",
       "       [1., 0., 0., 0., 0., 0., 0., 0., 0., 0.],\n",
       "       [0., 0., 0., 0., 1., 0., 0., 0., 0., 0.],\n",
       "       [0., 1., 0., 0., 0., 0., 0., 0., 0., 0.],\n",
       "       [0., 0., 0., 0., 0., 0., 0., 0., 0., 1.]], dtype=float32)"
      ]
     },
     "execution_count": 16,
     "metadata": {},
     "output_type": "execute_result"
    }
   ],
   "source": [
    "y_train[:5]"
   ]
  },
  {
   "cell_type": "code",
   "execution_count": 17,
   "metadata": {
    "ExecuteTime": {
     "end_time": "2021-11-01T02:50:54.467045Z",
     "start_time": "2021-11-01T02:50:54.458082Z"
    },
    "slideshow": {
     "slide_type": "fragment"
    }
   },
   "outputs": [
    {
     "name": "stdout",
     "output_type": "stream",
     "text": [
      "(60000, 10) (10000, 10)\n"
     ]
    }
   ],
   "source": [
    "print(y_train.shape, y_test.shape)"
   ]
  },
  {
   "cell_type": "markdown",
   "metadata": {
    "slideshow": {
     "slide_type": "slide"
    }
   },
   "source": [
    "## 학습 (fit)\n",
    "- model.fit()\n",
    "    - 모델 학습 메소드. \n",
    "    - 학습과정의 Log를 History 객체로 반환한다.\n",
    "- History : train 시 에폭별 평가지표값들을 모아서 제공.    "
   ]
  },
  {
   "cell_type": "code",
   "execution_count": 19,
   "metadata": {
    "ExecuteTime": {
     "end_time": "2021-11-01T02:53:48.924439Z",
     "start_time": "2021-11-01T02:53:29.624572Z"
    },
    "scrolled": false,
    "slideshow": {
     "slide_type": "fragment"
    }
   },
   "outputs": [
    {
     "name": "stdout",
     "output_type": "stream",
     "text": [
      "Epoch 1/10\n",
      "420/420 [==============================] - 3s 8ms/step - loss: 0.0122 - accuracy: 0.9961 - val_loss: 0.1186 - val_accuracy: 0.9734\n",
      "Epoch 2/10\n",
      "420/420 [==============================] - 3s 8ms/step - loss: 0.0094 - accuracy: 0.9969 - val_loss: 0.1212 - val_accuracy: 0.9733\n",
      "Epoch 3/10\n",
      "420/420 [==============================] - 3s 8ms/step - loss: 0.0115 - accuracy: 0.9963 - val_loss: 0.1349 - val_accuracy: 0.9721\n",
      "Epoch 4/10\n",
      "420/420 [==============================] - 3s 8ms/step - loss: 0.0116 - accuracy: 0.9958 - val_loss: 0.1291 - val_accuracy: 0.9751\n",
      "Epoch 5/10\n",
      "420/420 [==============================] - 3s 8ms/step - loss: 0.0116 - accuracy: 0.9961 - val_loss: 0.1169 - val_accuracy: 0.9763\n",
      "Epoch 6/10\n",
      "420/420 [==============================] - 3s 8ms/step - loss: 0.0044 - accuracy: 0.9988 - val_loss: 0.1165 - val_accuracy: 0.9764\n",
      "Epoch 7/10\n",
      "420/420 [==============================] - 3s 8ms/step - loss: 0.0096 - accuracy: 0.9966 - val_loss: 0.1365 - val_accuracy: 0.9744\n",
      "Epoch 8/10\n",
      "420/420 [==============================] - 3s 8ms/step - loss: 0.0087 - accuracy: 0.9972 - val_loss: 0.1372 - val_accuracy: 0.9752\n",
      "Epoch 9/10\n",
      "420/420 [==============================] - 3s 8ms/step - loss: 0.0092 - accuracy: 0.9973 - val_loss: 0.1309 - val_accuracy: 0.9752\n",
      "Epoch 10/10\n",
      "420/420 [==============================] - 3s 8ms/step - loss: 0.0074 - accuracy: 0.9978 - val_loss: 0.1548 - val_accuracy: 0.9733\n"
     ]
    }
   ],
   "source": [
    "hist = model.fit(X_train, y_train, \n",
    "                  epochs=10,  \n",
    "                  batch_size=100,\n",
    "                  validation_split=0.3\n",
    "                 )\n"
   ]
  },
  {
   "cell_type": "markdown",
   "metadata": {
    "slideshow": {
     "slide_type": "slide"
    }
   },
   "source": [
    "##### History 시각화"
   ]
  },
  {
   "cell_type": "code",
   "execution_count": 20,
   "metadata": {
    "ExecuteTime": {
     "end_time": "2021-11-01T02:54:03.793711Z",
     "start_time": "2021-11-01T02:54:03.519389Z"
    },
    "slideshow": {
     "slide_type": "fragment"
    }
   },
   "outputs": [
    {
     "data": {
      "image/png": "[encoded data removed]",
      "text/plain": [
       "<Figure size 504x720 with 2 Axes>"
      ]
     },
     "metadata": {
      "needs_background": "light"
     },
     "output_type": "display_data"
    }
   ],
   "source": [
    "import matplotlib.pyplot as plt\n",
    "plt.figure(figsize=(7,10))\n",
    "\n",
    "plt.subplot(2,1,1)\n",
    "plt.plot(range(1,11), hist.history['loss'], label='Train Loss')\n",
    "plt.plot(range(1,11), hist.history['val_loss'], label=\"Validation Loss\")\n",
    "plt.title(\"Loss per Epoch\", fontsize=20)\n",
    "plt.legend()\n",
    "\n",
    "plt.subplot(2,1,2)\n",
    "plt.plot(range(1,11), hist.history['accuracy'], label='Train Accuracy')\n",
    "plt.plot(range(1,11), hist.history['val_accuracy'], label='Validation Accuracy')\n",
    "plt.title(\"Accuracy per Epoch\", fontsize=20)\n",
    "\n",
    "plt.legend()\n",
    "plt.tight_layout()\n",
    "plt.show()\n"
   ]
  },
  {
   "cell_type": "markdown",
   "metadata": {
    "slideshow": {
     "slide_type": "slide"
    }
   },
   "source": [
    "## 테스트셋 평가"
   ]
  },
  {
   "cell_type": "code",
   "execution_count": 21,
   "metadata": {
    "ExecuteTime": {
     "end_time": "2021-11-01T02:54:55.003613Z",
     "start_time": "2021-11-01T02:54:53.112014Z"
    },
    "slideshow": {
     "slide_type": "fragment"
    }
   },
   "outputs": [
    {
     "name": "stdout",
     "output_type": "stream",
     "text": [
      "  9/313 [..............................] - ETA: 1s - loss: 0.0223 - accuracy: 0.9965  "
     ]
    },
    {
     "name": "stderr",
     "output_type": "stream",
     "text": [
      "2022-07-11 16:28:33.170876: I tensorflow/core/grappler/optimizers/custom_graph_optimizer_registry.cc:113] Plugin optimizer for device_type GPU is enabled.\n"
     ]
    },
    {
     "name": "stdout",
     "output_type": "stream",
     "text": [
      "313/313 [==============================] - 2s 6ms/step - loss: 0.1211 - accuracy: 0.9765\n"
     ]
    }
   ],
   "source": [
    "test_loss, test_acc = model.evaluate(X_test, y_test)"
   ]
  },
  {
   "cell_type": "code",
   "execution_count": 22,
   "metadata": {
    "ExecuteTime": {
     "end_time": "2021-11-01T02:54:59.796293Z",
     "start_time": "2021-11-01T02:54:59.784261Z"
    },
    "slideshow": {
     "slide_type": "fragment"
    }
   },
   "outputs": [
    {
     "name": "stdout",
     "output_type": "stream",
     "text": [
      "0.1210903525352478 0.9765000343322754\n"
     ]
    }
   ],
   "source": [
    "print(test_loss, test_acc)"
   ]
  },
  {
   "cell_type": "markdown",
   "metadata": {
    "slideshow": {
     "slide_type": "slide"
    }
   },
   "source": [
    "## 새로운 데이터 추론\n",
    "- 새로운 데이터를 추론하기 전에 학습데이터에 했던 전처리과정을 동일하게 적용 한 뒤 추론한다."
   ]
  },
  {
   "cell_type": "markdown",
   "metadata": {
    "slideshow": {
     "slide_type": "fragment"
    }
   },
   "source": [
    "### 추론 메소드\n",
    "- predict()\n",
    "    - **분류:** 각 클래스 별 확률 반환\n",
    "    - **회귀:** 최종 예측 결과\n",
    "- 분류문제일때 predict() 결과에서 class label 출력하기    \n",
    "    - 이진 분류(binary classification)\n",
    "        - `numpy.where(model.predict(x) > 0.5, 1, 0).astype(\"int32\")`\n",
    "    - 다중클래스 분류(multi-class classification)\n",
    "        - `numpy.argmax(model.predict(x), axis=1)`"
   ]
  },
  {
   "cell_type": "code",
   "execution_count": null,
   "metadata": {
    "ExecuteTime": {
     "end_time": "2021-11-01T02:59:10.029469Z",
     "start_time": "2021-11-01T02:59:10.016497Z"
    },
    "slideshow": {
     "slide_type": "slide"
    }
   },
   "outputs": [],
   "source": [
    "new_image = X_test[:5]\n",
    "new_image.shape"
   ]
  },
  {
   "cell_type": "code",
   "execution_count": null,
   "metadata": {
    "ExecuteTime": {
     "end_time": "2021-11-01T02:59:10.325737Z",
     "start_time": "2021-11-01T02:59:10.264749Z"
    },
    "slideshow": {
     "slide_type": "fragment"
    }
   },
   "outputs": [],
   "source": [
    "result = model.predict(new_image)\n",
    "result.shape"
   ]
  },
  {
   "cell_type": "code",
   "execution_count": null,
   "metadata": {
    "ExecuteTime": {
     "end_time": "2021-11-01T02:59:21.286183Z",
     "start_time": "2021-11-01T02:59:21.270686Z"
    },
    "slideshow": {
     "slide_type": "fragment"
    }
   },
   "outputs": [],
   "source": [
    "result[0]"
   ]
  },
  {
   "cell_type": "code",
   "execution_count": null,
   "metadata": {
    "ExecuteTime": {
     "end_time": "2021-11-01T03:00:02.103464Z",
     "start_time": "2021-11-01T03:00:02.087465Z"
    },
    "slideshow": {
     "slide_type": "fragment"
    }
   },
   "outputs": [],
   "source": [
    "result_label = np.argmax(result, axis=-1)"
   ]
  },
  {
   "cell_type": "code",
   "execution_count": null,
   "metadata": {
    "ExecuteTime": {
     "end_time": "2021-11-01T03:00:02.556585Z",
     "start_time": "2021-11-01T03:00:02.543585Z"
    },
    "slideshow": {
     "slide_type": "fragment"
    }
   },
   "outputs": [],
   "source": [
    "result_label"
   ]
  }
 ],
 "metadata": {
  "kernelspec": {
   "display_name": "Python 3 (ipykernel)",
   "language": "python",
   "name": "python3"
  },
  "language_info": {
   "codemirror_mode": {
    "name": "ipython",
    "version": 3
   },
   "file_extension": ".py",
   "mimetype": "text/x-python",
   "name": "python",
   "nbconvert_exporter": "python",
   "pygments_lexer": "ipython3",
   "version": "3.8.13"
  },
  "toc": {
   "base_numbering": 1,
   "nav_menu": {},
   "number_sections": false,
   "sideBar": true,
   "skip_h1_title": false,
   "title_cell": "Table of Contents",
   "title_sidebar": "Contents",
   "toc_cell": false,
   "toc_position": {},
   "toc_section_display": true,
   "toc_window_display": false
  },
  "varInspector": {
   "cols": {
    "lenName": 16,
    "lenType": 16,
    "lenVar": 40
   },
   "kernels_config": {
    "python": {
     "delete_cmd_postfix": "",
     "delete_cmd_prefix": "del ",
     "library": "var_list.py",
     "varRefreshCmd": "print(var_dic_list())"
    },
    "r": {
     "delete_cmd_postfix": ") ",
     "delete_cmd_prefix": "rm(",
     "library": "var_list.r",
     "varRefreshCmd": "cat(var_dic_list()) "
    }
   },
   "types_to_exclude": [
    "module",
    "function",
    "builtin_function_or_method",
    "instance",
    "_Feature"
   ],
   "window_display": false
  }
 },
 "nbformat": 4,
 "nbformat_minor": 2
}
