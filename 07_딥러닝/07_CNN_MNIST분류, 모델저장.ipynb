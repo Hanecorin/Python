{
 "cells": [
  {
   "cell_type": "markdown",
   "metadata": {
    "id": "n1-HdRR266M6"
   },
   "source": [
    "# Convolutional Neural Network 구현\n",
    "\n",
    "- MNIST 손글씨 data를 이용하여 CNN을 학습하고 MLP와 결과와 비교 해본다."
   ]
  },
  {
   "cell_type": "markdown",
   "metadata": {
    "id": "lVfU9x_0BnrU"
   },
   "source": [
    "##### 학습결과 시각화 함수 정의"
   ]
  },
  {
   "cell_type": "code",
   "execution_count": 3,
   "metadata": {
    "ExecuteTime": {
     "end_time": "2021-11-05T01:51:07.359080Z",
     "start_time": "2021-11-05T01:51:06.988477Z"
    },
    "executionInfo": {
     "elapsed": 329,
     "status": "ok",
     "timestamp": 1658194493401,
     "user": {
      "displayName": "Sunghwan KIM",
      "userId": "06010856989212311727"
     },
     "user_tz": -540
    },
    "id": "6eRfpyes66NC"
   },
   "outputs": [],
   "source": [
    "import matplotlib.pyplot as plt\n",
    "\n",
    "# loss 그래프\n",
    "def plot_loss(history):\n",
    "    plt.plot(history.history['loss'], label='Train loss')\n",
    "    plt.plot(history.history['val_loss'], label='Validation loss')\n",
    "    plt.title('Loss')\n",
    "    plt.xlabel('epoch')\n",
    "    plt.ylabel('loss')\n",
    "    plt.legend()\n",
    "    plt.show()"
   ]
  },
  {
   "cell_type": "code",
   "execution_count": 4,
   "metadata": {
    "ExecuteTime": {
     "end_time": "2021-11-05T01:51:07.375106Z",
     "start_time": "2021-11-05T01:51:07.360114Z"
    },
    "executionInfo": {
     "elapsed": 4,
     "status": "ok",
     "timestamp": 1658194497174,
     "user": {
      "displayName": "Sunghwan KIM",
      "userId": "06010856989212311727"
     },
     "user_tz": -540
    },
    "id": "Qb5naeVi66ND"
   },
   "outputs": [],
   "source": [
    "# accuracy 그래프\n",
    "def plot_accuracy(history):\n",
    "    plt.plot(history.history['accuracy'], label='Train accuracy')\n",
    "    plt.plot(history.history['val_accuracy'], label='Validation accuracy')\n",
    "    plt.title('Accuracy')\n",
    "    plt.xlabel('epoch')\n",
    "    plt.ylabel('accuracy')\n",
    "    plt.legend()\n",
    "    plt.show()"
   ]
  },
  {
   "cell_type": "markdown",
   "metadata": {
    "id": "Rt7rzcfiBnrY"
   },
   "source": [
    "# MNIST CNN 적용"
   ]
  },
  {
   "cell_type": "code",
   "execution_count": 5,
   "metadata": {
    "ExecuteTime": {
     "end_time": "2021-11-05T01:51:10.884077Z",
     "start_time": "2021-11-05T01:51:08.546886Z"
    },
    "colab": {
     "base_uri": "https://localhost:8080/"
    },
    "executionInfo": {
     "elapsed": 2806,
     "status": "ok",
     "timestamp": 1658194573661,
     "user": {
      "displayName": "Sunghwan KIM",
      "userId": "06010856989212311727"
     },
     "user_tz": -540
    },
    "id": "LcNnf6Ey66NE",
    "outputId": "820b1acb-0ac9-4e44-e2b1-87fa893fde02"
   },
   "outputs": [
    {
     "name": "stdout",
     "output_type": "stream",
     "text": [
      "2.8.2\n",
      "2.8.0\n"
     ]
    }
   ],
   "source": [
    "import os\n",
    "import numpy as np\n",
    "\n",
    "import tensorflow as tf\n",
    "from tensorflow import keras\n",
    "from tensorflow.keras import layers\n",
    "\n",
    "# 라이브러리.__version__ ex) np.__version__\n",
    "print(tf.__version__)\n",
    "print(keras.__version__)"
   ]
  },
  {
   "cell_type": "code",
   "execution_count": 6,
   "metadata": {
    "ExecuteTime": {
     "end_time": "2021-11-05T01:51:10.894074Z",
     "start_time": "2021-11-05T01:51:10.886077Z"
    },
    "executionInfo": {
     "elapsed": 320,
     "status": "ok",
     "timestamp": 1658194587586,
     "user": {
      "displayName": "Sunghwan KIM",
      "userId": "06010856989212311727"
     },
     "user_tz": -540
    },
    "id": "6MaESnzB66NF"
   },
   "outputs": [],
   "source": [
    "np.random.seed(0)\n",
    "tf.random.set_seed(0)"
   ]
  },
  {
   "cell_type": "markdown",
   "metadata": {
    "id": "uiw97w0sBnra"
   },
   "source": [
    "##### data loading"
   ]
  },
  {
   "cell_type": "code",
   "execution_count": 7,
   "metadata": {
    "ExecuteTime": {
     "end_time": "2021-11-05T01:51:12.064601Z",
     "start_time": "2021-11-05T01:51:11.810927Z"
    },
    "colab": {
     "base_uri": "https://localhost:8080/"
    },
    "executionInfo": {
     "elapsed": 827,
     "status": "ok",
     "timestamp": 1658194596571,
     "user": {
      "displayName": "Sunghwan KIM",
      "userId": "06010856989212311727"
     },
     "user_tz": -540
    },
    "id": "CNvvkkEqBnrb",
    "outputId": "c2723145-f004-40ec-93ad-3fb8af9bf4d9"
   },
   "outputs": [
    {
     "name": "stdout",
     "output_type": "stream",
     "text": [
      "Downloading data from https://storage.googleapis.com/tensorflow/tf-keras-datasets/mnist.npz\n",
      "11493376/11490434 [==============================] - 0s 0us/step\n",
      "11501568/11490434 [==============================] - 0s 0us/step\n"
     ]
    },
    {
     "data": {
      "text/plain": [
       "((60000, 28, 28), (10000, 28, 28))"
      ]
     },
     "execution_count": 7,
     "metadata": {},
     "output_type": "execute_result"
    }
   ],
   "source": [
    "(train_image, train_label), (test_image, test_label) = keras.datasets.mnist.load_data()\n",
    "train_image.shape, test_image.shape"
   ]
  },
  {
   "cell_type": "markdown",
   "metadata": {
    "id": "oqASo4KEBnrb"
   },
   "source": [
    "##### 하이퍼파라미터, 변수 설정"
   ]
  },
  {
   "cell_type": "code",
   "execution_count": 8,
   "metadata": {
    "ExecuteTime": {
     "end_time": "2021-11-05T01:51:12.922956Z",
     "start_time": "2021-11-05T01:51:12.905933Z"
    },
    "executionInfo": {
     "elapsed": 347,
     "status": "ok",
     "timestamp": 1658194648800,
     "user": {
      "displayName": "Sunghwan KIM",
      "userId": "06010856989212311727"
     },
     "user_tz": -540
    },
    "id": "DUMcV93l66NG"
   },
   "outputs": [],
   "source": [
    "LEARNING_RATE = 0.001  #학습율\n",
    "N_EPOCHS = 20          #에폭 횟수\n",
    "N_BATCHS = 1000        #배치크기\n",
    "\n",
    "# train/test set의 데이터 개수\n",
    "N_TRAIN = train_image.shape[0]\n",
    "N_TEST = test_image.shape[0]"
   ]
  },
  {
   "cell_type": "markdown",
   "metadata": {
    "id": "VpWd7sdUBnrd"
   },
   "source": [
    "##### 전처리, Dataset 생성\n",
    "- X\n",
    "    - uint8을 float32 타입으로 변경.\n",
    "    - pixcel값 정규화: 0 ~ 1\n",
    "    - Gray scale에 channel 축이 없는 경우 dummy 축을 늘려준다.\n",
    "        - 영상처리 convolution layer(Conv2D)는 입력으로 3차원 (height, width, channel) 배열을 받는다.\n",
    "- Y: onehot encoding"
   ]
  },
  {
   "cell_type": "code",
   "execution_count": 9,
   "metadata": {
    "ExecuteTime": {
     "end_time": "2021-11-05T01:51:14.114053Z",
     "start_time": "2021-11-05T01:51:13.857638Z"
    },
    "colab": {
     "base_uri": "https://localhost:8080/"
    },
    "executionInfo": {
     "elapsed": 337,
     "status": "ok",
     "timestamp": 1658194814236,
     "user": {
      "displayName": "Sunghwan KIM",
      "userId": "06010856989212311727"
     },
     "user_tz": -540
    },
    "id": "Z2s470fyBnre",
    "outputId": "268ee59e-52eb-44dd-b736-d44c116955bd"
   },
   "outputs": [
    {
     "data": {
      "text/plain": [
       "((60000, 28, 28, 1), (10000, 28, 28, 1))"
      ]
     },
     "execution_count": 9,
     "metadata": {},
     "output_type": "execute_result"
    }
   ],
   "source": [
    "# X: 0 ~ 1 scaling\n",
    "X_train_tmp = train_image.astype(np.float32)  #uint8->float32\n",
    "X_train_tmp /= 255.0  # 0 ~ 1 정규화\n",
    "\n",
    "X_test_tmp = test_image.astype(np.float32)\n",
    "X_test_tmp /= 255.0\n",
    "\n",
    "# channel 축을 추가 # (28, 28) -> (28,  28, 1)\n",
    "X_train = X_train_tmp[..., np.newaxis]\n",
    "X_test = X_test_tmp[..., np.newaxis]\n",
    "\n",
    "X_train.shape, X_test.shape"
   ]
  },
  {
   "cell_type": "code",
   "execution_count": 10,
   "metadata": {
    "ExecuteTime": {
     "end_time": "2021-11-05T01:51:14.254296Z",
     "start_time": "2021-11-05T01:51:14.234264Z"
    },
    "executionInfo": {
     "elapsed": 304,
     "status": "ok",
     "timestamp": 1658194873858,
     "user": {
      "displayName": "Sunghwan KIM",
      "userId": "06010856989212311727"
     },
     "user_tz": -540
    },
    "id": "iOQ7nSdE66NI"
   },
   "outputs": [],
   "source": [
    "# y: onehot-encoding\n",
    "y_train = keras.utils.to_categorical(train_label)\n",
    "y_test = keras.utils.to_categorical(test_label)"
   ]
  },
  {
   "cell_type": "markdown",
   "metadata": {
    "ExecuteTime": {
     "end_time": "2021-04-22T04:45:59.913389Z",
     "start_time": "2021-04-22T04:45:59.848393Z"
    },
    "executionInfo": {
     "elapsed": 6617,
     "status": "ok",
     "timestamp": 1619080623697,
     "user": {
      "displayName": "김성환",
      "photoUrl": "https://lh3.googleusercontent.com/a-/AOh14GjqNkeEG8Sp5Fmsq56VZoiRsSxwUXmtH2Mb14M3YQA=s64",
      "userId": "02802166581970122576"
     },
     "user_tz": -540
    },
    "id": "gCrtqoUC66NJ"
   },
   "source": [
    "###### Dataset 생성"
   ]
  },
  {
   "cell_type": "code",
   "execution_count": 11,
   "metadata": {
    "ExecuteTime": {
     "end_time": "2021-11-05T01:51:16.901483Z",
     "start_time": "2021-11-05T01:51:15.147591Z"
    },
    "executionInfo": {
     "elapsed": 4309,
     "status": "ok",
     "timestamp": 1658194939826,
     "user": {
      "displayName": "Sunghwan KIM",
      "userId": "06010856989212311727"
     },
     "user_tz": -540
    },
    "id": "Rz2_rxXJBnrh"
   },
   "outputs": [],
   "source": [
    "train_dataset = tf.data.Dataset.from_tensor_slices((X_train, y_train)).shuffle(N_TRAIN).batch(N_BATCHS, drop_remainder=True)\n",
    "\n",
    "test_dataset = tf.data.Dataset.from_tensor_slices((X_test, y_test)).batch(N_BATCHS)"
   ]
  },
  {
   "cell_type": "markdown",
   "metadata": {
    "id": "QdGdISeOBnri"
   },
   "source": [
    "## Model(Network) 정의\n",
    "- Feature Extraction(backbone):Convolution Layer\n",
    "    - block: Convolution + MaxPooling Layer\n",
    "    - size(height, width) 는 줄이고 channel은 늘리는 방향으로 Layer들을 쌓는다.\n",
    "    - convolution\n",
    "        - size: 3 X 3\n",
    "        - strides: 1\n",
    "    - max pooling\n",
    "        - size: 2 X 2\n",
    "        - strides: 2\n",
    "        - 위와 같이 지정해 input의 size를 절반으로 줄인다. \n",
    "- 분류기\n",
    "    - Dense Layer 사용        \n",
    "    - Flatten을 먼저 해야 한다. (Conv의 output-feature map- 3차원 배열)\n"
   ]
  },
  {
   "cell_type": "code",
   "execution_count": 12,
   "metadata": {
    "ExecuteTime": {
     "end_time": "2021-11-05T01:51:20.648669Z",
     "start_time": "2021-11-05T01:51:20.626669Z"
    },
    "executionInfo": {
     "elapsed": 469,
     "status": "ok",
     "timestamp": 1658197569365,
     "user": {
      "displayName": "Sunghwan KIM",
      "userId": "06010856989212311727"
     },
     "user_tz": -540
    },
    "id": "L_yg9ijU66NJ"
   },
   "outputs": [],
   "source": [
    "def create_mnist_model():\n",
    "    model = keras.Sequential()\n",
    "\n",
    "    model.add(layers.InputLayer((28, 28, 1))) # input layer. 2D Convolution Layer의 경우 입력데이터는 3차원(h,w,c) 이어야 한다.\n",
    "\n",
    "    model.add(layers.Conv2D(filters=32,         #필터수\n",
    "                            kernel_size=(3,3),  #필터크기 (h, w), h와 w가 같을경우 정수로 설정.\n",
    "                            padding='same',     #padding 설정: \"valid\"(기본값), \"same\"\n",
    "                            strides=(1,1),      #stride설정(가로방향 stride, 세로방향 stride) 둘이 같을 경우 정수. 기본(1,1)\n",
    "                            activation='relu'   # 활성함수 - convolution 연산이 끝난 결과(Feature map)에 적용할 활성함수.\n",
    "                            # ,input_shape=(28,28,1)\n",
    "                            ))\n",
    "    \n",
    "    model.add(layers.MaxPool2D(pool_size=(2,2), # Pooling 영역크기. 기본값 (2,2)\n",
    "                               strides=(2,2a),   # 다음 영역을 얼만큼 떨어진 곳에 잡을 것인지. 기본값: pool_size와 동일하게 잡힌다.\n",
    "                               padding='same')) \n",
    "    # valid(기본): 마지막 남은 것이 pool_size 보다 작으면 버린다. same: pool_size보다 작으면 zero padding을 붙여 max값을 추출한다.\n",
    "\n",
    "    # filters: 필터개수 - 출력Layer와 가까이 갈 수록(top 단) 더 크게 잡아준다.\n",
    "    model.add(layers.Conv2D(filters=64,\n",
    "                            kernel_size=3, # (3,3)\n",
    "                            padding='same',\n",
    "                            activation='relu'\n",
    "                            # strides생략: 기본값 - (1,1)\n",
    "                            ))\n",
    "    model.add(layers.MaxPool2D(padding='same'))  # pool_size: (2,2), strides=(2,2) => 기본값\n",
    "\n",
    "    model.add(layers.Conv2D(filters=128, kernel_size=3, padding='same', activation='relu'))\n",
    "    model.add(layers.MaxPool2D(padding='same'))\n",
    "\n",
    "\n",
    "# 추론기\n",
    "    model.add(layers.Flatten())  # 3차원의 Feature map을 1차원으로 reshape(변환).\n",
    "\n",
    "    model.add(layers.Dense(units=256, activation='relu'))\n",
    "\n",
    "# output layer - 다중 분류: unit수-클래스개수, 활성함수: softmax - 클래스별 확률나오돌록 처리.\n",
    "    model.add(layers.Dense(units=10, activation='softmax'))\n",
    "\n",
    "    return model"
   ]
  },
  {
   "cell_type": "markdown",
   "metadata": {
    "id": "MRuZBGiFBnrj"
   },
   "source": [
    "##### 컴파일"
   ]
  },
  {
   "cell_type": "code",
   "execution_count": 13,
   "metadata": {
    "ExecuteTime": {
     "end_time": "2021-11-05T01:51:23.279900Z",
     "start_time": "2021-11-05T01:51:23.194803Z"
    },
    "executionInfo": {
     "elapsed": 354,
     "status": "ok",
     "timestamp": 1658197591036,
     "user": {
      "displayName": "Sunghwan KIM",
      "userId": "06010856989212311727"
     },
     "user_tz": -540
    },
    "id": "rci24lMXBnrk"
   },
   "outputs": [],
   "source": [
    "model = create_mnist_model()\n",
    "model.compile(optimizer=keras.optimizers.Adam(learning_rate=LEARNING_RATE), \n",
    "              loss='categorical_crossentropy', \n",
    "              metrics=['accuracy'])"
   ]
  },
  {
   "cell_type": "code",
   "execution_count": 14,
   "metadata": {
    "ExecuteTime": {
     "end_time": "2021-11-05T01:51:25.521666Z",
     "start_time": "2021-11-05T01:51:25.505959Z"
    },
    "colab": {
     "base_uri": "https://localhost:8080/"
    },
    "executionInfo": {
     "elapsed": 383,
     "status": "ok",
     "timestamp": 1658197593937,
     "user": {
      "displayName": "Sunghwan KIM",
      "userId": "06010856989212311727"
     },
     "user_tz": -540
    },
    "id": "e_0dXNYtBnrl",
    "outputId": "22ee2600-0c51-4bc5-dab4-fe2864785b7f"
   },
   "outputs": [
    {
     "name": "stdout",
     "output_type": "stream",
     "text": [
      "Model: \"sequential\"\n",
      "_________________________________________________________________\n",
      " Layer (type)                Output Shape              Param #   \n",
      "=================================================================\n",
      " conv2d (Conv2D)             (None, 28, 28, 32)        320       \n",
      "                                                                 \n",
      " max_pooling2d (MaxPooling2D  (None, 14, 14, 32)       0         \n",
      " )                                                               \n",
      "                                                                 \n",
      " conv2d_1 (Conv2D)           (None, 14, 14, 64)        18496     \n",
      "                                                                 \n",
      " max_pooling2d_1 (MaxPooling  (None, 7, 7, 64)         0         \n",
      " 2D)                                                             \n",
      "                                                                 \n",
      " conv2d_2 (Conv2D)           (None, 7, 7, 128)         73856     \n",
      "                                                                 \n",
      " max_pooling2d_2 (MaxPooling  (None, 4, 4, 128)        0         \n",
      " 2D)                                                             \n",
      "                                                                 \n",
      " flatten (Flatten)           (None, 2048)              0         \n",
      "                                                                 \n",
      " dense (Dense)               (None, 256)               524544    \n",
      "                                                                 \n",
      " dense_1 (Dense)             (None, 10)                2570      \n",
      "                                                                 \n",
      "=================================================================\n",
      "Total params: 619,786\n",
      "Trainable params: 619,786\n",
      "Non-trainable params: 0\n",
      "_________________________________________________________________\n"
     ]
    }
   ],
   "source": [
    "model.summary()\n",
    "# convolution layer는 dense layer와 비교해서 파라미터(weight)의 수는 적고 추론시 연산량은 많다."
   ]
  },
  {
   "cell_type": "code",
   "execution_count": 15,
   "metadata": {
    "ExecuteTime": {
     "end_time": "2021-11-05T01:51:28.575990Z",
     "start_time": "2021-11-05T01:51:28.057742Z"
    },
    "colab": {
     "base_uri": "https://localhost:8080/",
     "height": 1000
    },
    "executionInfo": {
     "elapsed": 905,
     "status": "ok",
     "timestamp": 1658197755170,
     "user": {
      "displayName": "Sunghwan KIM",
      "userId": "06010856989212311727"
     },
     "user_tz": -540
    },
    "id": "lOW2Ki0PBnrl",
    "outputId": "664f60df-854b-4b6b-a3ba-09aa00be0944"
   },
   "outputs": [
    {
     "data": {
      "image/png": "[encoded data removed]",
      "text/plain": [
       "<IPython.core.display.Image object>"
      ]
     },
     "execution_count": 15,
     "metadata": {},
     "output_type": "execute_result"
    }
   ],
   "source": [
    "keras.utils.plot_model(model, show_shapes=True)"
   ]
  },
  {
   "cell_type": "markdown",
   "metadata": {
    "id": "ZaCUsaZwBnrm"
   },
   "source": [
    "##### 학습"
   ]
  },
  {
   "cell_type": "code",
   "execution_count": 16,
   "metadata": {
    "ExecuteTime": {
     "end_time": "2021-11-05T01:52:46.358218Z",
     "start_time": "2021-11-05T01:52:05.426326Z"
    },
    "colab": {
     "base_uri": "https://localhost:8080/"
    },
    "executionInfo": {
     "elapsed": 62782,
     "status": "ok",
     "timestamp": 1658197970276,
     "user": {
      "displayName": "Sunghwan KIM",
      "userId": "06010856989212311727"
     },
     "user_tz": -540
    },
    "id": "cte0uN6W66NO",
    "outputId": "9c108941-495a-4a50-e410-f3c5ac94a141",
    "scrolled": false
   },
   "outputs": [
    {
     "name": "stdout",
     "output_type": "stream",
     "text": [
      "Epoch 1/20\n",
      "60/60 [==============================] - 15s 38ms/step - loss: 0.6230 - accuracy: 0.8172 - val_loss: 0.1373 - val_accuracy: 0.9569\n",
      "Epoch 2/20\n",
      "60/60 [==============================] - 2s 36ms/step - loss: 0.1068 - accuracy: 0.9673 - val_loss: 0.0709 - val_accuracy: 0.9780\n",
      "Epoch 3/20\n",
      "60/60 [==============================] - 2s 36ms/step - loss: 0.0689 - accuracy: 0.9786 - val_loss: 0.0576 - val_accuracy: 0.9810\n",
      "Epoch 4/20\n",
      "60/60 [==============================] - 2s 37ms/step - loss: 0.0508 - accuracy: 0.9841 - val_loss: 0.0371 - val_accuracy: 0.9879\n",
      "Epoch 5/20\n",
      "60/60 [==============================] - 2s 36ms/step - loss: 0.0432 - accuracy: 0.9867 - val_loss: 0.0378 - val_accuracy: 0.9871\n",
      "Epoch 6/20\n",
      "60/60 [==============================] - 2s 37ms/step - loss: 0.0340 - accuracy: 0.9893 - val_loss: 0.0274 - val_accuracy: 0.9909\n",
      "Epoch 7/20\n",
      "60/60 [==============================] - 2s 37ms/step - loss: 0.0296 - accuracy: 0.9911 - val_loss: 0.0284 - val_accuracy: 0.9911\n",
      "Epoch 8/20\n",
      "60/60 [==============================] - 2s 37ms/step - loss: 0.0264 - accuracy: 0.9917 - val_loss: 0.0276 - val_accuracy: 0.9908\n",
      "Epoch 9/20\n",
      "60/60 [==============================] - 2s 36ms/step - loss: 0.0224 - accuracy: 0.9932 - val_loss: 0.0280 - val_accuracy: 0.9912\n",
      "Epoch 10/20\n",
      "60/60 [==============================] - 2s 36ms/step - loss: 0.0190 - accuracy: 0.9942 - val_loss: 0.0248 - val_accuracy: 0.9914\n",
      "Epoch 11/20\n",
      "60/60 [==============================] - 2s 36ms/step - loss: 0.0175 - accuracy: 0.9945 - val_loss: 0.0301 - val_accuracy: 0.9901\n",
      "Epoch 12/20\n",
      "60/60 [==============================] - 2s 36ms/step - loss: 0.0151 - accuracy: 0.9957 - val_loss: 0.0265 - val_accuracy: 0.9915\n",
      "Epoch 13/20\n",
      "60/60 [==============================] - 2s 36ms/step - loss: 0.0141 - accuracy: 0.9956 - val_loss: 0.0245 - val_accuracy: 0.9924\n",
      "Epoch 14/20\n",
      "60/60 [==============================] - 2s 37ms/step - loss: 0.0118 - accuracy: 0.9965 - val_loss: 0.0293 - val_accuracy: 0.9900\n",
      "Epoch 15/20\n",
      "60/60 [==============================] - 2s 37ms/step - loss: 0.0121 - accuracy: 0.9963 - val_loss: 0.0231 - val_accuracy: 0.9932\n",
      "Epoch 16/20\n",
      "60/60 [==============================] - 2s 37ms/step - loss: 0.0091 - accuracy: 0.9972 - val_loss: 0.0240 - val_accuracy: 0.9928\n",
      "Epoch 17/20\n",
      "60/60 [==============================] - 2s 37ms/step - loss: 0.0074 - accuracy: 0.9980 - val_loss: 0.0251 - val_accuracy: 0.9925\n",
      "Epoch 18/20\n",
      "60/60 [==============================] - 2s 37ms/step - loss: 0.0066 - accuracy: 0.9980 - val_loss: 0.0235 - val_accuracy: 0.9923\n",
      "Epoch 19/20\n",
      "60/60 [==============================] - 2s 37ms/step - loss: 0.0054 - accuracy: 0.9985 - val_loss: 0.0230 - val_accuracy: 0.9930\n",
      "Epoch 20/20\n",
      "60/60 [==============================] - 2s 37ms/step - loss: 0.0047 - accuracy: 0.9987 - val_loss: 0.0228 - val_accuracy: 0.9936\n"
     ]
    }
   ],
   "source": [
    "hist = model.fit(train_dataset, \n",
    "                 epochs=N_EPOCHS, \n",
    "                 validation_data=test_dataset)"
   ]
  },
  {
   "cell_type": "markdown",
   "metadata": {
    "id": "coGMFzpKBnro"
   },
   "source": [
    "##### 결과시각화"
   ]
  },
  {
   "cell_type": "code",
   "execution_count": 17,
   "metadata": {
    "ExecuteTime": {
     "end_time": "2021-11-05T02:06:21.981443Z",
     "start_time": "2021-11-05T02:06:21.812535Z"
    },
    "colab": {
     "base_uri": "https://localhost:8080/",
     "height": 295
    },
    "executionInfo": {
     "elapsed": 462,
     "status": "ok",
     "timestamp": 1658197989249,
     "user": {
      "displayName": "Sunghwan KIM",
      "userId": "06010856989212311727"
     },
     "user_tz": -540
    },
    "id": "6Bp18mGzBnro",
    "outputId": "fbfd987f-6a82-4ffa-d0a5-e780275c1f6c"
   },
   "outputs": [
    {
     "data": {
      "image/png": "[encoded data removed]",
      "text/plain": [
       "<Figure size 432x288 with 1 Axes>"
      ]
     },
     "metadata": {
      "needs_background": "light"
     },
     "output_type": "display_data"
    }
   ],
   "source": [
    "plot_loss(hist)"
   ]
  },
  {
   "cell_type": "code",
   "execution_count": 18,
   "metadata": {
    "ExecuteTime": {
     "end_time": "2021-11-05T02:06:25.113761Z",
     "start_time": "2021-11-05T02:06:24.971687Z"
    },
    "colab": {
     "base_uri": "https://localhost:8080/",
     "height": 295
    },
    "executionInfo": {
     "elapsed": 464,
     "status": "ok",
     "timestamp": 1658197992832,
     "user": {
      "displayName": "Sunghwan KIM",
      "userId": "06010856989212311727"
     },
     "user_tz": -540
    },
    "id": "xmyUGN0XBnrp",
    "outputId": "f568f3ec-d2b9-4808-bd2a-de8bd1dbf206"
   },
   "outputs": [
    {
     "data": {
      "image/png": "[encoded data removed]",
      "text/plain": [
       "<Figure size 432x288 with 1 Axes>"
      ]
     },
     "metadata": {
      "needs_background": "light"
     },
     "output_type": "display_data"
    }
   ],
   "source": [
    "plot_accuracy(hist)"
   ]
  },
  {
   "cell_type": "markdown",
   "metadata": {
    "id": "o9EXkMA_Bnrp"
   },
   "source": [
    "##### 최종검증"
   ]
  },
  {
   "cell_type": "code",
   "execution_count": 19,
   "metadata": {
    "ExecuteTime": {
     "end_time": "2021-11-05T02:06:30.129792Z",
     "start_time": "2021-11-05T02:06:29.179663Z"
    },
    "colab": {
     "base_uri": "https://localhost:8080/"
    },
    "executionInfo": {
     "elapsed": 513,
     "status": "ok",
     "timestamp": 1658198009681,
     "user": {
      "displayName": "Sunghwan KIM",
      "userId": "06010856989212311727"
     },
     "user_tz": -540
    },
    "id": "QARlG6LaBnrp",
    "outputId": "6f482dde-1c75-456b-cabc-7f16e74fb08e"
   },
   "outputs": [
    {
     "name": "stdout",
     "output_type": "stream",
     "text": [
      "10/10 [==============================] - 0s 20ms/step - loss: 0.0228 - accuracy: 0.9936\n"
     ]
    }
   ],
   "source": [
    "loss, acc = model.evaluate(test_dataset)"
   ]
  },
  {
   "cell_type": "code",
   "execution_count": 20,
   "metadata": {
    "ExecuteTime": {
     "end_time": "2021-11-05T02:06:30.913374Z",
     "start_time": "2021-11-05T02:06:30.898351Z"
    },
    "colab": {
     "base_uri": "https://localhost:8080/"
    },
    "executionInfo": {
     "elapsed": 493,
     "status": "ok",
     "timestamp": 1658198025887,
     "user": {
      "displayName": "Sunghwan KIM",
      "userId": "06010856989212311727"
     },
     "user_tz": -540
    },
    "id": "0aJuzFKpBnrq",
    "outputId": "0aa71f6b-7c76-445e-9fe3-c87c469fb4db"
   },
   "outputs": [
    {
     "name": "stdout",
     "output_type": "stream",
     "text": [
      "0.022774767130613327 0.9936000108718872\n"
     ]
    }
   ],
   "source": [
    "print(loss, acc)"
   ]
  },
  {
   "cell_type": "markdown",
   "metadata": {
    "id": "wGXd-118Bnrq"
   },
   "source": [
    "## prediction error가 발생한 example 확인\n",
    "- test dataset으로 예측한 결과중 틀린 것들을 확인해 본다."
   ]
  },
  {
   "cell_type": "code",
   "execution_count": 22,
   "metadata": {
    "ExecuteTime": {
     "end_time": "2021-11-05T02:06:35.993714Z",
     "start_time": "2021-11-05T02:06:35.043520Z"
    },
    "colab": {
     "base_uri": "https://localhost:8080/"
    },
    "executionInfo": {
     "elapsed": 1763,
     "status": "ok",
     "timestamp": 1658198074764,
     "user": {
      "displayName": "Sunghwan KIM",
      "userId": "06010856989212311727"
     },
     "user_tz": -540
    },
    "id": "QS4T_2V8Bnrr",
    "outputId": "4a9c1e8b-1249-424c-a6a2-0058cb62f070"
   },
   "outputs": [
    {
     "data": {
      "text/plain": [
       "array([3.3488539e-13, 8.8453600e-10, 1.3413295e-09, 7.2679677e-07,\n",
       "       1.7594193e-12, 5.4022992e-13, 3.8587303e-20, 9.9999893e-01,\n",
       "       5.9453477e-11, 4.1133472e-07], dtype=float32)"
      ]
     },
     "execution_count": 22,
     "metadata": {},
     "output_type": "execute_result"
    }
   ],
   "source": [
    "pred = model.predict(X_test)\n",
    "pred.shape # 0 ~ 9 일 클래스별 확률 추론\n",
    "pred[0]"
   ]
  },
  {
   "cell_type": "code",
   "execution_count": 24,
   "metadata": {
    "ExecuteTime": {
     "end_time": "2021-11-05T02:06:38.315408Z",
     "start_time": "2021-11-05T02:06:38.298432Z"
    },
    "colab": {
     "base_uri": "https://localhost:8080/"
    },
    "executionInfo": {
     "elapsed": 384,
     "status": "ok",
     "timestamp": 1658198149120,
     "user": {
      "displayName": "Sunghwan KIM",
      "userId": "06010856989212311727"
     },
     "user_tz": -540
    },
    "id": "Ko6uuvhyBnrr",
    "outputId": "4005ccc8-ecaf-4de8-fe39-c29425e03ed4"
   },
   "outputs": [
    {
     "data": {
      "text/plain": [
       "array([7, 2, 1])"
      ]
     },
     "execution_count": 24,
     "metadata": {},
     "output_type": "execute_result"
    }
   ],
   "source": [
    "pred_label = np.argmax(pred, axis=-1)  # label을 추출\n",
    "pred_label.shape\n",
    "pred_label[:3]"
   ]
  },
  {
   "cell_type": "code",
   "execution_count": 26,
   "metadata": {
    "colab": {
     "base_uri": "https://localhost:8080/"
    },
    "executionInfo": {
     "elapsed": 428,
     "status": "ok",
     "timestamp": 1658198311212,
     "user": {
      "displayName": "Sunghwan KIM",
      "userId": "06010856989212311727"
     },
     "user_tz": -540
    },
    "id": "qqAzup66UHGQ",
    "outputId": "6a829d8c-d7e0-4eda-996b-67f6e306b7ee"
   },
   "outputs": [
    {
     "data": {
      "text/plain": [
       "array([[ 972,    0,    1,    0,    0,    1,    4,    1,    1,    0],\n",
       "       [   0, 1131,    1,    0,    0,    0,    1,    2,    0,    0],\n",
       "       [   0,    0, 1028,    0,    1,    0,    0,    3,    0,    0],\n",
       "       [   0,    0,    0, 1007,    0,    3,    0,    0,    0,    0],\n",
       "       [   0,    0,    0,    0,  975,    0,    2,    1,    0,    4],\n",
       "       [   1,    0,    0,    5,    0,  883,    1,    0,    0,    2],\n",
       "       [   0,    2,    0,    1,    1,    1,  953,    0,    0,    0],\n",
       "       [   0,    2,    3,    0,    0,    0,    0, 1021,    1,    1],\n",
       "       [   3,    0,    1,    1,    0,    1,    0,    1,  965,    2],\n",
       "       [   0,    0,    0,    1,    3,    1,    0,    3,    0, 1001]])"
      ]
     },
     "execution_count": 26,
     "metadata": {},
     "output_type": "execute_result"
    }
   ],
   "source": [
    "# 자동완성단축키: shift + space\n",
    "# 혼동행렬(confusion matrix)\n",
    "from sklearn.metrics import confusion_matrix\n",
    "\n",
    "confusion_matrix(test_label, pred_label) "
   ]
  },
  {
   "cell_type": "code",
   "execution_count": 28,
   "metadata": {
    "ExecuteTime": {
     "end_time": "2021-11-05T02:06:39.837431Z",
     "start_time": "2021-11-05T02:06:39.819438Z"
    },
    "colab": {
     "base_uri": "https://localhost:8080/"
    },
    "executionInfo": {
     "elapsed": 348,
     "status": "ok",
     "timestamp": 1658198410799,
     "user": {
      "displayName": "Sunghwan KIM",
      "userId": "06010856989212311727"
     },
     "user_tz": -540
    },
    "id": "bEMrzNVsBnrr",
    "outputId": "043990a6-9c7a-458e-af30-6688efab7c63"
   },
   "outputs": [
    {
     "data": {
      "text/plain": [
       "((64,), array([340, 582, 659, 740, 938]))"
      ]
     },
     "execution_count": 28,
     "metadata": {},
     "output_type": "execute_result"
    }
   ],
   "source": [
    "# 틀린 것들의 index\n",
    "idx = np.where(test_label != pred_label)[0]\n",
    "idx.shape, idx[:5]"
   ]
  },
  {
   "cell_type": "markdown",
   "metadata": {
    "id": "JZwWFKQaBnrr"
   },
   "source": [
    "##### confusion matrix 확인"
   ]
  },
  {
   "cell_type": "code",
   "execution_count": 29,
   "metadata": {
    "ExecuteTime": {
     "end_time": "2021-11-05T02:08:43.283598Z",
     "start_time": "2021-11-05T02:08:43.252179Z"
    },
    "colab": {
     "base_uri": "https://localhost:8080/"
    },
    "executionInfo": {
     "elapsed": 392,
     "status": "ok",
     "timestamp": 1658198441978,
     "user": {
      "displayName": "Sunghwan KIM",
      "userId": "06010856989212311727"
     },
     "user_tz": -540
    },
    "id": "WibNgTXuBnrr",
    "outputId": "bd3fc0ff-101a-457d-fe05-1654d4da14de",
    "scrolled": true
   },
   "outputs": [
    {
     "data": {
      "text/plain": [
       "array([[ 972,    0,    1,    0,    0,    1,    4,    1,    1,    0],\n",
       "       [   0, 1131,    1,    0,    0,    0,    1,    2,    0,    0],\n",
       "       [   0,    0, 1028,    0,    1,    0,    0,    3,    0,    0],\n",
       "       [   0,    0,    0, 1007,    0,    3,    0,    0,    0,    0],\n",
       "       [   0,    0,    0,    0,  975,    0,    2,    1,    0,    4],\n",
       "       [   1,    0,    0,    5,    0,  883,    1,    0,    0,    2],\n",
       "       [   0,    2,    0,    1,    1,    1,  953,    0,    0,    0],\n",
       "       [   0,    2,    3,    0,    0,    0,    0, 1021,    1,    1],\n",
       "       [   3,    0,    1,    1,    0,    1,    0,    1,  965,    2],\n",
       "       [   0,    0,    0,    1,    3,    1,    0,    3,    0, 1001]])"
      ]
     },
     "execution_count": 29,
     "metadata": {},
     "output_type": "execute_result"
    }
   ],
   "source": [
    "from sklearn.metrics import confusion_matrix, plot_confusion_matrix, ConfusionMatrixDisplay\n",
    "\n",
    "confusion_matrix(test_label, pred_label)"
   ]
  },
  {
   "cell_type": "code",
   "execution_count": 30,
   "metadata": {
    "ExecuteTime": {
     "end_time": "2021-11-05T03:17:01.130011Z",
     "start_time": "2021-11-05T03:17:00.709441Z"
    },
    "colab": {
     "base_uri": "https://localhost:8080/",
     "height": 431
    },
    "executionInfo": {
     "elapsed": 631,
     "status": "ok",
     "timestamp": 1658198446370,
     "user": {
      "displayName": "Sunghwan KIM",
      "userId": "06010856989212311727"
     },
     "user_tz": -540
    },
    "id": "UWU6TDu3Bnrs",
    "outputId": "8de3131f-b1b8-480b-a9f9-96b249f5cdb1"
   },
   "outputs": [
    {
     "data": {
      "image/png": "[encoded data removed]",
      "text/plain": [
       "<Figure size 576x504 with 2 Axes>"
      ]
     },
     "metadata": {
      "needs_background": "light"
     },
     "output_type": "display_data"
    }
   ],
   "source": [
    "import matplotlib.pyplot as plt\n",
    "\n",
    "plt.figure(figsize=(8,7))\n",
    "ax = plt.gca()\n",
    "\n",
    "cm = confusion_matrix(test_label, pred_label)\n",
    "disp = ConfusionMatrixDisplay(confusion_matrix=cm)\n",
    "disp.plot(cmap='Blues', ax=ax, values_format='d')\n",
    "plt.show()"
   ]
  },
  {
   "cell_type": "code",
   "execution_count": 36,
   "metadata": {
    "ExecuteTime": {
     "end_time": "2021-11-05T02:50:58.599000Z",
     "start_time": "2021-11-05T02:50:58.253409Z"
    },
    "colab": {
     "base_uri": "https://localhost:8080/",
     "height": 1000
    },
    "executionInfo": {
     "elapsed": 4047,
     "status": "ok",
     "timestamp": 1658198660359,
     "user": {
      "displayName": "Sunghwan KIM",
      "userId": "06010856989212311727"
     },
     "user_tz": -540
    },
    "id": "GsvbI-g7Bnrs",
    "outputId": "d5fee9b9-9a0d-410f-b598-89c17f0dbfc6"
   },
   "outputs": [
    {
     "data": {
      "image/png": "[encoded data removed]",
      "text/plain": [
       "<Figure size 2160x1440 with 64 Axes>"
      ]
     },
     "metadata": {
      "needs_background": "light"
     },
     "output_type": "display_data"
    }
   ],
   "source": [
    "# 틀린 결과 중에 10개 확인\n",
    "import matplotlib.pyplot as plt\n",
    "\n",
    "plt.figure(figsize=(30,20))\n",
    "\n",
    "for i in range(64):  \n",
    "   \n",
    "    error_idx = idx[i]\n",
    "    \n",
    "    p = pred_label[error_idx]\n",
    "    y = test_label[error_idx]\n",
    "\n",
    "    plt.subplot(7, 10, i+1)\n",
    "    plt.imshow(test_image[error_idx], cmap='gray')\n",
    "    plt.title(\"y: {}, pred: {}\".format(y, p), fontsize=17)\n",
    "    plt.axis('off')\n",
    "\n",
    "plt.tight_layout()\n",
    "plt.show()"
   ]
  },
  {
   "cell_type": "code",
   "execution_count": 42,
   "metadata": {
    "colab": {
     "base_uri": "https://localhost:8080/"
    },
    "executionInfo": {
     "elapsed": 440,
     "status": "ok",
     "timestamp": 1658199860813,
     "user": {
      "displayName": "Sunghwan KIM",
      "userId": "06010856989212311727"
     },
     "user_tz": -540
    },
    "id": "R8M6Bry1aNW9",
    "outputId": "d92e1acd-a8d7-4e58-c65c-b52a1eb3b78b"
   },
   "outputs": [
    {
     "data": {
      "text/plain": [
       "array([0.000e+00, 5.900e-02, 8.730e-02, 3.000e-04, 0.000e+00, 0.000e+00,\n",
       "       0.000e+00, 8.534e-01, 0.000e+00, 0.000e+00], dtype=float32)"
      ]
     },
     "execution_count": 42,
     "metadata": {},
     "output_type": "execute_result"
    }
   ],
   "source": [
    "np.round(pred[idx[2]], 4)"
   ]
  },
  {
   "cell_type": "markdown",
   "metadata": {
    "id": "RJUQJSEp66NR"
   },
   "source": [
    "# 학습한 모델 파일로 저장\n",
    "\n",
    "- **무엇을 저장할 지**\n",
    "    1. Train이 끝난 모델의 파라미터만 저장\n",
    "    1. 모델 구조와 파라미터 모두 저장\n",
    "\n",
    "- **저장시점**\n",
    "    1. Train 완료된 모델을 저장\n",
    "    1. Callback을 이용해 Train 도중 가장 성능이 좋은 시점의 모델을 저장"
   ]
  },
  {
   "cell_type": "markdown",
   "metadata": {
    "id": "2ARCyjDW66NR"
   },
   "source": [
    "## 텐서플로 저장 파일 타입\n",
    "- checkpoint \n",
    "    - 모델의 weight를 저장하기 위한 타입\n",
    "- SavedModel \n",
    "    - 모델의 구조와 파라미터들을 모두 저장하는 타입"
   ]
  },
  {
   "cell_type": "markdown",
   "metadata": {
    "id": "6bAN1wPG66NS"
   },
   "source": [
    "## 학습한 Weight (파라미터) 저장 및 불러오기\n",
    "- 가중치를 저장하여 나중에 재학습 없이 학습된 가중치를 사용할 수 있다.\n",
    "- 저장\n",
    "    - `model.save_weights(\"저장경로\")`\n",
    "- 불러오기\n",
    "    - `model.load_weights('불러올경로')`\n",
    "- 저장형식\n",
    "    - Tensorflow Checkpoint (기본방식)\n",
    "    - HDF5\n",
    "        - `save_weights(.., save_format='h5')`\n",
    "        - 또는 파일 확장자를 h5로 지정한다."
   ]
  },
  {
   "cell_type": "markdown",
   "metadata": {
    "id": "rEW9xQR-Bnrt"
   },
   "source": [
    "### Checkpoint 으로 저장"
   ]
  },
  {
   "cell_type": "markdown",
   "metadata": {
    "id": "VjiWwN6iBnrt"
   },
   "source": [
    "##### 저장할 경로 생성및 저장"
   ]
  },
  {
   "cell_type": "code",
   "execution_count": 44,
   "metadata": {
    "ExecuteTime": {
     "end_time": "2021-11-05T02:24:34.859541Z",
     "start_time": "2021-11-05T02:24:34.844507Z"
    },
    "colab": {
     "base_uri": "https://localhost:8080/"
    },
    "executionInfo": {
     "elapsed": 359,
     "status": "ok",
     "timestamp": 1658200587725,
     "user": {
      "displayName": "Sunghwan KIM",
      "userId": "06010856989212311727"
     },
     "user_tz": -540
    },
    "id": "3GsR7js61vxq",
    "outputId": "6f19fb9b-3d67-42c2-ad0b-29d448d8aa3c"
   },
   "outputs": [
    {
     "name": "stdout",
     "output_type": "stream",
     "text": [
      "/content/drive/MyDrive/saved_models/mnist_weight\n",
      "/content/drive/MyDrive/saved_models/mnist_weight/mnist_weight.ckpt\n"
     ]
    }
   ],
   "source": [
    "import os\n",
    "\n",
    "# 저장할 경로\n",
    "# 모델들을 저장할 시작 경로\n",
    "base_dir = \"/content/drive/MyDrive/saved_models\"  #content/drive/MyDrive -> 구글드라이브경로\n",
    "# 현재 모델의 weight를 저장할 경로\n",
    "mnist_weight_dir = os.path.join(base_dir, \"mnist_weight\") # 두경로를 합친 경로를 문자열로 반환.\n",
    "print(mnist_weight_dir)\n",
    "\n",
    "# 디렉토리 생성.\n",
    "if not os.path.isdir(mnist_weight_dir):  # mnist_weight_dir 디렉토리가 없다면\n",
    "    os.makedirs(mnist_weight_dir) #만들어라.\n",
    "\n",
    "# 저장할 weight 파일의 경로. checkpoint파일의 확장자는 보통 ckpt로 준다.\n",
    "weight_file_path = os.path.join(mnist_weight_dir, \"mnist_weight.ckpt\")\n",
    "\n",
    "print(weight_file_path)"
   ]
  },
  {
   "cell_type": "code",
   "execution_count": 45,
   "metadata": {
    "ExecuteTime": {
     "end_time": "2021-11-05T02:24:41.623513Z",
     "start_time": "2021-11-05T02:24:41.524411Z"
    },
    "executionInfo": {
     "elapsed": 355,
     "status": "ok",
     "timestamp": 1658200732276,
     "user": {
      "displayName": "Sunghwan KIM",
      "userId": "06010856989212311727"
     },
     "user_tz": -540
    },
    "id": "buuA-01I66NS"
   },
   "outputs": [],
   "source": [
    "# 모델의 파라미터들을 저장.\n",
    "model.save_weights(weight_file_path)"
   ]
  },
  {
   "cell_type": "code",
   "execution_count": 46,
   "metadata": {
    "ExecuteTime": {
     "end_time": "2021-11-05T02:25:34.723553Z",
     "start_time": "2021-11-05T02:25:34.644399Z"
    },
    "executionInfo": {
     "elapsed": 345,
     "status": "ok",
     "timestamp": 1658200843993,
     "user": {
      "displayName": "Sunghwan KIM",
      "userId": "06010856989212311727"
     },
     "user_tz": -540
    },
    "id": "6kso54X766NT",
    "scrolled": true
   },
   "outputs": [],
   "source": [
    "# 저장된 파라미터 불러오기.\n",
    "# 1. 모델을 생성\n",
    "# 2. 파일로 저장된 파라미터를 모델에 파라미터로 덮어쓰기.(load)\n",
    "new_model1 = create_mnist_model()\n",
    "new_model1.compile(optimizer=keras.optimizers.Adam(learning_rate=LEARNING_RATE), loss='categorical_crossentropy', \n",
    "                  metrics=['accuracy'])"
   ]
  },
  {
   "cell_type": "code",
   "execution_count": 47,
   "metadata": {
    "ExecuteTime": {
     "end_time": "2021-11-05T02:25:36.368142Z",
     "start_time": "2021-11-05T02:25:35.284228Z"
    },
    "colab": {
     "base_uri": "https://localhost:8080/"
    },
    "executionInfo": {
     "elapsed": 991,
     "status": "ok",
     "timestamp": 1658200857414,
     "user": {
      "displayName": "Sunghwan KIM",
      "userId": "06010856989212311727"
     },
     "user_tz": -540
    },
    "id": "xzyaLMAC66NT",
    "outputId": "22ee22a7-bc85-4df6-ae5e-4a80c16b33d4"
   },
   "outputs": [
    {
     "name": "stdout",
     "output_type": "stream",
     "text": [
      "10/10 [==============================] - 0s 18ms/step - loss: 2.3066 - accuracy: 0.0980\n"
     ]
    },
    {
     "data": {
      "text/plain": [
       "[2.306602954864502, 0.09799999743700027]"
      ]
     },
     "execution_count": 47,
     "metadata": {},
     "output_type": "execute_result"
    }
   ],
   "source": [
    "# 새로 만든 모델로 평가\n",
    "new_model1.evaluate(test_dataset)"
   ]
  },
  {
   "cell_type": "code",
   "execution_count": 48,
   "metadata": {
    "ExecuteTime": {
     "end_time": "2021-11-05T02:25:42.562783Z",
     "start_time": "2021-11-05T02:25:42.459716Z"
    },
    "colab": {
     "base_uri": "https://localhost:8080/"
    },
    "executionInfo": {
     "elapsed": 355,
     "status": "ok",
     "timestamp": 1658200899566,
     "user": {
      "displayName": "Sunghwan KIM",
      "userId": "06010856989212311727"
     },
     "user_tz": -540
    },
    "id": "ZGQl2i9Q66NT",
    "outputId": "71517eeb-780d-47b3-be84-92409fa1696f",
    "scrolled": true
   },
   "outputs": [
    {
     "data": {
      "text/plain": [
       "<tensorflow.python.training.tracking.util.CheckpointLoadStatus at 0x7fded1187a90>"
      ]
     },
     "execution_count": 48,
     "metadata": {},
     "output_type": "execute_result"
    }
   ],
   "source": [
    "# 생성한 모델에 저장된 파라미터 덮어쓰기.\n",
    "new_model1.load_weights(weight_file_path)"
   ]
  },
  {
   "cell_type": "code",
   "execution_count": 49,
   "metadata": {
    "ExecuteTime": {
     "end_time": "2021-11-05T02:25:45.396203Z",
     "start_time": "2021-11-05T02:25:44.476226Z"
    },
    "colab": {
     "base_uri": "https://localhost:8080/"
    },
    "executionInfo": {
     "elapsed": 383,
     "status": "ok",
     "timestamp": 1658200911368,
     "user": {
      "displayName": "Sunghwan KIM",
      "userId": "06010856989212311727"
     },
     "user_tz": -540
    },
    "id": "qpYckeJ866NT",
    "outputId": "c8a12c00-96a5-4809-ddba-e6bc34aaf4ad"
   },
   "outputs": [
    {
     "name": "stdout",
     "output_type": "stream",
     "text": [
      "10/10 [==============================] - 0s 18ms/step - loss: 0.0228 - accuracy: 0.9936\n"
     ]
    },
    {
     "data": {
      "text/plain": [
       "[0.022774767130613327, 0.9936000108718872]"
      ]
     },
     "execution_count": 49,
     "metadata": {},
     "output_type": "execute_result"
    }
   ],
   "source": [
    "new_model1.evaluate(test_dataset)"
   ]
  },
  {
   "cell_type": "markdown",
   "metadata": {
    "id": "gbIB2qCX66NU"
   },
   "source": [
    "### h5 형식으로 저장"
   ]
  },
  {
   "cell_type": "code",
   "execution_count": 50,
   "metadata": {
    "ExecuteTime": {
     "end_time": "2021-11-05T02:25:49.559603Z",
     "start_time": "2021-11-05T02:25:49.541570Z"
    },
    "executionInfo": {
     "elapsed": 337,
     "status": "ok",
     "timestamp": 1658201012976,
     "user": {
      "displayName": "Sunghwan KIM",
      "userId": "06010856989212311727"
     },
     "user_tz": -540
    },
    "id": "JUci2ty166NU"
   },
   "outputs": [],
   "source": [
    "# 저장할 디렉토리 생성\n",
    "weight_h5_dir = os.path.join(base_dir, \"mnist_weight_h5\")\n",
    "if not os.path.isdir(weight_h5_dir):\n",
    "    os.makedirs(weight_h5_dir, exist_ok=True)\n",
    "\n",
    "# 파일경로\n",
    "weight_h5_path = os.path.join(weight_h5_dir, \"mnist_weight.h5\")"
   ]
  },
  {
   "cell_type": "code",
   "execution_count": 51,
   "metadata": {
    "ExecuteTime": {
     "end_time": "2021-11-05T02:25:58.586430Z",
     "start_time": "2021-11-05T02:25:58.556455Z"
    },
    "executionInfo": {
     "elapsed": 345,
     "status": "ok",
     "timestamp": 1658201059529,
     "user": {
      "displayName": "Sunghwan KIM",
      "userId": "06010856989212311727"
     },
     "user_tz": -540
    },
    "id": "GOUWp-N266NU"
   },
   "outputs": [],
   "source": [
    "model.save_weights(weight_h5_path, save_format='h5')"
   ]
  },
  {
   "cell_type": "code",
   "execution_count": 52,
   "metadata": {
    "ExecuteTime": {
     "end_time": "2021-11-05T02:26:20.464832Z",
     "start_time": "2021-11-05T02:26:20.388274Z"
    },
    "executionInfo": {
     "elapsed": 526,
     "status": "ok",
     "timestamp": 1658201095980,
     "user": {
      "displayName": "Sunghwan KIM",
      "userId": "06010856989212311727"
     },
     "user_tz": -540
    },
    "id": "QwcVSWg866NU"
   },
   "outputs": [],
   "source": [
    "new_model2 = create_mnist_model()\n",
    "new_model2.compile(optimizer=keras.optimizers.Adam(LEARNING_RATE),\n",
    "                  loss='categorical_crossentropy',\n",
    "                  metrics=['accuracy'])"
   ]
  },
  {
   "cell_type": "code",
   "execution_count": 53,
   "metadata": {
    "ExecuteTime": {
     "end_time": "2021-11-05T02:26:27.503377Z",
     "start_time": "2021-11-05T02:26:26.363406Z"
    },
    "colab": {
     "base_uri": "https://localhost:8080/"
    },
    "executionInfo": {
     "elapsed": 847,
     "status": "ok",
     "timestamp": 1658201098963,
     "user": {
      "displayName": "Sunghwan KIM",
      "userId": "06010856989212311727"
     },
     "user_tz": -540
    },
    "id": "9FVsuX8G66NU",
    "outputId": "14ed8aab-fde8-4b6b-832b-67e82107b368"
   },
   "outputs": [
    {
     "name": "stdout",
     "output_type": "stream",
     "text": [
      "10/10 [==============================] - 0s 20ms/step - loss: 2.3001 - accuracy: 0.0936\n"
     ]
    },
    {
     "data": {
      "text/plain": [
       "[2.3000829219818115, 0.09359999746084213]"
      ]
     },
     "execution_count": 53,
     "metadata": {},
     "output_type": "execute_result"
    }
   ],
   "source": [
    "new_model2.evaluate(test_dataset)"
   ]
  },
  {
   "cell_type": "code",
   "execution_count": 54,
   "metadata": {
    "ExecuteTime": {
     "end_time": "2021-11-05T02:26:28.590543Z",
     "start_time": "2021-11-05T02:26:28.547514Z"
    },
    "executionInfo": {
     "elapsed": 341,
     "status": "ok",
     "timestamp": 1658201108556,
     "user": {
      "displayName": "Sunghwan KIM",
      "userId": "06010856989212311727"
     },
     "user_tz": -540
    },
    "id": "icTNgSL366NV"
   },
   "outputs": [],
   "source": [
    "new_model2.load_weights(weight_h5_path)"
   ]
  },
  {
   "cell_type": "code",
   "execution_count": 55,
   "metadata": {
    "ExecuteTime": {
     "end_time": "2021-11-05T02:27:02.615038Z",
     "start_time": "2021-11-05T02:27:01.684432Z"
    },
    "colab": {
     "base_uri": "https://localhost:8080/"
    },
    "executionInfo": {
     "elapsed": 369,
     "status": "ok",
     "timestamp": 1658201110004,
     "user": {
      "displayName": "Sunghwan KIM",
      "userId": "06010856989212311727"
     },
     "user_tz": -540
    },
    "id": "KCgJpkxq66NV",
    "outputId": "4e9c63e9-8d03-4357-bc7d-2cb36c6251e7"
   },
   "outputs": [
    {
     "name": "stdout",
     "output_type": "stream",
     "text": [
      "10/10 [==============================] - 0s 19ms/step - loss: 0.0228 - accuracy: 0.9936\n"
     ]
    },
    {
     "data": {
      "text/plain": [
       "[0.022774767130613327, 0.9936000108718872]"
      ]
     },
     "execution_count": 55,
     "metadata": {},
     "output_type": "execute_result"
    }
   ],
   "source": [
    "new_model2.evaluate(test_dataset)"
   ]
  },
  {
   "cell_type": "markdown",
   "metadata": {
    "id": "shNUg6al66NV"
   },
   "source": [
    "## 전체 모델 저장하고 불러오기\n",
    "- https://www.tensorflow.org/guide/keras/save_and_serialize?hl=ko\n",
    "- 저장\n",
    "    - `model.save('저장할디렉토리')`\n",
    "- 불러오기\n",
    "    - `tf.keras.models.load_model('저장된디렉토리')`\n",
    "- 저장 형식\n",
    "    - Tensorflow SavedModel 형식(기본방식)\n",
    "        - 모델 아키텍처 및 훈련 구성(옵티마이저, 손실 및 메트릭 포함)은 saved_model.pb 에 저장된다.\n",
    "        - 파라미터는 variables/ 디렉토리에 저장된다.\n",
    "        - https://www.tensorflow.org/guide/saved_model?hl=ko#the_savedmodel_format_on_disk\n",
    "    - HDF5 형식\n",
    "        - `save(..., save_format='h5')` \n",
    "        - 또는 파일의 확장자를 h5로 지정한다."
   ]
  },
  {
   "cell_type": "markdown",
   "metadata": {
    "id": "GTAMYpGw66NX"
   },
   "source": [
    "###  Saved Model 형식으로 모델 저장\n",
    "- 경로(디렉토리) 만 지정한다."
   ]
  },
  {
   "cell_type": "code",
   "execution_count": 56,
   "metadata": {
    "ExecuteTime": {
     "end_time": "2021-11-05T02:28:16.402402Z",
     "start_time": "2021-11-05T02:28:16.387408Z"
    },
    "colab": {
     "base_uri": "https://localhost:8080/"
    },
    "executionInfo": {
     "elapsed": 301,
     "status": "ok",
     "timestamp": 1658201309677,
     "user": {
      "displayName": "Sunghwan KIM",
      "userId": "06010856989212311727"
     },
     "user_tz": -540
    },
    "id": "S0yYq-cZ8gDB",
    "outputId": "8d50113b-6d50-4db7-81b3-6572349f86bc"
   },
   "outputs": [
    {
     "name": "stdout",
     "output_type": "stream",
     "text": [
      "/content/drive/MyDrive/saved_models/mnist_model <class 'str'>\n"
     ]
    }
   ],
   "source": [
    "# 모델을 저장할 디렉토리 경로\n",
    "mnist_model_dir = os.path.join(base_dir, 'mnist_model')\n",
    "print(mnist_model_dir, type(mnist_model_dir))\n",
    "# 디렉토리 생성\n",
    "if not os.path.isdir(mnist_model_dir):\n",
    "    os.mkdir(mnist_model_dir) "
   ]
  },
  {
   "cell_type": "code",
   "execution_count": 57,
   "metadata": {
    "ExecuteTime": {
     "end_time": "2021-11-05T02:28:18.993052Z",
     "start_time": "2021-11-05T02:28:18.067642Z"
    },
    "executionInfo": {
     "elapsed": 1231,
     "status": "ok",
     "timestamp": 1658201335406,
     "user": {
      "displayName": "Sunghwan KIM",
      "userId": "06010856989212311727"
     },
     "user_tz": -540
    },
    "id": "PR5lIqET8wMy"
   },
   "outputs": [],
   "source": [
    "model.save(mnist_model_dir)"
   ]
  },
  {
   "cell_type": "code",
   "execution_count": 58,
   "metadata": {
    "ExecuteTime": {
     "end_time": "2021-11-05T02:28:20.146352Z",
     "start_time": "2021-11-05T02:28:19.748174Z"
    },
    "colab": {
     "base_uri": "https://localhost:8080/"
    },
    "executionInfo": {
     "elapsed": 741,
     "status": "ok",
     "timestamp": 1658201407671,
     "user": {
      "displayName": "Sunghwan KIM",
      "userId": "06010856989212311727"
     },
     "user_tz": -540
    },
    "id": "au-pjyoq66NY",
    "outputId": "63095353-3037-4088-db73-2de8792e8acf"
   },
   "outputs": [
    {
     "name": "stdout",
     "output_type": "stream",
     "text": [
      "Model: \"sequential\"\n",
      "_________________________________________________________________\n",
      " Layer (type)                Output Shape              Param #   \n",
      "=================================================================\n",
      " conv2d (Conv2D)             (None, 28, 28, 32)        320       \n",
      "                                                                 \n",
      " max_pooling2d (MaxPooling2D  (None, 14, 14, 32)       0         \n",
      " )                                                               \n",
      "                                                                 \n",
      " conv2d_1 (Conv2D)           (None, 14, 14, 64)        18496     \n",
      "                                                                 \n",
      " max_pooling2d_1 (MaxPooling  (None, 7, 7, 64)         0         \n",
      " 2D)                                                             \n",
      "                                                                 \n",
      " conv2d_2 (Conv2D)           (None, 7, 7, 128)         73856     \n",
      "                                                                 \n",
      " max_pooling2d_2 (MaxPooling  (None, 4, 4, 128)        0         \n",
      " 2D)                                                             \n",
      "                                                                 \n",
      " flatten (Flatten)           (None, 2048)              0         \n",
      "                                                                 \n",
      " dense (Dense)               (None, 256)               524544    \n",
      "                                                                 \n",
      " dense_1 (Dense)             (None, 10)                2570      \n",
      "                                                                 \n",
      "=================================================================\n",
      "Total params: 619,786\n",
      "Trainable params: 619,786\n",
      "Non-trainable params: 0\n",
      "_________________________________________________________________\n"
     ]
    }
   ],
   "source": [
    "new_model3 = keras.models.load_model(mnist_model_dir)\n",
    "\n",
    "new_model3.summary()"
   ]
  },
  {
   "cell_type": "code",
   "execution_count": 59,
   "metadata": {
    "ExecuteTime": {
     "end_time": "2021-11-05T02:28:21.662414Z",
     "start_time": "2021-11-05T02:28:20.699619Z"
    },
    "colab": {
     "base_uri": "https://localhost:8080/"
    },
    "executionInfo": {
     "elapsed": 659,
     "status": "ok",
     "timestamp": 1658201415119,
     "user": {
      "displayName": "Sunghwan KIM",
      "userId": "06010856989212311727"
     },
     "user_tz": -540
    },
    "id": "aOmhPwh_66NY",
    "outputId": "da8eabca-05eb-4d6e-bc7e-82b8e9e49501"
   },
   "outputs": [
    {
     "name": "stdout",
     "output_type": "stream",
     "text": [
      "10/10 [==============================] - 0s 19ms/step - loss: 0.0228 - accuracy: 0.9936\n"
     ]
    },
    {
     "data": {
      "text/plain": [
       "[0.022774767130613327, 0.9936000108718872]"
      ]
     },
     "execution_count": 59,
     "metadata": {},
     "output_type": "execute_result"
    }
   ],
   "source": [
    "new_model3.evaluate(test_dataset)"
   ]
  },
  {
   "cell_type": "markdown",
   "metadata": {
    "id": "xNlTAMW8Bnrx"
   },
   "source": [
    "### H5 형식으로 모델 저장"
   ]
  },
  {
   "cell_type": "code",
   "execution_count": 60,
   "metadata": {
    "ExecuteTime": {
     "end_time": "2021-11-05T02:31:53.041967Z",
     "start_time": "2021-11-05T02:31:53.028937Z"
    },
    "executionInfo": {
     "elapsed": 293,
     "status": "ok",
     "timestamp": 1658201482519,
     "user": {
      "displayName": "Sunghwan KIM",
      "userId": "06010856989212311727"
     },
     "user_tz": -540
    },
    "id": "cKm7ThE766NW"
   },
   "outputs": [],
   "source": [
    "# 저장할 디렉토리 경로 \n",
    "model_h5_dir = os.path.join(base_dir, 'mnist_model_h5')\n",
    "# 디렉토리 생성\n",
    "if not os.path.join(model_h5_dir):\n",
    "    os.makedirs(model_h5_dir, exist_ok=True)\n",
    "# 저장할 파일 경로\n",
    "model_h5_path = os.path.join(model_h5_dir, \"mnist_model.h5\")"
   ]
  },
  {
   "cell_type": "code",
   "execution_count": 61,
   "metadata": {
    "ExecuteTime": {
     "end_time": "2021-11-05T02:32:10.471919Z",
     "start_time": "2021-11-05T02:32:10.388634Z"
    },
    "executionInfo": {
     "elapsed": 298,
     "status": "ok",
     "timestamp": 1658201500730,
     "user": {
      "displayName": "Sunghwan KIM",
      "userId": "06010856989212311727"
     },
     "user_tz": -540
    },
    "id": "9OJ0hNog66NW"
   },
   "outputs": [],
   "source": [
    "model.save(model_h5_path, save_format='h5')"
   ]
  },
  {
   "cell_type": "code",
   "execution_count": 62,
   "metadata": {
    "ExecuteTime": {
     "end_time": "2021-11-05T02:32:14.737782Z",
     "start_time": "2021-11-05T02:32:14.588337Z"
    },
    "colab": {
     "base_uri": "https://localhost:8080/"
    },
    "executionInfo": {
     "elapsed": 1186,
     "status": "ok",
     "timestamp": 1658201533372,
     "user": {
      "displayName": "Sunghwan KIM",
      "userId": "06010856989212311727"
     },
     "user_tz": -540
    },
    "id": "InPefrxy66NX",
    "outputId": "bb2a7342-2460-4272-ae6c-33cc90c85e8c"
   },
   "outputs": [
    {
     "name": "stdout",
     "output_type": "stream",
     "text": [
      "Model: \"sequential\"\n",
      "_________________________________________________________________\n",
      " Layer (type)                Output Shape              Param #   \n",
      "=================================================================\n",
      " conv2d (Conv2D)             (None, 28, 28, 32)        320       \n",
      "                                                                 \n",
      " max_pooling2d (MaxPooling2D  (None, 14, 14, 32)       0         \n",
      " )                                                               \n",
      "                                                                 \n",
      " conv2d_1 (Conv2D)           (None, 14, 14, 64)        18496     \n",
      "                                                                 \n",
      " max_pooling2d_1 (MaxPooling  (None, 7, 7, 64)         0         \n",
      " 2D)                                                             \n",
      "                                                                 \n",
      " conv2d_2 (Conv2D)           (None, 7, 7, 128)         73856     \n",
      "                                                                 \n",
      " max_pooling2d_2 (MaxPooling  (None, 4, 4, 128)        0         \n",
      " 2D)                                                             \n",
      "                                                                 \n",
      " flatten (Flatten)           (None, 2048)              0         \n",
      "                                                                 \n",
      " dense (Dense)               (None, 256)               524544    \n",
      "                                                                 \n",
      " dense_1 (Dense)             (None, 10)                2570      \n",
      "                                                                 \n",
      "=================================================================\n",
      "Total params: 619,786\n",
      "Trainable params: 619,786\n",
      "Non-trainable params: 0\n",
      "_________________________________________________________________\n"
     ]
    }
   ],
   "source": [
    "new_model4 = keras.models.load_model(model_h5_path)\n",
    "\n",
    "new_model4.summary()"
   ]
  },
  {
   "cell_type": "code",
   "execution_count": 63,
   "metadata": {
    "ExecuteTime": {
     "end_time": "2021-11-05T02:32:18.706775Z",
     "start_time": "2021-11-05T02:32:17.669377Z"
    },
    "colab": {
     "base_uri": "https://localhost:8080/"
    },
    "executionInfo": {
     "elapsed": 759,
     "status": "ok",
     "timestamp": 1658201540466,
     "user": {
      "displayName": "Sunghwan KIM",
      "userId": "06010856989212311727"
     },
     "user_tz": -540
    },
    "id": "wcNFFRU766NX",
    "outputId": "6411157e-a7ef-4846-ee63-b3ab68672ded"
   },
   "outputs": [
    {
     "name": "stdout",
     "output_type": "stream",
     "text": [
      "10/10 [==============================] - 0s 18ms/step - loss: 0.0228 - accuracy: 0.9936\n"
     ]
    },
    {
     "data": {
      "text/plain": [
       "[0.022774767130613327, 0.9936000108718872]"
      ]
     },
     "execution_count": 63,
     "metadata": {},
     "output_type": "execute_result"
    }
   ],
   "source": [
    "new_model4.evaluate(test_dataset)"
   ]
  },
  {
   "cell_type": "markdown",
   "metadata": {
    "id": "7xgQxAU666NZ"
   },
   "source": [
    "## Callback을 사용한 모델 저장 및 Early Stopping\n",
    "- callback은 학습하는 도중 특정 이벤트 발생시 호출되는 다양한 함수를 제공하여 자동화 처리를 지원한다. (cf: 프로그래밍의 콜백함수)\n",
    "- 다양한 콜백 클래스가 제공된다.\n",
    "    - https://www.tensorflow.org/api_docs/python/tf/keras/callbacks\n",
    "- ### ModelCheckpoint\n",
    "    - 각 epoch 마다 학습한 모델과 weight(또는 weight만)를 저장한다. \n",
    "    - 지정한 평가지표(예:validation loss)가 가장 좋을 때 모델과 weight만 저장할 수 있다.\n",
    "    - 주요 파라미터\n",
    "        - `save_weights_only=True`: True: 파라미터(weight)만 저장한다. False: 모델구조와 파라미터 모두 저장한다.\n",
    "        - `save_best_only=True`: 학습중 성능이 개선될 때만 저장한다. (False:기본값 - 모든 에폭마다 저장한다.)\n",
    "- ### EarlyStopping\n",
    "    - Validation set에 대한 평가지표가  더 이상 개선되지 않을 때 학습을 자동으로 멈추는 callback\n",
    "    - 주요 파라미터\n",
    "        - `monitor`: 모니터링할 평가지표 지정. (ex: accuracy)\n",
    "        - `patience`: epoch 수 지정. validation 평가 지표가 개선이 안되더라도 지정한 epoch만큼 반복한다. 지정한 epoch만큼 반복 후에도 개선이 되지 않으면 중단한다. \n",
    "\n",
    "- **callback 객체들을 리스트로 묶은 뒤 fit()의 callbacks 매개변수에 전달한다.**"
   ]
  },
  {
   "cell_type": "code",
   "execution_count": 65,
   "metadata": {
    "ExecuteTime": {
     "end_time": "2021-11-05T02:35:39.789591Z",
     "start_time": "2021-11-05T02:35:39.708482Z"
    },
    "executionInfo": {
     "elapsed": 338,
     "status": "ok",
     "timestamp": 1658201972594,
     "user": {
      "displayName": "Sunghwan KIM",
      "userId": "06010856989212311727"
     },
     "user_tz": -540
    },
    "id": "J59mb-W166NZ"
   },
   "outputs": [],
   "source": [
    "# 모델 생성\n",
    "# 컴파일\n",
    "model2 = create_mnist_model()\n",
    "model2.compile(optimizer='adam', \n",
    "               loss='categorical_crossentropy', \n",
    "               metrics=['accuracy'])"
   ]
  },
  {
   "cell_type": "code",
   "execution_count": 66,
   "metadata": {
    "ExecuteTime": {
     "end_time": "2021-11-05T02:43:07.219856Z",
     "start_time": "2021-11-05T02:43:07.211861Z"
    },
    "executionInfo": {
     "elapsed": 8,
     "status": "ok",
     "timestamp": 1658201973981,
     "user": {
      "displayName": "Sunghwan KIM",
      "userId": "06010856989212311727"
     },
     "user_tz": -540
    },
    "id": "4TQggaQT66NZ"
   },
   "outputs": [],
   "source": [
    "# 모델의 가중치를 저장할 디렉토리 경로\n",
    "checkpoint_save_dir = os.path.join(base_dir, 'mnist_callback')\n",
    "if not os.path.isdir(checkpoint_save_dir):\n",
    "    os.mkdir(checkpoint_save_dir)\n",
    "# 모델의 가중치파일 경로\n",
    "saved_model_path = os.path.join(checkpoint_save_dir, 'mnist_ckpt2')\n",
    "# checkpoint_save_file = os.path.join(checkpoint_save_dir, 'mnist_ckpt')"
   ]
  },
  {
   "cell_type": "code",
   "execution_count": 67,
   "metadata": {
    "ExecuteTime": {
     "end_time": "2021-11-05T02:44:05.048375Z",
     "start_time": "2021-11-05T02:44:05.039336Z"
    },
    "executionInfo": {
     "elapsed": 6,
     "status": "ok",
     "timestamp": 1658201975189,
     "user": {
      "displayName": "Sunghwan KIM",
      "userId": "06010856989212311727"
     },
     "user_tz": -540
    },
    "id": "4kxhcRpn66Na"
   },
   "outputs": [],
   "source": [
    "# 모델 저장을 위한 callback\n",
    "mc_callback = keras.callbacks.ModelCheckpoint(filepath=saved_model_path,   # 저장할 경로\n",
    "                          save_best_only=True,    #기본: False - 매 에폭마다 저장, True - 성능이 개선된 에폭만 저장.\n",
    "#                           save_weights_only=True, # 기본:False - 모델구조+weight 저장. True: Weights만 저장.\n",
    "                          monitor='val_loss',  # save_best_only=True한 경우 어떤 지표를 확인할 것인지 지정.\n",
    "                          verbose=1) #기록."
   ]
  },
  {
   "cell_type": "code",
   "execution_count": 68,
   "metadata": {
    "ExecuteTime": {
     "end_time": "2021-11-05T02:44:05.533392Z",
     "start_time": "2021-11-05T02:44:05.524419Z"
    },
    "executionInfo": {
     "elapsed": 283,
     "status": "ok",
     "timestamp": 1658202055733,
     "user": {
      "displayName": "Sunghwan KIM",
      "userId": "06010856989212311727"
     },
     "user_tz": -540
    },
    "id": "dN6XM511Bnrz"
   },
   "outputs": [],
   "source": [
    "# 조기 학습 종료를 위한 callback\n",
    "es_callback = keras.callbacks.EarlyStopping(monitor='val_loss',  # 지표개선을 확인할 평가지표.\n",
    "                                            patience=5,          # 몇 에폭까지 참을 것인지 (개선되길 기다릴 것인지.)\n",
    "                                            verbose=1)           #로그."
   ]
  },
  {
   "cell_type": "code",
   "execution_count": 69,
   "metadata": {
    "ExecuteTime": {
     "end_time": "2021-11-05T02:44:50.318132Z",
     "start_time": "2021-11-05T02:44:06.500503Z"
    },
    "colab": {
     "base_uri": "https://localhost:8080/"
    },
    "executionInfo": {
     "elapsed": 72902,
     "status": "ok",
     "timestamp": 1658202154130,
     "user": {
      "displayName": "Sunghwan KIM",
      "userId": "06010856989212311727"
     },
     "user_tz": -540
    },
    "id": "63YQ0TVdBnr0",
    "outputId": "5e705e10-5720-4e29-8b30-4c7b71c69cd7"
   },
   "outputs": [
    {
     "name": "stdout",
     "output_type": "stream",
     "text": [
      "Epoch 1/20\n",
      "59/60 [============================>.] - ETA: 0s - loss: 0.6530 - accuracy: 0.8139\n",
      "Epoch 1: val_loss improved from inf to 0.15033, saving model to /content/drive/MyDrive/saved_models/mnist_callback/mnist_ckpt2\n",
      "60/60 [==============================] - 4s 54ms/step - loss: 0.6446 - accuracy: 0.8163 - val_loss: 0.1503 - val_accuracy: 0.9538\n",
      "Epoch 2/20\n",
      "59/60 [============================>.] - ETA: 0s - loss: 0.1098 - accuracy: 0.9664\n",
      "Epoch 2: val_loss improved from 0.15033 to 0.07890, saving model to /content/drive/MyDrive/saved_models/mnist_callback/mnist_ckpt2\n",
      "60/60 [==============================] - 3s 50ms/step - loss: 0.1093 - accuracy: 0.9666 - val_loss: 0.0789 - val_accuracy: 0.9744\n",
      "Epoch 3/20\n",
      "59/60 [============================>.] - ETA: 0s - loss: 0.0712 - accuracy: 0.9782\n",
      "Epoch 3: val_loss improved from 0.07890 to 0.05040, saving model to /content/drive/MyDrive/saved_models/mnist_callback/mnist_ckpt2\n",
      "60/60 [==============================] - 3s 50ms/step - loss: 0.0710 - accuracy: 0.9783 - val_loss: 0.0504 - val_accuracy: 0.9842\n",
      "Epoch 4/20\n",
      "59/60 [============================>.] - ETA: 0s - loss: 0.0503 - accuracy: 0.9842\n",
      "Epoch 4: val_loss did not improve from 0.05040\n",
      "60/60 [==============================] - 2s 36ms/step - loss: 0.0508 - accuracy: 0.9840 - val_loss: 0.0516 - val_accuracy: 0.9849\n",
      "Epoch 5/20\n",
      "59/60 [============================>.] - ETA: 0s - loss: 0.0438 - accuracy: 0.9861\n",
      "Epoch 5: val_loss improved from 0.05040 to 0.03743, saving model to /content/drive/MyDrive/saved_models/mnist_callback/mnist_ckpt2\n",
      "60/60 [==============================] - 3s 50ms/step - loss: 0.0437 - accuracy: 0.9861 - val_loss: 0.0374 - val_accuracy: 0.9880\n",
      "Epoch 6/20\n",
      "59/60 [============================>.] - ETA: 0s - loss: 0.0349 - accuracy: 0.9892\n",
      "Epoch 6: val_loss improved from 0.03743 to 0.03295, saving model to /content/drive/MyDrive/saved_models/mnist_callback/mnist_ckpt2\n",
      "60/60 [==============================] - 4s 60ms/step - loss: 0.0348 - accuracy: 0.9892 - val_loss: 0.0329 - val_accuracy: 0.9891\n",
      "Epoch 7/20\n",
      "59/60 [============================>.] - ETA: 0s - loss: 0.0318 - accuracy: 0.9902\n",
      "Epoch 7: val_loss improved from 0.03295 to 0.03180, saving model to /content/drive/MyDrive/saved_models/mnist_callback/mnist_ckpt2\n",
      "60/60 [==============================] - 3s 50ms/step - loss: 0.0316 - accuracy: 0.9902 - val_loss: 0.0318 - val_accuracy: 0.9895\n",
      "Epoch 8/20\n",
      "59/60 [============================>.] - ETA: 0s - loss: 0.0249 - accuracy: 0.9924\n",
      "Epoch 8: val_loss improved from 0.03180 to 0.02663, saving model to /content/drive/MyDrive/saved_models/mnist_callback/mnist_ckpt2\n",
      "60/60 [==============================] - 3s 50ms/step - loss: 0.0251 - accuracy: 0.9923 - val_loss: 0.0266 - val_accuracy: 0.9912\n",
      "Epoch 9/20\n",
      "59/60 [============================>.] - ETA: 0s - loss: 0.0221 - accuracy: 0.9933\n",
      "Epoch 9: val_loss did not improve from 0.02663\n",
      "60/60 [==============================] - 2s 36ms/step - loss: 0.0221 - accuracy: 0.9933 - val_loss: 0.0309 - val_accuracy: 0.9900\n",
      "Epoch 10/20\n",
      "59/60 [============================>.] - ETA: 0s - loss: 0.0204 - accuracy: 0.9938\n",
      "Epoch 10: val_loss improved from 0.02663 to 0.02588, saving model to /content/drive/MyDrive/saved_models/mnist_callback/mnist_ckpt2\n",
      "60/60 [==============================] - 3s 50ms/step - loss: 0.0203 - accuracy: 0.9938 - val_loss: 0.0259 - val_accuracy: 0.9916\n",
      "Epoch 11/20\n",
      "59/60 [============================>.] - ETA: 0s - loss: 0.0183 - accuracy: 0.9943\n",
      "Epoch 11: val_loss improved from 0.02588 to 0.02452, saving model to /content/drive/MyDrive/saved_models/mnist_callback/mnist_ckpt2\n",
      "60/60 [==============================] - 3s 56ms/step - loss: 0.0182 - accuracy: 0.9944 - val_loss: 0.0245 - val_accuracy: 0.9923\n",
      "Epoch 12/20\n",
      "59/60 [============================>.] - ETA: 0s - loss: 0.0154 - accuracy: 0.9950\n",
      "Epoch 12: val_loss improved from 0.02452 to 0.02322, saving model to /content/drive/MyDrive/saved_models/mnist_callback/mnist_ckpt2\n",
      "60/60 [==============================] - 3s 56ms/step - loss: 0.0153 - accuracy: 0.9950 - val_loss: 0.0232 - val_accuracy: 0.9922\n",
      "Epoch 13/20\n",
      "59/60 [============================>.] - ETA: 0s - loss: 0.0123 - accuracy: 0.9962\n",
      "Epoch 13: val_loss did not improve from 0.02322\n",
      "60/60 [==============================] - 2s 36ms/step - loss: 0.0126 - accuracy: 0.9962 - val_loss: 0.0244 - val_accuracy: 0.9913\n",
      "Epoch 14/20\n",
      "59/60 [============================>.] - ETA: 0s - loss: 0.0125 - accuracy: 0.9961\n",
      "Epoch 14: val_loss did not improve from 0.02322\n",
      "60/60 [==============================] - 2s 35ms/step - loss: 0.0126 - accuracy: 0.9961 - val_loss: 0.0256 - val_accuracy: 0.9921\n",
      "Epoch 15/20\n",
      "59/60 [============================>.] - ETA: 0s - loss: 0.0100 - accuracy: 0.9968\n",
      "Epoch 15: val_loss did not improve from 0.02322\n",
      "60/60 [==============================] - 2s 35ms/step - loss: 0.0099 - accuracy: 0.9968 - val_loss: 0.0261 - val_accuracy: 0.9914\n",
      "Epoch 16/20\n",
      "59/60 [============================>.] - ETA: 0s - loss: 0.0098 - accuracy: 0.9969\n",
      "Epoch 16: val_loss improved from 0.02322 to 0.02242, saving model to /content/drive/MyDrive/saved_models/mnist_callback/mnist_ckpt2\n",
      "60/60 [==============================] - 3s 49ms/step - loss: 0.0096 - accuracy: 0.9970 - val_loss: 0.0224 - val_accuracy: 0.9927\n",
      "Epoch 17/20\n",
      "59/60 [============================>.] - ETA: 0s - loss: 0.0076 - accuracy: 0.9976\n",
      "Epoch 17: val_loss did not improve from 0.02242\n",
      "60/60 [==============================] - 2s 39ms/step - loss: 0.0076 - accuracy: 0.9976 - val_loss: 0.0261 - val_accuracy: 0.9917\n",
      "Epoch 18/20\n",
      "59/60 [============================>.] - ETA: 0s - loss: 0.0060 - accuracy: 0.9985\n",
      "Epoch 18: val_loss did not improve from 0.02242\n",
      "60/60 [==============================] - 2s 36ms/step - loss: 0.0059 - accuracy: 0.9985 - val_loss: 0.0240 - val_accuracy: 0.9933\n",
      "Epoch 19/20\n",
      "59/60 [============================>.] - ETA: 0s - loss: 0.0060 - accuracy: 0.9983\n",
      "Epoch 19: val_loss did not improve from 0.02242\n",
      "60/60 [==============================] - 2s 36ms/step - loss: 0.0060 - accuracy: 0.9983 - val_loss: 0.0257 - val_accuracy: 0.9925\n",
      "Epoch 20/20\n",
      "59/60 [============================>.] - ETA: 0s - loss: 0.0048 - accuracy: 0.9987\n",
      "Epoch 20: val_loss did not improve from 0.02242\n",
      "60/60 [==============================] - 2s 36ms/step - loss: 0.0048 - accuracy: 0.9987 - val_loss: 0.0268 - val_accuracy: 0.9929\n"
     ]
    }
   ],
   "source": [
    "hist = model2.fit(train_dataset, epochs=20, validation_data=test_dataset,\n",
    "                  callbacks=[mc_callback, es_callback])"
   ]
  },
  {
   "cell_type": "code",
   "execution_count": 70,
   "metadata": {
    "ExecuteTime": {
     "end_time": "2021-11-05T02:45:45.857251Z",
     "start_time": "2021-11-05T02:45:45.444137Z"
    },
    "executionInfo": {
     "elapsed": 698,
     "status": "ok",
     "timestamp": 1658202187228,
     "user": {
      "displayName": "Sunghwan KIM",
      "userId": "06010856989212311727"
     },
     "user_tz": -540
    },
    "id": "_CbctOLiBnr0"
   },
   "outputs": [],
   "source": [
    "new_model5 = keras.models.load_model(saved_model_path)"
   ]
  },
  {
   "cell_type": "code",
   "execution_count": 71,
   "metadata": {
    "ExecuteTime": {
     "end_time": "2021-11-05T02:45:52.082733Z",
     "start_time": "2021-11-05T02:45:51.037514Z"
    },
    "colab": {
     "base_uri": "https://localhost:8080/"
    },
    "executionInfo": {
     "elapsed": 419,
     "status": "ok",
     "timestamp": 1658202188799,
     "user": {
      "displayName": "Sunghwan KIM",
      "userId": "06010856989212311727"
     },
     "user_tz": -540
    },
    "id": "Xb6FrDGXBnr1",
    "outputId": "0905392b-0e21-4d90-8ee0-8f387980dd88"
   },
   "outputs": [
    {
     "name": "stdout",
     "output_type": "stream",
     "text": [
      "10/10 [==============================] - 0s 20ms/step - loss: 0.0224 - accuracy: 0.9927\n"
     ]
    },
    {
     "data": {
      "text/plain": [
       "[0.022424062713980675, 0.9926999807357788]"
      ]
     },
     "execution_count": 71,
     "metadata": {},
     "output_type": "execute_result"
    }
   ],
   "source": [
    "new_model5.evaluate(test_dataset)"
   ]
  },
  {
   "cell_type": "code",
   "execution_count": null,
   "metadata": {
    "id": "mmaS_1CJjWgd"
   },
   "outputs": [],
   "source": []
  }
 ],
 "metadata": {
  "accelerator": "GPU",
  "colab": {
   "collapsed_sections": [
    "2ARCyjDW66NR"
   ],
   "name": "07_CNN_MNIST분류, 모델저장.ipynb",
   "provenance": []
  },
  "gpuClass": "standard",
  "kernelspec": {
   "display_name": "Python 3 (ipykernel)",
   "language": "python",
   "name": "python3"
  },
  "language_info": {
   "codemirror_mode": {
    "name": "ipython",
    "version": 3
   },
   "file_extension": ".py",
   "mimetype": "text/x-python",
   "name": "python",
   "nbconvert_exporter": "python",
   "pygments_lexer": "ipython3",
   "version": "3.8.13"
  },
  "toc": {
   "base_numbering": 1,
   "nav_menu": {},
   "number_sections": true,
   "sideBar": true,
   "skip_h1_title": false,
   "title_cell": "Table of Contents",
   "title_sidebar": "Contents",
   "toc_cell": false,
   "toc_position": {},
   "toc_section_display": true,
   "toc_window_display": false
  },
  "varInspector": {
   "cols": {
    "lenName": 16,
    "lenType": 16,
    "lenVar": 40
   },
   "kernels_config": {
    "python": {
     "delete_cmd_postfix": "",
     "delete_cmd_prefix": "del ",
     "library": "var_list.py",
     "varRefreshCmd": "print(var_dic_list())"
    },
    "r": {
     "delete_cmd_postfix": ") ",
     "delete_cmd_prefix": "rm(",
     "library": "var_list.r",
     "varRefreshCmd": "cat(var_dic_list()) "
    }
   },
   "types_to_exclude": [
    "module",
    "function",
    "builtin_function_or_method",
    "instance",
    "_Feature"
   ],
   "window_display": false
  }
 },
 "nbformat": 4,
 "nbformat_minor": 1
}
