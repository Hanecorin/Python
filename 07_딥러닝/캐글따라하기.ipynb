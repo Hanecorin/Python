{
 "cells": [
  {
   "cell_type": "code",
   "execution_count": 29,
   "id": "361c4e07",
   "metadata": {},
   "outputs": [],
   "source": [
    "import pandas as pd\n",
    "import numpy as np\n"
   ]
  },
  {
   "cell_type": "code",
   "execution_count": 30,
   "id": "20586d7c",
   "metadata": {},
   "outputs": [
    {
     "data": {
      "text/html": [
       "<div>\n",
       "<style scoped>\n",
       "    .dataframe tbody tr th:only-of-type {\n",
       "        vertical-align: middle;\n",
       "    }\n",
       "\n",
       "    .dataframe tbody tr th {\n",
       "        vertical-align: top;\n",
       "    }\n",
       "\n",
       "    .dataframe thead th {\n",
       "        text-align: right;\n",
       "    }\n",
       "</style>\n",
       "<table border=\"1\" class=\"dataframe\">\n",
       "  <thead>\n",
       "    <tr style=\"text-align: right;\">\n",
       "      <th></th>\n",
       "      <th>ph</th>\n",
       "      <th>Hardness</th>\n",
       "      <th>Solids</th>\n",
       "      <th>Chloramines</th>\n",
       "      <th>Sulfate</th>\n",
       "      <th>Conductivity</th>\n",
       "      <th>Organic_carbon</th>\n",
       "      <th>Trihalomethanes</th>\n",
       "      <th>Turbidity</th>\n",
       "      <th>Potability</th>\n",
       "    </tr>\n",
       "  </thead>\n",
       "  <tbody>\n",
       "    <tr>\n",
       "      <th>0</th>\n",
       "      <td>NaN</td>\n",
       "      <td>204.890455</td>\n",
       "      <td>20791.318981</td>\n",
       "      <td>7.300212</td>\n",
       "      <td>368.516441</td>\n",
       "      <td>564.308654</td>\n",
       "      <td>10.379783</td>\n",
       "      <td>86.990970</td>\n",
       "      <td>2.963135</td>\n",
       "      <td>0</td>\n",
       "    </tr>\n",
       "    <tr>\n",
       "      <th>1</th>\n",
       "      <td>3.716080</td>\n",
       "      <td>129.422921</td>\n",
       "      <td>18630.057858</td>\n",
       "      <td>6.635246</td>\n",
       "      <td>NaN</td>\n",
       "      <td>592.885359</td>\n",
       "      <td>15.180013</td>\n",
       "      <td>56.329076</td>\n",
       "      <td>4.500656</td>\n",
       "      <td>0</td>\n",
       "    </tr>\n",
       "    <tr>\n",
       "      <th>2</th>\n",
       "      <td>8.099124</td>\n",
       "      <td>224.236259</td>\n",
       "      <td>19909.541732</td>\n",
       "      <td>9.275884</td>\n",
       "      <td>NaN</td>\n",
       "      <td>418.606213</td>\n",
       "      <td>16.868637</td>\n",
       "      <td>66.420093</td>\n",
       "      <td>3.055934</td>\n",
       "      <td>0</td>\n",
       "    </tr>\n",
       "    <tr>\n",
       "      <th>3</th>\n",
       "      <td>8.316766</td>\n",
       "      <td>214.373394</td>\n",
       "      <td>22018.417441</td>\n",
       "      <td>8.059332</td>\n",
       "      <td>356.886136</td>\n",
       "      <td>363.266516</td>\n",
       "      <td>18.436524</td>\n",
       "      <td>100.341674</td>\n",
       "      <td>4.628771</td>\n",
       "      <td>0</td>\n",
       "    </tr>\n",
       "    <tr>\n",
       "      <th>4</th>\n",
       "      <td>9.092223</td>\n",
       "      <td>181.101509</td>\n",
       "      <td>17978.986339</td>\n",
       "      <td>6.546600</td>\n",
       "      <td>310.135738</td>\n",
       "      <td>398.410813</td>\n",
       "      <td>11.558279</td>\n",
       "      <td>31.997993</td>\n",
       "      <td>4.075075</td>\n",
       "      <td>0</td>\n",
       "    </tr>\n",
       "  </tbody>\n",
       "</table>\n",
       "</div>"
      ],
      "text/plain": [
       "         ph    Hardness        Solids  Chloramines     Sulfate  Conductivity  \\\n",
       "0       NaN  204.890455  20791.318981     7.300212  368.516441    564.308654   \n",
       "1  3.716080  129.422921  18630.057858     6.635246         NaN    592.885359   \n",
       "2  8.099124  224.236259  19909.541732     9.275884         NaN    418.606213   \n",
       "3  8.316766  214.373394  22018.417441     8.059332  356.886136    363.266516   \n",
       "4  9.092223  181.101509  17978.986339     6.546600  310.135738    398.410813   \n",
       "\n",
       "   Organic_carbon  Trihalomethanes  Turbidity  Potability  \n",
       "0       10.379783        86.990970   2.963135           0  \n",
       "1       15.180013        56.329076   4.500656           0  \n",
       "2       16.868637        66.420093   3.055934           0  \n",
       "3       18.436524       100.341674   4.628771           0  \n",
       "4       11.558279        31.997993   4.075075           0  "
      ]
     },
     "execution_count": 30,
     "metadata": {},
     "output_type": "execute_result"
    }
   ],
   "source": [
    "data = pd.read_csv('water_potability.csv')\n",
    "data.head()"
   ]
  },
  {
   "cell_type": "code",
   "execution_count": 31,
   "id": "0519c532",
   "metadata": {},
   "outputs": [
    {
     "name": "stdout",
     "output_type": "stream",
     "text": [
      "<class 'pandas.core.frame.DataFrame'>\n",
      "RangeIndex: 3276 entries, 0 to 3275\n",
      "Data columns (total 10 columns):\n",
      " #   Column           Non-Null Count  Dtype  \n",
      "---  ------           --------------  -----  \n",
      " 0   ph               2785 non-null   float64\n",
      " 1   Hardness         3276 non-null   float64\n",
      " 2   Solids           3276 non-null   float64\n",
      " 3   Chloramines      3276 non-null   float64\n",
      " 4   Sulfate          2495 non-null   float64\n",
      " 5   Conductivity     3276 non-null   float64\n",
      " 6   Organic_carbon   3276 non-null   float64\n",
      " 7   Trihalomethanes  3114 non-null   float64\n",
      " 8   Turbidity        3276 non-null   float64\n",
      " 9   Potability       3276 non-null   int64  \n",
      "dtypes: float64(9), int64(1)\n",
      "memory usage: 256.1 KB\n"
     ]
    }
   ],
   "source": [
    "data.info()\n"
   ]
  },
  {
   "cell_type": "code",
   "execution_count": 32,
   "id": "580d8e71",
   "metadata": {},
   "outputs": [
    {
     "data": {
      "text/plain": [
       "ph                 491\n",
       "Hardness             0\n",
       "Solids               0\n",
       "Chloramines          0\n",
       "Sulfate            781\n",
       "Conductivity         0\n",
       "Organic_carbon       0\n",
       "Trihalomethanes    162\n",
       "Turbidity            0\n",
       "Potability           0\n",
       "dtype: int64"
      ]
     },
     "execution_count": 32,
     "metadata": {},
     "output_type": "execute_result"
    }
   ],
   "source": [
    "data.isnull().sum()"
   ]
  },
  {
   "cell_type": "code",
   "execution_count": 33,
   "id": "d92bfdb4",
   "metadata": {},
   "outputs": [
    {
     "data": {
      "text/plain": [
       "0    1998\n",
       "1    1278\n",
       "Name: Potability, dtype: int64"
      ]
     },
     "execution_count": 33,
     "metadata": {},
     "output_type": "execute_result"
    }
   ],
   "source": [
    "data.Potability.value_counts()"
   ]
  },
  {
   "cell_type": "code",
   "execution_count": 34,
   "id": "7cf1abac",
   "metadata": {},
   "outputs": [],
   "source": [
    "\n",
    "data[\"ph\"] = data[\"ph\"].fillna(data[\"ph\"].mean())\n",
    "data[\"Sulfate\"] = data[\"Sulfate\"].fillna(data[\"Sulfate\"].mean())\n",
    "data[\"Trihalomethanes\"] = data[\"Trihalomethanes\"].fillna(data[\"Trihalomethanes\"].mean())"
   ]
  },
  {
   "cell_type": "code",
   "execution_count": 35,
   "id": "8d8de3c6",
   "metadata": {},
   "outputs": [
    {
     "data": {
      "text/plain": [
       "0    1998\n",
       "1    1278\n",
       "Name: Potability, dtype: int64"
      ]
     },
     "execution_count": 35,
     "metadata": {},
     "output_type": "execute_result"
    }
   ],
   "source": [
    "data.Potability.value_counts()"
   ]
  },
  {
   "cell_type": "code",
   "execution_count": 36,
   "id": "8da4ccf8",
   "metadata": {},
   "outputs": [],
   "source": [
    "notpotable  = data[data['Potability']==0]\n",
    "potable = data[data['Potability']==1]  \n",
    "\n",
    "from sklearn.utils import resample\n",
    "df_minority_upsampled = resample(potable, replace = True, n_samples = 1278) \n",
    "\n",
    "from sklearn.utils import shuffle\n",
    "data = pd.concat([notpotable, df_minority_upsampled])\n",
    "data = shuffle(data) "
   ]
  },
  {
   "cell_type": "code",
   "execution_count": 37,
   "id": "21ea9b7f",
   "metadata": {},
   "outputs": [
    {
     "data": {
      "text/plain": [
       "0    1998\n",
       "1    1278\n",
       "Name: Potability, dtype: int64"
      ]
     },
     "execution_count": 37,
     "metadata": {},
     "output_type": "execute_result"
    }
   ],
   "source": [
    "data.Potability.value_counts()"
   ]
  },
  {
   "cell_type": "code",
   "execution_count": 38,
   "id": "542aca0a",
   "metadata": {},
   "outputs": [
    {
     "data": {
      "text/plain": [
       "(3276, 10)"
      ]
     },
     "execution_count": 38,
     "metadata": {},
     "output_type": "execute_result"
    }
   ],
   "source": [
    "data.shape"
   ]
  },
  {
   "cell_type": "code",
   "execution_count": 39,
   "id": "0aa51135",
   "metadata": {},
   "outputs": [],
   "source": [
    "from sklearn.model_selection import train_test_split\n",
    "from sklearn.tree import DecisionTreeClassifier\n",
    "from sklearn.ensemble import RandomForestClassifier\n",
    "from sklearn.neighbors import KNeighborsClassifier\n",
    "from sklearn.ensemble import AdaBoostClassifier\n",
    "from sklearn.model_selection import RandomizedSearchCV, GridSearchCV\n",
    "from sklearn.metrics import accuracy_score"
   ]
  },
  {
   "cell_type": "code",
   "execution_count": 40,
   "id": "cccfdcc7",
   "metadata": {},
   "outputs": [],
   "source": [
    "x = data.drop(['Potability'], axis = 1)\n",
    "y = data['Potability']\n"
   ]
  },
  {
   "cell_type": "code",
   "execution_count": 41,
   "id": "6fae38ce",
   "metadata": {},
   "outputs": [
    {
     "data": {
      "text/html": [
       "<div>\n",
       "<style scoped>\n",
       "    .dataframe tbody tr th:only-of-type {\n",
       "        vertical-align: middle;\n",
       "    }\n",
       "\n",
       "    .dataframe tbody tr th {\n",
       "        vertical-align: top;\n",
       "    }\n",
       "\n",
       "    .dataframe thead th {\n",
       "        text-align: right;\n",
       "    }\n",
       "</style>\n",
       "<table border=\"1\" class=\"dataframe\">\n",
       "  <thead>\n",
       "    <tr style=\"text-align: right;\">\n",
       "      <th></th>\n",
       "      <th>ph</th>\n",
       "      <th>Hardness</th>\n",
       "      <th>Solids</th>\n",
       "      <th>Chloramines</th>\n",
       "      <th>Sulfate</th>\n",
       "      <th>Conductivity</th>\n",
       "      <th>Organic_carbon</th>\n",
       "      <th>Trihalomethanes</th>\n",
       "      <th>Turbidity</th>\n",
       "    </tr>\n",
       "  </thead>\n",
       "  <tbody>\n",
       "    <tr>\n",
       "      <th>1461</th>\n",
       "      <td>0.239084</td>\n",
       "      <td>0.211885</td>\n",
       "      <td>-0.707132</td>\n",
       "      <td>-0.225229</td>\n",
       "      <td>0.009400</td>\n",
       "      <td>-0.953207</td>\n",
       "      <td>-0.997110</td>\n",
       "      <td>1.571472</td>\n",
       "      <td>-0.073325</td>\n",
       "    </tr>\n",
       "    <tr>\n",
       "      <th>1271</th>\n",
       "      <td>-0.010219</td>\n",
       "      <td>1.542854</td>\n",
       "      <td>2.482357</td>\n",
       "      <td>0.480470</td>\n",
       "      <td>-0.252412</td>\n",
       "      <td>-1.135731</td>\n",
       "      <td>0.715099</td>\n",
       "      <td>-0.765246</td>\n",
       "      <td>-0.533001</td>\n",
       "    </tr>\n",
       "    <tr>\n",
       "      <th>3052</th>\n",
       "      <td>-0.631674</td>\n",
       "      <td>-0.898155</td>\n",
       "      <td>0.938708</td>\n",
       "      <td>1.197962</td>\n",
       "      <td>0.009400</td>\n",
       "      <td>-0.920203</td>\n",
       "      <td>0.943835</td>\n",
       "      <td>0.558117</td>\n",
       "      <td>-0.386989</td>\n",
       "    </tr>\n",
       "    <tr>\n",
       "      <th>1990</th>\n",
       "      <td>0.455316</td>\n",
       "      <td>1.663447</td>\n",
       "      <td>-0.039723</td>\n",
       "      <td>-0.580340</td>\n",
       "      <td>1.693450</td>\n",
       "      <td>-0.868298</td>\n",
       "      <td>-0.003651</td>\n",
       "      <td>0.071920</td>\n",
       "      <td>0.069168</td>\n",
       "    </tr>\n",
       "    <tr>\n",
       "      <th>2297</th>\n",
       "      <td>-0.332273</td>\n",
       "      <td>0.284692</td>\n",
       "      <td>-0.273410</td>\n",
       "      <td>0.040780</td>\n",
       "      <td>0.291172</td>\n",
       "      <td>0.054118</td>\n",
       "      <td>-0.665771</td>\n",
       "      <td>-0.569576</td>\n",
       "      <td>-0.017435</td>\n",
       "    </tr>\n",
       "    <tr>\n",
       "      <th>...</th>\n",
       "      <td>...</td>\n",
       "      <td>...</td>\n",
       "      <td>...</td>\n",
       "      <td>...</td>\n",
       "      <td>...</td>\n",
       "      <td>...</td>\n",
       "      <td>...</td>\n",
       "      <td>...</td>\n",
       "      <td>...</td>\n",
       "    </tr>\n",
       "    <tr>\n",
       "      <th>2519</th>\n",
       "      <td>-0.618624</td>\n",
       "      <td>-0.086403</td>\n",
       "      <td>1.233595</td>\n",
       "      <td>2.404730</td>\n",
       "      <td>0.111863</td>\n",
       "      <td>-0.139156</td>\n",
       "      <td>-0.411760</td>\n",
       "      <td>0.215113</td>\n",
       "      <td>-0.829793</td>\n",
       "    </tr>\n",
       "    <tr>\n",
       "      <th>1666</th>\n",
       "      <td>-0.010219</td>\n",
       "      <td>0.542508</td>\n",
       "      <td>-0.041696</td>\n",
       "      <td>0.738969</td>\n",
       "      <td>0.009400</td>\n",
       "      <td>0.583110</td>\n",
       "      <td>0.421564</td>\n",
       "      <td>0.422265</td>\n",
       "      <td>0.333116</td>\n",
       "    </tr>\n",
       "    <tr>\n",
       "      <th>2779</th>\n",
       "      <td>1.584188</td>\n",
       "      <td>0.862041</td>\n",
       "      <td>-0.074855</td>\n",
       "      <td>-1.080133</td>\n",
       "      <td>-2.905094</td>\n",
       "      <td>0.067118</td>\n",
       "      <td>0.441694</td>\n",
       "      <td>-0.903402</td>\n",
       "      <td>0.091850</td>\n",
       "    </tr>\n",
       "    <tr>\n",
       "      <th>2092</th>\n",
       "      <td>0.435391</td>\n",
       "      <td>0.706895</td>\n",
       "      <td>0.998490</td>\n",
       "      <td>-0.202094</td>\n",
       "      <td>0.009400</td>\n",
       "      <td>-0.260985</td>\n",
       "      <td>-0.485292</td>\n",
       "      <td>0.246752</td>\n",
       "      <td>1.435351</td>\n",
       "    </tr>\n",
       "    <tr>\n",
       "      <th>887</th>\n",
       "      <td>-1.463984</td>\n",
       "      <td>-1.013532</td>\n",
       "      <td>0.090096</td>\n",
       "      <td>-1.958328</td>\n",
       "      <td>0.745910</td>\n",
       "      <td>1.426883</td>\n",
       "      <td>-0.847847</td>\n",
       "      <td>-0.002592</td>\n",
       "      <td>-0.193311</td>\n",
       "    </tr>\n",
       "  </tbody>\n",
       "</table>\n",
       "<p>3276 rows × 9 columns</p>\n",
       "</div>"
      ],
      "text/plain": [
       "            ph  Hardness    Solids  Chloramines   Sulfate  Conductivity  \\\n",
       "1461  0.239084  0.211885 -0.707132    -0.225229  0.009400     -0.953207   \n",
       "1271 -0.010219  1.542854  2.482357     0.480470 -0.252412     -1.135731   \n",
       "3052 -0.631674 -0.898155  0.938708     1.197962  0.009400     -0.920203   \n",
       "1990  0.455316  1.663447 -0.039723    -0.580340  1.693450     -0.868298   \n",
       "2297 -0.332273  0.284692 -0.273410     0.040780  0.291172      0.054118   \n",
       "...        ...       ...       ...          ...       ...           ...   \n",
       "2519 -0.618624 -0.086403  1.233595     2.404730  0.111863     -0.139156   \n",
       "1666 -0.010219  0.542508 -0.041696     0.738969  0.009400      0.583110   \n",
       "2779  1.584188  0.862041 -0.074855    -1.080133 -2.905094      0.067118   \n",
       "2092  0.435391  0.706895  0.998490    -0.202094  0.009400     -0.260985   \n",
       "887  -1.463984 -1.013532  0.090096    -1.958328  0.745910      1.426883   \n",
       "\n",
       "      Organic_carbon  Trihalomethanes  Turbidity  \n",
       "1461       -0.997110         1.571472  -0.073325  \n",
       "1271        0.715099        -0.765246  -0.533001  \n",
       "3052        0.943835         0.558117  -0.386989  \n",
       "1990       -0.003651         0.071920   0.069168  \n",
       "2297       -0.665771        -0.569576  -0.017435  \n",
       "...              ...              ...        ...  \n",
       "2519       -0.411760         0.215113  -0.829793  \n",
       "1666        0.421564         0.422265   0.333116  \n",
       "2779        0.441694        -0.903402   0.091850  \n",
       "2092       -0.485292         0.246752   1.435351  \n",
       "887        -0.847847        -0.002592  -0.193311  \n",
       "\n",
       "[3276 rows x 9 columns]"
      ]
     },
     "execution_count": 41,
     "metadata": {},
     "output_type": "execute_result"
    }
   ],
   "source": [
    "from sklearn.preprocessing import StandardScaler\n",
    "st = StandardScaler()\n",
    "col= x.columns\n",
    "x[col] = st.fit_transform(x[col])\n",
    "x[col]"
   ]
  },
  {
   "cell_type": "code",
   "execution_count": 42,
   "id": "7dee0403",
   "metadata": {},
   "outputs": [],
   "source": [
    "X_train, X_test, Y_train, Y_test = train_test_split(x,y, test_size = 0.1)"
   ]
  },
  {
   "cell_type": "code",
   "execution_count": 43,
   "id": "c19dff9d",
   "metadata": {},
   "outputs": [],
   "source": [
    "knn = KNeighborsClassifier()\n",
    "\n",
    "dt = DecisionTreeClassifier()\n",
    "\n",
    "rf = RandomForestClassifier()"
   ]
  },
  {
   "cell_type": "code",
   "execution_count": 44,
   "id": "3127a7c1",
   "metadata": {},
   "outputs": [],
   "source": [
    "para_knn = {'n_neighbors':np.arange(1, 50)}  #parameters of knn\n",
    "grid_knn = GridSearchCV(knn, param_grid=para_knn, cv=5) #search knn for 5 fold cross validation\n",
    "\n",
    "#Decision Tree\n",
    "para_dt = {'criterion':['gini','entropy'],'max_depth':np.arange(1, 50), 'min_samples_leaf':[1,2,4,5,10,20,30,40,80,100]}\n",
    "grid_dt = GridSearchCV(dt, param_grid=para_dt, cv=5) #grid search decision tree for 5 fold cv\n",
    "params_rf = {'n_estimators':[100,200, 350, 500], 'min_samples_leaf':[2, 10, 30]}\n",
    "grid_rf = GridSearchCV(rf, param_grid=params_rf, cv=5)"
   ]
  },
  {
   "cell_type": "code",
   "execution_count": 45,
   "id": "06d7e0ba",
   "metadata": {},
   "outputs": [
    {
     "name": "stdout",
     "output_type": "stream",
     "text": [
      "Best parameters for KNN: {'n_neighbors': 1}\n",
      "Best parameters for Decision Tree: {'criterion': 'entropy', 'max_depth': 45, 'min_samples_leaf': 1}\n",
      "Best parameters for Random Forest: {'min_samples_leaf': 2, 'n_estimators': 350}\n"
     ]
    }
   ],
   "source": [
    "grid_knn.fit(X_train, Y_train)\n",
    "grid_dt.fit(X_train, Y_train)\n",
    "grid_rf.fit(X_train, Y_train)\n",
    "\n",
    "print(\"Best parameters for KNN:\", grid_knn.best_params_)\n",
    "print(\"Best parameters for Decision Tree:\", grid_dt.best_params_)\n",
    "print(\"Best parameters for Random Forest:\", grid_rf.best_params_)"
   ]
  },
  {
   "cell_type": "code",
   "execution_count": 46,
   "id": "7e9ae3e0",
   "metadata": {},
   "outputs": [
    {
     "name": "stdout",
     "output_type": "stream",
     "text": [
      "K Nearest Neighbours : 0.6677\n",
      "Decision Tree : 0.6982\n",
      "Random Forest : 0.8598\n"
     ]
    }
   ],
   "source": [
    "models = [('K Nearest Neighbours', knn),('Decision Tree', dt), ('Random Forest', rf)]\n",
    "\n",
    "\n",
    "for model_name, model in models:\n",
    " \n",
    "    model.fit(X_train, Y_train)    \n",
    "    y_pred = model.predict(X_test)\n",
    "    accuracy = accuracy_score(Y_test,y_pred)\n",
    "    print('{:s} : {:.4f}'.format(model_name, accuracy))"
   ]
  },
  {
   "cell_type": "code",
   "execution_count": null,
   "id": "7e9189bf",
   "metadata": {},
   "outputs": [],
   "source": []
  }
 ],
 "metadata": {
  "kernelspec": {
   "display_name": "Python 3 (ipykernel)",
   "language": "python",
   "name": "python3"
  },
  "language_info": {
   "codemirror_mode": {
    "name": "ipython",
    "version": 3
   },
   "file_extension": ".py",
   "mimetype": "text/x-python",
   "name": "python",
   "nbconvert_exporter": "python",
   "pygments_lexer": "ipython3",
   "version": "3.8.13"
  }
 },
 "nbformat": 4,
 "nbformat_minor": 5
}
