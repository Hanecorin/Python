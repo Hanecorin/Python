{
 "cells": [
  {
   "cell_type": "markdown",
   "id": "38f403a2",
   "metadata": {},
   "source": [
    "#### import"
   ]
  },
  {
   "cell_type": "code",
   "execution_count": 2,
   "id": "cc1c5f3e",
   "metadata": {
    "ExecuteTime": {
     "end_time": "2022-03-22T09:37:12.200675Z",
     "start_time": "2022-03-22T09:37:05.936843Z"
    }
   },
   "outputs": [],
   "source": [
    "import numpy as np\n",
    "import tensorflow as tf\n",
    "from tensorflow import keras\n",
    "from tensorflow.keras import layers\n",
    "\n",
    "import matplotlib.pyplot as plt\n",
    "\n",
    "np.random.seed(0)\n",
    "tf.random.set_seed(0)"
   ]
  },
  {
   "cell_type": "markdown",
   "id": "42b12364",
   "metadata": {},
   "source": [
    "#### 학습결과 시각화 함수"
   ]
  },
  {
   "cell_type": "code",
   "execution_count": 3,
   "id": "fab503f6",
   "metadata": {
    "ExecuteTime": {
     "end_time": "2022-03-22T09:39:41.382532Z",
     "start_time": "2022-03-22T09:39:41.366876Z"
    }
   },
   "outputs": [],
   "source": [
    "def plot_loss(epochs, history):\n",
    "    \"\"\"\n",
    "    학습 loss를 시각화 하는 함수\n",
    "    \"\"\"\n",
    "    plt.figure(figsize=(8,7))\n",
    "    plt.plot(range(1, epochs+1), history.history['loss'], label='Train Loss')\n",
    "    plt.plot(range(1, epochs+1), history.history['val_loss'], label='Validation Loss')\n",
    "    plt.title(\"Loss\")\n",
    "    plt.xlabel('Epochs')\n",
    "    plt.ylabel('Loss')\n",
    "    plt.legend()\n",
    "    plt.show()    "
   ]
  },
  {
   "cell_type": "code",
   "execution_count": 4,
   "id": "62e40346",
   "metadata": {
    "ExecuteTime": {
     "end_time": "2022-03-22T09:39:41.948779Z",
     "start_time": "2022-03-22T09:39:41.933156Z"
    }
   },
   "outputs": [],
   "source": [
    "def plot_accuracy(epochs, history):\n",
    "    \"\"\"\n",
    "    학습 Accuracy를 시각화 하는 함수\n",
    "    \"\"\"\n",
    "    plt.figure(figsize=(8,7))\n",
    "    plt.plot(range(1, epochs+1), history.history['accuracy'], label='Train Accuracy')\n",
    "    plt.plot(range(1, epochs+1), history.history['val_accuracy'], \n",
    "                                                 label='Validation Accuracy')\n",
    "    plt.title(\"Accuracy\")\n",
    "    plt.xlabel('Epochs')\n",
    "    plt.ylabel('Accuracy')\n",
    "    plt.legend()\n",
    "    plt.show()  "
   ]
  },
  {
   "cell_type": "markdown",
   "id": "b1e9a352",
   "metadata": {},
   "source": [
    "#### 데이터 로딩"
   ]
  },
  {
   "cell_type": "code",
   "execution_count": 5,
   "id": "d2c7fccd",
   "metadata": {
    "ExecuteTime": {
     "end_time": "2022-03-22T09:39:46.396625Z",
     "start_time": "2022-03-22T09:39:45.332969Z"
    }
   },
   "outputs": [],
   "source": [
    "(train_image, train_label), (test_image, test_label) = keras.datasets.mnist.load_data()"
   ]
  },
  {
   "cell_type": "code",
   "execution_count": 6,
   "id": "43b13e86",
   "metadata": {
    "ExecuteTime": {
     "end_time": "2022-03-22T09:39:47.301251Z",
     "start_time": "2022-03-22T09:39:47.277313Z"
    }
   },
   "outputs": [
    {
     "data": {
      "text/plain": [
       "((60000, 28, 28), (10000, 28, 28))"
      ]
     },
     "execution_count": 6,
     "metadata": {},
     "output_type": "execute_result"
    }
   ],
   "source": [
    "train_image.shape, test_image.shape"
   ]
  },
  {
   "cell_type": "markdown",
   "id": "38ce2e89",
   "metadata": {},
   "source": [
    "#### 하이퍼파라미터 변수 정의"
   ]
  },
  {
   "cell_type": "code",
   "execution_count": 7,
   "id": "a41ffcf5",
   "metadata": {
    "ExecuteTime": {
     "end_time": "2022-03-22T09:39:54.134007Z",
     "start_time": "2022-03-22T09:39:54.119046Z"
    }
   },
   "outputs": [],
   "source": [
    "LEARNING_RATE = 0.001\n",
    "N_EPOCHS = 20\n",
    "N_BATCHS = 100\n",
    "\n",
    "N_TRAIN = train_image.shape[0]\n",
    "N_TEST = test_image.shape[0]"
   ]
  },
  {
   "cell_type": "markdown",
   "id": "c3287797",
   "metadata": {},
   "source": [
    "#### 전처리\n",
    "- image : 0 ~ 1 사이의 값으로 정규화\n",
    "- label : one hot encoding (다중분류문제이므로)"
   ]
  },
  {
   "cell_type": "code",
   "execution_count": 8,
   "id": "53e505cb",
   "metadata": {
    "ExecuteTime": {
     "end_time": "2022-03-22T09:40:13.983247Z",
     "start_time": "2022-03-22T09:40:13.803657Z"
    }
   },
   "outputs": [],
   "source": [
    "X_train = (train_image).astype(\"float32\")/255.0\n",
    "X_test = (test_image).astype('float32')/255.0"
   ]
  },
  {
   "cell_type": "code",
   "execution_count": 9,
   "id": "22a24d90",
   "metadata": {
    "ExecuteTime": {
     "end_time": "2022-03-22T09:40:16.477036Z",
     "start_time": "2022-03-22T09:40:16.463071Z"
    }
   },
   "outputs": [],
   "source": [
    "y_train = keras.utils.to_categorical(train_label)\n",
    "y_test = keras.utils.to_categorical(test_label)"
   ]
  },
  {
   "cell_type": "code",
   "execution_count": 10,
   "id": "2f84d781",
   "metadata": {
    "ExecuteTime": {
     "end_time": "2022-03-22T09:40:20.077097Z",
     "start_time": "2022-03-22T09:40:20.015263Z"
    }
   },
   "outputs": [
    {
     "data": {
      "text/plain": [
       "(0.0, 1.0, 0.0, 1.0)"
      ]
     },
     "execution_count": 10,
     "metadata": {},
     "output_type": "execute_result"
    }
   ],
   "source": [
    "np.min(X_train), np.max(X_train), np.min(X_test), np.max(X_test)"
   ]
  },
  {
   "cell_type": "code",
   "execution_count": 11,
   "id": "caf088f1",
   "metadata": {
    "ExecuteTime": {
     "end_time": "2022-03-22T09:40:31.889613Z",
     "start_time": "2022-03-22T09:40:31.871660Z"
    }
   },
   "outputs": [
    {
     "data": {
      "text/plain": [
       "((60000, 10), (10000, 10))"
      ]
     },
     "execution_count": 11,
     "metadata": {},
     "output_type": "execute_result"
    }
   ],
   "source": [
    "y_train.shape, y_test.shape"
   ]
  },
  {
   "cell_type": "markdown",
   "id": "b0d202b6",
   "metadata": {},
   "source": [
    "#### Dataset 생성"
   ]
  },
  {
   "cell_type": "code",
   "execution_count": 12,
   "id": "03dbad6c",
   "metadata": {
    "ExecuteTime": {
     "end_time": "2022-03-22T09:41:14.044282Z",
     "start_time": "2022-03-22T09:41:14.006380Z"
    }
   },
   "outputs": [
    {
     "name": "stdout",
     "output_type": "stream",
     "text": [
      "Metal device set to: Apple M1\n"
     ]
    },
    {
     "name": "stderr",
     "output_type": "stream",
     "text": [
      "2022-07-15 10:31:28.180250: I tensorflow/core/common_runtime/pluggable_device/pluggable_device_factory.cc:305] Could not identify NUMA node of platform GPU ID 0, defaulting to 0. Your kernel may not have been built with NUMA support.\n",
      "2022-07-15 10:31:28.180548: I tensorflow/core/common_runtime/pluggable_device/pluggable_device_factory.cc:271] Created TensorFlow device (/job:localhost/replica:0/task:0/device:GPU:0 with 0 MB memory) -> physical PluggableDevice (device: 0, name: METAL, pci bus id: <undefined>)\n"
     ]
    }
   ],
   "source": [
    "train_dataset = tf.data.Dataset.from_tensor_slices((X_train, y_train))\\\n",
    "                               .shuffle(N_TRAIN)\\\n",
    "                               .batch(N_BATCHS, drop_remainder=True)\n",
    "\n",
    "test_dataset = tf.data.Dataset.from_tensor_slices((X_test, y_test)).batch(N_BATCHS)"
   ]
  },
  {
   "cell_type": "markdown",
   "id": "2f5572ac",
   "metadata": {},
   "source": [
    "# 모델의 크기 변경"
   ]
  },
  {
   "cell_type": "markdown",
   "id": "d5d522f9",
   "metadata": {
    "ExecuteTime": {
     "end_time": "2021-12-02T02:18:21.191909Z",
     "start_time": "2021-12-02T02:18:21.182933Z"
    }
   },
   "source": [
    "#### 작은 모델"
   ]
  },
  {
   "cell_type": "code",
   "execution_count": 12,
   "id": "91af98cd",
   "metadata": {
    "ExecuteTime": {
     "end_time": "2022-03-22T09:41:38.052727Z",
     "start_time": "2022-03-22T09:41:38.030785Z"
    }
   },
   "outputs": [],
   "source": [
    "def create_small_model():\n",
    "    #모델생성\n",
    "    model = keras.Sequential()\n",
    "    # 레이어 추가 - Hidden\n",
    "    model.add(layers.Flatten(input_shape=(28,28)))\n",
    "    model.add(layers.Dense(units=1, activation='relu'))\n",
    "    # 출력레이어\n",
    "    model.add(layers.Dense(units=10, activation='softmax'))\n",
    "    return model"
   ]
  },
  {
   "cell_type": "code",
   "execution_count": 13,
   "id": "c64b36dc",
   "metadata": {
    "ExecuteTime": {
     "end_time": "2022-03-22T09:41:43.521012Z",
     "start_time": "2022-03-22T09:41:43.447623Z"
    }
   },
   "outputs": [],
   "source": [
    "# 모델 생성, 컴파일\n",
    "small_model =  create_small_model()\n",
    "small_model.compile(optimizer=keras.optimizers.Adam(learning_rate=LEARNING_RATE),\n",
    "                    loss='categorical_crossentropy',\n",
    "                    metrics=['accuracy'])"
   ]
  },
  {
   "cell_type": "code",
   "execution_count": 14,
   "id": "df9bfbef",
   "metadata": {
    "ExecuteTime": {
     "end_time": "2022-03-22T09:41:44.581424Z",
     "start_time": "2022-03-22T09:41:44.559483Z"
    }
   },
   "outputs": [
    {
     "name": "stdout",
     "output_type": "stream",
     "text": [
      "Model: \"sequential\"\n",
      "_________________________________________________________________\n",
      " Layer (type)                Output Shape              Param #   \n",
      "=================================================================\n",
      " flatten (Flatten)           (None, 784)               0         \n",
      "                                                                 \n",
      " dense (Dense)               (None, 1)                 785       \n",
      "                                                                 \n",
      " dense_1 (Dense)             (None, 10)                20        \n",
      "                                                                 \n",
      "=================================================================\n",
      "Total params: 805\n",
      "Trainable params: 805\n",
      "Non-trainable params: 0\n",
      "_________________________________________________________________\n"
     ]
    }
   ],
   "source": [
    "small_model.summary()"
   ]
  },
  {
   "cell_type": "code",
   "execution_count": 15,
   "id": "a52212cf",
   "metadata": {
    "ExecuteTime": {
     "end_time": "2022-03-22T09:41:45.291814Z",
     "start_time": "2022-03-22T09:41:45.270867Z"
    }
   },
   "outputs": [
    {
     "data": {
      "image/png": "[encoded data removed]",
      "text/plain": [
       "<IPython.core.display.Image object>"
      ]
     },
     "execution_count": 15,
     "metadata": {},
     "output_type": "execute_result"
    }
   ],
   "source": [
    "keras.utils.plot_model(small_model, show_shapes=True)"
   ]
  },
  {
   "cell_type": "code",
   "execution_count": 16,
   "id": "d87885a6",
   "metadata": {
    "ExecuteTime": {
     "end_time": "2022-03-22T09:42:22.599458Z",
     "start_time": "2022-03-22T09:41:48.638763Z"
    },
    "scrolled": false
   },
   "outputs": [
    {
     "name": "stdout",
     "output_type": "stream",
     "text": [
      "Epoch 1/20\n"
     ]
    },
    {
     "name": "stderr",
     "output_type": "stream",
     "text": [
      "2022-07-14 16:03:43.851628: W tensorflow/core/platform/profile_utils/cpu_utils.cc:128] Failed to get CPU frequency: 0 Hz\n",
      "2022-07-14 16:03:43.851766: I tensorflow/core/grappler/optimizers/custom_graph_optimizer_registry.cc:113] Plugin optimizer for device_type GPU is enabled.\n"
     ]
    },
    {
     "name": "stdout",
     "output_type": "stream",
     "text": [
      "592/600 [============================>.] - ETA: 0s - loss: 2.0998 - accuracy: 0.1920"
     ]
    },
    {
     "name": "stderr",
     "output_type": "stream",
     "text": [
      "2022-07-14 16:03:49.130632: I tensorflow/core/grappler/optimizers/custom_graph_optimizer_registry.cc:113] Plugin optimizer for device_type GPU is enabled.\n"
     ]
    },
    {
     "name": "stdout",
     "output_type": "stream",
     "text": [
      "600/600 [==============================] - 6s 6ms/step - loss: 2.0981 - accuracy: 0.1922 - val_loss: 1.9758 - val_accuracy: 0.2240\n",
      "Epoch 2/20\n",
      "600/600 [==============================] - 4s 6ms/step - loss: 1.9096 - accuracy: 0.2301 - val_loss: 1.8601 - val_accuracy: 0.2478\n",
      "Epoch 3/20\n",
      "600/600 [==============================] - 4s 6ms/step - loss: 1.8248 - accuracy: 0.2455 - val_loss: 1.7992 - val_accuracy: 0.2550\n",
      "Epoch 4/20\n",
      "600/600 [==============================] - 4s 6ms/step - loss: 1.7779 - accuracy: 0.2595 - val_loss: 1.7630 - val_accuracy: 0.2738\n",
      "Epoch 5/20\n",
      "600/600 [==============================] - 4s 7ms/step - loss: 1.7476 - accuracy: 0.2717 - val_loss: 1.7367 - val_accuracy: 0.2688\n",
      "Epoch 6/20\n",
      "600/600 [==============================] - 4s 6ms/step - loss: 1.7259 - accuracy: 0.2754 - val_loss: 1.7191 - val_accuracy: 0.2709\n",
      "Epoch 7/20\n",
      "600/600 [==============================] - 4s 6ms/step - loss: 1.7098 - accuracy: 0.2796 - val_loss: 1.7028 - val_accuracy: 0.2833\n",
      "Epoch 8/20\n",
      "600/600 [==============================] - 4s 6ms/step - loss: 1.6979 - accuracy: 0.2796 - val_loss: 1.6933 - val_accuracy: 0.2763\n",
      "Epoch 9/20\n",
      "600/600 [==============================] - 4s 6ms/step - loss: 1.6882 - accuracy: 0.2859 - val_loss: 1.6854 - val_accuracy: 0.2932\n",
      "Epoch 10/20\n",
      "600/600 [==============================] - 4s 6ms/step - loss: 1.6813 - accuracy: 0.2872 - val_loss: 1.6783 - val_accuracy: 0.2947\n",
      "Epoch 11/20\n",
      "600/600 [==============================] - 4s 6ms/step - loss: 1.6752 - accuracy: 0.2891 - val_loss: 1.6739 - val_accuracy: 0.2932\n",
      "Epoch 12/20\n",
      "600/600 [==============================] - 4s 6ms/step - loss: 1.6700 - accuracy: 0.2894 - val_loss: 1.6692 - val_accuracy: 0.2958\n",
      "Epoch 13/20\n",
      "600/600 [==============================] - 4s 6ms/step - loss: 1.6656 - accuracy: 0.2909 - val_loss: 1.6660 - val_accuracy: 0.2946\n",
      "Epoch 14/20\n",
      "600/600 [==============================] - 4s 6ms/step - loss: 1.6619 - accuracy: 0.2919 - val_loss: 1.6636 - val_accuracy: 0.2936\n",
      "Epoch 15/20\n",
      "600/600 [==============================] - 4s 6ms/step - loss: 1.6586 - accuracy: 0.2925 - val_loss: 1.6600 - val_accuracy: 0.2976\n",
      "Epoch 16/20\n",
      "600/600 [==============================] - 4s 6ms/step - loss: 1.6555 - accuracy: 0.2955 - val_loss: 1.6584 - val_accuracy: 0.2941\n",
      "Epoch 17/20\n",
      "600/600 [==============================] - 4s 6ms/step - loss: 1.6523 - accuracy: 0.3035 - val_loss: 1.6541 - val_accuracy: 0.3085\n",
      "Epoch 18/20\n",
      "600/600 [==============================] - 4s 6ms/step - loss: 1.6493 - accuracy: 0.3113 - val_loss: 1.6510 - val_accuracy: 0.3049\n",
      "Epoch 19/20\n",
      "600/600 [==============================] - 4s 7ms/step - loss: 1.6452 - accuracy: 0.3256 - val_loss: 1.6483 - val_accuracy: 0.3402\n",
      "Epoch 20/20\n",
      "600/600 [==============================] - 4s 6ms/step - loss: 1.6390 - accuracy: 0.3369 - val_loss: 1.6405 - val_accuracy: 0.3074\n"
     ]
    }
   ],
   "source": [
    "hist = small_model.fit(train_dataset, epochs=N_EPOCHS, \n",
    "                       validation_data=test_dataset)"
   ]
  },
  {
   "cell_type": "code",
   "execution_count": 17,
   "id": "609b2a63",
   "metadata": {
    "ExecuteTime": {
     "end_time": "2022-03-22T09:43:08.648462Z",
     "start_time": "2022-03-22T09:43:08.415749Z"
    }
   },
   "outputs": [
    {
     "data": {
      "image/png": "[encoded data removed]",
      "text/plain": [
       "<Figure size 576x504 with 1 Axes>"
      ]
     },
     "metadata": {
      "needs_background": "light"
     },
     "output_type": "display_data"
    }
   ],
   "source": [
    "plot_loss(N_EPOCHS, hist)"
   ]
  },
  {
   "cell_type": "code",
   "execution_count": 18,
   "id": "1158f45c",
   "metadata": {
    "ExecuteTime": {
     "end_time": "2022-03-22T09:43:09.720048Z",
     "start_time": "2022-03-22T09:43:09.542742Z"
    }
   },
   "outputs": [
    {
     "data": {
      "image/png": "[encoded data removed]",
      "text/plain": [
       "<Figure size 576x504 with 1 Axes>"
      ]
     },
     "metadata": {
      "needs_background": "light"
     },
     "output_type": "display_data"
    }
   ],
   "source": [
    "plot_accuracy(N_EPOCHS, hist)"
   ]
  },
  {
   "cell_type": "markdown",
   "id": "0bcfb450",
   "metadata": {
    "ExecuteTime": {
     "end_time": "2021-12-02T02:34:37.778103Z",
     "start_time": "2021-12-02T02:34:37.761151Z"
    }
   },
   "source": [
    "#### 모델의 크기를 크게"
   ]
  },
  {
   "cell_type": "code",
   "execution_count": 20,
   "id": "41dd4c49",
   "metadata": {
    "ExecuteTime": {
     "end_time": "2022-03-22T09:44:10.466136Z",
     "start_time": "2022-03-22T09:44:10.447185Z"
    }
   },
   "outputs": [],
   "source": [
    "def create_bigger_model():\n",
    "    model = keras.Sequential()\n",
    "    #은닉층\n",
    "    model.add(layers.Flatten(input_shape=(28,28)))\n",
    "    model.add(layers.Dense(units=256, activation='relu'))\n",
    "    model.add(layers.Dense(units=256, activation='relu'))\n",
    "    model.add(layers.Dense(units=128, activation='relu'))\n",
    "    model.add(layers.Dense(units=128, activation='relu'))\n",
    "    #출력층\n",
    "    model.add(layers.Dense(units=10, activation='softmax'))\n",
    "    return model"
   ]
  },
  {
   "cell_type": "code",
   "execution_count": 21,
   "id": "4ffd1b89",
   "metadata": {
    "ExecuteTime": {
     "end_time": "2022-03-22T09:44:16.796868Z",
     "start_time": "2022-03-22T09:44:16.718913Z"
    }
   },
   "outputs": [],
   "source": [
    "bigger_model = create_bigger_model()\n",
    "bigger_model.compile(optimizer=keras.optimizers.Adam(learning_rate=LEARNING_RATE),\n",
    "                     loss='categorical_crossentropy',\n",
    "                     metrics=['accuracy'])"
   ]
  },
  {
   "cell_type": "code",
   "execution_count": 22,
   "id": "243c1794",
   "metadata": {
    "ExecuteTime": {
     "end_time": "2022-03-22T09:44:17.893381Z",
     "start_time": "2022-03-22T09:44:17.865487Z"
    }
   },
   "outputs": [
    {
     "name": "stdout",
     "output_type": "stream",
     "text": [
      "Model: \"sequential_1\"\n",
      "_________________________________________________________________\n",
      " Layer (type)                Output Shape              Param #   \n",
      "=================================================================\n",
      " flatten_1 (Flatten)         (None, 784)               0         \n",
      "                                                                 \n",
      " dense_2 (Dense)             (None, 256)               200960    \n",
      "                                                                 \n",
      " dense_3 (Dense)             (None, 256)               65792     \n",
      "                                                                 \n",
      " dense_4 (Dense)             (None, 128)               32896     \n",
      "                                                                 \n",
      " dense_5 (Dense)             (None, 128)               16512     \n",
      "                                                                 \n",
      " dense_6 (Dense)             (None, 10)                1290      \n",
      "                                                                 \n",
      "=================================================================\n",
      "Total params: 317,450\n",
      "Trainable params: 317,450\n",
      "Non-trainable params: 0\n",
      "_________________________________________________________________\n"
     ]
    }
   ],
   "source": [
    "bigger_model.summary()"
   ]
  },
  {
   "cell_type": "code",
   "execution_count": 23,
   "id": "42e38a13",
   "metadata": {
    "ExecuteTime": {
     "end_time": "2022-03-22T09:45:31.390957Z",
     "start_time": "2022-03-22T09:44:18.879793Z"
    }
   },
   "outputs": [
    {
     "name": "stdout",
     "output_type": "stream",
     "text": [
      "Epoch 1/20\n"
     ]
    },
    {
     "name": "stderr",
     "output_type": "stream",
     "text": [
      "2022-07-14 16:09:09.534647: I tensorflow/core/grappler/optimizers/custom_graph_optimizer_registry.cc:113] Plugin optimizer for device_type GPU is enabled.\n"
     ]
    },
    {
     "name": "stdout",
     "output_type": "stream",
     "text": [
      "596/600 [============================>.] - ETA: 0s - loss: 0.2500 - accuracy: 0.9245"
     ]
    },
    {
     "name": "stderr",
     "output_type": "stream",
     "text": [
      "2022-07-14 16:09:14.687340: I tensorflow/core/grappler/optimizers/custom_graph_optimizer_registry.cc:113] Plugin optimizer for device_type GPU is enabled.\n"
     ]
    },
    {
     "name": "stdout",
     "output_type": "stream",
     "text": [
      "600/600 [==============================] - 6s 8ms/step - loss: 0.2491 - accuracy: 0.9248 - val_loss: 0.1244 - val_accuracy: 0.9602\n",
      "Epoch 2/20\n",
      "600/600 [==============================] - 5s 8ms/step - loss: 0.0957 - accuracy: 0.9708 - val_loss: 0.0871 - val_accuracy: 0.9750\n",
      "Epoch 3/20\n",
      "600/600 [==============================] - 5s 8ms/step - loss: 0.0645 - accuracy: 0.9798 - val_loss: 0.0719 - val_accuracy: 0.9774\n",
      "Epoch 4/20\n",
      "600/600 [==============================] - 5s 8ms/step - loss: 0.0496 - accuracy: 0.9839 - val_loss: 0.0904 - val_accuracy: 0.9729\n",
      "Epoch 5/20\n",
      "600/600 [==============================] - 5s 8ms/step - loss: 0.0407 - accuracy: 0.9870 - val_loss: 0.0883 - val_accuracy: 0.9762\n",
      "Epoch 6/20\n",
      "600/600 [==============================] - 5s 8ms/step - loss: 0.0336 - accuracy: 0.9891 - val_loss: 0.0751 - val_accuracy: 0.9788\n",
      "Epoch 7/20\n",
      "600/600 [==============================] - 5s 8ms/step - loss: 0.0280 - accuracy: 0.9908 - val_loss: 0.0731 - val_accuracy: 0.9802\n",
      "Epoch 8/20\n",
      "600/600 [==============================] - 5s 8ms/step - loss: 0.0249 - accuracy: 0.9920 - val_loss: 0.0909 - val_accuracy: 0.9775\n",
      "Epoch 9/20\n",
      "600/600 [==============================] - 5s 8ms/step - loss: 0.0237 - accuracy: 0.9922 - val_loss: 0.0962 - val_accuracy: 0.9743\n",
      "Epoch 10/20\n",
      "600/600 [==============================] - 5s 8ms/step - loss: 0.0227 - accuracy: 0.9928 - val_loss: 0.0772 - val_accuracy: 0.9806\n",
      "Epoch 11/20\n",
      "600/600 [==============================] - 5s 8ms/step - loss: 0.0168 - accuracy: 0.9948 - val_loss: 0.0759 - val_accuracy: 0.9822\n",
      "Epoch 12/20\n",
      "600/600 [==============================] - 5s 8ms/step - loss: 0.0162 - accuracy: 0.9947 - val_loss: 0.0946 - val_accuracy: 0.9796\n",
      "Epoch 13/20\n",
      "600/600 [==============================] - 5s 8ms/step - loss: 0.0174 - accuracy: 0.9949 - val_loss: 0.0837 - val_accuracy: 0.9800\n",
      "Epoch 14/20\n",
      "600/600 [==============================] - 5s 8ms/step - loss: 0.0148 - accuracy: 0.9952 - val_loss: 0.0862 - val_accuracy: 0.9798\n",
      "Epoch 15/20\n",
      "600/600 [==============================] - 5s 8ms/step - loss: 0.0117 - accuracy: 0.9964 - val_loss: 0.0959 - val_accuracy: 0.9781\n",
      "Epoch 16/20\n",
      "600/600 [==============================] - 5s 8ms/step - loss: 0.0136 - accuracy: 0.9958 - val_loss: 0.0956 - val_accuracy: 0.9792\n",
      "Epoch 17/20\n",
      "600/600 [==============================] - 5s 8ms/step - loss: 0.0127 - accuracy: 0.9960 - val_loss: 0.1086 - val_accuracy: 0.9786\n",
      "Epoch 18/20\n",
      "600/600 [==============================] - 5s 8ms/step - loss: 0.0108 - accuracy: 0.9967 - val_loss: 0.1041 - val_accuracy: 0.9787\n",
      "Epoch 19/20\n",
      "600/600 [==============================] - 5s 8ms/step - loss: 0.0116 - accuracy: 0.9968 - val_loss: 0.0981 - val_accuracy: 0.9807\n",
      "Epoch 20/20\n",
      "600/600 [==============================] - 5s 8ms/step - loss: 0.0087 - accuracy: 0.9971 - val_loss: 0.0903 - val_accuracy: 0.9817\n"
     ]
    }
   ],
   "source": [
    "hist = bigger_model.fit(train_dataset, \n",
    "                        epochs=N_EPOCHS, \n",
    "                        validation_data=test_dataset)"
   ]
  },
  {
   "cell_type": "code",
   "execution_count": 24,
   "id": "18af8878",
   "metadata": {
    "ExecuteTime": {
     "end_time": "2022-03-22T09:45:54.476953Z",
     "start_time": "2022-03-22T09:45:54.280702Z"
    },
    "scrolled": true
   },
   "outputs": [
    {
     "data": {
      "image/png": "[encoded data removed]",
      "text/plain": [
       "<Figure size 576x504 with 1 Axes>"
      ]
     },
     "metadata": {
      "needs_background": "light"
     },
     "output_type": "display_data"
    }
   ],
   "source": [
    "plot_loss(N_EPOCHS, hist)"
   ]
  },
  {
   "cell_type": "code",
   "execution_count": 25,
   "id": "4672e60f",
   "metadata": {
    "ExecuteTime": {
     "end_time": "2022-03-22T09:45:55.392624Z",
     "start_time": "2022-03-22T09:45:55.174839Z"
    },
    "scrolled": true
   },
   "outputs": [
    {
     "data": {
      "image/png": "[encoded data removed]",
      "text/plain": [
       "<Figure size 576x504 with 1 Axes>"
      ]
     },
     "metadata": {
      "needs_background": "light"
     },
     "output_type": "display_data"
    }
   ],
   "source": [
    "plot_accuracy(N_EPOCHS, hist)"
   ]
  },
  {
   "cell_type": "markdown",
   "id": "30a5c3ca",
   "metadata": {},
   "source": [
    "## Dropout 적용\n",
    "- layers.Dropout 객체를 이용\n",
    "- dropout rate는 0.2 ~ 0.5 정도로 설정\n",
    "    - 규제 강도는 rate를 크게 잡을 수록 커진다.\n",
    "- dropout node를 가질 Layer 앞에 추가."
   ]
  },
  {
   "cell_type": "code",
   "execution_count": 26,
   "id": "8ade2d69",
   "metadata": {
    "ExecuteTime": {
     "end_time": "2022-03-22T09:46:36.895855Z",
     "start_time": "2022-03-22T09:46:36.878933Z"
    }
   },
   "outputs": [],
   "source": [
    "def create_dropout_model():\n",
    "    model = keras.Sequential()\n",
    "    model.add(layers.Flatten(input_shape=(28,28)))\n",
    "    \n",
    "    model.add(layers.Dropout(0.5))\n",
    "    model.add(layers.Dense(units=256, activation='relu'))\n",
    "    \n",
    "    model.add(layers.Dropout(0.5))\n",
    "    model.add(layers.Dense(units=256, activation='relu'))\n",
    "    \n",
    "    model.add(layers.Dropout(0.3))\n",
    "    model.add(layers.Dense(units=128, activation='relu'))\n",
    "    \n",
    "    model.add(layers.Dropout(0.3))\n",
    "    model.add(layers.Dense(units=128, activation='relu'))\n",
    "    \n",
    "    model.add(layers.Dropout(0.3))\n",
    "    model.add(layers.Dense(units=10, activation='softmax'))\n",
    "    return model"
   ]
  },
  {
   "cell_type": "code",
   "execution_count": 27,
   "id": "1d378d13",
   "metadata": {
    "ExecuteTime": {
     "end_time": "2022-03-22T09:46:37.899983Z",
     "start_time": "2022-03-22T09:46:37.798423Z"
    }
   },
   "outputs": [],
   "source": [
    "dropout_model = create_dropout_model()\n",
    "dropout_model.compile(optimizer=keras.optimizers.Adam(learning_rate=LEARNING_RATE),\n",
    "                      loss='categorical_crossentropy', \n",
    "                      metrics=['accuracy'])"
   ]
  },
  {
   "cell_type": "code",
   "execution_count": 28,
   "id": "eb7af265",
   "metadata": {
    "ExecuteTime": {
     "end_time": "2022-03-22T09:46:38.773040Z",
     "start_time": "2022-03-22T09:46:38.733147Z"
    }
   },
   "outputs": [
    {
     "name": "stdout",
     "output_type": "stream",
     "text": [
      "Model: \"sequential_2\"\n",
      "_________________________________________________________________\n",
      " Layer (type)                Output Shape              Param #   \n",
      "=================================================================\n",
      " flatten_2 (Flatten)         (None, 784)               0         \n",
      "                                                                 \n",
      " dropout (Dropout)           (None, 784)               0         \n",
      "                                                                 \n",
      " dense_7 (Dense)             (None, 256)               200960    \n",
      "                                                                 \n",
      " dropout_1 (Dropout)         (None, 256)               0         \n",
      "                                                                 \n",
      " dense_8 (Dense)             (None, 256)               65792     \n",
      "                                                                 \n",
      " dropout_2 (Dropout)         (None, 256)               0         \n",
      "                                                                 \n",
      " dense_9 (Dense)             (None, 128)               32896     \n",
      "                                                                 \n",
      " dropout_3 (Dropout)         (None, 128)               0         \n",
      "                                                                 \n",
      " dense_10 (Dense)            (None, 128)               16512     \n",
      "                                                                 \n",
      " dropout_4 (Dropout)         (None, 128)               0         \n",
      "                                                                 \n",
      " dense_11 (Dense)            (None, 10)                1290      \n",
      "                                                                 \n",
      "=================================================================\n",
      "Total params: 317,450\n",
      "Trainable params: 317,450\n",
      "Non-trainable params: 0\n",
      "_________________________________________________________________\n"
     ]
    }
   ],
   "source": [
    "dropout_model.summary()"
   ]
  },
  {
   "cell_type": "code",
   "execution_count": 29,
   "id": "19a68f77",
   "metadata": {
    "ExecuteTime": {
     "end_time": "2022-03-22T09:49:45.470530Z",
     "start_time": "2022-03-22T09:48:59.368205Z"
    },
    "scrolled": false
   },
   "outputs": [
    {
     "name": "stdout",
     "output_type": "stream",
     "text": [
      "Epoch 1/30\n",
      "  1/600 [..............................] - ETA: 4:05 - loss: 2.5488 - accuracy: 0.0400"
     ]
    },
    {
     "name": "stderr",
     "output_type": "stream",
     "text": [
      "2022-07-14 17:22:47.443409: I tensorflow/core/grappler/optimizers/custom_graph_optimizer_registry.cc:113] Plugin optimizer for device_type GPU is enabled.\n"
     ]
    },
    {
     "name": "stdout",
     "output_type": "stream",
     "text": [
      "597/600 [============================>.] - ETA: 0s - loss: 0.6866 - accuracy: 0.7749"
     ]
    },
    {
     "name": "stderr",
     "output_type": "stream",
     "text": [
      "2022-07-14 17:22:52.704792: I tensorflow/core/grappler/optimizers/custom_graph_optimizer_registry.cc:113] Plugin optimizer for device_type GPU is enabled.\n"
     ]
    },
    {
     "name": "stdout",
     "output_type": "stream",
     "text": [
      "600/600 [==============================] - 6s 9ms/step - loss: 0.6845 - accuracy: 0.7756 - val_loss: 0.2065 - val_accuracy: 0.9382\n",
      "Epoch 2/30\n",
      "600/600 [==============================] - 5s 9ms/step - loss: 0.3208 - accuracy: 0.9021 - val_loss: 0.1671 - val_accuracy: 0.9491\n",
      "Epoch 3/30\n",
      "600/600 [==============================] - 5s 9ms/step - loss: 0.2631 - accuracy: 0.9199 - val_loss: 0.1266 - val_accuracy: 0.9630\n",
      "Epoch 4/30\n",
      "600/600 [==============================] - 5s 9ms/step - loss: 0.2279 - accuracy: 0.9307 - val_loss: 0.1163 - val_accuracy: 0.9638\n",
      "Epoch 5/30\n",
      "600/600 [==============================] - 5s 9ms/step - loss: 0.2115 - accuracy: 0.9361 - val_loss: 0.1068 - val_accuracy: 0.9681\n",
      "Epoch 6/30\n",
      "600/600 [==============================] - 5s 9ms/step - loss: 0.1960 - accuracy: 0.9413 - val_loss: 0.0989 - val_accuracy: 0.9703\n",
      "Epoch 7/30\n",
      "600/600 [==============================] - 5s 9ms/step - loss: 0.1830 - accuracy: 0.9443 - val_loss: 0.0947 - val_accuracy: 0.9722\n",
      "Epoch 8/30\n",
      "600/600 [==============================] - 5s 9ms/step - loss: 0.1771 - accuracy: 0.9466 - val_loss: 0.0907 - val_accuracy: 0.9725\n",
      "Epoch 9/30\n",
      "600/600 [==============================] - 5s 9ms/step - loss: 0.1640 - accuracy: 0.9509 - val_loss: 0.0907 - val_accuracy: 0.9728\n",
      "Epoch 10/30\n",
      "600/600 [==============================] - 5s 9ms/step - loss: 0.1586 - accuracy: 0.9517 - val_loss: 0.0812 - val_accuracy: 0.9760\n",
      "Epoch 11/30\n",
      "600/600 [==============================] - 5s 9ms/step - loss: 0.1525 - accuracy: 0.9546 - val_loss: 0.0782 - val_accuracy: 0.9779\n",
      "Epoch 12/30\n",
      "600/600 [==============================] - 5s 9ms/step - loss: 0.1470 - accuracy: 0.9554 - val_loss: 0.0800 - val_accuracy: 0.9763\n",
      "Epoch 13/30\n",
      "600/600 [==============================] - 5s 9ms/step - loss: 0.1424 - accuracy: 0.9568 - val_loss: 0.0723 - val_accuracy: 0.9792\n",
      "Epoch 14/30\n",
      "600/600 [==============================] - 5s 9ms/step - loss: 0.1371 - accuracy: 0.9588 - val_loss: 0.0717 - val_accuracy: 0.9795\n",
      "Epoch 15/30\n",
      "600/600 [==============================] - 5s 9ms/step - loss: 0.1334 - accuracy: 0.9597 - val_loss: 0.0691 - val_accuracy: 0.9792\n",
      "Epoch 16/30\n",
      "600/600 [==============================] - 5s 9ms/step - loss: 0.1314 - accuracy: 0.9603 - val_loss: 0.0753 - val_accuracy: 0.9774\n",
      "Epoch 17/30\n",
      "600/600 [==============================] - 5s 9ms/step - loss: 0.1301 - accuracy: 0.9598 - val_loss: 0.0700 - val_accuracy: 0.9785\n",
      "Epoch 18/30\n",
      "600/600 [==============================] - 5s 9ms/step - loss: 0.1264 - accuracy: 0.9622 - val_loss: 0.0665 - val_accuracy: 0.9800\n",
      "Epoch 19/30\n",
      "600/600 [==============================] - 5s 9ms/step - loss: 0.1249 - accuracy: 0.9625 - val_loss: 0.0640 - val_accuracy: 0.9805\n",
      "Epoch 20/30\n",
      "600/600 [==============================] - 6s 9ms/step - loss: 0.1228 - accuracy: 0.9635 - val_loss: 0.0629 - val_accuracy: 0.9828\n",
      "Epoch 21/30\n",
      "600/600 [==============================] - 5s 9ms/step - loss: 0.1190 - accuracy: 0.9640 - val_loss: 0.0671 - val_accuracy: 0.9795\n",
      "Epoch 22/30\n",
      "600/600 [==============================] - 6s 9ms/step - loss: 0.1155 - accuracy: 0.9642 - val_loss: 0.0648 - val_accuracy: 0.9812\n",
      "Epoch 23/30\n",
      "600/600 [==============================] - 6s 9ms/step - loss: 0.1174 - accuracy: 0.9639 - val_loss: 0.0697 - val_accuracy: 0.9790\n",
      "Epoch 24/30\n",
      "600/600 [==============================] - 6s 9ms/step - loss: 0.1123 - accuracy: 0.9659 - val_loss: 0.0666 - val_accuracy: 0.9790\n",
      "Epoch 25/30\n",
      "600/600 [==============================] - 5s 9ms/step - loss: 0.1106 - accuracy: 0.9662 - val_loss: 0.0623 - val_accuracy: 0.9814\n",
      "Epoch 26/30\n",
      "600/600 [==============================] - 6s 9ms/step - loss: 0.1115 - accuracy: 0.9668 - val_loss: 0.0609 - val_accuracy: 0.9812\n",
      "Epoch 27/30\n",
      "600/600 [==============================] - 6s 9ms/step - loss: 0.1097 - accuracy: 0.9663 - val_loss: 0.0620 - val_accuracy: 0.9815\n",
      "Epoch 28/30\n",
      "600/600 [==============================] - 6s 9ms/step - loss: 0.1090 - accuracy: 0.9675 - val_loss: 0.0617 - val_accuracy: 0.9830\n",
      "Epoch 29/30\n",
      "600/600 [==============================] - 5s 9ms/step - loss: 0.1065 - accuracy: 0.9675 - val_loss: 0.0610 - val_accuracy: 0.9812\n",
      "Epoch 30/30\n",
      "600/600 [==============================] - 5s 9ms/step - loss: 0.1038 - accuracy: 0.9682 - val_loss: 0.0578 - val_accuracy: 0.9817\n"
     ]
    }
   ],
   "source": [
    "hist = dropout_model.fit(train_dataset, \n",
    "                         epochs=N_EPOCHS+10, \n",
    "                         validation_data=test_dataset)"
   ]
  },
  {
   "cell_type": "code",
   "execution_count": 32,
   "id": "fb4add4f",
   "metadata": {
    "ExecuteTime": {
     "end_time": "2022-03-22T09:48:30.203555Z",
     "start_time": "2022-03-22T09:48:30.018533Z"
    }
   },
   "outputs": [
    {
     "data": {
      "image/png": "[encoded data removed]",
      "text/plain": [
       "<Figure size 576x504 with 1 Axes>"
      ]
     },
     "metadata": {
      "needs_background": "light"
     },
     "output_type": "display_data"
    }
   ],
   "source": [
    "plot_loss(N_EPOCHS+10, hist)"
   ]
  },
  {
   "cell_type": "code",
   "execution_count": 33,
   "id": "34b84d72",
   "metadata": {
    "ExecuteTime": {
     "end_time": "2022-03-22T09:48:33.615205Z",
     "start_time": "2022-03-22T09:48:33.411040Z"
    }
   },
   "outputs": [
    {
     "data": {
      "image/png": "[encoded data removed]",
      "text/plain": [
       "<Figure size 576x504 with 1 Axes>"
      ]
     },
     "metadata": {
      "needs_background": "light"
     },
     "output_type": "display_data"
    }
   ],
   "source": [
    "plot_accuracy(N_EPOCHS+10, hist)"
   ]
  },
  {
   "cell_type": "markdown",
   "id": "44a36091",
   "metadata": {},
   "source": [
    "## Batch Normalization\n",
    "- Dense -> BN -> Activation  순서로 적용\n",
    "> Dense Layer: 가중합 처리(X@W + B)\n",
    "> Dense(units=36) => 36개의 unit을 가지는 Dense Layer를 생성.\n",
    "- layers.BatchNormalization 사용"
   ]
  },
  {
   "cell_type": "code",
   "execution_count": 13,
   "id": "6c42a295",
   "metadata": {},
   "outputs": [
    {
     "data": {
      "text/plain": [
       "<keras.layers.core.activation.Activation at 0x16e2e6f40>"
      ]
     },
     "execution_count": 13,
     "metadata": {},
     "output_type": "execute_result"
    }
   ],
   "source": [
    "layers.Softmax() #softmax\n",
    "layers.Activation('sigmoid') # Logistic(sigmoid)"
   ]
  },
  {
   "cell_type": "code",
   "execution_count": 14,
   "id": "ed2bd929",
   "metadata": {
    "ExecuteTime": {
     "end_time": "2022-03-22T09:51:04.840025Z",
     "start_time": "2022-03-22T09:51:04.821079Z"
    }
   },
   "outputs": [],
   "source": [
    "def create_bn_model():\n",
    "    model = keras.Sequential()\n",
    "    model.add(layers.Flatten(input_shape=(28,28)))\n",
    "    \n",
    "    model.add(layers.Dense(units=256)) #가중합계산\n",
    "    model.add(layers.BatchNormalization()) #Batch Normalization Layer - 평균:0+beta, 표준편차: 1*gamma 의 분포\n",
    "    model.add(layers.ReLU()) #activation Layer: ReLU\n",
    "    \n",
    "    # Dropout같이 사용하는 경우\n",
    "    # Dropout - Dense - BatchNormalization - Activation\n",
    "    model.add(layers.Dropout(0.3))\n",
    "    model.add(layers.Dense(units=128))\n",
    "    model.add(layers.BatchNormalization())\n",
    "    model.add(layers.ReLU())\n",
    "    \n",
    "    # 출력\n",
    "    model.add(layers.Dropout(0.3))\n",
    "    model.add(layers.Dense(units=10))\n",
    "    model.add(layers.BatchNormalization())\n",
    "    model.add(layers.Softmax())\n",
    "    \n",
    "    return model"
   ]
  },
  {
   "cell_type": "code",
   "execution_count": 15,
   "id": "2c08dc66",
   "metadata": {
    "ExecuteTime": {
     "end_time": "2022-03-22T09:51:05.277898Z",
     "start_time": "2022-03-22T09:51:05.142664Z"
    }
   },
   "outputs": [],
   "source": [
    "bn_model = create_bn_model()\n",
    "bn_model.compile(optimizer=keras.optimizers.Adam(learning_rate=LEARNING_RATE),\n",
    "                 loss='categorical_crossentropy',\n",
    "                 metrics=['accuracy'])"
   ]
  },
  {
   "cell_type": "code",
   "execution_count": 16,
   "id": "985b3fa8",
   "metadata": {
    "ExecuteTime": {
     "end_time": "2022-03-22T09:51:06.753296Z",
     "start_time": "2022-03-22T09:51:06.702464Z"
    }
   },
   "outputs": [
    {
     "name": "stdout",
     "output_type": "stream",
     "text": [
      "Model: \"sequential\"\n",
      "_________________________________________________________________\n",
      " Layer (type)                Output Shape              Param #   \n",
      "=================================================================\n",
      " flatten (Flatten)           (None, 784)               0         \n",
      "                                                                 \n",
      " dense (Dense)               (None, 256)               200960    \n",
      "                                                                 \n",
      " batch_normalization (BatchN  (None, 256)              1024      \n",
      " ormalization)                                                   \n",
      "                                                                 \n",
      " re_lu (ReLU)                (None, 256)               0         \n",
      "                                                                 \n",
      " dropout (Dropout)           (None, 256)               0         \n",
      "                                                                 \n",
      " dense_1 (Dense)             (None, 128)               32896     \n",
      "                                                                 \n",
      " batch_normalization_1 (Batc  (None, 128)              512       \n",
      " hNormalization)                                                 \n",
      "                                                                 \n",
      " re_lu_1 (ReLU)              (None, 128)               0         \n",
      "                                                                 \n",
      " dropout_1 (Dropout)         (None, 128)               0         \n",
      "                                                                 \n",
      " dense_2 (Dense)             (None, 10)                1290      \n",
      "                                                                 \n",
      " batch_normalization_2 (Batc  (None, 10)               40        \n",
      " hNormalization)                                                 \n",
      "                                                                 \n",
      " softmax_1 (Softmax)         (None, 10)                0         \n",
      "                                                                 \n",
      "=================================================================\n",
      "Total params: 236,722\n",
      "Trainable params: 235,934\n",
      "Non-trainable params: 788\n",
      "_________________________________________________________________\n"
     ]
    }
   ],
   "source": [
    "bn_model.summary()"
   ]
  },
  {
   "cell_type": "code",
   "execution_count": 17,
   "id": "e8e47c6a",
   "metadata": {
    "ExecuteTime": {
     "end_time": "2022-03-22T09:52:20.227875Z",
     "start_time": "2022-03-22T09:51:07.357647Z"
    },
    "scrolled": false
   },
   "outputs": [
    {
     "name": "stdout",
     "output_type": "stream",
     "text": [
      "Epoch 1/20\n"
     ]
    },
    {
     "name": "stderr",
     "output_type": "stream",
     "text": [
      "2022-07-15 10:31:43.719242: W tensorflow/core/platform/profile_utils/cpu_utils.cc:128] Failed to get CPU frequency: 0 Hz\n",
      "2022-07-15 10:31:43.719408: I tensorflow/core/grappler/optimizers/custom_graph_optimizer_registry.cc:113] Plugin optimizer for device_type GPU is enabled.\n"
     ]
    },
    {
     "name": "stdout",
     "output_type": "stream",
     "text": [
      "596/600 [============================>.] - ETA: 0s - loss: 0.5595 - accuracy: 0.8965"
     ]
    },
    {
     "name": "stderr",
     "output_type": "stream",
     "text": [
      "2022-07-15 10:31:50.071422: I tensorflow/core/grappler/optimizers/custom_graph_optimizer_registry.cc:113] Plugin optimizer for device_type GPU is enabled.\n"
     ]
    },
    {
     "name": "stdout",
     "output_type": "stream",
     "text": [
      "600/600 [==============================] - 7s 11ms/step - loss: 0.5580 - accuracy: 0.8967 - val_loss: 0.2771 - val_accuracy: 0.9587\n",
      "Epoch 2/20\n",
      "600/600 [==============================] - 7s 11ms/step - loss: 0.2605 - accuracy: 0.9498 - val_loss: 0.1534 - val_accuracy: 0.9717\n",
      "Epoch 3/20\n",
      "600/600 [==============================] - 7s 11ms/step - loss: 0.1768 - accuracy: 0.9635 - val_loss: 0.1133 - val_accuracy: 0.9741\n",
      "Epoch 4/20\n",
      "600/600 [==============================] - 7s 11ms/step - loss: 0.1359 - accuracy: 0.9687 - val_loss: 0.0939 - val_accuracy: 0.9771\n",
      "Epoch 5/20\n",
      "600/600 [==============================] - 7s 11ms/step - loss: 0.1115 - accuracy: 0.9735 - val_loss: 0.0800 - val_accuracy: 0.9785\n",
      "Epoch 6/20\n",
      "600/600 [==============================] - 7s 11ms/step - loss: 0.0925 - accuracy: 0.9778 - val_loss: 0.0729 - val_accuracy: 0.9791\n",
      "Epoch 7/20\n",
      "600/600 [==============================] - 7s 11ms/step - loss: 0.0833 - accuracy: 0.9790 - val_loss: 0.0669 - val_accuracy: 0.9813\n",
      "Epoch 8/20\n",
      "600/600 [==============================] - 7s 11ms/step - loss: 0.0737 - accuracy: 0.9803 - val_loss: 0.0621 - val_accuracy: 0.9817\n",
      "Epoch 9/20\n",
      "600/600 [==============================] - 7s 11ms/step - loss: 0.0634 - accuracy: 0.9828 - val_loss: 0.0603 - val_accuracy: 0.9811\n",
      "Epoch 10/20\n",
      "600/600 [==============================] - 7s 11ms/step - loss: 0.0596 - accuracy: 0.9838 - val_loss: 0.0629 - val_accuracy: 0.9808\n",
      "Epoch 11/20\n",
      "600/600 [==============================] - 7s 11ms/step - loss: 0.0532 - accuracy: 0.9856 - val_loss: 0.0544 - val_accuracy: 0.9843\n",
      "Epoch 12/20\n",
      "600/600 [==============================] - 7s 11ms/step - loss: 0.0517 - accuracy: 0.9856 - val_loss: 0.0566 - val_accuracy: 0.9816\n",
      "Epoch 13/20\n",
      "600/600 [==============================] - 7s 11ms/step - loss: 0.0477 - accuracy: 0.9859 - val_loss: 0.0540 - val_accuracy: 0.9825\n",
      "Epoch 14/20\n",
      "600/600 [==============================] - 7s 11ms/step - loss: 0.0441 - accuracy: 0.9870 - val_loss: 0.0559 - val_accuracy: 0.9830\n",
      "Epoch 15/20\n",
      "600/600 [==============================] - 7s 11ms/step - loss: 0.0421 - accuracy: 0.9878 - val_loss: 0.0517 - val_accuracy: 0.9834\n",
      "Epoch 16/20\n",
      "600/600 [==============================] - 7s 11ms/step - loss: 0.0405 - accuracy: 0.9881 - val_loss: 0.0517 - val_accuracy: 0.9832\n",
      "Epoch 17/20\n",
      "600/600 [==============================] - 7s 11ms/step - loss: 0.0367 - accuracy: 0.9894 - val_loss: 0.0530 - val_accuracy: 0.9839\n",
      "Epoch 18/20\n",
      "600/600 [==============================] - 7s 11ms/step - loss: 0.0341 - accuracy: 0.9900 - val_loss: 0.0499 - val_accuracy: 0.9843\n",
      "Epoch 19/20\n",
      "600/600 [==============================] - 7s 11ms/step - loss: 0.0348 - accuracy: 0.9900 - val_loss: 0.0489 - val_accuracy: 0.9852\n",
      "Epoch 20/20\n",
      "600/600 [==============================] - 7s 11ms/step - loss: 0.0320 - accuracy: 0.9908 - val_loss: 0.0531 - val_accuracy: 0.9832\n"
     ]
    }
   ],
   "source": [
    "hist = bn_model.fit(train_dataset, epochs=N_EPOCHS,\n",
    "                    validation_data=test_dataset)"
   ]
  },
  {
   "cell_type": "code",
   "execution_count": 18,
   "id": "ddb7d2f1",
   "metadata": {
    "ExecuteTime": {
     "end_time": "2022-03-22T09:52:20.435326Z",
     "start_time": "2022-03-22T09:52:20.233866Z"
    }
   },
   "outputs": [
    {
     "data": {
      "image/png": "[encoded data removed]",
      "text/plain": [
       "<Figure size 576x504 with 1 Axes>"
      ]
     },
     "metadata": {
      "needs_background": "light"
     },
     "output_type": "display_data"
    }
   ],
   "source": [
    "plot_loss(N_EPOCHS, hist)"
   ]
  },
  {
   "cell_type": "code",
   "execution_count": 19,
   "id": "ec27d371",
   "metadata": {
    "ExecuteTime": {
     "end_time": "2022-03-22T09:52:20.864539Z",
     "start_time": "2022-03-22T09:52:20.439318Z"
    }
   },
   "outputs": [
    {
     "data": {
      "image/png": "[encoded data removed]",
      "text/plain": [
       "<Figure size 576x504 with 1 Axes>"
      ]
     },
     "metadata": {
      "needs_background": "light"
     },
     "output_type": "display_data"
    }
   ],
   "source": [
    "plot_accuracy(N_EPOCHS, hist)"
   ]
  },
  {
   "cell_type": "markdown",
   "id": "bc2a0238",
   "metadata": {},
   "source": [
    "## Learning Rate 조정을 이용한 성능향상\n",
    "\n",
    "### Learning Rate Decay\n",
    "- 일정한 step마다 Learning rate를 조정"
   ]
  },
  {
   "cell_type": "code",
   "execution_count": 20,
   "id": "a94d11a0",
   "metadata": {
    "ExecuteTime": {
     "end_time": "2022-03-22T09:52:20.880505Z",
     "start_time": "2022-03-22T09:52:20.868490Z"
    }
   },
   "outputs": [],
   "source": [
    "def create_model():\n",
    "    model = keras.Sequential()\n",
    "    model.add(layers.Flatten(input_shape=(28,28)))\n",
    "    model.add(layers.Dense(units=256, activation='relu'))\n",
    "    model.add(layers.Dense(units=128, activation='relu'))\n",
    "    model.add(layers.Dense(units=128, activation='relu'))\n",
    "    model.add(layers.Dense(units=10, activation='softmax'))\n",
    "    return model"
   ]
  },
  {
   "cell_type": "code",
   "execution_count": 21,
   "id": "45647cf1",
   "metadata": {
    "ExecuteTime": {
     "end_time": "2022-03-22T09:52:20.944209Z",
     "start_time": "2022-03-22T09:52:20.882501Z"
    }
   },
   "outputs": [],
   "source": [
    "model = create_model()"
   ]
  },
  {
   "cell_type": "code",
   "execution_count": 22,
   "id": "d35e5578",
   "metadata": {
    "ExecuteTime": {
     "end_time": "2022-03-22T09:52:20.976162Z",
     "start_time": "2022-03-22T09:52:20.951196Z"
    }
   },
   "outputs": [
    {
     "data": {
      "text/plain": [
       "6000"
      ]
     },
     "execution_count": 22,
     "metadata": {},
     "output_type": "execute_result"
    }
   ],
   "source": [
    "len(train_dataset)*10  #10에폭의 step수"
   ]
  },
  {
   "cell_type": "code",
   "execution_count": 23,
   "id": "7a0e5fbe",
   "metadata": {
    "ExecuteTime": {
     "end_time": "2022-03-22T09:52:20.992130Z",
     "start_time": "2022-03-22T09:52:20.980117Z"
    }
   },
   "outputs": [],
   "source": [
    "lr_scheduler = keras.optimizers.schedules.ExponentialDecay(\n",
    "                    initial_learning_rate=LEARNING_RATE,\n",
    "                    decay_steps=len(train_dataset)*5,\n",
    "                    decay_rate=0.2,\n",
    "                    staircase=True,\n",
    "                    )"
   ]
  },
  {
   "cell_type": "code",
   "execution_count": 24,
   "id": "c98b4792",
   "metadata": {
    "ExecuteTime": {
     "end_time": "2022-03-22T09:52:21.023828Z",
     "start_time": "2022-03-22T09:52:20.998071Z"
    }
   },
   "outputs": [],
   "source": [
    "model.compile(optimizer=keras.optimizers.Adam(learning_rate=lr_scheduler),\n",
    "              loss='categorical_crossentropy',\n",
    "              metrics=['accuracy'])"
   ]
  },
  {
   "cell_type": "code",
   "execution_count": 25,
   "id": "8eef85b0",
   "metadata": {
    "ExecuteTime": {
     "end_time": "2022-03-22T09:53:19.041070Z",
     "start_time": "2022-03-22T09:52:21.030816Z"
    },
    "scrolled": false
   },
   "outputs": [
    {
     "name": "stdout",
     "output_type": "stream",
     "text": [
      "Epoch 1/20\n",
      "  1/600 [..............................] - ETA: 3:11 - loss: 2.2813 - accuracy: 0.1300"
     ]
    },
    {
     "name": "stderr",
     "output_type": "stream",
     "text": [
      "2022-07-15 11:50:02.583121: I tensorflow/core/grappler/optimizers/custom_graph_optimizer_registry.cc:113] Plugin optimizer for device_type GPU is enabled.\n"
     ]
    },
    {
     "name": "stdout",
     "output_type": "stream",
     "text": [
      "596/600 [============================>.] - ETA: 0s - loss: 0.2536 - accuracy: 0.9249"
     ]
    },
    {
     "name": "stderr",
     "output_type": "stream",
     "text": [
      "2022-07-15 11:50:06.786904: I tensorflow/core/grappler/optimizers/custom_graph_optimizer_registry.cc:113] Plugin optimizer for device_type GPU is enabled.\n"
     ]
    },
    {
     "name": "stdout",
     "output_type": "stream",
     "text": [
      "600/600 [==============================] - 5s 8ms/step - loss: 0.2526 - accuracy: 0.9252 - val_loss: 0.1134 - val_accuracy: 0.9643\n",
      "Epoch 2/20\n",
      "600/600 [==============================] - 5s 8ms/step - loss: 0.0925 - accuracy: 0.9711 - val_loss: 0.0998 - val_accuracy: 0.9693\n",
      "Epoch 3/20\n",
      "600/600 [==============================] - 5s 8ms/step - loss: 0.0639 - accuracy: 0.9797 - val_loss: 0.0829 - val_accuracy: 0.9738\n",
      "Epoch 4/20\n",
      "600/600 [==============================] - 5s 7ms/step - loss: 0.0472 - accuracy: 0.9845 - val_loss: 0.0739 - val_accuracy: 0.9765\n",
      "Epoch 5/20\n",
      "600/600 [==============================] - 4s 7ms/step - loss: 0.0366 - accuracy: 0.9885 - val_loss: 0.0802 - val_accuracy: 0.9776\n",
      "Epoch 6/20\n",
      "600/600 [==============================] - 4s 7ms/step - loss: 0.0131 - accuracy: 0.9962 - val_loss: 0.0584 - val_accuracy: 0.9837\n",
      "Epoch 7/20\n",
      "600/600 [==============================] - 4s 7ms/step - loss: 0.0080 - accuracy: 0.9981 - val_loss: 0.0600 - val_accuracy: 0.9833\n",
      "Epoch 8/20\n",
      "600/600 [==============================] - 4s 7ms/step - loss: 0.0058 - accuracy: 0.9988 - val_loss: 0.0600 - val_accuracy: 0.9834\n",
      "Epoch 9/20\n",
      "600/600 [==============================] - 4s 7ms/step - loss: 0.0042 - accuracy: 0.9994 - val_loss: 0.0614 - val_accuracy: 0.9833\n",
      "Epoch 10/20\n",
      "600/600 [==============================] - 4s 7ms/step - loss: 0.0033 - accuracy: 0.9994 - val_loss: 0.0684 - val_accuracy: 0.9822\n",
      "Epoch 11/20\n",
      "600/600 [==============================] - 4s 7ms/step - loss: 0.0021 - accuracy: 0.9998 - val_loss: 0.0638 - val_accuracy: 0.9833\n",
      "Epoch 12/20\n",
      "600/600 [==============================] - 4s 7ms/step - loss: 0.0015 - accuracy: 0.9999 - val_loss: 0.0647 - val_accuracy: 0.9835\n",
      "Epoch 13/20\n",
      "600/600 [==============================] - 4s 7ms/step - loss: 0.0013 - accuracy: 0.9999 - val_loss: 0.0656 - val_accuracy: 0.9837\n",
      "Epoch 14/20\n",
      "600/600 [==============================] - 4s 7ms/step - loss: 0.0011 - accuracy: 0.9999 - val_loss: 0.0661 - val_accuracy: 0.9840\n",
      "Epoch 15/20\n",
      "600/600 [==============================] - 4s 7ms/step - loss: 0.0010 - accuracy: 1.0000 - val_loss: 0.0660 - val_accuracy: 0.9840\n",
      "Epoch 16/20\n",
      "600/600 [==============================] - 4s 7ms/step - loss: 8.1344e-04 - accuracy: 1.0000 - val_loss: 0.0667 - val_accuracy: 0.9840\n",
      "Epoch 17/20\n",
      "600/600 [==============================] - 4s 7ms/step - loss: 7.8115e-04 - accuracy: 1.0000 - val_loss: 0.0671 - val_accuracy: 0.9842\n",
      "Epoch 18/20\n",
      "600/600 [==============================] - 4s 7ms/step - loss: 7.5198e-04 - accuracy: 1.0000 - val_loss: 0.0679 - val_accuracy: 0.9840\n",
      "Epoch 19/20\n",
      "600/600 [==============================] - 4s 7ms/step - loss: 7.2537e-04 - accuracy: 1.0000 - val_loss: 0.0681 - val_accuracy: 0.9839\n",
      "Epoch 20/20\n",
      "600/600 [==============================] - 4s 7ms/step - loss: 6.9440e-04 - accuracy: 1.0000 - val_loss: 0.0685 - val_accuracy: 0.9841\n"
     ]
    }
   ],
   "source": [
    "hist = model.fit(train_dataset, \n",
    "                 epochs=N_EPOCHS, \n",
    "                 validation_data=test_dataset)"
   ]
  },
  {
   "cell_type": "code",
   "execution_count": 26,
   "id": "38346a6a",
   "metadata": {
    "ExecuteTime": {
     "end_time": "2022-03-22T09:53:19.230572Z",
     "start_time": "2022-03-22T09:53:19.049041Z"
    }
   },
   "outputs": [
    {
     "data": {
      "image/png": "[encoded data removed]",
      "text/plain": [
       "<Figure size 576x504 with 1 Axes>"
      ]
     },
     "metadata": {
      "needs_background": "light"
     },
     "output_type": "display_data"
    }
   ],
   "source": [
    "plot_loss(N_EPOCHS, hist)"
   ]
  },
  {
   "cell_type": "markdown",
   "id": "0397c696",
   "metadata": {},
   "source": [
    "### Callback 을 이용한 학습률 조정\n",
    "- ReduceLROnPlateau callback을 이용\n",
    "    - 학습시 성능이 개선이 안되는 경우 LR를 조정"
   ]
  },
  {
   "cell_type": "code",
   "execution_count": 27,
   "id": "4fc5c1d5",
   "metadata": {
    "ExecuteTime": {
     "end_time": "2022-03-22T09:53:19.309470Z",
     "start_time": "2022-03-22T09:53:19.233606Z"
    }
   },
   "outputs": [],
   "source": [
    "model = create_model()\n",
    "model.compile(optimizer=keras.optimizers.Adam(learning_rate=LEARNING_RATE),\n",
    "              loss='categorical_crossentropy',\n",
    "              metrics=['accuracy'])"
   ]
  },
  {
   "cell_type": "code",
   "execution_count": 28,
   "id": "7a0d0557",
   "metadata": {
    "ExecuteTime": {
     "end_time": "2022-03-22T09:53:19.325412Z",
     "start_time": "2022-03-22T09:53:19.314454Z"
    }
   },
   "outputs": [],
   "source": [
    "from keras.callbacks import ReduceLROnPlateau, EarlyStopping, ModelCheckpoint\n",
    "\n",
    "lr_cb = ReduceLROnPlateau(monitor='val_loss',\n",
    "                          factor=0.2,\n",
    "                          patience=3,\n",
    "                          verbose=2) "
   ]
  },
  {
   "cell_type": "code",
   "execution_count": 29,
   "id": "5d4a97e1",
   "metadata": {
    "ExecuteTime": {
     "end_time": "2022-03-22T09:53:52.179369Z",
     "start_time": "2022-03-22T09:53:19.329365Z"
    },
    "scrolled": false
   },
   "outputs": [
    {
     "name": "stdout",
     "output_type": "stream",
     "text": [
      "Epoch 1/20\n",
      " 17/600 [..............................] - ETA: 3s - loss: 1.6259 - accuracy: 0.5259"
     ]
    },
    {
     "name": "stderr",
     "output_type": "stream",
     "text": [
      "2022-07-15 12:22:40.655390: I tensorflow/core/grappler/optimizers/custom_graph_optimizer_registry.cc:113] Plugin optimizer for device_type GPU is enabled.\n"
     ]
    },
    {
     "name": "stdout",
     "output_type": "stream",
     "text": [
      "593/600 [============================>.] - ETA: 0s - loss: 0.2549 - accuracy: 0.9249"
     ]
    },
    {
     "name": "stderr",
     "output_type": "stream",
     "text": [
      "2022-07-15 12:22:44.725221: I tensorflow/core/grappler/optimizers/custom_graph_optimizer_registry.cc:113] Plugin optimizer for device_type GPU is enabled.\n"
     ]
    },
    {
     "name": "stdout",
     "output_type": "stream",
     "text": [
      "600/600 [==============================] - 5s 7ms/step - loss: 0.2532 - accuracy: 0.9253 - val_loss: 0.1147 - val_accuracy: 0.9621 - lr: 0.0010\n",
      "Epoch 2/20\n",
      "600/600 [==============================] - 4s 7ms/step - loss: 0.0957 - accuracy: 0.9711 - val_loss: 0.0941 - val_accuracy: 0.9685 - lr: 0.0010\n",
      "Epoch 3/20\n",
      "600/600 [==============================] - 4s 7ms/step - loss: 0.0618 - accuracy: 0.9809 - val_loss: 0.0740 - val_accuracy: 0.9765 - lr: 0.0010\n",
      "Epoch 4/20\n",
      "600/600 [==============================] - 4s 7ms/step - loss: 0.0455 - accuracy: 0.9853 - val_loss: 0.0736 - val_accuracy: 0.9766 - lr: 0.0010\n",
      "Epoch 5/20\n",
      "600/600 [==============================] - 5s 8ms/step - loss: 0.0374 - accuracy: 0.9882 - val_loss: 0.0933 - val_accuracy: 0.9719 - lr: 0.0010\n",
      "Epoch 6/20\n",
      "600/600 [==============================] - 5s 8ms/step - loss: 0.0312 - accuracy: 0.9895 - val_loss: 0.0785 - val_accuracy: 0.9783 - lr: 0.0010\n",
      "Epoch 7/20\n",
      "596/600 [============================>.] - ETA: 0s - loss: 0.0249 - accuracy: 0.9918\n",
      "Epoch 7: ReduceLROnPlateau reducing learning rate to 0.00020000000949949026.\n",
      "600/600 [==============================] - 5s 8ms/step - loss: 0.0251 - accuracy: 0.9918 - val_loss: 0.0746 - val_accuracy: 0.9799 - lr: 0.0010\n",
      "Epoch 8/20\n",
      "600/600 [==============================] - 4s 7ms/step - loss: 0.0075 - accuracy: 0.9981 - val_loss: 0.0638 - val_accuracy: 0.9830 - lr: 2.0000e-04\n",
      "Epoch 9/20\n",
      "600/600 [==============================] - 4s 7ms/step - loss: 0.0034 - accuracy: 0.9994 - val_loss: 0.0661 - val_accuracy: 0.9829 - lr: 2.0000e-04\n",
      "Epoch 10/20\n",
      "600/600 [==============================] - 4s 7ms/step - loss: 0.0023 - accuracy: 0.9997 - val_loss: 0.0656 - val_accuracy: 0.9830 - lr: 2.0000e-04\n",
      "Epoch 11/20\n",
      "593/600 [============================>.] - ETA: 0s - loss: 0.0017 - accuracy: 0.9998\n",
      "Epoch 11: ReduceLROnPlateau reducing learning rate to 4.0000001899898055e-05.\n",
      "600/600 [==============================] - 5s 8ms/step - loss: 0.0017 - accuracy: 0.9998 - val_loss: 0.0719 - val_accuracy: 0.9835 - lr: 2.0000e-04\n",
      "Epoch 12/20\n",
      "600/600 [==============================] - 5s 7ms/step - loss: 0.0010 - accuracy: 0.9999 - val_loss: 0.0707 - val_accuracy: 0.9839 - lr: 4.0000e-05\n",
      "Epoch 13/20\n",
      "600/600 [==============================] - 4s 7ms/step - loss: 8.4040e-04 - accuracy: 1.0000 - val_loss: 0.0706 - val_accuracy: 0.9837 - lr: 4.0000e-05\n",
      "Epoch 14/20\n",
      "597/600 [============================>.] - ETA: 0s - loss: 7.4267e-04 - accuracy: 1.0000\n",
      "Epoch 14: ReduceLROnPlateau reducing learning rate to 8.000000525498762e-06.\n",
      "600/600 [==============================] - 4s 7ms/step - loss: 7.4184e-04 - accuracy: 1.0000 - val_loss: 0.0715 - val_accuracy: 0.9838 - lr: 4.0000e-05\n",
      "Epoch 15/20\n",
      "600/600 [==============================] - 5s 8ms/step - loss: 6.3477e-04 - accuracy: 1.0000 - val_loss: 0.0717 - val_accuracy: 0.9838 - lr: 8.0000e-06\n",
      "Epoch 16/20\n",
      "600/600 [==============================] - 4s 7ms/step - loss: 6.1758e-04 - accuracy: 1.0000 - val_loss: 0.0719 - val_accuracy: 0.9838 - lr: 8.0000e-06\n",
      "Epoch 17/20\n",
      "597/600 [============================>.] - ETA: 0s - loss: 5.9799e-04 - accuracy: 1.0000\n",
      "Epoch 17: ReduceLROnPlateau reducing learning rate to 1.6000001778593287e-06.\n",
      "600/600 [==============================] - 4s 7ms/step - loss: 5.9669e-04 - accuracy: 1.0000 - val_loss: 0.0723 - val_accuracy: 0.9836 - lr: 8.0000e-06\n",
      "Epoch 18/20\n",
      "600/600 [==============================] - 4s 7ms/step - loss: 5.6609e-04 - accuracy: 1.0000 - val_loss: 0.0724 - val_accuracy: 0.9837 - lr: 1.6000e-06\n",
      "Epoch 19/20\n",
      "600/600 [==============================] - 5s 8ms/step - loss: 5.6045e-04 - accuracy: 1.0000 - val_loss: 0.0725 - val_accuracy: 0.9837 - lr: 1.6000e-06\n",
      "Epoch 20/20\n",
      "594/600 [============================>.] - ETA: 0s - loss: 5.5463e-04 - accuracy: 1.0000\n",
      "Epoch 20: ReduceLROnPlateau reducing learning rate to 3.200000264769187e-07.\n",
      "600/600 [==============================] - 4s 7ms/step - loss: 5.5435e-04 - accuracy: 1.0000 - val_loss: 0.0726 - val_accuracy: 0.9837 - lr: 1.6000e-06\n"
     ]
    }
   ],
   "source": [
    "hist = model.fit(train_dataset, epochs=N_EPOCHS, \n",
    "                 validation_data=test_dataset,\n",
    "                 callbacks=[lr_cb])"
   ]
  },
  {
   "cell_type": "code",
   "execution_count": null,
   "id": "8f4ea051",
   "metadata": {},
   "outputs": [],
   "source": []
  },
  {
   "cell_type": "code",
   "execution_count": null,
   "id": "7fce70b4",
   "metadata": {},
   "outputs": [],
   "source": []
  },
  {
   "cell_type": "code",
   "execution_count": null,
   "id": "82cb2c1a",
   "metadata": {},
   "outputs": [],
   "source": []
  },
  {
   "cell_type": "code",
   "execution_count": null,
   "id": "85527d07",
   "metadata": {},
   "outputs": [],
   "source": []
  }
 ],
 "metadata": {
  "kernelspec": {
   "display_name": "Python 3 (ipykernel)",
   "language": "python",
   "name": "python3"
  },
  "language_info": {
   "codemirror_mode": {
    "name": "ipython",
    "version": 3
   },
   "file_extension": ".py",
   "mimetype": "text/x-python",
   "name": "python",
   "nbconvert_exporter": "python",
   "pygments_lexer": "ipython3",
   "version": "3.8.13"
  },
  "toc": {
   "base_numbering": 1,
   "nav_menu": {},
   "number_sections": false,
   "sideBar": true,
   "skip_h1_title": false,
   "title_cell": "Table of Contents",
   "title_sidebar": "Contents",
   "toc_cell": false,
   "toc_position": {},
   "toc_section_display": true,
   "toc_window_display": false
  },
  "varInspector": {
   "cols": {
    "lenName": 16,
    "lenType": 16,
    "lenVar": 40
   },
   "kernels_config": {
    "python": {
     "delete_cmd_postfix": "",
     "delete_cmd_prefix": "del ",
     "library": "var_list.py",
     "varRefreshCmd": "print(var_dic_list())"
    },
    "r": {
     "delete_cmd_postfix": ") ",
     "delete_cmd_prefix": "rm(",
     "library": "var_list.r",
     "varRefreshCmd": "cat(var_dic_list()) "
    }
   },
   "types_to_exclude": [
    "module",
    "function",
    "builtin_function_or_method",
    "instance",
    "_Feature"
   ],
   "window_display": false
  }
 },
 "nbformat": 4,
 "nbformat_minor": 5
}
