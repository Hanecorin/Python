{
 "cells": [
  {
   "cell_type": "markdown",
   "metadata": {},
   "source": [
    "# 배열을 파일에 저장 및 불러오기\n",
    "- ## 바이너리 파일로 저장/불러오기\n",
    "    - ### np.save(\"파일경로\", 배열)\n",
    "        - 배열을 raw 바이너리 형식으로 저장한다. (압축하지 않은)\n",
    "        - 파일명에 확장자로 npy를 붙인다. (무조건 붙인다. abc.xxx 해도 abc.xxx.npy 로 저장)\n",
    "    - ### np.load(\"파일경로\") \n",
    "        - 파일에 저장된 배열을 불러온다.\n",
    "    - ### np.savez(\"파일경로\", 이름=배열, 이름=배열, ...)\n",
    "        - 여러개의 배열을 저장할 때 사용\n",
    "        - 파일명에 확장자로 npz가 붙는다.\n",
    "        - 내부적으로 압축해서 저장한다.\n",
    "        - load() 함수로 불러오면 저장된 배열목록이 반환 된다. 저장시 지정한 이름을 이용해 조회 \n",
    "- ## 텍스트 파일로 저장하고 불러오기\n",
    "    - ### savetxt(\"파일경로\", 배열 [, delimiter='공백') \n",
    "        - 텍스트 형태로 저장.\n",
    "        - 각 원소는 공백을 기준으로 나뉘며 delimiter 속성으로 구분자를 지정할 수 있다. (delimiter생략시 공백)\n",
    "        - 1차원과 2차원 배열만 저장 가능하다. (3차원 이상은 저장이 안된다.)\n",
    "    - ### loadtxt(\"파일경로\" [,dtype=float, delimiter=공백)"
   ]
  },
  {
   "cell_type": "code",
   "execution_count": 2,
   "metadata": {},
   "outputs": [
    {
     "name": "stdout",
     "output_type": "stream",
     "text": [
      "(5,) (3, 4, 2) (5, 10)\n"
     ]
    }
   ],
   "source": [
    "import numpy as np\n",
    "\n",
    "a = np.array([1,5,8,9,10]) #1차원\n",
    "b = np.ones(shape=(3,4,2)) #3차원\n",
    "c = np.random.normal(size=(5,10)) # 2차원\n",
    "\n",
    "print(a.shape,b.shape,c.shape)"
   ]
  },
  {
   "cell_type": "code",
   "execution_count": 5,
   "metadata": {},
   "outputs": [],
   "source": [
    "# 저장 - binary 형식으로 저장\n",
    "import os\n",
    "#저장할 디렉토리가 없으면 만들어라.\n",
    "save_dir = 'save_data'\n",
    "if not os.path.isdir(save_dir): #save_data 디렉토리가 있는지 여부확인 - 디렉토리가 없으면\n",
    "    os.mkdir(save_dir) # 디렉토리 생성.\n",
    "np.save(\"save_data/a\",a) #a배열을 save_data/a.npy 파일에 저장"
   ]
  },
  {
   "cell_type": "code",
   "execution_count": 6,
   "metadata": {},
   "outputs": [],
   "source": [
    "np.save('save_data/b',b)\n",
    "np.save('save_data/c',c)"
   ]
  },
  {
   "cell_type": "code",
   "execution_count": 8,
   "metadata": {},
   "outputs": [
    {
     "name": "stdout",
     "output_type": "stream",
     "text": [
      "(5,)\n"
     ]
    },
    {
     "data": {
      "text/plain": [
       "array([ 1,  5,  8,  9, 10])"
      ]
     },
     "execution_count": 8,
     "metadata": {},
     "output_type": "execute_result"
    }
   ],
   "source": [
    "#binary 로 저장된 배열을 불러오기\n",
    "a2 = np.load('save_data/a.npy')\n",
    "print(a2.shape)\n",
    "a2"
   ]
  },
  {
   "cell_type": "code",
   "execution_count": 10,
   "metadata": {},
   "outputs": [
    {
     "name": "stdout",
     "output_type": "stream",
     "text": [
      "(3, 4, 2)\n"
     ]
    },
    {
     "data": {
      "text/plain": [
       "array([[[1., 1.],\n",
       "        [1., 1.],\n",
       "        [1., 1.],\n",
       "        [1., 1.]],\n",
       "\n",
       "       [[1., 1.],\n",
       "        [1., 1.],\n",
       "        [1., 1.],\n",
       "        [1., 1.]],\n",
       "\n",
       "       [[1., 1.],\n",
       "        [1., 1.],\n",
       "        [1., 1.],\n",
       "        [1., 1.]]])"
      ]
     },
     "execution_count": 10,
     "metadata": {},
     "output_type": "execute_result"
    }
   ],
   "source": [
    "b2 = np.load('save_data/b.npy')\n",
    "print(b2.shape)\n",
    "b2"
   ]
  },
  {
   "cell_type": "code",
   "execution_count": 11,
   "metadata": {},
   "outputs": [
    {
     "name": "stdout",
     "output_type": "stream",
     "text": [
      "(5, 10)\n"
     ]
    },
    {
     "data": {
      "text/plain": [
       "array([[ 0.5793161 , -0.8568769 , -0.38669086,  0.95293131, -1.84663023,\n",
       "        -1.4343885 , -0.90870299,  0.84631124, -1.46766866, -1.27941433],\n",
       "       [-1.4423108 ,  0.02825216, -0.1555076 , -0.99762964, -0.74473928,\n",
       "         0.58845461, -0.31737627, -1.3659086 , -0.94990046,  0.55619625],\n",
       "       [ 1.02573556, -0.28290789, -0.81719981,  0.62184495, -1.10009356,\n",
       "         1.19727401, -0.66305228, -0.73511746,  0.06524503,  0.46659259],\n",
       "       [-1.46001598,  0.3833    ,  0.92902915, -0.70496065, -1.67430539,\n",
       "        -1.36621823, -2.19808213,  0.86302435, -0.46906068, -1.43744676],\n",
       "       [ 1.81884538,  1.59591718,  0.24204996, -0.10700955, -0.87447706,\n",
       "         1.16493187, -0.28370816,  0.06062419, -0.67440202,  0.92814157]])"
      ]
     },
     "execution_count": 11,
     "metadata": {},
     "output_type": "execute_result"
    }
   ],
   "source": [
    "c2 = np.load('save_data/c.npy')\n",
    "print(c2.shape)\n",
    "c2"
   ]
  },
  {
   "cell_type": "code",
   "execution_count": 12,
   "metadata": {},
   "outputs": [],
   "source": [
    "# 세개의 배열을 한파일에 저장(N개를 한파일에 저장)\n",
    "np.savez('save_data/all',arr_a=a, arr_b=b, arr_c=c)"
   ]
  },
  {
   "cell_type": "code",
   "execution_count": 14,
   "metadata": {},
   "outputs": [
    {
     "data": {
      "text/plain": [
       "<numpy.lib.npyio.NpzFile at 0x7fa690c994f0>"
      ]
     },
     "execution_count": 14,
     "metadata": {},
     "output_type": "execute_result"
    }
   ],
   "source": [
    "# npz파일 읽어오기 -> load()\n",
    "arr_all = np.load('save_data/all.npz')\n",
    "arr_all"
   ]
  },
  {
   "cell_type": "code",
   "execution_count": 15,
   "metadata": {},
   "outputs": [
    {
     "data": {
      "text/plain": [
       "['arr_a', 'arr_b', 'arr_c']"
      ]
     },
     "execution_count": 15,
     "metadata": {},
     "output_type": "execute_result"
    }
   ],
   "source": [
    "#저장할때 지정한 이름 조회\n",
    "arr_all.files"
   ]
  },
  {
   "cell_type": "code",
   "execution_count": 16,
   "metadata": {},
   "outputs": [],
   "source": [
    "a3 = arr_all['arr_a']\n",
    "b3 = arr_all['arr_b']\n",
    "c3 = arr_all['arr_c']"
   ]
  },
  {
   "cell_type": "code",
   "execution_count": 17,
   "metadata": {},
   "outputs": [
    {
     "data": {
      "text/plain": [
       "array([ 1,  5,  8,  9, 10])"
      ]
     },
     "execution_count": 17,
     "metadata": {},
     "output_type": "execute_result"
    }
   ],
   "source": [
    "a3"
   ]
  },
  {
   "cell_type": "code",
   "execution_count": 18,
   "metadata": {},
   "outputs": [],
   "source": [
    "#텍스트파일로 저장 => 1차원, 2차원 배열만 가능\n",
    "np.savetxt(\"save_data/a_txt.csv\",a,delimiter=',')"
   ]
  },
  {
   "cell_type": "code",
   "execution_count": 22,
   "metadata": {},
   "outputs": [],
   "source": [
    "np.savetxt('save_data/c.csv',c)"
   ]
  },
  {
   "cell_type": "code",
   "execution_count": 23,
   "metadata": {},
   "outputs": [],
   "source": [
    "np.savetxt('save_data/c_2.csv',c,delimiter=',')"
   ]
  },
  {
   "cell_type": "code",
   "execution_count": 24,
   "metadata": {},
   "outputs": [
    {
     "data": {
      "text/plain": [
       "array([[ 0.5793161 , -0.8568769 , -0.38669086,  0.95293131, -1.84663023,\n",
       "        -1.4343885 , -0.90870299,  0.84631124, -1.46766866, -1.27941433],\n",
       "       [-1.4423108 ,  0.02825216, -0.1555076 , -0.99762964, -0.74473928,\n",
       "         0.58845461, -0.31737627, -1.3659086 , -0.94990046,  0.55619625],\n",
       "       [ 1.02573556, -0.28290789, -0.81719981,  0.62184495, -1.10009356,\n",
       "         1.19727401, -0.66305228, -0.73511746,  0.06524503,  0.46659259],\n",
       "       [-1.46001598,  0.3833    ,  0.92902915, -0.70496065, -1.67430539,\n",
       "        -1.36621823, -2.19808213,  0.86302435, -0.46906068, -1.43744676],\n",
       "       [ 1.81884538,  1.59591718,  0.24204996, -0.10700955, -0.87447706,\n",
       "         1.16493187, -0.28370816,  0.06062419, -0.67440202,  0.92814157]])"
      ]
     },
     "execution_count": 24,
     "metadata": {},
     "output_type": "execute_result"
    }
   ],
   "source": [
    "c4 = np.loadtxt('save_data/c.csv')\n",
    "c4.shape\n",
    "c4"
   ]
  },
  {
   "cell_type": "code",
   "execution_count": 27,
   "metadata": {},
   "outputs": [
    {
     "data": {
      "text/plain": [
       "array([[ 0.5793161 , -0.8568769 , -0.38669086,  0.95293131, -1.84663023,\n",
       "        -1.4343885 , -0.90870299,  0.84631124, -1.46766866, -1.27941433],\n",
       "       [-1.4423108 ,  0.02825216, -0.1555076 , -0.99762964, -0.74473928,\n",
       "         0.58845461, -0.31737627, -1.3659086 , -0.94990046,  0.55619625],\n",
       "       [ 1.02573556, -0.28290789, -0.81719981,  0.62184495, -1.10009356,\n",
       "         1.19727401, -0.66305228, -0.73511746,  0.06524503,  0.46659259],\n",
       "       [-1.46001598,  0.3833    ,  0.92902915, -0.70496065, -1.67430539,\n",
       "        -1.36621823, -2.19808213,  0.86302435, -0.46906068, -1.43744676],\n",
       "       [ 1.81884538,  1.59591718,  0.24204996, -0.10700955, -0.87447706,\n",
       "         1.16493187, -0.28370816,  0.06062419, -0.67440202,  0.92814157]])"
      ]
     },
     "execution_count": 27,
     "metadata": {},
     "output_type": "execute_result"
    }
   ],
   "source": [
    "c5 = np.loadtxt('save_data/c_2.csv',delimiter=',') #delimiter는 저장할 때 지정한 것과 동일한 것을 지정한다.\n",
    "c5.shape\n",
    "c5"
   ]
  },
  {
   "cell_type": "code",
   "execution_count": 28,
   "metadata": {},
   "outputs": [
    {
     "ename": "ValueError",
     "evalue": "Expected 1D or 2D array, got 3D array instead",
     "output_type": "error",
     "traceback": [
      "\u001b[0;31m---------------------------------------------------------------------------\u001b[0m",
      "\u001b[0;31mValueError\u001b[0m                                Traceback (most recent call last)",
      "Input \u001b[0;32mIn [28]\u001b[0m, in \u001b[0;36m<cell line: 1>\u001b[0;34m()\u001b[0m\n\u001b[0;32m----> 1\u001b[0m \u001b[43mnp\u001b[49m\u001b[38;5;241;43m.\u001b[39;49m\u001b[43msavetxt\u001b[49m\u001b[43m(\u001b[49m\u001b[38;5;124;43m'\u001b[39;49m\u001b[38;5;124;43mtest\u001b[39;49m\u001b[38;5;124;43m'\u001b[39;49m\u001b[43m,\u001b[49m\u001b[43mb\u001b[49m\u001b[43m)\u001b[49m\n",
      "File \u001b[0;32m<__array_function__ internals>:180\u001b[0m, in \u001b[0;36msavetxt\u001b[0;34m(*args, **kwargs)\u001b[0m\n",
      "File \u001b[0;32m~/opt/anaconda3/envs/ml/lib/python3.9/site-packages/numpy/lib/npyio.py:1397\u001b[0m, in \u001b[0;36msavetxt\u001b[0;34m(fname, X, fmt, delimiter, newline, header, footer, comments, encoding)\u001b[0m\n\u001b[1;32m   1395\u001b[0m \u001b[38;5;66;03m# Handle 1-dimensional arrays\u001b[39;00m\n\u001b[1;32m   1396\u001b[0m \u001b[38;5;28;01mif\u001b[39;00m X\u001b[38;5;241m.\u001b[39mndim \u001b[38;5;241m==\u001b[39m \u001b[38;5;241m0\u001b[39m \u001b[38;5;129;01mor\u001b[39;00m X\u001b[38;5;241m.\u001b[39mndim \u001b[38;5;241m>\u001b[39m \u001b[38;5;241m2\u001b[39m:\n\u001b[0;32m-> 1397\u001b[0m     \u001b[38;5;28;01mraise\u001b[39;00m \u001b[38;5;167;01mValueError\u001b[39;00m(\n\u001b[1;32m   1398\u001b[0m         \u001b[38;5;124m\"\u001b[39m\u001b[38;5;124mExpected 1D or 2D array, got \u001b[39m\u001b[38;5;132;01m%d\u001b[39;00m\u001b[38;5;124mD array instead\u001b[39m\u001b[38;5;124m\"\u001b[39m \u001b[38;5;241m%\u001b[39m X\u001b[38;5;241m.\u001b[39mndim)\n\u001b[1;32m   1399\u001b[0m \u001b[38;5;28;01melif\u001b[39;00m X\u001b[38;5;241m.\u001b[39mndim \u001b[38;5;241m==\u001b[39m \u001b[38;5;241m1\u001b[39m:\n\u001b[1;32m   1400\u001b[0m     \u001b[38;5;66;03m# Common case -- 1d array of numbers\u001b[39;00m\n\u001b[1;32m   1401\u001b[0m     \u001b[38;5;28;01mif\u001b[39;00m X\u001b[38;5;241m.\u001b[39mdtype\u001b[38;5;241m.\u001b[39mnames \u001b[38;5;129;01mis\u001b[39;00m \u001b[38;5;28;01mNone\u001b[39;00m:\n",
      "\u001b[0;31mValueError\u001b[0m: Expected 1D or 2D array, got 3D array instead"
     ]
    }
   ],
   "source": [
    "np.savetxt('test',b) #b: 3차원배열 => text로 저장은 1,2차원만 가능"
   ]
  },
  {
   "cell_type": "code",
   "execution_count": 29,
   "metadata": {},
   "outputs": [
    {
     "data": {
      "text/plain": [
       "dtype('int64')"
      ]
     },
     "execution_count": 29,
     "metadata": {},
     "output_type": "execute_result"
    }
   ],
   "source": [
    "a.dtype"
   ]
  },
  {
   "cell_type": "code",
   "execution_count": 30,
   "metadata": {},
   "outputs": [
    {
     "data": {
      "text/plain": [
       "dtype('int32')"
      ]
     },
     "execution_count": 30,
     "metadata": {},
     "output_type": "execute_result"
    }
   ],
   "source": [
    "a5 = np.loadtxt('save_data/a_txt.csv', dtype='int32')\n",
    "a5.dtype"
   ]
  },
  {
   "cell_type": "code",
   "execution_count": 31,
   "metadata": {},
   "outputs": [
    {
     "data": {
      "text/html": [
       "<div>\n",
       "<style scoped>\n",
       "    .dataframe tbody tr th:only-of-type {\n",
       "        vertical-align: middle;\n",
       "    }\n",
       "\n",
       "    .dataframe tbody tr th {\n",
       "        vertical-align: top;\n",
       "    }\n",
       "\n",
       "    .dataframe thead th {\n",
       "        text-align: right;\n",
       "    }\n",
       "</style>\n",
       "<table border=\"1\" class=\"dataframe\">\n",
       "  <thead>\n",
       "    <tr style=\"text-align: right;\">\n",
       "      <th></th>\n",
       "      <th>0</th>\n",
       "      <th>1</th>\n",
       "      <th>2</th>\n",
       "      <th>3</th>\n",
       "      <th>4</th>\n",
       "      <th>5</th>\n",
       "      <th>6</th>\n",
       "      <th>7</th>\n",
       "      <th>8</th>\n",
       "      <th>9</th>\n",
       "    </tr>\n",
       "  </thead>\n",
       "  <tbody>\n",
       "    <tr>\n",
       "      <th>0</th>\n",
       "      <td>0.579316</td>\n",
       "      <td>-0.856877</td>\n",
       "      <td>-0.386691</td>\n",
       "      <td>0.952931</td>\n",
       "      <td>-1.846630</td>\n",
       "      <td>-1.434389</td>\n",
       "      <td>-0.908703</td>\n",
       "      <td>0.846311</td>\n",
       "      <td>-1.467669</td>\n",
       "      <td>-1.279414</td>\n",
       "    </tr>\n",
       "    <tr>\n",
       "      <th>1</th>\n",
       "      <td>-1.442311</td>\n",
       "      <td>0.028252</td>\n",
       "      <td>-0.155508</td>\n",
       "      <td>-0.997630</td>\n",
       "      <td>-0.744739</td>\n",
       "      <td>0.588455</td>\n",
       "      <td>-0.317376</td>\n",
       "      <td>-1.365909</td>\n",
       "      <td>-0.949900</td>\n",
       "      <td>0.556196</td>\n",
       "    </tr>\n",
       "    <tr>\n",
       "      <th>2</th>\n",
       "      <td>1.025736</td>\n",
       "      <td>-0.282908</td>\n",
       "      <td>-0.817200</td>\n",
       "      <td>0.621845</td>\n",
       "      <td>-1.100094</td>\n",
       "      <td>1.197274</td>\n",
       "      <td>-0.663052</td>\n",
       "      <td>-0.735117</td>\n",
       "      <td>0.065245</td>\n",
       "      <td>0.466593</td>\n",
       "    </tr>\n",
       "    <tr>\n",
       "      <th>3</th>\n",
       "      <td>-1.460016</td>\n",
       "      <td>0.383300</td>\n",
       "      <td>0.929029</td>\n",
       "      <td>-0.704961</td>\n",
       "      <td>-1.674305</td>\n",
       "      <td>-1.366218</td>\n",
       "      <td>-2.198082</td>\n",
       "      <td>0.863024</td>\n",
       "      <td>-0.469061</td>\n",
       "      <td>-1.437447</td>\n",
       "    </tr>\n",
       "    <tr>\n",
       "      <th>4</th>\n",
       "      <td>1.818845</td>\n",
       "      <td>1.595917</td>\n",
       "      <td>0.242050</td>\n",
       "      <td>-0.107010</td>\n",
       "      <td>-0.874477</td>\n",
       "      <td>1.164932</td>\n",
       "      <td>-0.283708</td>\n",
       "      <td>0.060624</td>\n",
       "      <td>-0.674402</td>\n",
       "      <td>0.928142</td>\n",
       "    </tr>\n",
       "  </tbody>\n",
       "</table>\n",
       "</div>"
      ],
      "text/plain": [
       "          0         1         2         3         4         5         6  \\\n",
       "0  0.579316 -0.856877 -0.386691  0.952931 -1.846630 -1.434389 -0.908703   \n",
       "1 -1.442311  0.028252 -0.155508 -0.997630 -0.744739  0.588455 -0.317376   \n",
       "2  1.025736 -0.282908 -0.817200  0.621845 -1.100094  1.197274 -0.663052   \n",
       "3 -1.460016  0.383300  0.929029 -0.704961 -1.674305 -1.366218 -2.198082   \n",
       "4  1.818845  1.595917  0.242050 -0.107010 -0.874477  1.164932 -0.283708   \n",
       "\n",
       "          7         8         9  \n",
       "0  0.846311 -1.467669 -1.279414  \n",
       "1 -1.365909 -0.949900  0.556196  \n",
       "2 -0.735117  0.065245  0.466593  \n",
       "3  0.863024 -0.469061 -1.437447  \n",
       "4  0.060624 -0.674402  0.928142  "
      ]
     },
     "execution_count": 31,
     "metadata": {},
     "output_type": "execute_result"
    }
   ],
   "source": [
    "import pandas as pd\n",
    "df = pd.read_csv('save_data/c_2.csv', header=None)\n",
    "df"
   ]
  },
  {
   "cell_type": "code",
   "execution_count": null,
   "metadata": {},
   "outputs": [],
   "source": []
  }
 ],
 "metadata": {
  "kernelspec": {
   "display_name": "Python 3 (ipykernel)",
   "language": "python",
   "name": "python3"
  },
  "language_info": {
   "codemirror_mode": {
    "name": "ipython",
    "version": 3
   },
   "file_extension": ".py",
   "mimetype": "text/x-python",
   "name": "python",
   "nbconvert_exporter": "python",
   "pygments_lexer": "ipython3",
   "version": "3.9.12"
  },
  "toc": {
   "base_numbering": 1,
   "nav_menu": {},
   "number_sections": true,
   "sideBar": true,
   "skip_h1_title": false,
   "title_cell": "Table of Contents",
   "title_sidebar": "Contents",
   "toc_cell": false,
   "toc_position": {},
   "toc_section_display": true,
   "toc_window_display": false
  },
  "varInspector": {
   "cols": {
    "lenName": 16,
    "lenType": 16,
    "lenVar": 40
   },
   "kernels_config": {
    "python": {
     "delete_cmd_postfix": "",
     "delete_cmd_prefix": "del ",
     "library": "var_list.py",
     "varRefreshCmd": "print(var_dic_list())"
    },
    "r": {
     "delete_cmd_postfix": ") ",
     "delete_cmd_prefix": "rm(",
     "library": "var_list.r",
     "varRefreshCmd": "cat(var_dic_list()) "
    }
   },
   "types_to_exclude": [
    "module",
    "function",
    "builtin_function_or_method",
    "instance",
    "_Feature"
   ],
   "window_display": false
  }
 },
 "nbformat": 4,
 "nbformat_minor": 2
}
