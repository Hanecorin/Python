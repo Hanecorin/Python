{
 "cells": [
  {
   "cell_type": "markdown",
   "metadata": {},
   "source": [
    "# 배열의 형태(shape) 변경\n",
    "- 형태를 바꿀때 전체 원소의 개수가 바뀔 수 없다.\n",
    "\n",
    "## reshape()을 이용한 차원 변경\n",
    "- `numpy.reshape(a, newshape)` 또는 `ndarray.reshape(newshape)`\n",
    "    - a: 형태를 변경할 배열\n",
    "    - newshape : 변경할 형태 설정. \n",
    "        - 원소의 개수를 유지하는 shape으로만 변환 가능하다."
   ]
  },
  {
   "cell_type": "code",
   "execution_count": null,
   "metadata": {},
   "outputs": [],
   "source": []
  },
  {
   "cell_type": "code",
   "execution_count": null,
   "metadata": {},
   "outputs": [],
   "source": []
  },
  {
   "cell_type": "code",
   "execution_count": null,
   "metadata": {},
   "outputs": [],
   "source": []
  },
  {
   "cell_type": "code",
   "execution_count": null,
   "metadata": {},
   "outputs": [],
   "source": []
  },
  {
   "cell_type": "code",
   "execution_count": null,
   "metadata": {},
   "outputs": [],
   "source": []
  },
  {
   "cell_type": "markdown",
   "metadata": {},
   "source": [
    "## 차원 늘리기(확장)\n",
    "\n",
    "### numpy.newaxis 속성을 이용해 차원 늘리기\n",
    "- size가 1인 rank를 늘릴때 사용한다. \n",
    "    - 지정한 axis에 size 1인 축을 추가한다.\n",
    "- slicing에 사용하거나 indexing에 `...`과 같이 사용한다.\n",
    "    - slicing의 경우 원하는 위치의 축을 늘릴 수 있다.\n",
    "    - index에 ...과 사용하는 경우 첫번째나 마지막 축을 늘릴때 사용한다.\n",
    "    "
   ]
  },
  {
   "cell_type": "code",
   "execution_count": null,
   "metadata": {},
   "outputs": [],
   "source": []
  },
  {
   "cell_type": "code",
   "execution_count": null,
   "metadata": {},
   "outputs": [],
   "source": []
  },
  {
   "cell_type": "code",
   "execution_count": null,
   "metadata": {},
   "outputs": [],
   "source": []
  },
  {
   "cell_type": "markdown",
   "metadata": {},
   "source": [
    "### indexing에 ... 과 같이 사용\n",
    "- ndarray[..., np.newaxis]\n",
    "- 첫번째 축이나 마지막 축을 늘릴때만 사용가능"
   ]
  },
  {
   "cell_type": "code",
   "execution_count": null,
   "metadata": {},
   "outputs": [],
   "source": []
  },
  {
   "cell_type": "code",
   "execution_count": null,
   "metadata": {},
   "outputs": [],
   "source": []
  },
  {
   "cell_type": "markdown",
   "metadata": {},
   "source": [
    "### numpy.expand_dims (배열, axis)\n",
    "- 매개변수로 받은 배열에 지정한 axis의 rank를 확장한다."
   ]
  },
  {
   "cell_type": "code",
   "execution_count": null,
   "metadata": {},
   "outputs": [],
   "source": []
  },
  {
   "cell_type": "code",
   "execution_count": null,
   "metadata": {},
   "outputs": [],
   "source": []
  },
  {
   "cell_type": "code",
   "execution_count": null,
   "metadata": {},
   "outputs": [],
   "source": []
  },
  {
   "cell_type": "markdown",
   "metadata": {},
   "source": [
    "## 차원 줄이기(축소)\n",
    "\n",
    "### numpy.squeeze(배열, axis=None), 배열객체.squeeze(axis=None)\n",
    "- 배열에서 지정한 축(axis)을 제거하여 차원(rank)를 줄인다.\n",
    "- 제거하려는 축의 size는 1이어야 한다.\n",
    "- 축을 지정하지 않으면 size가 1인 모든 축을 제거한다.\n",
    "    - (3,1,1,2) => (3,2)"
   ]
  },
  {
   "cell_type": "code",
   "execution_count": null,
   "metadata": {},
   "outputs": [],
   "source": []
  },
  {
   "cell_type": "code",
   "execution_count": null,
   "metadata": {},
   "outputs": [],
   "source": []
  },
  {
   "cell_type": "code",
   "execution_count": null,
   "metadata": {},
   "outputs": [],
   "source": []
  },
  {
   "cell_type": "code",
   "execution_count": null,
   "metadata": {},
   "outputs": [],
   "source": []
  },
  {
   "cell_type": "markdown",
   "metadata": {},
   "source": [
    "### 배열객체.flatten()\n",
    "- 다차원 배열을 1차원으로 만든다."
   ]
  },
  {
   "cell_type": "code",
   "execution_count": null,
   "metadata": {},
   "outputs": [],
   "source": []
  },
  {
   "cell_type": "code",
   "execution_count": null,
   "metadata": {},
   "outputs": [],
   "source": []
  },
  {
   "cell_type": "code",
   "execution_count": null,
   "metadata": {},
   "outputs": [],
   "source": []
  },
  {
   "cell_type": "markdown",
   "metadata": {},
   "source": [
    "## numpy.append(), numpy.insert(), numpy.delete()\n",
    "- ### append(배열, 추가할값, axis=None)\n",
    "    - 배열의 마지막 index에 추가할값을 추가\n",
    "    - axis : 축 지정\n",
    "        - None(기본값) : flatten 한 뒤 추가한다.\n",
    "- ### insert(배열, index, 추가할값, axis=None)\n",
    "    - 배열의 index에 추가할값을 추가. \n",
    "    - axis : 축 지정\n",
    "        - None(기본값) : flatten 한 뒤 삽입한다.\n",
    "- ### delete(배열, 삭제할index, axis=None)  \n",
    "    - 배열의 삭제할index의 값들을 삭제한다.\n",
    "    - 삭제할 index는 index 또는 slice\n",
    "    - axis : 축 지정\n",
    "        - None(기본값) : flatten 한 뒤 삭제한다."
   ]
  },
  {
   "cell_type": "markdown",
   "metadata": {},
   "source": [
    "### append()"
   ]
  },
  {
   "cell_type": "code",
   "execution_count": null,
   "metadata": {},
   "outputs": [],
   "source": []
  },
  {
   "cell_type": "code",
   "execution_count": null,
   "metadata": {},
   "outputs": [],
   "source": []
  },
  {
   "cell_type": "code",
   "execution_count": null,
   "metadata": {},
   "outputs": [],
   "source": []
  },
  {
   "cell_type": "code",
   "execution_count": null,
   "metadata": {},
   "outputs": [],
   "source": []
  },
  {
   "cell_type": "code",
   "execution_count": null,
   "metadata": {},
   "outputs": [],
   "source": []
  },
  {
   "cell_type": "code",
   "execution_count": null,
   "metadata": {},
   "outputs": [],
   "source": []
  },
  {
   "cell_type": "code",
   "execution_count": null,
   "metadata": {},
   "outputs": [],
   "source": []
  },
  {
   "cell_type": "markdown",
   "metadata": {},
   "source": [
    "### insert"
   ]
  },
  {
   "cell_type": "code",
   "execution_count": null,
   "metadata": {},
   "outputs": [],
   "source": []
  },
  {
   "cell_type": "code",
   "execution_count": null,
   "metadata": {},
   "outputs": [],
   "source": []
  },
  {
   "cell_type": "code",
   "execution_count": null,
   "metadata": {},
   "outputs": [],
   "source": []
  },
  {
   "cell_type": "code",
   "execution_count": null,
   "metadata": {},
   "outputs": [],
   "source": []
  },
  {
   "cell_type": "code",
   "execution_count": null,
   "metadata": {},
   "outputs": [],
   "source": []
  },
  {
   "cell_type": "code",
   "execution_count": null,
   "metadata": {},
   "outputs": [],
   "source": []
  },
  {
   "cell_type": "markdown",
   "metadata": {},
   "source": [
    "### delete"
   ]
  },
  {
   "cell_type": "code",
   "execution_count": null,
   "metadata": {},
   "outputs": [],
   "source": []
  },
  {
   "cell_type": "code",
   "execution_count": null,
   "metadata": {},
   "outputs": [],
   "source": []
  },
  {
   "cell_type": "code",
   "execution_count": null,
   "metadata": {},
   "outputs": [],
   "source": []
  },
  {
   "cell_type": "code",
   "execution_count": null,
   "metadata": {},
   "outputs": [],
   "source": []
  },
  {
   "cell_type": "code",
   "execution_count": null,
   "metadata": {},
   "outputs": [],
   "source": []
  },
  {
   "cell_type": "code",
   "execution_count": null,
   "metadata": {},
   "outputs": [],
   "source": []
  },
  {
   "cell_type": "markdown",
   "metadata": {},
   "source": [
    "## 배열 합치기\n",
    "- ### np.concatenate(합칠 배열리스트, axis=0)\n",
    "    - 여러 배열을 **축의개수(rank)**를 유지하며 합친다.\n",
    "    - axis 파라미터 : 축지정\n",
    "        - 지정된 축을 기준으로 합친다. \n",
    "        - default : 0\n",
    "    - 합치는 배열의 축의 개수(rank) 은 같아야 한다.\n",
    "    - axis속성으로 지정한 축 이외의 축의 크기가 같아야 한다.\n",
    "    - 결과의 축의개수(rank)는 대상 배열의 rank와 같다.\n",
    "        - 1차원끼리 합치면 1차원결과가 나옴\n",
    "- ### 합칠 대상 배열의 rank가 2일 경우(행렬) \n",
    "    - vstack()\n",
    "    - hstack()\n",
    "    - np.concatenate()의 간단버전\n",
    "- ### vstack(합칠배열리스트)\n",
    "    - 수직으로 쌓는다.\n",
    "    - concatenate() 의 axis=0 와 동일\n",
    "    - 합칠 배열들의 열수가 같아야 한다.\n",
    "- ### hstack(합칠배열리스트)\n",
    "    - 수평으로 쌓는다.\n",
    "    - concatenate() 의 axis=1 와 동일\n",
    "    - 합칠 배열들의 행 수가 같아야 한다."
   ]
  },
  {
   "cell_type": "markdown",
   "metadata": {},
   "source": [
    "### concatenate()"
   ]
  },
  {
   "cell_type": "markdown",
   "metadata": {},
   "source": [
    "- axis=0 이면 0이 늘어난다. 0을 기준으로 합치므로 (그래서 밑으로 (행이 늘어남)붙는다.)\n",
    "    - 그래서 각 배열의 컬럼 수가 같아야 한다. \n",
    "- axis=1 이면 1이 늘어난다. 1을 기준으로 합치므로 (그래서 옆으로 (컬럼이 늘어남) 붙는다.)\n",
    "    - 그래서 각 배열의 행수가 같아야 한다."
   ]
  },
  {
   "cell_type": "code",
   "execution_count": null,
   "metadata": {},
   "outputs": [],
   "source": []
  },
  {
   "cell_type": "code",
   "execution_count": null,
   "metadata": {},
   "outputs": [],
   "source": []
  },
  {
   "cell_type": "code",
   "execution_count": null,
   "metadata": {},
   "outputs": [],
   "source": []
  },
  {
   "cell_type": "code",
   "execution_count": null,
   "metadata": {},
   "outputs": [],
   "source": []
  },
  {
   "cell_type": "code",
   "execution_count": null,
   "metadata": {},
   "outputs": [],
   "source": []
  },
  {
   "cell_type": "code",
   "execution_count": null,
   "metadata": {},
   "outputs": [],
   "source": []
  },
  {
   "cell_type": "markdown",
   "metadata": {},
   "source": [
    "### vstack()\n",
    "- 아래에 붙이는 개념이므로 열수가 맞아야 한다. \n",
    "- axis=0과 동일"
   ]
  },
  {
   "cell_type": "code",
   "execution_count": null,
   "metadata": {},
   "outputs": [],
   "source": []
  },
  {
   "cell_type": "code",
   "execution_count": null,
   "metadata": {},
   "outputs": [],
   "source": []
  },
  {
   "cell_type": "code",
   "execution_count": null,
   "metadata": {},
   "outputs": [],
   "source": []
  },
  {
   "cell_type": "code",
   "execution_count": null,
   "metadata": {},
   "outputs": [],
   "source": []
  },
  {
   "cell_type": "markdown",
   "metadata": {},
   "source": [
    "### hstack()\n",
    "- 옆으로 붙이는 것이므로 행 수가 같아야 한다.\n",
    "- axis=1과 동일"
   ]
  },
  {
   "cell_type": "code",
   "execution_count": null,
   "metadata": {},
   "outputs": [],
   "source": []
  },
  {
   "cell_type": "code",
   "execution_count": null,
   "metadata": {},
   "outputs": [],
   "source": []
  },
  {
   "cell_type": "code",
   "execution_count": null,
   "metadata": {},
   "outputs": [],
   "source": []
  },
  {
   "cell_type": "markdown",
   "metadata": {},
   "source": [
    "## 배열 분할 하기\n",
    "- ### split(배열, 분할기준, axis)\n",
    "    - 지정한 축을 기준으로 배열을 나눈다.. \n",
    "    - 반환값: 분할한 narray를 가진 리스트로 리턴.\n",
    "    - 배열: 분할할 배열\n",
    "    - 분할기준\n",
    "        - 정수 : 지정 개수만큼 분할\n",
    "        - 리스트 : 분할 기준 index들\n",
    "    - axis(축)\n",
    "        - 분할할 기준 축을 지정한다. axis = 0 (기본) \n",
    "        - 2D의 경우 axis=0: 행 기준 분할, axis=1: 열 기준 분할\n",
    "- ### vsplit(배열, 분할기준)\n",
    "    - 행 기준 분할\n",
    "    - split()의 axis=0과 동일\n",
    "    - 분할기준\n",
    "        - 정수 : 지정 개수만큼 분할\n",
    "        - 리스트 : 분할 기준 index들\n",
    "- ### hsplit(배열, 분할기준)\n",
    "    - 열 기준 분할\n",
    "    - split()의 axis=1과 동일\n",
    "    - 분할기준\n",
    "        - 정수 : 지정 개수만큼 분할\n",
    "        - 리스트 : 분할 기준 index들\n",
    "- **주의:** 분할기준을 정수(개수)로 할 경우 분할후 원소수가 같아야 한다. "
   ]
  },
  {
   "cell_type": "code",
   "execution_count": null,
   "metadata": {},
   "outputs": [],
   "source": []
  },
  {
   "cell_type": "code",
   "execution_count": null,
   "metadata": {},
   "outputs": [],
   "source": []
  },
  {
   "cell_type": "code",
   "execution_count": null,
   "metadata": {},
   "outputs": [],
   "source": []
  },
  {
   "cell_type": "markdown",
   "metadata": {},
   "source": [
    "## hsplit()/vsplit()"
   ]
  },
  {
   "cell_type": "code",
   "execution_count": null,
   "metadata": {},
   "outputs": [],
   "source": []
  },
  {
   "cell_type": "code",
   "execution_count": null,
   "metadata": {},
   "outputs": [],
   "source": []
  },
  {
   "cell_type": "code",
   "execution_count": null,
   "metadata": {},
   "outputs": [],
   "source": []
  },
  {
   "cell_type": "code",
   "execution_count": null,
   "metadata": {},
   "outputs": [],
   "source": []
  },
  {
   "cell_type": "code",
   "execution_count": null,
   "metadata": {},
   "outputs": [],
   "source": []
  },
  {
   "cell_type": "code",
   "execution_count": null,
   "metadata": {},
   "outputs": [],
   "source": []
  }
 ],
 "metadata": {
  "kernelspec": {
   "display_name": "Python 3 (ipykernel)",
   "language": "python",
   "name": "python3"
  },
  "language_info": {
   "codemirror_mode": {
    "name": "ipython",
    "version": 3
   },
   "file_extension": ".py",
   "mimetype": "text/x-python",
   "name": "python",
   "nbconvert_exporter": "python",
   "pygments_lexer": "ipython3",
   "version": "3.9.12"
  },
  "toc": {
   "base_numbering": 1,
   "nav_menu": {},
   "number_sections": false,
   "sideBar": false,
   "skip_h1_title": false,
   "title_cell": "Table of Contents",
   "title_sidebar": "Contents",
   "toc_cell": false,
   "toc_position": {},
   "toc_section_display": true,
   "toc_window_display": false
  },
  "varInspector": {
   "cols": {
    "lenName": 16,
    "lenType": 16,
    "lenVar": 40
   },
   "kernels_config": {
    "python": {
     "delete_cmd_postfix": "",
     "delete_cmd_prefix": "del ",
     "library": "var_list.py",
     "varRefreshCmd": "print(var_dic_list())"
    },
    "r": {
     "delete_cmd_postfix": ") ",
     "delete_cmd_prefix": "rm(",
     "library": "var_list.r",
     "varRefreshCmd": "cat(var_dic_list()) "
    }
   },
   "types_to_exclude": [
    "module",
    "function",
    "builtin_function_or_method",
    "instance",
    "_Feature"
   ],
   "window_display": false
  }
 },
 "nbformat": 4,
 "nbformat_minor": 2
}
