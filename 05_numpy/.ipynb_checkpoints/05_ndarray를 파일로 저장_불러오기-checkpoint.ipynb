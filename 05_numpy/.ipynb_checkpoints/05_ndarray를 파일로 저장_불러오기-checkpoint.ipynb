{
 "cells": [
  {
   "cell_type": "markdown",
   "metadata": {},
   "source": [
    "# 배열을 파일에 저장 및 불러오기\n",
    "- ## 바이너리 파일로 저장/불러오기\n",
    "    - ### np.save(\"파일경로\", 배열)\n",
    "        - 배열을 raw 바이너리 형식으로 저장한다. (압축하지 않은)\n",
    "        - 파일명에 확장자로 npy를 붙인다. (무조건 붙인다. abc.xxx 해도 abc.xxx.npy 로 저장)\n",
    "    - ### np.load(\"파일경로\") \n",
    "        - 파일에 저장된 배열을 불러온다.\n",
    "    - ### np.savez(\"파일경로\", 이름=배열, 이름=배열, ...)\n",
    "        - 여러개의 배열을 저장할 때 사용\n",
    "        - 파일명에 확장자로 npz가 붙는다.\n",
    "        - 내부적으로 압축해서 저장한다.\n",
    "        - load() 함수로 불러오면 저장된 배열목록이 반환 된다. 저장시 지정한 이름을 이용해 조회 \n",
    "- ## 텍스트 파일로 저장하고 불러오기\n",
    "    - ### savetxt(\"파일경로\", 배열 [, delimiter='공백') \n",
    "        - 텍스트 형태로 저장.\n",
    "        - 각 원소는 공백을 기준으로 나뉘며 delimiter 속성으로 구분자를 지정할 수 있다. (delimiter생략시 공백)\n",
    "        - 1차원과 2차원 배열만 저장 가능하다. (3차원 이상은 저장이 안된다.)\n",
    "    - ### loadtxt(\"파일경로\" [,dtype=float, delimiter=공백)"
   ]
  },
  {
   "cell_type": "code",
   "execution_count": null,
   "metadata": {},
   "outputs": [],
   "source": []
  },
  {
   "cell_type": "code",
   "execution_count": null,
   "metadata": {},
   "outputs": [],
   "source": []
  },
  {
   "cell_type": "code",
   "execution_count": null,
   "metadata": {},
   "outputs": [],
   "source": []
  },
  {
   "cell_type": "code",
   "execution_count": null,
   "metadata": {},
   "outputs": [],
   "source": []
  },
  {
   "cell_type": "code",
   "execution_count": null,
   "metadata": {},
   "outputs": [],
   "source": []
  },
  {
   "cell_type": "code",
   "execution_count": null,
   "metadata": {},
   "outputs": [],
   "source": []
  }
 ],
 "metadata": {
  "kernelspec": {
   "display_name": "Python 3 (ipykernel)",
   "language": "python",
   "name": "python3"
  },
  "language_info": {
   "codemirror_mode": {
    "name": "ipython",
    "version": 3
   },
   "file_extension": ".py",
   "mimetype": "text/x-python",
   "name": "python",
   "nbconvert_exporter": "python",
   "pygments_lexer": "ipython3",
   "version": "3.9.12"
  },
  "toc": {
   "base_numbering": 1,
   "nav_menu": {},
   "number_sections": true,
   "sideBar": true,
   "skip_h1_title": false,
   "title_cell": "Table of Contents",
   "title_sidebar": "Contents",
   "toc_cell": false,
   "toc_position": {},
   "toc_section_display": true,
   "toc_window_display": false
  },
  "varInspector": {
   "cols": {
    "lenName": 16,
    "lenType": 16,
    "lenVar": 40
   },
   "kernels_config": {
    "python": {
     "delete_cmd_postfix": "",
     "delete_cmd_prefix": "del ",
     "library": "var_list.py",
     "varRefreshCmd": "print(var_dic_list())"
    },
    "r": {
     "delete_cmd_postfix": ") ",
     "delete_cmd_prefix": "rm(",
     "library": "var_list.r",
     "varRefreshCmd": "cat(var_dic_list()) "
    }
   },
   "types_to_exclude": [
    "module",
    "function",
    "builtin_function_or_method",
    "instance",
    "_Feature"
   ],
   "window_display": false
  }
 },
 "nbformat": 4,
 "nbformat_minor": 2
}
