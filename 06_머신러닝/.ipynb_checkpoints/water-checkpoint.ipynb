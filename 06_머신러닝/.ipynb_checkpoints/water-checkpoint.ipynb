{
 "cells": [
  {
   "cell_type": "code",
   "execution_count": 2,
   "metadata": {},
   "outputs": [
    {
     "name": "stdout",
     "output_type": "stream",
     "text": [
      "Collecting seaborn\n",
      "  Using cached seaborn-0.11.2-py3-none-any.whl (292 kB)\n",
      "Requirement already satisfied: numpy>=1.15 in /Users/han-yechan/miniforge3/envs/tf/lib/python3.8/site-packages (from seaborn) (1.22.3)\n",
      "Requirement already satisfied: scipy>=1.0 in /Users/han-yechan/miniforge3/envs/tf/lib/python3.8/site-packages (from seaborn) (1.8.1)\n",
      "Requirement already satisfied: pandas>=0.23 in /Users/han-yechan/miniforge3/envs/tf/lib/python3.8/site-packages (from seaborn) (1.4.3)\n",
      "Requirement already satisfied: matplotlib>=2.2 in /Users/han-yechan/miniforge3/envs/tf/lib/python3.8/site-packages (from seaborn) (3.5.2)\n",
      "Requirement already satisfied: pillow>=6.2.0 in /Users/han-yechan/miniforge3/envs/tf/lib/python3.8/site-packages (from matplotlib>=2.2->seaborn) (9.2.0)\n",
      "Requirement already satisfied: python-dateutil>=2.7 in /Users/han-yechan/miniforge3/envs/tf/lib/python3.8/site-packages (from matplotlib>=2.2->seaborn) (2.8.2)\n",
      "Requirement already satisfied: kiwisolver>=1.0.1 in /Users/han-yechan/miniforge3/envs/tf/lib/python3.8/site-packages (from matplotlib>=2.2->seaborn) (1.4.3)\n",
      "Requirement already satisfied: fonttools>=4.22.0 in /Users/han-yechan/miniforge3/envs/tf/lib/python3.8/site-packages (from matplotlib>=2.2->seaborn) (4.34.4)\n",
      "Requirement already satisfied: cycler>=0.10 in /Users/han-yechan/miniforge3/envs/tf/lib/python3.8/site-packages (from matplotlib>=2.2->seaborn) (0.11.0)\n",
      "Requirement already satisfied: packaging>=20.0 in /Users/han-yechan/miniforge3/envs/tf/lib/python3.8/site-packages (from matplotlib>=2.2->seaborn) (21.3)\n",
      "Requirement already satisfied: pyparsing>=2.2.1 in /Users/han-yechan/miniforge3/envs/tf/lib/python3.8/site-packages (from matplotlib>=2.2->seaborn) (3.0.9)\n",
      "Requirement already satisfied: pytz>=2020.1 in /Users/han-yechan/miniforge3/envs/tf/lib/python3.8/site-packages (from pandas>=0.23->seaborn) (2022.1)\n",
      "Requirement already satisfied: six>=1.5 in /Users/han-yechan/miniforge3/envs/tf/lib/python3.8/site-packages (from python-dateutil>=2.7->matplotlib>=2.2->seaborn) (1.15.0)\n",
      "Installing collected packages: seaborn\n",
      "Successfully installed seaborn-0.11.2\n",
      "Note: you may need to restart the kernel to use updated packages.\n"
     ]
    }
   ],
   "source": [
    "pip install seaborn"
   ]
  },
  {
   "cell_type": "code",
   "execution_count": 1,
   "metadata": {
    "_cell_guid": "b1076dfc-b9ad-4769-8c92-a6c4dae69d19",
    "_uuid": "8f2839f25d086af736a60e9eeb907d3b93b6e0e5",
    "execution": {
     "iopub.execute_input": "2022-07-18T11:48:12.617177Z",
     "iopub.status.busy": "2022-07-18T11:48:12.616606Z",
     "iopub.status.idle": "2022-07-18T11:48:13.782996Z",
     "shell.execute_reply": "2022-07-18T11:48:13.782075Z",
     "shell.execute_reply.started": "2022-07-18T11:48:12.617068Z"
    }
   },
   "outputs": [],
   "source": [
    "import numpy as np # linear algebra\n",
    "import pandas as pd # data processing, CSV file I/O (e.g. pd.read_csv)\n",
    "import matplotlib.pyplot as plt\n",
    "import seaborn as sns\n",
    "\n",
    "import os\n",
    "for dirname, _, filenames in os.walk('/kaggle/input'):\n",
    "    for filename in filenames:\n",
    "        print(os.path.join(dirname, filename))\n",
    "\n",
    "# You can write up to 20GB to the current directory (/kaggle/working/) that gets preserved as output when you create a version using \"Save & Run All\" \n",
    "# You can also write temporary files to /kaggle/temp/, but they won't be saved outside of the current session"
   ]
  },
  {
   "cell_type": "markdown",
   "metadata": {},
   "source": [
    "### Feature Description\n",
    "\n",
    "ph: pH of 1. water (0 to 14).\n",
    "\n",
    "Hardness: Capacity of water to precipitate soap in mg/L.\n",
    "\n",
    "Solids: Total dissolved solids in ppm.\n",
    "\n",
    "Chloramines: Amount of Chloramines in ppm.\n",
    "\n",
    "Sulfate: Amount of Sulfates dissolved in mg/L.\n",
    "\n",
    "Conductivity: Electrical conductivity of water in μS/cm.\n",
    "\n",
    "Organic_carbon: Amount of organic carbon in ppm.\n",
    "\n",
    "Trihalomethanes: Amount of Trihalomethanes in μg/L.\n",
    "\n",
    "Turbidity: Measure of light emiting property of water in NTU.\n",
    "\n",
    "Potability: Indicates if water is safe for human consumption. Potable - 1 and Not potable - 0"
   ]
  },
  {
   "cell_type": "code",
   "execution_count": null,
   "metadata": {
    "execution": {
     "iopub.execute_input": "2022-07-18T11:48:16.674268Z",
     "iopub.status.busy": "2022-07-18T11:48:16.673800Z",
     "iopub.status.idle": "2022-07-18T11:48:16.728220Z",
     "shell.execute_reply": "2022-07-18T11:48:16.727218Z",
     "shell.execute_reply.started": "2022-07-18T11:48:16.674229Z"
    }
   },
   "outputs": [],
   "source": [
    "data=pd.read_csv('/kaggle/input/water-potability/water_potability.csv')\n",
    "data=pd.DataFrame(data)"
   ]
  },
  {
   "cell_type": "code",
   "execution_count": null,
   "metadata": {
    "execution": {
     "iopub.execute_input": "2022-07-18T11:48:30.768596Z",
     "iopub.status.busy": "2022-07-18T11:48:30.768190Z",
     "iopub.status.idle": "2022-07-18T11:48:30.799855Z",
     "shell.execute_reply": "2022-07-18T11:48:30.798981Z",
     "shell.execute_reply.started": "2022-07-18T11:48:30.768564Z"
    }
   },
   "outputs": [],
   "source": [
    "data.head(10)"
   ]
  },
  {
   "cell_type": "code",
   "execution_count": null,
   "metadata": {
    "execution": {
     "iopub.execute_input": "2022-07-18T11:48:21.766809Z",
     "iopub.status.busy": "2022-07-18T11:48:21.766476Z",
     "iopub.status.idle": "2022-07-18T11:48:21.791987Z",
     "shell.execute_reply": "2022-07-18T11:48:21.790987Z",
     "shell.execute_reply.started": "2022-07-18T11:48:21.766781Z"
    }
   },
   "outputs": [],
   "source": [
    "data.info()"
   ]
  },
  {
   "cell_type": "code",
   "execution_count": null,
   "metadata": {
    "execution": {
     "iopub.execute_input": "2022-07-18T11:48:41.580094Z",
     "iopub.status.busy": "2022-07-18T11:48:41.579719Z",
     "iopub.status.idle": "2022-07-18T11:48:41.592570Z",
     "shell.execute_reply": "2022-07-18T11:48:41.591280Z",
     "shell.execute_reply.started": "2022-07-18T11:48:41.580062Z"
    }
   },
   "outputs": [],
   "source": [
    "data.isnull().sum()"
   ]
  },
  {
   "cell_type": "markdown",
   "metadata": {
    "execution": {
     "iopub.execute_input": "2022-07-18T07:47:42.969645Z",
     "iopub.status.busy": "2022-07-18T07:47:42.969238Z",
     "iopub.status.idle": "2022-07-18T07:47:42.977294Z",
     "shell.execute_reply": "2022-07-18T07:47:42.975496Z",
     "shell.execute_reply.started": "2022-07-18T07:47:42.969589Z"
    }
   },
   "source": [
    "# 결측치 처리(ph, Sulfate, Trihalomethanes)\n",
    "\n",
    "- 1. dropna(null값을 포함한 데이터는 drop한다) => 데이터가 1526개로 약 절반가량으로 줄어든다.=> 정확도가 떨어는것을 확인함\n",
    "- 2. null값이 있는 column을 drop한다.=> feature가 9개에서 6개로 줄어든다.=> 정확도가 떨어지는것을 확인함\n",
    "- 3. Feature의 평균값 또는 중앙값으로 대체한다."
   ]
  },
  {
   "cell_type": "code",
   "execution_count": null,
   "metadata": {},
   "outputs": [],
   "source": [
    "# 결측치 평균값으로 대체\n",
    "\n",
    "data.loc[(data['Potability'] == 0) & (data['ph'].isna()), 'ph'] = data[data['Potability'] == 0]['ph'].mean(skipna=True)\n",
    "data.loc[(data['Potability'] == 1) & (data['ph'].isna()), 'ph'] = data[data['Potability'] == 1]['ph'].mean(skipna=True)\n",
    "\n",
    "\n",
    "data.loc[(data['Potability'] == 0) & (data['Sulfate'].isna()), 'Sulfate'] = data[data['Potability'] == 0]['Sulfate'].mean(skipna=True)\n",
    "data.loc[(data['Potability'] == 1) & (data['Sulfate'].isna()), 'Sulfate'] = data[data['Potability'] == 1]['Sulfate'].mean(skipna=True)\n",
    "\n",
    "\n",
    "data.loc[(data['Potability'] == 0) & (data['Trihalomethanes'].isna()), 'Trihalomethanes'] = data[data['Potability'] == 0]['Trihalomethanes'].mean(skipna=True)\n",
    "data.loc[(data['Potability'] == 1) & (data['Trihalomethanes'].isna()), 'Trihalomethanes'] = data[data['Potability'] == 1]['Trihalomethanes'].mean(skipna=True)"
   ]
  },
  {
   "cell_type": "code",
   "execution_count": null,
   "metadata": {
    "execution": {
     "iopub.execute_input": "2022-07-18T12:09:45.985744Z",
     "iopub.status.busy": "2022-07-18T12:09:45.985394Z",
     "iopub.status.idle": "2022-07-18T12:09:45.994970Z",
     "shell.execute_reply": "2022-07-18T12:09:45.993987Z",
     "shell.execute_reply.started": "2022-07-18T12:09:45.985713Z"
    }
   },
   "outputs": [],
   "source": [
    "from sklearn.model_selection import train_test_split\n",
    "X = data.iloc[:, :-1]\n",
    "y = data.iloc[:, -1]\n",
    "X_train,X_test,y_train,y_test=train_test_split(X, y, test_size=0.3, random_state=0)"
   ]
  },
  {
   "cell_type": "code",
   "execution_count": null,
   "metadata": {
    "execution": {
     "iopub.execute_input": "2022-07-18T12:09:46.362789Z",
     "iopub.status.busy": "2022-07-18T12:09:46.361984Z",
     "iopub.status.idle": "2022-07-18T12:09:46.369403Z",
     "shell.execute_reply": "2022-07-18T12:09:46.368516Z",
     "shell.execute_reply.started": "2022-07-18T12:09:46.362745Z"
    }
   },
   "outputs": [],
   "source": [
    "X_train.shape, y_train.shape, X_test.shape, y_test.shape"
   ]
  },
  {
   "cell_type": "markdown",
   "metadata": {},
   "source": [
    "### Preprocessing"
   ]
  },
  {
   "cell_type": "code",
   "execution_count": null,
   "metadata": {
    "execution": {
     "iopub.execute_input": "2022-07-18T12:09:47.177731Z",
     "iopub.status.busy": "2022-07-18T12:09:47.177337Z",
     "iopub.status.idle": "2022-07-18T12:09:47.191984Z",
     "shell.execute_reply": "2022-07-18T12:09:47.191143Z",
     "shell.execute_reply.started": "2022-07-18T12:09:47.177701Z"
    }
   },
   "outputs": [],
   "source": [
    "from sklearn.preprocessing import StandardScaler\n",
    "sclaer=StandardScaler()\n",
    "X_train=sclaer.fit_transform(X_train)\n",
    "X_test=sclaer.fit_transform(X_test)\n",
    "X_train=pd.DataFrame(X_train)\n",
    "X_test=pd.DataFrame(X_test)"
   ]
  },
  {
   "cell_type": "code",
   "execution_count": null,
   "metadata": {
    "execution": {
     "iopub.execute_input": "2022-07-18T12:09:47.839914Z",
     "iopub.status.busy": "2022-07-18T12:09:47.839314Z",
     "iopub.status.idle": "2022-07-18T12:09:47.847194Z",
     "shell.execute_reply": "2022-07-18T12:09:47.845973Z",
     "shell.execute_reply.started": "2022-07-18T12:09:47.839880Z"
    }
   },
   "outputs": [],
   "source": [
    "X_train=X_train.rename(columns={0:'ph',1:'Hardness', 2:'Solids',3:'Chloramines',4:'Sulfate', 5:'Conductivity',6:'Organic_carbon',7:'Trihalomethanes', 8:'Turbidity'})\n",
    "X_test=X_test.rename(columns={0:'ph',1:'Hardness', 2:'Solids',3:'Chloramines',4:'Sulfate', 5:'Conductivity',6:'Organic_carbon',7:'Trihalomethanes', 8:'Turbidity'})"
   ]
  },
  {
   "cell_type": "code",
   "execution_count": null,
   "metadata": {
    "execution": {
     "iopub.execute_input": "2022-07-18T12:09:48.255724Z",
     "iopub.status.busy": "2022-07-18T12:09:48.255433Z",
     "iopub.status.idle": "2022-07-18T12:09:48.261198Z",
     "shell.execute_reply": "2022-07-18T12:09:48.260249Z",
     "shell.execute_reply.started": "2022-07-18T12:09:48.255699Z"
    }
   },
   "outputs": [],
   "source": [
    "y_train=pd.DataFrame(y_train)\n",
    "y_test=pd.DataFrame(y_test)"
   ]
  },
  {
   "cell_type": "markdown",
   "metadata": {
    "execution": {
     "iopub.execute_input": "2022-07-18T05:29:54.494761Z",
     "iopub.status.busy": "2022-07-18T05:29:54.494154Z",
     "iopub.status.idle": "2022-07-18T05:29:54.505551Z",
     "shell.execute_reply": "2022-07-18T05:29:54.504512Z",
     "shell.execute_reply.started": "2022-07-18T05:29:54.494722Z"
    }
   },
   "source": [
    "### Machine Learning\n",
    "- Modeling"
   ]
  },
  {
   "cell_type": "code",
   "execution_count": null,
   "metadata": {
    "execution": {
     "iopub.execute_input": "2022-07-18T12:09:49.249276Z",
     "iopub.status.busy": "2022-07-18T12:09:49.248439Z",
     "iopub.status.idle": "2022-07-18T12:09:49.256281Z",
     "shell.execute_reply": "2022-07-18T12:09:49.255384Z",
     "shell.execute_reply.started": "2022-07-18T12:09:49.249229Z"
    }
   },
   "outputs": [],
   "source": [
    "X_train.shape, X_test.shape, y_train.shape, y_test.shape"
   ]
  },
  {
   "cell_type": "code",
   "execution_count": null,
   "metadata": {
    "collapsed": true,
    "execution": {
     "iopub.execute_input": "2022-07-18T12:12:18.143853Z",
     "iopub.status.busy": "2022-07-18T12:12:18.142541Z",
     "iopub.status.idle": "2022-07-18T12:12:19.320413Z",
     "shell.execute_reply": "2022-07-18T12:12:19.319265Z",
     "shell.execute_reply.started": "2022-07-18T12:12:18.143808Z"
    },
    "jupyter": {
     "outputs_hidden": true
    }
   },
   "outputs": [],
   "source": [
    "from sklearn.tree import DecisionTreeClassifier\n",
    "from sklearn.ensemble import RandomForestClassifier\n",
    "from sklearn.naive_bayes import GaussianNB\n",
    "from sklearn.neighbors import KNeighborsClassifier\n",
    "from sklearn.linear_model import LogisticRegression\n",
    "from sklearn.svm import SVC\n",
    "from sklearn.metrics import accuracy_score, precision_score, recall_score, f1_score\n",
    "\n",
    "\n",
    "models_acc = []\n",
    "models = [DecisionTreeClassifier(), LogisticRegression(), KNeighborsClassifier(), RandomForestClassifier(), GaussianNB(), SVC()]\n",
    "for model in models:\n",
    "    model.fit(X_train, y_train)    \n",
    "    pred = model.predict(X_test)\n",
    "    models_acc.append(accuracy_score(y_test, pred))"
   ]
  },
  {
   "cell_type": "code",
   "execution_count": null,
   "metadata": {
    "execution": {
     "iopub.execute_input": "2022-07-18T12:12:20.666101Z",
     "iopub.status.busy": "2022-07-18T12:12:20.665021Z",
     "iopub.status.idle": "2022-07-18T12:12:20.682561Z",
     "shell.execute_reply": "2022-07-18T12:12:20.681174Z",
     "shell.execute_reply.started": "2022-07-18T12:12:20.666056Z"
    }
   },
   "outputs": [],
   "source": [
    "Model_list = pd.DataFrame({\n",
    "    'Model Accuracy': models_acc, \n",
    "    \"Model Name\": ['DecisionTreeClassifier','LogisticRegression', 'KNeighborsClassifier', 'RandomForestClassifier', 'GaussianNB', 'SVC']\n",
    "})\n",
    "Model_list"
   ]
  },
  {
   "cell_type": "markdown",
   "metadata": {},
   "source": [
    "### Gridsearch"
   ]
  },
  {
   "cell_type": "code",
   "execution_count": null,
   "metadata": {
    "execution": {
     "iopub.execute_input": "2022-07-18T12:18:43.505715Z",
     "iopub.status.busy": "2022-07-18T12:18:43.504784Z",
     "iopub.status.idle": "2022-07-18T12:18:43.514194Z",
     "shell.execute_reply": "2022-07-18T12:18:43.512987Z",
     "shell.execute_reply.started": "2022-07-18T12:18:43.505678Z"
    }
   },
   "outputs": [],
   "source": [
    "from sklearn.model_selection import GridSearchCV\n",
    "\n",
    "rfc = RandomForestClassifier(random_state=0)\n",
    "#파라미터 후보 - 딕셔너리(key: 하이퍼 파라미터 이름, value: 후보리스트)\n",
    "param_grid = {\n",
    "    'n_estimators':[50,100,200],\n",
    "    'max_depth':[6, 8, 10, 12],\n",
    "    'min_samples_leaf':[2 ,4, 6, 8],\n",
    "    'min_samples_split':[2 ,4, 6,8]\n",
    "}\n",
    "\n",
    "grid_search = GridSearchCV(rfc, #모델\n",
    "                           param_grid=param_grid, #하이퍼 파라미터 후보\n",
    "                           scoring='accuracy',# 평가 지표\n",
    "                           cv=5, # cross validation의 fold 개수\n",
    "                           n_jobs=-1) # 사용할 cpu의 개수: -1은 모든 cpu 전부 사용(병렬 학습)"
   ]
  },
  {
   "cell_type": "code",
   "execution_count": null,
   "metadata": {
    "collapsed": true,
    "execution": {
     "iopub.execute_input": "2022-07-18T12:19:21.398820Z",
     "iopub.status.busy": "2022-07-18T12:19:21.398345Z",
     "iopub.status.idle": "2022-07-18T12:36:34.714003Z",
     "shell.execute_reply": "2022-07-18T12:36:34.712888Z",
     "shell.execute_reply.started": "2022-07-18T12:19:21.398782Z"
    },
    "jupyter": {
     "outputs_hidden": true
    }
   },
   "outputs": [],
   "source": [
    "grid_search.fit(X_train, y_train)"
   ]
  },
  {
   "cell_type": "code",
   "execution_count": null,
   "metadata": {
    "collapsed": true,
    "execution": {
     "iopub.execute_input": "2022-07-18T12:36:34.717208Z",
     "iopub.status.busy": "2022-07-18T12:36:34.715788Z",
     "iopub.status.idle": "2022-07-18T12:36:34.967763Z",
     "shell.execute_reply": "2022-07-18T12:36:34.966932Z",
     "shell.execute_reply.started": "2022-07-18T12:36:34.717165Z"
    },
    "jupyter": {
     "outputs_hidden": true
    }
   },
   "outputs": [],
   "source": [
    "grid_search.cv_results_"
   ]
  },
  {
   "cell_type": "code",
   "execution_count": null,
   "metadata": {
    "execution": {
     "iopub.execute_input": "2022-07-18T12:37:45.693588Z",
     "iopub.status.busy": "2022-07-18T12:37:45.693024Z",
     "iopub.status.idle": "2022-07-18T12:37:45.700591Z",
     "shell.execute_reply": "2022-07-18T12:37:45.699214Z",
     "shell.execute_reply.started": "2022-07-18T12:37:45.693552Z"
    }
   },
   "outputs": [],
   "source": [
    "grid_search.best_score_"
   ]
  },
  {
   "cell_type": "code",
   "execution_count": null,
   "metadata": {
    "execution": {
     "iopub.execute_input": "2022-07-18T12:38:26.485101Z",
     "iopub.status.busy": "2022-07-18T12:38:26.484635Z",
     "iopub.status.idle": "2022-07-18T12:38:26.491850Z",
     "shell.execute_reply": "2022-07-18T12:38:26.490979Z",
     "shell.execute_reply.started": "2022-07-18T12:38:26.485065Z"
    }
   },
   "outputs": [],
   "source": [
    "grid_search.best_params_"
   ]
  },
  {
   "cell_type": "code",
   "execution_count": null,
   "metadata": {
    "execution": {
     "iopub.execute_input": "2022-07-18T12:38:31.001820Z",
     "iopub.status.busy": "2022-07-18T12:38:31.001386Z",
     "iopub.status.idle": "2022-07-18T12:38:31.062614Z",
     "shell.execute_reply": "2022-07-18T12:38:31.061646Z",
     "shell.execute_reply.started": "2022-07-18T12:38:31.001772Z"
    }
   },
   "outputs": [],
   "source": [
    "best_model = grid_search.best_estimator_\n",
    "accuracy_score(y_test, best_model.predict(X_test))"
   ]
  },
  {
   "cell_type": "code",
   "execution_count": null,
   "metadata": {
    "collapsed": true,
    "execution": {
     "iopub.execute_input": "2022-07-18T12:41:25.040073Z",
     "iopub.status.busy": "2022-07-18T12:41:25.039696Z",
     "iopub.status.idle": "2022-07-18T12:41:25.096724Z",
     "shell.execute_reply": "2022-07-18T12:41:25.095916Z",
     "shell.execute_reply.started": "2022-07-18T12:41:25.040040Z"
    },
    "jupyter": {
     "outputs_hidden": true
    }
   },
   "outputs": [],
   "source": [
    "pred=best_model.predict(X_test)"
   ]
  },
  {
   "cell_type": "code",
   "execution_count": null,
   "metadata": {
    "execution": {
     "iopub.execute_input": "2022-07-18T12:41:53.424909Z",
     "iopub.status.busy": "2022-07-18T12:41:53.424563Z",
     "iopub.status.idle": "2022-07-18T12:41:53.438284Z",
     "shell.execute_reply": "2022-07-18T12:41:53.437181Z",
     "shell.execute_reply.started": "2022-07-18T12:41:53.424878Z"
    }
   },
   "outputs": [],
   "source": [
    "print(\"Accuracy:\", accuracy_score(y_test, pred)*100,'%') \n",
    "print(\"Recall:\", recall_score(y_test, pred)*100,'%') \n",
    "print('Precision:',precision_score(y_test, pred)*100, '%') \n",
    "print('f1 score:',f1_score(y_test, pred)*100, '%')"
   ]
  },
  {
   "cell_type": "markdown",
   "metadata": {},
   "source": [
    "### Evaluation\n",
    "- RandomForest"
   ]
  },
  {
   "cell_type": "code",
   "execution_count": null,
   "metadata": {
    "execution": {
     "iopub.execute_input": "2022-07-18T12:43:06.880034Z",
     "iopub.status.busy": "2022-07-18T12:43:06.879100Z",
     "iopub.status.idle": "2022-07-18T12:43:07.085544Z",
     "shell.execute_reply": "2022-07-18T12:43:07.084638Z",
     "shell.execute_reply.started": "2022-07-18T12:43:06.880001Z"
    }
   },
   "outputs": [],
   "source": [
    "from sklearn.metrics import confusion_matrix\n",
    "from sklearn.metrics import ConfusionMatrixDisplay\n",
    "plt.figure(figsize=(7,7))\n",
    "ax = plt.gca()\n",
    "cm = confusion_matrix(y_test, pred)\n",
    "disp = ConfusionMatrixDisplay(cm, # confusion matrix\n",
    "                              display_labels=['0', '1']) # [음성레이블, 양성레이블]\n",
    "disp.plot(cmap='Blues', ax=ax) # 출력\n",
    "plt.title('Test set')\n",
    "plt.show()"
   ]
  },
  {
   "cell_type": "code",
   "execution_count": null,
   "metadata": {
    "execution": {
     "iopub.execute_input": "2022-07-18T12:45:23.586726Z",
     "iopub.status.busy": "2022-07-18T12:45:23.586368Z",
     "iopub.status.idle": "2022-07-18T12:45:23.828140Z",
     "shell.execute_reply": "2022-07-18T12:45:23.827121Z",
     "shell.execute_reply.started": "2022-07-18T12:45:23.586696Z"
    }
   },
   "outputs": [],
   "source": [
    "from sklearn.metrics import precision_score, average_precision_score,precision_recall_curve\n",
    "from sklearn.metrics import PrecisionRecallDisplay \n",
    "\n",
    "rfc= best_model.predict_proba(X_test)[:, 1]\n",
    "precision, recall, _ = precision_recall_curve(y_test, rfc)\n",
    "ap_rfc = average_precision_score(y_test, rfc)\n",
    "\n",
    "plt.figure(figsize=(8,8))\n",
    "ax = plt.gca()\n",
    "disp = PrecisionRecallDisplay(precision, recall, average_precision=ap_rfc)\n",
    "disp.plot(ax=ax);\n",
    "plt.grid(True)\n",
    "plt.xticks(np.arange(0,1.1,0.1))\n",
    "plt.yticks(np.arange(0,1.1,0.1))\n",
    "plt.show()"
   ]
  },
  {
   "cell_type": "code",
   "execution_count": null,
   "metadata": {
    "execution": {
     "iopub.execute_input": "2022-07-18T12:47:10.746732Z",
     "iopub.status.busy": "2022-07-18T12:47:10.746371Z",
     "iopub.status.idle": "2022-07-18T12:47:10.926941Z",
     "shell.execute_reply": "2022-07-18T12:47:10.925908Z",
     "shell.execute_reply.started": "2022-07-18T12:47:10.746702Z"
    }
   },
   "outputs": [],
   "source": [
    "from sklearn.metrics import roc_curve\n",
    "from sklearn.metrics import roc_auc_score\n",
    "from sklearn.metrics import RocCurveDisplay\n",
    "\n",
    "auc_rfc = roc_auc_score(y_test, rfc)\n",
    "fprs_rfc, tprs_rfc, _ = roc_curve(y_test, rfc)\n",
    "\n",
    "\n",
    "plt.figure(figsize=(7,6))\n",
    "ax = plt.gca()\n",
    "disp = RocCurveDisplay(fpr=fprs_rfc, tpr=tprs_rfc, roc_auc=auc_rfc, estimator_name='random forest')\n",
    "disp.plot(ax=ax)\n",
    "plt.show()"
   ]
  },
  {
   "cell_type": "markdown",
   "metadata": {},
   "source": [
    "### Deep Learning\n",
    "- MLP"
   ]
  },
  {
   "cell_type": "code",
   "execution_count": null,
   "metadata": {
    "execution": {
     "iopub.execute_input": "2022-07-18T12:49:27.345391Z",
     "iopub.status.busy": "2022-07-18T12:49:27.345037Z",
     "iopub.status.idle": "2022-07-18T12:49:41.247249Z",
     "shell.execute_reply": "2022-07-18T12:49:41.246355Z",
     "shell.execute_reply.started": "2022-07-18T12:49:27.345362Z"
    }
   },
   "outputs": [],
   "source": [
    "import tensorflow as tf\n",
    "from tensorflow import keras\n",
    "\n",
    "model = keras.Sequential()\n",
    "model.add(keras.layers.InputLayer((1,9))) \n",
    "model.add(keras.layers.Flatten())  \n",
    "model.add(keras.layers.Dense(256, activation='relu'))\n",
    "model.add(keras.layers.Dense(128, activation='relu'))\n",
    "model.add(keras.layers.Dense(1, activation='softmax'))\n",
    "\n",
    "model.compile(optimizer='adam',\n",
    "              loss='categorical_crossentropy',\n",
    "              metrics=['accuracy'])\n",
    "hist = model.fit(X_train, y_train, \n",
    "                  epochs=5,\n",
    "                  batch_size=9,\n",
    "                  validation_split=0.3 \n",
    "                 )\n",
    "\n",
    "test_loss, test_acc = model.evaluate(X_test, y_test)"
   ]
  },
  {
   "cell_type": "code",
   "execution_count": null,
   "metadata": {
    "execution": {
     "iopub.execute_input": "2022-07-18T12:50:11.286145Z",
     "iopub.status.busy": "2022-07-18T12:50:11.285766Z",
     "iopub.status.idle": "2022-07-18T12:50:11.292585Z",
     "shell.execute_reply": "2022-07-18T12:50:11.291648Z",
     "shell.execute_reply.started": "2022-07-18T12:50:11.286114Z"
    }
   },
   "outputs": [],
   "source": [
    "model.summary() "
   ]
  },
  {
   "cell_type": "code",
   "execution_count": null,
   "metadata": {
    "execution": {
     "iopub.execute_input": "2022-07-18T12:50:26.219865Z",
     "iopub.status.busy": "2022-07-18T12:50:26.219520Z",
     "iopub.status.idle": "2022-07-18T12:50:27.364081Z",
     "shell.execute_reply": "2022-07-18T12:50:27.362917Z",
     "shell.execute_reply.started": "2022-07-18T12:50:26.219837Z"
    }
   },
   "outputs": [],
   "source": [
    "from tensorflow.keras.utils import plot_model\n",
    "plot_model(model, to_file='model_shapes.png', show_shapes=True)"
   ]
  },
  {
   "cell_type": "code",
   "execution_count": null,
   "metadata": {
    "execution": {
     "iopub.execute_input": "2022-07-18T07:55:45.852508Z",
     "iopub.status.busy": "2022-07-18T07:55:45.852081Z",
     "iopub.status.idle": "2022-07-18T07:55:45.870727Z",
     "shell.execute_reply": "2022-07-18T07:55:45.869781Z",
     "shell.execute_reply.started": "2022-07-18T07:55:45.852468Z"
    }
   },
   "outputs": [],
   "source": [
    "model.compile(optimizer='adam',\n",
    "              loss='categorical_crossentropy',\n",
    "              metrics=['accuracy'])"
   ]
  },
  {
   "cell_type": "code",
   "execution_count": null,
   "metadata": {
    "execution": {
     "iopub.execute_input": "2022-07-18T12:50:44.431712Z",
     "iopub.status.busy": "2022-07-18T12:50:44.431078Z",
     "iopub.status.idle": "2022-07-18T12:50:44.599994Z",
     "shell.execute_reply": "2022-07-18T12:50:44.598865Z",
     "shell.execute_reply.started": "2022-07-18T12:50:44.431663Z"
    }
   },
   "outputs": [],
   "source": [
    "test_loss, test_acc = model.evaluate(X_test, y_test)"
   ]
  },
  {
   "cell_type": "code",
   "execution_count": null,
   "metadata": {
    "execution": {
     "iopub.execute_input": "2022-07-18T12:50:47.269751Z",
     "iopub.status.busy": "2022-07-18T12:50:47.269016Z",
     "iopub.status.idle": "2022-07-18T12:50:47.274750Z",
     "shell.execute_reply": "2022-07-18T12:50:47.273500Z",
     "shell.execute_reply.started": "2022-07-18T12:50:47.269713Z"
    }
   },
   "outputs": [],
   "source": [
    "print(test_loss, test_acc)"
   ]
  },
  {
   "cell_type": "code",
   "execution_count": null,
   "metadata": {
    "execution": {
     "iopub.execute_input": "2022-07-18T12:51:11.042343Z",
     "iopub.status.busy": "2022-07-18T12:51:11.041993Z",
     "iopub.status.idle": "2022-07-18T12:51:11.588251Z",
     "shell.execute_reply": "2022-07-18T12:51:11.587328Z",
     "shell.execute_reply.started": "2022-07-18T12:51:11.042317Z"
    }
   },
   "outputs": [],
   "source": [
    "import matplotlib.pyplot as plt\n",
    "plt.figure(figsize=(7,10))\n",
    "\n",
    "plt.subplot(2,1,1)\n",
    "plt.plot(range(1,6), hist.history['loss'], label='Train Loss')\n",
    "plt.plot(range(1,6), hist.history['val_loss'], label=\"Validation Loss\")\n",
    "plt.title(\"Loss per Epoch\", fontsize=20)\n",
    "plt.legend()\n",
    "\n",
    "plt.subplot(2,1,2)\n",
    "plt.plot(range(1,6), hist.history['accuracy'], label='Train Accuracy')\n",
    "plt.plot(range(1,6), hist.history['val_accuracy'], label='Validation Accuracy')\n",
    "plt.title(\"Accuracy per Epoch\", fontsize=20)\n",
    "\n",
    "plt.legend()\n",
    "plt.tight_layout()\n",
    "plt.show()"
   ]
  },
  {
   "cell_type": "markdown",
   "metadata": {},
   "source": [
    "### Deep Learning\n",
    "- DNN"
   ]
  },
  {
   "cell_type": "code",
   "execution_count": null,
   "metadata": {
    "execution": {
     "iopub.execute_input": "2022-07-18T13:05:57.692876Z",
     "iopub.status.busy": "2022-07-18T13:05:57.692518Z",
     "iopub.status.idle": "2022-07-18T13:05:57.702208Z",
     "shell.execute_reply": "2022-07-18T13:05:57.701289Z",
     "shell.execute_reply.started": "2022-07-18T13:05:57.692845Z"
    }
   },
   "outputs": [],
   "source": [
    "import tensorflow as tf\n",
    "from tensorflow import keras\n",
    "from tensorflow.keras import layers\n",
    "\n",
    "np.random.seed(0)\n",
    "tf.random.set_seed(0)"
   ]
  },
  {
   "cell_type": "code",
   "execution_count": null,
   "metadata": {
    "execution": {
     "iopub.execute_input": "2022-07-18T12:59:37.353055Z",
     "iopub.status.busy": "2022-07-18T12:59:37.352124Z",
     "iopub.status.idle": "2022-07-18T12:59:37.366476Z",
     "shell.execute_reply": "2022-07-18T12:59:37.365521Z",
     "shell.execute_reply.started": "2022-07-18T12:59:37.353011Z"
    }
   },
   "outputs": [],
   "source": [
    "X_train,X_val,y_train,y_val=train_test_split(X_train, y_train, test_size=0.3, random_state=0)"
   ]
  },
  {
   "cell_type": "code",
   "execution_count": null,
   "metadata": {
    "execution": {
     "iopub.execute_input": "2022-07-18T13:00:03.058001Z",
     "iopub.status.busy": "2022-07-18T13:00:03.057544Z",
     "iopub.status.idle": "2022-07-18T13:00:03.070247Z",
     "shell.execute_reply": "2022-07-18T13:00:03.069231Z",
     "shell.execute_reply.started": "2022-07-18T13:00:03.057949Z"
    }
   },
   "outputs": [],
   "source": [
    "X_train.shape, X_val.shape, X_test.shape"
   ]
  },
  {
   "cell_type": "code",
   "execution_count": null,
   "metadata": {
    "execution": {
     "iopub.execute_input": "2022-07-18T13:02:32.939823Z",
     "iopub.status.busy": "2022-07-18T13:02:32.939481Z",
     "iopub.status.idle": "2022-07-18T13:02:32.946693Z",
     "shell.execute_reply": "2022-07-18T13:02:32.945767Z",
     "shell.execute_reply.started": "2022-07-18T13:02:32.939792Z"
    }
   },
   "outputs": [],
   "source": [
    "y_train.shape, y_val.shape, y_test.shape"
   ]
  },
  {
   "cell_type": "code",
   "execution_count": null,
   "metadata": {
    "execution": {
     "iopub.execute_input": "2022-07-18T13:25:39.866207Z",
     "iopub.status.busy": "2022-07-18T13:25:39.865625Z",
     "iopub.status.idle": "2022-07-18T13:25:39.872244Z",
     "shell.execute_reply": "2022-07-18T13:25:39.871268Z",
     "shell.execute_reply.started": "2022-07-18T13:25:39.866163Z"
    }
   },
   "outputs": [],
   "source": [
    "LEARNING_RATE = 0.001\n",
    "N_EPOCHS = 200\n",
    "N_BATCHS = 100\n",
    "\n",
    "N_TRAIN = X_train.shape[0]\n",
    "N_VAL = X_val.shape[0]\n",
    "N_TEST = X_test.shape[0]"
   ]
  },
  {
   "cell_type": "code",
   "execution_count": null,
   "metadata": {
    "execution": {
     "iopub.execute_input": "2022-07-18T13:25:41.144351Z",
     "iopub.status.busy": "2022-07-18T13:25:41.143995Z",
     "iopub.status.idle": "2022-07-18T13:25:41.181036Z",
     "shell.execute_reply": "2022-07-18T13:25:41.180127Z",
     "shell.execute_reply.started": "2022-07-18T13:25:41.144323Z"
    }
   },
   "outputs": [],
   "source": [
    "train_dataset = tf.data.Dataset.from_tensor_slices((X_train, y_train))\\\n",
    "                               .shuffle(N_TRAIN)\\\n",
    "                               .batch(N_BATCHS, drop_remainder=True)\n",
    "\n",
    "val_dataset = tf.data.Dataset.from_tensor_slices((X_val, y_val)).batch(N_BATCHS)\n",
    "test_dataset = tf.data.Dataset.from_tensor_slices((X_test, y_test)).batch(N_BATCHS)"
   ]
  },
  {
   "cell_type": "code",
   "execution_count": null,
   "metadata": {
    "execution": {
     "iopub.execute_input": "2022-07-18T13:25:41.784204Z",
     "iopub.status.busy": "2022-07-18T13:25:41.783643Z",
     "iopub.status.idle": "2022-07-18T13:25:41.795876Z",
     "shell.execute_reply": "2022-07-18T13:25:41.794508Z",
     "shell.execute_reply.started": "2022-07-18T13:25:41.784169Z"
    }
   },
   "outputs": [],
   "source": [
    "def create_DNN_model():\n",
    "    model = keras.Sequential()\n",
    "    \n",
    "    # 1. Flatten + Input Layer\n",
    "    model.add(layers.Flatten(input_shape=(1,9))) \n",
    "    \n",
    "    # 2. Hidden Layer\n",
    "    model.add(layers.Dropout(0.3))\n",
    "    model.add(layers.BatchNormalization())\n",
    "    model.add(layers.Dense(units=256, activation='relu'))\n",
    "    \n",
    "    model.add(layers.Dropout(0.3))\n",
    "    model.add(layers.BatchNormalization())\n",
    "    model.add(layers.Dense(units=256, activation='relu'))\n",
    "    \n",
    "    model.add(layers.Dropout(0.3))\n",
    "    model.add(layers.BatchNormalization())\n",
    "    model.add(layers.Dense(units=128, activation='relu'))\n",
    "    \n",
    "    model.add(layers.Dropout(0.3))\n",
    "    model.add(layers.BatchNormalization())\n",
    "    model.add(layers.Dense(units=128, activation='relu'))\n",
    "    \n",
    "    model.add(layers.Dropout(0.3))\n",
    "    model.add(layers.BatchNormalization())\n",
    "    model.add(layers.Dense(units=64, activation='relu'))\n",
    "    \n",
    "    model.add(layers.Dropout(0.3))\n",
    "    model.add(layers.BatchNormalization())\n",
    "    model.add(layers.Dense(units=64, activation='relu'))\n",
    "    \n",
    "    # 3. Output Layer: 다중분류-unit수: class수, 각 unit이 클래스별 확률 => activation 함수: softmax\n",
    "    model.add(layers.Dense(units=1, activation='sigmoid'))\n",
    "    \n",
    "    return model"
   ]
  },
  {
   "cell_type": "code",
   "execution_count": null,
   "metadata": {
    "execution": {
     "iopub.execute_input": "2022-07-18T13:25:43.824436Z",
     "iopub.status.busy": "2022-07-18T13:25:43.823039Z",
     "iopub.status.idle": "2022-07-18T13:25:44.034278Z",
     "shell.execute_reply": "2022-07-18T13:25:44.033284Z",
     "shell.execute_reply.started": "2022-07-18T13:25:43.824393Z"
    }
   },
   "outputs": [],
   "source": [
    "model = create_DNN_model()\n",
    "\n",
    "model.compile(optimizer=keras.optimizers.Adam(learning_rate=LEARNING_RATE), \n",
    "              loss='binary_crossentropy',\n",
    "              metrics=['accuracy'])"
   ]
  },
  {
   "cell_type": "code",
   "execution_count": null,
   "metadata": {
    "execution": {
     "iopub.execute_input": "2022-07-18T13:25:44.768972Z",
     "iopub.status.busy": "2022-07-18T13:25:44.767909Z",
     "iopub.status.idle": "2022-07-18T13:25:44.779371Z",
     "shell.execute_reply": "2022-07-18T13:25:44.778406Z",
     "shell.execute_reply.started": "2022-07-18T13:25:44.768904Z"
    }
   },
   "outputs": [],
   "source": [
    "model.summary()"
   ]
  },
  {
   "cell_type": "code",
   "execution_count": null,
   "metadata": {
    "execution": {
     "iopub.execute_input": "2022-07-18T13:25:46.708487Z",
     "iopub.status.busy": "2022-07-18T13:25:46.708010Z",
     "iopub.status.idle": "2022-07-18T13:26:08.083849Z",
     "shell.execute_reply": "2022-07-18T13:26:08.082973Z",
     "shell.execute_reply.started": "2022-07-18T13:25:46.708438Z"
    }
   },
   "outputs": [],
   "source": [
    "hist = model.fit(train_dataset,\n",
    "                 epochs=N_EPOCHS,\n",
    "                 validation_data=val_dataset)"
   ]
  },
  {
   "cell_type": "code",
   "execution_count": null,
   "metadata": {
    "execution": {
     "iopub.execute_input": "2022-07-18T13:28:30.187749Z",
     "iopub.status.busy": "2022-07-18T13:28:30.187382Z",
     "iopub.status.idle": "2022-07-18T13:28:30.231797Z",
     "shell.execute_reply": "2022-07-18T13:28:30.230935Z",
     "shell.execute_reply.started": "2022-07-18T13:28:30.187720Z"
    }
   },
   "outputs": [],
   "source": [
    "loss, acc = model.evaluate(test_dataset)"
   ]
  },
  {
   "cell_type": "code",
   "execution_count": null,
   "metadata": {
    "execution": {
     "iopub.execute_input": "2022-07-18T13:26:23.371506Z",
     "iopub.status.busy": "2022-07-18T13:26:23.371048Z",
     "iopub.status.idle": "2022-07-18T13:26:24.031757Z",
     "shell.execute_reply": "2022-07-18T13:26:24.030845Z",
     "shell.execute_reply.started": "2022-07-18T13:26:23.371468Z"
    }
   },
   "outputs": [],
   "source": [
    "plt.figure(figsize=(7,6))\n",
    "plt.plot(range(1, N_EPOCHS+1), hist.history['loss'], label='train loss')\n",
    "plt.plot(range(1, N_EPOCHS+1), hist.history['val_loss'], label='validation loss')\n",
    "plt.title(\"LOSS\", fontsize=20)\n",
    "plt.xlabel(\"Epochs\")\n",
    "plt.ylabel(\"Loss\")\n",
    "plt.legend()\n",
    "plt.show()"
   ]
  },
  {
   "cell_type": "code",
   "execution_count": null,
   "metadata": {
    "execution": {
     "iopub.execute_input": "2022-07-18T13:26:28.519174Z",
     "iopub.status.busy": "2022-07-18T13:26:28.518517Z",
     "iopub.status.idle": "2022-07-18T13:26:28.732971Z",
     "shell.execute_reply": "2022-07-18T13:26:28.731849Z",
     "shell.execute_reply.started": "2022-07-18T13:26:28.519138Z"
    }
   },
   "outputs": [],
   "source": []
  },
  {
   "cell_type": "code",
   "execution_count": null,
   "metadata": {
    "execution": {
     "iopub.execute_input": "2022-07-18T13:28:59.129331Z",
     "iopub.status.busy": "2022-07-18T13:28:59.128980Z",
     "iopub.status.idle": "2022-07-18T13:28:59.199796Z",
     "shell.execute_reply": "2022-07-18T13:28:59.198888Z",
     "shell.execute_reply.started": "2022-07-18T13:28:59.129303Z"
    }
   },
   "outputs": [],
   "source": [
    "new_data = X_test[:5]\n",
    "pred = model.predict(new_data)\n",
    "threshold = 0.5\n",
    "result = (pred > threshold).astype(np.int8)\n",
    "result"
   ]
  },
  {
   "cell_type": "code",
   "execution_count": null,
   "metadata": {
    "execution": {
     "iopub.execute_input": "2022-07-18T13:29:18.273195Z",
     "iopub.status.busy": "2022-07-18T13:29:18.272699Z",
     "iopub.status.idle": "2022-07-18T13:29:18.283631Z",
     "shell.execute_reply": "2022-07-18T13:29:18.282509Z",
     "shell.execute_reply.started": "2022-07-18T13:29:18.273161Z"
    }
   },
   "outputs": [],
   "source": [
    "y_test[:5]"
   ]
  },
  {
   "cell_type": "code",
   "execution_count": null,
   "metadata": {},
   "outputs": [],
   "source": []
  }
 ],
 "metadata": {
  "kernelspec": {
   "display_name": "Python 3 (ipykernel)",
   "language": "python",
   "name": "python3"
  },
  "language_info": {
   "codemirror_mode": {
    "name": "ipython",
    "version": 3
   },
   "file_extension": ".py",
   "mimetype": "text/x-python",
   "name": "python",
   "nbconvert_exporter": "python",
   "pygments_lexer": "ipython3",
   "version": "3.8.13"
  }
 },
 "nbformat": 4,
 "nbformat_minor": 4
}
