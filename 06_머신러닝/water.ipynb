{
 "cells": [
  {
   "cell_type": "code",
   "execution_count": 81,
   "metadata": {
    "scrolled": true
   },
   "outputs": [
    {
     "name": "stdout",
     "output_type": "stream",
     "text": [
      "Requirement already satisfied: seaborn in /Users/han-yechan/miniforge3/envs/tf/lib/python3.8/site-packages (0.11.2)\n",
      "Requirement already satisfied: scipy>=1.0 in /Users/han-yechan/miniforge3/envs/tf/lib/python3.8/site-packages (from seaborn) (1.8.1)\n",
      "Requirement already satisfied: pandas>=0.23 in /Users/han-yechan/miniforge3/envs/tf/lib/python3.8/site-packages (from seaborn) (1.4.3)\n",
      "Requirement already satisfied: numpy>=1.15 in /Users/han-yechan/miniforge3/envs/tf/lib/python3.8/site-packages (from seaborn) (1.22.3)\n",
      "Requirement already satisfied: matplotlib>=2.2 in /Users/han-yechan/miniforge3/envs/tf/lib/python3.8/site-packages (from seaborn) (3.5.2)\n",
      "Requirement already satisfied: packaging>=20.0 in /Users/han-yechan/miniforge3/envs/tf/lib/python3.8/site-packages (from matplotlib>=2.2->seaborn) (21.3)\n",
      "Requirement already satisfied: pillow>=6.2.0 in /Users/han-yechan/miniforge3/envs/tf/lib/python3.8/site-packages (from matplotlib>=2.2->seaborn) (9.2.0)\n",
      "Requirement already satisfied: fonttools>=4.22.0 in /Users/han-yechan/miniforge3/envs/tf/lib/python3.8/site-packages (from matplotlib>=2.2->seaborn) (4.34.4)\n",
      "Requirement already satisfied: kiwisolver>=1.0.1 in /Users/han-yechan/miniforge3/envs/tf/lib/python3.8/site-packages (from matplotlib>=2.2->seaborn) (1.4.3)\n",
      "Requirement already satisfied: python-dateutil>=2.7 in /Users/han-yechan/miniforge3/envs/tf/lib/python3.8/site-packages (from matplotlib>=2.2->seaborn) (2.8.2)\n",
      "Requirement already satisfied: pyparsing>=2.2.1 in /Users/han-yechan/miniforge3/envs/tf/lib/python3.8/site-packages (from matplotlib>=2.2->seaborn) (3.0.9)\n",
      "Requirement already satisfied: cycler>=0.10 in /Users/han-yechan/miniforge3/envs/tf/lib/python3.8/site-packages (from matplotlib>=2.2->seaborn) (0.11.0)\n",
      "Requirement already satisfied: pytz>=2020.1 in /Users/han-yechan/miniforge3/envs/tf/lib/python3.8/site-packages (from pandas>=0.23->seaborn) (2022.1)\n",
      "Requirement already satisfied: six>=1.5 in /Users/han-yechan/miniforge3/envs/tf/lib/python3.8/site-packages (from python-dateutil>=2.7->matplotlib>=2.2->seaborn) (1.15.0)\n",
      "Note: you may need to restart the kernel to use updated packages.\n"
     ]
    }
   ],
   "source": [
    "pip install seaborn"
   ]
  },
  {
   "cell_type": "code",
   "execution_count": 82,
   "metadata": {
    "_cell_guid": "b1076dfc-b9ad-4769-8c92-a6c4dae69d19",
    "_uuid": "8f2839f25d086af736a60e9eeb907d3b93b6e0e5",
    "execution": {
     "iopub.execute_input": "2022-07-18T11:48:12.617177Z",
     "iopub.status.busy": "2022-07-18T11:48:12.616606Z",
     "iopub.status.idle": "2022-07-18T11:48:13.782996Z",
     "shell.execute_reply": "2022-07-18T11:48:13.782075Z",
     "shell.execute_reply.started": "2022-07-18T11:48:12.617068Z"
    }
   },
   "outputs": [],
   "source": [
    "import numpy as np # linear algebra\n",
    "import pandas as pd # data processing, CSV file I/O (e.g. pd.read_csv)\n",
    "import matplotlib.pyplot as plt\n",
    "import seaborn as sns\n",
    "\n",
    "import os\n",
    "for dirname, _, filenames in os.walk('/kaggle/input'):\n",
    "    for filename in filenames:\n",
    "        print(os.path.join(dirname, filename))\n",
    "\n",
    "# You can write up to 20GB to the current directory (/kaggle/working/) that gets preserved as output when you create a version using \"Save & Run All\" \n",
    "# You can also write temporary files to /kaggle/temp/, but they won't be saved outside of the current session"
   ]
  },
  {
   "cell_type": "markdown",
   "metadata": {},
   "source": [
    "### Feature Description\n",
    "\n",
    "ph: pH of 1. water (0 to 14).\n",
    "\n",
    "Hardness: Capacity of water to precipitate soap in mg/L.\n",
    "\n",
    "Solids: Total dissolved solids in ppm.\n",
    "\n",
    "Chloramines: Amount of Chloramines in ppm.\n",
    "\n",
    "Sulfate: Amount of Sulfates dissolved in mg/L.\n",
    "\n",
    "Conductivity: Electrical conductivity of water in μS/cm.\n",
    "\n",
    "Organic_carbon: Amount of organic carbon in ppm.\n",
    "\n",
    "Trihalomethanes: Amount of Trihalomethanes in μg/L.\n",
    "\n",
    "Turbidity: Measure of light emiting property of water in NTU.\n",
    "\n",
    "Potability: Indicates if water is safe for human consumption. Potable - 1 and Not potable - 0"
   ]
  },
  {
   "cell_type": "code",
   "execution_count": 83,
   "metadata": {
    "execution": {
     "iopub.execute_input": "2022-07-18T11:48:16.674268Z",
     "iopub.status.busy": "2022-07-18T11:48:16.673800Z",
     "iopub.status.idle": "2022-07-18T11:48:16.728220Z",
     "shell.execute_reply": "2022-07-18T11:48:16.727218Z",
     "shell.execute_reply.started": "2022-07-18T11:48:16.674229Z"
    }
   },
   "outputs": [],
   "source": [
    "data=pd.read_csv('water_potability.csv')\n",
    "data=pd.DataFrame(data)"
   ]
  },
  {
   "cell_type": "code",
   "execution_count": 84,
   "metadata": {
    "execution": {
     "iopub.execute_input": "2022-07-18T11:48:30.768596Z",
     "iopub.status.busy": "2022-07-18T11:48:30.768190Z",
     "iopub.status.idle": "2022-07-18T11:48:30.799855Z",
     "shell.execute_reply": "2022-07-18T11:48:30.798981Z",
     "shell.execute_reply.started": "2022-07-18T11:48:30.768564Z"
    }
   },
   "outputs": [
    {
     "data": {
      "text/html": [
       "<div>\n",
       "<style scoped>\n",
       "    .dataframe tbody tr th:only-of-type {\n",
       "        vertical-align: middle;\n",
       "    }\n",
       "\n",
       "    .dataframe tbody tr th {\n",
       "        vertical-align: top;\n",
       "    }\n",
       "\n",
       "    .dataframe thead th {\n",
       "        text-align: right;\n",
       "    }\n",
       "</style>\n",
       "<table border=\"1\" class=\"dataframe\">\n",
       "  <thead>\n",
       "    <tr style=\"text-align: right;\">\n",
       "      <th></th>\n",
       "      <th>ph</th>\n",
       "      <th>Hardness</th>\n",
       "      <th>Solids</th>\n",
       "      <th>Chloramines</th>\n",
       "      <th>Sulfate</th>\n",
       "      <th>Conductivity</th>\n",
       "      <th>Organic_carbon</th>\n",
       "      <th>Trihalomethanes</th>\n",
       "      <th>Turbidity</th>\n",
       "      <th>Potability</th>\n",
       "    </tr>\n",
       "  </thead>\n",
       "  <tbody>\n",
       "    <tr>\n",
       "      <th>0</th>\n",
       "      <td>NaN</td>\n",
       "      <td>204.890455</td>\n",
       "      <td>20791.318981</td>\n",
       "      <td>7.300212</td>\n",
       "      <td>368.516441</td>\n",
       "      <td>564.308654</td>\n",
       "      <td>10.379783</td>\n",
       "      <td>86.990970</td>\n",
       "      <td>2.963135</td>\n",
       "      <td>0</td>\n",
       "    </tr>\n",
       "    <tr>\n",
       "      <th>1</th>\n",
       "      <td>3.716080</td>\n",
       "      <td>129.422921</td>\n",
       "      <td>18630.057858</td>\n",
       "      <td>6.635246</td>\n",
       "      <td>NaN</td>\n",
       "      <td>592.885359</td>\n",
       "      <td>15.180013</td>\n",
       "      <td>56.329076</td>\n",
       "      <td>4.500656</td>\n",
       "      <td>0</td>\n",
       "    </tr>\n",
       "    <tr>\n",
       "      <th>2</th>\n",
       "      <td>8.099124</td>\n",
       "      <td>224.236259</td>\n",
       "      <td>19909.541732</td>\n",
       "      <td>9.275884</td>\n",
       "      <td>NaN</td>\n",
       "      <td>418.606213</td>\n",
       "      <td>16.868637</td>\n",
       "      <td>66.420093</td>\n",
       "      <td>3.055934</td>\n",
       "      <td>0</td>\n",
       "    </tr>\n",
       "    <tr>\n",
       "      <th>3</th>\n",
       "      <td>8.316766</td>\n",
       "      <td>214.373394</td>\n",
       "      <td>22018.417441</td>\n",
       "      <td>8.059332</td>\n",
       "      <td>356.886136</td>\n",
       "      <td>363.266516</td>\n",
       "      <td>18.436524</td>\n",
       "      <td>100.341674</td>\n",
       "      <td>4.628771</td>\n",
       "      <td>0</td>\n",
       "    </tr>\n",
       "    <tr>\n",
       "      <th>4</th>\n",
       "      <td>9.092223</td>\n",
       "      <td>181.101509</td>\n",
       "      <td>17978.986339</td>\n",
       "      <td>6.546600</td>\n",
       "      <td>310.135738</td>\n",
       "      <td>398.410813</td>\n",
       "      <td>11.558279</td>\n",
       "      <td>31.997993</td>\n",
       "      <td>4.075075</td>\n",
       "      <td>0</td>\n",
       "    </tr>\n",
       "    <tr>\n",
       "      <th>5</th>\n",
       "      <td>5.584087</td>\n",
       "      <td>188.313324</td>\n",
       "      <td>28748.687739</td>\n",
       "      <td>7.544869</td>\n",
       "      <td>326.678363</td>\n",
       "      <td>280.467916</td>\n",
       "      <td>8.399735</td>\n",
       "      <td>54.917862</td>\n",
       "      <td>2.559708</td>\n",
       "      <td>0</td>\n",
       "    </tr>\n",
       "    <tr>\n",
       "      <th>6</th>\n",
       "      <td>10.223862</td>\n",
       "      <td>248.071735</td>\n",
       "      <td>28749.716544</td>\n",
       "      <td>7.513408</td>\n",
       "      <td>393.663396</td>\n",
       "      <td>283.651634</td>\n",
       "      <td>13.789695</td>\n",
       "      <td>84.603556</td>\n",
       "      <td>2.672989</td>\n",
       "      <td>0</td>\n",
       "    </tr>\n",
       "    <tr>\n",
       "      <th>7</th>\n",
       "      <td>8.635849</td>\n",
       "      <td>203.361523</td>\n",
       "      <td>13672.091764</td>\n",
       "      <td>4.563009</td>\n",
       "      <td>303.309771</td>\n",
       "      <td>474.607645</td>\n",
       "      <td>12.363817</td>\n",
       "      <td>62.798309</td>\n",
       "      <td>4.401425</td>\n",
       "      <td>0</td>\n",
       "    </tr>\n",
       "    <tr>\n",
       "      <th>8</th>\n",
       "      <td>NaN</td>\n",
       "      <td>118.988579</td>\n",
       "      <td>14285.583854</td>\n",
       "      <td>7.804174</td>\n",
       "      <td>268.646941</td>\n",
       "      <td>389.375566</td>\n",
       "      <td>12.706049</td>\n",
       "      <td>53.928846</td>\n",
       "      <td>3.595017</td>\n",
       "      <td>0</td>\n",
       "    </tr>\n",
       "    <tr>\n",
       "      <th>9</th>\n",
       "      <td>11.180284</td>\n",
       "      <td>227.231469</td>\n",
       "      <td>25484.508491</td>\n",
       "      <td>9.077200</td>\n",
       "      <td>404.041635</td>\n",
       "      <td>563.885481</td>\n",
       "      <td>17.927806</td>\n",
       "      <td>71.976601</td>\n",
       "      <td>4.370562</td>\n",
       "      <td>0</td>\n",
       "    </tr>\n",
       "  </tbody>\n",
       "</table>\n",
       "</div>"
      ],
      "text/plain": [
       "          ph    Hardness        Solids  Chloramines     Sulfate  Conductivity  \\\n",
       "0        NaN  204.890455  20791.318981     7.300212  368.516441    564.308654   \n",
       "1   3.716080  129.422921  18630.057858     6.635246         NaN    592.885359   \n",
       "2   8.099124  224.236259  19909.541732     9.275884         NaN    418.606213   \n",
       "3   8.316766  214.373394  22018.417441     8.059332  356.886136    363.266516   \n",
       "4   9.092223  181.101509  17978.986339     6.546600  310.135738    398.410813   \n",
       "5   5.584087  188.313324  28748.687739     7.544869  326.678363    280.467916   \n",
       "6  10.223862  248.071735  28749.716544     7.513408  393.663396    283.651634   \n",
       "7   8.635849  203.361523  13672.091764     4.563009  303.309771    474.607645   \n",
       "8        NaN  118.988579  14285.583854     7.804174  268.646941    389.375566   \n",
       "9  11.180284  227.231469  25484.508491     9.077200  404.041635    563.885481   \n",
       "\n",
       "   Organic_carbon  Trihalomethanes  Turbidity  Potability  \n",
       "0       10.379783        86.990970   2.963135           0  \n",
       "1       15.180013        56.329076   4.500656           0  \n",
       "2       16.868637        66.420093   3.055934           0  \n",
       "3       18.436524       100.341674   4.628771           0  \n",
       "4       11.558279        31.997993   4.075075           0  \n",
       "5        8.399735        54.917862   2.559708           0  \n",
       "6       13.789695        84.603556   2.672989           0  \n",
       "7       12.363817        62.798309   4.401425           0  \n",
       "8       12.706049        53.928846   3.595017           0  \n",
       "9       17.927806        71.976601   4.370562           0  "
      ]
     },
     "execution_count": 84,
     "metadata": {},
     "output_type": "execute_result"
    }
   ],
   "source": [
    "data.head(10)"
   ]
  },
  {
   "cell_type": "code",
   "execution_count": 85,
   "metadata": {
    "execution": {
     "iopub.execute_input": "2022-07-18T11:48:21.766809Z",
     "iopub.status.busy": "2022-07-18T11:48:21.766476Z",
     "iopub.status.idle": "2022-07-18T11:48:21.791987Z",
     "shell.execute_reply": "2022-07-18T11:48:21.790987Z",
     "shell.execute_reply.started": "2022-07-18T11:48:21.766781Z"
    }
   },
   "outputs": [
    {
     "name": "stdout",
     "output_type": "stream",
     "text": [
      "<class 'pandas.core.frame.DataFrame'>\n",
      "RangeIndex: 3276 entries, 0 to 3275\n",
      "Data columns (total 10 columns):\n",
      " #   Column           Non-Null Count  Dtype  \n",
      "---  ------           --------------  -----  \n",
      " 0   ph               2785 non-null   float64\n",
      " 1   Hardness         3276 non-null   float64\n",
      " 2   Solids           3276 non-null   float64\n",
      " 3   Chloramines      3276 non-null   float64\n",
      " 4   Sulfate          2495 non-null   float64\n",
      " 5   Conductivity     3276 non-null   float64\n",
      " 6   Organic_carbon   3276 non-null   float64\n",
      " 7   Trihalomethanes  3114 non-null   float64\n",
      " 8   Turbidity        3276 non-null   float64\n",
      " 9   Potability       3276 non-null   int64  \n",
      "dtypes: float64(9), int64(1)\n",
      "memory usage: 256.1 KB\n"
     ]
    }
   ],
   "source": [
    "data.info()"
   ]
  },
  {
   "cell_type": "code",
   "execution_count": 86,
   "metadata": {
    "execution": {
     "iopub.execute_input": "2022-07-18T11:48:41.580094Z",
     "iopub.status.busy": "2022-07-18T11:48:41.579719Z",
     "iopub.status.idle": "2022-07-18T11:48:41.592570Z",
     "shell.execute_reply": "2022-07-18T11:48:41.591280Z",
     "shell.execute_reply.started": "2022-07-18T11:48:41.580062Z"
    }
   },
   "outputs": [
    {
     "data": {
      "text/plain": [
       "ph                 491\n",
       "Hardness             0\n",
       "Solids               0\n",
       "Chloramines          0\n",
       "Sulfate            781\n",
       "Conductivity         0\n",
       "Organic_carbon       0\n",
       "Trihalomethanes    162\n",
       "Turbidity            0\n",
       "Potability           0\n",
       "dtype: int64"
      ]
     },
     "execution_count": 86,
     "metadata": {},
     "output_type": "execute_result"
    }
   ],
   "source": [
    "data.isnull().sum()"
   ]
  },
  {
   "cell_type": "markdown",
   "metadata": {
    "execution": {
     "iopub.execute_input": "2022-07-18T07:47:42.969645Z",
     "iopub.status.busy": "2022-07-18T07:47:42.969238Z",
     "iopub.status.idle": "2022-07-18T07:47:42.977294Z",
     "shell.execute_reply": "2022-07-18T07:47:42.975496Z",
     "shell.execute_reply.started": "2022-07-18T07:47:42.969589Z"
    }
   },
   "source": [
    "# 결측치 처리(ph, Sulfate, Trihalomethanes)\n",
    "\n",
    "- 1. dropna(null값을 포함한 데이터는 drop한다) => 데이터가 1526개로 약 절반가량으로 줄어든다.=> 정확도가 떨어는것을 확인함\n",
    "- 2. null값이 있는 column을 drop한다.=> feature가 9개에서 6개로 줄어든다.=> 정확도가 떨어지는것을 확인함\n",
    "- 3. Feature의 평균값 또는 중앙값으로 대체한다."
   ]
  },
  {
   "cell_type": "code",
   "execution_count": 87,
   "metadata": {},
   "outputs": [],
   "source": [
    "# 결측치 평균값으로 대체\n",
    "\n",
    "data.loc[(data['Potability'] == 0) & (data['ph'].isna()), 'ph'] = data[data['Potability'] == 0]['ph'].mean(skipna=True)\n",
    "data.loc[(data['Potability'] == 1) & (data['ph'].isna()), 'ph'] = data[data['Potability'] == 1]['ph'].mean(skipna=True)\n",
    "\n",
    "\n",
    "data.loc[(data['Potability'] == 0) & (data['Sulfate'].isna()), 'Sulfate'] = data[data['Potability'] == 0]['Sulfate'].mean(skipna=True)\n",
    "data.loc[(data['Potability'] == 1) & (data['Sulfate'].isna()), 'Sulfate'] = data[data['Potability'] == 1]['Sulfate'].mean(skipna=True)\n",
    "\n",
    "\n",
    "data.loc[(data['Potability'] == 0) & (data['Trihalomethanes'].isna()), 'Trihalomethanes'] = data[data['Potability'] == 0]['Trihalomethanes'].mean(skipna=True)\n",
    "data.loc[(data['Potability'] == 1) & (data['Trihalomethanes'].isna()), 'Trihalomethanes'] = data[data['Potability'] == 1]['Trihalomethanes'].mean(skipna=True)"
   ]
  },
  {
   "cell_type": "code",
   "execution_count": 88,
   "metadata": {
    "execution": {
     "iopub.execute_input": "2022-07-18T12:09:45.985744Z",
     "iopub.status.busy": "2022-07-18T12:09:45.985394Z",
     "iopub.status.idle": "2022-07-18T12:09:45.994970Z",
     "shell.execute_reply": "2022-07-18T12:09:45.993987Z",
     "shell.execute_reply.started": "2022-07-18T12:09:45.985713Z"
    }
   },
   "outputs": [],
   "source": [
    "from sklearn.model_selection import train_test_split\n",
    "X = data.iloc[:, :-1]\n",
    "y = data.iloc[:, -1]\n",
    "X_train,X_test,y_train,y_test=train_test_split(X, y, test_size=0.3, random_state=0)"
   ]
  },
  {
   "cell_type": "code",
   "execution_count": 89,
   "metadata": {
    "execution": {
     "iopub.execute_input": "2022-07-18T12:09:46.362789Z",
     "iopub.status.busy": "2022-07-18T12:09:46.361984Z",
     "iopub.status.idle": "2022-07-18T12:09:46.369403Z",
     "shell.execute_reply": "2022-07-18T12:09:46.368516Z",
     "shell.execute_reply.started": "2022-07-18T12:09:46.362745Z"
    }
   },
   "outputs": [
    {
     "data": {
      "text/plain": [
       "((2293, 9), (2293,), (983, 9), (983,))"
      ]
     },
     "execution_count": 89,
     "metadata": {},
     "output_type": "execute_result"
    }
   ],
   "source": [
    "X_train.shape, y_train.shape, X_test.shape, y_test.shape"
   ]
  },
  {
   "cell_type": "markdown",
   "metadata": {},
   "source": [
    "### Preprocessing"
   ]
  },
  {
   "cell_type": "code",
   "execution_count": 90,
   "metadata": {
    "execution": {
     "iopub.execute_input": "2022-07-18T12:09:47.177731Z",
     "iopub.status.busy": "2022-07-18T12:09:47.177337Z",
     "iopub.status.idle": "2022-07-18T12:09:47.191984Z",
     "shell.execute_reply": "2022-07-18T12:09:47.191143Z",
     "shell.execute_reply.started": "2022-07-18T12:09:47.177701Z"
    }
   },
   "outputs": [],
   "source": [
    "from sklearn.preprocessing import StandardScaler\n",
    "sclaer=StandardScaler()\n",
    "X_train=sclaer.fit_transform(X_train)\n",
    "X_test=sclaer.fit_transform(X_test)\n",
    "X_train=pd.DataFrame(X_train)\n",
    "X_test=pd.DataFrame(X_test)"
   ]
  },
  {
   "cell_type": "code",
   "execution_count": 91,
   "metadata": {
    "execution": {
     "iopub.execute_input": "2022-07-18T12:09:47.839914Z",
     "iopub.status.busy": "2022-07-18T12:09:47.839314Z",
     "iopub.status.idle": "2022-07-18T12:09:47.847194Z",
     "shell.execute_reply": "2022-07-18T12:09:47.845973Z",
     "shell.execute_reply.started": "2022-07-18T12:09:47.839880Z"
    }
   },
   "outputs": [],
   "source": [
    "X_train=X_train.rename(columns={0:'ph',1:'Hardness', 2:'Solids',3:'Chloramines',4:'Sulfate', 5:'Conductivity',6:'Organic_carbon',7:'Trihalomethanes', 8:'Turbidity'})\n",
    "X_test=X_test.rename(columns={0:'ph',1:'Hardness', 2:'Solids',3:'Chloramines',4:'Sulfate', 5:'Conductivity',6:'Organic_carbon',7:'Trihalomethanes', 8:'Turbidity'})"
   ]
  },
  {
   "cell_type": "code",
   "execution_count": 92,
   "metadata": {
    "execution": {
     "iopub.execute_input": "2022-07-18T12:09:48.255724Z",
     "iopub.status.busy": "2022-07-18T12:09:48.255433Z",
     "iopub.status.idle": "2022-07-18T12:09:48.261198Z",
     "shell.execute_reply": "2022-07-18T12:09:48.260249Z",
     "shell.execute_reply.started": "2022-07-18T12:09:48.255699Z"
    }
   },
   "outputs": [],
   "source": [
    "y_train=pd.DataFrame(y_train)\n",
    "y_test=pd.DataFrame(y_test)"
   ]
  },
  {
   "cell_type": "markdown",
   "metadata": {
    "execution": {
     "iopub.execute_input": "2022-07-18T05:29:54.494761Z",
     "iopub.status.busy": "2022-07-18T05:29:54.494154Z",
     "iopub.status.idle": "2022-07-18T05:29:54.505551Z",
     "shell.execute_reply": "2022-07-18T05:29:54.504512Z",
     "shell.execute_reply.started": "2022-07-18T05:29:54.494722Z"
    }
   },
   "source": [
    "### Machine Learning\n",
    "- Modeling"
   ]
  },
  {
   "cell_type": "code",
   "execution_count": 93,
   "metadata": {
    "execution": {
     "iopub.execute_input": "2022-07-18T12:09:49.249276Z",
     "iopub.status.busy": "2022-07-18T12:09:49.248439Z",
     "iopub.status.idle": "2022-07-18T12:09:49.256281Z",
     "shell.execute_reply": "2022-07-18T12:09:49.255384Z",
     "shell.execute_reply.started": "2022-07-18T12:09:49.249229Z"
    }
   },
   "outputs": [
    {
     "data": {
      "text/plain": [
       "((2293, 9), (983, 9), (2293, 1), (983, 1))"
      ]
     },
     "execution_count": 93,
     "metadata": {},
     "output_type": "execute_result"
    }
   ],
   "source": [
    "X_train.shape, X_test.shape, y_train.shape, y_test.shape"
   ]
  },
  {
   "cell_type": "code",
   "execution_count": 94,
   "metadata": {
    "execution": {
     "iopub.execute_input": "2022-07-18T12:12:18.143853Z",
     "iopub.status.busy": "2022-07-18T12:12:18.142541Z",
     "iopub.status.idle": "2022-07-18T12:12:19.320413Z",
     "shell.execute_reply": "2022-07-18T12:12:19.319265Z",
     "shell.execute_reply.started": "2022-07-18T12:12:18.143808Z"
    },
    "jupyter": {
     "outputs_hidden": true
    }
   },
   "outputs": [
    {
     "name": "stderr",
     "output_type": "stream",
     "text": [
      "/Users/han-yechan/miniforge3/envs/tf/lib/python3.8/site-packages/sklearn/utils/validation.py:1111: DataConversionWarning: A column-vector y was passed when a 1d array was expected. Please change the shape of y to (n_samples, ), for example using ravel().\n",
      "  y = column_or_1d(y, warn=True)\n",
      "/Users/han-yechan/miniforge3/envs/tf/lib/python3.8/site-packages/sklearn/neighbors/_classification.py:200: DataConversionWarning: A column-vector y was passed when a 1d array was expected. Please change the shape of y to (n_samples,), for example using ravel().\n",
      "  return self._fit(X, y)\n",
      "/var/folders/br/3dqwpjqx4f71f757xh3fx8g80000gn/T/ipykernel_47730/2796147438.py:13: DataConversionWarning: A column-vector y was passed when a 1d array was expected. Please change the shape of y to (n_samples,), for example using ravel().\n",
      "  model.fit(X_train, y_train)\n",
      "/Users/han-yechan/miniforge3/envs/tf/lib/python3.8/site-packages/sklearn/utils/validation.py:1111: DataConversionWarning: A column-vector y was passed when a 1d array was expected. Please change the shape of y to (n_samples, ), for example using ravel().\n",
      "  y = column_or_1d(y, warn=True)\n",
      "/Users/han-yechan/miniforge3/envs/tf/lib/python3.8/site-packages/sklearn/utils/validation.py:1111: DataConversionWarning: A column-vector y was passed when a 1d array was expected. Please change the shape of y to (n_samples, ), for example using ravel().\n",
      "  y = column_or_1d(y, warn=True)\n"
     ]
    }
   ],
   "source": [
    "from sklearn.tree import DecisionTreeClassifier\n",
    "from sklearn.ensemble import RandomForestClassifier\n",
    "from sklearn.naive_bayes import GaussianNB\n",
    "from sklearn.neighbors import KNeighborsClassifier\n",
    "from sklearn.linear_model import LogisticRegression\n",
    "from sklearn.svm import SVC\n",
    "from sklearn.metrics import accuracy_score, precision_score, recall_score, f1_score\n",
    "\n",
    "\n",
    "models_acc = []\n",
    "models = [DecisionTreeClassifier(), LogisticRegression(), KNeighborsClassifier(), RandomForestClassifier(), GaussianNB(), SVC()]\n",
    "for model in models:\n",
    "    model.fit(X_train, y_train)    \n",
    "    pred = model.predict(X_test)\n",
    "    models_acc.append(accuracy_score(y_test, pred))"
   ]
  },
  {
   "cell_type": "code",
   "execution_count": 95,
   "metadata": {
    "execution": {
     "iopub.execute_input": "2022-07-18T12:12:20.666101Z",
     "iopub.status.busy": "2022-07-18T12:12:20.665021Z",
     "iopub.status.idle": "2022-07-18T12:12:20.682561Z",
     "shell.execute_reply": "2022-07-18T12:12:20.681174Z",
     "shell.execute_reply.started": "2022-07-18T12:12:20.666056Z"
    }
   },
   "outputs": [
    {
     "data": {
      "text/html": [
       "<div>\n",
       "<style scoped>\n",
       "    .dataframe tbody tr th:only-of-type {\n",
       "        vertical-align: middle;\n",
       "    }\n",
       "\n",
       "    .dataframe tbody tr th {\n",
       "        vertical-align: top;\n",
       "    }\n",
       "\n",
       "    .dataframe thead th {\n",
       "        text-align: right;\n",
       "    }\n",
       "</style>\n",
       "<table border=\"1\" class=\"dataframe\">\n",
       "  <thead>\n",
       "    <tr style=\"text-align: right;\">\n",
       "      <th></th>\n",
       "      <th>Model Accuracy</th>\n",
       "      <th>Model Name</th>\n",
       "    </tr>\n",
       "  </thead>\n",
       "  <tbody>\n",
       "    <tr>\n",
       "      <th>0</th>\n",
       "      <td>0.595117</td>\n",
       "      <td>DecisionTreeClassifier</td>\n",
       "    </tr>\n",
       "    <tr>\n",
       "      <th>1</th>\n",
       "      <td>0.624619</td>\n",
       "      <td>LogisticRegression</td>\n",
       "    </tr>\n",
       "    <tr>\n",
       "      <th>2</th>\n",
       "      <td>0.625636</td>\n",
       "      <td>KNeighborsClassifier</td>\n",
       "    </tr>\n",
       "    <tr>\n",
       "      <th>3</th>\n",
       "      <td>0.799593</td>\n",
       "      <td>RandomForestClassifier</td>\n",
       "    </tr>\n",
       "    <tr>\n",
       "      <th>4</th>\n",
       "      <td>0.610376</td>\n",
       "      <td>GaussianNB</td>\n",
       "    </tr>\n",
       "    <tr>\n",
       "      <th>5</th>\n",
       "      <td>0.680570</td>\n",
       "      <td>SVC</td>\n",
       "    </tr>\n",
       "  </tbody>\n",
       "</table>\n",
       "</div>"
      ],
      "text/plain": [
       "   Model Accuracy              Model Name\n",
       "0        0.595117  DecisionTreeClassifier\n",
       "1        0.624619      LogisticRegression\n",
       "2        0.625636    KNeighborsClassifier\n",
       "3        0.799593  RandomForestClassifier\n",
       "4        0.610376              GaussianNB\n",
       "5        0.680570                     SVC"
      ]
     },
     "execution_count": 95,
     "metadata": {},
     "output_type": "execute_result"
    }
   ],
   "source": [
    "Model_list = pd.DataFrame({\n",
    "    'Model Accuracy': models_acc, \n",
    "    \"Model Name\": ['DecisionTreeClassifier','LogisticRegression', 'KNeighborsClassifier', 'RandomForestClassifier', 'GaussianNB', 'SVC']\n",
    "})\n",
    "Model_list"
   ]
  },
  {
   "cell_type": "markdown",
   "metadata": {},
   "source": [
    "### Gridsearch"
   ]
  },
  {
   "cell_type": "code",
   "execution_count": 96,
   "metadata": {
    "execution": {
     "iopub.execute_input": "2022-07-18T12:18:43.505715Z",
     "iopub.status.busy": "2022-07-18T12:18:43.504784Z",
     "iopub.status.idle": "2022-07-18T12:18:43.514194Z",
     "shell.execute_reply": "2022-07-18T12:18:43.512987Z",
     "shell.execute_reply.started": "2022-07-18T12:18:43.505678Z"
    }
   },
   "outputs": [],
   "source": [
    "from sklearn.model_selection import GridSearchCV\n",
    "\n",
    "rfc = RandomForestClassifier(random_state=0)\n",
    "#파라미터 후보 - 딕셔너리(key: 하이퍼 파라미터 이름, value: 후보리스트)\n",
    "param_grid = {\n",
    "    'n_estimators':[50,100,200],\n",
    "    'max_depth':[6, 8, 10, 12],\n",
    "    'min_samples_leaf':[2 ,4, 6, 8],\n",
    "    'min_samples_split':[2 ,4, 6,8]\n",
    "}\n",
    "\n",
    "grid_search = GridSearchCV(rfc, #모델\n",
    "                           param_grid=param_grid, #하이퍼 파라미터 후보\n",
    "                           scoring='accuracy',# 평가 지표\n",
    "                           cv=5, # cross validation의 fold 개수\n",
    "                           n_jobs=-1) # 사용할 cpu의 개수: -1은 모든 cpu 전부 사용(병렬 학습)"
   ]
  },
  {
   "cell_type": "code",
   "execution_count": 97,
   "metadata": {
    "execution": {
     "iopub.execute_input": "2022-07-18T12:19:21.398820Z",
     "iopub.status.busy": "2022-07-18T12:19:21.398345Z",
     "iopub.status.idle": "2022-07-18T12:36:34.714003Z",
     "shell.execute_reply": "2022-07-18T12:36:34.712888Z",
     "shell.execute_reply.started": "2022-07-18T12:19:21.398782Z"
    },
    "jupyter": {
     "outputs_hidden": true
    }
   },
   "outputs": [
    {
     "name": "stderr",
     "output_type": "stream",
     "text": [
      "/Users/han-yechan/miniforge3/envs/tf/lib/python3.8/site-packages/sklearn/model_selection/_search.py:910: DataConversionWarning: A column-vector y was passed when a 1d array was expected. Please change the shape of y to (n_samples,), for example using ravel().\n",
      "  self.best_estimator_.fit(X, y, **fit_params)\n"
     ]
    },
    {
     "data": {
      "text/html": [
       "<style>#sk-container-id-2 {color: black;background-color: white;}#sk-container-id-2 pre{padding: 0;}#sk-container-id-2 div.sk-toggleable {background-color: white;}#sk-container-id-2 label.sk-toggleable__label {cursor: pointer;display: block;width: 100%;margin-bottom: 0;padding: 0.3em;box-sizing: border-box;text-align: center;}#sk-container-id-2 label.sk-toggleable__label-arrow:before {content: \"▸\";float: left;margin-right: 0.25em;color: #696969;}#sk-container-id-2 label.sk-toggleable__label-arrow:hover:before {color: black;}#sk-container-id-2 div.sk-estimator:hover label.sk-toggleable__label-arrow:before {color: black;}#sk-container-id-2 div.sk-toggleable__content {max-height: 0;max-width: 0;overflow: hidden;text-align: left;background-color: #f0f8ff;}#sk-container-id-2 div.sk-toggleable__content pre {margin: 0.2em;color: black;border-radius: 0.25em;background-color: #f0f8ff;}#sk-container-id-2 input.sk-toggleable__control:checked~div.sk-toggleable__content {max-height: 200px;max-width: 100%;overflow: auto;}#sk-container-id-2 input.sk-toggleable__control:checked~label.sk-toggleable__label-arrow:before {content: \"▾\";}#sk-container-id-2 div.sk-estimator input.sk-toggleable__control:checked~label.sk-toggleable__label {background-color: #d4ebff;}#sk-container-id-2 div.sk-label input.sk-toggleable__control:checked~label.sk-toggleable__label {background-color: #d4ebff;}#sk-container-id-2 input.sk-hidden--visually {border: 0;clip: rect(1px 1px 1px 1px);clip: rect(1px, 1px, 1px, 1px);height: 1px;margin: -1px;overflow: hidden;padding: 0;position: absolute;width: 1px;}#sk-container-id-2 div.sk-estimator {font-family: monospace;background-color: #f0f8ff;border: 1px dotted black;border-radius: 0.25em;box-sizing: border-box;margin-bottom: 0.5em;}#sk-container-id-2 div.sk-estimator:hover {background-color: #d4ebff;}#sk-container-id-2 div.sk-parallel-item::after {content: \"\";width: 100%;border-bottom: 1px solid gray;flex-grow: 1;}#sk-container-id-2 div.sk-label:hover label.sk-toggleable__label {background-color: #d4ebff;}#sk-container-id-2 div.sk-serial::before {content: \"\";position: absolute;border-left: 1px solid gray;box-sizing: border-box;top: 0;bottom: 0;left: 50%;z-index: 0;}#sk-container-id-2 div.sk-serial {display: flex;flex-direction: column;align-items: center;background-color: white;padding-right: 0.2em;padding-left: 0.2em;position: relative;}#sk-container-id-2 div.sk-item {position: relative;z-index: 1;}#sk-container-id-2 div.sk-parallel {display: flex;align-items: stretch;justify-content: center;background-color: white;position: relative;}#sk-container-id-2 div.sk-item::before, #sk-container-id-2 div.sk-parallel-item::before {content: \"\";position: absolute;border-left: 1px solid gray;box-sizing: border-box;top: 0;bottom: 0;left: 50%;z-index: -1;}#sk-container-id-2 div.sk-parallel-item {display: flex;flex-direction: column;z-index: 1;position: relative;background-color: white;}#sk-container-id-2 div.sk-parallel-item:first-child::after {align-self: flex-end;width: 50%;}#sk-container-id-2 div.sk-parallel-item:last-child::after {align-self: flex-start;width: 50%;}#sk-container-id-2 div.sk-parallel-item:only-child::after {width: 0;}#sk-container-id-2 div.sk-dashed-wrapped {border: 1px dashed gray;margin: 0 0.4em 0.5em 0.4em;box-sizing: border-box;padding-bottom: 0.4em;background-color: white;}#sk-container-id-2 div.sk-label label {font-family: monospace;font-weight: bold;display: inline-block;line-height: 1.2em;}#sk-container-id-2 div.sk-label-container {text-align: center;}#sk-container-id-2 div.sk-container {/* jupyter's `normalize.less` sets `[hidden] { display: none; }` but bootstrap.min.css set `[hidden] { display: none !important; }` so we also need the `!important` here to be able to override the default hidden behavior on the sphinx rendered scikit-learn.org. See: https://github.com/scikit-learn/scikit-learn/issues/21755 */display: inline-block !important;position: relative;}#sk-container-id-2 div.sk-text-repr-fallback {display: none;}</style><div id=\"sk-container-id-2\" class=\"sk-top-container\"><div class=\"sk-text-repr-fallback\"><pre>GridSearchCV(cv=5, estimator=RandomForestClassifier(random_state=0), n_jobs=-1,\n",
       "             param_grid={&#x27;max_depth&#x27;: [6, 8, 10, 12],\n",
       "                         &#x27;min_samples_leaf&#x27;: [2, 4, 6, 8],\n",
       "                         &#x27;min_samples_split&#x27;: [2, 4, 6, 8],\n",
       "                         &#x27;n_estimators&#x27;: [50, 100, 200]},\n",
       "             scoring=&#x27;accuracy&#x27;)</pre><b>In a Jupyter environment, please rerun this cell to show the HTML representation or trust the notebook. <br />On GitHub, the HTML representation is unable to render, please try loading this page with nbviewer.org.</b></div><div class=\"sk-container\" hidden><div class=\"sk-item sk-dashed-wrapped\"><div class=\"sk-label-container\"><div class=\"sk-label sk-toggleable\"><input class=\"sk-toggleable__control sk-hidden--visually\" id=\"sk-estimator-id-4\" type=\"checkbox\" ><label for=\"sk-estimator-id-4\" class=\"sk-toggleable__label sk-toggleable__label-arrow\">GridSearchCV</label><div class=\"sk-toggleable__content\"><pre>GridSearchCV(cv=5, estimator=RandomForestClassifier(random_state=0), n_jobs=-1,\n",
       "             param_grid={&#x27;max_depth&#x27;: [6, 8, 10, 12],\n",
       "                         &#x27;min_samples_leaf&#x27;: [2, 4, 6, 8],\n",
       "                         &#x27;min_samples_split&#x27;: [2, 4, 6, 8],\n",
       "                         &#x27;n_estimators&#x27;: [50, 100, 200]},\n",
       "             scoring=&#x27;accuracy&#x27;)</pre></div></div></div><div class=\"sk-parallel\"><div class=\"sk-parallel-item\"><div class=\"sk-item\"><div class=\"sk-label-container\"><div class=\"sk-label sk-toggleable\"><input class=\"sk-toggleable__control sk-hidden--visually\" id=\"sk-estimator-id-5\" type=\"checkbox\" ><label for=\"sk-estimator-id-5\" class=\"sk-toggleable__label sk-toggleable__label-arrow\">estimator: RandomForestClassifier</label><div class=\"sk-toggleable__content\"><pre>RandomForestClassifier(random_state=0)</pre></div></div></div><div class=\"sk-serial\"><div class=\"sk-item\"><div class=\"sk-estimator sk-toggleable\"><input class=\"sk-toggleable__control sk-hidden--visually\" id=\"sk-estimator-id-6\" type=\"checkbox\" ><label for=\"sk-estimator-id-6\" class=\"sk-toggleable__label sk-toggleable__label-arrow\">RandomForestClassifier</label><div class=\"sk-toggleable__content\"><pre>RandomForestClassifier(random_state=0)</pre></div></div></div></div></div></div></div></div></div></div>"
      ],
      "text/plain": [
       "GridSearchCV(cv=5, estimator=RandomForestClassifier(random_state=0), n_jobs=-1,\n",
       "             param_grid={'max_depth': [6, 8, 10, 12],\n",
       "                         'min_samples_leaf': [2, 4, 6, 8],\n",
       "                         'min_samples_split': [2, 4, 6, 8],\n",
       "                         'n_estimators': [50, 100, 200]},\n",
       "             scoring='accuracy')"
      ]
     },
     "execution_count": 97,
     "metadata": {},
     "output_type": "execute_result"
    }
   ],
   "source": [
    "grid_search.fit(X_train, y_train)"
   ]
  },
  {
   "cell_type": "code",
   "execution_count": 18,
   "metadata": {
    "execution": {
     "iopub.execute_input": "2022-07-18T12:36:34.717208Z",
     "iopub.status.busy": "2022-07-18T12:36:34.715788Z",
     "iopub.status.idle": "2022-07-18T12:36:34.967763Z",
     "shell.execute_reply": "2022-07-18T12:36:34.966932Z",
     "shell.execute_reply.started": "2022-07-18T12:36:34.717165Z"
    },
    "jupyter": {
     "outputs_hidden": true
    }
   },
   "outputs": [
    {
     "data": {
      "text/plain": [
       "{'mean_fit_time': array([0.2105969 , 0.28155794, 0.5676168 , 0.12704759, 0.27194252,\n",
       "        0.49406738, 0.12755008, 0.25251942, 0.49774785, 0.12441483,\n",
       "        0.24264317, 0.48450947, 0.12223392, 0.23861547, 0.49473166,\n",
       "        0.1244226 , 0.24156699, 0.4887464 , 0.12172308, 0.24385562,\n",
       "        0.48467898, 0.12580385, 0.24237056, 0.48240118, 0.12144356,\n",
       "        0.24161119, 0.47800608, 0.12418842, 0.24300218, 0.52391663,\n",
       "        0.15026903, 0.2712317 , 0.49122534, 0.12678514, 0.25580559,\n",
       "        0.52497268, 0.13765306, 0.28525243, 0.59887238, 0.12957382,\n",
       "        0.27667704, 0.57350125, 0.14802208, 0.26101322, 0.58113561,\n",
       "        0.15874934, 0.29281077, 0.53189254, 0.15707974, 0.33965683,\n",
       "        0.67444496, 0.15909357, 0.32815518, 0.64517117, 0.15752645,\n",
       "        0.35360341, 0.62005486, 0.14987841, 0.29435196, 0.62956185,\n",
       "        0.16304774, 0.29849119, 0.55207138, 0.13982835, 0.28130536,\n",
       "        0.54980025, 0.14432559, 0.28161149, 0.5527535 , 0.14244084,\n",
       "        0.27827387, 0.5622488 , 0.14295335, 0.27424278, 0.54707546,\n",
       "        0.13732042, 0.2789546 , 0.54287419, 0.13872442, 0.27791624,\n",
       "        0.54291801, 0.13991127, 0.29718251, 0.62331705, 0.15944033,\n",
       "        0.29750357, 0.61351743, 0.13508105, 0.30550675, 0.55703564,\n",
       "        0.14479098, 0.31538568, 0.61789651, 0.15660114, 0.2797894 ,\n",
       "        0.54053655, 0.16625662, 0.31519866, 0.6143424 , 0.15792084,\n",
       "        0.30728884, 0.61785975, 0.15884643, 0.30594187, 0.62524033,\n",
       "        0.15720119, 0.31371408, 0.62268553, 0.15321455, 0.30550861,\n",
       "        0.60708046, 0.15601926, 0.31354313, 0.63298612, 0.15593967,\n",
       "        0.32493243, 0.62909536, 0.159761  , 0.32612352, 0.64284534,\n",
       "        0.15923791, 0.30115089, 0.66202555, 0.16824245, 0.32804098,\n",
       "        0.62403321, 0.15400281, 0.32497921, 0.652036  , 0.15723615,\n",
       "        0.31776218, 0.63325796, 0.15750442, 0.31236138, 0.64130774,\n",
       "        0.16649218, 0.32468634, 0.62209167, 0.16521244, 0.32034736,\n",
       "        0.62070975, 0.16235356, 0.30631733, 0.63223314, 0.1726459 ,\n",
       "        0.39960761, 0.77203341, 0.19621038, 0.35804706, 0.71061106,\n",
       "        0.17521033, 0.38802166, 0.79546814, 0.19985342, 0.37579303,\n",
       "        0.79651237, 0.20547276, 0.36434994, 0.73690205, 0.18296881,\n",
       "        0.41806417, 0.87249198, 0.22306418, 0.3598382 , 0.71681976,\n",
       "        0.17868423, 0.40129685, 0.75279164, 0.16873164, 0.34782538,\n",
       "        0.67987247, 0.17241979, 0.34183197, 0.74822183, 0.18523612,\n",
       "        0.38837819, 0.70219135, 0.16573715, 0.33806906, 0.68039641,\n",
       "        0.16827707, 0.3288794 , 0.72732496, 0.19341297, 0.35529146,\n",
       "        0.72035451, 0.18465247, 0.39330554, 0.76078558, 0.20341239,\n",
       "        0.39766378, 0.61491599]),\n",
       " 'std_fit_time': array([0.00746547, 0.02856608, 0.07270745, 0.01802454, 0.01556354,\n",
       "        0.02071195, 0.00295097, 0.00429699, 0.00340481, 0.00221967,\n",
       "        0.00305579, 0.00736783, 0.0039305 , 0.01352789, 0.00803913,\n",
       "        0.00684363, 0.00904214, 0.01212294, 0.00384822, 0.00374704,\n",
       "        0.00508926, 0.00335291, 0.00545236, 0.00643297, 0.00147854,\n",
       "        0.00327142, 0.01789415, 0.00257934, 0.01219117, 0.01799905,\n",
       "        0.00857172, 0.02601292, 0.01208411, 0.00474848, 0.00925672,\n",
       "        0.01072932, 0.00620321, 0.01075236, 0.13445265, 0.01655748,\n",
       "        0.04321892, 0.02103726, 0.01515649, 0.02324107, 0.02311483,\n",
       "        0.01581962, 0.03827213, 0.01848894, 0.00962945, 0.05697481,\n",
       "        0.02287821, 0.01170264, 0.01593405, 0.06727321, 0.01902971,\n",
       "        0.05715102, 0.03477954, 0.00890657, 0.01592639, 0.01151154,\n",
       "        0.01003158, 0.02486806, 0.00467368, 0.00268509, 0.00414274,\n",
       "        0.01441321, 0.00219107, 0.00552175, 0.01194677, 0.0029838 ,\n",
       "        0.00287145, 0.01336857, 0.0069749 , 0.00512455, 0.00802032,\n",
       "        0.00412257, 0.00857256, 0.02165445, 0.00725095, 0.00434709,\n",
       "        0.00542929, 0.00238297, 0.02326701, 0.01950995, 0.00678427,\n",
       "        0.00666374, 0.03160575, 0.01546756, 0.02033776, 0.00839025,\n",
       "        0.00464501, 0.02804073, 0.02187694, 0.0170123 , 0.01024838,\n",
       "        0.01454028, 0.01123145, 0.00919325, 0.00550823, 0.0039178 ,\n",
       "        0.00665728, 0.00782574, 0.00340379, 0.00111129, 0.00884078,\n",
       "        0.00264356, 0.00646081, 0.01141632, 0.00464785, 0.00249825,\n",
       "        0.00778719, 0.00740738, 0.00386481, 0.01200267, 0.00578553,\n",
       "        0.01014902, 0.0079696 , 0.00378727, 0.00805266, 0.02346372,\n",
       "        0.00518581, 0.01597667, 0.02412063, 0.00979972, 0.02656757,\n",
       "        0.00628847, 0.00357204, 0.01073503, 0.01485106, 0.00345122,\n",
       "        0.0214451 , 0.00634755, 0.00524124, 0.01985739, 0.0156693 ,\n",
       "        0.00654226, 0.0119958 , 0.03921241, 0.00532685, 0.02540553,\n",
       "        0.00840096, 0.00531946, 0.00463227, 0.01435637, 0.00215425,\n",
       "        0.01581123, 0.02395732, 0.01407439, 0.01132657, 0.00975297,\n",
       "        0.00521822, 0.02037018, 0.02080695, 0.00693891, 0.02623049,\n",
       "        0.01543719, 0.00808469, 0.00447321, 0.00951483, 0.00728562,\n",
       "        0.04767725, 0.02839524, 0.01195054, 0.00470443, 0.01581722,\n",
       "        0.0071017 , 0.02649908, 0.02491779, 0.00853904, 0.01497841,\n",
       "        0.0041523 , 0.00866898, 0.00728616, 0.04724118, 0.01458816,\n",
       "        0.01818477, 0.04499081, 0.01707307, 0.00439871, 0.0147314 ,\n",
       "        0.00372545, 0.00246502, 0.0132179 , 0.0126275 , 0.01318614,\n",
       "        0.01838227, 0.01644491, 0.01229019, 0.04594287, 0.0242082 ,\n",
       "        0.0319662 , 0.04158924]),\n",
       " 'mean_score_time': array([0.00691233, 0.00791998, 0.01925101, 0.00378346, 0.00691299,\n",
       "        0.01769118, 0.00320435, 0.00757775, 0.01545205, 0.00363274,\n",
       "        0.00857511, 0.0157742 , 0.00436258, 0.0113616 , 0.01694255,\n",
       "        0.0044251 , 0.00709157, 0.01446433, 0.00410638, 0.00618682,\n",
       "        0.01479087, 0.00313025, 0.00584044, 0.01604047, 0.00476937,\n",
       "        0.01002607, 0.0132061 , 0.00576658, 0.0077302 , 0.02106905,\n",
       "        0.00576386, 0.01090665, 0.02174335, 0.00357442, 0.01142359,\n",
       "        0.0158668 , 0.00340638, 0.01005449, 0.01762981, 0.01149526,\n",
       "        0.0105258 , 0.01734734, 0.00561137, 0.00878682, 0.01953726,\n",
       "        0.00631995, 0.01012535, 0.01788483, 0.0065702 , 0.01083302,\n",
       "        0.01781621, 0.00652695, 0.00950508, 0.01761198, 0.00460815,\n",
       "        0.01856751, 0.01809096, 0.00527625, 0.01176705, 0.01575475,\n",
       "        0.00634642, 0.00635133, 0.01658125, 0.00381184, 0.00648499,\n",
       "        0.0164042 , 0.00561256, 0.00668912, 0.01731524, 0.00337491,\n",
       "        0.00999398, 0.01739202, 0.00419636, 0.00823827, 0.01713262,\n",
       "        0.00442762, 0.01012564, 0.01703701, 0.00461864, 0.00683284,\n",
       "        0.01911521, 0.00448122, 0.01067371, 0.01864214, 0.00603538,\n",
       "        0.00921082, 0.01872325, 0.00441251, 0.01015558, 0.02075529,\n",
       "        0.00495243, 0.01108232, 0.01939435, 0.00569959, 0.01180902,\n",
       "        0.01803303, 0.00467625, 0.01066456, 0.01937819, 0.00609126,\n",
       "        0.01082859, 0.01827302, 0.00436883, 0.00925894, 0.01839828,\n",
       "        0.0057992 , 0.00894852, 0.01705103, 0.00622649, 0.01060138,\n",
       "        0.01967039, 0.00595498, 0.01329465, 0.01831388, 0.00421033,\n",
       "        0.01105061, 0.0208384 , 0.00534105, 0.00898223, 0.01745377,\n",
       "        0.00576205, 0.01021042, 0.01694131, 0.00499001, 0.01153455,\n",
       "        0.01734629, 0.00679169, 0.00856776, 0.02058353, 0.00650854,\n",
       "        0.00835738, 0.01857266, 0.00713158, 0.01027613, 0.01919141,\n",
       "        0.00464072, 0.00980883, 0.0222085 , 0.00698762, 0.010814  ,\n",
       "        0.0203836 , 0.00743651, 0.01011548, 0.02115068, 0.00560508,\n",
       "        0.01516619, 0.0183044 , 0.00650101, 0.01056862, 0.02321901,\n",
       "        0.00557146, 0.01294498, 0.02199564, 0.00694728, 0.01119819,\n",
       "        0.02166939, 0.0094069 , 0.01075044, 0.02318444, 0.00645962,\n",
       "        0.01614208, 0.02323203, 0.01071362, 0.01273193, 0.02720218,\n",
       "        0.00705657, 0.01216111, 0.02085338, 0.00499864, 0.01370497,\n",
       "        0.02033515, 0.0073308 , 0.01081066, 0.02457285, 0.00743341,\n",
       "        0.01392326, 0.02031941, 0.00676441, 0.00858293, 0.02061639,\n",
       "        0.00499058, 0.011554  , 0.0196609 , 0.00719118, 0.01041598,\n",
       "        0.02737117, 0.00803251, 0.01666641, 0.02218246, 0.00869122,\n",
       "        0.01726885, 0.01485062]),\n",
       " 'std_score_time': array([4.16485452e-03, 2.99052287e-03, 8.19704155e-03, 1.03535707e-03,\n",
       "        1.71066711e-03, 4.13541366e-03, 8.00238740e-05, 3.04966747e-03,\n",
       "        2.65485231e-03, 4.50642484e-04, 3.45661084e-03, 2.17043998e-03,\n",
       "        1.50931023e-03, 4.23547740e-03, 1.25796754e-03, 1.60855493e-03,\n",
       "        2.66279618e-03, 3.38792232e-03, 5.95369653e-04, 9.02757379e-04,\n",
       "        2.02523357e-03, 1.90612038e-05, 6.38963440e-04, 1.86197965e-03,\n",
       "        2.47799978e-03, 2.95075137e-03, 3.64969918e-03, 3.26180560e-03,\n",
       "        2.38847276e-03, 3.78308537e-03, 3.09440636e-03, 2.83809394e-03,\n",
       "        5.17979531e-03, 8.57133360e-04, 5.09478271e-03, 2.34872193e-03,\n",
       "        3.07441607e-04, 4.01353678e-03, 6.68305267e-03, 4.27228019e-03,\n",
       "        2.84178142e-03, 4.51636107e-04, 1.72277277e-03, 3.58161673e-03,\n",
       "        5.15542763e-03, 2.47542309e-03, 5.25402025e-03, 5.68068340e-03,\n",
       "        1.67498968e-03, 3.46029265e-03, 4.07123380e-03, 3.12420894e-03,\n",
       "        2.38422000e-03, 3.75251648e-03, 2.38698146e-03, 1.11876924e-02,\n",
       "        1.72933008e-03, 2.35016026e-03, 8.41348305e-04, 2.44133386e-03,\n",
       "        3.71366304e-03, 4.03657641e-04, 2.12586138e-03, 7.58140671e-04,\n",
       "        4.94266476e-04, 2.68536763e-03, 2.31188931e-03, 1.21671184e-03,\n",
       "        1.65774600e-03, 2.40930674e-05, 2.05393848e-03, 1.91422790e-03,\n",
       "        8.82004950e-04, 1.83219224e-03, 2.37238963e-03, 2.07484643e-03,\n",
       "        2.36873327e-03, 1.47746298e-03, 2.41523678e-03, 1.23869490e-03,\n",
       "        1.47332268e-03, 1.84900426e-03, 2.86132941e-03, 4.35898425e-03,\n",
       "        3.12274517e-03, 1.78239322e-03, 4.27400549e-03, 1.84578463e-03,\n",
       "        4.16555664e-03, 5.71864039e-03, 1.44533879e-03, 4.47101468e-03,\n",
       "        4.10149225e-03, 2.52573877e-03, 5.14852425e-03, 3.03627891e-03,\n",
       "        1.34695524e-03, 2.49505422e-03, 3.74554814e-04, 2.79650425e-03,\n",
       "        2.92416414e-03, 2.50931975e-03, 1.05164541e-03, 2.65798635e-03,\n",
       "        1.57254572e-03, 2.11133678e-03, 2.46752753e-03, 2.32856137e-03,\n",
       "        1.53144351e-03, 2.88522791e-03, 7.18460241e-04, 2.49014371e-03,\n",
       "        2.40176768e-03, 4.67322010e-03, 9.68301367e-04, 2.67295783e-03,\n",
       "        1.22767754e-03, 1.29996247e-03, 2.95927325e-03, 2.72064812e-03,\n",
       "        1.93023278e-03, 2.07911230e-03, 2.98116104e-03, 1.49266824e-03,\n",
       "        3.13315265e-03, 2.73598328e-03, 2.47053033e-03, 1.53427963e-03,\n",
       "        4.46744833e-03, 1.90935548e-03, 1.86977824e-03, 1.83124514e-03,\n",
       "        2.77982855e-03, 2.51706619e-03, 2.26255586e-03, 1.76754523e-03,\n",
       "        2.79911133e-03, 5.77855208e-03, 4.03932568e-03, 3.29104901e-03,\n",
       "        5.40446633e-04, 2.84929063e-03, 2.87527645e-03, 1.05379368e-03,\n",
       "        2.15043845e-03, 4.03006648e-03, 2.67739079e-03, 2.06635940e-03,\n",
       "        2.45723395e-03, 5.62447073e-03, 1.46693045e-03, 3.10184576e-03,\n",
       "        4.47991798e-03, 2.48307994e-03, 2.63462940e-03, 3.31319368e-03,\n",
       "        2.83310483e-03, 2.58640610e-03, 3.93697945e-03, 2.24332823e-03,\n",
       "        2.51947412e-03, 4.67405387e-03, 1.86767378e-03, 3.27326376e-03,\n",
       "        5.73885131e-03, 1.80699702e-03, 3.49386413e-03, 1.24326477e-03,\n",
       "        1.04198559e-03, 4.26465852e-03, 1.53973600e-03, 1.64916639e-03,\n",
       "        2.97775798e-03, 3.38216743e-03, 2.87395017e-03, 4.71459546e-03,\n",
       "        1.99901477e-03, 1.60378299e-03, 2.12074582e-03, 1.22276726e-03,\n",
       "        1.75812931e-03, 3.26295618e-03, 2.29170140e-03, 2.65872503e-03,\n",
       "        2.82242116e-03, 3.00495714e-03, 2.52740251e-03, 6.44139356e-03,\n",
       "        6.45858122e-03, 2.09938031e-03, 6.56402854e-03, 2.23759636e-03]),\n",
       " 'param_max_depth': masked_array(data=[6, 6, 6, 6, 6, 6, 6, 6, 6, 6, 6, 6, 6, 6, 6, 6, 6, 6,\n",
       "                    6, 6, 6, 6, 6, 6, 6, 6, 6, 6, 6, 6, 6, 6, 6, 6, 6, 6,\n",
       "                    6, 6, 6, 6, 6, 6, 6, 6, 6, 6, 6, 6, 8, 8, 8, 8, 8, 8,\n",
       "                    8, 8, 8, 8, 8, 8, 8, 8, 8, 8, 8, 8, 8, 8, 8, 8, 8, 8,\n",
       "                    8, 8, 8, 8, 8, 8, 8, 8, 8, 8, 8, 8, 8, 8, 8, 8, 8, 8,\n",
       "                    8, 8, 8, 8, 8, 8, 10, 10, 10, 10, 10, 10, 10, 10, 10,\n",
       "                    10, 10, 10, 10, 10, 10, 10, 10, 10, 10, 10, 10, 10, 10,\n",
       "                    10, 10, 10, 10, 10, 10, 10, 10, 10, 10, 10, 10, 10, 10,\n",
       "                    10, 10, 10, 10, 10, 10, 10, 10, 10, 10, 10, 12, 12, 12,\n",
       "                    12, 12, 12, 12, 12, 12, 12, 12, 12, 12, 12, 12, 12, 12,\n",
       "                    12, 12, 12, 12, 12, 12, 12, 12, 12, 12, 12, 12, 12, 12,\n",
       "                    12, 12, 12, 12, 12, 12, 12, 12, 12, 12, 12, 12, 12, 12,\n",
       "                    12, 12, 12],\n",
       "              mask=[False, False, False, False, False, False, False, False,\n",
       "                    False, False, False, False, False, False, False, False,\n",
       "                    False, False, False, False, False, False, False, False,\n",
       "                    False, False, False, False, False, False, False, False,\n",
       "                    False, False, False, False, False, False, False, False,\n",
       "                    False, False, False, False, False, False, False, False,\n",
       "                    False, False, False, False, False, False, False, False,\n",
       "                    False, False, False, False, False, False, False, False,\n",
       "                    False, False, False, False, False, False, False, False,\n",
       "                    False, False, False, False, False, False, False, False,\n",
       "                    False, False, False, False, False, False, False, False,\n",
       "                    False, False, False, False, False, False, False, False,\n",
       "                    False, False, False, False, False, False, False, False,\n",
       "                    False, False, False, False, False, False, False, False,\n",
       "                    False, False, False, False, False, False, False, False,\n",
       "                    False, False, False, False, False, False, False, False,\n",
       "                    False, False, False, False, False, False, False, False,\n",
       "                    False, False, False, False, False, False, False, False,\n",
       "                    False, False, False, False, False, False, False, False,\n",
       "                    False, False, False, False, False, False, False, False,\n",
       "                    False, False, False, False, False, False, False, False,\n",
       "                    False, False, False, False, False, False, False, False,\n",
       "                    False, False, False, False, False, False, False, False,\n",
       "                    False, False, False, False, False, False, False, False],\n",
       "        fill_value='?',\n",
       "             dtype=object),\n",
       " 'param_min_samples_leaf': masked_array(data=[2, 2, 2, 2, 2, 2, 2, 2, 2, 2, 2, 2, 4, 4, 4, 4, 4, 4,\n",
       "                    4, 4, 4, 4, 4, 4, 6, 6, 6, 6, 6, 6, 6, 6, 6, 6, 6, 6,\n",
       "                    8, 8, 8, 8, 8, 8, 8, 8, 8, 8, 8, 8, 2, 2, 2, 2, 2, 2,\n",
       "                    2, 2, 2, 2, 2, 2, 4, 4, 4, 4, 4, 4, 4, 4, 4, 4, 4, 4,\n",
       "                    6, 6, 6, 6, 6, 6, 6, 6, 6, 6, 6, 6, 8, 8, 8, 8, 8, 8,\n",
       "                    8, 8, 8, 8, 8, 8, 2, 2, 2, 2, 2, 2, 2, 2, 2, 2, 2, 2,\n",
       "                    4, 4, 4, 4, 4, 4, 4, 4, 4, 4, 4, 4, 6, 6, 6, 6, 6, 6,\n",
       "                    6, 6, 6, 6, 6, 6, 8, 8, 8, 8, 8, 8, 8, 8, 8, 8, 8, 8,\n",
       "                    2, 2, 2, 2, 2, 2, 2, 2, 2, 2, 2, 2, 4, 4, 4, 4, 4, 4,\n",
       "                    4, 4, 4, 4, 4, 4, 6, 6, 6, 6, 6, 6, 6, 6, 6, 6, 6, 6,\n",
       "                    8, 8, 8, 8, 8, 8, 8, 8, 8, 8, 8, 8],\n",
       "              mask=[False, False, False, False, False, False, False, False,\n",
       "                    False, False, False, False, False, False, False, False,\n",
       "                    False, False, False, False, False, False, False, False,\n",
       "                    False, False, False, False, False, False, False, False,\n",
       "                    False, False, False, False, False, False, False, False,\n",
       "                    False, False, False, False, False, False, False, False,\n",
       "                    False, False, False, False, False, False, False, False,\n",
       "                    False, False, False, False, False, False, False, False,\n",
       "                    False, False, False, False, False, False, False, False,\n",
       "                    False, False, False, False, False, False, False, False,\n",
       "                    False, False, False, False, False, False, False, False,\n",
       "                    False, False, False, False, False, False, False, False,\n",
       "                    False, False, False, False, False, False, False, False,\n",
       "                    False, False, False, False, False, False, False, False,\n",
       "                    False, False, False, False, False, False, False, False,\n",
       "                    False, False, False, False, False, False, False, False,\n",
       "                    False, False, False, False, False, False, False, False,\n",
       "                    False, False, False, False, False, False, False, False,\n",
       "                    False, False, False, False, False, False, False, False,\n",
       "                    False, False, False, False, False, False, False, False,\n",
       "                    False, False, False, False, False, False, False, False,\n",
       "                    False, False, False, False, False, False, False, False,\n",
       "                    False, False, False, False, False, False, False, False,\n",
       "                    False, False, False, False, False, False, False, False],\n",
       "        fill_value='?',\n",
       "             dtype=object),\n",
       " 'param_min_samples_split': masked_array(data=[2, 2, 2, 4, 4, 4, 6, 6, 6, 8, 8, 8, 2, 2, 2, 4, 4, 4,\n",
       "                    6, 6, 6, 8, 8, 8, 2, 2, 2, 4, 4, 4, 6, 6, 6, 8, 8, 8,\n",
       "                    2, 2, 2, 4, 4, 4, 6, 6, 6, 8, 8, 8, 2, 2, 2, 4, 4, 4,\n",
       "                    6, 6, 6, 8, 8, 8, 2, 2, 2, 4, 4, 4, 6, 6, 6, 8, 8, 8,\n",
       "                    2, 2, 2, 4, 4, 4, 6, 6, 6, 8, 8, 8, 2, 2, 2, 4, 4, 4,\n",
       "                    6, 6, 6, 8, 8, 8, 2, 2, 2, 4, 4, 4, 6, 6, 6, 8, 8, 8,\n",
       "                    2, 2, 2, 4, 4, 4, 6, 6, 6, 8, 8, 8, 2, 2, 2, 4, 4, 4,\n",
       "                    6, 6, 6, 8, 8, 8, 2, 2, 2, 4, 4, 4, 6, 6, 6, 8, 8, 8,\n",
       "                    2, 2, 2, 4, 4, 4, 6, 6, 6, 8, 8, 8, 2, 2, 2, 4, 4, 4,\n",
       "                    6, 6, 6, 8, 8, 8, 2, 2, 2, 4, 4, 4, 6, 6, 6, 8, 8, 8,\n",
       "                    2, 2, 2, 4, 4, 4, 6, 6, 6, 8, 8, 8],\n",
       "              mask=[False, False, False, False, False, False, False, False,\n",
       "                    False, False, False, False, False, False, False, False,\n",
       "                    False, False, False, False, False, False, False, False,\n",
       "                    False, False, False, False, False, False, False, False,\n",
       "                    False, False, False, False, False, False, False, False,\n",
       "                    False, False, False, False, False, False, False, False,\n",
       "                    False, False, False, False, False, False, False, False,\n",
       "                    False, False, False, False, False, False, False, False,\n",
       "                    False, False, False, False, False, False, False, False,\n",
       "                    False, False, False, False, False, False, False, False,\n",
       "                    False, False, False, False, False, False, False, False,\n",
       "                    False, False, False, False, False, False, False, False,\n",
       "                    False, False, False, False, False, False, False, False,\n",
       "                    False, False, False, False, False, False, False, False,\n",
       "                    False, False, False, False, False, False, False, False,\n",
       "                    False, False, False, False, False, False, False, False,\n",
       "                    False, False, False, False, False, False, False, False,\n",
       "                    False, False, False, False, False, False, False, False,\n",
       "                    False, False, False, False, False, False, False, False,\n",
       "                    False, False, False, False, False, False, False, False,\n",
       "                    False, False, False, False, False, False, False, False,\n",
       "                    False, False, False, False, False, False, False, False,\n",
       "                    False, False, False, False, False, False, False, False,\n",
       "                    False, False, False, False, False, False, False, False],\n",
       "        fill_value='?',\n",
       "             dtype=object),\n",
       " 'param_n_estimators': masked_array(data=[50, 100, 200, 50, 100, 200, 50, 100, 200, 50, 100, 200,\n",
       "                    50, 100, 200, 50, 100, 200, 50, 100, 200, 50, 100, 200,\n",
       "                    50, 100, 200, 50, 100, 200, 50, 100, 200, 50, 100, 200,\n",
       "                    50, 100, 200, 50, 100, 200, 50, 100, 200, 50, 100, 200,\n",
       "                    50, 100, 200, 50, 100, 200, 50, 100, 200, 50, 100, 200,\n",
       "                    50, 100, 200, 50, 100, 200, 50, 100, 200, 50, 100, 200,\n",
       "                    50, 100, 200, 50, 100, 200, 50, 100, 200, 50, 100, 200,\n",
       "                    50, 100, 200, 50, 100, 200, 50, 100, 200, 50, 100, 200,\n",
       "                    50, 100, 200, 50, 100, 200, 50, 100, 200, 50, 100, 200,\n",
       "                    50, 100, 200, 50, 100, 200, 50, 100, 200, 50, 100, 200,\n",
       "                    50, 100, 200, 50, 100, 200, 50, 100, 200, 50, 100, 200,\n",
       "                    50, 100, 200, 50, 100, 200, 50, 100, 200, 50, 100, 200,\n",
       "                    50, 100, 200, 50, 100, 200, 50, 100, 200, 50, 100, 200,\n",
       "                    50, 100, 200, 50, 100, 200, 50, 100, 200, 50, 100, 200,\n",
       "                    50, 100, 200, 50, 100, 200, 50, 100, 200, 50, 100, 200,\n",
       "                    50, 100, 200, 50, 100, 200, 50, 100, 200, 50, 100, 200],\n",
       "              mask=[False, False, False, False, False, False, False, False,\n",
       "                    False, False, False, False, False, False, False, False,\n",
       "                    False, False, False, False, False, False, False, False,\n",
       "                    False, False, False, False, False, False, False, False,\n",
       "                    False, False, False, False, False, False, False, False,\n",
       "                    False, False, False, False, False, False, False, False,\n",
       "                    False, False, False, False, False, False, False, False,\n",
       "                    False, False, False, False, False, False, False, False,\n",
       "                    False, False, False, False, False, False, False, False,\n",
       "                    False, False, False, False, False, False, False, False,\n",
       "                    False, False, False, False, False, False, False, False,\n",
       "                    False, False, False, False, False, False, False, False,\n",
       "                    False, False, False, False, False, False, False, False,\n",
       "                    False, False, False, False, False, False, False, False,\n",
       "                    False, False, False, False, False, False, False, False,\n",
       "                    False, False, False, False, False, False, False, False,\n",
       "                    False, False, False, False, False, False, False, False,\n",
       "                    False, False, False, False, False, False, False, False,\n",
       "                    False, False, False, False, False, False, False, False,\n",
       "                    False, False, False, False, False, False, False, False,\n",
       "                    False, False, False, False, False, False, False, False,\n",
       "                    False, False, False, False, False, False, False, False,\n",
       "                    False, False, False, False, False, False, False, False,\n",
       "                    False, False, False, False, False, False, False, False],\n",
       "        fill_value='?',\n",
       "             dtype=object),\n",
       " 'params': [{'max_depth': 6,\n",
       "   'min_samples_leaf': 2,\n",
       "   'min_samples_split': 2,\n",
       "   'n_estimators': 50},\n",
       "  {'max_depth': 6,\n",
       "   'min_samples_leaf': 2,\n",
       "   'min_samples_split': 2,\n",
       "   'n_estimators': 100},\n",
       "  {'max_depth': 6,\n",
       "   'min_samples_leaf': 2,\n",
       "   'min_samples_split': 2,\n",
       "   'n_estimators': 200},\n",
       "  {'max_depth': 6,\n",
       "   'min_samples_leaf': 2,\n",
       "   'min_samples_split': 4,\n",
       "   'n_estimators': 50},\n",
       "  {'max_depth': 6,\n",
       "   'min_samples_leaf': 2,\n",
       "   'min_samples_split': 4,\n",
       "   'n_estimators': 100},\n",
       "  {'max_depth': 6,\n",
       "   'min_samples_leaf': 2,\n",
       "   'min_samples_split': 4,\n",
       "   'n_estimators': 200},\n",
       "  {'max_depth': 6,\n",
       "   'min_samples_leaf': 2,\n",
       "   'min_samples_split': 6,\n",
       "   'n_estimators': 50},\n",
       "  {'max_depth': 6,\n",
       "   'min_samples_leaf': 2,\n",
       "   'min_samples_split': 6,\n",
       "   'n_estimators': 100},\n",
       "  {'max_depth': 6,\n",
       "   'min_samples_leaf': 2,\n",
       "   'min_samples_split': 6,\n",
       "   'n_estimators': 200},\n",
       "  {'max_depth': 6,\n",
       "   'min_samples_leaf': 2,\n",
       "   'min_samples_split': 8,\n",
       "   'n_estimators': 50},\n",
       "  {'max_depth': 6,\n",
       "   'min_samples_leaf': 2,\n",
       "   'min_samples_split': 8,\n",
       "   'n_estimators': 100},\n",
       "  {'max_depth': 6,\n",
       "   'min_samples_leaf': 2,\n",
       "   'min_samples_split': 8,\n",
       "   'n_estimators': 200},\n",
       "  {'max_depth': 6,\n",
       "   'min_samples_leaf': 4,\n",
       "   'min_samples_split': 2,\n",
       "   'n_estimators': 50},\n",
       "  {'max_depth': 6,\n",
       "   'min_samples_leaf': 4,\n",
       "   'min_samples_split': 2,\n",
       "   'n_estimators': 100},\n",
       "  {'max_depth': 6,\n",
       "   'min_samples_leaf': 4,\n",
       "   'min_samples_split': 2,\n",
       "   'n_estimators': 200},\n",
       "  {'max_depth': 6,\n",
       "   'min_samples_leaf': 4,\n",
       "   'min_samples_split': 4,\n",
       "   'n_estimators': 50},\n",
       "  {'max_depth': 6,\n",
       "   'min_samples_leaf': 4,\n",
       "   'min_samples_split': 4,\n",
       "   'n_estimators': 100},\n",
       "  {'max_depth': 6,\n",
       "   'min_samples_leaf': 4,\n",
       "   'min_samples_split': 4,\n",
       "   'n_estimators': 200},\n",
       "  {'max_depth': 6,\n",
       "   'min_samples_leaf': 4,\n",
       "   'min_samples_split': 6,\n",
       "   'n_estimators': 50},\n",
       "  {'max_depth': 6,\n",
       "   'min_samples_leaf': 4,\n",
       "   'min_samples_split': 6,\n",
       "   'n_estimators': 100},\n",
       "  {'max_depth': 6,\n",
       "   'min_samples_leaf': 4,\n",
       "   'min_samples_split': 6,\n",
       "   'n_estimators': 200},\n",
       "  {'max_depth': 6,\n",
       "   'min_samples_leaf': 4,\n",
       "   'min_samples_split': 8,\n",
       "   'n_estimators': 50},\n",
       "  {'max_depth': 6,\n",
       "   'min_samples_leaf': 4,\n",
       "   'min_samples_split': 8,\n",
       "   'n_estimators': 100},\n",
       "  {'max_depth': 6,\n",
       "   'min_samples_leaf': 4,\n",
       "   'min_samples_split': 8,\n",
       "   'n_estimators': 200},\n",
       "  {'max_depth': 6,\n",
       "   'min_samples_leaf': 6,\n",
       "   'min_samples_split': 2,\n",
       "   'n_estimators': 50},\n",
       "  {'max_depth': 6,\n",
       "   'min_samples_leaf': 6,\n",
       "   'min_samples_split': 2,\n",
       "   'n_estimators': 100},\n",
       "  {'max_depth': 6,\n",
       "   'min_samples_leaf': 6,\n",
       "   'min_samples_split': 2,\n",
       "   'n_estimators': 200},\n",
       "  {'max_depth': 6,\n",
       "   'min_samples_leaf': 6,\n",
       "   'min_samples_split': 4,\n",
       "   'n_estimators': 50},\n",
       "  {'max_depth': 6,\n",
       "   'min_samples_leaf': 6,\n",
       "   'min_samples_split': 4,\n",
       "   'n_estimators': 100},\n",
       "  {'max_depth': 6,\n",
       "   'min_samples_leaf': 6,\n",
       "   'min_samples_split': 4,\n",
       "   'n_estimators': 200},\n",
       "  {'max_depth': 6,\n",
       "   'min_samples_leaf': 6,\n",
       "   'min_samples_split': 6,\n",
       "   'n_estimators': 50},\n",
       "  {'max_depth': 6,\n",
       "   'min_samples_leaf': 6,\n",
       "   'min_samples_split': 6,\n",
       "   'n_estimators': 100},\n",
       "  {'max_depth': 6,\n",
       "   'min_samples_leaf': 6,\n",
       "   'min_samples_split': 6,\n",
       "   'n_estimators': 200},\n",
       "  {'max_depth': 6,\n",
       "   'min_samples_leaf': 6,\n",
       "   'min_samples_split': 8,\n",
       "   'n_estimators': 50},\n",
       "  {'max_depth': 6,\n",
       "   'min_samples_leaf': 6,\n",
       "   'min_samples_split': 8,\n",
       "   'n_estimators': 100},\n",
       "  {'max_depth': 6,\n",
       "   'min_samples_leaf': 6,\n",
       "   'min_samples_split': 8,\n",
       "   'n_estimators': 200},\n",
       "  {'max_depth': 6,\n",
       "   'min_samples_leaf': 8,\n",
       "   'min_samples_split': 2,\n",
       "   'n_estimators': 50},\n",
       "  {'max_depth': 6,\n",
       "   'min_samples_leaf': 8,\n",
       "   'min_samples_split': 2,\n",
       "   'n_estimators': 100},\n",
       "  {'max_depth': 6,\n",
       "   'min_samples_leaf': 8,\n",
       "   'min_samples_split': 2,\n",
       "   'n_estimators': 200},\n",
       "  {'max_depth': 6,\n",
       "   'min_samples_leaf': 8,\n",
       "   'min_samples_split': 4,\n",
       "   'n_estimators': 50},\n",
       "  {'max_depth': 6,\n",
       "   'min_samples_leaf': 8,\n",
       "   'min_samples_split': 4,\n",
       "   'n_estimators': 100},\n",
       "  {'max_depth': 6,\n",
       "   'min_samples_leaf': 8,\n",
       "   'min_samples_split': 4,\n",
       "   'n_estimators': 200},\n",
       "  {'max_depth': 6,\n",
       "   'min_samples_leaf': 8,\n",
       "   'min_samples_split': 6,\n",
       "   'n_estimators': 50},\n",
       "  {'max_depth': 6,\n",
       "   'min_samples_leaf': 8,\n",
       "   'min_samples_split': 6,\n",
       "   'n_estimators': 100},\n",
       "  {'max_depth': 6,\n",
       "   'min_samples_leaf': 8,\n",
       "   'min_samples_split': 6,\n",
       "   'n_estimators': 200},\n",
       "  {'max_depth': 6,\n",
       "   'min_samples_leaf': 8,\n",
       "   'min_samples_split': 8,\n",
       "   'n_estimators': 50},\n",
       "  {'max_depth': 6,\n",
       "   'min_samples_leaf': 8,\n",
       "   'min_samples_split': 8,\n",
       "   'n_estimators': 100},\n",
       "  {'max_depth': 6,\n",
       "   'min_samples_leaf': 8,\n",
       "   'min_samples_split': 8,\n",
       "   'n_estimators': 200},\n",
       "  {'max_depth': 8,\n",
       "   'min_samples_leaf': 2,\n",
       "   'min_samples_split': 2,\n",
       "   'n_estimators': 50},\n",
       "  {'max_depth': 8,\n",
       "   'min_samples_leaf': 2,\n",
       "   'min_samples_split': 2,\n",
       "   'n_estimators': 100},\n",
       "  {'max_depth': 8,\n",
       "   'min_samples_leaf': 2,\n",
       "   'min_samples_split': 2,\n",
       "   'n_estimators': 200},\n",
       "  {'max_depth': 8,\n",
       "   'min_samples_leaf': 2,\n",
       "   'min_samples_split': 4,\n",
       "   'n_estimators': 50},\n",
       "  {'max_depth': 8,\n",
       "   'min_samples_leaf': 2,\n",
       "   'min_samples_split': 4,\n",
       "   'n_estimators': 100},\n",
       "  {'max_depth': 8,\n",
       "   'min_samples_leaf': 2,\n",
       "   'min_samples_split': 4,\n",
       "   'n_estimators': 200},\n",
       "  {'max_depth': 8,\n",
       "   'min_samples_leaf': 2,\n",
       "   'min_samples_split': 6,\n",
       "   'n_estimators': 50},\n",
       "  {'max_depth': 8,\n",
       "   'min_samples_leaf': 2,\n",
       "   'min_samples_split': 6,\n",
       "   'n_estimators': 100},\n",
       "  {'max_depth': 8,\n",
       "   'min_samples_leaf': 2,\n",
       "   'min_samples_split': 6,\n",
       "   'n_estimators': 200},\n",
       "  {'max_depth': 8,\n",
       "   'min_samples_leaf': 2,\n",
       "   'min_samples_split': 8,\n",
       "   'n_estimators': 50},\n",
       "  {'max_depth': 8,\n",
       "   'min_samples_leaf': 2,\n",
       "   'min_samples_split': 8,\n",
       "   'n_estimators': 100},\n",
       "  {'max_depth': 8,\n",
       "   'min_samples_leaf': 2,\n",
       "   'min_samples_split': 8,\n",
       "   'n_estimators': 200},\n",
       "  {'max_depth': 8,\n",
       "   'min_samples_leaf': 4,\n",
       "   'min_samples_split': 2,\n",
       "   'n_estimators': 50},\n",
       "  {'max_depth': 8,\n",
       "   'min_samples_leaf': 4,\n",
       "   'min_samples_split': 2,\n",
       "   'n_estimators': 100},\n",
       "  {'max_depth': 8,\n",
       "   'min_samples_leaf': 4,\n",
       "   'min_samples_split': 2,\n",
       "   'n_estimators': 200},\n",
       "  {'max_depth': 8,\n",
       "   'min_samples_leaf': 4,\n",
       "   'min_samples_split': 4,\n",
       "   'n_estimators': 50},\n",
       "  {'max_depth': 8,\n",
       "   'min_samples_leaf': 4,\n",
       "   'min_samples_split': 4,\n",
       "   'n_estimators': 100},\n",
       "  {'max_depth': 8,\n",
       "   'min_samples_leaf': 4,\n",
       "   'min_samples_split': 4,\n",
       "   'n_estimators': 200},\n",
       "  {'max_depth': 8,\n",
       "   'min_samples_leaf': 4,\n",
       "   'min_samples_split': 6,\n",
       "   'n_estimators': 50},\n",
       "  {'max_depth': 8,\n",
       "   'min_samples_leaf': 4,\n",
       "   'min_samples_split': 6,\n",
       "   'n_estimators': 100},\n",
       "  {'max_depth': 8,\n",
       "   'min_samples_leaf': 4,\n",
       "   'min_samples_split': 6,\n",
       "   'n_estimators': 200},\n",
       "  {'max_depth': 8,\n",
       "   'min_samples_leaf': 4,\n",
       "   'min_samples_split': 8,\n",
       "   'n_estimators': 50},\n",
       "  {'max_depth': 8,\n",
       "   'min_samples_leaf': 4,\n",
       "   'min_samples_split': 8,\n",
       "   'n_estimators': 100},\n",
       "  {'max_depth': 8,\n",
       "   'min_samples_leaf': 4,\n",
       "   'min_samples_split': 8,\n",
       "   'n_estimators': 200},\n",
       "  {'max_depth': 8,\n",
       "   'min_samples_leaf': 6,\n",
       "   'min_samples_split': 2,\n",
       "   'n_estimators': 50},\n",
       "  {'max_depth': 8,\n",
       "   'min_samples_leaf': 6,\n",
       "   'min_samples_split': 2,\n",
       "   'n_estimators': 100},\n",
       "  {'max_depth': 8,\n",
       "   'min_samples_leaf': 6,\n",
       "   'min_samples_split': 2,\n",
       "   'n_estimators': 200},\n",
       "  {'max_depth': 8,\n",
       "   'min_samples_leaf': 6,\n",
       "   'min_samples_split': 4,\n",
       "   'n_estimators': 50},\n",
       "  {'max_depth': 8,\n",
       "   'min_samples_leaf': 6,\n",
       "   'min_samples_split': 4,\n",
       "   'n_estimators': 100},\n",
       "  {'max_depth': 8,\n",
       "   'min_samples_leaf': 6,\n",
       "   'min_samples_split': 4,\n",
       "   'n_estimators': 200},\n",
       "  {'max_depth': 8,\n",
       "   'min_samples_leaf': 6,\n",
       "   'min_samples_split': 6,\n",
       "   'n_estimators': 50},\n",
       "  {'max_depth': 8,\n",
       "   'min_samples_leaf': 6,\n",
       "   'min_samples_split': 6,\n",
       "   'n_estimators': 100},\n",
       "  {'max_depth': 8,\n",
       "   'min_samples_leaf': 6,\n",
       "   'min_samples_split': 6,\n",
       "   'n_estimators': 200},\n",
       "  {'max_depth': 8,\n",
       "   'min_samples_leaf': 6,\n",
       "   'min_samples_split': 8,\n",
       "   'n_estimators': 50},\n",
       "  {'max_depth': 8,\n",
       "   'min_samples_leaf': 6,\n",
       "   'min_samples_split': 8,\n",
       "   'n_estimators': 100},\n",
       "  {'max_depth': 8,\n",
       "   'min_samples_leaf': 6,\n",
       "   'min_samples_split': 8,\n",
       "   'n_estimators': 200},\n",
       "  {'max_depth': 8,\n",
       "   'min_samples_leaf': 8,\n",
       "   'min_samples_split': 2,\n",
       "   'n_estimators': 50},\n",
       "  {'max_depth': 8,\n",
       "   'min_samples_leaf': 8,\n",
       "   'min_samples_split': 2,\n",
       "   'n_estimators': 100},\n",
       "  {'max_depth': 8,\n",
       "   'min_samples_leaf': 8,\n",
       "   'min_samples_split': 2,\n",
       "   'n_estimators': 200},\n",
       "  {'max_depth': 8,\n",
       "   'min_samples_leaf': 8,\n",
       "   'min_samples_split': 4,\n",
       "   'n_estimators': 50},\n",
       "  {'max_depth': 8,\n",
       "   'min_samples_leaf': 8,\n",
       "   'min_samples_split': 4,\n",
       "   'n_estimators': 100},\n",
       "  {'max_depth': 8,\n",
       "   'min_samples_leaf': 8,\n",
       "   'min_samples_split': 4,\n",
       "   'n_estimators': 200},\n",
       "  {'max_depth': 8,\n",
       "   'min_samples_leaf': 8,\n",
       "   'min_samples_split': 6,\n",
       "   'n_estimators': 50},\n",
       "  {'max_depth': 8,\n",
       "   'min_samples_leaf': 8,\n",
       "   'min_samples_split': 6,\n",
       "   'n_estimators': 100},\n",
       "  {'max_depth': 8,\n",
       "   'min_samples_leaf': 8,\n",
       "   'min_samples_split': 6,\n",
       "   'n_estimators': 200},\n",
       "  {'max_depth': 8,\n",
       "   'min_samples_leaf': 8,\n",
       "   'min_samples_split': 8,\n",
       "   'n_estimators': 50},\n",
       "  {'max_depth': 8,\n",
       "   'min_samples_leaf': 8,\n",
       "   'min_samples_split': 8,\n",
       "   'n_estimators': 100},\n",
       "  {'max_depth': 8,\n",
       "   'min_samples_leaf': 8,\n",
       "   'min_samples_split': 8,\n",
       "   'n_estimators': 200},\n",
       "  {'max_depth': 10,\n",
       "   'min_samples_leaf': 2,\n",
       "   'min_samples_split': 2,\n",
       "   'n_estimators': 50},\n",
       "  {'max_depth': 10,\n",
       "   'min_samples_leaf': 2,\n",
       "   'min_samples_split': 2,\n",
       "   'n_estimators': 100},\n",
       "  {'max_depth': 10,\n",
       "   'min_samples_leaf': 2,\n",
       "   'min_samples_split': 2,\n",
       "   'n_estimators': 200},\n",
       "  {'max_depth': 10,\n",
       "   'min_samples_leaf': 2,\n",
       "   'min_samples_split': 4,\n",
       "   'n_estimators': 50},\n",
       "  {'max_depth': 10,\n",
       "   'min_samples_leaf': 2,\n",
       "   'min_samples_split': 4,\n",
       "   'n_estimators': 100},\n",
       "  {'max_depth': 10,\n",
       "   'min_samples_leaf': 2,\n",
       "   'min_samples_split': 4,\n",
       "   'n_estimators': 200},\n",
       "  {'max_depth': 10,\n",
       "   'min_samples_leaf': 2,\n",
       "   'min_samples_split': 6,\n",
       "   'n_estimators': 50},\n",
       "  {'max_depth': 10,\n",
       "   'min_samples_leaf': 2,\n",
       "   'min_samples_split': 6,\n",
       "   'n_estimators': 100},\n",
       "  {'max_depth': 10,\n",
       "   'min_samples_leaf': 2,\n",
       "   'min_samples_split': 6,\n",
       "   'n_estimators': 200},\n",
       "  {'max_depth': 10,\n",
       "   'min_samples_leaf': 2,\n",
       "   'min_samples_split': 8,\n",
       "   'n_estimators': 50},\n",
       "  {'max_depth': 10,\n",
       "   'min_samples_leaf': 2,\n",
       "   'min_samples_split': 8,\n",
       "   'n_estimators': 100},\n",
       "  {'max_depth': 10,\n",
       "   'min_samples_leaf': 2,\n",
       "   'min_samples_split': 8,\n",
       "   'n_estimators': 200},\n",
       "  {'max_depth': 10,\n",
       "   'min_samples_leaf': 4,\n",
       "   'min_samples_split': 2,\n",
       "   'n_estimators': 50},\n",
       "  {'max_depth': 10,\n",
       "   'min_samples_leaf': 4,\n",
       "   'min_samples_split': 2,\n",
       "   'n_estimators': 100},\n",
       "  {'max_depth': 10,\n",
       "   'min_samples_leaf': 4,\n",
       "   'min_samples_split': 2,\n",
       "   'n_estimators': 200},\n",
       "  {'max_depth': 10,\n",
       "   'min_samples_leaf': 4,\n",
       "   'min_samples_split': 4,\n",
       "   'n_estimators': 50},\n",
       "  {'max_depth': 10,\n",
       "   'min_samples_leaf': 4,\n",
       "   'min_samples_split': 4,\n",
       "   'n_estimators': 100},\n",
       "  {'max_depth': 10,\n",
       "   'min_samples_leaf': 4,\n",
       "   'min_samples_split': 4,\n",
       "   'n_estimators': 200},\n",
       "  {'max_depth': 10,\n",
       "   'min_samples_leaf': 4,\n",
       "   'min_samples_split': 6,\n",
       "   'n_estimators': 50},\n",
       "  {'max_depth': 10,\n",
       "   'min_samples_leaf': 4,\n",
       "   'min_samples_split': 6,\n",
       "   'n_estimators': 100},\n",
       "  {'max_depth': 10,\n",
       "   'min_samples_leaf': 4,\n",
       "   'min_samples_split': 6,\n",
       "   'n_estimators': 200},\n",
       "  {'max_depth': 10,\n",
       "   'min_samples_leaf': 4,\n",
       "   'min_samples_split': 8,\n",
       "   'n_estimators': 50},\n",
       "  {'max_depth': 10,\n",
       "   'min_samples_leaf': 4,\n",
       "   'min_samples_split': 8,\n",
       "   'n_estimators': 100},\n",
       "  {'max_depth': 10,\n",
       "   'min_samples_leaf': 4,\n",
       "   'min_samples_split': 8,\n",
       "   'n_estimators': 200},\n",
       "  {'max_depth': 10,\n",
       "   'min_samples_leaf': 6,\n",
       "   'min_samples_split': 2,\n",
       "   'n_estimators': 50},\n",
       "  {'max_depth': 10,\n",
       "   'min_samples_leaf': 6,\n",
       "   'min_samples_split': 2,\n",
       "   'n_estimators': 100},\n",
       "  {'max_depth': 10,\n",
       "   'min_samples_leaf': 6,\n",
       "   'min_samples_split': 2,\n",
       "   'n_estimators': 200},\n",
       "  {'max_depth': 10,\n",
       "   'min_samples_leaf': 6,\n",
       "   'min_samples_split': 4,\n",
       "   'n_estimators': 50},\n",
       "  {'max_depth': 10,\n",
       "   'min_samples_leaf': 6,\n",
       "   'min_samples_split': 4,\n",
       "   'n_estimators': 100},\n",
       "  {'max_depth': 10,\n",
       "   'min_samples_leaf': 6,\n",
       "   'min_samples_split': 4,\n",
       "   'n_estimators': 200},\n",
       "  {'max_depth': 10,\n",
       "   'min_samples_leaf': 6,\n",
       "   'min_samples_split': 6,\n",
       "   'n_estimators': 50},\n",
       "  {'max_depth': 10,\n",
       "   'min_samples_leaf': 6,\n",
       "   'min_samples_split': 6,\n",
       "   'n_estimators': 100},\n",
       "  {'max_depth': 10,\n",
       "   'min_samples_leaf': 6,\n",
       "   'min_samples_split': 6,\n",
       "   'n_estimators': 200},\n",
       "  {'max_depth': 10,\n",
       "   'min_samples_leaf': 6,\n",
       "   'min_samples_split': 8,\n",
       "   'n_estimators': 50},\n",
       "  {'max_depth': 10,\n",
       "   'min_samples_leaf': 6,\n",
       "   'min_samples_split': 8,\n",
       "   'n_estimators': 100},\n",
       "  {'max_depth': 10,\n",
       "   'min_samples_leaf': 6,\n",
       "   'min_samples_split': 8,\n",
       "   'n_estimators': 200},\n",
       "  {'max_depth': 10,\n",
       "   'min_samples_leaf': 8,\n",
       "   'min_samples_split': 2,\n",
       "   'n_estimators': 50},\n",
       "  {'max_depth': 10,\n",
       "   'min_samples_leaf': 8,\n",
       "   'min_samples_split': 2,\n",
       "   'n_estimators': 100},\n",
       "  {'max_depth': 10,\n",
       "   'min_samples_leaf': 8,\n",
       "   'min_samples_split': 2,\n",
       "   'n_estimators': 200},\n",
       "  {'max_depth': 10,\n",
       "   'min_samples_leaf': 8,\n",
       "   'min_samples_split': 4,\n",
       "   'n_estimators': 50},\n",
       "  {'max_depth': 10,\n",
       "   'min_samples_leaf': 8,\n",
       "   'min_samples_split': 4,\n",
       "   'n_estimators': 100},\n",
       "  {'max_depth': 10,\n",
       "   'min_samples_leaf': 8,\n",
       "   'min_samples_split': 4,\n",
       "   'n_estimators': 200},\n",
       "  {'max_depth': 10,\n",
       "   'min_samples_leaf': 8,\n",
       "   'min_samples_split': 6,\n",
       "   'n_estimators': 50},\n",
       "  {'max_depth': 10,\n",
       "   'min_samples_leaf': 8,\n",
       "   'min_samples_split': 6,\n",
       "   'n_estimators': 100},\n",
       "  {'max_depth': 10,\n",
       "   'min_samples_leaf': 8,\n",
       "   'min_samples_split': 6,\n",
       "   'n_estimators': 200},\n",
       "  {'max_depth': 10,\n",
       "   'min_samples_leaf': 8,\n",
       "   'min_samples_split': 8,\n",
       "   'n_estimators': 50},\n",
       "  {'max_depth': 10,\n",
       "   'min_samples_leaf': 8,\n",
       "   'min_samples_split': 8,\n",
       "   'n_estimators': 100},\n",
       "  {'max_depth': 10,\n",
       "   'min_samples_leaf': 8,\n",
       "   'min_samples_split': 8,\n",
       "   'n_estimators': 200},\n",
       "  {'max_depth': 12,\n",
       "   'min_samples_leaf': 2,\n",
       "   'min_samples_split': 2,\n",
       "   'n_estimators': 50},\n",
       "  {'max_depth': 12,\n",
       "   'min_samples_leaf': 2,\n",
       "   'min_samples_split': 2,\n",
       "   'n_estimators': 100},\n",
       "  {'max_depth': 12,\n",
       "   'min_samples_leaf': 2,\n",
       "   'min_samples_split': 2,\n",
       "   'n_estimators': 200},\n",
       "  {'max_depth': 12,\n",
       "   'min_samples_leaf': 2,\n",
       "   'min_samples_split': 4,\n",
       "   'n_estimators': 50},\n",
       "  {'max_depth': 12,\n",
       "   'min_samples_leaf': 2,\n",
       "   'min_samples_split': 4,\n",
       "   'n_estimators': 100},\n",
       "  {'max_depth': 12,\n",
       "   'min_samples_leaf': 2,\n",
       "   'min_samples_split': 4,\n",
       "   'n_estimators': 200},\n",
       "  {'max_depth': 12,\n",
       "   'min_samples_leaf': 2,\n",
       "   'min_samples_split': 6,\n",
       "   'n_estimators': 50},\n",
       "  {'max_depth': 12,\n",
       "   'min_samples_leaf': 2,\n",
       "   'min_samples_split': 6,\n",
       "   'n_estimators': 100},\n",
       "  {'max_depth': 12,\n",
       "   'min_samples_leaf': 2,\n",
       "   'min_samples_split': 6,\n",
       "   'n_estimators': 200},\n",
       "  {'max_depth': 12,\n",
       "   'min_samples_leaf': 2,\n",
       "   'min_samples_split': 8,\n",
       "   'n_estimators': 50},\n",
       "  {'max_depth': 12,\n",
       "   'min_samples_leaf': 2,\n",
       "   'min_samples_split': 8,\n",
       "   'n_estimators': 100},\n",
       "  {'max_depth': 12,\n",
       "   'min_samples_leaf': 2,\n",
       "   'min_samples_split': 8,\n",
       "   'n_estimators': 200},\n",
       "  {'max_depth': 12,\n",
       "   'min_samples_leaf': 4,\n",
       "   'min_samples_split': 2,\n",
       "   'n_estimators': 50},\n",
       "  {'max_depth': 12,\n",
       "   'min_samples_leaf': 4,\n",
       "   'min_samples_split': 2,\n",
       "   'n_estimators': 100},\n",
       "  {'max_depth': 12,\n",
       "   'min_samples_leaf': 4,\n",
       "   'min_samples_split': 2,\n",
       "   'n_estimators': 200},\n",
       "  {'max_depth': 12,\n",
       "   'min_samples_leaf': 4,\n",
       "   'min_samples_split': 4,\n",
       "   'n_estimators': 50},\n",
       "  {'max_depth': 12,\n",
       "   'min_samples_leaf': 4,\n",
       "   'min_samples_split': 4,\n",
       "   'n_estimators': 100},\n",
       "  {'max_depth': 12,\n",
       "   'min_samples_leaf': 4,\n",
       "   'min_samples_split': 4,\n",
       "   'n_estimators': 200},\n",
       "  {'max_depth': 12,\n",
       "   'min_samples_leaf': 4,\n",
       "   'min_samples_split': 6,\n",
       "   'n_estimators': 50},\n",
       "  {'max_depth': 12,\n",
       "   'min_samples_leaf': 4,\n",
       "   'min_samples_split': 6,\n",
       "   'n_estimators': 100},\n",
       "  {'max_depth': 12,\n",
       "   'min_samples_leaf': 4,\n",
       "   'min_samples_split': 6,\n",
       "   'n_estimators': 200},\n",
       "  {'max_depth': 12,\n",
       "   'min_samples_leaf': 4,\n",
       "   'min_samples_split': 8,\n",
       "   'n_estimators': 50},\n",
       "  {'max_depth': 12,\n",
       "   'min_samples_leaf': 4,\n",
       "   'min_samples_split': 8,\n",
       "   'n_estimators': 100},\n",
       "  {'max_depth': 12,\n",
       "   'min_samples_leaf': 4,\n",
       "   'min_samples_split': 8,\n",
       "   'n_estimators': 200},\n",
       "  {'max_depth': 12,\n",
       "   'min_samples_leaf': 6,\n",
       "   'min_samples_split': 2,\n",
       "   'n_estimators': 50},\n",
       "  {'max_depth': 12,\n",
       "   'min_samples_leaf': 6,\n",
       "   'min_samples_split': 2,\n",
       "   'n_estimators': 100},\n",
       "  {'max_depth': 12,\n",
       "   'min_samples_leaf': 6,\n",
       "   'min_samples_split': 2,\n",
       "   'n_estimators': 200},\n",
       "  {'max_depth': 12,\n",
       "   'min_samples_leaf': 6,\n",
       "   'min_samples_split': 4,\n",
       "   'n_estimators': 50},\n",
       "  {'max_depth': 12,\n",
       "   'min_samples_leaf': 6,\n",
       "   'min_samples_split': 4,\n",
       "   'n_estimators': 100},\n",
       "  {'max_depth': 12,\n",
       "   'min_samples_leaf': 6,\n",
       "   'min_samples_split': 4,\n",
       "   'n_estimators': 200},\n",
       "  {'max_depth': 12,\n",
       "   'min_samples_leaf': 6,\n",
       "   'min_samples_split': 6,\n",
       "   'n_estimators': 50},\n",
       "  {'max_depth': 12,\n",
       "   'min_samples_leaf': 6,\n",
       "   'min_samples_split': 6,\n",
       "   'n_estimators': 100},\n",
       "  {'max_depth': 12,\n",
       "   'min_samples_leaf': 6,\n",
       "   'min_samples_split': 6,\n",
       "   'n_estimators': 200},\n",
       "  {'max_depth': 12,\n",
       "   'min_samples_leaf': 6,\n",
       "   'min_samples_split': 8,\n",
       "   'n_estimators': 50},\n",
       "  {'max_depth': 12,\n",
       "   'min_samples_leaf': 6,\n",
       "   'min_samples_split': 8,\n",
       "   'n_estimators': 100},\n",
       "  {'max_depth': 12,\n",
       "   'min_samples_leaf': 6,\n",
       "   'min_samples_split': 8,\n",
       "   'n_estimators': 200},\n",
       "  {'max_depth': 12,\n",
       "   'min_samples_leaf': 8,\n",
       "   'min_samples_split': 2,\n",
       "   'n_estimators': 50},\n",
       "  {'max_depth': 12,\n",
       "   'min_samples_leaf': 8,\n",
       "   'min_samples_split': 2,\n",
       "   'n_estimators': 100},\n",
       "  {'max_depth': 12,\n",
       "   'min_samples_leaf': 8,\n",
       "   'min_samples_split': 2,\n",
       "   'n_estimators': 200},\n",
       "  {'max_depth': 12,\n",
       "   'min_samples_leaf': 8,\n",
       "   'min_samples_split': 4,\n",
       "   'n_estimators': 50},\n",
       "  {'max_depth': 12,\n",
       "   'min_samples_leaf': 8,\n",
       "   'min_samples_split': 4,\n",
       "   'n_estimators': 100},\n",
       "  {'max_depth': 12,\n",
       "   'min_samples_leaf': 8,\n",
       "   'min_samples_split': 4,\n",
       "   'n_estimators': 200},\n",
       "  {'max_depth': 12,\n",
       "   'min_samples_leaf': 8,\n",
       "   'min_samples_split': 6,\n",
       "   'n_estimators': 50},\n",
       "  {'max_depth': 12,\n",
       "   'min_samples_leaf': 8,\n",
       "   'min_samples_split': 6,\n",
       "   'n_estimators': 100},\n",
       "  {'max_depth': 12,\n",
       "   'min_samples_leaf': 8,\n",
       "   'min_samples_split': 6,\n",
       "   'n_estimators': 200},\n",
       "  {'max_depth': 12,\n",
       "   'min_samples_leaf': 8,\n",
       "   'min_samples_split': 8,\n",
       "   'n_estimators': 50},\n",
       "  {'max_depth': 12,\n",
       "   'min_samples_leaf': 8,\n",
       "   'min_samples_split': 8,\n",
       "   'n_estimators': 100},\n",
       "  {'max_depth': 12,\n",
       "   'min_samples_leaf': 8,\n",
       "   'min_samples_split': 8,\n",
       "   'n_estimators': 200}],\n",
       " 'split0_test_score': array([0.78213508, 0.79084967, 0.79520697, 0.78213508, 0.79084967,\n",
       "        0.79520697, 0.77124183, 0.78213508, 0.78867102, 0.77777778,\n",
       "        0.78867102, 0.78431373, 0.78431373, 0.77777778, 0.78649237,\n",
       "        0.78431373, 0.77777778, 0.78649237, 0.78431373, 0.77777778,\n",
       "        0.78649237, 0.78431373, 0.77777778, 0.78649237, 0.78867102,\n",
       "        0.78213508, 0.78431373, 0.78867102, 0.78213508, 0.78431373,\n",
       "        0.78867102, 0.78213508, 0.78431373, 0.78867102, 0.78213508,\n",
       "        0.78431373, 0.77342048, 0.79084967, 0.78649237, 0.77342048,\n",
       "        0.79084967, 0.78649237, 0.77342048, 0.79084967, 0.78649237,\n",
       "        0.77342048, 0.79084967, 0.78649237, 0.78213508, 0.77995643,\n",
       "        0.79084967, 0.78213508, 0.77995643, 0.79084967, 0.77124183,\n",
       "        0.77559913, 0.78431373, 0.77995643, 0.78213508, 0.77559913,\n",
       "        0.77559913, 0.78649237, 0.77777778, 0.77559913, 0.78649237,\n",
       "        0.77777778, 0.77559913, 0.78649237, 0.77777778, 0.77559913,\n",
       "        0.78649237, 0.77777778, 0.76034858, 0.77777778, 0.76906318,\n",
       "        0.76034858, 0.77777778, 0.76906318, 0.76034858, 0.77777778,\n",
       "        0.76906318, 0.76034858, 0.77777778, 0.76906318, 0.76252723,\n",
       "        0.77342048, 0.77995643, 0.76252723, 0.77342048, 0.77995643,\n",
       "        0.76252723, 0.77342048, 0.77995643, 0.76252723, 0.77342048,\n",
       "        0.77995643, 0.77777778, 0.76470588, 0.77995643, 0.77777778,\n",
       "        0.76470588, 0.77995643, 0.78431373, 0.77995643, 0.77995643,\n",
       "        0.78213508, 0.77995643, 0.77559913, 0.78431373, 0.76688453,\n",
       "        0.77559913, 0.78431373, 0.76688453, 0.77559913, 0.78431373,\n",
       "        0.76688453, 0.77559913, 0.78431373, 0.76688453, 0.77559913,\n",
       "        0.76252723, 0.77124183, 0.77995643, 0.76252723, 0.77124183,\n",
       "        0.77995643, 0.76252723, 0.77124183, 0.77995643, 0.76252723,\n",
       "        0.77124183, 0.77995643, 0.77124183, 0.78213508, 0.78431373,\n",
       "        0.77124183, 0.78213508, 0.78431373, 0.77124183, 0.78213508,\n",
       "        0.78431373, 0.77124183, 0.78213508, 0.78431373, 0.79520697,\n",
       "        0.79084967, 0.78213508, 0.79520697, 0.79084967, 0.78213508,\n",
       "        0.77777778, 0.77559913, 0.76906318, 0.76906318, 0.79084967,\n",
       "        0.78649237, 0.77995643, 0.77995643, 0.77995643, 0.77995643,\n",
       "        0.77995643, 0.77995643, 0.77995643, 0.77995643, 0.77995643,\n",
       "        0.77995643, 0.77995643, 0.77995643, 0.76688453, 0.77342048,\n",
       "        0.78867102, 0.76688453, 0.77342048, 0.78867102, 0.76688453,\n",
       "        0.77342048, 0.78867102, 0.76688453, 0.77342048, 0.78867102,\n",
       "        0.76252723, 0.77124183, 0.77995643, 0.76252723, 0.77124183,\n",
       "        0.77995643, 0.76252723, 0.77124183, 0.77995643, 0.76252723,\n",
       "        0.77124183, 0.77995643]),\n",
       " 'split1_test_score': array([0.78431373, 0.79084967, 0.79302832, 0.78431373, 0.79084967,\n",
       "        0.79302832, 0.78867102, 0.78431373, 0.79084967, 0.79084967,\n",
       "        0.79302832, 0.79084967, 0.80174292, 0.79520697, 0.79302832,\n",
       "        0.80174292, 0.79520697, 0.79302832, 0.80174292, 0.79520697,\n",
       "        0.79302832, 0.80174292, 0.79520697, 0.79302832, 0.77777778,\n",
       "        0.78649237, 0.78649237, 0.77777778, 0.78649237, 0.78649237,\n",
       "        0.77777778, 0.78649237, 0.78649237, 0.77777778, 0.78649237,\n",
       "        0.78649237, 0.77777778, 0.78649237, 0.78867102, 0.77777778,\n",
       "        0.78649237, 0.78867102, 0.77777778, 0.78649237, 0.78867102,\n",
       "        0.77777778, 0.78649237, 0.78867102, 0.79302832, 0.78649237,\n",
       "        0.79520697, 0.79302832, 0.78649237, 0.79520697, 0.77559913,\n",
       "        0.78431373, 0.78649237, 0.78431373, 0.79302832, 0.79302832,\n",
       "        0.78431373, 0.79520697, 0.78649237, 0.78431373, 0.79520697,\n",
       "        0.78649237, 0.78431373, 0.79520697, 0.78649237, 0.78431373,\n",
       "        0.79520697, 0.78649237, 0.78431373, 0.78649237, 0.78649237,\n",
       "        0.78431373, 0.78649237, 0.78649237, 0.78431373, 0.78649237,\n",
       "        0.78649237, 0.78431373, 0.78649237, 0.78649237, 0.78213508,\n",
       "        0.78431373, 0.78867102, 0.78213508, 0.78431373, 0.78867102,\n",
       "        0.78213508, 0.78431373, 0.78867102, 0.78213508, 0.78431373,\n",
       "        0.78867102, 0.78431373, 0.78213508, 0.78867102, 0.78431373,\n",
       "        0.78213508, 0.78867102, 0.79302832, 0.77777778, 0.79084967,\n",
       "        0.79956427, 0.78431373, 0.79084967, 0.79302832, 0.79520697,\n",
       "        0.79084967, 0.79302832, 0.79520697, 0.79084967, 0.79302832,\n",
       "        0.79520697, 0.79084967, 0.79302832, 0.79520697, 0.79084967,\n",
       "        0.77995643, 0.78867102, 0.78649237, 0.77995643, 0.78867102,\n",
       "        0.78649237, 0.77995643, 0.78867102, 0.78649237, 0.77995643,\n",
       "        0.78867102, 0.78649237, 0.78431373, 0.77559913, 0.78867102,\n",
       "        0.78431373, 0.77559913, 0.78867102, 0.78431373, 0.77559913,\n",
       "        0.78867102, 0.78431373, 0.77559913, 0.78867102, 0.79302832,\n",
       "        0.79302832, 0.78431373, 0.79302832, 0.79302832, 0.78431373,\n",
       "        0.79520697, 0.79302832, 0.78213508, 0.77777778, 0.78649237,\n",
       "        0.79520697, 0.79956427, 0.80174292, 0.80174292, 0.79956427,\n",
       "        0.80174292, 0.80174292, 0.79956427, 0.80174292, 0.80174292,\n",
       "        0.79956427, 0.80174292, 0.80174292, 0.78213508, 0.78867102,\n",
       "        0.79084967, 0.78213508, 0.78867102, 0.79084967, 0.78213508,\n",
       "        0.78867102, 0.79084967, 0.78213508, 0.78867102, 0.79084967,\n",
       "        0.79302832, 0.78649237, 0.79084967, 0.79302832, 0.78649237,\n",
       "        0.79084967, 0.79302832, 0.78649237, 0.79084967, 0.79302832,\n",
       "        0.78649237, 0.79084967]),\n",
       " 'split2_test_score': array([0.75599129, 0.75599129, 0.76034858, 0.75599129, 0.75599129,\n",
       "        0.76034858, 0.75163399, 0.76470588, 0.76252723, 0.74945534,\n",
       "        0.76470588, 0.76252723, 0.74945534, 0.76034858, 0.76470588,\n",
       "        0.74945534, 0.76034858, 0.76470588, 0.74945534, 0.76034858,\n",
       "        0.76470588, 0.74945534, 0.76034858, 0.76470588, 0.75163399,\n",
       "        0.76034858, 0.76252723, 0.75163399, 0.76034858, 0.76252723,\n",
       "        0.75163399, 0.76034858, 0.76252723, 0.75163399, 0.76034858,\n",
       "        0.76252723, 0.75599129, 0.76034858, 0.76034858, 0.75599129,\n",
       "        0.76034858, 0.76034858, 0.75599129, 0.76034858, 0.76034858,\n",
       "        0.75599129, 0.76034858, 0.76034858, 0.77559913, 0.77124183,\n",
       "        0.76470588, 0.77559913, 0.77124183, 0.76470588, 0.77124183,\n",
       "        0.77995643, 0.76252723, 0.76688453, 0.76252723, 0.76470588,\n",
       "        0.76252723, 0.76906318, 0.77342048, 0.76252723, 0.76906318,\n",
       "        0.77342048, 0.76252723, 0.76906318, 0.77342048, 0.76252723,\n",
       "        0.76906318, 0.77342048, 0.78431373, 0.79084967, 0.77995643,\n",
       "        0.78431373, 0.79084967, 0.77995643, 0.78431373, 0.79084967,\n",
       "        0.77995643, 0.78431373, 0.79084967, 0.77995643, 0.76688453,\n",
       "        0.76252723, 0.76470588, 0.76688453, 0.76252723, 0.76470588,\n",
       "        0.76688453, 0.76252723, 0.76470588, 0.76688453, 0.76252723,\n",
       "        0.76470588, 0.76688453, 0.76906318, 0.76906318, 0.76688453,\n",
       "        0.76906318, 0.76906318, 0.76906318, 0.77559913, 0.77124183,\n",
       "        0.76906318, 0.76470588, 0.76252723, 0.77124183, 0.76688453,\n",
       "        0.76688453, 0.77124183, 0.76688453, 0.76688453, 0.77124183,\n",
       "        0.76688453, 0.76688453, 0.77124183, 0.76688453, 0.76688453,\n",
       "        0.77777778, 0.78213508, 0.76688453, 0.77777778, 0.78213508,\n",
       "        0.76688453, 0.77777778, 0.78213508, 0.76688453, 0.77777778,\n",
       "        0.78213508, 0.76688453, 0.77777778, 0.77342048, 0.76470588,\n",
       "        0.77777778, 0.77342048, 0.76470588, 0.77777778, 0.77342048,\n",
       "        0.76470588, 0.77777778, 0.77342048, 0.76470588, 0.77777778,\n",
       "        0.77342048, 0.77124183, 0.77777778, 0.77342048, 0.77124183,\n",
       "        0.78649237, 0.77777778, 0.77995643, 0.77124183, 0.77995643,\n",
       "        0.76252723, 0.77995643, 0.77995643, 0.78649237, 0.77995643,\n",
       "        0.77995643, 0.78649237, 0.77995643, 0.77995643, 0.78649237,\n",
       "        0.77995643, 0.77995643, 0.78649237, 0.76252723, 0.77342048,\n",
       "        0.77995643, 0.76252723, 0.77342048, 0.77995643, 0.76252723,\n",
       "        0.77342048, 0.77995643, 0.76252723, 0.77342048, 0.77995643,\n",
       "        0.77342048, 0.77777778, 0.77342048, 0.77342048, 0.77777778,\n",
       "        0.77342048, 0.77342048, 0.77777778, 0.77342048, 0.77342048,\n",
       "        0.77777778, 0.77342048]),\n",
       " 'split3_test_score': array([0.78820961, 0.7860262 , 0.78820961, 0.78820961, 0.7860262 ,\n",
       "        0.78820961, 0.77292576, 0.79039301, 0.78820961, 0.77947598,\n",
       "        0.78384279, 0.7860262 , 0.77292576, 0.77510917, 0.79039301,\n",
       "        0.77292576, 0.77510917, 0.79039301, 0.77292576, 0.77510917,\n",
       "        0.79039301, 0.77292576, 0.77510917, 0.79039301, 0.7860262 ,\n",
       "        0.78384279, 0.78820961, 0.7860262 , 0.78384279, 0.78820961,\n",
       "        0.7860262 , 0.78384279, 0.78820961, 0.7860262 , 0.78384279,\n",
       "        0.78820961, 0.77947598, 0.78165939, 0.79257642, 0.77947598,\n",
       "        0.78165939, 0.79257642, 0.77947598, 0.78165939, 0.79257642,\n",
       "        0.77947598, 0.78165939, 0.79257642, 0.79257642, 0.78820961,\n",
       "        0.79039301, 0.79257642, 0.78820961, 0.79039301, 0.78165939,\n",
       "        0.78384279, 0.78165939, 0.77947598, 0.78165939, 0.7860262 ,\n",
       "        0.78820961, 0.77729258, 0.78165939, 0.78820961, 0.77729258,\n",
       "        0.78165939, 0.78820961, 0.77729258, 0.78165939, 0.78820961,\n",
       "        0.77729258, 0.78165939, 0.77729258, 0.78384279, 0.7860262 ,\n",
       "        0.77729258, 0.78384279, 0.7860262 , 0.77729258, 0.78384279,\n",
       "        0.7860262 , 0.77729258, 0.78384279, 0.7860262 , 0.7860262 ,\n",
       "        0.77729258, 0.78384279, 0.7860262 , 0.77729258, 0.78384279,\n",
       "        0.7860262 , 0.77729258, 0.78384279, 0.7860262 , 0.77729258,\n",
       "        0.78384279, 0.78384279, 0.77729258, 0.78165939, 0.78384279,\n",
       "        0.77729258, 0.78165939, 0.77292576, 0.77074236, 0.78165939,\n",
       "        0.77729258, 0.77729258, 0.78165939, 0.77729258, 0.78384279,\n",
       "        0.78165939, 0.77729258, 0.78384279, 0.78165939, 0.77729258,\n",
       "        0.78384279, 0.78165939, 0.77729258, 0.78384279, 0.78165939,\n",
       "        0.77729258, 0.77292576, 0.77947598, 0.77729258, 0.77292576,\n",
       "        0.77947598, 0.77729258, 0.77292576, 0.77947598, 0.77729258,\n",
       "        0.77292576, 0.77947598, 0.77947598, 0.77947598, 0.78165939,\n",
       "        0.77947598, 0.77947598, 0.78165939, 0.77947598, 0.77947598,\n",
       "        0.78165939, 0.77947598, 0.77947598, 0.78165939, 0.78165939,\n",
       "        0.77729258, 0.76419214, 0.78165939, 0.77729258, 0.76419214,\n",
       "        0.78165939, 0.7860262 , 0.77510917, 0.77074236, 0.77729258,\n",
       "        0.77074236, 0.78384279, 0.78165939, 0.77947598, 0.78384279,\n",
       "        0.78165939, 0.77947598, 0.78384279, 0.78165939, 0.77947598,\n",
       "        0.78384279, 0.78165939, 0.77947598, 0.77729258, 0.76637555,\n",
       "        0.77292576, 0.77729258, 0.76637555, 0.77292576, 0.77729258,\n",
       "        0.76637555, 0.77292576, 0.77729258, 0.76637555, 0.77292576,\n",
       "        0.78820961, 0.77729258, 0.77729258, 0.78820961, 0.77729258,\n",
       "        0.77729258, 0.78820961, 0.77729258, 0.77729258, 0.78820961,\n",
       "        0.77729258, 0.77729258]),\n",
       " 'split4_test_score': array([0.77729258, 0.78165939, 0.77729258, 0.77729258, 0.78165939,\n",
       "        0.77729258, 0.76419214, 0.77292576, 0.77074236, 0.77947598,\n",
       "        0.77292576, 0.77947598, 0.77292576, 0.77292576, 0.76637555,\n",
       "        0.77292576, 0.77292576, 0.76637555, 0.77292576, 0.77292576,\n",
       "        0.76637555, 0.77292576, 0.77292576, 0.76637555, 0.77074236,\n",
       "        0.77292576, 0.76419214, 0.77074236, 0.77292576, 0.76419214,\n",
       "        0.77074236, 0.77292576, 0.76419214, 0.77074236, 0.77292576,\n",
       "        0.76419214, 0.77947598, 0.76855895, 0.76419214, 0.77947598,\n",
       "        0.76855895, 0.76419214, 0.77947598, 0.76855895, 0.76419214,\n",
       "        0.77947598, 0.76855895, 0.76419214, 0.77292576, 0.78165939,\n",
       "        0.77947598, 0.77292576, 0.78165939, 0.77947598, 0.78384279,\n",
       "        0.77729258, 0.77729258, 0.78165939, 0.7860262 , 0.78165939,\n",
       "        0.78820961, 0.77947598, 0.7860262 , 0.78820961, 0.77947598,\n",
       "        0.7860262 , 0.78820961, 0.77947598, 0.7860262 , 0.78820961,\n",
       "        0.77947598, 0.7860262 , 0.77074236, 0.77729258, 0.78384279,\n",
       "        0.77074236, 0.77729258, 0.78384279, 0.77074236, 0.77729258,\n",
       "        0.78384279, 0.77074236, 0.77729258, 0.78384279, 0.77292576,\n",
       "        0.77729258, 0.78165939, 0.77292576, 0.77729258, 0.78165939,\n",
       "        0.77292576, 0.77729258, 0.78165939, 0.77292576, 0.77729258,\n",
       "        0.78165939, 0.78165939, 0.78384279, 0.77947598, 0.78165939,\n",
       "        0.78384279, 0.77947598, 0.78165939, 0.79257642, 0.79039301,\n",
       "        0.7860262 , 0.77947598, 0.79039301, 0.78384279, 0.78820961,\n",
       "        0.79475983, 0.78384279, 0.78820961, 0.79475983, 0.78384279,\n",
       "        0.78820961, 0.79475983, 0.78384279, 0.78820961, 0.79475983,\n",
       "        0.80567686, 0.79039301, 0.7860262 , 0.80567686, 0.79039301,\n",
       "        0.7860262 , 0.80567686, 0.79039301, 0.7860262 , 0.80567686,\n",
       "        0.79039301, 0.7860262 , 0.78165939, 0.77510917, 0.7860262 ,\n",
       "        0.78165939, 0.77510917, 0.7860262 , 0.78165939, 0.77510917,\n",
       "        0.7860262 , 0.78165939, 0.77510917, 0.7860262 , 0.77729258,\n",
       "        0.79475983, 0.78165939, 0.77729258, 0.79475983, 0.78165939,\n",
       "        0.7860262 , 0.78820961, 0.79039301, 0.77947598, 0.79257642,\n",
       "        0.78165939, 0.79694323, 0.78384279, 0.79475983, 0.79694323,\n",
       "        0.78384279, 0.79475983, 0.79694323, 0.78384279, 0.79475983,\n",
       "        0.79694323, 0.78384279, 0.79475983, 0.77729258, 0.78165939,\n",
       "        0.79475983, 0.77729258, 0.78165939, 0.79475983, 0.77729258,\n",
       "        0.78165939, 0.79475983, 0.77729258, 0.78165939, 0.79475983,\n",
       "        0.79257642, 0.80131004, 0.79257642, 0.79257642, 0.80131004,\n",
       "        0.79257642, 0.79257642, 0.80131004, 0.79257642, 0.79257642,\n",
       "        0.80131004, 0.79257642]),\n",
       " 'mean_test_score': array([0.77758845, 0.78107524, 0.78281721, 0.77758845, 0.78107524,\n",
       "        0.78281721, 0.76973295, 0.77889469, 0.78019998, 0.77540695,\n",
       "        0.78063476, 0.78063856, 0.7762727 , 0.77627365, 0.78019903,\n",
       "        0.7762727 , 0.77627365, 0.78019903, 0.7762727 , 0.77627365,\n",
       "        0.78019903, 0.7762727 , 0.77627365, 0.78019903, 0.77497027,\n",
       "        0.77714892, 0.77714702, 0.77497027, 0.77714892, 0.77714702,\n",
       "        0.77497027, 0.77714892, 0.77714702, 0.77497027, 0.77714892,\n",
       "        0.77714702, 0.7732283 , 0.77758179, 0.77845611, 0.7732283 ,\n",
       "        0.77758179, 0.77845611, 0.7732283 , 0.77758179, 0.77845611,\n",
       "        0.7732283 , 0.77758179, 0.77845611, 0.78325294, 0.78151193,\n",
       "        0.7841263 , 0.78325294, 0.78151193, 0.7841263 , 0.77671699,\n",
       "        0.78020093, 0.77845706, 0.77845801, 0.78107524, 0.78020378,\n",
       "        0.77977186, 0.78150622, 0.78107524, 0.77977186, 0.78150622,\n",
       "        0.78107524, 0.77977186, 0.78150622, 0.78107524, 0.77977186,\n",
       "        0.78150622, 0.78107524, 0.77540219, 0.78325104, 0.7810762 ,\n",
       "        0.77540219, 0.78325104, 0.7810762 , 0.77540219, 0.78325104,\n",
       "        0.7810762 , 0.77540219, 0.78325104, 0.7810762 , 0.77409976,\n",
       "        0.77496932, 0.7797671 , 0.77409976, 0.77496932, 0.7797671 ,\n",
       "        0.77409976, 0.77496932, 0.7797671 , 0.77409976, 0.77496932,\n",
       "        0.7797671 , 0.77889564, 0.7754079 , 0.7797652 , 0.77889564,\n",
       "        0.7754079 , 0.7797652 , 0.78019808, 0.77933042, 0.78282007,\n",
       "        0.78281626, 0.77714892, 0.78020569, 0.78194385, 0.78020569,\n",
       "        0.78195051, 0.78194385, 0.78020569, 0.78195051, 0.78194385,\n",
       "        0.78020569, 0.78195051, 0.78194385, 0.78020569, 0.78195051,\n",
       "        0.78064617, 0.78107334, 0.7797671 , 0.78064617, 0.78107334,\n",
       "        0.7797671 , 0.78064617, 0.78107334, 0.7797671 , 0.78064617,\n",
       "        0.78107334, 0.7797671 , 0.77889374, 0.77714797, 0.78107524,\n",
       "        0.77889374, 0.77714797, 0.78107524, 0.77889374, 0.77714797,\n",
       "        0.78107524, 0.77889374, 0.77714797, 0.78107524, 0.78499301,\n",
       "        0.78587018, 0.77670843, 0.78499301, 0.78587018, 0.77670843,\n",
       "        0.78543254, 0.78412821, 0.77933137, 0.77366023, 0.78543349,\n",
       "        0.77932567, 0.78805263, 0.78543159, 0.78848551, 0.78805263,\n",
       "        0.78543159, 0.78848551, 0.78805263, 0.78543159, 0.78848551,\n",
       "        0.78805263, 0.78543159, 0.78848551, 0.7732264 , 0.77670938,\n",
       "        0.78543254, 0.7732264 , 0.77670938, 0.78543254, 0.7732264 ,\n",
       "        0.77670938, 0.78543254, 0.7732264 , 0.77670938, 0.78543254,\n",
       "        0.78195241, 0.78282292, 0.78281912, 0.78195241, 0.78282292,\n",
       "        0.78281912, 0.78195241, 0.78282292, 0.78281912, 0.78195241,\n",
       "        0.78282292, 0.78281912]),\n",
       " 'std_test_score': array([0.01135989, 0.01300105, 0.01282351, 0.01135989, 0.01300105,\n",
       "        0.01282351, 0.01207803, 0.00904464, 0.01141141, 0.01378912,\n",
       "        0.01040799, 0.00975881, 0.01705852, 0.01119737, 0.01215928,\n",
       "        0.01705852, 0.01119737, 0.01215928, 0.01705852, 0.01119737,\n",
       "        0.01215928, 0.01705852, 0.01119737, 0.01215928, 0.01326864,\n",
       "        0.00956092, 0.01133707, 0.01326864, 0.00956092, 0.01133707,\n",
       "        0.01326864, 0.00956092, 0.01133707, 0.01326864, 0.00956092,\n",
       "        0.01133707, 0.0088985 , 0.01140576, 0.01341382, 0.0088985 ,\n",
       "        0.01140576, 0.01341382, 0.0088985 , 0.01140576, 0.01341382,\n",
       "        0.0088985 , 0.01140576, 0.01341382, 0.00835424, 0.00595953,\n",
       "        0.0110094 , 0.00835424, 0.00595953, 0.0110094 , 0.00522319,\n",
       "        0.00346044, 0.00853507, 0.00602935, 0.01012799, 0.0096112 ,\n",
       "        0.00977557, 0.00882358, 0.00497327, 0.00977557, 0.00882358,\n",
       "        0.00497327, 0.00977557, 0.00882358, 0.00497327, 0.00977557,\n",
       "        0.00882358, 0.00497327, 0.00906344, 0.00517794, 0.00643518,\n",
       "        0.00906344, 0.00517794, 0.00643518, 0.00906344, 0.00517794,\n",
       "        0.00643518, 0.00906344, 0.00517794, 0.00643518, 0.00887882,\n",
       "        0.00714587, 0.00807896, 0.00887882, 0.00714587, 0.00807896,\n",
       "        0.00887882, 0.00714587, 0.00807896, 0.00887882, 0.00714587,\n",
       "        0.00807896, 0.00643404, 0.00741273, 0.00628578, 0.00643404,\n",
       "        0.00741273, 0.00628578, 0.0084919 , 0.00729296, 0.00728598,\n",
       "        0.01010863, 0.00662543, 0.01051606, 0.00732469, 0.01146504,\n",
       "        0.01010626, 0.00732469, 0.01146504, 0.01010626, 0.00732469,\n",
       "        0.01146504, 0.01010626, 0.00732469, 0.01146504, 0.01010626,\n",
       "        0.01396267, 0.00785812, 0.00707795, 0.01396267, 0.00785812,\n",
       "        0.00707795, 0.01396267, 0.00785812, 0.00707795, 0.01396267,\n",
       "        0.00785812, 0.00707795, 0.0044082 , 0.00318561, 0.00849697,\n",
       "        0.0044082 , 0.00318561, 0.00849697, 0.0044082 , 0.00318561,\n",
       "        0.00849697, 0.0044082 , 0.00318561, 0.00849697, 0.00763362,\n",
       "        0.00875934, 0.00772454, 0.00763362, 0.00875934, 0.00772454,\n",
       "        0.00582833, 0.0065199 , 0.00712565, 0.00415386, 0.00596239,\n",
       "        0.01153156, 0.00848976, 0.00827971, 0.00863731, 0.00848976,\n",
       "        0.00827971, 0.00863731, 0.00848976, 0.00827971, 0.00863731,\n",
       "        0.00848976, 0.00827971, 0.00863731, 0.00730922, 0.00769422,\n",
       "        0.00791503, 0.00730922, 0.00769422, 0.00791503, 0.00730922,\n",
       "        0.00769422, 0.00791503, 0.00730922, 0.00769422, 0.00791503,\n",
       "        0.01204018, 0.01044412, 0.0075732 , 0.01204018, 0.01044412,\n",
       "        0.0075732 , 0.01204018, 0.01044412, 0.0075732 , 0.01204018,\n",
       "        0.01044412, 0.0075732 ]),\n",
       " 'rank_test_score': array([130,  66,  41, 130,  66,  41, 192, 119,  94, 166,  86,  85, 160,\n",
       "        156,  95, 160, 156,  95, 160, 156,  95, 160, 156,  95, 171, 136,\n",
       "        145, 171, 136, 145, 171, 136, 145, 171, 136, 145, 184, 132, 126,\n",
       "        184, 132, 126, 184, 132, 126, 184, 132, 126,  26,  56,  24,  26,\n",
       "         56,  24, 149,  93, 125, 124,  66,  92, 100,  58,  66, 100,  58,\n",
       "         66, 100,  58,  66, 100,  58,  66, 167,  28,  62, 167,  28,  62,\n",
       "        167,  28,  62, 167,  28,  62, 179, 175, 104, 179, 175, 104, 179,\n",
       "        175, 104, 179, 175, 104, 117, 164, 112, 117, 164, 112,  99, 115,\n",
       "         36,  43, 136,  87,  52,  87,  48,  52,  87,  48,  52,  87,  48,\n",
       "         52,  87,  48,  81,  77, 104,  81,  77, 104,  81,  77, 104,  81,\n",
       "         77, 104, 120, 141,  66, 120, 141,  66, 120, 141,  66, 120, 141,\n",
       "         66,  21,   9, 154,  21,   9, 154,  12,  23, 114, 183,  11, 116,\n",
       "          5,  17,   1,   5,  17,   1,   5,  17,   1,   5,  17,   1, 188,\n",
       "        150,  13, 188, 150,  13, 188, 150,  13, 188, 150,  13,  44,  32,\n",
       "         37,  44,  32,  37,  44,  32,  37,  44,  32,  37], dtype=int32)}"
      ]
     },
     "execution_count": 18,
     "metadata": {},
     "output_type": "execute_result"
    }
   ],
   "source": [
    "grid_search.cv_results_"
   ]
  },
  {
   "cell_type": "code",
   "execution_count": 98,
   "metadata": {
    "execution": {
     "iopub.execute_input": "2022-07-18T12:37:45.693588Z",
     "iopub.status.busy": "2022-07-18T12:37:45.693024Z",
     "iopub.status.idle": "2022-07-18T12:37:45.700591Z",
     "shell.execute_reply": "2022-07-18T12:37:45.699214Z",
     "shell.execute_reply.started": "2022-07-18T12:37:45.693552Z"
    }
   },
   "outputs": [
    {
     "data": {
      "text/plain": [
       "0.7884855057986319"
      ]
     },
     "execution_count": 98,
     "metadata": {},
     "output_type": "execute_result"
    }
   ],
   "source": [
    "grid_search.best_score_"
   ]
  },
  {
   "cell_type": "code",
   "execution_count": 99,
   "metadata": {
    "execution": {
     "iopub.execute_input": "2022-07-18T12:38:26.485101Z",
     "iopub.status.busy": "2022-07-18T12:38:26.484635Z",
     "iopub.status.idle": "2022-07-18T12:38:26.491850Z",
     "shell.execute_reply": "2022-07-18T12:38:26.490979Z",
     "shell.execute_reply.started": "2022-07-18T12:38:26.485065Z"
    }
   },
   "outputs": [
    {
     "data": {
      "text/plain": [
       "{'max_depth': 12,\n",
       " 'min_samples_leaf': 4,\n",
       " 'min_samples_split': 2,\n",
       " 'n_estimators': 200}"
      ]
     },
     "execution_count": 99,
     "metadata": {},
     "output_type": "execute_result"
    }
   ],
   "source": [
    "grid_search.best_params_"
   ]
  },
  {
   "cell_type": "code",
   "execution_count": 100,
   "metadata": {
    "execution": {
     "iopub.execute_input": "2022-07-18T12:38:31.001820Z",
     "iopub.status.busy": "2022-07-18T12:38:31.001386Z",
     "iopub.status.idle": "2022-07-18T12:38:31.062614Z",
     "shell.execute_reply": "2022-07-18T12:38:31.061646Z",
     "shell.execute_reply.started": "2022-07-18T12:38:31.001772Z"
    }
   },
   "outputs": [
    {
     "data": {
      "text/plain": [
       "0.8016276703967447"
      ]
     },
     "execution_count": 100,
     "metadata": {},
     "output_type": "execute_result"
    }
   ],
   "source": [
    "best_model = grid_search.best_estimator_\n",
    "accuracy_score(y_test, best_model.predict(X_test))"
   ]
  },
  {
   "cell_type": "code",
   "execution_count": 101,
   "metadata": {
    "execution": {
     "iopub.execute_input": "2022-07-18T12:41:25.040073Z",
     "iopub.status.busy": "2022-07-18T12:41:25.039696Z",
     "iopub.status.idle": "2022-07-18T12:41:25.096724Z",
     "shell.execute_reply": "2022-07-18T12:41:25.095916Z",
     "shell.execute_reply.started": "2022-07-18T12:41:25.040040Z"
    },
    "jupyter": {
     "outputs_hidden": true
    }
   },
   "outputs": [],
   "source": [
    "pred=best_model.predict(X_test)"
   ]
  },
  {
   "cell_type": "code",
   "execution_count": 102,
   "metadata": {
    "execution": {
     "iopub.execute_input": "2022-07-18T12:41:53.424909Z",
     "iopub.status.busy": "2022-07-18T12:41:53.424563Z",
     "iopub.status.idle": "2022-07-18T12:41:53.438284Z",
     "shell.execute_reply": "2022-07-18T12:41:53.437181Z",
     "shell.execute_reply.started": "2022-07-18T12:41:53.424878Z"
    }
   },
   "outputs": [
    {
     "name": "stdout",
     "output_type": "stream",
     "text": [
      "Accuracy: 80.16276703967446 %\n",
      "Recall: 60.85790884718498 %\n",
      "Precision: 82.2463768115942 %\n",
      "f1 score: 69.95377503852079 %\n"
     ]
    }
   ],
   "source": [
    "print(\"Accuracy:\", accuracy_score(y_test, pred)*100,'%') \n",
    "print(\"Recall:\", recall_score(y_test, pred)*100,'%') \n",
    "print('Precision:',precision_score(y_test, pred)*100, '%') \n",
    "print('f1 score:',f1_score(y_test, pred)*100, '%')"
   ]
  },
  {
   "cell_type": "markdown",
   "metadata": {},
   "source": [
    "### Evaluation\n",
    "- RandomForest"
   ]
  },
  {
   "cell_type": "code",
   "execution_count": null,
   "metadata": {
    "execution": {
     "iopub.execute_input": "2022-07-18T12:43:06.880034Z",
     "iopub.status.busy": "2022-07-18T12:43:06.879100Z",
     "iopub.status.idle": "2022-07-18T12:43:07.085544Z",
     "shell.execute_reply": "2022-07-18T12:43:07.084638Z",
     "shell.execute_reply.started": "2022-07-18T12:43:06.880001Z"
    }
   },
   "outputs": [],
   "source": [
    "from sklearn.metrics import confusion_matrix\n",
    "from sklearn.metrics import ConfusionMatrixDisplay\n",
    "plt.figure(figsize=(7,7))\n",
    "ax = plt.gca()\n",
    "cm = confusion_matrix(y_test, pred)\n",
    "disp = ConfusionMatrixDisplay(cm, # confusion matrix\n",
    "                              display_labels=['0', '1']) # [음성레이블, 양성레이블]\n",
    "disp.plot(cmap='Blues', ax=ax) # 출력\n",
    "plt.title('Test set')\n",
    "plt.show()"
   ]
  },
  {
   "cell_type": "code",
   "execution_count": 25,
   "metadata": {
    "execution": {
     "iopub.execute_input": "2022-07-18T12:45:23.586726Z",
     "iopub.status.busy": "2022-07-18T12:45:23.586368Z",
     "iopub.status.idle": "2022-07-18T12:45:23.828140Z",
     "shell.execute_reply": "2022-07-18T12:45:23.827121Z",
     "shell.execute_reply.started": "2022-07-18T12:45:23.586696Z"
    }
   },
   "outputs": [
    {
     "data": {
      "image/png": "[encoded data removed]",
      "text/plain": [
       "<Figure size 576x576 with 1 Axes>"
      ]
     },
     "metadata": {
      "needs_background": "light"
     },
     "output_type": "display_data"
    }
   ],
   "source": [
    "from sklearn.metrics import precision_score, average_precision_score,precision_recall_curve\n",
    "from sklearn.metrics import PrecisionRecallDisplay \n",
    "\n",
    "rfc= best_model.predict_proba(X_test)[:, 1]\n",
    "precision, recall, _ = precision_recall_curve(y_test, rfc)\n",
    "ap_rfc = average_precision_score(y_test, rfc)\n",
    "\n",
    "plt.figure(figsize=(8,8))\n",
    "ax = plt.gca()\n",
    "disp = PrecisionRecallDisplay(precision, recall, average_precision=ap_rfc)\n",
    "disp.plot(ax=ax);\n",
    "plt.grid(True)\n",
    "plt.xticks(np.arange(0,1.1,0.1))\n",
    "plt.yticks(np.arange(0,1.1,0.1))\n",
    "plt.show()"
   ]
  },
  {
   "cell_type": "code",
   "execution_count": 26,
   "metadata": {
    "execution": {
     "iopub.execute_input": "2022-07-18T12:47:10.746732Z",
     "iopub.status.busy": "2022-07-18T12:47:10.746371Z",
     "iopub.status.idle": "2022-07-18T12:47:10.926941Z",
     "shell.execute_reply": "2022-07-18T12:47:10.925908Z",
     "shell.execute_reply.started": "2022-07-18T12:47:10.746702Z"
    }
   },
   "outputs": [
    {
     "data": {
      "image/png": "[encoded data removed]",
      "text/plain": [
       "<Figure size 504x432 with 1 Axes>"
      ]
     },
     "metadata": {
      "needs_background": "light"
     },
     "output_type": "display_data"
    }
   ],
   "source": [
    "from sklearn.metrics import roc_curve\n",
    "from sklearn.metrics import roc_auc_score\n",
    "from sklearn.metrics import RocCurveDisplay\n",
    "\n",
    "auc_rfc = roc_auc_score(y_test, rfc)\n",
    "fprs_rfc, tprs_rfc, _ = roc_curve(y_test, rfc)\n",
    "\n",
    "\n",
    "plt.figure(figsize=(7,6))\n",
    "ax = plt.gca()\n",
    "disp = RocCurveDisplay(fpr=fprs_rfc, tpr=tprs_rfc, roc_auc=auc_rfc, estimator_name='random forest')\n",
    "disp.plot(ax=ax)\n",
    "plt.show()"
   ]
  },
  {
   "cell_type": "markdown",
   "metadata": {},
   "source": [
    "### Deep Learning\n",
    "- MLP"
   ]
  },
  {
   "cell_type": "code",
   "execution_count": 40,
   "metadata": {
    "execution": {
     "iopub.execute_input": "2022-07-18T12:49:27.345391Z",
     "iopub.status.busy": "2022-07-18T12:49:27.345037Z",
     "iopub.status.idle": "2022-07-18T12:49:41.247249Z",
     "shell.execute_reply": "2022-07-18T12:49:41.246355Z",
     "shell.execute_reply.started": "2022-07-18T12:49:27.345362Z"
    }
   },
   "outputs": [
    {
     "name": "stdout",
     "output_type": "stream",
     "text": [
      "Epoch 1/5\n"
     ]
    },
    {
     "name": "stderr",
     "output_type": "stream",
     "text": [
      "2022-07-19 15:29:21.489154: I tensorflow/core/grappler/optimizers/custom_graph_optimizer_registry.cc:113] Plugin optimizer for device_type GPU is enabled.\n"
     ]
    },
    {
     "name": "stdout",
     "output_type": "stream",
     "text": [
      "179/179 [==============================] - ETA: 0s - loss: 0.0000e+00 - accuracy: 0.3844"
     ]
    },
    {
     "name": "stderr",
     "output_type": "stream",
     "text": [
      "2022-07-19 15:29:25.296390: I tensorflow/core/grappler/optimizers/custom_graph_optimizer_registry.cc:113] Plugin optimizer for device_type GPU is enabled.\n"
     ]
    },
    {
     "name": "stdout",
     "output_type": "stream",
     "text": [
      "179/179 [==============================] - 4s 12ms/step - loss: 0.0000e+00 - accuracy: 0.3844 - val_loss: 0.0000e+00 - val_accuracy: 0.4186\n",
      "Epoch 2/5\n",
      "179/179 [==============================] - 2s 8ms/step - loss: 0.0000e+00 - accuracy: 0.3844 - val_loss: 0.0000e+00 - val_accuracy: 0.4186\n",
      "Epoch 3/5\n",
      "179/179 [==============================] - 1s 8ms/step - loss: 0.0000e+00 - accuracy: 0.3844 - val_loss: 0.0000e+00 - val_accuracy: 0.4186\n",
      "Epoch 4/5\n",
      "179/179 [==============================] - 1s 8ms/step - loss: 0.0000e+00 - accuracy: 0.3844 - val_loss: 0.0000e+00 - val_accuracy: 0.4186\n",
      "Epoch 5/5\n",
      "179/179 [==============================] - 1s 8ms/step - loss: 0.0000e+00 - accuracy: 0.3844 - val_loss: 0.0000e+00 - val_accuracy: 0.4186\n",
      "31/31 [==============================] - 0s 5ms/step - loss: 0.0000e+00 - accuracy: 0.3795\n"
     ]
    }
   ],
   "source": [
    "import tensorflow as tf\n",
    "from tensorflow import keras\n",
    "\n",
    "model = keras.Sequential()\n",
    "\n",
    "model.add(keras.layers.Flatten())  \n",
    "model.add(keras.layers.Dense(256, activation='relu'))\n",
    "model.add(keras.layers.Dense(128, activation='relu'))\n",
    "model.add(keras.layers.Dense(1, activation='softmax'))\n",
    "\n",
    "model.compile(optimizer='adam',\n",
    "              loss='categorical_crossentropy',\n",
    "              metrics=['accuracy'])\n",
    "hist = model.fit(X_train, y_train, \n",
    "                  epochs=5,\n",
    "                  batch_size=9,\n",
    "                  validation_split=0.3 \n",
    "                 )\n",
    "\n",
    "test_loss, test_acc = model.evaluate(X_test, y_test)"
   ]
  },
  {
   "cell_type": "code",
   "execution_count": 41,
   "metadata": {
    "execution": {
     "iopub.execute_input": "2022-07-18T12:50:11.286145Z",
     "iopub.status.busy": "2022-07-18T12:50:11.285766Z",
     "iopub.status.idle": "2022-07-18T12:50:11.292585Z",
     "shell.execute_reply": "2022-07-18T12:50:11.291648Z",
     "shell.execute_reply.started": "2022-07-18T12:50:11.286114Z"
    }
   },
   "outputs": [
    {
     "name": "stdout",
     "output_type": "stream",
     "text": [
      "Model: \"sequential_12\"\n",
      "_________________________________________________________________\n",
      " Layer (type)                Output Shape              Param #   \n",
      "=================================================================\n",
      " flatten_9 (Flatten)         (None, 9)                 0         \n",
      "                                                                 \n",
      " dense_25 (Dense)            (None, 256)               2560      \n",
      "                                                                 \n",
      " dense_26 (Dense)            (None, 128)               32896     \n",
      "                                                                 \n",
      " dense_27 (Dense)            (None, 1)                 129       \n",
      "                                                                 \n",
      "=================================================================\n",
      "Total params: 35,585\n",
      "Trainable params: 35,585\n",
      "Non-trainable params: 0\n",
      "_________________________________________________________________\n"
     ]
    }
   ],
   "source": [
    "model.summary() "
   ]
  },
  {
   "cell_type": "code",
   "execution_count": 42,
   "metadata": {
    "execution": {
     "iopub.execute_input": "2022-07-18T12:50:26.219865Z",
     "iopub.status.busy": "2022-07-18T12:50:26.219520Z",
     "iopub.status.idle": "2022-07-18T12:50:27.364081Z",
     "shell.execute_reply": "2022-07-18T12:50:27.362917Z",
     "shell.execute_reply.started": "2022-07-18T12:50:26.219837Z"
    }
   },
   "outputs": [
    {
     "data": {
      "image/png": "[encoded data removed]",
      "text/plain": [
       "<IPython.core.display.Image object>"
      ]
     },
     "execution_count": 42,
     "metadata": {},
     "output_type": "execute_result"
    }
   ],
   "source": [
    "from tensorflow.keras.utils import plot_model\n",
    "plot_model(model, to_file='model_shapes.png', show_shapes=True)"
   ]
  },
  {
   "cell_type": "code",
   "execution_count": 43,
   "metadata": {
    "execution": {
     "iopub.execute_input": "2022-07-18T07:55:45.852508Z",
     "iopub.status.busy": "2022-07-18T07:55:45.852081Z",
     "iopub.status.idle": "2022-07-18T07:55:45.870727Z",
     "shell.execute_reply": "2022-07-18T07:55:45.869781Z",
     "shell.execute_reply.started": "2022-07-18T07:55:45.852468Z"
    }
   },
   "outputs": [],
   "source": [
    "model.compile(optimizer='adam',\n",
    "              loss='categorical_crossentropy',\n",
    "              metrics=['accuracy'])"
   ]
  },
  {
   "cell_type": "code",
   "execution_count": 44,
   "metadata": {
    "execution": {
     "iopub.execute_input": "2022-07-18T12:50:44.431712Z",
     "iopub.status.busy": "2022-07-18T12:50:44.431078Z",
     "iopub.status.idle": "2022-07-18T12:50:44.599994Z",
     "shell.execute_reply": "2022-07-18T12:50:44.598865Z",
     "shell.execute_reply.started": "2022-07-18T12:50:44.431663Z"
    }
   },
   "outputs": [
    {
     "name": "stdout",
     "output_type": "stream",
     "text": [
      "31/31 [==============================] - 0s 5ms/step - loss: 0.0000e+00 - accuracy: 0.3795\n"
     ]
    },
    {
     "name": "stderr",
     "output_type": "stream",
     "text": [
      "2022-07-19 15:29:40.667815: I tensorflow/core/grappler/optimizers/custom_graph_optimizer_registry.cc:113] Plugin optimizer for device_type GPU is enabled.\n"
     ]
    }
   ],
   "source": [
    "test_loss, test_acc = model.evaluate(X_test, y_test)"
   ]
  },
  {
   "cell_type": "code",
   "execution_count": 45,
   "metadata": {
    "execution": {
     "iopub.execute_input": "2022-07-18T12:50:47.269751Z",
     "iopub.status.busy": "2022-07-18T12:50:47.269016Z",
     "iopub.status.idle": "2022-07-18T12:50:47.274750Z",
     "shell.execute_reply": "2022-07-18T12:50:47.273500Z",
     "shell.execute_reply.started": "2022-07-18T12:50:47.269713Z"
    }
   },
   "outputs": [
    {
     "name": "stdout",
     "output_type": "stream",
     "text": [
      "0.0 0.3794506788253784\n"
     ]
    }
   ],
   "source": [
    "print(test_loss, test_acc)"
   ]
  },
  {
   "cell_type": "code",
   "execution_count": 46,
   "metadata": {
    "execution": {
     "iopub.execute_input": "2022-07-18T12:51:11.042343Z",
     "iopub.status.busy": "2022-07-18T12:51:11.041993Z",
     "iopub.status.idle": "2022-07-18T12:51:11.588251Z",
     "shell.execute_reply": "2022-07-18T12:51:11.587328Z",
     "shell.execute_reply.started": "2022-07-18T12:51:11.042317Z"
    }
   },
   "outputs": [
    {
     "data": {
      "image/png": "[encoded data removed]",
      "text/plain": [
       "<Figure size 504x720 with 2 Axes>"
      ]
     },
     "metadata": {
      "needs_background": "light"
     },
     "output_type": "display_data"
    }
   ],
   "source": [
    "import matplotlib.pyplot as plt\n",
    "plt.figure(figsize=(7,10))\n",
    "\n",
    "plt.subplot(2,1,1)\n",
    "plt.plot(range(1,6), hist.history['loss'], label='Train Loss')\n",
    "plt.plot(range(1,6), hist.history['val_loss'], label=\"Validation Loss\")\n",
    "plt.title(\"Loss per Epoch\", fontsize=20)\n",
    "plt.legend()\n",
    "\n",
    "plt.subplot(2,1,2)\n",
    "plt.plot(range(1,6), hist.history['accuracy'], label='Train Accuracy')\n",
    "plt.plot(range(1,6), hist.history['val_accuracy'], label='Validation Accuracy')\n",
    "plt.title(\"Accuracy per Epoch\", fontsize=20)\n",
    "\n",
    "plt.legend()\n",
    "plt.tight_layout()\n",
    "plt.show()"
   ]
  },
  {
   "cell_type": "markdown",
   "metadata": {},
   "source": [
    "### Deep Learning\n",
    "- DNN"
   ]
  },
  {
   "cell_type": "code",
   "execution_count": 47,
   "metadata": {
    "execution": {
     "iopub.execute_input": "2022-07-18T13:05:57.692876Z",
     "iopub.status.busy": "2022-07-18T13:05:57.692518Z",
     "iopub.status.idle": "2022-07-18T13:05:57.702208Z",
     "shell.execute_reply": "2022-07-18T13:05:57.701289Z",
     "shell.execute_reply.started": "2022-07-18T13:05:57.692845Z"
    }
   },
   "outputs": [],
   "source": [
    "import tensorflow as tf\n",
    "from tensorflow import keras\n",
    "from tensorflow.keras import layers\n",
    "\n",
    "np.random.seed(0)\n",
    "tf.random.set_seed(0)"
   ]
  },
  {
   "cell_type": "code",
   "execution_count": 48,
   "metadata": {
    "execution": {
     "iopub.execute_input": "2022-07-18T12:59:37.353055Z",
     "iopub.status.busy": "2022-07-18T12:59:37.352124Z",
     "iopub.status.idle": "2022-07-18T12:59:37.366476Z",
     "shell.execute_reply": "2022-07-18T12:59:37.365521Z",
     "shell.execute_reply.started": "2022-07-18T12:59:37.353011Z"
    }
   },
   "outputs": [],
   "source": [
    "X_train,X_val,y_train,y_val=train_test_split(X_train, y_train, test_size=0.3, random_state=0)"
   ]
  },
  {
   "cell_type": "code",
   "execution_count": 49,
   "metadata": {
    "execution": {
     "iopub.execute_input": "2022-07-18T13:00:03.058001Z",
     "iopub.status.busy": "2022-07-18T13:00:03.057544Z",
     "iopub.status.idle": "2022-07-18T13:00:03.070247Z",
     "shell.execute_reply": "2022-07-18T13:00:03.069231Z",
     "shell.execute_reply.started": "2022-07-18T13:00:03.057949Z"
    }
   },
   "outputs": [
    {
     "data": {
      "text/plain": [
       "((1605, 9), (688, 9), (983, 9))"
      ]
     },
     "execution_count": 49,
     "metadata": {},
     "output_type": "execute_result"
    }
   ],
   "source": [
    "X_train.shape, X_val.shape, X_test.shape"
   ]
  },
  {
   "cell_type": "code",
   "execution_count": 50,
   "metadata": {
    "execution": {
     "iopub.execute_input": "2022-07-18T13:02:32.939823Z",
     "iopub.status.busy": "2022-07-18T13:02:32.939481Z",
     "iopub.status.idle": "2022-07-18T13:02:32.946693Z",
     "shell.execute_reply": "2022-07-18T13:02:32.945767Z",
     "shell.execute_reply.started": "2022-07-18T13:02:32.939792Z"
    }
   },
   "outputs": [
    {
     "data": {
      "text/plain": [
       "((1605, 1), (688, 1), (983, 1))"
      ]
     },
     "execution_count": 50,
     "metadata": {},
     "output_type": "execute_result"
    }
   ],
   "source": [
    "y_train.shape, y_val.shape, y_test.shape"
   ]
  },
  {
   "cell_type": "code",
   "execution_count": 51,
   "metadata": {
    "execution": {
     "iopub.execute_input": "2022-07-18T13:25:39.866207Z",
     "iopub.status.busy": "2022-07-18T13:25:39.865625Z",
     "iopub.status.idle": "2022-07-18T13:25:39.872244Z",
     "shell.execute_reply": "2022-07-18T13:25:39.871268Z",
     "shell.execute_reply.started": "2022-07-18T13:25:39.866163Z"
    }
   },
   "outputs": [],
   "source": [
    "LEARNING_RATE = 0.001\n",
    "N_EPOCHS = 200\n",
    "N_BATCHS = 100\n",
    "\n",
    "N_TRAIN = X_train.shape[0]\n",
    "N_VAL = X_val.shape[0]\n",
    "N_TEST = X_test.shape[0]"
   ]
  },
  {
   "cell_type": "code",
   "execution_count": 52,
   "metadata": {
    "execution": {
     "iopub.execute_input": "2022-07-18T13:25:41.144351Z",
     "iopub.status.busy": "2022-07-18T13:25:41.143995Z",
     "iopub.status.idle": "2022-07-18T13:25:41.181036Z",
     "shell.execute_reply": "2022-07-18T13:25:41.180127Z",
     "shell.execute_reply.started": "2022-07-18T13:25:41.144323Z"
    }
   },
   "outputs": [],
   "source": [
    "train_dataset = tf.data.Dataset.from_tensor_slices((X_train, y_train))\\\n",
    "                               .shuffle(N_TRAIN)\\\n",
    "                               .batch(N_BATCHS, drop_remainder=True)\n",
    "\n",
    "val_dataset = tf.data.Dataset.from_tensor_slices((X_val, y_val)).batch(N_BATCHS)\n",
    "test_dataset = tf.data.Dataset.from_tensor_slices((X_test, y_test)).batch(N_BATCHS)"
   ]
  },
  {
   "cell_type": "code",
   "execution_count": 58,
   "metadata": {
    "execution": {
     "iopub.execute_input": "2022-07-18T13:25:41.784204Z",
     "iopub.status.busy": "2022-07-18T13:25:41.783643Z",
     "iopub.status.idle": "2022-07-18T13:25:41.795876Z",
     "shell.execute_reply": "2022-07-18T13:25:41.794508Z",
     "shell.execute_reply.started": "2022-07-18T13:25:41.784169Z"
    }
   },
   "outputs": [
    {
     "ename": "SyntaxError",
     "evalue": "invalid syntax (3293153435.py, line 8)",
     "output_type": "error",
     "traceback": [
      "\u001b[0;36m  Input \u001b[0;32mIn [58]\u001b[0;36m\u001b[0m\n\u001b[0;31m    model.add(layers.Dropout(0.3))\u001b[0m\n\u001b[0m    ^\u001b[0m\n\u001b[0;31mSyntaxError\u001b[0m\u001b[0;31m:\u001b[0m invalid syntax\n"
     ]
    }
   ],
   "source": [
    "def create_DNN_model():\n",
    "    model = keras.Sequential()\n",
    "    \n",
    "    # 1. Flatten + Input Layer\n",
    "    model.add(layers.Flatten() \n",
    "    \n",
    "    # 2. Hidden Layer\n",
    "    model.add(layers.Dropout(0.3))\n",
    "    model.add(layers.BatchNormalization())\n",
    "    model.add(layers.Dense(units=256, activation='relu'))\n",
    "    \n",
    "    model.add(layers.Dropout(0.3))\n",
    "    model.add(layers.BatchNormalization())\n",
    "    model.add(layers.Dense(units=256, activation='relu'))\n",
    "    \n",
    "    model.add(layers.Dropout(0.3))\n",
    "    model.add(layers.BatchNormalization())\n",
    "    model.add(layers.Dense(units=128, activation='relu'))\n",
    "    \n",
    "    model.add(layers.Dropout(0.3))\n",
    "    model.add(layers.BatchNormalization())\n",
    "    model.add(layers.Dense(units=128, activation='relu'))\n",
    "    \n",
    "    model.add(layers.Dropout(0.3))\n",
    "    model.add(layers.BatchNormalization())\n",
    "    model.add(layers.Dense(units=64, activation='relu'))\n",
    "    \n",
    "    model.add(layers.Dropout(0.3))\n",
    "    model.add(layers.BatchNormalization())\n",
    "    model.add(layers.Dense(units=64, activation='relu'))\n",
    "    \n",
    "    # 3. Output Layer: 다중분류-unit수: class수, 각 unit이 클래스별 확률 => activation 함수: softmax\n",
    "    model.add(layers.Dense(units=1, activation='sigmoid'))\n",
    "    \n",
    "    return model"
   ]
  },
  {
   "cell_type": "code",
   "execution_count": 59,
   "metadata": {
    "execution": {
     "iopub.execute_input": "2022-07-18T13:25:43.824436Z",
     "iopub.status.busy": "2022-07-18T13:25:43.823039Z",
     "iopub.status.idle": "2022-07-18T13:25:44.034278Z",
     "shell.execute_reply": "2022-07-18T13:25:44.033284Z",
     "shell.execute_reply.started": "2022-07-18T13:25:43.824393Z"
    }
   },
   "outputs": [],
   "source": [
    "model = create_DNN_model()\n",
    "\n",
    "model.compile(optimizer=keras.optimizers.Adam(learning_rate=LEARNING_RATE), \n",
    "              loss='binary_crossentropy',\n",
    "              metrics=['accuracy'])"
   ]
  },
  {
   "cell_type": "code",
   "execution_count": 60,
   "metadata": {
    "execution": {
     "iopub.execute_input": "2022-07-18T13:25:44.768972Z",
     "iopub.status.busy": "2022-07-18T13:25:44.767909Z",
     "iopub.status.idle": "2022-07-18T13:25:44.779371Z",
     "shell.execute_reply": "2022-07-18T13:25:44.778406Z",
     "shell.execute_reply.started": "2022-07-18T13:25:44.768904Z"
    }
   },
   "outputs": [
    {
     "name": "stdout",
     "output_type": "stream",
     "text": [
      "Model: \"sequential_14\"\n",
      "_________________________________________________________________\n",
      " Layer (type)                Output Shape              Param #   \n",
      "=================================================================\n",
      " flatten_11 (Flatten)        (None, 9)                 0         \n",
      "                                                                 \n",
      " dropout_6 (Dropout)         (None, 9)                 0         \n",
      "                                                                 \n",
      " batch_normalization_6 (Batc  (None, 9)                36        \n",
      " hNormalization)                                                 \n",
      "                                                                 \n",
      " dense_35 (Dense)            (None, 256)               2560      \n",
      "                                                                 \n",
      " dropout_7 (Dropout)         (None, 256)               0         \n",
      "                                                                 \n",
      " batch_normalization_7 (Batc  (None, 256)              1024      \n",
      " hNormalization)                                                 \n",
      "                                                                 \n",
      " dense_36 (Dense)            (None, 256)               65792     \n",
      "                                                                 \n",
      " dropout_8 (Dropout)         (None, 256)               0         \n",
      "                                                                 \n",
      " batch_normalization_8 (Batc  (None, 256)              1024      \n",
      " hNormalization)                                                 \n",
      "                                                                 \n",
      " dense_37 (Dense)            (None, 128)               32896     \n",
      "                                                                 \n",
      " dropout_9 (Dropout)         (None, 128)               0         \n",
      "                                                                 \n",
      " batch_normalization_9 (Batc  (None, 128)              512       \n",
      " hNormalization)                                                 \n",
      "                                                                 \n",
      " dense_38 (Dense)            (None, 128)               16512     \n",
      "                                                                 \n",
      " dropout_10 (Dropout)        (None, 128)               0         \n",
      "                                                                 \n",
      " batch_normalization_10 (Bat  (None, 128)              512       \n",
      " chNormalization)                                                \n",
      "                                                                 \n",
      " dense_39 (Dense)            (None, 64)                8256      \n",
      "                                                                 \n",
      " dropout_11 (Dropout)        (None, 64)                0         \n",
      "                                                                 \n",
      " batch_normalization_11 (Bat  (None, 64)               256       \n",
      " chNormalization)                                                \n",
      "                                                                 \n",
      " dense_40 (Dense)            (None, 64)                4160      \n",
      "                                                                 \n",
      " dense_41 (Dense)            (None, 1)                 65        \n",
      "                                                                 \n",
      "=================================================================\n",
      "Total params: 133,605\n",
      "Trainable params: 131,923\n",
      "Non-trainable params: 1,682\n",
      "_________________________________________________________________\n"
     ]
    }
   ],
   "source": [
    "model.summary()"
   ]
  },
  {
   "cell_type": "code",
   "execution_count": 61,
   "metadata": {
    "execution": {
     "iopub.execute_input": "2022-07-18T13:25:46.708487Z",
     "iopub.status.busy": "2022-07-18T13:25:46.708010Z",
     "iopub.status.idle": "2022-07-18T13:26:08.083849Z",
     "shell.execute_reply": "2022-07-18T13:26:08.082973Z",
     "shell.execute_reply.started": "2022-07-18T13:25:46.708438Z"
    }
   },
   "outputs": [
    {
     "name": "stdout",
     "output_type": "stream",
     "text": [
      "Epoch 1/200\n"
     ]
    },
    {
     "ename": "ValueError",
     "evalue": "in user code:\n\n    File \"/Users/han-yechan/miniforge3/envs/tf/lib/python3.8/site-packages/keras/engine/training.py\", line 1051, in train_function  *\n        return step_function(self, iterator)\n    File \"/Users/han-yechan/miniforge3/envs/tf/lib/python3.8/site-packages/keras/engine/training.py\", line 1040, in step_function  **\n        outputs = model.distribute_strategy.run(run_step, args=(data,))\n    File \"/Users/han-yechan/miniforge3/envs/tf/lib/python3.8/site-packages/keras/engine/training.py\", line 1030, in run_step  **\n        outputs = model.train_step(data)\n    File \"/Users/han-yechan/miniforge3/envs/tf/lib/python3.8/site-packages/keras/engine/training.py\", line 889, in train_step\n        y_pred = self(x, training=True)\n    File \"/Users/han-yechan/miniforge3/envs/tf/lib/python3.8/site-packages/keras/utils/traceback_utils.py\", line 67, in error_handler\n        raise e.with_traceback(filtered_tb) from None\n    File \"/Users/han-yechan/miniforge3/envs/tf/lib/python3.8/site-packages/keras/engine/input_spec.py\", line 264, in assert_input_compatibility\n        raise ValueError(f'Input {input_index} of layer \"{layer_name}\" is '\n\n    ValueError: Input 0 of layer \"sequential_14\" is incompatible with the layer: expected shape=(None, 1, 9), found shape=(100, 9)\n",
     "output_type": "error",
     "traceback": [
      "\u001b[0;31m---------------------------------------------------------------------------\u001b[0m",
      "\u001b[0;31mValueError\u001b[0m                                Traceback (most recent call last)",
      "Input \u001b[0;32mIn [61]\u001b[0m, in \u001b[0;36m<cell line: 1>\u001b[0;34m()\u001b[0m\n\u001b[0;32m----> 1\u001b[0m hist \u001b[38;5;241m=\u001b[39m \u001b[43mmodel\u001b[49m\u001b[38;5;241;43m.\u001b[39;49m\u001b[43mfit\u001b[49m\u001b[43m(\u001b[49m\u001b[43mtrain_dataset\u001b[49m\u001b[43m,\u001b[49m\n\u001b[1;32m      2\u001b[0m \u001b[43m                 \u001b[49m\u001b[43mepochs\u001b[49m\u001b[38;5;241;43m=\u001b[39;49m\u001b[43mN_EPOCHS\u001b[49m\u001b[43m,\u001b[49m\n\u001b[1;32m      3\u001b[0m \u001b[43m                 \u001b[49m\u001b[43mvalidation_data\u001b[49m\u001b[38;5;241;43m=\u001b[39;49m\u001b[43mval_dataset\u001b[49m\u001b[43m)\u001b[49m\n",
      "File \u001b[0;32m~/miniforge3/envs/tf/lib/python3.8/site-packages/keras/utils/traceback_utils.py:67\u001b[0m, in \u001b[0;36mfilter_traceback.<locals>.error_handler\u001b[0;34m(*args, **kwargs)\u001b[0m\n\u001b[1;32m     65\u001b[0m \u001b[38;5;28;01mexcept\u001b[39;00m \u001b[38;5;167;01mException\u001b[39;00m \u001b[38;5;28;01mas\u001b[39;00m e:  \u001b[38;5;66;03m# pylint: disable=broad-except\u001b[39;00m\n\u001b[1;32m     66\u001b[0m   filtered_tb \u001b[38;5;241m=\u001b[39m _process_traceback_frames(e\u001b[38;5;241m.\u001b[39m__traceback__)\n\u001b[0;32m---> 67\u001b[0m   \u001b[38;5;28;01mraise\u001b[39;00m e\u001b[38;5;241m.\u001b[39mwith_traceback(filtered_tb) \u001b[38;5;28;01mfrom\u001b[39;00m \u001b[38;5;28mNone\u001b[39m\n\u001b[1;32m     68\u001b[0m \u001b[38;5;28;01mfinally\u001b[39;00m:\n\u001b[1;32m     69\u001b[0m   \u001b[38;5;28;01mdel\u001b[39;00m filtered_tb\n",
      "File \u001b[0;32m/var/folders/br/3dqwpjqx4f71f757xh3fx8g80000gn/T/__autograph_generated_filebj9m254g.py:15\u001b[0m, in \u001b[0;36mouter_factory.<locals>.inner_factory.<locals>.tf__train_function\u001b[0;34m(iterator)\u001b[0m\n\u001b[1;32m     13\u001b[0m \u001b[38;5;28;01mtry\u001b[39;00m:\n\u001b[1;32m     14\u001b[0m     do_return \u001b[38;5;241m=\u001b[39m \u001b[38;5;28;01mTrue\u001b[39;00m\n\u001b[0;32m---> 15\u001b[0m     retval_ \u001b[38;5;241m=\u001b[39m ag__\u001b[38;5;241m.\u001b[39mconverted_call(ag__\u001b[38;5;241m.\u001b[39mld(step_function), (ag__\u001b[38;5;241m.\u001b[39mld(\u001b[38;5;28mself\u001b[39m), ag__\u001b[38;5;241m.\u001b[39mld(iterator)), \u001b[38;5;28;01mNone\u001b[39;00m, fscope)\n\u001b[1;32m     16\u001b[0m \u001b[38;5;28;01mexcept\u001b[39;00m:\n\u001b[1;32m     17\u001b[0m     do_return \u001b[38;5;241m=\u001b[39m \u001b[38;5;28;01mFalse\u001b[39;00m\n",
      "\u001b[0;31mValueError\u001b[0m: in user code:\n\n    File \"/Users/han-yechan/miniforge3/envs/tf/lib/python3.8/site-packages/keras/engine/training.py\", line 1051, in train_function  *\n        return step_function(self, iterator)\n    File \"/Users/han-yechan/miniforge3/envs/tf/lib/python3.8/site-packages/keras/engine/training.py\", line 1040, in step_function  **\n        outputs = model.distribute_strategy.run(run_step, args=(data,))\n    File \"/Users/han-yechan/miniforge3/envs/tf/lib/python3.8/site-packages/keras/engine/training.py\", line 1030, in run_step  **\n        outputs = model.train_step(data)\n    File \"/Users/han-yechan/miniforge3/envs/tf/lib/python3.8/site-packages/keras/engine/training.py\", line 889, in train_step\n        y_pred = self(x, training=True)\n    File \"/Users/han-yechan/miniforge3/envs/tf/lib/python3.8/site-packages/keras/utils/traceback_utils.py\", line 67, in error_handler\n        raise e.with_traceback(filtered_tb) from None\n    File \"/Users/han-yechan/miniforge3/envs/tf/lib/python3.8/site-packages/keras/engine/input_spec.py\", line 264, in assert_input_compatibility\n        raise ValueError(f'Input {input_index} of layer \"{layer_name}\" is '\n\n    ValueError: Input 0 of layer \"sequential_14\" is incompatible with the layer: expected shape=(None, 1, 9), found shape=(100, 9)\n"
     ]
    }
   ],
   "source": [
    "hist = model.fit(train_dataset,\n",
    "                 epochs=N_EPOCHS,\n",
    "                 validation_data=val_dataset)"
   ]
  },
  {
   "cell_type": "code",
   "execution_count": null,
   "metadata": {
    "execution": {
     "iopub.execute_input": "2022-07-18T13:28:30.187749Z",
     "iopub.status.busy": "2022-07-18T13:28:30.187382Z",
     "iopub.status.idle": "2022-07-18T13:28:30.231797Z",
     "shell.execute_reply": "2022-07-18T13:28:30.230935Z",
     "shell.execute_reply.started": "2022-07-18T13:28:30.187720Z"
    }
   },
   "outputs": [],
   "source": [
    "loss, acc = model.evaluate(test_dataset)"
   ]
  },
  {
   "cell_type": "code",
   "execution_count": null,
   "metadata": {
    "execution": {
     "iopub.execute_input": "2022-07-18T13:26:23.371506Z",
     "iopub.status.busy": "2022-07-18T13:26:23.371048Z",
     "iopub.status.idle": "2022-07-18T13:26:24.031757Z",
     "shell.execute_reply": "2022-07-18T13:26:24.030845Z",
     "shell.execute_reply.started": "2022-07-18T13:26:23.371468Z"
    }
   },
   "outputs": [],
   "source": [
    "plt.figure(figsize=(7,6))\n",
    "plt.plot(range(1, N_EPOCHS+1), hist.history['loss'], label='train loss')\n",
    "plt.plot(range(1, N_EPOCHS+1), hist.history['val_loss'], label='validation loss')\n",
    "plt.title(\"LOSS\", fontsize=20)\n",
    "plt.xlabel(\"Epochs\")\n",
    "plt.ylabel(\"Loss\")\n",
    "plt.legend()\n",
    "plt.show()"
   ]
  },
  {
   "cell_type": "code",
   "execution_count": null,
   "metadata": {
    "execution": {
     "iopub.execute_input": "2022-07-18T13:26:28.519174Z",
     "iopub.status.busy": "2022-07-18T13:26:28.518517Z",
     "iopub.status.idle": "2022-07-18T13:26:28.732971Z",
     "shell.execute_reply": "2022-07-18T13:26:28.731849Z",
     "shell.execute_reply.started": "2022-07-18T13:26:28.519138Z"
    }
   },
   "outputs": [],
   "source": []
  },
  {
   "cell_type": "code",
   "execution_count": null,
   "metadata": {
    "execution": {
     "iopub.execute_input": "2022-07-18T13:28:59.129331Z",
     "iopub.status.busy": "2022-07-18T13:28:59.128980Z",
     "iopub.status.idle": "2022-07-18T13:28:59.199796Z",
     "shell.execute_reply": "2022-07-18T13:28:59.198888Z",
     "shell.execute_reply.started": "2022-07-18T13:28:59.129303Z"
    }
   },
   "outputs": [],
   "source": [
    "new_data = X_test[:5]\n",
    "pred = model.predict(new_data)\n",
    "threshold = 0.5\n",
    "result = (pred > threshold).astype(np.int8)\n",
    "result"
   ]
  },
  {
   "cell_type": "code",
   "execution_count": null,
   "metadata": {
    "execution": {
     "iopub.execute_input": "2022-07-18T13:29:18.273195Z",
     "iopub.status.busy": "2022-07-18T13:29:18.272699Z",
     "iopub.status.idle": "2022-07-18T13:29:18.283631Z",
     "shell.execute_reply": "2022-07-18T13:29:18.282509Z",
     "shell.execute_reply.started": "2022-07-18T13:29:18.273161Z"
    }
   },
   "outputs": [],
   "source": [
    "y_test[:5]"
   ]
  },
  {
   "cell_type": "code",
   "execution_count": null,
   "metadata": {},
   "outputs": [],
   "source": []
  }
 ],
 "metadata": {
  "kernelspec": {
   "display_name": "Python 3 (ipykernel)",
   "language": "python",
   "name": "python3"
  },
  "language_info": {
   "codemirror_mode": {
    "name": "ipython",
    "version": 3
   },
   "file_extension": ".py",
   "mimetype": "text/x-python",
   "name": "python",
   "nbconvert_exporter": "python",
   "pygments_lexer": "ipython3",
   "version": "3.8.13"
  }
 },
 "nbformat": 4,
 "nbformat_minor": 4
}
